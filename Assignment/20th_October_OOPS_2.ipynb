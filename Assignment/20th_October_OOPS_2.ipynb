{
 "cells": [
  {
   "cell_type": "markdown",
   "id": "452413b5",
   "metadata": {},
   "source": [
    "## OOPS Concepts - Assignment - 2 - 20th October 2023"
   ]
  },
  {
   "cell_type": "markdown",
   "id": "f4d9a283",
   "metadata": {},
   "source": [
    "### Constructors"
   ]
  },
  {
   "cell_type": "markdown",
   "id": "92c0fee3",
   "metadata": {},
   "source": [
    "#### 1. What is a constructor in Python? Explain its purpose and usage."
   ]
  },
  {
   "cell_type": "markdown",
   "id": "12b390d2",
   "metadata": {},
   "source": [
    "##### Solution:\n",
    "In Python, a constructor is a special method that is automatically called when an object of a class is created. It is defined using the `__init__` method. The purpose of a constructor is to initialize the attributes of the class when an object of the class is created."
   ]
  },
  {
   "cell_type": "markdown",
   "id": "58aa6fd0",
   "metadata": {},
   "source": [
    "#### 2. Differentiate between a parameterless constructor and a parameterized constructor in Python."
   ]
  },
  {
   "cell_type": "markdown",
   "id": "5c22f7e0",
   "metadata": {},
   "source": [
    "##### Solution:\n",
    "\n",
    "In Python, constructors are special functions that are used to initialize objects. There are two types of constructors:\n",
    "\n",
    "1. `Parameterless Constructor`: This is a constructor that does not accept any parameters. It’s also known as the default constructor. When an object is created, this constructor is automatically called to initialize the object with default values."
   ]
  },
  {
   "cell_type": "code",
   "execution_count": 1,
   "id": "9546cf09",
   "metadata": {},
   "outputs": [
    {
     "name": "stdout",
     "output_type": "stream",
     "text": [
      "Default Name\n"
     ]
    }
   ],
   "source": [
    "class MyClass:\n",
    "    def __init__(self):\n",
    "        self.name = \"Default Name\"\n",
    "\n",
    "obj = MyClass()\n",
    "print(obj.name)"
   ]
  },
  {
   "cell_type": "markdown",
   "id": "917a32b9",
   "metadata": {},
   "source": [
    "2. `Parameterized Constructor`: This type of constructor accepts parameters and is used to assign user-defined values to the object at the time of creation."
   ]
  },
  {
   "cell_type": "code",
   "execution_count": 2,
   "id": "f176bb82",
   "metadata": {},
   "outputs": [
    {
     "name": "stdout",
     "output_type": "stream",
     "text": [
      "Abd\n"
     ]
    }
   ],
   "source": [
    "class MyClass:\n",
    "    def __init__(self, name):\n",
    "        self.name = name\n",
    "\n",
    "obj = MyClass(\"Abd\")\n",
    "print(obj.name)  # Output: Abd"
   ]
  },
  {
   "cell_type": "markdown",
   "id": "a445c35d",
   "metadata": {},
   "source": [
    "#### 3. How do you define a constructor in a Python class? Provide an example."
   ]
  },
  {
   "cell_type": "markdown",
   "id": "c5f9b507",
   "metadata": {},
   "source": [
    "##### Solution:\n",
    "\n",
    "In Python, a constructor is defined using the `__init__` method. This special method is automatically called when an object of the class is created. It can have any number of parameters, including zero."
   ]
  },
  {
   "cell_type": "code",
   "execution_count": 3,
   "id": "bab5e120",
   "metadata": {},
   "outputs": [
    {
     "name": "stdout",
     "output_type": "stream",
     "text": [
      "Abd\n",
      "1234\n"
     ]
    }
   ],
   "source": [
    "class Employee:\n",
    "    def __init__(self, name, id):\n",
    "        self.name = name\n",
    "        self.id = id\n",
    "\n",
    "# Creating an object of the Employee class\n",
    "emp = Employee(\"Abd\", 1234)\n",
    "\n",
    "# Accessing attributes\n",
    "print(emp.name)  # Output: Abd\n",
    "print(emp.id)    # Output: 1234"
   ]
  },
  {
   "cell_type": "markdown",
   "id": "28dc789c",
   "metadata": {},
   "source": [
    "#### 4. Explain the `__init__` method in Python and its role in constructors."
   ]
  },
  {
   "cell_type": "markdown",
   "id": "3e8d2289",
   "metadata": {},
   "source": [
    "#### Solution:\n",
    "\n",
    "The `__init__` method in Python is a special method that serves as a constructor for a class. It is automatically called when an instance (object) of the class is created. The name __init__ is an abbreviation of “initialization”.\n",
    "\n",
    "Here’s what it does:\n",
    "\n",
    "1. It initializes the attributes of the class.\n",
    "2. It runs automatically when a new object is created from the class, allowing the class to set up default or initial state of      the object.\n",
    "3. It can accept any number of arguments, allowing us to pass values to it at the time of object creation."
   ]
  },
  {
   "cell_type": "markdown",
   "id": "a6309031",
   "metadata": {},
   "source": [
    "#### 5. In a class named `Person`, create a constructor that initializes the `name` and `age` attributes. Provide an example of creating an object of this class."
   ]
  },
  {
   "cell_type": "code",
   "execution_count": 4,
   "id": "8bcb0982",
   "metadata": {},
   "outputs": [
    {
     "name": "stdout",
     "output_type": "stream",
     "text": [
      "Abd\n",
      "24\n"
     ]
    }
   ],
   "source": [
    "# Solution\n",
    "class Person:\n",
    "    def __init__(self, name, age):\n",
    "        \n",
    "        self.name = name\n",
    "        self.age = age\n",
    "        \n",
    "obj = Person(\"Abd\", 24)\n",
    "print(obj.name)\n",
    "print(obj.age)"
   ]
  },
  {
   "cell_type": "markdown",
   "id": "6e023899",
   "metadata": {},
   "source": [
    "#### 6. How can you call a constructor explicitly in Python? Give an example."
   ]
  },
  {
   "cell_type": "markdown",
   "id": "2bc2581c",
   "metadata": {},
   "source": [
    "##### Solution:\n",
    "\n",
    "In Python, a constructor is a special method that is automatically called when an object of a class is created. It is defined using the __init__ method. We can call this method explicitly, but it’s not a common practice and generally not recommended."
   ]
  },
  {
   "cell_type": "code",
   "execution_count": 5,
   "id": "46c95790",
   "metadata": {},
   "outputs": [
    {
     "name": "stdout",
     "output_type": "stream",
     "text": [
      "20\n"
     ]
    }
   ],
   "source": [
    "class MyClass:\n",
    "    def __init__(self, value):\n",
    "        self.value = value\n",
    "\n",
    "# Creating an object of MyClass\n",
    "obj = MyClass(10)\n",
    "\n",
    "# Calling constructor explicitly\n",
    "obj.__init__(20)\n",
    "\n",
    "print(obj.value)  # Output: 20"
   ]
  },
  {
   "cell_type": "markdown",
   "id": "1df1cba8",
   "metadata": {},
   "source": [
    "#### 7. What is the significance of the `self` parameter in Python constructors? Explain with an example."
   ]
  },
  {
   "cell_type": "markdown",
   "id": "c9464306",
   "metadata": {},
   "source": [
    "##### Solution:\n",
    "\n",
    "In Python, self is a convention for the first parameter of instance methods, including the constructor __init__. It’s a reference to the current instance of the class. By using self, you can access the attributes and methods of the class in python. It binds the attributes with the given arguments."
   ]
  },
  {
   "cell_type": "code",
   "execution_count": 6,
   "id": "2e271236",
   "metadata": {},
   "outputs": [
    {
     "name": "stdout",
     "output_type": "stream",
     "text": [
      "10\n"
     ]
    }
   ],
   "source": [
    "class MyClass:\n",
    "    def __init__(self, value):\n",
    "        self.value = value  # 'self' is used to refer to the instance of the class\n",
    "\n",
    "# Creating an object of MyClass\n",
    "obj = MyClass(10)\n",
    "\n",
    "print(obj.value)  # Output: 10"
   ]
  },
  {
   "cell_type": "markdown",
   "id": "7c9a313c",
   "metadata": {},
   "source": [
    "#### 8. Discuss the concept of default constructors in Python. When are they used?"
   ]
  },
  {
   "cell_type": "markdown",
   "id": "5772da70",
   "metadata": {},
   "source": [
    "##### Solution:\n",
    "\n",
    "In Python, a constructor is a special method of a class, denoted by __init__, that is automatically invoked when an instance of the class is created. It’s used for setting up initial values of instance members for the class.\n",
    "\n",
    "A default constructor is a constructor that either has no parameters or if it has parameters, all the parameters have default values. If we do not provide a constructor for a class, Python creates a default constructor that doesn’t do anything."
   ]
  },
  {
   "cell_type": "code",
   "execution_count": 7,
   "id": "8c41d8b0",
   "metadata": {},
   "outputs": [
    {
     "name": "stdout",
     "output_type": "stream",
     "text": [
      "10\n"
     ]
    }
   ],
   "source": [
    "class MyClass:\n",
    "    def __init__(self):\n",
    "        self.value = 10  # Default value\n",
    "\n",
    "# Creating an object of MyClass\n",
    "obj = MyClass()\n",
    "\n",
    "print(obj.value)  # Output: 10"
   ]
  },
  {
   "cell_type": "markdown",
   "id": "d52a233a",
   "metadata": {},
   "source": [
    "Default constructors are used when we need to set some default values for our object or when we don’t want to force the user to provide initial values when creating objects."
   ]
  },
  {
   "cell_type": "markdown",
   "id": "f8c2811b",
   "metadata": {},
   "source": [
    "#### 9. Create a Python class called `Rectangle` with a constructor that initializes the `width` and `height` attributes. Provide a method to calculate the area of the rectangle."
   ]
  },
  {
   "cell_type": "code",
   "execution_count": 8,
   "id": "89d89855",
   "metadata": {},
   "outputs": [
    {
     "data": {
      "text/plain": [
       "200"
      ]
     },
     "execution_count": 8,
     "metadata": {},
     "output_type": "execute_result"
    }
   ],
   "source": [
    "class Rectangle:\n",
    "    \n",
    "    def __init__(self, width, height):\n",
    "        \n",
    "        self.width = width\n",
    "        self.height = height\n",
    "        \n",
    "    def calculate_area(self):\n",
    "        \n",
    "        return self.width * self.height\n",
    "\n",
    "rectangle = Rectangle(10,20)\n",
    "rectangle.calculate_area()"
   ]
  },
  {
   "cell_type": "markdown",
   "id": "34cf8802",
   "metadata": {},
   "source": [
    "#### 10. How can you have multiple constructors in a Python class? Explain with an example."
   ]
  },
  {
   "cell_type": "markdown",
   "id": "c6fb2fa5",
   "metadata": {},
   "source": [
    "##### Solution:\n",
    "\n",
    "Python doesn’t support multiple constructors, unlike some other languages like Java or C++. However, you can simulate the behavior of multiple constructors by providing default values for your parameters or by using class methods."
   ]
  },
  {
   "cell_type": "code",
   "execution_count": 9,
   "id": "848e1fdd",
   "metadata": {},
   "outputs": [
    {
     "name": "stdout",
     "output_type": "stream",
     "text": [
      "10 20\n",
      "30 20\n",
      "40 50\n"
     ]
    }
   ],
   "source": [
    "class MyClass:\n",
    "    def __init__(self, value1=10, value2=20):\n",
    "        self.value1 = value1\n",
    "        self.value2 = value2\n",
    "\n",
    "# Creating objects of MyClass\n",
    "obj1 = MyClass()\n",
    "obj2 = MyClass(30)\n",
    "obj3 = MyClass(40, 50)\n",
    "\n",
    "print(obj1.value1, obj1.value2)  \n",
    "print(obj2.value1, obj2.value2)  \n",
    "print(obj3.value1, obj3.value2)"
   ]
  },
  {
   "cell_type": "markdown",
   "id": "f5dcdca0",
   "metadata": {},
   "source": [
    "#### 11. What is method overloading, and how is it related to constructors in Python?"
   ]
  },
  {
   "cell_type": "markdown",
   "id": "637adf10",
   "metadata": {},
   "source": [
    "##### Solution:\n",
    "\n",
    "Method overloading is a feature of some programming languages that allows a class to have multiple methods with the same name but different parameters. However, Python does not support method overloading in the traditional sense. We can’t define multiple methods with the same name and different number or types of parameters, as Python only recognizes the last defined method.\n",
    "\n",
    "This applies to constructors as well. In Python, we can’t have multiple constructors with different parameters. However, we can simulate constructor overloading by providing default values for parameters or by using class methods.\n",
    "\n",
    "In terms of relation, both method overloading and constructors are part of the class definition in object-oriented programming. They both contribute to defining the behavior of the class and its instances. But due to Python’s specific approach to methods and constructors, we need to use alternative techniques to achieve similar functionality to method overloading."
   ]
  },
  {
   "cell_type": "markdown",
   "id": "b0d156db",
   "metadata": {},
   "source": [
    "#### 12. Explain the use of the `super()` function in Python constructors. Provide an example."
   ]
  },
  {
   "cell_type": "markdown",
   "id": "5acd7476",
   "metadata": {},
   "source": [
    "##### Solution:\n",
    "\n",
    "In Python, `super()` is a built-in function that is used to call a method from the parent class. This is especially useful in the context of inheritance, where we have a child class (or subclass) that inherits from a parent class (or superclass).\n",
    "\n",
    "The super() function is often used in constructors (__init__ methods) to ensure that the initialization code in the parent class is executed before the code in the child class."
   ]
  },
  {
   "cell_type": "code",
   "execution_count": 10,
   "id": "6303e396",
   "metadata": {},
   "outputs": [
    {
     "name": "stdout",
     "output_type": "stream",
     "text": [
      "Abd\n",
      "24\n"
     ]
    }
   ],
   "source": [
    "class Parent:\n",
    "    def __init__(self, name):\n",
    "        self.name = name\n",
    "\n",
    "class Child(Parent):\n",
    "    def __init__(self, name, age):\n",
    "        super().__init__(name)\n",
    "        self.age = age\n",
    "\n",
    "# Create an instance of Child\n",
    "child = Child(\"Abd\", 24)\n",
    "\n",
    "print(child.name)  # Output: Abd\n",
    "print(child.age)   # Output: 24"
   ]
  },
  {
   "cell_type": "markdown",
   "id": "d4be299e",
   "metadata": {},
   "source": [
    "#### 13. Create a class called `Book` with a constructor that initializes the `title`, `author`, and `published_year` attributes. Provide a method to display book details."
   ]
  },
  {
   "cell_type": "code",
   "execution_count": 11,
   "id": "0022016b",
   "metadata": {},
   "outputs": [
    {
     "name": "stdout",
     "output_type": "stream",
     "text": [
      "Harry Potter\n",
      "JK Rowling\n",
      "2000\n"
     ]
    }
   ],
   "source": [
    "class Book:\n",
    "    \n",
    "    def __init__(self, title, author, published_year):\n",
    "        self.title = title\n",
    "        self.author = author\n",
    "        self.published_year = published_year\n",
    "        \n",
    "    def display_book_details(self):\n",
    "        \n",
    "        print(self.title)\n",
    "        print(self.author)\n",
    "        print(self.published_year)\n",
    "\n",
    "book = Book(\"Harry Potter\", \"JK Rowling\", 2000)\n",
    "book.display_book_details()"
   ]
  },
  {
   "cell_type": "markdown",
   "id": "9b999764",
   "metadata": {},
   "source": [
    "#### 14. Discuss the differences between constructors and regular methods in Python classes."
   ]
  },
  {
   "cell_type": "markdown",
   "id": "c5385686",
   "metadata": {},
   "source": [
    "##### Solution:\n",
    "\n",
    "In Python, both constructors and regular methods are part of a class, but they serve different purposes and have different behaviors:\n",
    "\n",
    "`Constructor`:\n",
    "\n",
    "1. A constructor is a special method that is automatically called when an object of a class is created.\n",
    "\n",
    "\n",
    "2. It is defined using the __init__ method in Python.\n",
    "\n",
    "\n",
    "3. The constructor is typically used to initialize (assign values to) the instance variables of a class.\n",
    "\n",
    "\n",
    "4. A class can only have one constructor.\n",
    "\n",
    "\n",
    "5. If a class does not have a constructor, Python will provide a default empty constructor that doesn’t do anything.\n",
    "\n",
    "\n",
    "`Regular Method`:\n",
    "\n",
    "\n",
    "1. Regular methods are also defined within a class and are used to define behaviors for the objects of the class.\n",
    "\n",
    "\n",
    "2. Unlike constructors, regular methods need to be called explicitly using the object of the class.\n",
    "\n",
    "\n",
    "3. A class can have any number of regular methods.\n",
    "\n",
    "\n",
    "4. Regular methods can take any number of arguments, including zero."
   ]
  },
  {
   "cell_type": "code",
   "execution_count": 12,
   "id": "cbfa1d60",
   "metadata": {},
   "outputs": [
    {
     "name": "stdout",
     "output_type": "stream",
     "text": [
      "10\n"
     ]
    }
   ],
   "source": [
    "class MyClass:\n",
    "    def __init__(self, value):  # This is the constructor\n",
    "        self.my_variable = value\n",
    "\n",
    "    def my_method(self):  # This is a regular method\n",
    "        return self.my_variable * 2\n",
    "\n",
    "# Create an object of MyClass\n",
    "obj = MyClass(5)\n",
    "\n",
    "# Call the regular method\n",
    "print(obj.my_method())  # Output: 10\n"
   ]
  },
  {
   "cell_type": "markdown",
   "id": "bebca0d4",
   "metadata": {},
   "source": [
    "#### 15. Explain the role of the `self` parameter in instance variable initialization within a constructor."
   ]
  },
  {
   "cell_type": "markdown",
   "id": "540776e2",
   "metadata": {},
   "source": [
    "##### Solution:\n",
    "\n",
    "In Python, self is a convention for the first parameter of instance methods in a class. It’s a reference to the current instance of the class. When you create a new instance of the class, self is automatically passed to the method, so you don’t need to provide it explicitly.\n",
    "\n",
    "In the context of initializing instance variables within a constructor, self plays a crucial role as it is used for:  \n",
    "\n",
    "1. `Instance Variable Initialization:` The constructor method in Python is named __init__. This method is automatically called when an object is created from a class. Inside this method, we can access the self parameter to initialize instance variables."
   ]
  },
  {
   "cell_type": "code",
   "execution_count": 13,
   "id": "f1de4935",
   "metadata": {},
   "outputs": [
    {
     "name": "stdout",
     "output_type": "stream",
     "text": [
      "Hello, World!\n"
     ]
    }
   ],
   "source": [
    "class MyClass:\n",
    "    \n",
    "    def __init__(self):\n",
    "        \n",
    "        self.my_variable = \"Hello, World!\"\n",
    "        \n",
    "obj = MyClass()\n",
    "\n",
    "print(obj.my_variable)"
   ]
  },
  {
   "cell_type": "markdown",
   "id": "440b1adc",
   "metadata": {},
   "source": [
    "2. `Accessing Instance Variables`: After initialization, we can use self to access these variables in other methods within the class.\n"
   ]
  },
  {
   "cell_type": "code",
   "execution_count": 14,
   "id": "f5df968c",
   "metadata": {},
   "outputs": [
    {
     "name": "stdout",
     "output_type": "stream",
     "text": [
      "Hello, World!\n"
     ]
    }
   ],
   "source": [
    "class MyClass:\n",
    "    def __init__(self):\n",
    "        self.my_variable = \"Hello, World!\"\n",
    "\n",
    "    def print_my_variable(self):\n",
    "        print(self.my_variable)\n",
    "\n",
    "obj = MyClass()\n",
    "\n",
    "obj.print_my_variable()"
   ]
  },
  {
   "cell_type": "markdown",
   "id": "b006a315",
   "metadata": {},
   "source": [
    "`Note` : We have to remember that while self is the conventional name for this parameter, it’s not a keyword and we could technically give it any valid identifier name. \n",
    "\n",
    "However, using self is strongly recommended for readability and consistency with other Python code."
   ]
  },
  {
   "cell_type": "markdown",
   "id": "a314a7a9",
   "metadata": {},
   "source": [
    "#### 16. How do you prevent a class from having multiple instances by using constructors in Python? Provide an example."
   ]
  },
  {
   "cell_type": "markdown",
   "id": "75d27bf5",
   "metadata": {},
   "source": [
    "##### Solution:\n",
    "\n",
    "In Python, we can prevent a class from having multiple instances by using the Singleton design pattern. The Singleton pattern restricts the instantiation of a class to a single instance and provides a global point of access to it."
   ]
  },
  {
   "cell_type": "code",
   "execution_count": 15,
   "id": "4d85eebf",
   "metadata": {},
   "outputs": [
    {
     "name": "stdout",
     "output_type": "stream",
     "text": [
      "True\n"
     ]
    }
   ],
   "source": [
    "class Singleton:\n",
    "    _instance = None\n",
    "\n",
    "    def __new__(cls, *args, **kwargs):\n",
    "        if not cls._instance:\n",
    "            cls._instance = super(Singleton, cls).__new__(cls, *args, **kwargs)\n",
    "        return cls._instance\n",
    "\n",
    "# Testing the Singleton\n",
    "s1 = Singleton()\n",
    "s2 = Singleton()\n",
    "\n",
    "print(s1 is s2)  # This will print True"
   ]
  },
  {
   "cell_type": "markdown",
   "id": "996fa5a5",
   "metadata": {},
   "source": [
    "#### 17. Create a Python class called `Student` with a constructor that takes a list of subjects as a parameter and initializes the `subjects` attribute."
   ]
  },
  {
   "cell_type": "code",
   "execution_count": 16,
   "id": "12d2118a",
   "metadata": {},
   "outputs": [
    {
     "name": "stdout",
     "output_type": "stream",
     "text": [
      "['Python', 'Deep Learning', 'Machine Learning', 'SQL']\n"
     ]
    }
   ],
   "source": [
    "class Student:\n",
    "    \n",
    "    def __init__(self, subjects):\n",
    "        \n",
    "        self.subjects = subjects\n",
    "        \n",
    "student = Student([\"Python\", \"Deep Learning\", \"Machine Learning\", \"SQL\"])\n",
    "print(student.subjects)"
   ]
  },
  {
   "cell_type": "markdown",
   "id": "969870c0",
   "metadata": {},
   "source": [
    "#### 18. What is the purpose of the `__del__` method in Python classes, and how does it relate to constructors?"
   ]
  },
  {
   "cell_type": "markdown",
   "id": "9a4ff65d",
   "metadata": {},
   "source": [
    "##### Solution:\n",
    "\n",
    "\n",
    "The `__del__` method in Python is a special method that is called when an object is about to be destroyed. \n",
    "\n",
    "It’s also known as a destructor and it’s the opposite of the constructor, which is `__init__`.\n",
    "\n",
    "The `__init__` method is called when an object is created from a class and it allows the class to initialize the attributes of the class.\n",
    "\n",
    "On the other hand, the `__del__` method is called when an object is destroyed (either when it’s deleted or when it’s no longer needed). It’s typically used to clean up resources."
   ]
  },
  {
   "cell_type": "code",
   "execution_count": 17,
   "id": "cffa56d1",
   "metadata": {},
   "outputs": [
    {
     "name": "stdout",
     "output_type": "stream",
     "text": [
      "Object created\n",
      "Object Destroyed\n"
     ]
    }
   ],
   "source": [
    "class Example:\n",
    "    def __init__(self):\n",
    "        \n",
    "        print(\"Object created\")\n",
    "\n",
    "    def __del__(self):\n",
    "        print(\"Object Destroyed\")\n",
    "        \n",
    "\n",
    "example1 = Example()\n",
    "\n",
    "del example1"
   ]
  },
  {
   "cell_type": "markdown",
   "id": "3fcb3ed7",
   "metadata": {},
   "source": [
    "`Note`: \n",
    "\n",
    "However, it’s important to note that in Python, memory management is handled by the garbage collector, so we usually don’t need to define a `__del__` method unless we have some specific cleanup to do.\n",
    "\n",
    "Also, there’s no guarantee about when `__del__` will be called or even if it will be called at all (for example, if the program crashes or if there are circular references)."
   ]
  },
  {
   "cell_type": "markdown",
   "id": "7f8ef9bf",
   "metadata": {},
   "source": [
    "#### 19. Explain the use of constructor chaining in Python. Provide a practical example."
   ]
  },
  {
   "cell_type": "markdown",
   "id": "136b760b",
   "metadata": {},
   "source": [
    "##### Solution:\n",
    "\n",
    "In Python, constructor chaining is not a built-in feature like in some other object-oriented programming languages. \n",
    "\n",
    "However, it can be implemented manually. \n",
    "\n",
    "Constructor chaining is a technique of calling one constructor from another constructor with respect to the current object."
   ]
  },
  {
   "cell_type": "code",
   "execution_count": 18,
   "id": "56bb86de",
   "metadata": {},
   "outputs": [
    {
     "name": "stdout",
     "output_type": "stream",
     "text": [
      "Constructor A\n",
      "Constructor B\n"
     ]
    }
   ],
   "source": [
    "class A:\n",
    "    def __init__(self):\n",
    "        print(\"Constructor A\")\n",
    "\n",
    "class B(A):\n",
    "    def __init__(self):\n",
    "        super().__init__()\n",
    "        print(\"Constructor B\")\n",
    "\n",
    "b = B()"
   ]
  },
  {
   "cell_type": "markdown",
   "id": "c9a6c49a",
   "metadata": {},
   "source": [
    "`Note`: \n",
    "\n",
    "In Python, unlike some other languages, there’s no automatic calling of a superclass’s constructor if a subclass defines its own constructor.\n",
    "\n",
    "If we want to call the superclass’s constructor, we have to do it explicitly using `super().__init__()`.\n",
    "\n",
    "This gives us more control over which superclass’s constructor gets called and when it gets called.\n",
    "\n",
    "It also allows for multiple inheritance, where a class can inherit from multiple superclasses."
   ]
  },
  {
   "cell_type": "markdown",
   "id": "532daf0a",
   "metadata": {},
   "source": [
    "#### 20. Create a Python class called `Car` with a default constructor that initializes the `maker` and `model` attributes. Provide a method to display car information."
   ]
  },
  {
   "cell_type": "code",
   "execution_count": 19,
   "id": "cb73f4f6",
   "metadata": {},
   "outputs": [
    {
     "name": "stdout",
     "output_type": "stream",
     "text": [
      "Kia\n",
      "Celtos\n"
     ]
    }
   ],
   "source": [
    "class Car:\n",
    "    \n",
    "    def __init__(self):\n",
    "        \n",
    "        self.maker = \"Kia\"\n",
    "        self.model = \"Celtos\"\n",
    "    \n",
    "    def display_car_details(self):\n",
    "        \n",
    "        print(self.maker)\n",
    "        print(self.model)\n",
    "        \n",
    "car = Car()    \n",
    "car.display_car_details()  "
   ]
  },
  {
   "cell_type": "markdown",
   "id": "b7f90ca1",
   "metadata": {},
   "source": [
    "### Inheritance"
   ]
  },
  {
   "cell_type": "markdown",
   "id": "1924f71b",
   "metadata": {},
   "source": [
    "#### 1. What is inheritance in Python? Explain its significance in object-oriented programming."
   ]
  },
  {
   "cell_type": "markdown",
   "id": "e031d45c",
   "metadata": {},
   "source": [
    "##### Solution:\n",
    "\n",
    "In Python, inheritance is a fundamental concept of object-oriented programming (OOP) where a class (known as child class or subclass) can inherit properties and methods from another class (known as parent class or superclass).\n",
    "\n",
    "The significance of inheritance in OOP is as follows:\n",
    "\n",
    "1. Code Reusability: Inheritance allows us to define a class that inherits all the methods and properties from another class. This means we can reuse the code of the existing class, which leads to less code duplication.\n",
    "\n",
    "\n",
    "2. Code Organization: It helps in organizing the code in a hierarchical manner. The parent class (also known as the base class) holds the common properties and methods which are shared by all subclasses.\n",
    "\n",
    "\n",
    "3. Extensibility: A child class can extend the functionalities of a parent class, allowing us to add new methods and properties or override the existing ones."
   ]
  },
  {
   "cell_type": "markdown",
   "id": "21329f9b",
   "metadata": {},
   "source": [
    "#### 2. Differentiate between single inheritance and multiple inheritance in Python. Provide examples for each."
   ]
  },
  {
   "cell_type": "markdown",
   "id": "03042587",
   "metadata": {},
   "source": [
    "##### Solution:\n",
    "\n",
    "Following are the differences between single inheritance and multiple inheritance in Python:\n",
    "\n",
    "1. `Number of Parent Classes:` In single inheritance, a class is derived from one base class, whereas in multiple inheritance, a class can be derived from more than one base classes.\n",
    "\n",
    "\n",
    "2. `Complexity:` Single inheritance is less complex as there’s only one base class to look at when considering method resolution order (MRO). On the other hand, multiple inheritance can be more complex due to the possibility of the diamond problem, where there could be ambiguity in the path of inheritance.\n",
    "\n",
    "\n",
    "3. `Code Reusability:` Both single and multiple inheritance support code reusability. However, multiple inheritance can potentially reuse more code as it allows a class to inherit features from multiple classes.\n",
    "\n",
    "\n",
    "4. `Method Resolution Order (MRO)`: In single inheritance, MRO is straightforward as there’s only one path from the child class up to its parent. But in multiple inheritance, Python uses a specific MRO algorithm (C3 Linearization) to determine the order in which methods should be inherited in the presence of multiple parents.\n",
    "\n",
    "\n",
    "5. `Use Cases:` Single inheritance is commonly used in most real-world applications due to its simplicity and straightforwardness. Multiple inheritance is used in scenarios where a class needs to inherit properties from multiple unrelated classes (like mixins)."
   ]
  },
  {
   "cell_type": "code",
   "execution_count": 20,
   "id": "3fe7f8ba",
   "metadata": {},
   "outputs": [
    {
     "name": "stdout",
     "output_type": "stream",
     "text": [
      "This is function 1\n",
      "This is function 2\n"
     ]
    }
   ],
   "source": [
    "class Parent:\n",
    "    def func1(self):\n",
    "        print(\"This is function 1\")\n",
    "\n",
    "class Child(Parent):\n",
    "    def func2(self):\n",
    "        print(\"This is function 2\")\n",
    "\n",
    "obj = Child()\n",
    "obj.func1()\n",
    "obj.func2()"
   ]
  },
  {
   "cell_type": "code",
   "execution_count": 21,
   "id": "f15eddfb",
   "metadata": {},
   "outputs": [
    {
     "name": "stdout",
     "output_type": "stream",
     "text": [
      "This is function 1\n",
      "This is function 2\n",
      "This is function 3\n"
     ]
    }
   ],
   "source": [
    "class Parent1:\n",
    "    def func1(self):\n",
    "        print(\"This is function 1\")\n",
    "\n",
    "class Parent2:\n",
    "    def func2(self):\n",
    "        print(\"This is function 2\")\n",
    "\n",
    "class Child(Parent1, Parent2):\n",
    "    def func3(self):\n",
    "        print(\"This is function 3\")\n",
    "\n",
    "obj = Child()\n",
    "obj.func1()\n",
    "obj.func2()\n",
    "obj.func3()"
   ]
  },
  {
   "cell_type": "markdown",
   "id": "3c900f75",
   "metadata": {},
   "source": [
    "#### 3. Create a Python class called `Vehicle` with attributes `color` and `speed`. Then, create a child class called `Car` that inherits from `Vehicle` and adds a `brand` attribute. Provide an example of creating a `Car` object."
   ]
  },
  {
   "cell_type": "code",
   "execution_count": 22,
   "id": "86d9dfc5",
   "metadata": {},
   "outputs": [
    {
     "name": "stdout",
     "output_type": "stream",
     "text": [
      "Black\n",
      "100\n",
      "Mercedes\n"
     ]
    }
   ],
   "source": [
    "class Vehicle:\n",
    "    \n",
    "    def __init__(self, color, speed):\n",
    "        \n",
    "        self.color = color\n",
    "        self.speed = speed\n",
    "class Car(Vehicle):\n",
    "    \n",
    "    def __init__(self, brand, color, speed):\n",
    "        \n",
    "        super().__init__(color,speed)\n",
    "        self.brand = brand\n",
    "        \n",
    "car = Car(\"Mercedes\", \"Black\", 100)       \n",
    "print(car.color)\n",
    "print(car.speed)\n",
    "print(car.brand)"
   ]
  },
  {
   "cell_type": "markdown",
   "id": "7294f147",
   "metadata": {},
   "source": [
    "#### 4. Explain the concept of method overriding in inheritance. Provide a practical example."
   ]
  },
  {
   "cell_type": "markdown",
   "id": "091416fc",
   "metadata": {},
   "source": [
    "##### Solution:\n",
    "\n",
    "Method overriding is a concept in object-oriented programming where a subclass provides a different implementation of a method that is already provided by its superclass. It is used to change the behavior of existing methods to suit the needs of the subclass."
   ]
  },
  {
   "cell_type": "code",
   "execution_count": 23,
   "id": "b66d3c6b",
   "metadata": {},
   "outputs": [
    {
     "name": "stdout",
     "output_type": "stream",
     "text": [
      "The max speed of a car is typically 120 mph.\n",
      "The max speed of a bicycle is typically 15 mph.\n"
     ]
    }
   ],
   "source": [
    "class Vehicle:\n",
    "    def max_speed(self):\n",
    "        return \"This is a generic vehicle. Max speed is unknown.\"\n",
    "\n",
    "class Car(Vehicle):\n",
    "    def max_speed(self):\n",
    "        return \"The max speed of a car is typically 120 mph.\"\n",
    "\n",
    "class Bicycle(Vehicle):\n",
    "    def max_speed(self):\n",
    "        return \"The max speed of a bicycle is typically 15 mph.\"\n",
    "\n",
    "car = Car()\n",
    "print(car.max_speed()) \n",
    "\n",
    "bicycle = Bicycle()\n",
    "print(bicycle.max_speed()) "
   ]
  },
  {
   "cell_type": "markdown",
   "id": "afa208ec",
   "metadata": {},
   "source": [
    "#### 5. How can you access the methods and attributes of a parent class from a child class in Python? Give an example."
   ]
  },
  {
   "cell_type": "markdown",
   "id": "d342d75f",
   "metadata": {},
   "source": [
    "##### Solution:\n",
    "\n",
    "In Python, we can access the methods and attributes of a parent class from a child class using the super() function. The super() function is a built-in function in Python that returns a temporary object of the superclass, which then allows you to call its methods."
   ]
  },
  {
   "cell_type": "code",
   "execution_count": 24,
   "id": "338e7c82",
   "metadata": {},
   "outputs": [
    {
     "name": "stdout",
     "output_type": "stream",
     "text": [
      "Name:  Python\n",
      "Age:  10\n"
     ]
    }
   ],
   "source": [
    "class Parent:\n",
    "    def __init__(self, name):\n",
    "        self.name = name\n",
    "\n",
    "    def print_name(self):\n",
    "        print(\"Name: \", self.name)\n",
    "\n",
    "class Child(Parent):\n",
    "    def __init__(self, name, age):\n",
    "        super().__init__(name)\n",
    "        self.age = age\n",
    "\n",
    "    def print_info(self):\n",
    "        super().print_name()\n",
    "        print(\"Age: \", self.age)\n",
    "\n",
    "# Create an object of the child class\n",
    "child = Child(\"Python\", 10)\n",
    "\n",
    "# Call the method in the child class\n",
    "child.print_info()"
   ]
  },
  {
   "cell_type": "markdown",
   "id": "6a160909",
   "metadata": {},
   "source": [
    "#### 6. Discuss the use of the `super()` function in Python inheritance. When and why is it used? Provide an example."
   ]
  },
  {
   "cell_type": "markdown",
   "id": "5500b6df",
   "metadata": {},
   "source": [
    "##### Solution:\n",
    "\n",
    "In Python, super() is a built-in function that is used in the context of inheritance. It allows us to call methods from a parent class in a child class. The primary use cases for super() are:\n",
    "\n",
    "1. To avoid the usage of the base class name explicitly.\n",
    "\n",
    "\n",
    "2. To enable multiple inheritances.\n",
    "\n",
    "\n",
    "3. To work with the Method Resolution Order (MRO)."
   ]
  },
  {
   "cell_type": "code",
   "execution_count": 25,
   "id": "d2bd834a",
   "metadata": {},
   "outputs": [
    {
     "name": "stdout",
     "output_type": "stream",
     "text": [
      "Car moves on land.\n",
      "Boat moves in water.\n"
     ]
    }
   ],
   "source": [
    "class Vehicle:\n",
    "    def __init__(self, name):\n",
    "        self.name = name\n",
    "\n",
    "    def movement(self):\n",
    "        pass\n",
    "\n",
    "class LandVehicle(Vehicle):\n",
    "    def __init__(self, name):\n",
    "        super().__init__(name)\n",
    "\n",
    "    def movement(self):\n",
    "        print(self.name, \"moves on land.\")\n",
    "\n",
    "class WaterVehicle(Vehicle):\n",
    "    def __init__(self, name):\n",
    "        super().__init__(name)\n",
    "\n",
    "    def movement(self):\n",
    "        print(self.name, \"moves in water.\")\n",
    "\n",
    "# Creating objects for each class\n",
    "car = LandVehicle(\"Car\")\n",
    "car.movement()  \n",
    "\n",
    "boat = WaterVehicle(\"Boat\")\n",
    "boat.movement() "
   ]
  },
  {
   "cell_type": "markdown",
   "id": "236f470b",
   "metadata": {},
   "source": [
    "#### 7. Create a Python class called `Animal` with a method `speak()`. Then, create child classes `Dog` and `Cat` that inherit from `Animal` and override the `speak()` method. Provide an example of using these classes."
   ]
  },
  {
   "cell_type": "code",
   "execution_count": 26,
   "id": "19c45d31",
   "metadata": {},
   "outputs": [
    {
     "name": "stdout",
     "output_type": "stream",
     "text": [
      "Bhow Bhow\n",
      "Meow Meow\n"
     ]
    }
   ],
   "source": [
    "class Animal:\n",
    "    \n",
    "    def __init__(self, speech):\n",
    "        \n",
    "        self.speech = speech\n",
    "        \n",
    "    def speak(self):\n",
    "        return self.speech\n",
    "class Dog(Animal):\n",
    "    \n",
    "    def __init__(self, speech):\n",
    "        \n",
    "        super().__init__(speech)\n",
    "        \n",
    "    def speak(self):\n",
    "        return self.speech\n",
    "class Cat(Animal):\n",
    "    \n",
    "    def __init__(self, speech):\n",
    "        \n",
    "        super().__init__(speech)\n",
    "        \n",
    "    def speak(self):\n",
    "        return self.speech\n",
    "    \n",
    "    \n",
    "dog = Dog(\"Bhow Bhow\")\n",
    "print(dog.speak())\n",
    "\n",
    "cat = Cat(\"Meow Meow\")\n",
    "print(cat.speak())"
   ]
  },
  {
   "cell_type": "markdown",
   "id": "38b664dd",
   "metadata": {},
   "source": [
    "#### 8. Explain the role of the `isinstance()` function in Python and how it relates to inheritance."
   ]
  },
  {
   "cell_type": "markdown",
   "id": "8cce5acc",
   "metadata": {},
   "source": [
    "##### Solution:\n",
    "\n",
    "The `isinstance()` function in Python is a built-in function that checks if an object is an instance or subclass of a specified class. It takes two parameters: the object you want to check and the class you want to check against. The function returns True if the object is an instance or subclass of the specified class, and False otherwise."
   ]
  },
  {
   "cell_type": "code",
   "execution_count": 27,
   "id": "763714ea",
   "metadata": {},
   "outputs": [
    {
     "name": "stdout",
     "output_type": "stream",
     "text": [
      "True\n",
      "True\n"
     ]
    }
   ],
   "source": [
    "class Fruit:\n",
    "    pass\n",
    "\n",
    "class Apple(Fruit):\n",
    "    pass\n",
    "\n",
    "apple = Apple()\n",
    "\n",
    "print(isinstance(apple, Apple)) \n",
    "print(isinstance(apple, Fruit))  "
   ]
  },
  {
   "cell_type": "markdown",
   "id": "9fb9492d",
   "metadata": {},
   "source": [
    "The `isinstance()` function is particularly useful when dealing with inheritance in Python. Inheritance allows one class to gain all the members (say attributes and methods) of another class. With inheritance, we can define a class based on another class, which makes creating and maintaining an application much easier.\n",
    "\n",
    "The `isinstance()` function allows us to check these relationships between objects and classes. It respects inheritance and considers an object to be an instance of both the class it was created from and any parent classes. This can be very useful when you want to ensure that a function argument is of a certain type, for example. It’s also used in some design patterns that require an object to be a certain type or have certain attributes."
   ]
  },
  {
   "cell_type": "markdown",
   "id": "90a5b1d5",
   "metadata": {},
   "source": [
    "#### 9. What is the purpose of the `issubclass()` function in Python? Provide an example."
   ]
  },
  {
   "cell_type": "markdown",
   "id": "87c197d2",
   "metadata": {},
   "source": [
    "##### Solution:\n",
    "\n",
    "The issubclass() function in Python is used to check if a class is a subclass of another class. It returns True if the given class is a subclass of the specified class, and False otherwise.\n",
    "\n",
    "This function is useful when we want to check the relationship between two classes in our code. It helps in maintaining the hierarchy and structure of object-oriented programming in Python."
   ]
  },
  {
   "cell_type": "code",
   "execution_count": 28,
   "id": "5b92f234",
   "metadata": {},
   "outputs": [
    {
     "name": "stdout",
     "output_type": "stream",
     "text": [
      "True\n",
      "True\n",
      "False\n"
     ]
    }
   ],
   "source": [
    "class Animal:\n",
    "    pass\n",
    "\n",
    "class Mammal(Animal):\n",
    "    pass\n",
    "\n",
    "class Bird(Animal):\n",
    "    pass\n",
    "\n",
    "class Sparrow(Bird):\n",
    "    pass\n",
    "\n",
    "print(issubclass(Mammal, Animal))\n",
    "print(issubclass(Sparrow, Bird))   \n",
    "print(issubclass(Sparrow, Mammal)) "
   ]
  },
  {
   "cell_type": "markdown",
   "id": "478ab93f",
   "metadata": {},
   "source": [
    "#### 10. Discuss the concept of constructor inheritance in Python. How are constructors inherited in child classes?"
   ]
  },
  {
   "cell_type": "markdown",
   "id": "c2e520f4",
   "metadata": {},
   "source": [
    "##### Solution:\n",
    "\n",
    "In Python, a constructor is a special method that is automatically called when an object of a class is created. It is defined using the `__init__()` method. \n",
    "\n",
    "If we want to call the parent class constructor from the child class, we can do so using the super() function:\n",
    "\n"
   ]
  },
  {
   "cell_type": "code",
   "execution_count": 29,
   "id": "ca322bd7",
   "metadata": {},
   "outputs": [
    {
     "name": "stdout",
     "output_type": "stream",
     "text": [
      "Parent Constructor\n",
      "Child Constructor\n"
     ]
    }
   ],
   "source": [
    "class Parent:\n",
    "    def __init__(self):\n",
    "        print(\"Parent Constructor\")\n",
    "\n",
    "class Child(Parent):\n",
    "    def __init__(self):\n",
    "        super().__init__()  # Call Parent constructor\n",
    "        print(\"Child Constructor\")\n",
    "\n",
    "c = Child()  "
   ]
  },
  {
   "cell_type": "markdown",
   "id": "a299a0c8",
   "metadata": {},
   "source": [
    "#### 11. Create a Python class called `Shape` with a method `area()` that calculates the area of a shape. Then, create child classes         `Circle` and `Rectangle` that inherit from `Shape` and implement the `area()` method accordingly. Provide an example."
   ]
  },
  {
   "cell_type": "code",
   "execution_count": 30,
   "id": "1ac037ce",
   "metadata": {},
   "outputs": [
    {
     "name": "stdout",
     "output_type": "stream",
     "text": [
      "Area: 12\n",
      "Area: 3.14\n"
     ]
    }
   ],
   "source": [
    "import math\n",
    "import numpy as np\n",
    "class Shape:\n",
    "    \n",
    "    def __init__(self):\n",
    "        pass\n",
    "    \n",
    "    def calculate_area(self):\n",
    "        return \"This is base class for all shapes.\"\n",
    "    \n",
    "class Rectangle(Shape):\n",
    "    \n",
    "    def __init__(self, length, breadth):\n",
    "        self.length = length\n",
    "        self.breadth = breadth\n",
    "        \n",
    "    def calculate_area(self):\n",
    "        return \"Area: \" + str(self.length * self.breadth)\n",
    "    \n",
    "class Circle(Shape):\n",
    "    \n",
    "    def __init__(self, radius):\n",
    "        \n",
    "        self.radius = radius\n",
    "    \n",
    "    def calculate_area(self):\n",
    "        \n",
    "        area = np.round(math.pi * self.radius * self.radius, 2)\n",
    "        \n",
    "        return \"Area: \" + str(area)\n",
    "\n",
    "rectangle = Rectangle(3,4)\n",
    "print(rectangle.calculate_area())\n",
    "circle = Circle(1)\n",
    "print(circle.calculate_area())        "
   ]
  },
  {
   "cell_type": "markdown",
   "id": "f00c35ce",
   "metadata": {},
   "source": [
    "#### 12. Explain the use of abstract base classes (ABCs) in Python and how they relate to inheritance. Provide an example using the `abc` module."
   ]
  },
  {
   "cell_type": "markdown",
   "id": "c8e09ba3",
   "metadata": {},
   "source": [
    "##### Solution:\n",
    "\n",
    "Abstract Base Classes (ABCs) in Python are a form of interface checking more strict than individual hasattr() checks for particular methods. \n",
    "\n",
    "By defining an abstract base class, we can define a common API for a set of subclasses.\n",
    "\n",
    "This capability is especially useful in situations where a third-party is going to provide implementations, such as with plugins to an application, but can also aid us when working on a large team or with a large code-base where keeping all classes in our head at the same time is difficult or not possible."
   ]
  },
  {
   "cell_type": "code",
   "execution_count": 31,
   "id": "004afabe",
   "metadata": {},
   "outputs": [
    {
     "name": "stdout",
     "output_type": "stream",
     "text": [
      "The subclass is doing something\n"
     ]
    }
   ],
   "source": [
    "from abc import ABC, abstractmethod\n",
    "\n",
    "class AbstractClassExample(ABC):\n",
    "    @abstractmethod\n",
    "    def do_something(self):\n",
    "        pass\n",
    "\n",
    "class AnotherSubclass(AbstractClassExample):\n",
    "    \n",
    "    def do_something(self):\n",
    "        super().do_something()\n",
    "        print(\"The subclass is doing something\")\n",
    "\n",
    "x = AnotherSubclass()\n",
    "x.do_something()"
   ]
  },
  {
   "cell_type": "markdown",
   "id": "5cbf6c9e",
   "metadata": {},
   "source": [
    "This relates to inheritance in that abstract base classes are designed to be inherited by concrete classes (i.e., classes that do implement all required methods), and will raise a TypeError if you try to instantiate them directly. \n",
    "\n",
    "The concrete classes that inherit from an ABC must override its abstract methods - the ones decorated with the `@abstractmethod` decorator."
   ]
  },
  {
   "cell_type": "markdown",
   "id": "fa8196c9",
   "metadata": {},
   "source": [
    "#### 13. How can you prevent a child class from modifying certain attributes or methods inherited from a parent class in Python?"
   ]
  },
  {
   "cell_type": "markdown",
   "id": "3a84bbec",
   "metadata": {},
   "source": [
    "##### Solution:\n",
    "\n",
    "In Python, you can prevent a child class from modifying certain attributes or methods inherited from a parent class by using the concept of encapsulation. This is achieved by making those attributes or methods private."
   ]
  },
  {
   "cell_type": "code",
   "execution_count": 32,
   "id": "2a6e163e",
   "metadata": {},
   "outputs": [
    {
     "name": "stdout",
     "output_type": "stream",
     "text": [
      "I'm public!\n",
      "I'm protected!\n",
      "Public method\n",
      "Protected method\n",
      "I'm private!\n",
      "Private method\n",
      "I'm protected!\n",
      "Protected method\n"
     ]
    }
   ],
   "source": [
    "class Parent:\n",
    "    def __init__(self):\n",
    "        self.public_attribute = \"I'm public!\"\n",
    "        self._protected_attribute = \"I'm protected!\"\n",
    "        self.__private_attribute = \"I'm private!\"\n",
    "\n",
    "    def public_method(self):\n",
    "        return \"Public method\"\n",
    "\n",
    "    def _protected_method(self):\n",
    "        return \"Protected method\"\n",
    "\n",
    "    def __private_method(self):\n",
    "        return \"Private method\"\n",
    "\n",
    "class Child(Parent):\n",
    "    \n",
    "    def access_methods_and_attributes(self):\n",
    "        \n",
    "        print(self.public_attribute)\n",
    "        \n",
    "        print(self._protected_attribute)\n",
    "        \n",
    "        print(self.public_method())\n",
    "        \n",
    "        print(self._protected_method())\n",
    "        print(self._Parent__private_attribute) \n",
    "        print(self._Parent__private_method())\n",
    "        \n",
    "      # Protected attributes and methods can be accesses directly, but not recommended\n",
    "        \n",
    "        print(self._protected_attribute) \n",
    "        print(self._protected_method())\n",
    "        \n",
    "child = Child()\n",
    "child.access_methods_and_attributes()\n"
   ]
  },
  {
   "cell_type": "markdown",
   "id": "2e9affa1",
   "metadata": {},
   "source": [
    "##### `Note:`\n",
    "\n",
    "Python’s private and protected members can still be accessed directly, but it is strongly advised against as it can lead to fragile code. \n",
    "\n",
    "The use of single underscore _ and double underscore __ is a convention in Python and is intended as a hint to the programmer rather than a strict mechanism to prevent access to attributes or methods. \n",
    "\n",
    "It’s always a good practice to respect these conventions."
   ]
  },
  {
   "cell_type": "markdown",
   "id": "86158b54",
   "metadata": {},
   "source": [
    "#### 14. Create a Python class called `Employee` with attributes `name` and `salary`. Then, create a child class `Manager` that inherits\n",
    "\n",
    "####      from `Employee` and adds an attribute `department`. Provide an example"
   ]
  },
  {
   "cell_type": "code",
   "execution_count": 33,
   "id": "891512e8",
   "metadata": {},
   "outputs": [
    {
     "name": "stdout",
     "output_type": "stream",
     "text": [
      "AI\n",
      "Andrew NG\n",
      "1000\n"
     ]
    }
   ],
   "source": [
    "class Employee:\n",
    "    \n",
    "    def __init__(self, name, salary):\n",
    "        \n",
    "        self.name = name\n",
    "        self.salary = salary\n",
    "        \n",
    "        \n",
    "        \n",
    "class Manager (Employee):\n",
    "    \n",
    "    def __init__(self, department, name, salary):\n",
    "        \n",
    "        super().__init__(name, salary)\n",
    "        self.department = department\n",
    "    \n",
    "manager = Manager(\"AI\", \"Andrew NG\", 1000)\n",
    "\n",
    "print(manager.department)\n",
    "print(manager.name)\n",
    "print(manager.salary)"
   ]
  },
  {
   "cell_type": "markdown",
   "id": "2c2d3097",
   "metadata": {},
   "source": [
    "#### 15. Discuss the concept of method overloading in Python inheritance. How does it differ from method overriding?"
   ]
  },
  {
   "cell_type": "markdown",
   "id": "459938eb",
   "metadata": {},
   "source": [
    "##### Solution:\n",
    "\n",
    "In Python, the concepts of method overloading and method overriding are used in the context of inheritance, but they serve different purposes.\n",
    "\n",
    "`Method Overloading:` \n",
    "\n",
    "This is a feature that allows a class to have more than one method with the same name but with different parameters. \n",
    "\n",
    "However, Python does not support method overloading like other languages (Java, C++, etc.).\n",
    "\n",
    "We can achieve method overloading in Python by providing default values to the arguments or using variable-length arguments (***args** and ***kwargs)."
   ]
  },
  {
   "cell_type": "code",
   "execution_count": 34,
   "id": "817ba0df",
   "metadata": {},
   "outputs": [
    {
     "name": "stdout",
     "output_type": "stream",
     "text": [
      "No arguments\n",
      "One argument: 1\n",
      "Two arguments: 1 2\n"
     ]
    }
   ],
   "source": [
    "class Example:\n",
    "    \n",
    "    def display(self, a=None, b=None):\n",
    "        \n",
    "        if a is not None and b is not None:\n",
    "            print(\"Two arguments:\", a, b)\n",
    "            \n",
    "        elif a is not None:\n",
    "            \n",
    "            print(\"One argument:\", a)\n",
    "        else:\n",
    "            \n",
    "            print(\"No arguments\")\n",
    "\n",
    "ex = Example()\n",
    "ex.display()\n",
    "ex.display(1)\n",
    "ex.display(1, 2)"
   ]
  },
  {
   "cell_type": "markdown",
   "id": "c944832c",
   "metadata": {},
   "source": [
    "`Method Overriding:`\n",
    "\n",
    "This is a feature that allows a subclass to provide a different implementation of a method that is already defined in its superclass.\n",
    "\n",
    "It is used when the method in the superclass has the same name but it needs to do a different task in the subclass."
   ]
  },
  {
   "cell_type": "code",
   "execution_count": 35,
   "id": "d6df1aa1",
   "metadata": {},
   "outputs": [
    {
     "name": "stdout",
     "output_type": "stream",
     "text": [
      "Display method from Child\n"
     ]
    }
   ],
   "source": [
    "class Parent:\n",
    "    def display(self):\n",
    "        print(\"Display method from Parent\")\n",
    "\n",
    "class Child(Parent):\n",
    "    def display(self):\n",
    "        print(\"Display method from Child\")\n",
    "\n",
    "c = Child()\n",
    "c.display()"
   ]
  },
  {
   "cell_type": "markdown",
   "id": "13737d5f",
   "metadata": {},
   "source": [
    "**Note**:\n",
    "\n",
    "So, while both concepts involve methods with the same name, method overloading deals with multiple methods in the same class with different parameters, and method overriding involves two methods with the same name and parameters in parent and child classes"
   ]
  },
  {
   "cell_type": "markdown",
   "id": "f737de2b",
   "metadata": {},
   "source": [
    "#### 16. Explain the purpose of the `__init__()` method in Python inheritance and how it is utilized in child  classes."
   ]
  },
  {
   "cell_type": "markdown",
   "id": "b75447e5",
   "metadata": {},
   "source": [
    "##### Solution:\n",
    "\n",
    "In Python, the `__init__()` method is a special method that is automatically called when an object of a class is instantiated, i.e., when a new instance of a class is created. \n",
    "\n",
    "This method is used to initialize the attributes of an object.\n",
    "\n",
    "In the context of inheritance, the `__init__()` method plays a crucial role.\n",
    "\n",
    "When a child class is derived from a parent class, it inherits all the methods and attributes of the parent class.\n",
    "\n",
    "However, if we want to add some new attributes to the child class or modify the inherited attributes, we can do so by defining an `__init__()` method in the child class."
   ]
  },
  {
   "cell_type": "code",
   "execution_count": 36,
   "id": "93edc890",
   "metadata": {},
   "outputs": [
    {
     "name": "stdout",
     "output_type": "stream",
     "text": [
      "PW\n",
      "10\n"
     ]
    }
   ],
   "source": [
    "class Parent:\n",
    "    def __init__(self, name):\n",
    "        self.name = name\n",
    "\n",
    "class Child(Parent):\n",
    "    def __init__(self, name, age):\n",
    "        super().__init__(name)\n",
    "        self.age = age\n",
    "child = Child(\"PW\", 10)\n",
    "print(child.name)\n",
    "print(child.age)"
   ]
  },
  {
   "cell_type": "markdown",
   "id": "91c6c556",
   "metadata": {},
   "source": [
    "#### 17. Create a Python class called `Bird` with a method `fly()`. Then, create child classes `Eagle` and `Sparrow` that inherit from                      `Bird` and implement the `fly()` method differently. Provide an example of using these classes."
   ]
  },
  {
   "cell_type": "code",
   "execution_count": 37,
   "id": "5f674317",
   "metadata": {},
   "outputs": [
    {
     "name": "stdout",
     "output_type": "stream",
     "text": [
      "Genric Bird Parent Class\n",
      "This is an Eagle\n",
      "This is a Sparrow\n"
     ]
    }
   ],
   "source": [
    "class Bird:\n",
    "    \n",
    "    def __init__(self):\n",
    "        \n",
    "        pass\n",
    "    def fly(self):\n",
    "        \n",
    "        return \"Genric Bird Parent Class\"\n",
    "    \n",
    "class Eagle (Bird):\n",
    "    \n",
    "        \n",
    "    def __init__(self):\n",
    "        \n",
    "        pass\n",
    "    \n",
    "    def fly(self):\n",
    "        \n",
    "        return \"This is an Eagle\"\n",
    "    \n",
    "class Sparrow (Bird):\n",
    "    \n",
    "    def __init__(self):\n",
    "        \n",
    "        pass\n",
    "    \n",
    "    def fly(self):\n",
    "        return \"This is a Sparrow\"\n",
    "\n",
    "bird = Bird()\n",
    "print(bird.fly())\n",
    "\n",
    "eagle = Eagle()\n",
    "print(eagle.fly())\n",
    "\n",
    "sparrow = Sparrow()\n",
    "print(sparrow.fly())   "
   ]
  },
  {
   "cell_type": "markdown",
   "id": "20d56022",
   "metadata": {},
   "source": [
    "#### 18. What is the \"diamond problem\" in multiple inheritance, and how does Python address it?"
   ]
  },
  {
   "cell_type": "markdown",
   "id": "177157dc",
   "metadata": {},
   "source": [
    "##### Solution:\n",
    "\n",
    "The `diamond problem` refers to an ambiguity that arises in multiple inheritance scenarios in object-oriented programming languages. This problem occurs when a class (let’s call it Class4) inherits from two classes (Class2 and Class3) that both inherit from a common superclass (Class1). If there is a method “m” that is overridden in one or both of the parent classes (Class2 and Class3), then it’s ambiguous which version of the method “m” Class4 should inherit.\n",
    "\n",
    "In Python, this problem is addressed by giving preference to the class that gets inherited first. This is determined by the order in which the parent classes are specified in the class definition. For example, if Class4 is defined as class Class4(Class2, Class3):, then it will inherit from Class2 before Class3. Therefore, if both Class2 and Class3 have a method “m”, then Class4 will inherit this method from Class2\n",
    "\n"
   ]
  },
  {
   "cell_type": "code",
   "execution_count": 38,
   "id": "4b47113f",
   "metadata": {},
   "outputs": [
    {
     "name": "stdout",
     "output_type": "stream",
     "text": [
      "In Class2\n"
     ]
    }
   ],
   "source": [
    "class Class1:\n",
    "    def m(self):\n",
    "        print(\"In Class1\")\n",
    "\n",
    "class Class2(Class1):\n",
    "    def m(self):\n",
    "        print(\"In Class2\")\n",
    "\n",
    "class Class3(Class1):\n",
    "    def m(self):\n",
    "        print(\"In Class3\")\n",
    "\n",
    "class Class4(Class2, Class3):\n",
    "    pass\n",
    "\n",
    "obj = Class4()\n",
    "obj.m() "
   ]
  },
  {
   "cell_type": "markdown",
   "id": "f32ae555",
   "metadata": {},
   "source": [
    "#### 19. Discuss the concept of \"is-a\" and \"has-a\" relationships in inheritance, and provide examples of each."
   ]
  },
  {
   "cell_type": "markdown",
   "id": "f663d3ea",
   "metadata": {},
   "source": [
    "##### Solution:\n",
    "\n",
    "In Python, the concepts of “is-a” and “has-a” relationships pertain to inheritance and composition in object-oriented programming.'\n",
    "\n",
    "`Is-a Relationship (Inheritance):`\n",
    "\n",
    "The “is-a” relationship is a concept of inheritance. \n",
    "\n",
    "It’s a way to form new classes using classes that have already been defined. \n",
    "\n",
    "The new classes, known as derived classes, inherit attributes and behavior of the pre-existing classes, which are referred to as base classes. \n",
    "\n",
    "It’s called an “is-a” relationship because the derived class is a type of the base class."
   ]
  },
  {
   "cell_type": "code",
   "execution_count": 39,
   "id": "09a81d90",
   "metadata": {},
   "outputs": [
    {
     "data": {
      "text/plain": [
       "True"
      ]
     },
     "execution_count": 39,
     "metadata": {},
     "output_type": "execute_result"
    }
   ],
   "source": [
    "class Bird:\n",
    " \n",
    "    pass\n",
    "\n",
    "class Sparrow(Bird):\n",
    "    \n",
    "    pass\n",
    "\n",
    "issubclass(Sparrow, Bird) # is-a relationship"
   ]
  },
  {
   "cell_type": "markdown",
   "id": "7193e763",
   "metadata": {},
   "source": [
    "`Has-a Relationship (Composition):`\n",
    "\n",
    "The `has-a` relationship is a concept of composition. It’s another way to build complex objects by using other objects. It’s called a `has-a` relationship because it involves creating objects that have other objects."
   ]
  },
  {
   "cell_type": "code",
   "execution_count": 40,
   "id": "ea3c79ba",
   "metadata": {},
   "outputs": [
    {
     "name": "stdout",
     "output_type": "stream",
     "text": [
      "Intel\n"
     ]
    }
   ],
   "source": [
    "class Processor:\n",
    "    def __init__(self, brand):\n",
    "        self.brand = brand\n",
    "\n",
    "class Computer:\n",
    "    def __init__(self, processor_brand):\n",
    "        self.processor = Processor(processor_brand)\n",
    "\n",
    "my_computer = Computer('Intel')\n",
    "print(my_computer.processor.brand) # has-a relationship"
   ]
  },
  {
   "cell_type": "markdown",
   "id": "ec7c54b9",
   "metadata": {},
   "source": [
    "#### 20. Create a Python class hierarchy for a university system. Start with a base class `Person` and create child classes `Student` and `Professor`, each with their own attributes and methods. Provide an example of using these classes in a university context.\n"
   ]
  },
  {
   "cell_type": "code",
   "execution_count": 41,
   "id": "79f6a407",
   "metadata": {},
   "outputs": [
    {
     "name": "stdout",
     "output_type": "stream",
     "text": [
      "Name:  Elon Musk\n",
      "Age:  20\n",
      "\n",
      "\n",
      "Student ID ID_1\n",
      "Name:  Tom\n",
      "Age:  18\n",
      "Student Degree:  B.Tech-CSE\n",
      "\n",
      "\n",
      "Professor ID:  P_ID_1\n",
      "Name:  Stephane Maarek\n",
      "Age:  30\n",
      "Department of Professor:  AWS\n"
     ]
    }
   ],
   "source": [
    "class Person:\n",
    "    \n",
    "    def __init__(self, name, age):\n",
    "        \n",
    "        self.name = name\n",
    "        self.age = age\n",
    "        \n",
    "    def display_details(self):\n",
    "    \n",
    "        print(\"Name: \", self.name)\n",
    "        print(\"Age: \", self.age)\n",
    "        \n",
    "class Student(Person):\n",
    "    \n",
    "    def __init__(self,name,age, student_id, degree):\n",
    "        \n",
    "        super().__init__(name, age)\n",
    "        self.student_id = student_id\n",
    "        self.degree = degree\n",
    "        \n",
    "    def display_student_details(self):\n",
    "        \n",
    "        print(\"Student ID\", self.student_id)\n",
    "        \n",
    "        super().display_details()\n",
    "        \n",
    "        print(\"Student Degree: \",self.degree )\n",
    "        \n",
    "class Professor(Person):\n",
    "    \n",
    "    def __init__(self, professor_id, name, age, department):\n",
    "        \n",
    "        super().__init__(name, age)\n",
    "        self.professor_id = professor_id\n",
    "        self.department = department\n",
    "        \n",
    "    def display_professor_details(self):\n",
    "        \n",
    "        print(\"Professor ID: \", self.professor_id)\n",
    "        super().display_details()\n",
    "        \n",
    "        print(\"Department of Professor: \", self.department)\n",
    "              \n",
    "person = Person(\"Elon Musk\", 20)\n",
    "person.display_details()\n",
    "\n",
    "print(\"\\n\")\n",
    "\n",
    "student = Student(\"Tom\", 18, \"ID_1\", \"B.Tech-CSE\")\n",
    "student.display_student_details()\n",
    "\n",
    "print(\"\\n\")\n",
    "\n",
    "professor = Professor(\"P_ID_1\", \"Stephane Maarek\", 30, \"AWS\")\n",
    "professor.display_professor_details()"
   ]
  },
  {
   "cell_type": "markdown",
   "id": "8f9d248d",
   "metadata": {},
   "source": [
    "### Encapsulation:"
   ]
  },
  {
   "cell_type": "markdown",
   "id": "5140c222",
   "metadata": {},
   "source": [
    "#### 1. Explain the concept of encapsulation in Python. What is its role in object-oriented programming?"
   ]
  },
  {
   "cell_type": "markdown",
   "id": "482d2a63",
   "metadata": {},
   "source": [
    "##### Solution:\n",
    "\n",
    "`Encapsulation in Python:` \n",
    "\n",
    "Encapsulation is a fundamental concept in object-oriented programming (OOP). It’s the mechanism of hiding data (variables) and methods (functions) within an object from the outside world, and accessing them only through the object’s interface. This is done to prevent direct access to an object’s internal state and to control how that state is changed."
   ]
  },
  {
   "cell_type": "markdown",
   "id": "c5d662b3",
   "metadata": {},
   "source": [
    "#### 2. Describe the key principles of encapsulation, including access control and data hiding."
   ]
  },
  {
   "cell_type": "markdown",
   "id": "dd85b006",
   "metadata": {},
   "source": [
    "##### Solution:\n",
    "\n",
    "Key Principles of Encapsulation:\n",
    "\n",
    "The key principles of encapsulation are data hiding and access control.\n",
    "\n",
    "Data hiding involves making the data private so it can’t be directly accessed from outside the class.\n",
    "\n",
    "Access control is implemented using methods (like getters and setters) that control how the data is accessed or modified.\n"
   ]
  },
  {
   "cell_type": "markdown",
   "id": "0add2cb4",
   "metadata": {},
   "source": [
    "#### 3. How can you achieve encapsulation in Python classes? Provide an example."
   ]
  },
  {
   "cell_type": "markdown",
   "id": "6bffdb96",
   "metadata": {},
   "source": [
    "##### Solution:\n",
    "\n",
    "Achieving `Encapsulation` in Python:\n",
    "\n",
    "In Python, encapsulation is achieved by using `private (__)` and `protected (_)` access modifiers. "
   ]
  },
  {
   "cell_type": "code",
   "execution_count": 42,
   "id": "4f42c378",
   "metadata": {},
   "outputs": [
    {
     "name": "stdout",
     "output_type": "stream",
     "text": [
      "0\n"
     ]
    }
   ],
   "source": [
    "\n",
    "class MyClass:\n",
    "    def __init__(self):\n",
    "        self.__private_var = 0  # Private variable\n",
    "        self._protected_var = 0  # Protected variable\n",
    "obj = MyClass()\n",
    "# print(obj.__private_var) # Shows error as private variables cannot be accessed outside the class.\n",
    "\n",
    "print(obj._protected_var) # Works, but not recommended. "
   ]
  },
  {
   "cell_type": "markdown",
   "id": "8da13283",
   "metadata": {},
   "source": [
    "#### 4. Discuss the difference between public, private, and protected access modifiers in Python."
   ]
  },
  {
   "cell_type": "markdown",
   "id": "ed26461f",
   "metadata": {},
   "source": [
    "##### Solution:\n",
    "\n",
    "Public, Private, and Protected Access Modifiers:\n",
    "\n",
    "In Python, members of a class are public by default.\n",
    "\n",
    "Private members are denoted by a double underscore prefix `(__var)` and can’t be accessed directly from outside the class. \n",
    "\n",
    "Protected members are denoted by a single underscore prefix `(_var)` and can be accessed from subclasses."
   ]
  },
  {
   "cell_type": "markdown",
   "id": "3d5aab9b",
   "metadata": {},
   "source": [
    "#### 5. Create a Python class called `Person` with a private attribute `__name`. Provide methods to get and set the name attribute."
   ]
  },
  {
   "cell_type": "code",
   "execution_count": 43,
   "id": "e44e7df4",
   "metadata": {},
   "outputs": [
    {
     "name": "stdout",
     "output_type": "stream",
     "text": [
      "Harry\n",
      "Tom\n",
      "Tom\n"
     ]
    }
   ],
   "source": [
    "class Person:\n",
    "    \n",
    "    def __init__(self, __name):\n",
    "        \n",
    "        self.__name = __name\n",
    "        \n",
    "    def get_name(self):\n",
    "        \n",
    "        return self.__name\n",
    "    def set_name(self, new_name):\n",
    "        \n",
    "        self.__name = new_name\n",
    "        return self.__name\n",
    "    \n",
    "person = Person(\"Harry\")\n",
    "print(person.get_name())\n",
    "print(person.set_name(\"Tom\"))      \n",
    "print(person.get_name())"
   ]
  },
  {
   "cell_type": "markdown",
   "id": "0c98ed1e",
   "metadata": {},
   "source": [
    "#### 6. Explain the purpose of getter and setter methods in encapsulation. Provide examples."
   ]
  },
  {
   "cell_type": "markdown",
   "id": "36647210",
   "metadata": {},
   "source": [
    "##### Solution:\n",
    "\n",
    "Purpose of Getter and Setter Methods: Getter and setter methods are used to control access to an object’s attributes. The getter method returns the value of the attribute, while the setter method sets or changes its value. They provide a way to validate or modify data before it’s set or returned."
   ]
  },
  {
   "cell_type": "code",
   "execution_count": 44,
   "id": "ac7581f1",
   "metadata": {},
   "outputs": [
    {
     "name": "stdout",
     "output_type": "stream",
     "text": [
      "Life of Pi\n",
      "Game of Thrones\n",
      "Game of Thrones\n"
     ]
    }
   ],
   "source": [
    "# Example to illustratre getteer and setter methods\n",
    "\n",
    "class Book:\n",
    "    \n",
    "    def __init__(self, title):\n",
    "        \n",
    "        self.title = title\n",
    "        \n",
    "    def get_title(self):\n",
    "        \n",
    "        return self.title\n",
    "    def set_title(self, new_title):\n",
    "        \n",
    "        self.title = new_title\n",
    "        return self.title\n",
    "    \n",
    "book = Book(\"Life of Pi\")\n",
    "print(book.get_title())\n",
    "print(book.set_title(\"Game of Thrones\"))\n",
    "print(book.get_title())"
   ]
  },
  {
   "cell_type": "markdown",
   "id": "68f84732",
   "metadata": {},
   "source": [
    "#### 7. What is name mangling in Python, and how does it affect encapsulation?"
   ]
  },
  {
   "cell_type": "markdown",
   "id": "f807bf7c",
   "metadata": {},
   "source": [
    "##### Solution:\n",
    "\n",
    "Name Mangling in Python: \n",
    "\n",
    "Name mangling is a mechanism in Python where the interpreter modifies the name of a variable if it’s marked as private (starts with`__`). \n",
    "\n",
    "This is done to avoid naming conflicts with names defined in subclasses."
   ]
  },
  {
   "cell_type": "code",
   "execution_count": 45,
   "id": "5360a67d",
   "metadata": {},
   "outputs": [
    {
     "name": "stdout",
     "output_type": "stream",
     "text": [
      "{'_MyClass__private_var': 10}\n",
      "10\n"
     ]
    }
   ],
   "source": [
    "class MyClass:\n",
    "    def __init__(self):\n",
    "        self.__private_var = 10\n",
    "\n",
    "obj = MyClass()\n",
    "print(obj.__dict__)\n",
    "\n",
    "# Despite this, it’s still possible to access the attribute directly using its mangled name:\n",
    "print(obj._MyClass__private_var)  # Outputs: 10"
   ]
  },
  {
   "cell_type": "markdown",
   "id": "8a85ee3f",
   "metadata": {},
   "source": [
    "However, this practice is generally discouraged because it goes against the principle of encapsulation. The main idea behind making an attribute private is that it should not be accessed directly outside of its class. Name mangling is Python’s way of enforcing this (although it’s not foolproof)."
   ]
  },
  {
   "cell_type": "markdown",
   "id": "423cbd47",
   "metadata": {},
   "source": [
    "#### 8. Create a Python class called `BankAccount` with private attributes for the account balance (`__balance`)"
   ]
  },
  {
   "cell_type": "code",
   "execution_count": 46,
   "id": "a4b8535e",
   "metadata": {},
   "outputs": [
    {
     "name": "stdout",
     "output_type": "stream",
     "text": [
      "1234\n"
     ]
    }
   ],
   "source": [
    "class BankAccount:\n",
    "    def __init__(self, account_number, balance=0):\n",
    "        self.__account_number = account_number\n",
    "        self.__balance = balance\n",
    "\n",
    "    def deposit(self, amount):\n",
    "        self.__balance += amount\n",
    "\n",
    "    def withdraw(self, amount):\n",
    "        if amount > self.__balance:\n",
    "            print(\"Insufficient balance!\")\n",
    "        else:\n",
    "            self.__balance -= amount\n",
    "account = BankAccount(\"1234\", 100)\n",
    "\n",
    "# account.__account_number  # Shows error because __account_number attribute is private\n",
    "print(account._BankAccount__account_number) # Works because we are using name mangling (not recommended)"
   ]
  },
  {
   "cell_type": "markdown",
   "id": "cf7a664a",
   "metadata": {},
   "source": [
    "#### 9. Discuss the advantages of encapsulation in terms of code maintainability and security."
   ]
  },
  {
   "cell_type": "markdown",
   "id": "778aa152",
   "metadata": {},
   "source": [
    "##### Solution:\n",
    "\n",
    "Advantages of Encapsulation: \n",
    "\n",
    "In terms of `code maintainability`, encapsulation means that we can change one part of our code without affecting other parts. For example, we could change how a class’s methods are implemented, or update a variable’s data type, without it affecting any code that uses that class.\n",
    "\n",
    "In terms of `security`, encapsulation helps keep data safe from outside interference and misuse. Data can be made private, which means it can only be accessed or modified by methods within its own class. This means that other parts of our code can’t accidentally change the value of private data."
   ]
  },
  {
   "cell_type": "markdown",
   "id": "c661dff2",
   "metadata": {},
   "source": [
    "#### 10. How can you access private attributes in Python? Provide an example demonstrating the use of name mangling."
   ]
  },
  {
   "cell_type": "markdown",
   "id": "002b49e2",
   "metadata": {},
   "source": [
    "##### Solution:\n",
    "\n",
    "`Accessing Private Attributes in Python:`\n",
    "\n",
    "Despite being marked as private, attributes can still be accessed directly using name mangling:\n",
    "\n",
    "object._classname__attribute. However, this practice is generally discouraged."
   ]
  },
  {
   "cell_type": "code",
   "execution_count": 47,
   "id": "12b605d4",
   "metadata": {},
   "outputs": [
    {
     "name": "stdout",
     "output_type": "stream",
     "text": [
      "{'_MyClass__private_var': 10}\n",
      "10\n"
     ]
    }
   ],
   "source": [
    "class MyClass:\n",
    "    def __init__(self):\n",
    "        self.__private_var = 10\n",
    "\n",
    "obj = MyClass()\n",
    "print(obj.__dict__)\n",
    "\n",
    "print(obj._MyClass__private_var) # Accessing __private_var using its mangled name: _MyClass__private_var"
   ]
  },
  {
   "cell_type": "markdown",
   "id": "4e336b7b",
   "metadata": {},
   "source": [
    "#### 11. Create a Python class hierarchy for a school system, including classes for students, teachers, and courses, and implement encapsulation principles to protect sensitive information."
   ]
  },
  {
   "cell_type": "code",
   "execution_count": 48,
   "id": "2356446c",
   "metadata": {},
   "outputs": [
    {
     "name": "stdout",
     "output_type": "stream",
     "text": [
      "Jack\n",
      "Tom\n",
      "Tom\n"
     ]
    }
   ],
   "source": [
    "class Person:\n",
    "    def __init__(self, name):\n",
    "        self.__name = name\n",
    "\n",
    "    def get_name(self):\n",
    "        return self.__name\n",
    "    def set_name(self, new_name):\n",
    "        \n",
    "        self.__name = new_name\n",
    "        return self.__name\n",
    "class Student(Person):\n",
    "    def __init__(self, name, courses):\n",
    "        super().__init__(name)\n",
    "        self.__courses = courses\n",
    "\n",
    "class Teacher(Person):\n",
    "    def __init__(self, name, courses):\n",
    "        super().__init__(name)\n",
    "        self.__courses = courses\n",
    "\n",
    "class Course:\n",
    "    def __init__(self, title):\n",
    "        self.__title = title\n",
    "        \n",
    "person = Person(\"Jack\")\n",
    "print(person.get_name())\n",
    "print(person.set_name(\"Tom\"))\n",
    "print(person.get_name())"
   ]
  },
  {
   "cell_type": "markdown",
   "id": "a093fe5c",
   "metadata": {},
   "source": [
    "#### 12. Explain the concept of property decorators in Python and how they relate to encapsulation."
   ]
  },
  {
   "cell_type": "markdown",
   "id": "dc937edb",
   "metadata": {},
   "source": [
    "##### Solution:\n",
    "\n",
    "Property Decorators in Python: \n",
    "\n",
    "Property decorators provide a way to customize getters and setters for class attributes.\n",
    "\n",
    "They allow us to add functionality to the getter and setter methods and can be used to ensure that certain conditions are met before an attribute’s value is set or returned."
   ]
  },
  {
   "cell_type": "markdown",
   "id": "2058ef73",
   "metadata": {},
   "source": [
    "#### 13. What is data hiding, and why is it important in encapsulation? Provide examples."
   ]
  },
  {
   "cell_type": "markdown",
   "id": "915bfecb",
   "metadata": {},
   "source": [
    "##### Solution:\n",
    "\n",
    "Sure, I'd be happy to elaborate on that.\n",
    "\n",
    "**Data hiding** is a key aspect of encapsulation where some of an object's attributes are hidden from other objects. This ensures that objects don't have direct access to each other's state, which can prevent unwanted side effects.\n",
    "\n",
    "For example, consider a `BankAccount` class with a private `balance` attribute. With data hiding, the `balance` attribute is not visible to other classes or objects. This means that they can't directly modify the balance of a bank account.\n",
    "\n",
    "Instead, the `BankAccount` class provides public methods (like `deposit()` and `withdraw()`) that allow other objects to interact with the balance. These methods serve as the interface to the `BankAccount` class, and they can include checks and validations to ensure that the balance is always in a valid state (e.g., it's not possible to withdraw more money than the current balance).\n",
    "\n",
    "This is important because it helps maintain the integrity of the data. If other parts of our code could directly modify the balance, it could lead to bugs or inconsistencies in our program. For example, an error in another part of your code could accidentally set the balance to a negative number.\n",
    "\n",
    "By using data hiding, you can prevent these kinds of issues. Only the `BankAccount` class itself has control over its own balance attribute, which helps ensure that its state is always consistent and valid."
   ]
  },
  {
   "cell_type": "markdown",
   "id": "553e3701",
   "metadata": {},
   "source": [
    "#### 14. Create a Python class called `Employee` with private attributes for salary (`__salary`) and employee ID (`__employee_id`). Provide a method to calculate yearly bonuses."
   ]
  },
  {
   "cell_type": "code",
   "execution_count": 49,
   "id": "f6cfd50a",
   "metadata": {},
   "outputs": [
    {
     "data": {
      "text/plain": [
       "1000.0"
      ]
     },
     "execution_count": 49,
     "metadata": {},
     "output_type": "execute_result"
    }
   ],
   "source": [
    "class Employee:\n",
    "    def __init__(self, employee_id, salary):\n",
    "        self.__employee_id = employee_id\n",
    "        self.__salary = salary\n",
    "\n",
    "    def calculate_bonus(self):\n",
    "        return self.__salary * 0.1  # 10% bonus\n",
    "    \n",
    "employee = Employee(\"1234\", 10000)\n",
    "employee.calculate_bonus()"
   ]
  },
  {
   "cell_type": "markdown",
   "id": "107ac09f",
   "metadata": {},
   "source": [
    "#### 15. Discuss the use of accessors and mutators in encapsulation. How do they help maintain control over attribute access?"
   ]
  },
  {
   "cell_type": "markdown",
   "id": "3d088503",
   "metadata": {},
   "source": [
    "##### Solution:\n",
    "\n",
    "Accessors and Mutators in Encapsulation:\n",
    "\n",
    "Accessors (getters) and mutators (setters) are used in encapsulation to control how data is accessed or modified.\n",
    "\n",
    "They provide a way to validate or modify data before it’s set or returned."
   ]
  },
  {
   "cell_type": "markdown",
   "id": "e957004f",
   "metadata": {},
   "source": [
    "#### 16. What are the potential drawbacks or disadvantages of using encapsulation in Python?"
   ]
  },
  {
   "cell_type": "markdown",
   "id": "62baa309",
   "metadata": {},
   "source": [
    "##### Solution:\n",
    "\n",
    "While encapsulation is a fundamental concept in object-oriented programming and has many benefits, it also has some potential drawbacks or disadvantages such as: \n",
    "\n",
    "`Increased Complexity:`\n",
    "\n",
    "Encapsulation can lead to increased complexity in the code. This is because it requires the creation of additional methods (getters and setters) to access and modify the private variables. This can make the code longer and harder to read.\n",
    "\n",
    "`Performance Overhead:`\n",
    "\n",
    "The use of getters and setters introduces an extra layer of method calls, which can lead to a slight decrease in performance. This is usually negligible, but in performance-critical applications, it could be a concern.\n",
    "\n",
    "`Design Difficulties:` \n",
    "\n",
    "Designing a class with proper encapsulation can be challenging, especially for novice programmers. It requires a good understanding of what should be hidden, what should be exposed, and how to properly design the interface of the class.\n",
    "\n",
    "`Testing Challenges:`\n",
    "\n",
    "Private methods and attributes cannot be directly tested because they are not accessible from outside the class. This can make unit testing more challenging.\n",
    "\n",
    "`Misuse of Encapsulation:`\n",
    "\n",
    "Sometimes, programmers may misuse encapsulation by making all data members private and providing public getters and setters for them, which essentially makes them public. This defeats the purpose of encapsulation, which is to hide the internal state of an object and only expose a minimal interface."
   ]
  },
  {
   "cell_type": "markdown",
   "id": "e8fd58b4",
   "metadata": {},
   "source": [
    "#### 17. Create a Python class for a library system that encapsulates book information, including titles, authors, and availability status."
   ]
  },
  {
   "cell_type": "code",
   "execution_count": 50,
   "id": "3444c5d4",
   "metadata": {},
   "outputs": [],
   "source": [
    "class Book:\n",
    "    def __init__(self, title, author, status='available'):\n",
    "        self.__title = title\n",
    "        self.__author = author\n",
    "        self.__status = status"
   ]
  },
  {
   "cell_type": "markdown",
   "id": "a42cd703",
   "metadata": {},
   "source": [
    "#### 18. Explain how encapsulation enhances code reusability and modularity in Python programs."
   ]
  },
  {
   "cell_type": "markdown",
   "id": "ba539ff6",
   "metadata": {},
   "source": [
    "##### Solution:\n",
    "\n",
    "Encapsulation enhances code reusability and modularity in Python programs in several ways:\n",
    "\n",
    "**`Code Reusability:`**\n",
    "\n",
    "When you encapsulate our code, we’re essentially creating a blueprint (class) that can be used to create multiple objects. This means we can reuse the same class to create as many objects as we need, without having to write new code for each object. For example, if we have a Car class, we can use this class to create multiple Car objects (like car1, car2, etc.), each with its own set of attributes and methods.\n",
    "\n",
    "**`Code Modularity:`**\n",
    "\n",
    "Encapsulation also makes our code more modular. Each class we create becomes a self-contained module that includes specific attributes and methods. These classes (modules) can interact with each other through their public interfaces (methods), but their internal state is hidden from each other. This means we can change the internal implementation of one class without affecting the others, as long as the public interface remains the same. This makes our code easier to maintain and modify.\n",
    "\n",
    "**`Simplifying Complex Systems:`**\n",
    "\n",
    "By breaking down a complex system into smaller, more manageable classes (modules), encapsulation simplifies the development process. Each class can be developed and tested independently before being integrated with others.\n",
    "\n",
    "**`Protecting Data Integrity:`**\n",
    "\n",
    "Encapsulation protects the data in an object from being accidentally modified by other parts of the program. By making attributes private and providing public getter and setter methods, we can control how and when the data is accessed or modified."
   ]
  },
  {
   "cell_type": "markdown",
   "id": "46c5a6e6",
   "metadata": {},
   "source": [
    "#### 19. Describe the concept of information hiding in encapsulation. Why is it essential in software development?"
   ]
  },
  {
   "cell_type": "markdown",
   "id": "c8783d04",
   "metadata": {},
   "source": [
    "##### Solution:\n",
    "\n",
    "Information hiding is a principle of encapsulation where the details of an object’s implementation are hidden from the outside world. This allows the object’s interface to be used without needing to understand the underlying implementation.\n",
    "\n",
    "In software development, information hiding is essential for several reasons:\n",
    "\n",
    "**`Simplicity:`**\n",
    "\n",
    "By hiding the complex details of how a class or module works, we present a simpler interface to the users of that class or module. They don’t need to understand all the details of how it works in order to use it.\n",
    "\n",
    "**`Maintainability:`**\n",
    "\n",
    "When the implementation details are hidden, it’s easier to change them without affecting the rest of the program. For example, we could change how data is stored in a class without changing any code that uses that class, as long as the interface remains the same.\n",
    "\n",
    "**`Security:`**\n",
    "\n",
    "Information hiding can also provide security benefits. By keeping data and implementation details private, we can prevent unauthorized code from accessing or modifying it.\n",
    "\n",
    "**`Modularity:`** \n",
    "\n",
    "Information hiding supports modularity by decoupling the modules in a system. Each module has its own private state and behavior, and communicates with other modules through a well-defined interface.\n",
    "\n",
    "**`Example:`**\n",
    "\n",
    "Let us consider a BankAccount class with private attributes for account balance and account number. The methods for depositing and withdrawing money are public, but the implementation details (like how the balance is stored and updated) are hidden. This means that other parts of our code can use a BankAccount object without needing to understand these details, which makes our code simpler, more modular, and easier to maintain."
   ]
  },
  {
   "cell_type": "markdown",
   "id": "33525851",
   "metadata": {},
   "source": [
    "#### 20. Create a Python class called `Customer` with private attributes for customer details like name, address, and contact information. Implement encapsulation to ensure data integrity and security."
   ]
  },
  {
   "cell_type": "code",
   "execution_count": 51,
   "id": "d3c184b2",
   "metadata": {},
   "outputs": [
    {
     "name": "stdout",
     "output_type": "stream",
     "text": [
      "Jack\n",
      "Tom\n",
      "Tom\n"
     ]
    }
   ],
   "source": [
    "class Customer:\n",
    "    def __init__(self, __name, address, contact_info):\n",
    "        self.__name = __name\n",
    "        self.__address = address\n",
    "        self.__contact_info = contact_info\n",
    "        \n",
    "    def get_name(self):\n",
    "        return self.__name \n",
    "    def set_name(self, new_name):\n",
    "        self.__name = new_name\n",
    "        return self.__name\n",
    "    \n",
    "customer = Customer(\"Jack\", \"USA\", \"123456789\")\n",
    "print(customer.get_name())\n",
    "print(customer.set_name(\"Tom\"))\n",
    "print(customer.get_name())"
   ]
  },
  {
   "cell_type": "markdown",
   "id": "f8393d3d",
   "metadata": {},
   "source": [
    "### Polymorphism:"
   ]
  },
  {
   "cell_type": "markdown",
   "id": "edb190ec",
   "metadata": {},
   "source": [
    "#### 1. What is polymorphism in Python? Explain how it is related to object-oriented programming."
   ]
  },
  {
   "cell_type": "markdown",
   "id": "524c5535",
   "metadata": {},
   "source": [
    "##### Solution:\n",
    "\n",
    "`Polymorphism` is a key concept in Object-Oriented Programming (OOP) that allows us to use a single type entity (method, operator, object) to represent different types in different scenarios. In Python, polymorphism allows us to define methods in the child class with the same name as defined in their parent class."
   ]
  },
  {
   "cell_type": "markdown",
   "id": "1afa3756",
   "metadata": {},
   "source": [
    "#### 2. Describe the difference between compile-time polymorphism and runtime polymorphism in Python."
   ]
  },
  {
   "cell_type": "markdown",
   "id": "26abe6bd",
   "metadata": {},
   "source": [
    "##### Solution:\n",
    "\n",
    "**`Compile-time polymorphism`**, also known as static or early binding, is a type of polymorphism in which the method to be executed is decided at compile time. However, Python doesn’t support compile-time polymorphism. This is because Python is a dynamically typed language, meaning that the type of a variable is checked during runtime, not beforehand.\n",
    "\n",
    "**`Runtime polymorphism`**, also known as dynamic or late binding, is a process in which a call to an overridden method is resolved at runtime rather than at compile-time. In this case, the method to be executed is decided based on the object’s runtime type. Python supports runtime polymorphism."
   ]
  },
  {
   "cell_type": "code",
   "execution_count": 52,
   "id": "9e10c8b7",
   "metadata": {},
   "outputs": [
    {
     "name": "stdout",
     "output_type": "stream",
     "text": [
      "Woof!\n",
      "Meow!\n"
     ]
    }
   ],
   "source": [
    "class Animal:\n",
    "    def sound(self):\n",
    "        pass\n",
    "\n",
    "class Dog(Animal):\n",
    "    def sound(self):\n",
    "        return \"Woof!\"\n",
    "\n",
    "class Cat(Animal):\n",
    "    def sound(self):\n",
    "        return \"Meow!\"\n",
    "\n",
    "# Create instances\n",
    "dog = Dog()\n",
    "cat = Cat()\n",
    "\n",
    "# Call sound() method - decided at runtime\n",
    "print(dog.sound())  # Outputs: Woof!\n",
    "print(cat.sound())  # Outputs: Meow!"
   ]
  },
  {
   "cell_type": "markdown",
   "id": "cba30a54",
   "metadata": {},
   "source": [
    "#### 3. Create a Python class hierarchy for shapes (e.g., circle, square, triangle) and demonstrate polymorphism through a common method, such as `calculate_area()`."
   ]
  },
  {
   "cell_type": "code",
   "execution_count": 53,
   "id": "5cd0c64e",
   "metadata": {},
   "outputs": [
    {
     "name": "stdout",
     "output_type": "stream",
     "text": [
      "3.141592653589793\n",
      "4\n"
     ]
    }
   ],
   "source": [
    "import math\n",
    "class Shape:\n",
    "    def calculate_area(self):\n",
    "        pass\n",
    "\n",
    "class Circle(Shape):\n",
    "    def __init__(self, radius):\n",
    "        self.radius = radius\n",
    "\n",
    "    def calculate_area(self):\n",
    "        return math.pi * (self.radius ** 2)\n",
    "\n",
    "class Square(Shape):\n",
    "    def __init__(self, side):\n",
    "        self.side = side\n",
    "\n",
    "    def calculate_area(self):\n",
    "        return self.side * self.side\n",
    "circle = Circle(1)\n",
    "print(circle.calculate_area())\n",
    "\n",
    "square = Square(2)\n",
    "print(square.calculate_area())"
   ]
  },
  {
   "cell_type": "markdown",
   "id": "1c716615",
   "metadata": {},
   "source": [
    "#### 4. Explain the concept of method overriding in polymorphism. Provide an example."
   ]
  },
  {
   "cell_type": "markdown",
   "id": "2b640576",
   "metadata": {},
   "source": [
    "##### Solution:\n",
    "\n",
    "Method overriding is a feature of OOP that allows a subclass to provide a different implementation of a method that is already defined in its superclass. It’s used to change the behavior of a method according to the requirements of the subclass.\n",
    "\n",
    "Method overriding is an important aspect of polymorphism in OOP. It allows a subclass to inherit all the methods from its superclass and then change just the ones it needs to. This leads to more organized and manageable code."
   ]
  },
  {
   "cell_type": "code",
   "execution_count": 54,
   "id": "c0d7724a",
   "metadata": {},
   "outputs": [
    {
     "name": "stdout",
     "output_type": "stream",
     "text": [
      "The car's engine roars to life!\n",
      "The bicycle doesn't have an engine!\n"
     ]
    }
   ],
   "source": [
    "class Vehicle:\n",
    "    def start_engine(self):\n",
    "        return \"The vehicle's engine starts.\"\n",
    "\n",
    "class Car(Vehicle):\n",
    "    def start_engine(self):\n",
    "        return \"The car's engine roars to life!\"\n",
    "\n",
    "class Bicycle(Vehicle):\n",
    "    def start_engine(self):\n",
    "        return \"The bicycle doesn't have an engine!\"\n",
    "\n",
    "# Create instances\n",
    "car = Car()\n",
    "bicycle = Bicycle()\n",
    "\n",
    "# Call start_engine() method - overridden by child classes\n",
    "print(car.start_engine())  # Outputs: The car's engine roars to life!\n",
    "print(bicycle.start_engine())  # Outputs: The bicycle doesn't have an engine!"
   ]
  },
  {
   "cell_type": "markdown",
   "id": "adec6eb6",
   "metadata": {},
   "source": [
    "#### 5. How is polymorphism different from method overloading in Python? Provide examples for both."
   ]
  },
  {
   "cell_type": "markdown",
   "id": "3f57f316",
   "metadata": {},
   "source": [
    "##### Solution:\n",
    "\n",
    "Polymorphism and method overloading are both concepts in object-oriented programming, but they serve different purposes.\n",
    "\n",
    "Polymorphism allows us to use a single type entity (method, operator, object) to represent different types in different scenarios.\n",
    "\n",
    "Method overloading, on the other hand, allows us to define methods of the same name but with a different number of arguments or types within the same class. However, Python does not support method overloading natively. But,we can achieve something similar by providing default values for arguments or using variable-length arguments `(*args and **kwargs).`"
   ]
  },
  {
   "cell_type": "code",
   "execution_count": 55,
   "id": "66ecea18",
   "metadata": {},
   "outputs": [],
   "source": [
    "class Shape:\n",
    "    def area(self):\n",
    "        pass\n",
    "\n",
    "class Circle(Shape):\n",
    "    def __init__(self, radius):\n",
    "        self.radius = radius\n",
    "\n",
    "    def area(self):\n",
    "        return 3.14 * (self.radius ** 2)\n",
    "\n",
    "class Rectangle(Shape):\n",
    "    def __init__(self, length, width):\n",
    "        self.length = length\n",
    "        self.width = width\n",
    "\n",
    "    def area(self):\n",
    "        return self.length * self.width\n"
   ]
  },
  {
   "cell_type": "code",
   "execution_count": 56,
   "id": "901454a3",
   "metadata": {},
   "outputs": [
    {
     "name": "stdout",
     "output_type": "stream",
     "text": [
      "Hello, World!\n",
      "Hello, Python!\n"
     ]
    }
   ],
   "source": [
    "class Print:\n",
    "    def display(self, message=\"Hello, World!\"):\n",
    "        print(message)\n",
    "\n",
    "# Create instance\n",
    "p = Print()\n",
    "\n",
    "# Call display() method with no arguments\n",
    "p.display()  # Outputs: Hello, World!\n",
    "\n",
    "# Call display() method with one argument\n",
    "p.display(\"Hello, Python!\")  # Outputs: Hello, Python!"
   ]
  },
  {
   "cell_type": "markdown",
   "id": "8d20b73b",
   "metadata": {},
   "source": [
    "#### 6. Create a Python class called `Animal` with a method `speak()`. Then, create child classes like `Dog`, `Cat`, and `Bird`, each with their own `speak()` method. Demonstrate polymorphism by calling the `speak()` method on objects of different subclasses."
   ]
  },
  {
   "cell_type": "code",
   "execution_count": 57,
   "id": "0183cbef",
   "metadata": {},
   "outputs": [
    {
     "name": "stdout",
     "output_type": "stream",
     "text": [
      "Woof!\n",
      "Meow!\n",
      "Chirp!\n"
     ]
    }
   ],
   "source": [
    "class Animal:\n",
    "    def speak(self):\n",
    "        pass\n",
    "\n",
    "class Dog(Animal):\n",
    "    def speak(self):\n",
    "        return \"Woof!\"\n",
    "\n",
    "class Cat(Animal):\n",
    "    def speak(self):\n",
    "        return \"Meow!\"\n",
    "\n",
    "class Bird(Animal):\n",
    "    def speak(self):\n",
    "        return \"Chirp!\"\n",
    "dog = Dog()\n",
    "print(dog.speak())\n",
    "\n",
    "cat = Cat()\n",
    "print(cat.speak())\n",
    "\n",
    "bird = Bird()\n",
    "print(bird.speak())"
   ]
  },
  {
   "cell_type": "markdown",
   "id": "07f145bf",
   "metadata": {},
   "source": [
    "#### 7. Discuss the use of abstract methods and classes in achieving polymorphism in Python. Provide an example using the `abc` module."
   ]
  },
  {
   "cell_type": "markdown",
   "id": "cc861b19",
   "metadata": {},
   "source": [
    "##### Solution:\n",
    "\n",
    "`Abstract methods` and `abstract classes` are key components in achieving polymorphism in Python. An abstract class is a class that contains one or more abstract methods. An abstract method is a method that has a declaration but does not have an implementation.\n",
    "\n",
    "In Python, we use the abc module to create abstract base classes. The abc module provides the `ABC` class which we can use as a base class for creating abstract base classes. A method becomes abstract when decorated with the keyword `@abstractmethod`."
   ]
  },
  {
   "cell_type": "code",
   "execution_count": 58,
   "id": "6fbbfcd0",
   "metadata": {},
   "outputs": [
    {
     "name": "stdout",
     "output_type": "stream",
     "text": [
      "3.14\n",
      "2\n"
     ]
    }
   ],
   "source": [
    "from abc import ABC, abstractmethod\n",
    "\n",
    "class Shape(ABC):\n",
    "    @abstractmethod\n",
    "    def area(self):\n",
    "        pass\n",
    "\n",
    "class Circle(Shape):\n",
    "    def __init__(self, radius):\n",
    "        self.radius = radius\n",
    "\n",
    "    def area(self):\n",
    "        return 3.14 * (self.radius ** 2)\n",
    "\n",
    "class Rectangle(Shape):\n",
    "    def __init__(self, length, width):\n",
    "        self.length = length\n",
    "        self.width = width\n",
    "\n",
    "    def area(self):\n",
    "        return self.length * self.width\n",
    "\n",
    "# shape = Shape() # Raises the error: TypeError: Can't instantiate abstract class Shape with abstract methods area\n",
    "circle = Circle(1)\n",
    "print(circle.area())\n",
    "rectangle = Rectangle(1,2)\n",
    "print(rectangle.area())"
   ]
  },
  {
   "cell_type": "markdown",
   "id": "b715c8a6",
   "metadata": {},
   "source": [
    "If we try to create an instance of an abstract base class, Python will raise a `TypeError`. This is because the purpose of an abstract base class is to define a common interface for its subclasses. The functionality of the abstract base class is determined by its subclasses.\n",
    "\n",
    "By using abstract methods and classes, we can ensure that a particular method must be created within any child classes built from the abstract class. This design helps us control the consistency of our interfaces while still allowing polymorphism."
   ]
  },
  {
   "cell_type": "markdown",
   "id": "34a19d61",
   "metadata": {},
   "source": [
    "#### 8. Create a Python class hierarchy for a vehicle system (e.g., car, bicycle, boat) and implement a polymorphic `start()` method that prints a message specific to each vehicle type."
   ]
  },
  {
   "cell_type": "code",
   "execution_count": 59,
   "id": "079af477",
   "metadata": {},
   "outputs": [
    {
     "name": "stdout",
     "output_type": "stream",
     "text": [
      "Car started.\n",
      "Bicycle started.\n",
      "Boat started.\n"
     ]
    }
   ],
   "source": [
    "class Vehicle:\n",
    "    def start(self):\n",
    "        pass\n",
    "\n",
    "class Car(Vehicle):\n",
    "    def start(self):\n",
    "        return \"Car started.\"\n",
    "\n",
    "class Bicycle(Vehicle):\n",
    "    def start(self):\n",
    "        return \"Bicycle started.\"\n",
    "\n",
    "class Boat(Vehicle):\n",
    "    def start(self):\n",
    "        return \"Boat started.\"\n",
    "car = Car()\n",
    "print(car.start())\n",
    "\n",
    "bicycle = Bicycle()\n",
    "print(bicycle.start())\n",
    "\n",
    "boat = Boat()\n",
    "print(boat.start())"
   ]
  },
  {
   "cell_type": "markdown",
   "id": "83c27254",
   "metadata": {},
   "source": [
    "#### 9. Explain the significance of the `isinstance()` and `issubclass()` functions in Python polymorphism."
   ]
  },
  {
   "cell_type": "markdown",
   "id": "33a54009",
   "metadata": {},
   "source": [
    "##### Solution:\n",
    "\n",
    "The `isinstance()` and `issubclass()` functions in Python are built-in functions used for checking the type of an object or class relationships, and they play a significant role in polymorphism.\n",
    "\n",
    "These functions are particularly useful in polymorphism because they allow us to check the type of objects and the relationships between classes at runtime. This can help us write more flexible and dynamic code.\n",
    "\n",
    "The `isinstance()` function checks whether an object is an instance of a class or a subclass thereof. It takes two parameters: the object and the class, and returns True if the object is an instance of the class or its subclasses, and False otherwise. "
   ]
  },
  {
   "cell_type": "code",
   "execution_count": 60,
   "id": "4a8caf46",
   "metadata": {},
   "outputs": [
    {
     "name": "stdout",
     "output_type": "stream",
     "text": [
      "True\n",
      "True\n"
     ]
    }
   ],
   "source": [
    "class Vehicle:\n",
    "    pass\n",
    "\n",
    "class Car(Vehicle):\n",
    "    pass\n",
    "\n",
    "car = Car()\n",
    "\n",
    "print(isinstance(car, Car))  # Outputs: True\n",
    "print(isinstance(car, Vehicle))  # Outputs: True"
   ]
  },
  {
   "cell_type": "markdown",
   "id": "10c9b0a5",
   "metadata": {},
   "source": [
    "The `issubclass()` function checks whether a class is a subclass of another class. It takes two parameters: the subclass and the superclass, and returns True if the first class is a subclass of the second class, and False otherwise. "
   ]
  },
  {
   "cell_type": "code",
   "execution_count": 61,
   "id": "f994b0fd",
   "metadata": {},
   "outputs": [
    {
     "name": "stdout",
     "output_type": "stream",
     "text": [
      "True\n",
      "False\n"
     ]
    }
   ],
   "source": [
    "class Vehicle:\n",
    "    pass\n",
    "\n",
    "class Car(Vehicle):\n",
    "    pass\n",
    "\n",
    "print(issubclass(Car, Vehicle))  # Outputs: True\n",
    "print(issubclass(Vehicle, Car))  # Outputs: False"
   ]
  },
  {
   "cell_type": "markdown",
   "id": "53f73abf",
   "metadata": {},
   "source": [
    "#### 10. What is the role of the `@abstractmethod` decorator in achieving polymorphism in Python? Provide an example."
   ]
  },
  {
   "cell_type": "markdown",
   "id": "551160a9",
   "metadata": {},
   "source": [
    "##### Solution:\n",
    "\n",
    "The `@abstractmethod` decorator in Python is used to declare a method as an abstract method. An abstract method is a method declared in an abstract class but does not contain any implementation. Subclasses of this abstract class are generally expected to provide an implementation for this method.\n",
    "\n",
    "The `@abstractmethod` decorator is part of the abc module (which stands for Abstract Base Classes) in Python. When we define a method in an abstract base class and decorate it with @abstractmethod, we’re telling Python that this method must be overridden by any concrete (i.e., non-abstract) subclass."
   ]
  },
  {
   "cell_type": "code",
   "execution_count": 62,
   "id": "7feb941e",
   "metadata": {},
   "outputs": [
    {
     "name": "stdout",
     "output_type": "stream",
     "text": [
      "3.14\n",
      "2\n"
     ]
    }
   ],
   "source": [
    "from abc import ABC, abstractmethod\n",
    "\n",
    "class Shape(ABC):\n",
    "    @abstractmethod\n",
    "    def area(self):\n",
    "        pass\n",
    "\n",
    "class Circle(Shape):\n",
    "    def __init__(self, radius):\n",
    "        self.radius = radius\n",
    "\n",
    "    def area(self):\n",
    "        return 3.14 * (self.radius ** 2)\n",
    "\n",
    "class Rectangle(Shape):\n",
    "    def __init__(self, length, width):\n",
    "        self.length = length\n",
    "        self.width = width\n",
    "\n",
    "    def area(self):\n",
    "        return self.length * self.width\n",
    "\n",
    "circle = Circle(1)\n",
    "print(circle.area())\n",
    "rectangle = Rectangle(1,2)\n",
    "print(rectangle.area())"
   ]
  },
  {
   "cell_type": "markdown",
   "id": "7e22aa5b",
   "metadata": {},
   "source": [
    "#### 11. Create a Python class called `Shape` with a polymorphic method `area()` that calculates the area of"
   ]
  },
  {
   "cell_type": "code",
   "execution_count": 63,
   "id": "f6d7d268",
   "metadata": {},
   "outputs": [
    {
     "name": "stdout",
     "output_type": "stream",
     "text": [
      "3.141592653589793\n",
      "2\n"
     ]
    }
   ],
   "source": [
    "from math import pi\n",
    "\n",
    "class Shape:\n",
    "    def area(self):\n",
    "        pass\n",
    "\n",
    "class Circle(Shape):\n",
    "    def __init__(self, radius):\n",
    "        self.radius = radius\n",
    "\n",
    "    def area(self):\n",
    "        return pi * self.radius ** 2\n",
    "\n",
    "class Rectangle(Shape):\n",
    "    def __init__(self, length, width):\n",
    "        self.length = length\n",
    "        self.width = width\n",
    "\n",
    "    def area(self):\n",
    "        return self.length * self.width\n",
    "    \n",
    "circle = Circle(1)\n",
    "print(circle.area())\n",
    "rectangle = Rectangle(1,2)\n",
    "print(rectangle.area())"
   ]
  },
  {
   "cell_type": "markdown",
   "id": "02eb0317",
   "metadata": {},
   "source": [
    "#### 12. Discuss the benefits of polymorphism in terms of code reusability and flexibility in Python programs."
   ]
  },
  {
   "cell_type": "markdown",
   "id": "fad5056f",
   "metadata": {},
   "source": [
    "##### Solution:\n",
    "\n",
    "Polymorphism is a fundamental concept in object-oriented programming. It provides a way to structure code so that it can be reused, which leads to more concise, readable, and maintainable code.\n",
    "\n",
    "Here are some of the benefits of polymorphism in terms of code reusability and flexibility in Python programs:\n",
    "\n",
    "**`1. Code Reusability:`** Polymorphism allows us to define one interface (i.e., method or operator) and have many implementations. This means we can write one method or function that can handle different types of objects, reducing the need to write a separate method for each type. This leads to more reusable and DRY (Don’t Repeat Yourself) code.\n",
    "\n",
    "**`2. Code Flexibility:`** With polymorphism, we can change the behavior of functions, methods, or classes without changing their structure. This makes our code more flexible and adaptable to changes. For example, if we have a function that takes an object and calls a method on it, we can pass any object that implements that method, and the function will work correctly regardless of the specific type of the object."
   ]
  },
  {
   "cell_type": "markdown",
   "id": "7026386d",
   "metadata": {},
   "source": [
    "#### 13. Explain the use of the `super()` function in Python polymorphism. How does it help call methods of parent classes?"
   ]
  },
  {
   "cell_type": "markdown",
   "id": "9d185604",
   "metadata": {},
   "source": [
    "##### Solution:\n",
    "\n",
    "The `super()` function in Python is used in the context of inheritance and it plays a crucial role in making our code more maintainable and extensible. It’s used to call methods from the parent class without needing to know or specify its name.\n",
    "\n",
    "In Python, when we create a subclass and want to use functionality from the parent class,we can use the super() function. This is particularly useful when we override a method in the parent class but still want to use some of its functionality.\n",
    "\n",
    "The super() function makes our code more maintainable because if we change the name of the parent class, we don’t need to update all calls to its methods. \n",
    "\n",
    "It also makes our code more extensible because subclasses can reuse and extend the functionality of their parent classes."
   ]
  },
  {
   "cell_type": "code",
   "execution_count": 64,
   "id": "529e8501",
   "metadata": {},
   "outputs": [
    {
     "name": "stdout",
     "output_type": "stream",
     "text": [
      "The vehicle's engine starts. The car's engine roars to life!\n"
     ]
    }
   ],
   "source": [
    "class Vehicle:\n",
    "    def start_engine(self):\n",
    "        return \"The vehicle's engine starts.\"\n",
    "\n",
    "class Car(Vehicle):\n",
    "    def start_engine(self):\n",
    "        original_message = super().start_engine()\n",
    "        return original_message + \" The car's engine roars to life!\"\n",
    "\n",
    "car = Car()\n",
    "print(car.start_engine())  # Outputs: The vehicle's engine starts. The car's engine roars to life!"
   ]
  },
  {
   "cell_type": "markdown",
   "id": "5ae28334",
   "metadata": {},
   "source": [
    "#### 14. Create a Python class hierarchy for a banking system with various account types (e.g., savings, checking, credit card) and demonstrate polymorphism by implementing a common `withdraw()` method."
   ]
  },
  {
   "cell_type": "code",
   "execution_count": 65,
   "id": "6fa9b8a0",
   "metadata": {},
   "outputs": [
    {
     "name": "stdout",
     "output_type": "stream",
     "text": [
      "Withdrawing 50 from Savings Account.\n",
      "Withdrawing 60 from Checking Account.\n",
      "Withdrawing 90 from Credit Card Account.\n"
     ]
    }
   ],
   "source": [
    "class Account:\n",
    "    \n",
    "    def __init__(self, amount):\n",
    "        \n",
    "        self.amount = amount\n",
    "        \n",
    "    def withdraw(self):\n",
    "        \n",
    "        pass\n",
    "\n",
    "class SavingsAccount(Account):\n",
    "    \n",
    "    def withdraw(self, amount):\n",
    "        \n",
    "        return f\"Withdrawing {amount} from Savings Account.\"\n",
    "\n",
    "class CheckingAccount(Account):\n",
    "    def withdraw(self, amount):\n",
    "        return f\"Withdrawing {amount} from Checking Account.\"\n",
    "\n",
    "class CreditCardAccount(Account):\n",
    "    def withdraw(self, amount):\n",
    "        return f\"Withdrawing {amount} from Credit Card Account.\"\n",
    "    \n",
    "savings_account = SavingsAccount(100)\n",
    "print(savings_account.withdraw(50))\n",
    "\n",
    "checking_account = CheckingAccount(100)\n",
    "print(checking_account.withdraw(60))\n",
    "\n",
    "\n",
    "credit_card_account = CreditCardAccount(100)\n",
    "print(credit_card_account.withdraw(90))"
   ]
  },
  {
   "cell_type": "markdown",
   "id": "9d03255b",
   "metadata": {},
   "source": [
    "#### 15. Describe the concept of operator overloading in Python and how it relates to polymorphism. Provide examples using operators like `+` and `*`."
   ]
  },
  {
   "cell_type": "markdown",
   "id": "fee398ab",
   "metadata": {},
   "source": [
    "##### Solution:\n",
    "\n",
    "`Operator overloading` is a feature in object-oriented programming that allows operators to have different meanings depending on their context. It’s a type of polymorphism where different operators have different implementations depending on their arguments.\n",
    "\n",
    "In Python, we can change the meaning of an operator depending on the operands. For example, we can overload the + operator to perform vector addition or string concatenation, depending on the type of the operands.\n",
    "\n",
    "Operator overloading makes our code more readable and intuitive. It also allows us to use Python’s syntax to our advantage by enabling expressive ways of coding."
   ]
  },
  {
   "cell_type": "code",
   "execution_count": 66,
   "id": "b9bcb3c1",
   "metadata": {},
   "outputs": [
    {
     "name": "stdout",
     "output_type": "stream",
     "text": [
      "3\n",
      "7\n"
     ]
    }
   ],
   "source": [
    "class Vector:\n",
    "    def __init__(self, x, y):\n",
    "        self.x = x\n",
    "        self.y = y\n",
    "\n",
    "    def __add__(self, other):\n",
    "        return Vector(self.x + other.x, self.y + other.y)\n",
    "\n",
    "v1 = Vector(2, 3)\n",
    "v2 = Vector(1, 4)\n",
    "v3 = v1 + v2\n",
    "print(v3.x)  # Outputs: 3\n",
    "print(v3.y)  # Outputs: 7"
   ]
  },
  {
   "cell_type": "markdown",
   "id": "4755b63d",
   "metadata": {},
   "source": [
    "#### 16. What is dynamic polymorphism, and how is it achieved in Python?"
   ]
  },
  {
   "cell_type": "markdown",
   "id": "64f62121",
   "metadata": {},
   "source": [
    "##### Solution:\n",
    "\n",
    "`Dynamic polymorphism`, also known as `runtime polymorphism`, is a type of polymorphism that is resolved at runtime, not at compile-time. This means that the method to be invoked is determined at runtime based on the type of the object.\n",
    "\n",
    "In Python, dynamic polymorphism is achieved through method overriding and the use of inheritance. When a method is invoked on an object, Python first checks the object’s class for the method. If it doesn’t find it there, it looks in the superclass, and so on up the inheritance chain until it finds a method with the matching name."
   ]
  },
  {
   "cell_type": "code",
   "execution_count": 67,
   "id": "cedee168",
   "metadata": {},
   "outputs": [
    {
     "name": "stdout",
     "output_type": "stream",
     "text": [
      "The vehicle's engine starts.\n",
      "The car's engine roars to life!\n"
     ]
    }
   ],
   "source": [
    "class Vehicle:\n",
    "    \n",
    "    def start_engine(self):\n",
    "        return \"The vehicle's engine starts.\"\n",
    "\n",
    "class Car(Vehicle):\n",
    "    def start_engine(self):\n",
    "        return \"The car's engine roars to life!\"\n",
    "\n",
    "vehicle = Vehicle()\n",
    "car = Car()\n",
    "\n",
    "print(vehicle.start_engine())  # Outputs: The vehicle's engine starts.\n",
    "print(car.start_engine())  # Outputs: The car's engine roars to life!"
   ]
  },
  {
   "cell_type": "markdown",
   "id": "3f6921dc",
   "metadata": {},
   "source": [
    "Dynamic polymorphism is a powerful feature because it allows us to write more flexible and extensible code. We can add new types of objects without changing existing code, and we can override methods to provide new behavior."
   ]
  },
  {
   "cell_type": "markdown",
   "id": "7003b634",
   "metadata": {},
   "source": [
    "#### 17. Create a Python class hierarchy for employees in a company (e.g., manager, developer, designer) and implement polymorphism through a common `calculate_salary()` method."
   ]
  },
  {
   "cell_type": "code",
   "execution_count": 68,
   "id": "c1dea80a",
   "metadata": {},
   "outputs": [
    {
     "name": "stdout",
     "output_type": "stream",
     "text": [
      "Calculating salary for Manager.\n",
      "Calculating salary for Developer.\n",
      "Calculating salary for Designer.\n"
     ]
    }
   ],
   "source": [
    "class Employee:\n",
    "    def calculate_salary(self):\n",
    "        pass\n",
    "\n",
    "class Manager(Employee):\n",
    "    def calculate_salary(self):\n",
    "        return \"Calculating salary for Manager.\"\n",
    "\n",
    "class Developer(Employee):\n",
    "    def calculate_salary(self):\n",
    "        return \"Calculating salary for Developer.\"\n",
    "\n",
    "class Designer(Employee):\n",
    "    def calculate_salary(self):\n",
    "        return \"Calculating salary for Designer.\"\n",
    "manager = Manager()\n",
    "print(manager.calculate_salary())\n",
    "\n",
    "developer = Developer()\n",
    "print(developer.calculate_salary())\n",
    "\n",
    "designer = Designer()\n",
    "print(designer.calculate_salary())"
   ]
  },
  {
   "cell_type": "markdown",
   "id": "5e792afc",
   "metadata": {},
   "source": [
    "#### 18. Discuss the concept of function pointers and how they can be used to achieve polymorphism in Python."
   ]
  },
  {
   "cell_type": "markdown",
   "id": "c0720ff9",
   "metadata": {},
   "source": [
    "##### Solution:\n",
    "\n",
    "Function pointers are a feature of some programming languages, including Python, that allow the behavior of a program to be changed while it is running. A function pointer is a variable that stores the address of a function that can later be called through that function pointer. This is an example of a high-level form of polymorphism, and it’s also known as “first-class functions” in Python.\n",
    "\n",
    "Function pointers can be used to simulate polymorphism, encapsulation, and even inheritance and can be used to instantiate and call methods from classes.\n",
    "\n",
    "This ability to store different functions in a variable (or pass them into another function as we did above) allows us to change how our program behaves based on the state of these variables, leading to more flexible and dynamic code."
   ]
  },
  {
   "cell_type": "code",
   "execution_count": 69,
   "id": "3ae23ca7",
   "metadata": {},
   "outputs": [
    {
     "name": "stdout",
     "output_type": "stream",
     "text": [
      "HELLO!\n",
      "hello...\n"
     ]
    }
   ],
   "source": [
    "def shout(text):\n",
    "    return text.upper() + \"!\"\n",
    "\n",
    "def whisper(text):\n",
    "    return text.lower() + \"...\"\n",
    "\n",
    "def greet(style, text):\n",
    "    return style(text)\n",
    "\n",
    "# Using the function 'shout'\n",
    "print(greet(shout, \"Hello\"))  # Outputs: HELLO!\n",
    "\n",
    "# Using the function 'whisper'\n",
    "print(greet(whisper, \"Hello\"))  # Outputs: hello..."
   ]
  },
  {
   "cell_type": "markdown",
   "id": "1884e081",
   "metadata": {},
   "source": [
    "#### 19. Explain the role of interfaces and abstract classes in polymorphism, drawing comparisons between them."
   ]
  },
  {
   "cell_type": "markdown",
   "id": "0a9a9574",
   "metadata": {},
   "source": [
    "##### Solution:\n",
    "\n",
    "Interfaces and abstract classes are two types of classes in object-oriented programming that are used to achieve abstraction and polymorphism. They both serve as a template or blueprint for creating concrete classes, but they serve different purposes and have different rules.\n",
    "\n",
    "An `interface` is a class-like construct that contains only abstract methods (methods without an implementation). In Python, we can think of interfaces as being similar to abstract base classes with only abstract methods. However, Python doesn’t have built-in support for interfaces as some other languages like Java do. In Python, we can create something similar to an interface using an abstract base class with only abstract methods.\n",
    "\n",
    "\n",
    "An `abstract class`, on the other hand, is a class that contains one or more abstract methods but can also contain implemented methods (methods with a body). Abstract classes act as blueprints for other classes that allow code reuse. A class that contains one or more abstract methods is called an abstract class. Abstract classes are meant to be subclassed by other classes, which provide implementations for the abstract methods.\n",
    "\n",
    "Comparison between interfaces and abstract classes in Python:\n",
    "\n",
    "`Instantiation:` Neither interfaces nor abstract classes can be instantiated. They are meant to be subclassed by other classes.\n",
    "\n",
    "`Methods:` Interfaces can only contain abstract methods (no implementation), while abstract classes can contain both abstract methods (no implementation) and concrete methods (with implementation).\n",
    "\n",
    "`Variables:` Interfaces cannot contain variables, while abstract classes can.\n",
    "\n",
    "`Multiple inheritance:` A class can implement multiple interfaces, but it can only inherit from one abstract class."
   ]
  },
  {
   "cell_type": "markdown",
   "id": "30c00d38",
   "metadata": {},
   "source": [
    "#### 20. Create a Python class for a zoo simulation, demonstrating polymorphism with different animal types (e.g., mammals, birds, reptiles) and their behavior (e.g., eating, sleeping, making sounds)."
   ]
  },
  {
   "cell_type": "code",
   "execution_count": 70,
   "id": "85a25eb8",
   "metadata": {},
   "outputs": [
    {
     "name": "stdout",
     "output_type": "stream",
     "text": [
      "Mammal is eating.\n",
      "Mammal is sleeping.\n",
      "Mammal is making sound.\n",
      "\n",
      "\n",
      "Bird is eating.\n",
      "Bird is sleeping.\n",
      "Bird is chirping\n",
      "\n",
      "\n",
      "Reptile is eating.\n",
      "Reptile is sleeping.\n",
      "Reptile is making sound.\n"
     ]
    }
   ],
   "source": [
    "class Animal:\n",
    "    def eat(self):\n",
    "        pass\n",
    "\n",
    "    def sleep(self):\n",
    "        pass\n",
    "\n",
    "    def make_sound(self):\n",
    "        pass\n",
    "\n",
    "class Mammal(Animal):\n",
    "    def eat(self):\n",
    "        return \"Mammal is eating.\"\n",
    "\n",
    "    def sleep(self):\n",
    "        return \"Mammal is sleeping.\"\n",
    "\n",
    "    def make_sound(self):\n",
    "        return \"Mammal is making sound.\"\n",
    "\n",
    "class Bird(Animal):\n",
    "    def eat(self):\n",
    "        return \"Bird is eating.\"\n",
    "\n",
    "    def sleep(self):\n",
    "        return \"Bird is sleeping.\"\n",
    "\n",
    "    def make_sound(self):\n",
    "        return \"Bird is chirping\"\n",
    "\n",
    "class Reptile(Animal):\n",
    "    def eat(self):\n",
    "        return \"Reptile is eating.\"\n",
    "\n",
    "    def sleep(self):\n",
    "        return \"Reptile is sleeping.\"\n",
    "\n",
    "    def make_sound(self):\n",
    "        return \"Reptile is making sound.\"\n",
    "    \n",
    "mammal = Mammal()\n",
    "print(mammal.eat())\n",
    "print(mammal.sleep())\n",
    "print(mammal.make_sound())\n",
    "\n",
    "print(\"\\n\")\n",
    "\n",
    "bird = Bird()\n",
    "print(bird.eat())\n",
    "print(bird.sleep())\n",
    "print(bird.make_sound())\n",
    "\n",
    "print(\"\\n\")\n",
    "\n",
    "reptile = Reptile()\n",
    "print(reptile.eat())\n",
    "print(reptile.sleep())\n",
    "print(reptile.make_sound())"
   ]
  },
  {
   "cell_type": "markdown",
   "id": "f544eb26",
   "metadata": {},
   "source": [
    "### Abstraction:"
   ]
  },
  {
   "cell_type": "markdown",
   "id": "bcbc9684",
   "metadata": {},
   "source": [
    "#### 1. What is abstraction in Python, and how does it relate to object-oriented programming?"
   ]
  },
  {
   "cell_type": "markdown",
   "id": "bfb33c87",
   "metadata": {},
   "source": [
    "##### Solution:\n",
    "\n",
    "**Abstraction in Python and its relation to OOP:**\n",
    "\n",
    "Abstraction is a key concept in object-oriented programming (OOP) where complex real-world problems are broken down into simpler, more manageable parts. In Python, abstraction is achieved by hiding the internal details of how an object works and exposing only those parts that are necessary for interacting with the object. This makes the code more understandable and easier to use."
   ]
  },
  {
   "cell_type": "markdown",
   "id": "12be9599",
   "metadata": {},
   "source": [
    "#### 2. Describe the benefits of abstraction in terms of code organization and complexity reduction."
   ]
  },
  {
   "cell_type": "markdown",
   "id": "40e80c50",
   "metadata": {},
   "source": [
    "#### Solution:\n",
    "\n",
    "Abstraction is a powerful concept in programming that helps manage complexity in large codebases.\n",
    "\n",
    "**Code Organization:** By grouping related functionality together into classes or modules, abstraction helps keep our code organized. This makes it easier to navigate and understand the codebase.\n",
    "\n",
    "**Reduced Complexity:** Abstraction helps break down complex systems into simpler parts. Each part can be developed and tested independently, reducing the overall complexity."
   ]
  },
  {
   "cell_type": "markdown",
   "id": "991f73ea",
   "metadata": {},
   "source": [
    "#### 3. Create a Python class called `Shape` with an abstract method `calculate_area()`. Then, create child classes (e.g., `Circle`, `Rectangle`) that implement the `calculate_area()` method. Provide an example of using these classes."
   ]
  },
  {
   "cell_type": "code",
   "execution_count": 71,
   "id": "ffb5c2b1",
   "metadata": {},
   "outputs": [
    {
     "name": "stdout",
     "output_type": "stream",
     "text": [
      "3.141592653589793\n",
      "12\n"
     ]
    }
   ],
   "source": [
    "import math\n",
    "from abc import ABC, abstractmethod\n",
    "\n",
    "class Shape(ABC):\n",
    "    @abstractmethod\n",
    "    def calculate_area(self):\n",
    "        pass\n",
    "\n",
    "class Circle(Shape):\n",
    "    def __init__(self, radius):\n",
    "        self.radius = radius\n",
    "\n",
    "    def calculate_area(self):\n",
    "        return math.pi * (self.radius ** 2)\n",
    "\n",
    "class Rectangle(Shape):\n",
    "    def __init__(self, length, breadth):\n",
    "        self.length = length\n",
    "        self.breadth = breadth\n",
    "\n",
    "    def calculate_area(self):\n",
    "        return self.length * self.breadth\n",
    "\n",
    "# Examples\n",
    "\n",
    "circle = Circle(1)\n",
    "print(circle.calculate_area())\n",
    "\n",
    "rectangle = Rectangle(3,4)\n",
    "print(rectangle.calculate_area())"
   ]
  },
  {
   "cell_type": "markdown",
   "id": "3bdb29cc",
   "metadata": {},
   "source": [
    "#### 4. Explain the concept of abstract classes in Python and how they are defined using the `abc` module. Provide an example."
   ]
  },
  {
   "cell_type": "markdown",
   "id": "578996fd",
   "metadata": {},
   "source": [
    "##### Solution:\n",
    "\n",
    "Abstract classes in Python are classes that contain one or more abstract methods.\n",
    "\n",
    "An abstract method is a method declared in an abstract class but does not contain any implementation.\n",
    "\n",
    "Subclasses of this abstract class are generally expected to provide an implementation for these abstract methods. \n",
    "\n",
    "Abstract classes cannot be instantiated, and require subclasses to provide implementations for the abstract methods.\n",
    "\n",
    "We can define an abstract class using the abc module in Python."
   ]
  },
  {
   "cell_type": "code",
   "execution_count": 72,
   "id": "e180dd05",
   "metadata": {},
   "outputs": [
    {
     "name": "stdout",
     "output_type": "stream",
     "text": [
      "Red\n",
      "Yellow\n"
     ]
    }
   ],
   "source": [
    "from abc import ABC, abstractmethod\n",
    "\n",
    "class Fruit(ABC):\n",
    "    @abstractmethod\n",
    "    def color(self):\n",
    "        pass\n",
    "\n",
    "class Apple(Fruit):\n",
    "    def color(self):\n",
    "        return \"Red\"\n",
    "\n",
    "class Banana(Fruit):\n",
    "    def color(self):\n",
    "        return \"Yellow\"\n",
    "apple = Apple()\n",
    "print(apple.color())\n",
    "banana = Banana()\n",
    "print(banana.color())"
   ]
  },
  {
   "cell_type": "markdown",
   "id": "2bc06bfa",
   "metadata": {},
   "source": [
    "#### 5. How do abstract classes differ from regular classes in Python? Discuss their use cases."
   ]
  },
  {
   "cell_type": "markdown",
   "id": "162c1748",
   "metadata": {},
   "source": [
    "##### Solution:\n",
    "\n",
    "The main difference between regular classes and abstract classes in Python is that we can create an instance of a regular class, but we cannot create an instance of an abstract class. An abstract class is meant to be subclassed by other classes, which then implement the abstract methods of the abstract class."
   ]
  },
  {
   "cell_type": "markdown",
   "id": "afeaa940",
   "metadata": {},
   "source": [
    "#### 6. Create a Python class for a bank account and demonstrate abstraction by hiding the account balance and providing methods to deposit and withdraw funds."
   ]
  },
  {
   "cell_type": "code",
   "execution_count": 73,
   "id": "2cb681a6",
   "metadata": {},
   "outputs": [
    {
     "name": "stdout",
     "output_type": "stream",
     "text": [
      "100\n",
      "50\n"
     ]
    }
   ],
   "source": [
    "class BankAccount:\n",
    "    def __init__(self):\n",
    "        self.__balance = 0\n",
    "\n",
    "    def deposit(self, amount):\n",
    "        self.__balance += amount\n",
    "        return self.__balance\n",
    "\n",
    "    def withdraw(self, amount):\n",
    "        if amount > self.__balance:\n",
    "            print('Insufficient balance')\n",
    "            return\n",
    "        self.__balance -= amount\n",
    "        return self.__balance\n",
    "bankAccount = BankAccount()\n",
    "print(bankAccount.deposit(100))\n",
    "print(bankAccount.withdraw(50))"
   ]
  },
  {
   "cell_type": "markdown",
   "id": "3adb8e37",
   "metadata": {},
   "source": [
    "#### 7. Discuss the concept of interface classes in Python and their role in achieving abstraction."
   ]
  },
  {
   "cell_type": "markdown",
   "id": "30bf4240",
   "metadata": {},
   "source": [
    "##### Solution:\n",
    "\n",
    "In Python, interface classes are used to define a protocol or a common gateway to different classes. An interface is like an abstract base class that contains only abstract methods and no implementation. These methods are meant to be implemented by the class that uses the interface.\n",
    "\n",
    "Interface classes play a significant role in achieving abstraction in Python. They define a standard interface that all derived classes must follow, just like a blueprint for designing classes. This ensures that regardless of the details of the individual class, all classes that implement the interface will have the same methods available.\n",
    "\n",
    "This concept is very useful in designing large functional units of an application where we need to set a structure for different classes to follow. It also provides a way to ensure that a class adheres to a certain contract, which is useful in a team-based or large-scale project where consistency is critical."
   ]
  },
  {
   "cell_type": "markdown",
   "id": "9acab0aa",
   "metadata": {},
   "source": [
    "#### 8. Create a Python class hierarchy for animals and implement abstraction by defining common methods (e.g., `eat()`, `sleep()`) in an abstract base class."
   ]
  },
  {
   "cell_type": "code",
   "execution_count": 74,
   "id": "6fc38d9e",
   "metadata": {},
   "outputs": [
    {
     "name": "stdout",
     "output_type": "stream",
     "text": [
      "Dog eats\n",
      "Dog sleeps\n",
      "Cat eats\n",
      "Cat sleeps\n"
     ]
    }
   ],
   "source": [
    "class Animal(ABC):\n",
    "    @abstractmethod\n",
    "    def eat(self):\n",
    "        pass\n",
    "\n",
    "    @abstractmethod\n",
    "    def sleep(self):\n",
    "        pass\n",
    "\n",
    "class Dog(Animal):\n",
    "    def eat(self):\n",
    "        print(\"Dog eats\")\n",
    "\n",
    "    def sleep(self):\n",
    "        print(\"Dog sleeps\")\n",
    "\n",
    "class Cat(Animal):\n",
    "    def eat(self):\n",
    "        print(\"Cat eats\")\n",
    "\n",
    "    def sleep(self):\n",
    "        print(\"Cat sleeps\")\n",
    "dog = Dog()\n",
    "dog.eat()\n",
    "dog.sleep()\n",
    "cat = Cat()\n",
    "cat.eat()\n",
    "cat.sleep()"
   ]
  },
  {
   "cell_type": "markdown",
   "id": "3ae07a63",
   "metadata": {},
   "source": [
    "#### 9. Explain the significance of encapsulation in achieving abstraction. Provide examples."
   ]
  },
  {
   "cell_type": "markdown",
   "id": "2eed19f3",
   "metadata": {},
   "source": [
    "##### Solution:\n",
    "\n",
    "Encapsulation is a fundamental concept in object-oriented programming that plays a crucial role in achieving abstraction. It refers to the bundling of data, and the methods that operate on that data, into a single unit known as a class. In other words, encapsulation is all about creating a protective shield that prevents the data from being accessed directly by outside code.\n",
    "\n",
    "Some key points that elaborate on the significance of encapsulation in achieving abstraction:\n",
    "\n",
    "\n",
    "1. **Data Hiding:** The primary purpose of encapsulation is to hide data from outside modules. It’s a way of ensuring that object data can only be changed using the object’s functions (methods). This ensures that the object’s internal state is kept consistent.\n",
    "\n",
    "\n",
    "2. **Reduced Complexity:** By hiding the internal details of how an object works, encapsulation simplifies the interaction with the object. This reduces complexity when working with complex systems.\n",
    "\n",
    "\n",
    "3. **Increased Flexibility:** Encapsulation allows the implementation details to be changed without affecting other parts of the program. This makes it easier to update or modify your code in the future.\n",
    "\n",
    "\n",
    "4. **Improved Security:** Encapsulation protects an object’s internal state by preventing direct access to its data. This helps maintain the integrity of the object."
   ]
  },
  {
   "cell_type": "markdown",
   "id": "d37a5e22",
   "metadata": {},
   "source": [
    "#### 10. What is the purpose of abstract methods, and how do they enforce abstraction in Python classes?"
   ]
  },
  {
   "cell_type": "markdown",
   "id": "f232d9b8",
   "metadata": {},
   "source": [
    "#### Solution:\n",
    "\n",
    "Abstract methods are a key aspect of abstraction in object-oriented programming. They are methods that are declared in an abstract base class but do not contain any implementation. Instead, they must be implemented by any non-abstract child class that directly inherits from the abstract base class.\n",
    "\n",
    "Significance of abstract methods are significant:\n",
    "\n",
    "1. **Enforcing a Contract:** Abstract methods define a “contract” that child classes must follow. If an abstract base class defines an abstract method, any child class inheriting from this base class is required to implement this method. This contract ensures that each child class will have this method.\n",
    "\n",
    "\n",
    "2. **Promoting Consistency:** By requiring child classes to implement certain methods, abstract methods promote consistency across related classes. This makes it easier to understand and use these classes because you can be sure that certain methods will always exist.\n",
    "\n",
    "\n",
    "3. **Facilitating Polymorphism:** Abstract methods facilitate polymorphism, a core concept in OOP where a child class can redefine a method of its parent class. When we call an abstract method, the version of the method that gets called is the one implemented by the child class. This allows for more flexible and dynamic code."
   ]
  },
  {
   "cell_type": "markdown",
   "id": "76822f77",
   "metadata": {},
   "source": [
    "#### 11. Create a Python class for a vehicle system and demonstrate abstraction by defining common methods (e.g., `start()`, `stop()`) in an abstract base class."
   ]
  },
  {
   "cell_type": "code",
   "execution_count": 75,
   "id": "655d49ca",
   "metadata": {},
   "outputs": [
    {
     "name": "stdout",
     "output_type": "stream",
     "text": [
      "Car starts\n",
      "Car stops\n",
      "Bike starts\n",
      "Bike stops\n"
     ]
    }
   ],
   "source": [
    "class Vehicle(ABC):\n",
    "    @abstractmethod\n",
    "    def start(self):\n",
    "        pass\n",
    "\n",
    "    @abstractmethod\n",
    "    def stop(self):\n",
    "        pass\n",
    "\n",
    "class Car(Vehicle):\n",
    "    def start(self):\n",
    "        print(\"Car starts\")\n",
    "\n",
    "    def stop(self):\n",
    "        print(\"Car stops\")\n",
    "\n",
    "class Bike(Vehicle):\n",
    "    def start(self):\n",
    "        print(\"Bike starts\")\n",
    "\n",
    "    def stop(self):\n",
    "        print(\"Bike stops\")\n",
    "car = Car()\n",
    "car.start()\n",
    "car.stop()\n",
    "bike = Bike()\n",
    "bike.start()\n",
    "bike.stop()"
   ]
  },
  {
   "cell_type": "markdown",
   "id": "83b70a0a",
   "metadata": {},
   "source": [
    "#### 12. Describe the use of abstract properties in Python and how they can be employed in abstract classes."
   ]
  },
  {
   "cell_type": "markdown",
   "id": "784a0563",
   "metadata": {},
   "source": [
    "##### Solution:\n",
    "\n",
    "Abstract properties in Python are a way to ensure that a particular property exists in all subclasses of an abstract base class. They are used in conjunction with the @property decorator and the @abstractmethod decorator from the abc module.\n",
    "\n",
    "Significance of abstract properties:\n",
    "\n",
    "1. **Enforcing a Contract:** Just like abstract methods, abstract properties define a “contract” that child classes must follow. If an abstract base class defines an abstract property, any child class inheriting from this base class is required to implement this property.\n",
    "\n",
    "\n",
    "2. **Promoting Consistency:** By requiring child classes to implement certain properties, abstract properties promote consistency across related classes. This makes it easier to understand and use these classes because you can be sure that certain properties will always exist.\n",
    "\n",
    "\n",
    "3. **Encapsulation:** Abstract properties provide a way to encapsulate data in an object by providing only getter, setter, and deleter methods for accessing or modifying it. This is a key aspect of achieving abstraction in your code."
   ]
  },
  {
   "cell_type": "markdown",
   "id": "6c77e4e6",
   "metadata": {},
   "source": [
    "#### 13. Create a Python class hierarchy for employees in a company (e.g., manager, developer, designer) and implement abstraction by defining a common `get_salary()` method."
   ]
  },
  {
   "cell_type": "code",
   "execution_count": 76,
   "id": "792dd6b3",
   "metadata": {},
   "outputs": [
    {
     "name": "stdout",
     "output_type": "stream",
     "text": [
      "100000\n",
      "80000\n",
      "70000\n"
     ]
    }
   ],
   "source": [
    "class Employee(ABC):\n",
    "    @abstractmethod\n",
    "    def get_salary(self):\n",
    "        pass\n",
    "\n",
    "class Manager(Employee):\n",
    "    def get_salary(self):\n",
    "        return 100000\n",
    "\n",
    "class Developer(Employee):\n",
    "    def get_salary(self):\n",
    "        return 80000\n",
    "\n",
    "class Designer(Employee):\n",
    "    def get_salary(self):\n",
    "        return 70000\n",
    "    \n",
    "manager = Manager()\n",
    "print(manager.get_salary())\n",
    "\n",
    "developer = Developer()\n",
    "print(developer.get_salary())\n",
    "\n",
    "designer = Designer()\n",
    "print(designer.get_salary())"
   ]
  },
  {
   "cell_type": "markdown",
   "id": "39a9958f",
   "metadata": {},
   "source": [
    "#### 14. Discuss the differences between abstract classes and concrete classes in Python, including their instantiation."
   ]
  },
  {
   "cell_type": "markdown",
   "id": "0942886b",
   "metadata": {},
   "source": [
    "##### Solution:\n",
    "\n",
    "Abstract classes and concrete classes in Python serve different purposes and have some key differences:\n",
    "\n",
    "1. **Instantiation:** The most significant difference between abstract and concrete classes is that you can create an instance of a concrete class, but you cannot create an instance of an abstract class. An abstract class is meant to be a blueprint for other classes and is not meant to be instantiated itself.\n",
    "\n",
    "\n",
    "2. **Implementation:** Abstract classes can contain abstract methods which are declared but contain no implementation. Concrete classes, on the other hand, cannot have abstract methods. All methods in a concrete class must have an implementation.\n",
    "\n",
    "\n",
    "3. **Inheritance:** Abstract classes are designed to be inherited by other classes, which then provide implementations for any abstract methods. Concrete classes can also be inherited, but they provide a full implementation that may or may not be overridden by subclasses.\n",
    "\n",
    "\n",
    "4. **Purpose:** The purpose of an abstract class is to provide an interface for subclasses. It defines a common interface for the subclasses, which enforces a certain protocol. A concrete class, on the other hand, is used to create objects. Its methods and attributes do the actual work."
   ]
  },
  {
   "cell_type": "code",
   "execution_count": 77,
   "id": "12a1992d",
   "metadata": {},
   "outputs": [
    {
     "name": "stdout",
     "output_type": "stream",
     "text": [
      "Can't instantiate abstract class AbstractClassExample with abstract methods do_something\n",
      "The subclass is doing something\n"
     ]
    }
   ],
   "source": [
    "# Abstract Class\n",
    "class AbstractClassExample(ABC):\n",
    "    @abstractmethod\n",
    "    def do_something(self):\n",
    "        pass\n",
    "\n",
    "# Concrete Class\n",
    "class AnotherSubclass(AbstractClassExample):\n",
    "    def do_something(self):\n",
    "        super().do_something()\n",
    "        print(\"The subclass is doing something\")\n",
    "\n",
    "# We can't create an instance of an abstract class\n",
    "try:\n",
    "    invalid = AbstractClassExample()\n",
    "except Exception as e:\n",
    "    print(e)\n",
    "\n",
    "# You can create an instance of a concrete class\n",
    "valid = AnotherSubclass()\n",
    "valid.do_something()\n"
   ]
  },
  {
   "cell_type": "markdown",
   "id": "301c1141",
   "metadata": {},
   "source": [
    "#### 15. Explain the concept of abstract data types (ADTs) and their role in achieving abstraction in Python."
   ]
  },
  {
   "cell_type": "markdown",
   "id": "74b8b333",
   "metadata": {},
   "source": [
    "##### Solution:\n",
    "\n",
    "Abstract Data Types (ADTs) are a key concept in computer science and play a crucial role in achieving abstraction, particularly in the context of data structures. An ADT is a high-level description of a collection of data and the operations that can be performed on that data. It defines what a data structure can do, without providing details of how it will implement these actions.\n",
    "\n",
    "Significance of ADTs:\n",
    "\n",
    "1. **Encapsulation:** ADTs encapsulate the data and the operations that can be performed on it. The user of an ADT does not need to understand the internal workings of the ADT, which promotes data abstraction.\n",
    "\n",
    "\n",
    "2. **Flexibility:** Since an ADT only specifies what operations are to be performed but not how these operations will be implemented, it allows flexibility in terms of the actual implementation. Different implementations of an ADT can have different performance characteristics for various operations.\n",
    "\n",
    "\n",
    "3. **Ease of Use:** ADTs provide a simple interface to the users, hiding the complexity of both the data and the algorithms that manipulate the data. This makes it easier for users to use complex data structures without understanding all the details.\n",
    "\n",
    "\n",
    "4. **Reusability:** Once an ADT has been defined, it can be used as a blueprint to create multiple data structures or objects in the program. This promotes reusability of code."
   ]
  },
  {
   "cell_type": "markdown",
   "id": "fd4568dd",
   "metadata": {},
   "source": [
    "#### 16. Create a Python class for a computer system, demonstrating abstraction"
   ]
  },
  {
   "cell_type": "code",
   "execution_count": 78,
   "id": "b4bb5e80",
   "metadata": {},
   "outputs": [
    {
     "name": "stdout",
     "output_type": "stream",
     "text": [
      "Laptop powers on\n",
      "Laptop shuts down\n",
      "Desktop powers on\n",
      "Desktop shuts down\n"
     ]
    }
   ],
   "source": [
    "from abc import ABC, abstractmethod\n",
    "\n",
    "class Computer(ABC):\n",
    "    @abstractmethod\n",
    "    def power_on(self):\n",
    "        pass\n",
    "\n",
    "    @abstractmethod\n",
    "    def shutdown(self):\n",
    "        pass\n",
    "\n",
    "class Laptop(Computer):\n",
    "    def power_on(self):\n",
    "        print(\"Laptop powers on\")\n",
    "\n",
    "    def shutdown(self):\n",
    "        print(\"Laptop shuts down\")\n",
    "\n",
    "class Desktop(Computer):\n",
    "    def power_on(self):\n",
    "        print(\"Desktop powers on\")\n",
    "\n",
    "    def shutdown(self):\n",
    "        print(\"Desktop shuts down\")\n",
    "laptop = Laptop()\n",
    "laptop.power_on()\n",
    "laptop.shutdown()\n",
    "desktop = Desktop()\n",
    "desktop.power_on()\n",
    "desktop.shutdown()"
   ]
  },
  {
   "cell_type": "markdown",
   "id": "2051bddb",
   "metadata": {},
   "source": [
    "#### 17. Discuss the benefits of using abstraction in large-scale software development projects."
   ]
  },
  {
   "cell_type": "markdown",
   "id": "c441aa6d",
   "metadata": {},
   "source": [
    "#### Solution:\n",
    "\n",
    "Abstraction is a fundamental concept in software engineering, especially in large-scale software development projects. \n",
    "\n",
    "The benefits of using abstraction in large-scale software development projects are:\n",
    "\n",
    "1. **Manage Complexity:** Large-scale software projects often involve complex systems with numerous interacting components. Abstraction allows us to hide the complexity of these components, making them easier to manage. We can focus on the high-level structure of the system without getting lost in the details.\n",
    "\n",
    "\n",
    "2. **Improve Modularity:** Abstraction promotes modularity by enabling us to encapsulate related functions and data into single units, or modules. Each module can be developed and tested independently, which simplifies the development process and makes the codebase more organized.\n",
    "\n",
    "\n",
    "3. **Enhance Code Reusability:** By defining abstract classes or interfaces, we can create reusable pieces of code. Other developers can use these abstractions as blueprints for their own classes, reducing duplication and improving efficiency.\n",
    "\n",
    "\n",
    "4. **Facilitate Teamwork:** In a large-scale project, different teams may work on different parts of the system. Abstraction provides a common language that all teams can use to understand and interact with each other’s code. This makes collaboration easier and more effective.\n",
    "\n",
    "\n",
    "5. **Increase Maintainability:** With abstraction, changes made to one part of the system are less likely to impact other parts. This makes the system more maintainable, as bugs can be isolated and fixed without affecting the entire codebase.\n",
    "\n",
    "\n",
    "6. **Promote Scalability:** Abstraction allows for easier scalability. As the software grows, new functionalities can be added as subclasses of existing abstract classes or new implementations of existing interfaces. This allows the software to evolve over time while maintaining a consistent structure.\n",
    "\n",
    "In summary, abstraction is a powerful tool for managing complexity, promoting reusability, enhancing modularity, and facilitating teamwork in large-scale software development projects."
   ]
  },
  {
   "cell_type": "markdown",
   "id": "8c7d3b9b",
   "metadata": {},
   "source": [
    "#### 18. Explain how abstraction enhances code reusability and modularity in Python programs."
   ]
  },
  {
   "cell_type": "markdown",
   "id": "e7b5e421",
   "metadata": {},
   "source": [
    "#### Solution:\n",
    "\n",
    "Abstraction in Python, as in other object-oriented programming languages, enhances code reusability and modularity in the following ways:\n",
    "\n",
    "1. **Code Reusability:** Abstraction allows us to create general solutions that can be applied to similar problems. For example, once we have an abstract Shape class, we can use it as a blueprint for creating specific shapes like Circle, Rectangle, etc. This means that we can reuse the same base class or interface for different subclasses, reducing the amount of code we need to write and making our code more reusable.\n",
    "\n",
    "\n",
    "2. **Modularity:** Abstraction promotes modularity by enabling us to encapsulate related functions and data into single units, or modules. Each module can be developed and tested independently, which simplifies the development process and makes the codebase more organized. This also makes it easier to understand the structure of the program and to locate and fix bugs."
   ]
  },
  {
   "cell_type": "markdown",
   "id": "888ab585",
   "metadata": {},
   "source": [
    "#### 19. Create a Python class for a library system, implementing abstraction by defining common methods (e.g., `add_book()`, `borrow_book()`) in an abstract base class."
   ]
  },
  {
   "cell_type": "code",
   "execution_count": 79,
   "id": "7cd5be8c",
   "metadata": {},
   "outputs": [
    {
     "name": "stdout",
     "output_type": "stream",
     "text": [
      "Added Game of thrones to public library\n",
      "Borrowed Life of PI from public library\n",
      "Added Lord of the Rings to school library\n",
      "Borrowed The chronicles of Narnia from school library\n"
     ]
    }
   ],
   "source": [
    "from abc import ABC, abstractmethod\n",
    "\n",
    "class Library(ABC):\n",
    "    @abstractmethod\n",
    "    def add_book(self, book):\n",
    "        pass\n",
    "\n",
    "    @abstractmethod\n",
    "    def borrow_book(self, book):\n",
    "        pass\n",
    "\n",
    "class PublicLibrary(Library):\n",
    "    def add_book(self, book):\n",
    "        print(f\"Added {book} to public library\")\n",
    "\n",
    "    def borrow_book(self, book):\n",
    "        print(f\"Borrowed {book} from public library\")\n",
    "\n",
    "class SchoolLibrary(Library):\n",
    "    def add_book(self, book):\n",
    "        print(f\"Added {book} to school library\")\n",
    "\n",
    "    def borrow_book(self, book):\n",
    "        print(f\"Borrowed {book} from school library\")\n",
    "\n",
    "publicLibrary = PublicLibrary()\n",
    "publicLibrary.add_book(\"Game of thrones\")\n",
    "publicLibrary.borrow_book(\"Life of PI\")\n",
    "\n",
    "schoolLibrary = SchoolLibrary()\n",
    "schoolLibrary.add_book(\"Lord of the Rings\")\n",
    "schoolLibrary.borrow_book(\"The chronicles of Narnia\")"
   ]
  },
  {
   "cell_type": "markdown",
   "id": "2e7f9ede",
   "metadata": {},
   "source": [
    "#### 20. Describe the concept of method abstraction in Python and how it relates to polymorphism."
   ]
  },
  {
   "cell_type": "markdown",
   "id": "a29e390d",
   "metadata": {},
   "source": [
    "##### Solution:\n",
    "\n",
    "Method abstraction in Python is a concept that is closely related to polymorphism and inheritance in object-oriented programming. It involves defining methods in an abstract base class that do not have any implementation. These methods must be implemented by any concrete (i.e., non-abstract) subclass that directly inherits from the abstract base class.\n",
    "\n",
    "Method abstraction facilitates polymorphism, which is a core concept in OOP where a subclass can redefine a method of its parent class. When you call an abstract method, the version of the method that gets called is the one implemented by the subclass. This allows for more flexible and dynamic code."
   ]
  },
  {
   "cell_type": "code",
   "execution_count": 80,
   "id": "26714d55",
   "metadata": {},
   "outputs": [
    {
     "name": "stdout",
     "output_type": "stream",
     "text": [
      "Woof!\n",
      "Meow!\n"
     ]
    }
   ],
   "source": [
    "from abc import ABC, abstractmethod\n",
    "\n",
    "class Animal(ABC):\n",
    "    @abstractmethod\n",
    "    def make_sound(self):\n",
    "        pass\n",
    "\n",
    "class Dog(Animal):\n",
    "    def make_sound(self):\n",
    "        return \"Woof!\"\n",
    "\n",
    "class Cat(Animal):\n",
    "    def make_sound(self):\n",
    "        return \"Meow!\"\n",
    "dog = Dog()\n",
    "print(dog.make_sound())\n",
    "\n",
    "cat = Cat()\n",
    "print(cat.make_sound())"
   ]
  },
  {
   "cell_type": "markdown",
   "id": "f6a51b6b",
   "metadata": {},
   "source": [
    "### Composition"
   ]
  },
  {
   "cell_type": "markdown",
   "id": "35973913",
   "metadata": {},
   "source": [
    "#### 1. Explain the concept of composition in Python and how it is used to build complex objects from simpler ones."
   ]
  },
  {
   "cell_type": "markdown",
   "id": "85f0d863",
   "metadata": {},
   "source": [
    "##### Solution:\n",
    "\n",
    "Composition in Python is a concept in object-oriented programming where a class is used to construct complex objects from simpler ones. This is done by including objects of other classes as instance variables, which allows you to use their methods and attributes. This is often described as a “has-a” relationship."
   ]
  },
  {
   "cell_type": "markdown",
   "id": "dae30d35",
   "metadata": {},
   "source": [
    "#### 2. Describe the difference between composition and inheritance in object-oriented programming."
   ]
  },
  {
   "cell_type": "markdown",
   "id": "03b568d3",
   "metadata": {},
   "source": [
    "##### Solution:\n",
    "\n",
    "The difference between composition and inheritance lies in the type of relationship between classes.\n",
    "\n",
    "Inheritance represents an “is-a” relationship, where a subclass inherits attributes and methods from a superclass. \n",
    "\n",
    "Composition, on the other hand, represents a “has-a” relationship, where a class includes instances of other classes as part of its state."
   ]
  },
  {
   "cell_type": "markdown",
   "id": "3fb0e875",
   "metadata": {},
   "source": [
    "#### 3. Create a Python class called `Author` with attributes for name and birthdate. Then, create a `Book` class that contains an instance of `Author` as a composition. Provide an example of creating a `Book` object."
   ]
  },
  {
   "cell_type": "code",
   "execution_count": 81,
   "id": "cbdadfc1",
   "metadata": {},
   "outputs": [
    {
     "name": "stdout",
     "output_type": "stream",
     "text": [
      "George Orwell\n"
     ]
    }
   ],
   "source": [
    "class Author:\n",
    "    def __init__(self, name, birthdate):\n",
    "        self.name = name\n",
    "        self.birthdate = birthdate\n",
    "\n",
    "class Book:\n",
    "    def __init__(self, title, author):\n",
    "        self.title = title\n",
    "        self.author = author\n",
    "\n",
    "author = Author(\"George Orwell\", \"1903-06-25\")\n",
    "book = Book(\"1984\", author)\n",
    "print(book.author.name)"
   ]
  },
  {
   "cell_type": "markdown",
   "id": "c90b9739",
   "metadata": {},
   "source": [
    "#### 4. Discuss the benefits of using composition over inheritance in Python, especially in terms of code flexibility and reusability."
   ]
  },
  {
   "cell_type": "markdown",
   "id": "24601569",
   "metadata": {},
   "source": [
    "##### Solution:\n",
    "\n",
    "Composition in Python, and in object-oriented programming in general, offers several benefits over inheritance, especially in terms of code flexibility and reusability:\n",
    "\n",
    "**Flexibility:** With composition, you can change the behavior of an object at runtime by changing the objects it’s composed of. This is a powerful feature that allows you to dynamically adapt to different situations. For example, if you have a Car class that’s composed of an Engine object, you can swap out the engine for a different one without having to create a whole new Car class.\n",
    "\n",
    "**Reusability:** Composition promotes code reusability by allowing you to use existing classes as building blocks for new ones. Instead of having to rewrite code or use inheritance to extend a superclass, you can simply compose an object with instances of other classes. This not only saves time and effort but also helps keep your code DRY (Don’t Repeat Yourself)."
   ]
  },
  {
   "cell_type": "markdown",
   "id": "a12792ad",
   "metadata": {},
   "source": [
    "#### 5. How can you implement composition in Python classes? Provide examples of using composition to create complex objects."
   ]
  },
  {
   "cell_type": "code",
   "execution_count": 82,
   "id": "805cdb1d",
   "metadata": {},
   "outputs": [
    {
     "name": "stdout",
     "output_type": "stream",
     "text": [
      "200\n"
     ]
    }
   ],
   "source": [
    "class Engine:\n",
    "    def __init__(self, horsepower):\n",
    "        self.horsepower = horsepower\n",
    "\n",
    "class Car:\n",
    "    def __init__(self, engine):\n",
    "        self.engine = engine\n",
    "\n",
    "engine = Engine(200)\n",
    "car = Car(engine)\n",
    "print(car.engine.horsepower)"
   ]
  },
  {
   "cell_type": "markdown",
   "id": "06ae1877",
   "metadata": {},
   "source": [
    "#### 6. Create a Python class hierarchy for a music player system, using composition to represent playlists and songs."
   ]
  },
  {
   "cell_type": "code",
   "execution_count": 83,
   "id": "3de7e949",
   "metadata": {},
   "outputs": [
    {
     "name": "stdout",
     "output_type": "stream",
     "text": [
      "Song 1\n",
      "Song 2\n"
     ]
    }
   ],
   "source": [
    "class Song:\n",
    "    def __init__(self, title):\n",
    "        self.title = title\n",
    "\n",
    "class Playlist:\n",
    "    def __init__(self):\n",
    "        self.songs = []\n",
    "\n",
    "    def add_song(self, song):\n",
    "        self.songs.append(song)\n",
    "    \n",
    "\n",
    "playlist = Playlist()\n",
    "\n",
    "song1 = Song(\"Song 1\")\n",
    "song2 = Song(\"Song 2\")\n",
    "\n",
    "playlist.add_song(song1)\n",
    "playlist.add_song(song2)\n",
    "\n",
    "print(playlist.songs[0].title)\n",
    "print(playlist.songs[1].title)"
   ]
  },
  {
   "cell_type": "markdown",
   "id": "2b7e21d1",
   "metadata": {},
   "source": [
    "#### 7. Explain the concept of \"has-a\" relationships in composition and how it helps design software systems."
   ]
  },
  {
   "cell_type": "markdown",
   "id": "59e71b89",
   "metadata": {},
   "source": [
    "##### Solution:\n",
    "\n",
    "In object-oriented programming, a “has-a” relationship is a term used to describe how objects are related to each other. This relationship is also known as composition.\n",
    "\n",
    "In a “has-a” relationship, an object of one class (the composite class) “has” one or more objects of another class (component class). This means that the composite class contains the component class as an instance variable."
   ]
  },
  {
   "cell_type": "code",
   "execution_count": 84,
   "id": "5b751317",
   "metadata": {},
   "outputs": [],
   "source": [
    "class Wheel:\n",
    "    pass\n",
    "\n",
    "class Car:\n",
    "    def __init__(self):\n",
    "        self.wheels = [Wheel(), Wheel(), Wheel(), Wheel()]\n"
   ]
  },
  {
   "cell_type": "markdown",
   "id": "67cf9c83",
   "metadata": {},
   "source": [
    "The “has-a” relationship is fundamental in composition and it helps in designing software systems by allowing complex objects to be built from simpler ones. It promotes code reusability and flexibility. If you need to change the way a component behaves, you can do so without affecting the composite object. This makes your code more maintainable and adaptable to future changes.\n",
    "\n",
    "\n",
    "Moreover, the “has-a” relationship also encapsulates the code and hides the complexity of the system. The internal workings of the component classes are hidden from the composite class, which interacts with them through their public interfaces. This abstraction makes it easier to understand and work with the system as a whole."
   ]
  },
  {
   "cell_type": "markdown",
   "id": "63d2683a",
   "metadata": {},
   "source": [
    "#### 8. Create a Python class for a computer system, using composition to represent components like CPU, RAM, and storage devices."
   ]
  },
  {
   "cell_type": "code",
   "execution_count": 85,
   "id": "55fb7d4a",
   "metadata": {},
   "outputs": [
    {
     "name": "stdout",
     "output_type": "stream",
     "text": [
      "i5\n",
      "8GB\n",
      "SSD\n"
     ]
    }
   ],
   "source": [
    "class CPU:\n",
    "    def __init__(self,cpu):\n",
    "        \n",
    "        self.cpu = cpu\n",
    "\n",
    "class RAM:\n",
    "    def __init__(self,ram):\n",
    "        \n",
    "        self.ram = ram\n",
    "\n",
    "class StorageDevice:\n",
    "    def __init__(self,storage):\n",
    "        self.storage = storage\n",
    "\n",
    "class ComputerSystem:\n",
    "    def __init__(self, cpu, ram, storage_device):\n",
    "        self.cpu = CPU(cpu)\n",
    "        self.ram = RAM(ram)\n",
    "        self.storage_device = StorageDevice(storage_device)\n",
    "        \n",
    "computerSystem = ComputerSystem(CPU(\"i5\"), RAM(\"8GB\"), StorageDevice(\"SSD\"))\n",
    "print(computerSystem.cpu.cpu.cpu)\n",
    "print(computerSystem.ram.ram.ram)\n",
    "print(computerSystem.storage_device.storage.storage)"
   ]
  },
  {
   "cell_type": "markdown",
   "id": "61445162",
   "metadata": {},
   "source": [
    "#### 9. Describe the concept of \"delegation\" in composition and how it simplifies the design of complex systems."
   ]
  },
  {
   "cell_type": "markdown",
   "id": "39cd4f14",
   "metadata": {},
   "source": [
    "##### Solution:\n",
    "\n",
    "**Delegation** is a key concept in composition in object-oriented programming. It refers to the process where an object handles a request by delegating the request to a second object (the delegate). The delegate is a helper object that offers additional functionality or that holds the data for the delegating object. The delegating object is often a simpler, more general case, while the delegate is more specialized.\n",
    "\n",
    "This concept simplifies the design of complex systems by allowing us to delegate tasks or behaviors to more appropriate classes, rather than trying to do everything within one class. This leads to cleaner, more modular code\n"
   ]
  },
  {
   "cell_type": "code",
   "execution_count": 86,
   "id": "54bd17c4",
   "metadata": {},
   "outputs": [
    {
     "name": "stdout",
     "output_type": "stream",
     "text": [
      "Engine started\n"
     ]
    }
   ],
   "source": [
    "class Engine:\n",
    "    def start(self):\n",
    "        return \"Engine started\"\n",
    "\n",
    "class Car:\n",
    "    def __init__(self):\n",
    "        self.engine = Engine()\n",
    "\n",
    "    def start(self):\n",
    "        return self.engine.start()\n",
    "car = Car()\n",
    "print(car.start())"
   ]
  },
  {
   "cell_type": "markdown",
   "id": "1bfff672",
   "metadata": {},
   "source": [
    "#### 10. Create a Python class for a car, using composition to represent components like the engine, wheels, and transmission."
   ]
  },
  {
   "cell_type": "code",
   "execution_count": 87,
   "id": "68844ad9",
   "metadata": {},
   "outputs": [
    {
     "name": "stdout",
     "output_type": "stream",
     "text": [
      "Audi\n",
      "[1, 2, 3, 4]\n",
      "Fast\n"
     ]
    }
   ],
   "source": [
    "class Engine:\n",
    "    def __init__(self):\n",
    "        \n",
    "        self.engine = \"Audi\"\n",
    "\n",
    "class Wheel:\n",
    "    def __init__(self):\n",
    "        self.wheels = [1,2,3,4]\n",
    "\n",
    "class Transmission:\n",
    "    def __init__(self):\n",
    "        \n",
    "        self.transmission = \"Fast\"\n",
    "\n",
    "class Car:\n",
    "    def __init__(self):\n",
    "        self.engine = Engine()\n",
    "        self.wheels = [Wheel() for _ in range(4)]\n",
    "        self.transmission = Transmission()\n",
    "        \n",
    "car = Car()\n",
    "print(car.engine.engine)\n",
    "print(car.wheels[0].wheels)\n",
    "print(car.transmission.transmission)"
   ]
  },
  {
   "cell_type": "markdown",
   "id": "bcd91e9d",
   "metadata": {},
   "source": [
    "#### 11. How can you encapsulate and hide the details of composed objects in Python classes to maintain abstraction?"
   ]
  },
  {
   "cell_type": "markdown",
   "id": "7fa91350",
   "metadata": {},
   "source": [
    "##### Solution:\n",
    "\n",
    "We can encapsulate and hide the details of composed objects in Python classes by making them private (prefixing with _) or protected (prefixing with __).\n",
    "\n",
    "This maintains abstraction by preventing direct access to these objects from outside the class."
   ]
  },
  {
   "cell_type": "markdown",
   "id": "336dcf3c",
   "metadata": {},
   "source": [
    "#### 12. Create a Python class for a university course, using composition to represent students, instructors, and course materials."
   ]
  },
  {
   "cell_type": "code",
   "execution_count": 88,
   "id": "963f02c4",
   "metadata": {},
   "outputs": [
    {
     "name": "stdout",
     "output_type": "stream",
     "text": [
      "Course: ML\n",
      "Instructors: ['PW Skills']\n",
      "Students: ['John', 'Doe']\n",
      "Course Materials: ['Deep Learning']\n"
     ]
    }
   ],
   "source": [
    "class Student:\n",
    "    def __init__(self, name):\n",
    "        self.name = name\n",
    "\n",
    "class Instructor:\n",
    "    def __init__(self, name):\n",
    "        self.name = name\n",
    "\n",
    "class CourseMaterial:\n",
    "    def __init__(self, name):\n",
    "        self.name = name\n",
    "\n",
    "class UniversityCourse:\n",
    "    def __init__(self, course_name):\n",
    "        self.course_name = course_name\n",
    "        self.students = []\n",
    "        self.instructors = []\n",
    "        self.course_materials = []\n",
    "\n",
    "    def add_student(self, student):\n",
    "        self.students.append(student)\n",
    "\n",
    "    def add_instructor(self, instructor):\n",
    "        self.instructors.append(instructor)\n",
    "\n",
    "    def add_course_material(self, course_material):\n",
    "        self.course_materials.append(course_material)\n",
    "\n",
    "# Driver code\n",
    "\n",
    "course = UniversityCourse(\"ML\")\n",
    "student1 = Student(\"John\")\n",
    "student2 = Student(\"Doe\")\n",
    "instructor = Instructor(\"PW Skills\")\n",
    "course_material = CourseMaterial(\"Deep Learning\")\n",
    "\n",
    "course.add_student(student1)\n",
    "course.add_student(student2)\n",
    "course.add_instructor(instructor)\n",
    "course.add_course_material(course_material)\n",
    "\n",
    "print(f\"Course: {course.course_name}\")\n",
    "print(f\"Instructors: {[instructor.name for instructor in course.instructors]}\")\n",
    "print(f\"Students: {[student.name for student in course.students]}\")\n",
    "print(f\"Course Materials: {[material.name for material in course.course_materials]}\")\n"
   ]
  },
  {
   "cell_type": "markdown",
   "id": "529593d7",
   "metadata": {},
   "source": [
    "#### 13. Discuss the challenges and drawbacks of composition, such as increased complexity and potential for tight coupling between objects."
   ]
  },
  {
   "cell_type": "markdown",
   "id": "c6762d52",
   "metadata": {},
   "source": [
    "#### Solution:\n",
    "\n",
    "While composition in object-oriented programming provides numerous benefits such as increased flexibility, code reusability, and adherence to the single responsibility principle, it also comes with its own set of challenges and potential drawbacks:\n",
    "\n",
    "1. **Increased Complexity:** Composition can lead to increased complexity, especially when a system is composed of many objects interacting with each other. This can make the system harder to understand and maintain.\n",
    "\n",
    "\n",
    "2. **Tight Coupling:** While composition can reduce coupling between classes compared to inheritance, it can still lead to tight coupling if not carefully implemented. If a class relies heavily on the internal workings of the objects it’s composed of, changes to those objects could necessitate changes in the composite class.\n",
    "\n",
    "\n",
    "3. **Overhead:** Each object in a system requires its own memory space and processing time. Therefore, a system that uses composition to include many objects could have higher memory and processing overhead than a system that uses inheritance.\n",
    "\n",
    "\n",
    "4. **Design Difficulty:** Designing systems using composition requires careful planning and thought about how objects should interact with each other. It can be difficult to decide which objects should be responsible for what tasks, and how they should communicate with each other.\n",
    "\n",
    "\n",
    "5. **Testing Challenges:** Testing can be more challenging with composition because each object may need to be tested in isolation as well as in combination with other objects.\n",
    "\n",
    "\n",
    "Despite these challenges, composition is still a powerful tool in object-oriented programming that allows for more flexible and maintainable code. The key is to use it judiciously and thoughtfully, considering the specific needs and constraints of your project."
   ]
  },
  {
   "cell_type": "markdown",
   "id": "f609e495",
   "metadata": {},
   "source": [
    "#### 14. Create a Python class hierarchy for a restaurant system, using composition to represent menus, dishes, and ingredients."
   ]
  },
  {
   "cell_type": "code",
   "execution_count": 89,
   "id": "3134476c",
   "metadata": {},
   "outputs": [
    {
     "name": "stdout",
     "output_type": "stream",
     "text": [
      "Menu: Lunch Menu\n",
      "Dish: Pasta\n",
      "Ingredient: Tomato\n",
      "Dish: Salad\n",
      "Ingredient: Lettuce\n"
     ]
    }
   ],
   "source": [
    "class Ingredient:\n",
    "    def __init__(self, name):\n",
    "        self.name = name\n",
    "\n",
    "class Dish:\n",
    "    def __init__(self, name):\n",
    "        self.name = name\n",
    "        self.ingredients = []\n",
    "\n",
    "    def add_ingredient(self, ingredient):\n",
    "        self.ingredients.append(ingredient)\n",
    "\n",
    "class Menu:\n",
    "    def __init__(self, name):\n",
    "        self.name = name\n",
    "        self.dishes = []\n",
    "\n",
    "    def add_dish(self, dish):\n",
    "        self.dishes.append(dish)\n",
    "\n",
    "# Driver code\n",
    "menu = Menu(\"Lunch Menu\")\n",
    "dish1 = Dish(\"Pasta\")\n",
    "dish2 = Dish(\"Salad\")\n",
    "ingredient1 = Ingredient(\"Tomato\")\n",
    "ingredient2 = Ingredient(\"Lettuce\")\n",
    "\n",
    "dish1.add_ingredient(ingredient1)\n",
    "dish2.add_ingredient(ingredient2)\n",
    "menu.add_dish(dish1)\n",
    "menu.add_dish(dish2)\n",
    "\n",
    "print(f\"Menu: {menu.name}\")\n",
    "for dish in menu.dishes:\n",
    "    print(f\"Dish: {dish.name}\")\n",
    "    for ingredient in dish.ingredients:\n",
    "        print(f\"Ingredient: {ingredient.name}\")\n"
   ]
  },
  {
   "cell_type": "markdown",
   "id": "951d0dec",
   "metadata": {},
   "source": [
    "#### 15. Explain how composition enhances code maintainability and modularity in Python programs."
   ]
  },
  {
   "cell_type": "markdown",
   "id": "49d78f3b",
   "metadata": {},
   "source": [
    "##### Solution:\n",
    "\n",
    "Composition in Python, and in object-oriented programming in general, significantly enhances code maintainability and modularity:\n",
    "\n",
    "**Code Maintainability:** Composition allows for greater flexibility since you can easily change parts of your system at runtime by substituting part objects. This makes maintaining your code easier because you can modify or replace components without affecting the rest of your system. For example, if a class Car is composed of an object Engine, and you want to upgrade the engine, you can simply replace the Engine object with a new one.\n",
    "\n",
    "**Code Modularity:** Composition promotes modularity by enabling you to build complex systems from simpler, self-contained modules. Each component in a composite object works independently of the others. This means you can understand, develop, and test each component in isolation, making your code more manageable."
   ]
  },
  {
   "cell_type": "markdown",
   "id": "d5414c5c",
   "metadata": {},
   "source": [
    "#### 16. Create a Python class for a computer game character, using composition to represent attributes like weapons, armor, and inventory."
   ]
  },
  {
   "cell_type": "code",
   "execution_count": 90,
   "id": "89693c32",
   "metadata": {},
   "outputs": [
    {
     "name": "stdout",
     "output_type": "stream",
     "text": [
      "Character: Hero\n",
      "Weapon: Sword\n",
      "Armor: Shield\n",
      "Inventory: ['Health Potion']\n"
     ]
    }
   ],
   "source": [
    "class Weapon:\n",
    "    def __init__(self, name):\n",
    "        self.name = name\n",
    "\n",
    "class Armor:\n",
    "    def __init__(self, name):\n",
    "        self.name = name\n",
    "\n",
    "class Inventory:\n",
    "    def __init__(self):\n",
    "        self.items = []\n",
    "\n",
    "    def add_item(self, item):\n",
    "        self.items.append(item)\n",
    "\n",
    "class GameCharacter:\n",
    "    def __init__(self, name):\n",
    "        self.name = name\n",
    "        self.weapon = Weapon(\"Sword\")\n",
    "        self.armor = Armor(\"Shield\")\n",
    "        self.inventory = Inventory()\n",
    "\n",
    "    def pick_up_item(self, item):\n",
    "        self.inventory.add_item(item)\n",
    "\n",
    "# Driver code\n",
    "character = GameCharacter(\"Hero\")\n",
    "character.pick_up_item(\"Health Potion\")\n",
    "\n",
    "print(f\"Character: {character.name}\")\n",
    "print(f\"Weapon: {character.weapon.name}\")\n",
    "print(f\"Armor: {character.armor.name}\")\n",
    "print(f\"Inventory: {character.inventory.items}\")"
   ]
  },
  {
   "cell_type": "markdown",
   "id": "addafab8",
   "metadata": {},
   "source": [
    "#### 17. Describe the concept of \"aggregation\" in composition and how it differs from simple composition."
   ]
  },
  {
   "cell_type": "markdown",
   "id": "8007fddb",
   "metadata": {},
   "source": [
    "##### Solution:\n",
    "\n",
    "**Aggregation** is a specialized form of composition where the relationship between the composite (whole) and component (part) objects is weaker. In other words, while in composition, the component object is strongly dependent on the lifecycle of the composite object, in aggregation, the component object can exist independently."
   ]
  },
  {
   "cell_type": "code",
   "execution_count": 91,
   "id": "b028bee6",
   "metadata": {},
   "outputs": [
    {
     "name": "stdout",
     "output_type": "stream",
     "text": [
      "Monte Cristo\n",
      "Pride and Prejudice\n"
     ]
    }
   ],
   "source": [
    "class Book:\n",
    "    def __init__(self, title):\n",
    "        self.title = title\n",
    "\n",
    "class Library:\n",
    "    def __init__(self):\n",
    "        self.books = []\n",
    "\n",
    "    def add_book(self, book):\n",
    "        self.books.append(book)\n",
    "\n",
    "# Driver code\n",
    "book1 = Book(\"Monte Cristo\")\n",
    "book2 = Book(\"Pride and Prejudice\")\n",
    "library = Library()\n",
    "library.add_book(book1)\n",
    "library.add_book(book2)\n",
    "del library # Deleting the library object\n",
    "print(book1.title)\n",
    "print(book2.title)"
   ]
  },
  {
   "cell_type": "markdown",
   "id": "5b00de0c",
   "metadata": {},
   "source": [
    "#### 18. Create a Python class for a house, using composition to represent rooms, furniture, and appliances."
   ]
  },
  {
   "cell_type": "code",
   "execution_count": 92,
   "id": "bec02214",
   "metadata": {},
   "outputs": [
    {
     "name": "stdout",
     "output_type": "stream",
     "text": [
      "Rooms: ['Living Room', 'Bedroom']\n",
      "Furniture: ['Sofa', 'Bed']\n",
      "Appliances: ['TV', 'Refrigerator']\n"
     ]
    }
   ],
   "source": [
    "class Room:\n",
    "    def __init__(self, name):\n",
    "        self.name = name\n",
    "\n",
    "class Furniture:\n",
    "    def __init__(self, name):\n",
    "        self.name = name\n",
    "\n",
    "class Appliance:\n",
    "    def __init__(self, name):\n",
    "        self.name = name\n",
    "\n",
    "class House:\n",
    "    def __init__(self):\n",
    "        self.rooms = []\n",
    "        self.furniture = []\n",
    "        self.appliances = []\n",
    "\n",
    "    def add_room(self, room):\n",
    "        self.rooms.append(room)\n",
    "\n",
    "    def add_furniture(self, furniture):\n",
    "        self.furniture.append(furniture)\n",
    "\n",
    "    def add_appliance(self, appliance):\n",
    "        self.appliances.append(appliance)\n",
    "\n",
    "# Driver code\n",
    "house = House()\n",
    "room1 = Room(\"Living Room\")\n",
    "room2 = Room(\"Bedroom\")\n",
    "furniture1 = Furniture(\"Sofa\")\n",
    "furniture2 = Furniture(\"Bed\")\n",
    "appliance1 = Appliance(\"TV\")\n",
    "appliance2 = Appliance(\"Refrigerator\")\n",
    "\n",
    "house.add_room(room1)\n",
    "house.add_room(room2)\n",
    "house.add_furniture(furniture1)\n",
    "house.add_furniture(furniture2)\n",
    "house.add_appliance(appliance1)\n",
    "house.add_appliance(appliance2)\n",
    "\n",
    "print(f\"Rooms: {[room.name for room in house.rooms]}\")\n",
    "print(f\"Furniture: {[furniture.name for furniture in house.furniture]}\")\n",
    "print(f\"Appliances: {[appliance.name for appliance in house.appliances]}\")\n"
   ]
  },
  {
   "cell_type": "markdown",
   "id": "0c95eccf",
   "metadata": {},
   "source": [
    "#### 19. How can you achieve flexibility in composed objects by allowing them to be replaced or modified dynamically at runtime?"
   ]
  },
  {
   "cell_type": "markdown",
   "id": "329c16ba",
   "metadata": {},
   "source": [
    "##### Answer:\n",
    "\n",
    "In object-oriented programming, flexibility in composed objects can be achieved by allowing them to be replaced or modified dynamically at runtime. This is often done through methods that allow us to add, remove, or replace components of a composite object."
   ]
  },
  {
   "cell_type": "code",
   "execution_count": 93,
   "id": "5610cc7a",
   "metadata": {},
   "outputs": [
    {
     "name": "stdout",
     "output_type": "stream",
     "text": [
      "Old engine horsepower: 200\n",
      "New engine horsepower: 500\n"
     ]
    }
   ],
   "source": [
    "class Engine:\n",
    "    def __init__(self, horsepower):\n",
    "        self.horsepower = horsepower\n",
    "\n",
    "class Car:\n",
    "    def __init__(self, engine):\n",
    "        self.engine = engine\n",
    "\n",
    "    def replace_engine(self, new_engine):\n",
    "        self.engine = new_engine\n",
    "\n",
    "# Driver code\n",
    "old_engine = Engine(200)\n",
    "car = Car(old_engine)\n",
    "\n",
    "print(f\"Old engine horsepower: {car.engine.horsepower}\")\n",
    "\n",
    "new_engine = Engine(500)\n",
    "car.replace_engine(new_engine)\n",
    "\n",
    "print(f\"New engine horsepower: {car.engine.horsepower}\")"
   ]
  },
  {
   "cell_type": "markdown",
   "id": "f31e4f64",
   "metadata": {},
   "source": [
    "This kind of flexibility is one of the main advantages of using composition in object-oriented design. It allows for greater adaptability and can make your code easier to modify and extend."
   ]
  },
  {
   "cell_type": "markdown",
   "id": "85004f9e",
   "metadata": {},
   "source": [
    "#### 20. Create a Python class for a social media application, using composition to represent users, posts, and comments."
   ]
  },
  {
   "cell_type": "code",
   "execution_count": 94,
   "id": "4c914037",
   "metadata": {},
   "outputs": [
    {
     "name": "stdout",
     "output_type": "stream",
     "text": [
      "Users: ['Alice', 'Bob']\n",
      "Posts: ['Hello, world!', 'Today is a beautiful day.']\n",
      "Comments: ['Nice post!', 'I agree!']\n"
     ]
    }
   ],
   "source": [
    "class User:\n",
    "    def __init__(self, name):\n",
    "        self.name = name\n",
    "\n",
    "class Post:\n",
    "    def __init__(self, content):\n",
    "        self.content = content\n",
    "\n",
    "class Comment:\n",
    "    def __init__(self, content):\n",
    "        self.content = content\n",
    "\n",
    "class SocialMediaApplication:\n",
    "    def __init__(self):\n",
    "        self.users = []\n",
    "        self.posts = []\n",
    "        self.comments = []\n",
    "\n",
    "    def add_user(self, user):\n",
    "        self.users.append(user)\n",
    "\n",
    "    def add_post(self, post):\n",
    "        self.posts.append(post)\n",
    "\n",
    "    def add_comment(self, comment):\n",
    "        self.comments.append(comment)\n",
    "\n",
    "# Driver code\n",
    "app = SocialMediaApplication()\n",
    "user1 = User(\"Alice\")\n",
    "user2 = User(\"Bob\")\n",
    "post1 = Post(\"Hello, world!\")\n",
    "post2 = Post(\"Today is a beautiful day.\")\n",
    "comment1 = Comment(\"Nice post!\")\n",
    "comment2 = Comment(\"I agree!\")\n",
    "\n",
    "app.add_user(user1)\n",
    "app.add_user(user2)\n",
    "app.add_post(post1)\n",
    "app.add_post(post2)\n",
    "app.add_comment(comment1)\n",
    "app.add_comment(comment2)\n",
    "\n",
    "print(f\"Users: {[user.name for user in app.users]}\")\n",
    "print(f\"Posts: {[post.content for post in app.posts]}\")\n",
    "print(f\"Comments: {[comment.content for comment in app.comments]}\")\n"
   ]
  }
 ],
 "metadata": {
  "kernelspec": {
   "display_name": "Python 3",
   "language": "python",
   "name": "python3"
  },
  "language_info": {
   "codemirror_mode": {
    "name": "ipython",
    "version": 3
   },
   "file_extension": ".py",
   "mimetype": "text/x-python",
   "name": "python",
   "nbconvert_exporter": "python",
   "pygments_lexer": "ipython3",
   "version": "3.8.8"
  }
 },
 "nbformat": 4,
 "nbformat_minor": 5
}
