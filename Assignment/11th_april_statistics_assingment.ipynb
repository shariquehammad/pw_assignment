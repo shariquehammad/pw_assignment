{
 "cells": [
  {
   "cell_type": "code",
   "execution_count": 1,
   "metadata": {},
   "outputs": [],
   "source": [
    "import numpy as np\n",
    "import pandas as pd\n",
    "import matplotlib.pyplot as plt\n",
    "import seaborn as sns\n",
    "import scipy.stats as stats\n",
    "import statistics"
   ]
  },
  {
   "cell_type": "markdown",
   "metadata": {},
   "source": [
    "### Q1 Generate a list of 100 integers containing values between 90 to 130 and store it in the variable `int_list`.\n",
    "After generating the list, find the following:"
   ]
  },
  {
   "cell_type": "code",
   "execution_count": 2,
   "metadata": {},
   "outputs": [],
   "source": [
    "int_list = np.random.randint(90, 130, 100)"
   ]
  },
  {
   "cell_type": "code",
   "execution_count": 3,
   "metadata": {},
   "outputs": [
    {
     "data": {
      "text/plain": [
       "array([125,  99, 107, 103,  95, 104, 121, 117,  98, 127,  93, 102, 118,\n",
       "       116, 125, 111, 109, 119, 128,  93, 118, 121, 118, 128, 129, 123,\n",
       "        91,  93,  96, 103, 129, 106,  95, 118,  96, 111, 119,  94, 106,\n",
       "       103, 125, 129, 102, 118,  98, 123, 127, 100, 116, 124, 106, 127,\n",
       "       117, 119, 111, 125,  94, 104, 103, 101, 115,  95, 114, 112, 108,\n",
       "       123, 124,  90,  92,  90,  95, 126, 100, 104, 116, 106, 129, 121,\n",
       "       105, 129, 128, 128, 112, 107, 101, 118, 116, 123, 118, 129,  99,\n",
       "       110, 124, 126,  99, 127, 102, 122, 114, 116])"
      ]
     },
     "execution_count": 3,
     "metadata": {},
     "output_type": "execute_result"
    }
   ],
   "source": [
    "int_list"
   ]
  },
  {
   "cell_type": "code",
   "execution_count": 4,
   "metadata": {},
   "outputs": [
    {
     "data": {
      "text/plain": [
       "100"
      ]
     },
     "execution_count": 4,
     "metadata": {},
     "output_type": "execute_result"
    }
   ],
   "source": [
    "len(int_list)"
   ]
  },
  {
   "cell_type": "markdown",
   "metadata": {},
   "source": [
    "#### (i) Write a Python function to calculate the mean of a given list of numbers. Create a function to find the median of a list of numbers."
   ]
  },
  {
   "cell_type": "code",
   "execution_count": 5,
   "metadata": {},
   "outputs": [
    {
     "name": "stdout",
     "output_type": "stream",
     "text": [
      "111.89\n"
     ]
    }
   ],
   "source": [
    "def mean(arr):\n",
    "    mu = 0\n",
    "    for element in arr:\n",
    "        mu += element\n",
    "        \n",
    "    mu = mu/len(arr)\n",
    "    \n",
    "    return mu\n",
    "\n",
    "print(mean(int_list))"
   ]
  },
  {
   "cell_type": "code",
   "execution_count": 6,
   "metadata": {},
   "outputs": [
    {
     "name": "stdout",
     "output_type": "stream",
     "text": [
      "114.0\n"
     ]
    }
   ],
   "source": [
    "def median(arr):\n",
    "    med = 0\n",
    "    arr.sort()\n",
    "    \n",
    "    n = len(arr)\n",
    "    if n%2 == 0:\n",
    "        med = (arr[(n-1)//2] + arr[n//2])/2\n",
    "    else:\n",
    "        med = arr[n//2]/2\n",
    "        \n",
    "    return med\n",
    "\n",
    "print(median(int_list))\n",
    "    "
   ]
  },
  {
   "cell_type": "code",
   "execution_count": 7,
   "metadata": {},
   "outputs": [
    {
     "data": {
      "text/plain": [
       "114.0"
      ]
     },
     "execution_count": 7,
     "metadata": {},
     "output_type": "execute_result"
    }
   ],
   "source": [
    "np.median(int_list)"
   ]
  },
  {
   "cell_type": "markdown",
   "metadata": {},
   "source": [
    "#### (ii) Develop a program to compute the mode of a list of integers."
   ]
  },
  {
   "cell_type": "code",
   "execution_count": 8,
   "metadata": {},
   "outputs": [
    {
     "name": "stdout",
     "output_type": "stream",
     "text": [
      "[118]\n"
     ]
    }
   ],
   "source": [
    "def mode(arr):\n",
    "    if len(arr) == 0:\n",
    "        return None\n",
    "    \n",
    "    frequency = {}\n",
    "    \n",
    "    for num in arr:\n",
    "        if num in frequency:\n",
    "            frequency[num] += 1\n",
    "        else:\n",
    "            frequency[num] = 1\n",
    "            \n",
    "    max_count = max(frequency.values())\n",
    "    modes = [num for num, freq in frequency.items() if freq == max_count]\n",
    "    \n",
    "    return modes\n",
    "\n",
    "\n",
    "print(mode(int_list))\n",
    "    \n",
    "    "
   ]
  },
  {
   "cell_type": "code",
   "execution_count": 9,
   "metadata": {},
   "outputs": [
    {
     "name": "stderr",
     "output_type": "stream",
     "text": [
      "C:\\Users\\Areej Ahamd\\AppData\\Local\\Temp\\ipykernel_11664\\3978597501.py:1: FutureWarning: Unlike other reduction functions (e.g. `skew`, `kurtosis`), the default behavior of `mode` typically preserves the axis it acts along. In SciPy 1.11.0, this behavior will change: the default value of `keepdims` will become False, the `axis` over which the statistic is taken will be eliminated, and the value None will no longer be accepted. Set `keepdims` to True or False to avoid this warning.\n",
      "  stats.mode(int_list)\n"
     ]
    },
    {
     "data": {
      "text/plain": [
       "ModeResult(mode=array([118]), count=array([7]))"
      ]
     },
     "execution_count": 9,
     "metadata": {},
     "output_type": "execute_result"
    }
   ],
   "source": [
    "stats.mode(int_list)"
   ]
  },
  {
   "cell_type": "markdown",
   "metadata": {},
   "source": [
    "#### (iii) Implement a function to calculate the weighted mean of a list of values and their corresponding weights."
   ]
  },
  {
   "cell_type": "code",
   "execution_count": 10,
   "metadata": {},
   "outputs": [
    {
     "name": "stdout",
     "output_type": "stream",
     "text": [
      "[ 6  7  8 13 16 17 15 19 19 11  9 18 19  2  3 18 15 12  6 14 13 11  6  4\n",
      "  1 18 12 12 12 11 17  9 13 11 15  5 13 12  4  9  3 11  6 10 11  7  5  6\n",
      "  9 11 17  6  7  3  5 16  9 17  6 10 11  9 14  2  1  1  6  1 12 19 12 18\n",
      "  4 13  6 16  8 16  1 11 18 12  2 15  5 14  7  8 10 10 14  1 10  1 11 12\n",
      " 16 11  1  6]\n",
      "110.68944723618091\n"
     ]
    }
   ],
   "source": [
    "def weighted_mean(arr_val, arr_weights):\n",
    "    \n",
    "    if len(arr_val) != len(arr_weights):\n",
    "        print(\"ERROR; Size mismatch\")\n",
    "        \n",
    "    weighted_sum = sum(value* weight for value, weight in zip(arr_val, arr_weights))\n",
    "    \n",
    "    net_weight = sum(arr_weights)\n",
    "    \n",
    "    w_mean = weighted_sum/ net_weight\n",
    "    \n",
    "    return w_mean\n",
    "\n",
    "\n",
    "val = int_list\n",
    "weight = np.random.randint(1, 20, 100)\n",
    "\n",
    "print(weight)\n",
    "\n",
    "print(weighted_mean(val, weight))"
   ]
  },
  {
   "cell_type": "markdown",
   "metadata": {},
   "source": [
    "#### (iv) Write a Python function to find the geometric mean of a list of positive numbers."
   ]
  },
  {
   "cell_type": "code",
   "execution_count": 11,
   "metadata": {},
   "outputs": [
    {
     "name": "stdout",
     "output_type": "stream",
     "text": [
      "111.23998864605255\n"
     ]
    }
   ],
   "source": [
    "import math\n",
    "def GM(arr):\n",
    "    n = len(arr)\n",
    "    log_sum = 0\n",
    "    for num in arr:\n",
    "        log_sum += math.log(num)\n",
    "        \n",
    "        \n",
    "    Gmean = math.exp(log_sum/n)\n",
    "    return Gmean\n",
    "\n",
    "print(GM(int_list))"
   ]
  },
  {
   "cell_type": "code",
   "execution_count": 12,
   "metadata": {},
   "outputs": [
    {
     "data": {
      "text/plain": [
       "111.23998864605235"
      ]
     },
     "execution_count": 12,
     "metadata": {},
     "output_type": "execute_result"
    }
   ],
   "source": [
    "statistics.geometric_mean(int_list)"
   ]
  },
  {
   "cell_type": "markdown",
   "metadata": {},
   "source": [
    "#### (v) Create a program to calculate the harmonic mean of a list of values."
   ]
  },
  {
   "cell_type": "code",
   "execution_count": 13,
   "metadata": {},
   "outputs": [
    {
     "name": "stdout",
     "output_type": "stream",
     "text": [
      "110.5798631225594\n"
     ]
    }
   ],
   "source": [
    "def HM(arr):\n",
    "    n = len(arr)\n",
    "    \n",
    "    if n == 0 or any(num==0 for num in arr):\n",
    "        return None\n",
    "    \n",
    "    reciprocal_sum = sum(1/num for num in arr)\n",
    "    \n",
    "    Har_mean = n/reciprocal_sum\n",
    "    \n",
    "    return Har_mean\n",
    "\n",
    "print(HM(int_list))"
   ]
  },
  {
   "cell_type": "code",
   "execution_count": 14,
   "metadata": {},
   "outputs": [
    {
     "data": {
      "text/plain": [
       "110.57986312255939"
      ]
     },
     "execution_count": 14,
     "metadata": {},
     "output_type": "execute_result"
    }
   ],
   "source": [
    "statistics.harmonic_mean(int_list)"
   ]
  },
  {
   "cell_type": "markdown",
   "metadata": {},
   "source": [
    "#### (vi) Build a function to determine the midrange of a list of numbers (average of the minimum and maximum)."
   ]
  },
  {
   "cell_type": "code",
   "execution_count": 15,
   "metadata": {},
   "outputs": [
    {
     "name": "stdout",
     "output_type": "stream",
     "text": [
      "109.5\n"
     ]
    }
   ],
   "source": [
    "def midrange(arr):\n",
    "    arr.sort()\n",
    "    n = len(arr)\n",
    "    \n",
    "    return (arr[0] + arr[n-1])/2\n",
    "\n",
    "print(midrange(int_list))"
   ]
  },
  {
   "cell_type": "markdown",
   "metadata": {},
   "source": [
    "#### vii) Implement a Python program to find the trimmed mean of a list, excluding a certain percentage of outliers."
   ]
  },
  {
   "cell_type": "code",
   "execution_count": 103,
   "metadata": {},
   "outputs": [
    {
     "name": "stdout",
     "output_type": "stream",
     "text": [
      "112.225\n"
     ]
    }
   ],
   "source": [
    "def trimmed_mean_cal(arr, trim_percentage=10):\n",
    "    sorted_numbers = sorted(arr)\n",
    "    length = len(arr)\n",
    "    trim = int(length * (trim_percentage / 100))\n",
    "    trimmed_numbers = sorted_numbers[trim:-trim]\n",
    "    trimmed_mean = sum(trimmed_numbers) / len(trimmed_numbers)\n",
    "    return trimmed_mean\n",
    "    \n",
    "    \n",
    "print(trimmed_mean_cal(int_list, 10))"
   ]
  },
  {
   "cell_type": "markdown",
   "metadata": {},
   "source": [
    "### Q2. Generate a list of 500 integers containing values between 200 to 300 and store it in the variable `int_list2`. After generating the list, find the following:\n"
   ]
  },
  {
   "cell_type": "code",
   "execution_count": 105,
   "metadata": {},
   "outputs": [],
   "source": [
    "int_list2 = np.random.randint(200, 300, 500)"
   ]
  },
  {
   "cell_type": "code",
   "execution_count": 106,
   "metadata": {},
   "outputs": [
    {
     "data": {
      "text/plain": [
       "500"
      ]
     },
     "execution_count": 106,
     "metadata": {},
     "output_type": "execute_result"
    }
   ],
   "source": [
    "len(int_list2)"
   ]
  },
  {
   "cell_type": "markdown",
   "metadata": {},
   "source": [
    "#### (i) Compare the given list of visualization for the given data:\n",
    "    - 1. Frequency & Gaussian distribution\n",
    "    * 2. Frequency smoothened KDE plot\n",
    "    * 3. Gaussian distribution & smoothened KDE plot"
   ]
  },
  {
   "cell_type": "code",
   "execution_count": 107,
   "metadata": {},
   "outputs": [
    {
     "data": {
      "image/png": "[encoded data removed]",
      "text/plain": [
       "<Figure size 640x480 with 1 Axes>"
      ]
     },
     "metadata": {},
     "output_type": "display_data"
    }
   ],
   "source": [
    "mu, std = stats.norm.fit(int_list2)\n",
    "\n",
    "plt.hist(int_list2, bins=25, density=True)\n",
    "\n",
    "xmin, xmax = plt.xlim()\n",
    "x = np.linspace(xmin, xmax, 100)\n",
    "p = stats.norm.pdf(x, mu, std)\n",
    "\n",
    "plt.plot(x, p, 'k')\n",
    "plt.title(\"Frequency and Gaussian Dist\")\n",
    "plt.show()"
   ]
  },
  {
   "cell_type": "code",
   "execution_count": 117,
   "metadata": {},
   "outputs": [
    {
     "data": {
      "text/plain": [
       "Text(0.5, 1.0, 'Frequency smoothened KDE plot')"
      ]
     },
     "execution_count": 117,
     "metadata": {},
     "output_type": "execute_result"
    },
    {
     "data": {
      "image/png": "[encoded data removed]",
      "text/plain": [
       "<Figure size 640x480 with 1 Axes>"
      ]
     },
     "metadata": {},
     "output_type": "display_data"
    }
   ],
   "source": [
    "sns.kdeplot(int_list2, fill=True)\n",
    "\n",
    "plt.title('Frequency smoothened KDE plot')"
   ]
  },
  {
   "cell_type": "code",
   "execution_count": 122,
   "metadata": {},
   "outputs": [
    {
     "data": {
      "image/png": "[encoded data removed]",
      "text/plain": [
       "<Figure size 640x480 with 1 Axes>"
      ]
     },
     "metadata": {},
     "output_type": "display_data"
    }
   ],
   "source": [
    "mu, std = stats.norm.fit(int_list2)\n",
    "xmin, xmax = plt.xlim()\n",
    "\n",
    "\n",
    "x = np.linspace(xmin, xmax, 100)\n",
    "p = stats.norm.pdf(x, mu, std)\n",
    "plt.subplot(1, 3, 2)\n",
    "sns.histplot(int_list2, stat=\"density\", linewidth=0)\n",
    "sns.kdeplot(int_list2, fill=True)\n",
    "\n",
    "x = np.linspace(min(int_list2), max(int_list2), 100)\n",
    "plt.plot(x, stats.norm.pdf(x, np.mean(int_list2), np.std(int_list2)), color='r', label='Gaussian')\n",
    "plt.legend()\n",
    "\n",
    "\n",
    "plt.title(\"Frequency and Gaussian Dist\")\n",
    "plt.show()"
   ]
  },
  {
   "cell_type": "markdown",
   "metadata": {},
   "source": [
    "#### (ii) Write a Python function to calculate the range of a given list of numbers."
   ]
  },
  {
   "cell_type": "code",
   "execution_count": 110,
   "metadata": {},
   "outputs": [
    {
     "name": "stdout",
     "output_type": "stream",
     "text": [
      "(200, 299)\n"
     ]
    }
   ],
   "source": [
    "def range1(arr):\n",
    "    arr.sort()\n",
    "    n = len(arr)\n",
    "    \n",
    "    return arr[0], arr[n-1]\n",
    "\n",
    "print(range1(int_list2))"
   ]
  },
  {
   "cell_type": "markdown",
   "metadata": {},
   "source": [
    "#### (iii) Create a program to find the variance and standard deviation of a list of numbers."
   ]
  },
  {
   "cell_type": "code",
   "execution_count": 111,
   "metadata": {},
   "outputs": [
    {
     "name": "stdout",
     "output_type": "stream",
     "text": [
      "Std Dev:  29.059113475809937\n",
      "Varience:  844.4320759999987\n"
     ]
    }
   ],
   "source": [
    "def std_var(arr):\n",
    "    n = len(arr)\n",
    "    mu = np.mean(arr)\n",
    "    var = 0\n",
    "    \n",
    "    var += sum((num -mu)**2 for num in arr)/n\n",
    "            \n",
    "    std = math.sqrt(var)\n",
    "    \n",
    "    return std, var\n",
    "\n",
    "\n",
    "std, var = std_var(int_list2)\n",
    "\n",
    "print(\"Std Dev: \", std)\n",
    "print(\"Varience: \", var)   \n"
   ]
  },
  {
   "cell_type": "code",
   "execution_count": 112,
   "metadata": {},
   "outputs": [
    {
     "data": {
      "text/plain": [
       "29.059113475809962"
      ]
     },
     "execution_count": 112,
     "metadata": {},
     "output_type": "execute_result"
    }
   ],
   "source": [
    "np.std(int_list2)"
   ]
  },
  {
   "cell_type": "code",
   "execution_count": 113,
   "metadata": {},
   "outputs": [
    {
     "data": {
      "text/plain": [
       "844.432076"
      ]
     },
     "execution_count": 113,
     "metadata": {},
     "output_type": "execute_result"
    }
   ],
   "source": [
    "np.var(int_list2)"
   ]
  },
  {
   "cell_type": "markdown",
   "metadata": {},
   "source": [
    "#### (iv) Implement a function to compute the interquartile range (IQR) of a list of values."
   ]
  },
  {
   "cell_type": "code",
   "execution_count": 123,
   "metadata": {},
   "outputs": [
    {
     "name": "stdout",
     "output_type": "stream",
     "text": [
      "50.0\n"
     ]
    }
   ],
   "source": [
    "def IQR(arr):\n",
    "    arr = sorted(arr)  \n",
    "    n = len(arr)\n",
    "    \n",
    "    if n % 2 == 0:  \n",
    "        lower_half = arr[:n//2]\n",
    "        upper_half = arr[n//2:]\n",
    "    else:  \n",
    "        lower_half = arr[:n//2]\n",
    "        upper_half = arr[n//2+1:]\n",
    "    \n",
    "    Q1 = np.median(lower_half)\n",
    "    Q3 = np.median(upper_half)\n",
    "    iqr_val = Q3 - Q1\n",
    "    \n",
    "    return iqr_val\n",
    "\n",
    "print(IQR(int_list2))"
   ]
  },
  {
   "cell_type": "code",
   "execution_count": 124,
   "metadata": {},
   "outputs": [],
   "source": [
    "data = pd.DataFrame(int_list2)"
   ]
  },
  {
   "cell_type": "code",
   "execution_count": 125,
   "metadata": {},
   "outputs": [
    {
     "data": {
      "text/html": [
       "<div>\n",
       "<style scoped>\n",
       "    .dataframe tbody tr th:only-of-type {\n",
       "        vertical-align: middle;\n",
       "    }\n",
       "\n",
       "    .dataframe tbody tr th {\n",
       "        vertical-align: top;\n",
       "    }\n",
       "\n",
       "    .dataframe thead th {\n",
       "        text-align: right;\n",
       "    }\n",
       "</style>\n",
       "<table border=\"1\" class=\"dataframe\">\n",
       "  <thead>\n",
       "    <tr style=\"text-align: right;\">\n",
       "      <th></th>\n",
       "      <th>0</th>\n",
       "    </tr>\n",
       "  </thead>\n",
       "  <tbody>\n",
       "    <tr>\n",
       "      <th>count</th>\n",
       "      <td>500.000000</td>\n",
       "    </tr>\n",
       "    <tr>\n",
       "      <th>mean</th>\n",
       "      <td>250.382000</td>\n",
       "    </tr>\n",
       "    <tr>\n",
       "      <th>std</th>\n",
       "      <td>29.088216</td>\n",
       "    </tr>\n",
       "    <tr>\n",
       "      <th>min</th>\n",
       "      <td>200.000000</td>\n",
       "    </tr>\n",
       "    <tr>\n",
       "      <th>25%</th>\n",
       "      <td>226.000000</td>\n",
       "    </tr>\n",
       "    <tr>\n",
       "      <th>50%</th>\n",
       "      <td>251.000000</td>\n",
       "    </tr>\n",
       "    <tr>\n",
       "      <th>75%</th>\n",
       "      <td>276.000000</td>\n",
       "    </tr>\n",
       "    <tr>\n",
       "      <th>max</th>\n",
       "      <td>299.000000</td>\n",
       "    </tr>\n",
       "  </tbody>\n",
       "</table>\n",
       "</div>"
      ],
      "text/plain": [
       "                0\n",
       "count  500.000000\n",
       "mean   250.382000\n",
       "std     29.088216\n",
       "min    200.000000\n",
       "25%    226.000000\n",
       "50%    251.000000\n",
       "75%    276.000000\n",
       "max    299.000000"
      ]
     },
     "execution_count": 125,
     "metadata": {},
     "output_type": "execute_result"
    }
   ],
   "source": [
    "data.describe()"
   ]
  },
  {
   "cell_type": "markdown",
   "metadata": {},
   "source": [
    "#### (v) Build a program to calculate the coefficient of variation for a dataset."
   ]
  },
  {
   "cell_type": "code",
   "execution_count": 29,
   "metadata": {},
   "outputs": [
    {
     "name": "stdout",
     "output_type": "stream",
     "text": [
      "0.11446035630333126\n"
     ]
    }
   ],
   "source": [
    "def coef_of_var(arr):\n",
    "    n = len(arr)\n",
    "    mu = 0\n",
    "    var = 0\n",
    "    \n",
    "    mu += sum(num for num in arr)/n\n",
    "    var += sum((num-mu)**2 for num in arr)/n \n",
    "    \n",
    "    coeff = var**0.5/mu\n",
    "    \n",
    "    return coeff\n",
    "\n",
    "\n",
    "print(coef_of_var(int_list2))"
   ]
  },
  {
   "cell_type": "code",
   "execution_count": 30,
   "metadata": {},
   "outputs": [
    {
     "data": {
      "text/plain": [
       "0.1144603563033313"
      ]
     },
     "execution_count": 30,
     "metadata": {},
     "output_type": "execute_result"
    }
   ],
   "source": [
    "stats.variation(int_list2)"
   ]
  },
  {
   "cell_type": "markdown",
   "metadata": {},
   "source": [
    "#### (vi) Write a Python function to find the mean absolute deviation (MAD) of a list of numbers."
   ]
  },
  {
   "cell_type": "code",
   "execution_count": 31,
   "metadata": {},
   "outputs": [
    {
     "name": "stdout",
     "output_type": "stream",
     "text": [
      "25.02807999999988\n"
     ]
    }
   ],
   "source": [
    "def MAD(arr):\n",
    "    n = len(arr)\n",
    "    mu = sum(num for num in arr)/n\n",
    "    mad = sum(abs(num-mu) for num in arr)/n \n",
    "    \n",
    "    return mad\n",
    "\n",
    "\n",
    "print(MAD(int_list2))"
   ]
  },
  {
   "cell_type": "code",
   "execution_count": 32,
   "metadata": {},
   "outputs": [
    {
     "data": {
      "text/plain": [
       "0    25.02808\n",
       "dtype: float64"
      ]
     },
     "execution_count": 32,
     "metadata": {},
     "output_type": "execute_result"
    }
   ],
   "source": [
    "df = pd.DataFrame(int_list2)\n",
    "\n",
    "df.mad()"
   ]
  },
  {
   "cell_type": "markdown",
   "metadata": {},
   "source": [
    "#### (vii) Create a program to calculate the quartile deviation of a list of values."
   ]
  },
  {
   "cell_type": "code",
   "execution_count": 33,
   "metadata": {},
   "outputs": [
    {
     "name": "stdout",
     "output_type": "stream",
     "text": [
      "25.0\n"
     ]
    }
   ],
   "source": [
    "def Quartile_dev(arr):\n",
    "    n = len(arr)\n",
    "    arr.sort()\n",
    "\n",
    "    mid_index = n//2\n",
    "    Q1 = np.median(arr[:mid_index])\n",
    "    Q3 = np.median(arr[mid_index:])\n",
    "    \n",
    "    dev = (Q3 - Q1)/2\n",
    "    \n",
    "    return dev\n",
    "\n",
    "print(Quartile_dev(int_list2))"
   ]
  },
  {
   "cell_type": "markdown",
   "metadata": {},
   "source": [
    "#### (viii) Implement a function to find the range-based coefficient of dispersion for a dataset."
   ]
  },
  {
   "cell_type": "code",
   "execution_count": 34,
   "metadata": {},
   "outputs": [
    {
     "name": "stdout",
     "output_type": "stream",
     "text": [
      "0.19839679358717435\n"
     ]
    }
   ],
   "source": [
    "def range_coeff_desp(arr):\n",
    "    \n",
    "    arr.sort()\n",
    "    n= len(arr)\n",
    "    \n",
    "    max, min = arr[n-1], arr[0]\n",
    "    \n",
    "    \n",
    "    \n",
    "    coeff_dev = (max-min)/(max+min)\n",
    "    \n",
    "    return coeff_dev\n",
    "\n",
    "print(range_coeff_desp(int_list2))"
   ]
  },
  {
   "cell_type": "markdown",
   "metadata": {},
   "source": [
    "### Q 3) Write a Python class representing a discrete random variable with methods to calculate its expected value and variance"
   ]
  },
  {
   "cell_type": "code",
   "execution_count": 35,
   "metadata": {},
   "outputs": [],
   "source": [
    "class EXP_VAR:\n",
    "\n",
    "    def __init__(self, values, prob):\n",
    "        \n",
    "        if len(values) != len(prob):\n",
    "            return \"Error: size mismatch\"\n",
    "        \n",
    "        if (abs(sum(prob)-1) != 0):\n",
    "            return \"summ of all prob should be zero \"\n",
    "        \n",
    "        \n",
    "        self.values = values\n",
    "        self.probability = prob\n",
    "        \n",
    "    def expected_value(self):\n",
    "        return sum(value*prob for value, prob in zip(self.values, self.probability))\n",
    "    \n",
    "    \n",
    "    def varience(self):\n",
    "        exp_val = self.expected_value()\n",
    "        \n",
    "        q = sum((value**2)*prob for value, prob in zip(self.values, self.probability))\n",
    "        var = q - exp_val**2\n",
    "        \n",
    "        return var\n",
    "        "
   ]
  },
  {
   "cell_type": "markdown",
   "metadata": {},
   "source": [
    "### Q4 Implement a program to simulate the rolling of a fair six-sided die and calculate the expected value and variance of the outcomes."
   ]
  },
  {
   "cell_type": "code",
   "execution_count": 36,
   "metadata": {},
   "outputs": [
    {
     "name": "stdout",
     "output_type": "stream",
     "text": [
      "4.166666666666667\n",
      "0.4722222222222179\n"
     ]
    }
   ],
   "source": [
    "def Dice_ROLL():\n",
    "    \n",
    "    roll = np.random.randint(1, 7)\n",
    "    \n",
    "    return roll\n",
    "\n",
    "def expected_value(outcomes):\n",
    "    \n",
    "    exp_val = sum(outcomes)/6\n",
    "    \n",
    "    return exp_val\n",
    "\n",
    "def variance(outcomes, exp_val):\n",
    "    var = sum((x**2) for x in outcomes)/6 - exp_val**2 \n",
    "    \n",
    "    return var\n",
    "    \n",
    "def sim_dice(n):\n",
    "    outcomes = [Dice_ROLL() for _ in range(n)]\n",
    "    exp_val = expected_value(outcomes)\n",
    "    \n",
    "    var = variance(outcomes, exp_val)\n",
    "    \n",
    "    return exp_val, var\n",
    "\n",
    "\n",
    "n = 6\n",
    "\n",
    "exp_val, var = sim_dice(n)\n",
    "\n",
    "print(exp_val)\n",
    "print(var)"
   ]
  },
  {
   "cell_type": "markdown",
   "metadata": {},
   "source": [
    "### Q5) Create a Python function to generate random samples from a given probability distribution (e.g., binomial, Poisson) and calculate their mean and variance"
   ]
  },
  {
   "cell_type": "code",
   "execution_count": 37,
   "metadata": {},
   "outputs": [],
   "source": [
    "import numpy as np\n",
    "\n",
    "def generate_samples(distribution, params, size):\n",
    "    \n",
    "    \n",
    "    if distribution == 'binomial':\n",
    "        samples = np.random.binomial(n=params['n'], p=params['p'], size=size)\n",
    "    elif distribution == 'poisson':\n",
    "        samples = np.random.poisson(lam=params['lam'], size=size)\n",
    "        \n",
    "    elif distribution == 'bernoulli':\n",
    "        samples = np.random.uniform(low=params['low'], high=params['high'], size=size)\n",
    "        \n",
    "    elif distribution == 'bernoulli':\n",
    "        samples = np.random.binomial(n=1, p=params['p'], size=size)\n",
    "    \n",
    "    else:\n",
    "        return \"unkown distribution\"\n",
    "    \n",
    "    mean = np.mean(samples)\n",
    "    variance = np.var(samples)\n",
    "    \n",
    "    return mean, variance\n",
    "\n"
   ]
  },
  {
   "cell_type": "markdown",
   "metadata": {},
   "source": [
    "### Q6) Write a Python script to generate random numbers from a Gaussian (normal) distribution and compute the mean, variance, and standard deviation of the samples."
   ]
  },
  {
   "cell_type": "code",
   "execution_count": 38,
   "metadata": {},
   "outputs": [],
   "source": [
    "def generate_gaussian(mu, std, n):\n",
    "    \n",
    "    sample = np.random.normal(mu, std, n)\n",
    "    \n",
    "    mean = np.mean(sample)\n",
    "    \n",
    "    variance = np.var(sample)\n",
    "    \n",
    "    std_deviation = np.std(sample)\n",
    "    \n",
    "    return mean, variance, std_deviation"
   ]
  },
  {
   "cell_type": "markdown",
   "metadata": {},
   "source": [
    "### Q7 Use seaborn library to load `tips` dataset. Find the following from the dataset for the columns `total_bill` and `tip`"
   ]
  },
  {
   "cell_type": "code",
   "execution_count": 39,
   "metadata": {},
   "outputs": [
    {
     "data": {
      "text/html": [
       "<div>\n",
       "<style scoped>\n",
       "    .dataframe tbody tr th:only-of-type {\n",
       "        vertical-align: middle;\n",
       "    }\n",
       "\n",
       "    .dataframe tbody tr th {\n",
       "        vertical-align: top;\n",
       "    }\n",
       "\n",
       "    .dataframe thead th {\n",
       "        text-align: right;\n",
       "    }\n",
       "</style>\n",
       "<table border=\"1\" class=\"dataframe\">\n",
       "  <thead>\n",
       "    <tr style=\"text-align: right;\">\n",
       "      <th></th>\n",
       "      <th>total_bill</th>\n",
       "      <th>tip</th>\n",
       "      <th>sex</th>\n",
       "      <th>smoker</th>\n",
       "      <th>day</th>\n",
       "      <th>time</th>\n",
       "      <th>size</th>\n",
       "    </tr>\n",
       "  </thead>\n",
       "  <tbody>\n",
       "    <tr>\n",
       "      <th>0</th>\n",
       "      <td>16.99</td>\n",
       "      <td>1.01</td>\n",
       "      <td>Female</td>\n",
       "      <td>No</td>\n",
       "      <td>Sun</td>\n",
       "      <td>Dinner</td>\n",
       "      <td>2</td>\n",
       "    </tr>\n",
       "    <tr>\n",
       "      <th>1</th>\n",
       "      <td>10.34</td>\n",
       "      <td>1.66</td>\n",
       "      <td>Male</td>\n",
       "      <td>No</td>\n",
       "      <td>Sun</td>\n",
       "      <td>Dinner</td>\n",
       "      <td>3</td>\n",
       "    </tr>\n",
       "    <tr>\n",
       "      <th>2</th>\n",
       "      <td>21.01</td>\n",
       "      <td>3.50</td>\n",
       "      <td>Male</td>\n",
       "      <td>No</td>\n",
       "      <td>Sun</td>\n",
       "      <td>Dinner</td>\n",
       "      <td>3</td>\n",
       "    </tr>\n",
       "    <tr>\n",
       "      <th>3</th>\n",
       "      <td>23.68</td>\n",
       "      <td>3.31</td>\n",
       "      <td>Male</td>\n",
       "      <td>No</td>\n",
       "      <td>Sun</td>\n",
       "      <td>Dinner</td>\n",
       "      <td>2</td>\n",
       "    </tr>\n",
       "    <tr>\n",
       "      <th>4</th>\n",
       "      <td>24.59</td>\n",
       "      <td>3.61</td>\n",
       "      <td>Female</td>\n",
       "      <td>No</td>\n",
       "      <td>Sun</td>\n",
       "      <td>Dinner</td>\n",
       "      <td>4</td>\n",
       "    </tr>\n",
       "  </tbody>\n",
       "</table>\n",
       "</div>"
      ],
      "text/plain": [
       "   total_bill   tip     sex smoker  day    time  size\n",
       "0       16.99  1.01  Female     No  Sun  Dinner     2\n",
       "1       10.34  1.66    Male     No  Sun  Dinner     3\n",
       "2       21.01  3.50    Male     No  Sun  Dinner     3\n",
       "3       23.68  3.31    Male     No  Sun  Dinner     2\n",
       "4       24.59  3.61  Female     No  Sun  Dinner     4"
      ]
     },
     "execution_count": 39,
     "metadata": {},
     "output_type": "execute_result"
    }
   ],
   "source": [
    "df = sns.load_dataset('tips')\n",
    "df.head()"
   ]
  },
  {
   "cell_type": "markdown",
   "metadata": {},
   "source": [
    "#### (i) Write a Python function that calculates their skewness."
   ]
  },
  {
   "cell_type": "code",
   "execution_count": 40,
   "metadata": {},
   "outputs": [
    {
     "name": "stdout",
     "output_type": "stream",
     "text": [
      "Skewness of total bills:  0.6639840599505727\n",
      "Skewness of tips:  0.2108838922315445\n"
     ]
    }
   ],
   "source": [
    "def skewness(arr):\n",
    "\n",
    "    mu = np.mean(arr)\n",
    "    \n",
    "    median = np.median(arr)\n",
    "    \n",
    "    \n",
    "    std_dev = np.std(arr, ddof=n)\n",
    "    \n",
    "    skew = (3*(mu - median))/std_dev\n",
    "    \n",
    "    return skew\n",
    "\n",
    "\n",
    "print(\"Skewness of total bills: \",skewness(df['total_bill']))\n",
    "print(\"Skewness of tips: \", skewness(df['tip']))\n"
   ]
  },
  {
   "cell_type": "markdown",
   "metadata": {},
   "source": [
    "#### (ii) Create a program that determines whether the columns exhibit positive skewness, negative skewness, or is approximately symmetric"
   ]
  },
  {
   "cell_type": "code",
   "execution_count": 41,
   "metadata": {},
   "outputs": [
    {
     "name": "stdout",
     "output_type": "stream",
     "text": [
      "positivly skewed\n",
      "positivly skewed\n"
     ]
    },
    {
     "name": "stderr",
     "output_type": "stream",
     "text": [
      "C:\\Users\\Areej Ahamd\\AppData\\Local\\Temp\\ipykernel_11664\\956872291.py:5: FutureWarning: Unlike other reduction functions (e.g. `skew`, `kurtosis`), the default behavior of `mode` typically preserves the axis it acts along. In SciPy 1.11.0, this behavior will change: the default value of `keepdims` will become False, the `axis` over which the statistic is taken will be eliminated, and the value None will no longer be accepted. Set `keepdims` to True or False to avoid this warning.\n",
      "  mode = stats.mode(arr).mode[0]\n"
     ]
    }
   ],
   "source": [
    "def skew_type(arr):\n",
    "    \n",
    "    mean = np.mean(arr)\n",
    "    median = np.median(arr)\n",
    "    mode = stats.mode(arr).mode[0]\n",
    "    \n",
    "    if (abs(mean- median) <= 1e-3) and (abs(median- mode) <= 1e-3):\n",
    "        print('Symmetric')\n",
    "        \n",
    "    elif mean > median and median>mode:\n",
    "        print(\"positivly skewed\")\n",
    "    \n",
    "    elif mean< median and median<mode:\n",
    "        print(\"-ively skewed\")\n",
    "        \n",
    "        \n",
    "skew_type(df['tip'])\n",
    "skew_type(df['total_bill'])"
   ]
  },
  {
   "cell_type": "markdown",
   "metadata": {},
   "source": [
    "#### (iii) Write a function that calculates the covariance between two columns."
   ]
  },
  {
   "cell_type": "code",
   "execution_count": 42,
   "metadata": {},
   "outputs": [
    {
     "name": "stdout",
     "output_type": "stream",
     "text": [
      "8.28938891762967\n"
     ]
    }
   ],
   "source": [
    "def covar(arr1, arr2):\n",
    "    n = len(arr1)\n",
    "    mu1 = np.mean(arr1)\n",
    "    mu2 = np.mean(arr2)\n",
    "    \n",
    "    cov = sum((num1-mu1)*(num2-mu2) for num1, num2 in zip(arr1, arr2))/n \n",
    "    \n",
    "    return cov\n",
    "\n",
    "print(covar(df['total_bill'], df['tip']))"
   ]
  },
  {
   "cell_type": "code",
   "execution_count": 43,
   "metadata": {},
   "outputs": [
    {
     "data": {
      "text/plain": [
       "8.323501629224854"
      ]
     },
     "execution_count": 43,
     "metadata": {},
     "output_type": "execute_result"
    }
   ],
   "source": [
    "np.cov(df['total_bill'], df['tip'])[0][1]"
   ]
  },
  {
   "cell_type": "markdown",
   "metadata": {},
   "source": [
    "#### (iv) Implement a Python program that calculates the Pearson correlation coefficient between two columns."
   ]
  },
  {
   "cell_type": "code",
   "execution_count": 44,
   "metadata": {},
   "outputs": [
    {
     "name": "stdout",
     "output_type": "stream",
     "text": [
      "0.6757341092113647\n"
     ]
    }
   ],
   "source": [
    "def pearson_cov_coeff(arr1, arr2):\n",
    "    n = len(arr1)\n",
    "    mu1 = np.mean(arr1)\n",
    "    std_dev1 = (np.var(arr1))**0.5\n",
    "    mu2 = np.mean(arr2)\n",
    "    std_dev2 = (np.var(arr2))**0.5\n",
    "    \n",
    "    cov = sum((num1-mu1)*(num2-mu2) for num1, num2 in zip(arr1, arr2))/n\n",
    "    \n",
    "    coeff = cov/(std_dev1*std_dev2)\n",
    "    \n",
    "    return coeff\n",
    "\n",
    "\n",
    "print(pearson_cov_coeff(df['total_bill'], df['tip']))\n",
    "    \n",
    "    "
   ]
  },
  {
   "cell_type": "code",
   "execution_count": 45,
   "metadata": {},
   "outputs": [
    {
     "data": {
      "text/plain": [
       "0.6757341092113647"
      ]
     },
     "execution_count": 45,
     "metadata": {},
     "output_type": "execute_result"
    }
   ],
   "source": [
    "stats.pearsonr(df['total_bill'], df['tip'])[0]"
   ]
  },
  {
   "cell_type": "markdown",
   "metadata": {},
   "source": [
    "#### (v) Write a script to visualize the correlation between two specific columns in a Pandas DataFrame using scatter plots."
   ]
  },
  {
   "cell_type": "code",
   "execution_count": 46,
   "metadata": {},
   "outputs": [
    {
     "data": {
      "image/png": "[encoded data removed]",
      "text/plain": [
       "<Figure size 640x480 with 1 Axes>"
      ]
     },
     "metadata": {},
     "output_type": "display_data"
    }
   ],
   "source": [
    "def viz_corr(df, col1, col2):\n",
    "    \n",
    "    correlation = df[col1].corr(df[col2])\n",
    "    \n",
    "    plt.scatter(df[col1], df[col2], label=\"data points\")\n",
    "    plt.title(f'Scatter Plot for corr')\n",
    "    plt.xlabel(col1)\n",
    "    plt.ylabel(col2)\n",
    "    plt.grid(True)\n",
    "    plt.show()\n",
    "    \n",
    "    \n",
    "viz_corr(df, 'total_bill', 'tip')  \n",
    "    "
   ]
  },
  {
   "cell_type": "markdown",
   "metadata": {},
   "source": [
    "### Q8 Write a Python function to calculate the probability density function (PDF) of a continuous random variable for a given normal distribution"
   ]
  },
  {
   "cell_type": "code",
   "execution_count": 47,
   "metadata": {},
   "outputs": [],
   "source": [
    "def normal_pdf(x, mu, sigma):\n",
    "   \n",
    "    coeff = 1 / (math.sqrt(2 * math.pi) * sigma)\n",
    "    exponent = -((x - mu) ** 2) / (2 * sigma ** 2)\n",
    "    pdf_value = coeff * math.exp(exponent)\n",
    "    return pdf_value\n"
   ]
  },
  {
   "cell_type": "markdown",
   "metadata": {},
   "source": [
    "### Q¸9 Create a program to calculate the cumulative distribution function (CDF) of exponential distribution."
   ]
  },
  {
   "cell_type": "code",
   "execution_count": 48,
   "metadata": {},
   "outputs": [],
   "source": [
    "def exponential_cdf(x, lambd):\n",
    "    \n",
    "    if x < 0:\n",
    "        return 0\n",
    "    else:\n",
    "        return 1 - math.exp(-lambd * x)\n"
   ]
  },
  {
   "cell_type": "markdown",
   "metadata": {},
   "source": [
    "### Q9 Write a Python function to calculate the probability mass function (PMF) of Poisson distribution."
   ]
  },
  {
   "cell_type": "code",
   "execution_count": 49,
   "metadata": {},
   "outputs": [],
   "source": [
    "def poisson_pmf(k, lambd):\n",
    "   \n",
    "    return (math.exp(-lambd) * (lambd ** k)) / math.factorial(k)\n"
   ]
  },
  {
   "cell_type": "markdown",
   "metadata": {},
   "source": [
    "### Q11  A company wants to test if a new website layout leads to a higher conversion rate (percentage of visitors who make a purchase). They collect data from the old and new layouts to compare.\n"
   ]
  },
  {
   "cell_type": "code",
   "execution_count": 50,
   "metadata": {},
   "outputs": [],
   "source": [
    "import numpy as np\n",
    "\n",
    "# 50 purchases out of 1000 visitors\n",
    "\n",
    "old_layout = np.array([1] * 50 + [0] * 950)\n",
    "\n",
    "# 70 purchases out of 1000 visitors\n",
    "new_layout = np.array([1] * 70 + [0] * 930)"
   ]
  },
  {
   "attachments": {
    "image.png": {
     "image/png": "[encoded data removed]"
    }
   },
   "cell_type": "markdown",
   "metadata": {},
   "source": [
    "#### Apply z-test to find which layout is successful.\n",
    "\n",
    "![image.png](attachment:image.png)\n",
    "\n",
    "* Ho: No significant difference in conversion rates between layouts.\n",
    "* HA: New layout leads to a higher conversion rate.\n",
    "\n",
    "* Taking alpha = 0.05"
   ]
  },
  {
   "cell_type": "code",
   "execution_count": 51,
   "metadata": {},
   "outputs": [
    {
     "name": "stdout",
     "output_type": "stream",
     "text": [
      "Z_Score =  1.883108942886774\n",
      "p_value:  0.029842802766213095\n",
      "Reject null hypothesis: There is a significant diff in conversion rates b/w the layouts.\n"
     ]
    }
   ],
   "source": [
    "# as it is a two sample z_test\n",
    "\n",
    "n_old = len(old_layout)\n",
    "n_new = len(new_layout)\n",
    "\n",
    "# Calculating sample proportions\n",
    "\n",
    "p_old = np.sum(old_layout)/n_old\n",
    "p_new = np.sum(new_layout)/n_new\n",
    "\n",
    "\n",
    "p_pool = (np.sum(old_layout) + np.sum(new_layout))/(n_old+n_new)\n",
    "\n",
    "\n",
    "S = p_pool*(1-p_pool)\n",
    "\n",
    "S = S * ((1/n_old)  + (1/n_new))\n",
    "\n",
    "std_error = math.sqrt(S)\n",
    "\n",
    "z_score = (p_new - p_old)/std_error\n",
    "\n",
    "print(\"Z_Score = \", z_score)\n",
    "\n",
    "\n",
    "\n",
    "p_value = (1-stats.norm.cdf(z_score))\n",
    "\n",
    "print(\"p_value: \", p_value)\n",
    "\n",
    "alpha = 0.05\n",
    "\n",
    "if p_value < alpha:\n",
    "    print(\"Reject null hypothesis: There is a significant diff in conversion rates b/w the layouts.\")\n",
    "    \n",
    "else:\n",
    "    print(\"Fail to reject null hypothesis: no significatn diff in conversion rate b/w layouts\")"
   ]
  },
  {
   "cell_type": "markdown",
   "metadata": {},
   "source": [
    "### Q12 A tutoring service claims that its program improves students' exam scores. A sample of students who participated in the program was taken, and their scores before and after the program were recorded."
   ]
  },
  {
   "cell_type": "code",
   "execution_count": 52,
   "metadata": {},
   "outputs": [],
   "source": [
    "before_program = np.array([75, 80, 85, 70, 90, 78, 92, 88, 82, 87])\n",
    "\n",
    "after_program = np.array([80, 85, 90, 80, 92, 80, 95, 90, 85, 88])"
   ]
  },
  {
   "cell_type": "markdown",
   "metadata": {},
   "source": [
    "* Use z-test to find if the claims made by tutor are true or false."
   ]
  },
  {
   "cell_type": "markdown",
   "metadata": {},
   "source": [
    "* Ho: The tutoring program does not significantly improve students' exam scores.\n",
    "* HA: The tutoring program significantly improves students' exam scores."
   ]
  },
  {
   "cell_type": "code",
   "execution_count": 53,
   "metadata": {},
   "outputs": [
    {
     "name": "stdout",
     "output_type": "stream",
     "text": [
      "Z-score: 1.3600371723457605, P-value: 0.029842802766213095\n",
      "Reject null hypothesis: The tutoring program significantly improves students' exam scores.\n"
     ]
    }
   ],
   "source": [
    "from statsmodels.stats.weightstats import ztest\n",
    "\n",
    "z_score, pvalue = ztest(after_program, before_program,value=0, alternative='larger')\n",
    "\n",
    "print(f\"Z-score: {z_score}, P-value: {p_value}\")\n",
    "\n",
    "if p_value < alpha:\n",
    "    print(\"Reject null hypothesis: The tutoring program significantly improves students' exam scores.\")\n",
    "else:\n",
    "    print(\"Fail to reject null hypothesis: The tutoring program does not significantly improve students' exam scores.\")"
   ]
  },
  {
   "cell_type": "markdown",
   "metadata": {},
   "source": [
    "### Q13 A pharmaceutical company wants to determine if a new drug is effective in reducing blood pressure. They conduct a study and record blood pressure measurements before and after administering the drug."
   ]
  },
  {
   "cell_type": "code",
   "execution_count": 54,
   "metadata": {},
   "outputs": [],
   "source": [
    "before_drug = np.array([145, 150, 140, 135, 155, 160, 152, 148, 130, 138])\n",
    "\n",
    "after_drug = np.array([130, 140, 132, 128, 145, 148, 138, 136, 125, 130])"
   ]
  },
  {
   "cell_type": "markdown",
   "metadata": {},
   "source": [
    "* Implement z-test to find if the drug really works or not."
   ]
  },
  {
   "cell_type": "markdown",
   "metadata": {},
   "source": [
    "* Ho: The drug does not effect the blood pressure\n",
    "* HA: The drug reduces the blood pressure"
   ]
  },
  {
   "cell_type": "code",
   "execution_count": 55,
   "metadata": {},
   "outputs": [
    {
     "name": "stdout",
     "output_type": "stream",
     "text": [
      "Z_score: 2.639577121919447\n",
      "P_value: 0.004150476693595778\n",
      "Reject null hypothesis: The drug reduces blood pressure.\n"
     ]
    }
   ],
   "source": [
    "from statsmodels.stats.weightstats import ztest\n",
    "\n",
    "z_score, p_value = ztest(before_drug, after_drug,  value=0, alternative='larger')\n",
    "\n",
    "print(\"Z_score:\", z_score)\n",
    "print(\"P_value:\", p_value)\n",
    "\n",
    "alpha = 0.05 \n",
    "\n",
    "if p_value < alpha:\n",
    "    print(\"Reject null hypothesis: The drug reduces blood pressure.\")\n",
    "else:\n",
    "    print(\"Fail to reject null hypothesis: The drug does not reduces blood pressure\")"
   ]
  },
  {
   "cell_type": "markdown",
   "metadata": {},
   "source": [
    "### Q14  A customer service department claims that their average response time is less than 5 minutes. A sample of recent customer interactions was taken, and the response times were recorded."
   ]
  },
  {
   "cell_type": "code",
   "execution_count": 56,
   "metadata": {},
   "outputs": [],
   "source": [
    "response_times = np.array([4.3, 3.8, 5.1, 4.9, 4.7, 4.2, 5.2, 4.5, 4.6, 4.4])"
   ]
  },
  {
   "cell_type": "markdown",
   "metadata": {},
   "source": [
    "* Implement z-test to find the claims made by customer service department are tru or false."
   ]
  },
  {
   "cell_type": "code",
   "execution_count": 57,
   "metadata": {},
   "outputs": [
    {
     "name": "stdout",
     "output_type": "stream",
     "text": [
      "Z-Score:-3.184457226042963\n",
      "Z-critical:-1.6448536269514729\n",
      "Reject the null Hypothesis, so average response time is less than 5 minutes\n"
     ]
    }
   ],
   "source": [
    "sample_mean = np.mean(response_times)\n",
    "pop_mean = 5\n",
    "sample_std = np.std(response_times, ddof=1)\n",
    "n = len(response_times)\n",
    "\n",
    "z_score = (sample_mean - pop_mean)/(sample_std/np.sqrt(n))\n",
    "alpha = 0.05\n",
    "\n",
    "z_critical = stats.norm.ppf(alpha)\n",
    "\n",
    "print(f\"Z-Score:{z_score}\")\n",
    "print(f\"Z-critical:{z_critical}\")\n",
    "if z_score<z_critical:\n",
    "    print(\"Reject the null Hypothesis, so average response time is less than 5 minutes\")\n",
    "else:\n",
    "    print(\"Fail to Reject the Null Hypothesis,so average response time is not less than 5 minutes\")\n",
    "                              "
   ]
  },
  {
   "cell_type": "markdown",
   "metadata": {},
   "source": [
    "### Q15 U A company is testing two different website layouts to see which one leads to higher click-through rates. Write a Python function to perform an A/B test analysis, including calculating the t-statistic, degrees of freedom, and p-value"
   ]
  },
  {
   "cell_type": "code",
   "execution_count": 58,
   "metadata": {},
   "outputs": [],
   "source": [
    "layout_a_clicks = [28, 32, 33, 29, 31, 34, 30, 35, 36, 37]\n",
    "\n",
    "layout_b_clicks = [40, 41, 38, 42, 39, 44, 43, 41, 45, 47]"
   ]
  },
  {
   "cell_type": "code",
   "execution_count": 59,
   "metadata": {},
   "outputs": [
    {
     "name": "stdout",
     "output_type": "stream",
     "text": [
      "t-statistic: -7.298102156175071\n",
      "Degrees of Freedom: 18\n",
      "p-value: 8.833437608301987e-07\n",
      "Reject Null Hypothesis: There is a significant difference in click-through rates b/w the two layouts.\n"
     ]
    }
   ],
   "source": [
    "t_score, p_value =  stats.ttest_ind(layout_a_clicks, layout_b_clicks)\n",
    "\n",
    "n_a = len(layout_a_clicks)\n",
    "n_b = len(layout_b_clicks)\n",
    "\n",
    "DOF = n_a + n_b - 2\n",
    "\n",
    "print(\"t-statistic:\", t_score)\n",
    "print(\"Degrees of Freedom:\", DOF)\n",
    "print(\"p-value:\", p_value)\n",
    "\n",
    "alpha = 0.05\n",
    "if p_value < alpha:\n",
    "    print(\"Reject Null Hypothesis: There is a significant difference in click-through rates b/w the two layouts.\")\n",
    "else:\n",
    "    print(\"Fail to Reject Null Hypothesis: There is insufficient evidence to conclude a significant difference in click-through rates b/w both layouts\")"
   ]
  },
  {
   "cell_type": "markdown",
   "metadata": {},
   "source": [
    "### Q16  A pharmaceutical company wants to determine if a new drug is more effective than an existing drug in reducing cholesterol levels. Create a program to analyze the clinical trial data and calculate the t-statistic and p-value for the treatment effect."
   ]
  },
  {
   "cell_type": "code",
   "execution_count": 60,
   "metadata": {},
   "outputs": [],
   "source": [
    "existing_drug_levels = [180, 182, 175, 185, 178, 176, 172, 184, 179, 183]\n",
    "\n",
    "new_drug_levels = [170, 172, 165, 168, 175, 173, 170, 178, 172, 176]"
   ]
  },
  {
   "cell_type": "code",
   "execution_count": 61,
   "metadata": {},
   "outputs": [
    {
     "name": "stdout",
     "output_type": "stream",
     "text": [
      "T-statistic: 4.14048098620866\n",
      "P-value: 0.0006143398442372505\n",
      "Reject the null Hypothesis,new drug is not effective than an existing drug in reducing cholesterol levels\n"
     ]
    }
   ],
   "source": [
    "t_stats, p_value = stats.ttest_ind(existing_drug_levels, new_drug_levels)\n",
    "\n",
    "print(\"T-statistic:\", t_stats)\n",
    "print(\"P-value:\", p_value)\n",
    "\n",
    "alpha = 0.05 \n",
    "if p_value:\n",
    "    print(\"Reject the null Hypothesis,new drug is not effective than an existing drug in reducing cholesterol levels\")\n",
    "else:\n",
    "    print(\"Fail to Reject the null Hypothesis,new drug is effective than an existing drug in reducing cholesterol levels\")"
   ]
  },
  {
   "cell_type": "markdown",
   "metadata": {},
   "source": [
    "### Q17  A school district introduces an educational intervention program to improve math scores. Write a Python function to analyze pre- and post-intervention test scores, calculating the t-statistic and p-value to determine if the intervention had a significant impact."
   ]
  },
  {
   "cell_type": "code",
   "execution_count": 68,
   "metadata": {},
   "outputs": [],
   "source": [
    "pre_intervention_scores = [80, 85, 90, 75, 88, 82, 92, 78, 85, 87]\n",
    "post_intervention_scores = [90, 92, 88, 92, 95, 91, 96, 93, 89, 93]"
   ]
  },
  {
   "cell_type": "code",
   "execution_count": 69,
   "metadata": {},
   "outputs": [
    {
     "name": "stdout",
     "output_type": "stream",
     "text": [
      "t-statistic: -4.42840883965761\n",
      "p-value: 0.0016509548165795493\n",
      "Reject Null Hypothesis: The intervention had a significant impact on math scores.\n"
     ]
    }
   ],
   "source": [
    "t_stats, p_value = stats.ttest_rel(pre_intervention_scores, post_intervention_scores)\n",
    "\n",
    "\n",
    "print(\"t-statistic:\", t_stats)\n",
    "print(\"p-value:\", p_value)\n",
    "\n",
    "alpha = 0.05\n",
    "if p_value < alpha:\n",
    "    print(\"Reject Null Hypothesis: The intervention had a significant impact on math scores.\")\n",
    "else:\n",
    "    print(\"Fail to Reject Null Hypothesis: There is insufficient evidence to conclude that the intervention had a significant impact on math scores.\")"
   ]
  },
  {
   "cell_type": "markdown",
   "metadata": {},
   "source": [
    "### Q18)An HR department wants to investigate if there's a gender-based salary gap within the company. Develop a program to analyze salary data, calculate the t-statistic, and determine if there's a statistically significant difference between the average salaries of male and female employees.\n"
   ]
  },
  {
   "cell_type": "code",
   "execution_count": 70,
   "metadata": {},
   "outputs": [],
   "source": [
    "np.random.seed(0)\n",
    "\n",
    "male_salaries = np.random.normal(loc=50000, scale=10000, size=20)\n",
    "\n",
    "female_salaries = np.random.normal(loc=55000, scale=9000, size=20)"
   ]
  },
  {
   "cell_type": "code",
   "execution_count": 73,
   "metadata": {},
   "outputs": [
    {
     "name": "stdout",
     "output_type": "stream",
     "text": [
      "Male Salaries mean: 55693.345929456365\n",
      "Female Salaries mean: 55501.753181380416\n",
      "<<<---------------------------------------->>>\n",
      "Median of male salaries:  54053.77855152798\n",
      "Median of female Salaries:  55903.17674349263\n",
      "<<<--------------------------------------->>>\n",
      "t-statistic: 0.06114208969631383\n",
      "p-value: 0.9515665020676465\n",
      "Fail to Reject Null Hypothesis: There is no significant difference between the average salaries of male and female employees.\n"
     ]
    }
   ],
   "source": [
    "t_stats, p_value = stats.ttest_ind(male_salaries, female_salaries)\n",
    "\n",
    "mean_male_sal = np.mean(male_salaries)\n",
    "mean_female_sal = np.mean(female_salaries)\n",
    "\n",
    "median_male_sal = np.median(male_salaries)\n",
    "median_female_sal = np.median(female_salaries)\n",
    "\n",
    "\n",
    "print(\"Male Salaries mean:\", mean_male_sal)\n",
    "print(\"Female Salaries mean:\", mean_female_sal)\n",
    "print(\"<<<---------------------------------------->>>\")\n",
    "print(\"Median of male salaries: \", median_male_sal)\n",
    "print(\"Median of female Salaries: \", median_female_sal)\n",
    "print(\"<<<--------------------------------------->>>\")\n",
    "print(\"t-statistic:\", t_stats)\n",
    "print(\"p-value:\", p_value)\n",
    "\n",
    "alpha = 0.05\n",
    "if p_value < alpha:\n",
    "    print(\"Reject Null Hypothesis: There is a significant difference between the average salaries of male and female employees.\")\n",
    "else:\n",
    "    print(\"Fail to Reject Null Hypothesis: There is no significant difference between the average salaries of male and female employees.\")"
   ]
  },
  {
   "cell_type": "markdown",
   "metadata": {},
   "source": [
    "### Q19  A manufacturer produces two different versions of a product and wants to compare their quality scores.Create a Python function to analyze quality assessment data, calculate the t-statistic, and decide whether there's a significant difference in quality between the two versions."
   ]
  },
  {
   "cell_type": "code",
   "execution_count": 74,
   "metadata": {},
   "outputs": [],
   "source": [
    "version1_scores = [85, 88, 82, 89, 87, 84, 90, 88, 85, 86, 91, 83, 87, 84, 89, 86, 84, 88, 85, 86, 89, 90, 87, 88, 85]\n",
    "\n",
    "version2_scores = [80, 78, 83, 81, 79, 82, 76, 80, 78, 81, 77, 82, 80, 79, 82, 79, 80, 81, 79, 82, 79, 78, 80, 81, 82]"
   ]
  },
  {
   "cell_type": "code",
   "execution_count": 75,
   "metadata": {},
   "outputs": [
    {
     "name": "stdout",
     "output_type": "stream",
     "text": [
      "t-ststs:  11.325830417646698\n",
      "p_value:  3.6824250702873965e-15\n",
      "There is a significant difference in quality between the two versions.\n"
     ]
    }
   ],
   "source": [
    "t_stats, p_value = stats.ttest_ind(version1_scores, version2_scores)\n",
    "\n",
    "print(\"t-ststs: \",t_stats)\n",
    "print(\"p_value: \", p_value)\n",
    "\n",
    "alpha = 0.05  \n",
    "if p_value < alpha:\n",
    "    print(\"There is a significant difference in quality between the two versions.\")\n",
    "else:\n",
    "    print(\"There is no significant difference in quality between the two versions.\")"
   ]
  },
  {
   "cell_type": "markdown",
   "metadata": {},
   "source": [
    "### Q20 A restaurant chain collects customer satisfaction scores for two different branches. Write a program to analyze the scores, calculate the t-statistic, and determine if there's a statistically significant difference in customer satisfaction between the branches.\n"
   ]
  },
  {
   "cell_type": "code",
   "execution_count": 76,
   "metadata": {},
   "outputs": [],
   "source": [
    "branch_a_scores = [4, 5, 3, 4, 5, 4, 5, 3, 4, 4, 5, 4, 4, 3, 4, 5, 5, 4, 3, 4, 5, 4, 3, 5, 4, 4, 5, 3, 4, 5, 4]\n",
    "\n",
    "branch_b_scores = [3, 4, 2, 3, 4, 3, 4, 2, 3, 3, 4, 3, 3, 2, 3, 4, 4, 3, 2, 3, 4, 3, 2, 4, 3, 3, 4, 2, 3, 4, 3]"
   ]
  },
  {
   "cell_type": "code",
   "execution_count": 80,
   "metadata": {},
   "outputs": [
    {
     "name": "stdout",
     "output_type": "stream",
     "text": [
      "Mean of Branch A scores:  4.129032258064516\n",
      "Mean of Branch B scores:  3.129032258064516\n",
      "<<<---------------------------------------------------->>>\n",
      "Median of branch A:  4.0\n",
      "Median of branch B:  3.0\n",
      "<<<---------------------------------------------------->>>\n",
      "Standerd Deviation of A:  0.7184212081070998\n",
      "Standerd Deviation of B:  0.7184212081070998\n",
      "<<<---------------------------------------------------->>>\n",
      "t-statistics:  5.480077554195743\n",
      "p-value:  8.895290509945657e-07\n",
      "<<<---------------------------------------------------->>>\n",
      "Reject Null Hypothesis: The difference in customer satisfaction between the two branches is statistically significant.\n"
     ]
    }
   ],
   "source": [
    "t_stats, p_value = stats.ttest_ind(branch_a_scores, branch_b_scores)\n",
    "\n",
    "mean_a = np.mean(branch_a_scores)\n",
    "mean_b = np.mean(branch_b_scores)\n",
    "\n",
    "median_a = np.median(branch_a_scores)\n",
    "median_b = np.median(branch_b_scores)\n",
    "\n",
    "std_dev_a = np.std(branch_a_scores, ddof=1)\n",
    "std_dev_b = np.std(branch_b_scores, ddof=1)\n",
    "\n",
    "print(\"Mean of Branch A scores: \", mean_a)\n",
    "print(\"Mean of Branch B scores: \", mean_b)\n",
    "print(\"<<<---------------------------------------------------->>>\")\n",
    "print(\"Median of branch A: \", median_a)\n",
    "print(\"Median of branch B: \", median_b)\n",
    "print(\"<<<---------------------------------------------------->>>\")\n",
    "print(\"Standerd Deviation of A: \", std_dev_a)\n",
    "print(\"Standerd Deviation of B: \", std_dev_b)\n",
    "print(\"<<<---------------------------------------------------->>>\")\n",
    "print(\"t-statistics: \", t_stats)\n",
    "print(\"p-value: \", p_value)\n",
    "print(\"<<<---------------------------------------------------->>>\")\n",
    "alpha = 0.05\n",
    "if p_value < alpha:\n",
    "    print(\"Reject Null Hypothesis: The difference in customer satisfaction between the two branches is statistically significant.\")\n",
    "else:\n",
    "    print(\"Fail to Reject Null Hypothesis: The difference in customer satisfaction between the two branches is not statistically significant.\")\n",
    "\n",
    "\n"
   ]
  },
  {
   "cell_type": "markdown",
   "metadata": {},
   "source": [
    "### Q21 ? A political analyst wants to determine if there is a significant association between age groups and voter preferences (Candidate A or Candidate B). They collect data from a sample of 500 voters and classify them into different age groups and candidate preferences. Perform a Chi-Square test to determine if there is a significant association between age groups and voter preferences."
   ]
  },
  {
   "cell_type": "code",
   "execution_count": 81,
   "metadata": {},
   "outputs": [],
   "source": [
    "age_groups = np.random.choice(['18-30', '31-50', '51+', '51+'], size=30)\n",
    "\n",
    "voter_preferences = np.random.choice(['Candidate A', 'Candidate B'], size=30)"
   ]
  },
  {
   "cell_type": "code",
   "execution_count": 82,
   "metadata": {},
   "outputs": [],
   "source": [
    "data = pd.DataFrame({'Age Group': age_groups, 'Voter Preference': voter_preferences})\n",
    "contingency_table = pd.crosstab(data['Age Group'], data['Voter Preference'])"
   ]
  },
  {
   "cell_type": "code",
   "execution_count": 83,
   "metadata": {},
   "outputs": [
    {
     "data": {
      "text/html": [
       "<div>\n",
       "<style scoped>\n",
       "    .dataframe tbody tr th:only-of-type {\n",
       "        vertical-align: middle;\n",
       "    }\n",
       "\n",
       "    .dataframe tbody tr th {\n",
       "        vertical-align: top;\n",
       "    }\n",
       "\n",
       "    .dataframe thead th {\n",
       "        text-align: right;\n",
       "    }\n",
       "</style>\n",
       "<table border=\"1\" class=\"dataframe\">\n",
       "  <thead>\n",
       "    <tr style=\"text-align: right;\">\n",
       "      <th>Voter Preference</th>\n",
       "      <th>Candidate A</th>\n",
       "      <th>Candidate B</th>\n",
       "    </tr>\n",
       "    <tr>\n",
       "      <th>Age Group</th>\n",
       "      <th></th>\n",
       "      <th></th>\n",
       "    </tr>\n",
       "  </thead>\n",
       "  <tbody>\n",
       "    <tr>\n",
       "      <th>18-30</th>\n",
       "      <td>5</td>\n",
       "      <td>6</td>\n",
       "    </tr>\n",
       "    <tr>\n",
       "      <th>31-50</th>\n",
       "      <td>3</td>\n",
       "      <td>2</td>\n",
       "    </tr>\n",
       "    <tr>\n",
       "      <th>51+</th>\n",
       "      <td>6</td>\n",
       "      <td>8</td>\n",
       "    </tr>\n",
       "  </tbody>\n",
       "</table>\n",
       "</div>"
      ],
      "text/plain": [
       "Voter Preference  Candidate A  Candidate B\n",
       "Age Group                                 \n",
       "18-30                       5            6\n",
       "31-50                       3            2\n",
       "51+                         6            8"
      ]
     },
     "execution_count": 83,
     "metadata": {},
     "output_type": "execute_result"
    }
   ],
   "source": [
    "contingency_table"
   ]
  },
  {
   "cell_type": "code",
   "execution_count": 88,
   "metadata": {},
   "outputs": [
    {
     "name": "stdout",
     "output_type": "stream",
     "text": [
      "\n",
      "Chi-Square Test Results:\n",
      "Chi-Square Statistic:  0.445269016697588\n",
      "p-value:  0.8004073380398185\n",
      "Degrees of Freedom:  2\n",
      "Expected Frequencies: [[5.13333333 5.86666667]\n",
      " [2.33333333 2.66666667]\n",
      " [6.53333333 7.46666667]]\n",
      "Fail to Reject Null Hypothesis: There is no significant association between age groups and voter preferences.\n"
     ]
    }
   ],
   "source": [
    "chi2, p_val, dof, expected_value = stats.chi2_contingency(contingency_table)\n",
    "\n",
    "print(\"\\nChi-Square Test Results:\")\n",
    "print(f\"Chi-Square Statistic: \", chi2)\n",
    "print(f\"p-value: \", p_val)\n",
    "print(f\"Degrees of Freedom: \", dof)\n",
    "print(\"Expected Frequencies:\", expected_value)\n",
    "\n",
    "alpha = 0.05\n",
    "if p_val < alpha:\n",
    "    print(\"Reject Null Hypothesis: There is a significant association between age groups and voter preferences.\")\n",
    "else:\n",
    "    print(\"Fail to Reject Null Hypothesis: There is no significant association between age groups and voter preferences.\")"
   ]
  },
  {
   "cell_type": "markdown",
   "metadata": {},
   "source": [
    "### Q22  A company conducted a customer satisfaction survey to determine if there is a significant relationship between product satisfaction levels (Satisfied, Neutral, Dissatisfied) and the region where customers are located (East, West, North, South). The survey data is summarized in a contingency table. Conduct a Chi-Square test to determine if there is a significant relationship between product satisfaction levels and customer regions."
   ]
  },
  {
   "cell_type": "code",
   "execution_count": 89,
   "metadata": {},
   "outputs": [],
   "source": [
    "data = np.array([[50, 30, 40, 20], [30, 40, 30, 50], [20, 30, 40, 30]])"
   ]
  },
  {
   "cell_type": "code",
   "execution_count": 90,
   "metadata": {},
   "outputs": [
    {
     "data": {
      "text/html": [
       "<div>\n",
       "<style scoped>\n",
       "    .dataframe tbody tr th:only-of-type {\n",
       "        vertical-align: middle;\n",
       "    }\n",
       "\n",
       "    .dataframe tbody tr th {\n",
       "        vertical-align: top;\n",
       "    }\n",
       "\n",
       "    .dataframe thead th {\n",
       "        text-align: right;\n",
       "    }\n",
       "</style>\n",
       "<table border=\"1\" class=\"dataframe\">\n",
       "  <thead>\n",
       "    <tr style=\"text-align: right;\">\n",
       "      <th></th>\n",
       "      <th>East</th>\n",
       "      <th>West</th>\n",
       "      <th>North</th>\n",
       "      <th>South</th>\n",
       "    </tr>\n",
       "  </thead>\n",
       "  <tbody>\n",
       "    <tr>\n",
       "      <th>Satisfied</th>\n",
       "      <td>50</td>\n",
       "      <td>30</td>\n",
       "      <td>40</td>\n",
       "      <td>20</td>\n",
       "    </tr>\n",
       "    <tr>\n",
       "      <th>Neutral</th>\n",
       "      <td>30</td>\n",
       "      <td>40</td>\n",
       "      <td>30</td>\n",
       "      <td>50</td>\n",
       "    </tr>\n",
       "    <tr>\n",
       "      <th>Dissatisfied</th>\n",
       "      <td>20</td>\n",
       "      <td>30</td>\n",
       "      <td>40</td>\n",
       "      <td>30</td>\n",
       "    </tr>\n",
       "  </tbody>\n",
       "</table>\n",
       "</div>"
      ],
      "text/plain": [
       "              East  West  North  South\n",
       "Satisfied       50    30     40     20\n",
       "Neutral         30    40     30     50\n",
       "Dissatisfied    20    30     40     30"
      ]
     },
     "execution_count": 90,
     "metadata": {},
     "output_type": "execute_result"
    }
   ],
   "source": [
    "df = pd.DataFrame(data)\n",
    "df.index = ['Satisfied','Neutral','Dissatisfied']\n",
    "df.columns = ['East','West','North','South']\n",
    "df"
   ]
  },
  {
   "cell_type": "code",
   "execution_count": 91,
   "metadata": {},
   "outputs": [
    {
     "name": "stdout",
     "output_type": "stream",
     "text": [
      "\n",
      "Chi-Square Test Results:\n",
      "Chi-Square Statistic:  27.777056277056275\n",
      "p-value:  0.00010349448486004387\n",
      "Degrees of Freedom:  6\n",
      "Expected Frequencies: [[34.14634146 34.14634146 37.56097561 34.14634146]\n",
      " [36.58536585 36.58536585 40.24390244 36.58536585]\n",
      " [29.26829268 29.26829268 32.19512195 29.26829268]]\n"
     ]
    }
   ],
   "source": [
    "chi2 ,p_val,dof,expected_value = stats.chi2_contingency(data)\n",
    "\n",
    "print(\"\\nChi-Square Test Results:\")\n",
    "print(f\"Chi-Square Statistic: \", chi2)\n",
    "print(f\"p-value: \", p_val)\n",
    "print(f\"Degrees of Freedom: \", dof)\n",
    "print(\"Expected Frequencies:\", expected_value)"
   ]
  },
  {
   "cell_type": "code",
   "execution_count": 93,
   "metadata": {},
   "outputs": [
    {
     "name": "stdout",
     "output_type": "stream",
     "text": [
      "Reject Null Hypothesis: There is a significant relationship between product satisfaction levels and customer regions.\n"
     ]
    }
   ],
   "source": [
    "alpha = 0.05\n",
    "if p_val < alpha:\n",
    "    print(\"Reject Null Hypothesis: There is a significant relationship between product satisfaction levels and customer regions.\")\n",
    "else:\n",
    "    print(\"Fail to Reject Null Hypothesis: There is no significant relationship between product satisfaction levels and customer regions.\")"
   ]
  },
  {
   "cell_type": "markdown",
   "metadata": {},
   "source": [
    "### Q23 A company implemented an employee training program to improve job performance (Effective, Neutral, Ineffective). After the training, they collected data from a sample of employees and classified them based on their job performance before and after the training. Perform a Chi-Square test to determine if there is a significant difference between job performance levels before and after the raining.\n"
   ]
  },
  {
   "cell_type": "code",
   "execution_count": 98,
   "metadata": {},
   "outputs": [
    {
     "data": {
      "text/html": [
       "<div>\n",
       "<style scoped>\n",
       "    .dataframe tbody tr th:only-of-type {\n",
       "        vertical-align: middle;\n",
       "    }\n",
       "\n",
       "    .dataframe tbody tr th {\n",
       "        vertical-align: top;\n",
       "    }\n",
       "\n",
       "    .dataframe thead th {\n",
       "        text-align: right;\n",
       "    }\n",
       "</style>\n",
       "<table border=\"1\" class=\"dataframe\">\n",
       "  <thead>\n",
       "    <tr style=\"text-align: right;\">\n",
       "      <th></th>\n",
       "      <th>0</th>\n",
       "      <th>1</th>\n",
       "      <th>2</th>\n",
       "    </tr>\n",
       "  </thead>\n",
       "  <tbody>\n",
       "    <tr>\n",
       "      <th>Effective</th>\n",
       "      <td>50</td>\n",
       "      <td>30</td>\n",
       "      <td>20</td>\n",
       "    </tr>\n",
       "    <tr>\n",
       "      <th>Neutral</th>\n",
       "      <td>30</td>\n",
       "      <td>40</td>\n",
       "      <td>30</td>\n",
       "    </tr>\n",
       "    <tr>\n",
       "      <th>Ineffective</th>\n",
       "      <td>20</td>\n",
       "      <td>30</td>\n",
       "      <td>40</td>\n",
       "    </tr>\n",
       "  </tbody>\n",
       "</table>\n",
       "</div>"
      ],
      "text/plain": [
       "              0   1   2\n",
       "Effective    50  30  20\n",
       "Neutral      30  40  30\n",
       "Ineffective  20  30  40"
      ]
     },
     "execution_count": 98,
     "metadata": {},
     "output_type": "execute_result"
    }
   ],
   "source": [
    "data = np.array([[50, 30, 20], [30, 40, 30], [20, 30, 40]])\n",
    "\n",
    "df = pd.DataFrame(data)\n",
    "df.index = ['Effective','Neutral','Ineffective']\n",
    "df"
   ]
  },
  {
   "cell_type": "code",
   "execution_count": 99,
   "metadata": {},
   "outputs": [
    {
     "name": "stdout",
     "output_type": "stream",
     "text": [
      "\n",
      "Chi-Square Test Results:\n",
      "Chi-Square Statistic:  22.161728395061726\n",
      "p-value:  0.00018609719479882557\n",
      "Degrees of Freedom:  4\n",
      "Expected Frequencies: [[34.48275862 34.48275862 31.03448276]\n",
      " [34.48275862 34.48275862 31.03448276]\n",
      " [31.03448276 31.03448276 27.93103448]]\n"
     ]
    }
   ],
   "source": [
    "chi2 ,p_val,dof,expected_value = stats.chi2_contingency(data)\n",
    "\n",
    "print(\"\\nChi-Square Test Results:\")\n",
    "print(f\"Chi-Square Statistic: \", chi2)\n",
    "print(f\"p-value: \", p_val)\n",
    "print(f\"Degrees of Freedom: \", dof)\n",
    "print(\"Expected Frequencies:\", expected_value)"
   ]
  },
  {
   "cell_type": "code",
   "execution_count": 100,
   "metadata": {},
   "outputs": [
    {
     "name": "stdout",
     "output_type": "stream",
     "text": [
      "Reject the Null Hypothesis,there is a significant difference between job performance levels before and after the training\n"
     ]
    }
   ],
   "source": [
    "alpha = 0.05\n",
    "if p_val<alpha:\n",
    "    print(\"Reject the Null Hypothesis,there is a significant difference between job performance levels before and after the training\")\n",
    "else:\n",
    "    print(\"Fail to Reject the Null Hypothesis,there is no a significant difference between job performance levels before and after the training\")\n",
    "    "
   ]
  },
  {
   "cell_type": "markdown",
   "metadata": {},
   "source": [
    "### Q24  A company produces three different versions of a product: Standard, Premium, and Deluxe. The company wants to determine if there is a significant difference in customer satisfaction scores among the three product versions. They conducted a survey and collected customer satisfaction scores for each version from a random sample of customers. Perform an ANOVA test to determine if there is a significant difference in customer satisfaction scores"
   ]
  },
  {
   "cell_type": "code",
   "execution_count": 101,
   "metadata": {},
   "outputs": [],
   "source": [
    "standard_scores = [80, 85, 90, 78, 88, 82, 92, 78, 85, 87]\n",
    "\n",
    "premium_scores = [90, 92, 88, 92, 95, 91, 96, 93, 89, 93]\n",
    "\n",
    "deluxe_scores = [95, 98, 92, 97, 96, 94, 98, 97, 92, 99]"
   ]
  },
  {
   "cell_type": "code",
   "execution_count": 102,
   "metadata": {},
   "outputs": [
    {
     "name": "stdout",
     "output_type": "stream",
     "text": [
      "F-Statistics:  27.03556231003039\n",
      "P-Value:  3.5786328857349003e-07\n",
      "Fail Reject the null Hypothesis,there is no a significant difference in customer satisfaction scores\n"
     ]
    }
   ],
   "source": [
    "f_stat, p_value = stats.f_oneway(standard_scores, premium_scores, deluxe_scores)\n",
    "print(f\"F-Statistics: \", f_stat)\n",
    "print(f\"P-Value: \", p_value)\n",
    "alpha = 0.05\n",
    "if pvalue<=alpha:\n",
    "    print('Reject the null Hypothesis,there is a significant difference in customer satisfaction scores')\n",
    "else:\n",
    "    print(\"Fail Reject the null Hypothesis,there is no a significant difference in customer satisfaction scores\")"
   ]
  },
  {
   "cell_type": "code",
   "execution_count": null,
   "metadata": {},
   "outputs": [],
   "source": []
  }
 ],
 "metadata": {
  "kernelspec": {
   "display_name": "Python 3",
   "language": "python",
   "name": "python3"
  },
  "language_info": {
   "codemirror_mode": {
    "name": "ipython",
    "version": 3
   },
   "file_extension": ".py",
   "mimetype": "text/x-python",
   "name": "python",
   "nbconvert_exporter": "python",
   "pygments_lexer": "ipython3",
   "version": "3.10.9"
  }
 },
 "nbformat": 4,
 "nbformat_minor": 2
}
