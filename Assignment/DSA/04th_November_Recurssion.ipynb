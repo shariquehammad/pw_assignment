{
 "cells": [
  {
   "cell_type": "markdown",
   "metadata": {},
   "source": [
    "### Q.1 Can you explain the logic and working of the Tower of Hanoi algorithm by writing a Java program? How does the recursion work, and how are the movements of disks between rods accomplished?\n",
    "\n",
    "* Question says java by mistake\n",
    "* the idea for solving this problem is to break this into smaller problems for eg- if there are 4 disc in A and we need to transfer it to C using B, we will break it inwo parts of 3 disk and 1 disk, now to accomplish the above task we have to transer the 3 disk from A to B using C, this way wewill break untill the only twodisk remains and we will solve the problem"
   ]
  },
  {
   "cell_type": "code",
   "execution_count": 1,
   "metadata": {},
   "outputs": [
    {
     "name": "stdout",
     "output_type": "stream",
     "text": [
      "Move 1 from tower A to tower C\n",
      "Move 2 from tower A to tower B\n",
      "Move 1 from tower C to tower B\n",
      "Move 3 from tower A to tower C\n",
      "Move 1 from tower B to tower A\n",
      "Move 2 from tower B to tower C\n",
      "Move 1 from tower A to tower C\n"
     ]
    }
   ],
   "source": [
    "def TOH(n, start, end, middle):\n",
    "    if n == 1:\n",
    "        print(f\"Move {n} from tower {start} to tower {end}\")\n",
    "        \n",
    "    else:\n",
    "        TOH(n-1, start, middle,end)\n",
    "        print(f\"Move {n} from tower {start} to tower {end}\")\n",
    "        TOH(n-1, middle, end, start)\n",
    "      \n",
    "      \n",
    "n = 3  \n",
    "TOH(n, \"A\", \"C\", \"B\")       "
   ]
  },
  {
   "cell_type": "markdown",
   "metadata": {},
   "source": [
    "### \n",
    "Q.2 Given two strings word1 and word2, return the minimum number of operations required to convert word1 to word2.\n",
    "\n",
    "* this is a edit distance problem"
   ]
  },
  {
   "cell_type": "code",
   "execution_count": 2,
   "metadata": {},
   "outputs": [
    {
     "name": "stdout",
     "output_type": "stream",
     "text": [
      "Minimum number of steps required: 5\n",
      "Minimum number of steps required: 3\n"
     ]
    }
   ],
   "source": [
    "def ConvertWord(str1, str2):\n",
    "    l1 = len(str1)\n",
    "    l2 = len(str2)\n",
    "    \n",
    "    def helper(i, j):\n",
    "        if i == 0 or j == 0:\n",
    "            return max(i, j)\n",
    "        \n",
    "        elif str1[i-1] == str2[j-1]:\n",
    "            return helper(i-1, j-1)\n",
    "        \n",
    "        else:\n",
    "            return 1 + min(helper(i, j-1), # Insert\n",
    "                           helper(i-1, j), # Delete\n",
    "                           helper(i-1, j-1), # Replace\n",
    "            )\n",
    "            \n",
    "            \n",
    "    minimum_operations = helper(l1, l2)\n",
    "    return minimum_operations\n",
    "\n",
    "word1 = \"intention\"\n",
    "word2 = \"execution\"\n",
    "result = ConvertWord(word1, word2)\n",
    "print(f\"Minimum number of steps required: {result}\")\n",
    "\n",
    "word3 = \"horse\"\n",
    "word4 = \"ros\"\n",
    "result = ConvertWord(word3, word4)\n",
    "print(f\"Minimum number of steps required: {result}\")\n",
    "  "
   ]
  },
  {
   "cell_type": "markdown",
   "metadata": {},
   "source": [
    "### Q. 3 Print the max value of the array\n",
    "`array = [ 13, 1, -3, 22, 5] `\n",
    "\n",
    "* if element of arr if greater than assigned max value(P) then the max value is upadted and recursive call is used\n",
    "* Time Complexity: O(n)\n",
    "* Space Complexity: O(n)"
   ]
  },
  {
   "cell_type": "code",
   "execution_count": 7,
   "metadata": {},
   "outputs": [
    {
     "name": "stdout",
     "output_type": "stream",
     "text": [
      "22\n"
     ]
    }
   ],
   "source": [
    "def maxElement(arr, P):\n",
    "    if not arr: # BAse case\n",
    "        return P\n",
    "    if arr[0] > P: \n",
    "        P = arr[0]\n",
    "    return maxElement(arr[1:], P)\n",
    "\n",
    "a = [13,1,-3,22,5]\n",
    "P = 0\n",
    "result = maxElement(a, P)\n",
    "print(result)"
   ]
  },
  {
   "cell_type": "markdown",
   "metadata": {},
   "source": [
    "### Q.4 Find the sum of the values of the array \n",
    "\n",
    "`array = [92, 23, 15, -20, 10]`\n",
    "\n",
    "* Time complexity = O(n)\n",
    "* Space Complexity = O(n)"
   ]
  },
  {
   "cell_type": "code",
   "execution_count": 10,
   "metadata": {},
   "outputs": [
    {
     "name": "stdout",
     "output_type": "stream",
     "text": [
      "120\n"
     ]
    }
   ],
   "source": [
    "def SumElement(arr):\n",
    "    if not arr: # BAse case\n",
    "        return 0\n",
    "    return SumElement(arr[1:]) + arr[0]\n",
    "\n",
    "a = [92, 23, 15, -20, 10]\n",
    "result = SumElement(a)\n",
    "print(result)"
   ]
  },
  {
   "cell_type": "markdown",
   "metadata": {},
   "source": [
    "### Q.5 Given a number n. Print if it is an armstrong number or not.An armstrong number is a number if the sum of every digit in that number raised to the power of total digits in that number is equal to the number.\n",
    "\n",
    "`eg:: 153 = 1^3 + 5^3 + 3^3 = 1 + 125 + 27 = 153 hence 153 is an armstrong number. (Easy)`\n",
    "`Input1 : 153`\n",
    "`Output1 : Yes `"
   ]
  },
  {
   "cell_type": "code",
   "execution_count": 13,
   "metadata": {},
   "outputs": [
    {
     "name": "stdout",
     "output_type": "stream",
     "text": [
      "153 is an Armstrong number.\n"
     ]
    }
   ],
   "source": [
    "def count_digits(n):\n",
    "    if n == 0:\n",
    "        return 0\n",
    "    return 1 + count_digits(n // 10)\n",
    "\n",
    "def is_armstrong_recursive(n, total_digits):\n",
    "    if n == 0:\n",
    "        return 0\n",
    "    return (n % 10) ** total_digits + is_armstrong_recursive(n // 10, total_digits)\n",
    "\n",
    "def is_armstrong(n):\n",
    "    total_digits = count_digits(n)\n",
    "    sum_of_digits_power = is_armstrong_recursive(n, total_digits)\n",
    "    return sum_of_digits_power == n\n",
    "\n",
    "number = 153\n",
    "if is_armstrong(number):\n",
    "    print(f\"{number} is an Armstrong number.\")\n",
    "else:\n",
    "    print(f\"{number} is not an Armstrong number.\")\n"
   ]
  },
  {
   "cell_type": "code",
   "execution_count": null,
   "metadata": {},
   "outputs": [],
   "source": []
  }
 ],
 "metadata": {
  "kernelspec": {
   "display_name": "Python 3",
   "language": "python",
   "name": "python3"
  },
  "language_info": {
   "codemirror_mode": {
    "name": "ipython",
    "version": 3
   },
   "file_extension": ".py",
   "mimetype": "text/x-python",
   "name": "python",
   "nbconvert_exporter": "python",
   "pygments_lexer": "ipython3",
   "version": "3.10.9"
  }
 },
 "nbformat": 4,
 "nbformat_minor": 2
}
