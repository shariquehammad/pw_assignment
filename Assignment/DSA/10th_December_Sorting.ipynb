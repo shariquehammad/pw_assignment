{
 "cells": [
  {
   "cell_type": "markdown",
   "metadata": {},
   "source": [
    "### PROBLEM 1\n",
    "* 1.Given an array of n numbers, give an algorithm which gives the element appearing maximum\n",
    "number of times?"
   ]
  },
  {
   "cell_type": "code",
   "execution_count": 1,
   "metadata": {},
   "outputs": [
    {
     "name": "stdout",
     "output_type": "stream",
     "text": [
      "3\n"
     ]
    }
   ],
   "source": [
    "def find_max_occurrence(arr):\n",
    "    ele_count = {}\n",
    "    for i in arr:\n",
    "        if i in ele_count:\n",
    "            ele_count[i] += 1\n",
    "        else:\n",
    "            ele_count[i] = 1\n",
    "    max_ele = max(ele_count, key=ele_count.get)\n",
    "    return max_ele\n",
    "print(find_max_occurrence([1, 2, 3, 4, 2, 2, 3, 3, 3, 5, 5, 5, 5]))"
   ]
  },
  {
   "cell_type": "markdown",
   "metadata": {},
   "source": [
    "### PROBLEM 2\n",
    "* We are given a list of n-1 integers and these integers are in the range of 1 to n . There are no\n",
    "duplicates in the list. One of the integers is missing in the list. Give an algorithm to find that element Ex:\n",
    "[1,2,4,6,3,7,8] 5 is the missing num.\n",
    "\n",
    "* SOLUTION : start a for loop and caluculate diff b/w adjecent elements and the the position where difference is not 1 is the position after which there is a missing number"
   ]
  },
  {
   "cell_type": "code",
   "execution_count": 8,
   "metadata": {},
   "outputs": [
    {
     "name": "stdout",
     "output_type": "stream",
     "text": [
      "6\n"
     ]
    }
   ],
   "source": [
    "def missing_num(arr):\n",
    "    n = len(arr)\n",
    "    for i in range(n-1):\n",
    "        diff = arr[i+1] - arr[i]\n",
    "        \n",
    "        if diff != 1:\n",
    "            return arr[i]+1\n",
    "        \n",
    "        \n",
    "arr = [1,2,3,4,5,7]\n",
    "result = missing_num(arr)\n",
    "print(result)"
   ]
  },
  {
   "cell_type": "markdown",
   "metadata": {},
   "source": [
    "### PROBLEM 3\n",
    "* Given an array of n positive numbers. All numbers occurs even number of times except 1 which\n",
    "occurs odd number of times. Find that number in O(n) time and O(1) space. Ex: [1,2,3,2,3,1,3]. 3 is repeats odd\n",
    "times."
   ]
  },
  {
   "cell_type": "code",
   "execution_count": 13,
   "metadata": {},
   "outputs": [
    {
     "name": "stdout",
     "output_type": "stream",
     "text": [
      "5\n"
     ]
    }
   ],
   "source": [
    "def getOddOccur(arr):\n",
    "    result  = 0\n",
    "    \n",
    "    for i in arr:\n",
    "        result = result ^ i\n",
    "        \n",
    "    return result\n",
    "\n",
    "arr = [1,2,3,2,3,1,3,3,5]\n",
    "result = getOddOccur(arr)\n",
    "print(result)"
   ]
  },
  {
   "cell_type": "markdown",
   "metadata": {},
   "source": [
    "### PROBLEM 4\n",
    "* Given an array of n elements. Find two elements in the array such that their sum is equal to given\n",
    "element K."
   ]
  },
  {
   "cell_type": "code",
   "execution_count": 21,
   "metadata": {},
   "outputs": [
    {
     "data": {
      "text/plain": [
       "'Elements whose sum is 13 are 5 and 8'"
      ]
     },
     "execution_count": 21,
     "metadata": {},
     "output_type": "execute_result"
    }
   ],
   "source": [
    "def sumK(arr, K):\n",
    "    n = len(arr)\n",
    "    for i in range(n-1):\n",
    "        pair_sum = 0\n",
    "        for j in range(i+1, n):\n",
    "            pair_sum = arr[i] + arr[j]\n",
    "            if pair_sum == K:\n",
    "                return f\"Elements whose sum is {K} are {arr[i]} and {arr[j]}\"\n",
    "            \n",
    "    return \"No pair found\"\n",
    "\n",
    "\n",
    "arr = [1,5,7,-3,5,8]\n",
    "sumK(arr, 13)"
   ]
  },
  {
   "cell_type": "markdown",
   "metadata": {},
   "source": [
    "### PROBLEM 5\n",
    "* Given an array of both positive and negative numbers, find two numbers such that their sum is\n",
    "closest to 0. \n",
    "* `Ex: [ 1 ,60 ,-10, 70, -80,85]. Ans : -80,85.`"
   ]
  },
  {
   "cell_type": "code",
   "execution_count": null,
   "metadata": {},
   "outputs": [],
   "source": []
  },
  {
   "cell_type": "markdown",
   "metadata": {},
   "source": [
    "### PROBLEM 6\n",
    "* Given an array of n elements . Find three elements such that their sum is equal to the given\n",
    "number."
   ]
  },
  {
   "cell_type": "code",
   "execution_count": 22,
   "metadata": {},
   "outputs": [
    {
     "name": "stdout",
     "output_type": "stream",
     "text": [
      "[1, 2, 3, 5, 6, 7, 8, 13]\n",
      "Three elements with sum 17: (1, 3, 13)\n"
     ]
    }
   ],
   "source": [
    "def target_pair(arr, target):\n",
    "    arr.sort()\n",
    "\n",
    "    n = len(arr)\n",
    "    print(arr)\n",
    "    for i in range(n-2):\n",
    "        left,right = i+1, n-1\n",
    "        \n",
    "        while left<right:\n",
    "            current_sum = arr[i]+arr[left]+arr[right]\n",
    "            \n",
    "            if current_sum == target:\n",
    "                return arr[i], arr[left], arr[right]\n",
    "            elif current_sum<target:\n",
    "                left += 1\n",
    "            else:\n",
    "                right -= 1\n",
    "                \n",
    "    return None\n",
    "\n",
    "\n",
    "arr = [1,3, 5 ,7, 8,13, 6, 2]\n",
    "target = 17\n",
    "result = target_pair(arr, target)\n",
    "if result:\n",
    "    print(f\"Three elements with sum {target}: {result}\")\n",
    "else:\n",
    "    print(\"No such elements found.\")\n",
    "            "
   ]
  },
  {
   "cell_type": "markdown",
   "metadata": {},
   "source": [
    "### PROBLEM 7\n",
    "* Given an array of n elements . Find three elements i, j, k in the array such that\n",
    "i * i + j * j = k*k."
   ]
  },
  {
   "cell_type": "code",
   "execution_count": 12,
   "metadata": {},
   "outputs": [
    {
     "name": "stdout",
     "output_type": "stream",
     "text": [
      "Pythagorean triplet: (7, 24, 25)\n"
     ]
    }
   ],
   "source": [
    "def pythagorus_triplet(arr):\n",
    "    n = len(arr)\n",
    "    arr.sort()\n",
    "    arr_set = set(arr)\n",
    "\n",
    "    for i in range(n - 1):\n",
    "        for j in range(i + 1, n):\n",
    "            sum_of_squares = arr[i]**2 + arr[j]**2\n",
    "            if sum_of_squares**0.5 in arr_set:\n",
    "                return arr[i], arr[j], int(sum_of_squares**0.5)\n",
    "\n",
    "    return False\n",
    "  \n",
    "\n",
    "\n",
    "arr = [1,8, 6, 24, 9, 25, 7]\n",
    "result = pythagorus_triplet(arr)\n",
    "\n",
    "if result:\n",
    "    print(f\"Pythagorean triplet: {result}\")\n",
    "else:\n",
    "    print(\"No such triplet found.\")        \n",
    "                   \n",
    "    "
   ]
  },
  {
   "cell_type": "markdown",
   "metadata": {},
   "source": [
    "### PROBLEM 8\n",
    "* An element is a majority if it appears more than n/2 times. Give an algorithm takes an array of n\n",
    "element as argument and identifies a majority (if it exists)."
   ]
  },
  {
   "cell_type": "code",
   "execution_count": 13,
   "metadata": {},
   "outputs": [
    {
     "name": "stdout",
     "output_type": "stream",
     "text": [
      "The majority element is: 2\n"
     ]
    }
   ],
   "source": [
    "def find_majority_element(arr):\n",
    "    candidate = None\n",
    "    count = 0\n",
    "\n",
    "    for num in arr:\n",
    "        if count == 0:\n",
    "            candidate = num\n",
    "            count = 1\n",
    "        elif candidate == num:\n",
    "            count += 1\n",
    "        else:\n",
    "            count -= 1\n",
    "\n",
    "    count = 0\n",
    "    for num in arr:\n",
    "        if num == candidate:\n",
    "            count += 1\n",
    "\n",
    "    if count > len(arr) // 2:\n",
    "        return candidate\n",
    "    else:\n",
    "        return None\n",
    "\n",
    "\n",
    "arr = [1, 2, 3, 3, 2, 5, 6, 2, 8, 2, 2, 2, 2]\n",
    "result = find_majority_element(arr)\n",
    "\n",
    "if result is not None:\n",
    "    print(f\"The majority element is: {result}\")\n",
    "else:\n",
    "    print(\"No majority element found.\")"
   ]
  },
  {
   "cell_type": "markdown",
   "metadata": {},
   "source": [
    "### PROBLEM 9\n",
    "* Given n × n matrix, and in each row all 1’s are followed by 0’s. Find the row with the maximum\n",
    "number of 0’s."
   ]
  },
  {
   "cell_type": "code",
   "execution_count": 15,
   "metadata": {},
   "outputs": [
    {
     "name": "stdout",
     "output_type": "stream",
     "text": [
      "The row with the maximum number of 0's is: 1\n"
     ]
    }
   ],
   "source": [
    "def first(arr, low, high):\n",
    "    if high >= low:\n",
    " \n",
    "        mid = low + (high - low)//2\n",
    " \n",
    "        if (mid == 0 or arr[mid - 1] == 1) and arr[mid] == 0:\n",
    "            return mid\n",
    " \n",
    "        elif arr[mid] == 1:\n",
    "            return first(arr, (mid + 1), high)\n",
    " \n",
    "        else:\n",
    "            return first(arr, low, (mid - 1))\n",
    "    return -1\n",
    "\n",
    "\n",
    " \n",
    "def rowWithMax0s(mat):\n",
    " \n",
    "    R = len(mat)\n",
    "    C = len(mat[0])\n",
    "    max_row_index = 0\n",
    "    max = -1\n",
    " \n",
    "    \n",
    "    for i in range(0, R):\n",
    "        index = first(mat[i], 0, C - 1)\n",
    "        if index != -1 and C - index > max:\n",
    "            max = C - index\n",
    "            max_row_index = i\n",
    " \n",
    "    return max_row_index\n",
    "\n",
    "\n",
    "matrix = [\n",
    "    [1, 1, 1, 0, 0],\n",
    "    [1, 1, 0, 0, 0],\n",
    "    [1, 1, 1, 0, 0],\n",
    "    [1, 1, 1, 1, 0],\n",
    "    [1, 1, 1, 0, 0]\n",
    "]\n",
    "\n",
    "result = rowWithMax0s(matrix)\n",
    "\n",
    "if result != -1:\n",
    "    print(f\"The row with the maximum number of 0's is: {result}\")\n",
    "else:\n",
    "    print(\"No such row found.\")\n",
    "                "
   ]
  },
  {
   "cell_type": "markdown",
   "metadata": {},
   "source": [
    "### PROBLEM 10\n",
    "* Sort an array of 0’s, 1’s and 2’s [or R’s, G’s and B’s]: Given an array A[] consisting of 0’s, 1’s and\n",
    "2’s, give an algorithm for sorting A[].The algorithm should put all 0’s first, then all 1’s and finally all 2’s at the\n",
    "end.\n",
    "\n",
    "`Example`\n",
    "* `Input = {0,1,1,0,1,2,1,2,0,0,0,1}`\n",
    "* `Output = {0,0,0,0,0,1,1,1,1,1,2,2}`"
   ]
  },
  {
   "cell_type": "code",
   "execution_count": 17,
   "metadata": {},
   "outputs": [
    {
     "name": "stdout",
     "output_type": "stream",
     "text": [
      "0 0 0 0 0 1 1 1 1 1 2 2 "
     ]
    }
   ],
   "source": [
    "def sort_0_1_2(arr):\n",
    "    n = len(arr)\n",
    "    l = 0\n",
    "    r = n - 1\n",
    " \n",
    "    i = 0\n",
    "    while i < n and i <= r:\n",
    "        if arr[i] == 0:\n",
    "            arr[l], arr[i] = arr[i], arr[l]\n",
    "            l += 1\n",
    "            i += 1\n",
    "        elif arr[i] == 2:\n",
    "            arr[i], arr[r] = arr[r], arr[i]\n",
    "            r -= 1\n",
    "        else:\n",
    "            i += 1\n",
    "            \n",
    "    for i in range(n):\n",
    "        print(arr[i], end=\" \")\n",
    "\n",
    "            \n",
    "            \n",
    "arr = [0, 1, 1, 0, 1, 2, 1, 2, 0, 0, 0, 1]\n",
    "\n",
    "sort_0_1_2(arr)\n"
   ]
  },
  {
   "cell_type": "code",
   "execution_count": null,
   "metadata": {},
   "outputs": [],
   "source": []
  },
  {
   "cell_type": "markdown",
   "metadata": {},
   "source": []
  }
 ],
 "metadata": {
  "kernelspec": {
   "display_name": "Python 3",
   "language": "python",
   "name": "python3"
  },
  "language_info": {
   "codemirror_mode": {
    "name": "ipython",
    "version": 3
   },
   "file_extension": ".py",
   "mimetype": "text/x-python",
   "name": "python",
   "nbconvert_exporter": "python",
   "pygments_lexer": "ipython3",
   "version": "3.10.9"
  }
 },
 "nbformat": 4,
 "nbformat_minor": 2
}
