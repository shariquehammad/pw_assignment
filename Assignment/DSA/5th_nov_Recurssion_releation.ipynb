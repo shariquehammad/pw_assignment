{
 "cells": [
  {
   "cell_type": "markdown",
   "metadata": {},
   "source": [
    "### Q1 Find the value of T(2) for the recurrence relation T(n) = 3T(n-1) + 12n, given that T(0)=5."
   ]
  },
  {
   "cell_type": "code",
   "execution_count": 2,
   "metadata": {},
   "outputs": [
    {
     "name": "stdout",
     "output_type": "stream",
     "text": [
      "T(2):  105\n"
     ]
    }
   ],
   "source": [
    "def rec_rel(n):\n",
    "    if n==0:\n",
    "        return 5\n",
    "    else:\n",
    "        return 3*rec_rel(n-1) + 12*n\n",
    "    \n",
    "res = rec_rel(2)\n",
    "print(\"T(2): \", res)"
   ]
  },
  {
   "cell_type": "markdown",
   "metadata": {},
   "source": [
    "### Q2. Given a recurrence relation, solve it using the substitution method:"
   ]
  },
  {
   "cell_type": "markdown",
   "metadata": {},
   "source": [
    "* a) - T(n) = T(n-1) + c"
   ]
  },
  {
   "cell_type": "code",
   "execution_count": 3,
   "metadata": {},
   "outputs": [
    {
     "data": {
      "text/plain": [
       "'\\n    T(n) = T(n-1) + c ----->1\\n    T(n-1) = T(n-2) +c ----->2\\n    Put 2 in 1\\n    \\n    T(n) = [T(n-2)+c] +c = T(n-2) +2c\\n    \\n    for some k(k<=n)\\n    T(n) = T(n-k) + kc\\n    \\n    For k = n\\n    \\n    T(n) = T(n-n) + nc = T(0) +nc\\n    \\n    let T(0) = X\\n    \\n    T(n) = X + nc\\n\\n'"
      ]
     },
     "execution_count": 3,
     "metadata": {},
     "output_type": "execute_result"
    }
   ],
   "source": [
    "'''\n",
    "    T(n) = T(n-1) + c ----->1\n",
    "    T(n-1) = T(n-2) +c ----->2\n",
    "    Put 2 in 1\n",
    "    \n",
    "    T(n) = [T(n-2)+c] +c = T(n-2) +2c\n",
    "    \n",
    "    for some k(k<=n)\n",
    "    T(n) = T(n-k) + kc\n",
    "    \n",
    "    For k = n\n",
    "    \n",
    "    T(n) = T(n-n) + nc = T(0) +nc\n",
    "    \n",
    "    let T(0) = X\n",
    "    \n",
    "    T(n) = X + nc\n",
    "\n",
    "'''"
   ]
  },
  {
   "cell_type": "markdown",
   "metadata": {},
   "source": [
    "* b) T(n) = 2T(n/2) + n"
   ]
  },
  {
   "cell_type": "code",
   "execution_count": 6,
   "metadata": {},
   "outputs": [
    {
     "data": {
      "text/plain": [
       "'\\n\\nT(n) = 2T(n/2) + n --------> 1\\n\\nT(n/2) = 2T(n/4) + n/2 ---------> 2\\n\\nT(n/4) = 2T(n/8) + n/4 ---------> 3\\n\\nput 2 in 1\\n\\nT(n) = 2[2T(n/4) + n/2] + n = 4T(n/4) + 2n = (2^2)T(n/2^2) + 2n -------> 4\\n\\nput 3 in 4\\n\\nT(n) = 8T(n/8) + 3n\\n\\nfor some k\\n\\nT(n) = 2^k*T(n/2^k) + kn\\n\\ncontinue till n/2^k = 1 -----> k = log₂(n)\\n\\nT(n) = 2^log₂(n) * T(1) + (log₂(n))*n\\n\\nT(n) = nT(1) + log₂(n)*n\\n\\n'"
      ]
     },
     "execution_count": 6,
     "metadata": {},
     "output_type": "execute_result"
    }
   ],
   "source": [
    "'''\n",
    "\n",
    "T(n) = 2T(n/2) + n --------> 1\n",
    "\n",
    "T(n/2) = 2T(n/4) + n/2 ---------> 2\n",
    "\n",
    "T(n/4) = 2T(n/8) + n/4 ---------> 3\n",
    "\n",
    "put 2 in 1\n",
    "\n",
    "T(n) = 2[2T(n/4) + n/2] + n = 4T(n/4) + 2n = (2^2)T(n/2^2) + 2n -------> 4\n",
    "\n",
    "put 3 in 4\n",
    "\n",
    "T(n) = 8T(n/8) + 3n\n",
    "\n",
    "for some k\n",
    "\n",
    "T(n) = 2^k*T(n/2^k) + kn\n",
    "\n",
    "continue till n/2^k = 1 -----> k = log₂(n)\n",
    "\n",
    "T(n) = 2^log₂(n) * T(1) + (log₂(n))*n\n",
    "\n",
    "T(n) = nT(1) + log₂(n)*n\n",
    "\n",
    "'''"
   ]
  },
  {
   "cell_type": "markdown",
   "metadata": {},
   "source": [
    "* c) T(n) = 2T(n/2) + c"
   ]
  },
  {
   "cell_type": "code",
   "execution_count": 7,
   "metadata": {},
   "outputs": [
    {
     "data": {
      "text/plain": [
       "'\\n\\nT(n) = 2T(n/2) + c --------> 1\\n\\nT(n/2) = 2T(n/4) + c ---------> 2\\n\\nT(n/4) = 2T(n/8) + c ---------> 3\\n\\nput 2 in 1\\n\\nT(n) = 2[2T(n/4) + c] + c = 4T(n/4) + 3c = 4T(n/4) + 3c -------> 4\\n\\nput 3 in 4\\n\\nT(n) = 8T(n/8) + 7c\\n\\nfor some k\\n\\nT(n) = 2^k*T(n/2^k) + (2^k - 1)c\\n\\ncontinue till n/2^k = 1 -----> k = log₂(n)\\n\\nT(n) = 2^log₂(n) * T(1) + (2^log₂(n) - 1)*c\\n\\nT(n) = nT(1) + (n-1)*c\\n\\n'"
      ]
     },
     "execution_count": 7,
     "metadata": {},
     "output_type": "execute_result"
    }
   ],
   "source": [
    "'''\n",
    "\n",
    "T(n) = 2T(n/2) + c --------> 1\n",
    "\n",
    "T(n/2) = 2T(n/4) + c ---------> 2\n",
    "\n",
    "T(n/4) = 2T(n/8) + c ---------> 3\n",
    "\n",
    "put 2 in 1\n",
    "\n",
    "T(n) = 2[2T(n/4) + c] + c = 4T(n/4) + 3c = 4T(n/4) + 3c -------> 4\n",
    "\n",
    "put 3 in 4\n",
    "\n",
    "T(n) = 8T(n/8) + 7c\n",
    "\n",
    "for some k\n",
    "\n",
    "T(n) = 2^k*T(n/2^k) + (2^k - 1)c\n",
    "\n",
    "continue till n/2^k = 1 -----> k = log₂(n)\n",
    "\n",
    "T(n) = 2^log₂(n) * T(1) + (2^log₂(n) - 1)*c\n",
    "\n",
    "T(n) = nT(1) + (n-1)*c\n",
    "\n",
    "'''"
   ]
  },
  {
   "cell_type": "markdown",
   "metadata": {},
   "source": [
    "* d) T(n) = T(n/2) + c"
   ]
  },
  {
   "cell_type": "code",
   "execution_count": 8,
   "metadata": {},
   "outputs": [
    {
     "data": {
      "text/plain": [
       "' \\nT(n) = T(n/2) + c ------------->1\\n\\nT(n/2) = T(n/4) + c ------------>2\\n\\nput 2 in 1\\n\\nT(n) = (T(n/4) + c) + c  = T(n/4) + 2c -------------->3\\n\\nT(n) = T(n/2^k) + kc\\n\\nfor n/2^k = 1 -------> k = log₂(n)\\n\\nT(n) = T(1) + (log₂(n))c\\n\\nT(n) = T(1) + clog₂(n)\\n \\n'"
      ]
     },
     "execution_count": 8,
     "metadata": {},
     "output_type": "execute_result"
    }
   ],
   "source": [
    "''' \n",
    "T(n) = T(n/2) + c ------------->1\n",
    "\n",
    "T(n/2) = T(n/4) + c ------------>2\n",
    "\n",
    "put 2 in 1\n",
    "\n",
    "T(n) = (T(n/4) + c) + c  = T(n/4) + 2c -------------->3\n",
    "\n",
    "T(n) = T(n/2^k) + kc\n",
    "\n",
    "for n/2^k = 1 -------> k = log₂(n)\n",
    "\n",
    "T(n) = T(1) + (log₂(n))c\n",
    "\n",
    "T(n) = T(1) + clog₂(n)\n",
    " \n",
    "'''"
   ]
  },
  {
   "cell_type": "markdown",
   "metadata": {},
   "source": [
    "### Q3. Given a recurrence relation, solve it using the recursive tree approach:"
   ]
  },
  {
   "cell_type": "markdown",
   "metadata": {},
   "source": [
    "* a) - T(n) = 2T(n-1) +1"
   ]
  },
  {
   "cell_type": "code",
   "execution_count": 10,
   "metadata": {},
   "outputs": [
    {
     "name": "stdout",
     "output_type": "stream",
     "text": [
      "T(4) = 15\n"
     ]
    }
   ],
   "source": [
    "def tree_recurrence(n):\n",
    "    if n == 0:\n",
    "        return 0\n",
    "    return 2 * tree_recurrence(n - 1) + 1\n",
    "\n",
    "n = 4\n",
    "res = tree_recurrence(n)\n",
    "print(f\"T({n}) = {res}\")"
   ]
  },
  {
   "cell_type": "markdown",
   "metadata": {},
   "source": [
    "* b) - T(n) = 2T(n/2) + n"
   ]
  },
  {
   "cell_type": "code",
   "execution_count": 12,
   "metadata": {},
   "outputs": [
    {
     "name": "stdout",
     "output_type": "stream",
     "text": [
      "T(4) = 12\n"
     ]
    }
   ],
   "source": [
    "def tree_recurrence(n):\n",
    "    if n <=1:\n",
    "        return n\n",
    "    return 2 * tree_recurrence(n//2) + n\n",
    "\n",
    "n = 4\n",
    "res = tree_recurrence(n)\n",
    "print(f\"T({n}) = {res}\")"
   ]
  },
  {
   "cell_type": "code",
   "execution_count": null,
   "metadata": {},
   "outputs": [],
   "source": []
  }
 ],
 "metadata": {
  "kernelspec": {
   "display_name": "Python 3",
   "language": "python",
   "name": "python3"
  },
  "language_info": {
   "codemirror_mode": {
    "name": "ipython",
    "version": 3
   },
   "file_extension": ".py",
   "mimetype": "text/x-python",
   "name": "python",
   "nbconvert_exporter": "python",
   "pygments_lexer": "ipython3",
   "version": "3.10.9"
  }
 },
 "nbformat": 4,
 "nbformat_minor": 2
}
