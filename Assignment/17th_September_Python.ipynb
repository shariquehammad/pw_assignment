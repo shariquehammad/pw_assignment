{
 "cells": [
  {
   "cell_type": "markdown",
   "id": "d0d550af",
   "metadata": {},
   "source": [
    "## Python Assignment"
   ]
  },
  {
   "cell_type": "markdown",
   "id": "0fe9dcf2",
   "metadata": {},
   "source": [
    "### For Loop "
   ]
  },
  {
   "cell_type": "markdown",
   "id": "550228dc",
   "metadata": {},
   "source": [
    "#### 1. Write a Python program to print numbers from 1 to 10 using a for loop."
   ]
  },
  {
   "cell_type": "code",
   "execution_count": 1,
   "id": "4f5fd9e9",
   "metadata": {},
   "outputs": [
    {
     "name": "stdout",
     "output_type": "stream",
     "text": [
      "1 2 3 4 5 6 7 8 9 10 "
     ]
    }
   ],
   "source": [
    "def print_nums():\n",
    "    for i in range(1,11):\n",
    "        print(i, end = \" \")\n",
    "print_nums()"
   ]
  },
  {
   "cell_type": "markdown",
   "id": "e93b03ed",
   "metadata": {},
   "source": [
    "#### 2. Explain the difference between a for loop and a while loop in Python."
   ]
  },
  {
   "cell_type": "markdown",
   "id": "9b29488b",
   "metadata": {},
   "source": [
    "#### Answer: \n",
    "##### For Loop:\n",
    "A for loop in Python is used to iterate over a sequence (like a list, tuple, dictionary, string, or a set) or other iterable objects. Iterating over a sequence is called traversal.\n",
    "In this example, the for loop will print numbers from 0 to 4. The range(5) function generates a sequence of numbers from 0 up to (but not including) 5.\n",
    "for i in range(5):\n",
    "    print(i)\n",
    "##### While Loop:\n",
    "A while loop in Python is used to iterate over a block of code as long as the test expression (condition) is true. \n",
    "In this example, the while loop will also print numbers from 0 to 4. The loop continues to execute as long as the condition i < 5 remains true.\n",
    "i = 0\n",
    "while i < 5:\n",
    "    print(i)\n",
    "    i += 1   \n",
    "\n",
    "So, the main difference is that for loops are typically used when the number of iterations is known or finite, whereas while loops are used when the iterations need to continue until a condition is met."
   ]
  },
  {
   "cell_type": "markdown",
   "id": "40d29f86",
   "metadata": {},
   "source": [
    "#### 3. Write a Python program to calculate the sum of all numbers from 1 to 100 using a for loop."
   ]
  },
  {
   "cell_type": "code",
   "execution_count": 2,
   "id": "4a7b74b6",
   "metadata": {},
   "outputs": [
    {
     "data": {
      "text/plain": [
       "5050"
      ]
     },
     "execution_count": 2,
     "metadata": {},
     "output_type": "execute_result"
    }
   ],
   "source": [
    "def sum_of_first_n_natural_numbers(n):\n",
    "    \n",
    "    return int(n*(n+1)/2)\n",
    "\n",
    "sum_of_first_n_natural_numbers(100)   "
   ]
  },
  {
   "cell_type": "markdown",
   "id": "85d007ae",
   "metadata": {},
   "source": [
    "#### 4. How do you iterate through a list using a for loop in Python?"
   ]
  },
  {
   "cell_type": "code",
   "execution_count": 3,
   "id": "172dafc0",
   "metadata": {},
   "outputs": [
    {
     "name": "stdout",
     "output_type": "stream",
     "text": [
      "1 2 3 4 5 "
     ]
    }
   ],
   "source": [
    "my_list = [1, 2, 3, 4, 5]\n",
    "\n",
    "# Using a for loop to iterate through the list\n",
    "for item in my_list:\n",
    "    print(item, end = \" \")"
   ]
  },
  {
   "cell_type": "markdown",
   "id": "7d3db8c8",
   "metadata": {},
   "source": [
    "#### 5. Write a Python program to find the product of all elements in a list using a for loop."
   ]
  },
  {
   "cell_type": "code",
   "execution_count": 4,
   "id": "8da3dad4",
   "metadata": {},
   "outputs": [
    {
     "name": "stdout",
     "output_type": "stream",
     "text": [
      "120\n"
     ]
    }
   ],
   "source": [
    "def product_of_list(lst):\n",
    "    \n",
    "    product = 1\n",
    "    for i in lst:\n",
    "        product *= i\n",
    "        \n",
    "    return product\n",
    "lst = [1,2,3,4,5]\n",
    "print(product_of_list(lst))"
   ]
  },
  {
   "cell_type": "markdown",
   "id": "befd58bb",
   "metadata": {},
   "source": [
    "#### 6. Create a Python program that prints all even numbers from 1 to 20 using a for loop."
   ]
  },
  {
   "cell_type": "code",
   "execution_count": 5,
   "id": "3cf3e7f2",
   "metadata": {},
   "outputs": [
    {
     "name": "stdout",
     "output_type": "stream",
     "text": [
      "2 4 6 8 10 12 14 16 18 20 "
     ]
    }
   ],
   "source": [
    "def even_numbers():\n",
    "    \n",
    "    for i in range(1,21):\n",
    "        if i % 2 == 0:\n",
    "            print(i, end = \" \")\n",
    "even_numbers()"
   ]
  },
  {
   "cell_type": "markdown",
   "id": "c825bdfd",
   "metadata": {},
   "source": [
    "#### 7. Write a Python program that calculates the factorial of a number using a for loop."
   ]
  },
  {
   "cell_type": "code",
   "execution_count": 6,
   "id": "1060abc8",
   "metadata": {},
   "outputs": [
    {
     "data": {
      "text/plain": [
       "120"
      ]
     },
     "execution_count": 6,
     "metadata": {},
     "output_type": "execute_result"
    }
   ],
   "source": [
    "def factorial(n):\n",
    "    factorial = 1\n",
    "    if n<0:\n",
    "        return \"Invalid Input\"\n",
    "    if n == 0 or n == 1:\n",
    "        return 1\n",
    "    else:\n",
    "        for i in range(1, n+1):\n",
    "            factorial *= i\n",
    "    return factorial\n",
    "factorial(5)     "
   ]
  },
  {
   "cell_type": "markdown",
   "id": "2c379bd5",
   "metadata": {},
   "source": [
    "#### 8. How can you iterate through the characters of a string using a for loop in Python?"
   ]
  },
  {
   "cell_type": "code",
   "execution_count": 7,
   "id": "774ab4d7",
   "metadata": {},
   "outputs": [
    {
     "name": "stdout",
     "output_type": "stream",
     "text": [
      "H\n",
      "e\n",
      "l\n",
      "l\n",
      "o\n",
      ",\n",
      " \n",
      "W\n",
      "o\n",
      "r\n",
      "l\n",
      "d\n",
      "!\n"
     ]
    }
   ],
   "source": [
    "def iterate_string(str):\n",
    "\n",
    "    for char in str:\n",
    "        print(char)\n",
    "\n",
    "s = \"Hello, World!\" \n",
    "iterate_string(s)"
   ]
  },
  {
   "cell_type": "markdown",
   "id": "757ddfdb",
   "metadata": {},
   "source": [
    "#### 9. Write a Python program to find the largest number in a list using a for loop."
   ]
  },
  {
   "cell_type": "code",
   "execution_count": 8,
   "id": "05577c9e",
   "metadata": {},
   "outputs": [
    {
     "data": {
      "text/plain": [
       "89"
      ]
     },
     "execution_count": 8,
     "metadata": {},
     "output_type": "execute_result"
    }
   ],
   "source": [
    "def largest_in_list(lst):\n",
    "    \n",
    "    largest = lst[0]\n",
    "    for num in lst:\n",
    "        if num > largest:\n",
    "            largest = num\n",
    "    return largest\n",
    "largest_in_list([-9, 89, 0, 6])"
   ]
  },
  {
   "cell_type": "markdown",
   "id": "bd0efb51",
   "metadata": {},
   "source": [
    "#### 10. Create a Python program that prints the Fibonacci sequence up to a specified limit using a for loop."
   ]
  },
  {
   "cell_type": "code",
   "execution_count": 9,
   "id": "12f3f487",
   "metadata": {},
   "outputs": [
    {
     "name": "stdout",
     "output_type": "stream",
     "text": [
      "Number of elements in Fibonacci Series, n, (n>=2) : 4\n"
     ]
    },
    {
     "data": {
      "text/plain": [
       "[0, 1, 1, 2]"
      ]
     },
     "execution_count": 9,
     "metadata": {},
     "output_type": "execute_result"
    }
   ],
   "source": [
    "def fib_sequence(n):\n",
    "    fibonacciSeries = [0, 1]\n",
    "\n",
    "    if n > 2:\n",
    "        for i in range(2, n):\n",
    "            nextElement = fibonacciSeries[i - 1] + fibonacciSeries[i - 2]\n",
    "            fibonacciSeries.append(nextElement)\n",
    "\n",
    "    return fibonacciSeries\n",
    "\n",
    "n = int(input(\"Number of elements in Fibonacci Series, n, (n>=2) : \"))\n",
    "fib_sequence(n)"
   ]
  },
  {
   "cell_type": "markdown",
   "id": "02f9ee39",
   "metadata": {},
   "source": [
    "#### 11. Write a Python program to count the number of vowels in a given string using a for loop."
   ]
  },
  {
   "cell_type": "code",
   "execution_count": 10,
   "id": "8393f6d6",
   "metadata": {},
   "outputs": [
    {
     "data": {
      "text/plain": [
       "'The input string has: 3 vowels'"
      ]
     },
     "execution_count": 10,
     "metadata": {},
     "output_type": "execute_result"
    }
   ],
   "source": [
    "def count_vowels(s):\n",
    "    \n",
    "    count = 0\n",
    "    for char in s:     \n",
    "        if char.lower() in 'aeiou':\n",
    "            count += 1\n",
    "            \n",
    "    return \"The input string has: \" + str(count) + \" vowels\"\n",
    "count_vowels(\"Python code\")"
   ]
  },
  {
   "cell_type": "markdown",
   "id": "1a73c668",
   "metadata": {},
   "source": [
    "#### 12. Create a Python program that generates a multiplication table for a given number using a for loop."
   ]
  },
  {
   "cell_type": "code",
   "execution_count": 11,
   "id": "3a2e3e41",
   "metadata": {},
   "outputs": [
    {
     "name": "stdout",
     "output_type": "stream",
     "text": [
      "5 X 1 = 5\n",
      "5 X 2 = 10\n",
      "5 X 3 = 15\n",
      "5 X 4 = 20\n",
      "5 X 5 = 25\n",
      "5 X 6 = 30\n",
      "5 X 7 = 35\n",
      "5 X 8 = 40\n",
      "5 X 9 = 45\n",
      "5 X 10 = 50\n"
     ]
    }
   ],
   "source": [
    "def multiplication_table(n):\n",
    "    \n",
    "    for i in range(1,11):\n",
    "        print(n, 'X', i, \"=\", n*i)\n",
    "multiplication_table(5)"
   ]
  },
  {
   "cell_type": "markdown",
   "id": "c653f6b3",
   "metadata": {},
   "source": [
    "#### 13. Write a Python program to reverse a list using a for loop."
   ]
  },
  {
   "cell_type": "code",
   "execution_count": 12,
   "id": "46eed0c9",
   "metadata": {},
   "outputs": [
    {
     "data": {
      "text/plain": [
       "[1, 2, 3, 4]"
      ]
     },
     "execution_count": 12,
     "metadata": {},
     "output_type": "execute_result"
    }
   ],
   "source": [
    "def reverse_list(lst):\n",
    "    \n",
    "    reversed_list = []\n",
    "    for i in range(len(lst)):\n",
    "        reversed_list.append(lst[-1])\n",
    "        lst.pop(-1)\n",
    "    return reversed_list\n",
    "reverse_list([4,3,2,1])\n",
    "    "
   ]
  },
  {
   "cell_type": "markdown",
   "id": "415adf77",
   "metadata": {},
   "source": [
    "#### 14. Write a Python program to find the common elements between two lists using a for loop."
   ]
  },
  {
   "cell_type": "code",
   "execution_count": 13,
   "id": "6534cce2",
   "metadata": {},
   "outputs": [
    {
     "data": {
      "text/plain": [
       "[7]"
      ]
     },
     "execution_count": 13,
     "metadata": {},
     "output_type": "execute_result"
    }
   ],
   "source": [
    "def print_common_between_lists(list1, list2):\n",
    "    common = []\n",
    "    for item in list1:\n",
    "        if item in list2:\n",
    "            common.append(item)\n",
    "    return common        \n",
    "            \n",
    "print_common_between_lists([7], [1,2,7])"
   ]
  },
  {
   "cell_type": "markdown",
   "id": "93734f85",
   "metadata": {},
   "source": [
    "#### 15. Explain how to use a for loop to iterate through the keys and values of a dictionary in Python."
   ]
  },
  {
   "cell_type": "code",
   "execution_count": 14,
   "id": "76b8bec7",
   "metadata": {},
   "outputs": [
    {
     "name": "stdout",
     "output_type": "stream",
     "text": [
      "The key is key1 and the value is value1.\n",
      "The key is key2 and the value is value2.\n",
      "The key is key3 and the value is value3.\n"
     ]
    }
   ],
   "source": [
    "d = {\"key1\": \"value1\", \"key2\": \"value2\", \"key3\": \"value3\"}\n",
    "\n",
    "for key, value in d.items():\n",
    "    print(f\"The key is {key} and the value is {value}.\")"
   ]
  },
  {
   "cell_type": "markdown",
   "id": "a80b0f28",
   "metadata": {},
   "source": [
    "#### 16. Write a Python program to find the GCD (Greatest Common Divisor) of two numbers using a for loop."
   ]
  },
  {
   "cell_type": "code",
   "execution_count": 15,
   "id": "b6b13965",
   "metadata": {},
   "outputs": [
    {
     "data": {
      "text/plain": [
       "10"
      ]
     },
     "execution_count": 15,
     "metadata": {},
     "output_type": "execute_result"
    }
   ],
   "source": [
    "def gcd(a,b):\n",
    "    for i in range(1, min(a,b) + 1):\n",
    "        if (a % i == 0) and (b % i == 0):\n",
    "            gcd = i\n",
    "    return gcd\n",
    "gcd(10,20)"
   ]
  },
  {
   "cell_type": "markdown",
   "id": "c26e3067",
   "metadata": {},
   "source": [
    "#### 17. Create a Python program that checks if a string is a palindrome using a for loop."
   ]
  },
  {
   "cell_type": "code",
   "execution_count": 16,
   "id": "ee70ea6f",
   "metadata": {},
   "outputs": [
    {
     "name": "stdout",
     "output_type": "stream",
     "text": [
      "True\n",
      "False\n"
     ]
    }
   ],
   "source": [
    "def is_palindrome(string):\n",
    "    for i in range(len(string)):\n",
    "        if string[i] != string[-1 - i]:\n",
    "            return False\n",
    "    return True\n",
    "print(is_palindrome(\"aba\"))\n",
    "print(is_palindrome(\"abb\"))"
   ]
  },
  {
   "cell_type": "markdown",
   "id": "1cc49632",
   "metadata": {},
   "source": [
    "#### 18. Write a Python program to remove duplicates from a list using a for loop."
   ]
  },
  {
   "cell_type": "code",
   "execution_count": 17,
   "id": "8682d4a9",
   "metadata": {},
   "outputs": [
    {
     "data": {
      "text/plain": [
       "[1, 2, 3, 4, 5]"
      ]
     },
     "execution_count": 17,
     "metadata": {},
     "output_type": "execute_result"
    }
   ],
   "source": [
    "def remove_duplicates(lst):\n",
    "    \n",
    "    new_list = []\n",
    "\n",
    "    for item in lst:\n",
    "        if item not in new_list:\n",
    "            new_list.append(item)\n",
    "\n",
    "    return new_list\n",
    "remove_duplicates([1,1,1,1,2,3,4,5,5])"
   ]
  },
  {
   "cell_type": "markdown",
   "id": "e916af01",
   "metadata": {},
   "source": [
    "#### 19. Create a Python program that counts the number of words in a sentence using a for loop."
   ]
  },
  {
   "cell_type": "code",
   "execution_count": 18,
   "id": "caaa2797",
   "metadata": {},
   "outputs": [
    {
     "data": {
      "text/plain": [
       "4"
      ]
     },
     "execution_count": 18,
     "metadata": {},
     "output_type": "execute_result"
    }
   ],
   "source": [
    "def num_words(str):\n",
    "    count = 0\n",
    "    for item in str.split():\n",
    "        count +=1\n",
    "    return count\n",
    "num_words(\"Hi There Python Coder\")\n",
    "        "
   ]
  },
  {
   "cell_type": "markdown",
   "id": "0d262d82",
   "metadata": {},
   "source": [
    "#### 20. Write a Python program to find the sum of all odd numbers from 1 to 50 using a for loop."
   ]
  },
  {
   "cell_type": "code",
   "execution_count": 19,
   "id": "eb421b04",
   "metadata": {},
   "outputs": [
    {
     "data": {
      "text/plain": [
       "625"
      ]
     },
     "execution_count": 19,
     "metadata": {},
     "output_type": "execute_result"
    }
   ],
   "source": [
    "def sum_of_odd_nums():\n",
    "    \n",
    "    sum_ = 0\n",
    "    for i in range(1,51):\n",
    "        if i % 2 != 0:\n",
    "            sum_ += i\n",
    "    return sum_\n",
    "sum_of_odd_nums()     "
   ]
  },
  {
   "cell_type": "markdown",
   "id": "5ef87c65",
   "metadata": {},
   "source": [
    "#### 21. Write a Python program that checks if a given year is a leap year using a for loop."
   ]
  },
  {
   "cell_type": "code",
   "execution_count": 20,
   "id": "8d6a4394",
   "metadata": {},
   "outputs": [
    {
     "name": "stdout",
     "output_type": "stream",
     "text": [
      "Enter a year: 2000\n",
      "2000 is a leap year\n"
     ]
    }
   ],
   "source": [
    "def check_if_leap_year(year): \n",
    "    \n",
    "    # Divided by 100 means century year (ending with 00)\n",
    "    # Century year divided by 400 is a leap year\n",
    "    if (year % 400 == 0) and (year % 100 == 0):\n",
    "        return str(year) + \" is a leap year\"\n",
    "\n",
    "    # Not divided by 100 means not a century year\n",
    "    # Year divided by 4 is a leap year\n",
    "    elif (year % 4 == 0) and (year % 100 != 0):\n",
    "        return str(year) + \" is a leap year\"\n",
    "\n",
    "    # If not divided by both 400 (century year) and 4 (not century year), the year is not a leap year\n",
    "    else:\n",
    "        return (year) + \" is not a leap year\"\n",
    "\n",
    "year = int(input(\"Enter a year: \"))\n",
    "print(check_if_leap_year(year))"
   ]
  },
  {
   "cell_type": "markdown",
   "id": "626d91d8",
   "metadata": {},
   "source": [
    "#### 22. Create a Python program that calculates the square root of a number using a for loop."
   ]
  },
  {
   "cell_type": "code",
   "execution_count": 21,
   "id": "e4115c6d",
   "metadata": {},
   "outputs": [
    {
     "name": "stdout",
     "output_type": "stream",
     "text": [
      "Enter a number: 4\n",
      "The square root of 4 is: 2\n"
     ]
    }
   ],
   "source": [
    "def calculate_square_root(number):\n",
    "    for i in range(1, number + 1):\n",
    "        if i * i == number:\n",
    "            return \"The square root of \" + str(number) + \" is: \" + str(i)\n",
    "    return \"The square root of \" + str(number) + \" is not an integer.\"\n",
    "\n",
    "number = int(input(\"Enter a number: \"))\n",
    "print(calculate_square_root(number))\n",
    "\n"
   ]
  },
  {
   "cell_type": "markdown",
   "id": "7fca4d6d",
   "metadata": {},
   "source": [
    "#### 23. Write a Python program to find the LCM (Least Common Multiple) of two numbers using a for loop."
   ]
  },
  {
   "cell_type": "code",
   "execution_count": 22,
   "id": "9e6f5446",
   "metadata": {},
   "outputs": [
    {
     "name": "stdout",
     "output_type": "stream",
     "text": [
      "The L.C.M. is: 24\n"
     ]
    }
   ],
   "source": [
    "def compute_lcm(x, y):\n",
    "    # Choose the greater number\n",
    "    if x > y:\n",
    "        greater = x\n",
    "    else:\n",
    "        greater = y\n",
    "\n",
    "    for i in range(greater, x*y + 1):\n",
    "        if (i % x == 0) and (i % y == 0):\n",
    "            lcm = i\n",
    "            break\n",
    "\n",
    "    return \"The L.C.M. is: \" + str(lcm)\n",
    "\n",
    "num1 = 8\n",
    "num2 = 6\n",
    "print(compute_lcm(num1, num2))"
   ]
  },
  {
   "cell_type": "markdown",
   "id": "c3951572",
   "metadata": {},
   "source": [
    "### If else :"
   ]
  },
  {
   "cell_type": "markdown",
   "id": "a827ab45",
   "metadata": {},
   "source": [
    "#### 1. Write a Python program to check if a number is positive, negative, or zero using an if-else statement."
   ]
  },
  {
   "cell_type": "code",
   "execution_count": 23,
   "id": "307ae3ee",
   "metadata": {},
   "outputs": [
    {
     "name": "stdout",
     "output_type": "stream",
     "text": [
      "Enter a number: -4\n",
      "Entered number is negative\n"
     ]
    }
   ],
   "source": [
    "def pos_negative_zero(x):\n",
    "    \n",
    "    if x>0:\n",
    "        return \"Entered number is positive\"\n",
    "    elif x < 0:\n",
    "        return \"Entered number is negative\"\n",
    "    else:\n",
    "        return \"Enterd number is zero\"\n",
    "   \n",
    "x = int(input(\"Enter a number: \")) \n",
    "print(pos_negative_zero(x))\n"
   ]
  },
  {
   "cell_type": "markdown",
   "id": "a7b5040f",
   "metadata": {},
   "source": [
    "#### 2. Create a Python program that checks if a given number is even or odd using an if-else statement."
   ]
  },
  {
   "cell_type": "code",
   "execution_count": 24,
   "id": "b6b96a67",
   "metadata": {},
   "outputs": [
    {
     "data": {
      "text/plain": [
       "'1 is odd'"
      ]
     },
     "execution_count": 24,
     "metadata": {},
     "output_type": "execute_result"
    }
   ],
   "source": [
    "def is_even_or_odd(x):\n",
    "    \n",
    "    if x % 2 == 0:\n",
    "        return str(x) + \" is even\"\n",
    "    else:\n",
    "        return str(x) + \" is odd\"\n",
    "is_even_or_odd(1)"
   ]
  },
  {
   "cell_type": "markdown",
   "id": "6965b32d",
   "metadata": {},
   "source": [
    "#### 3. How can you use nested if-else statements in Python, and provide an example?"
   ]
  },
  {
   "cell_type": "markdown",
   "id": "c5c6b4b3",
   "metadata": {},
   "source": [
    "In Python, we can use nested if-else statements to check for multiple conditions. We can have an if…elif…else statement inside another if…elif…else statement. This is called nesting in computer programming"
   ]
  },
  {
   "cell_type": "code",
   "execution_count": 25,
   "id": "56af39bd",
   "metadata": {},
   "outputs": [
    {
     "name": "stdout",
     "output_type": "stream",
     "text": [
      "10 and 10 are equal\n"
     ]
    }
   ],
   "source": [
    "def example(x,y,z):\n",
    "\n",
    "    if x > y:\n",
    "        return str(x) + \" is greater than \" + str(y)\n",
    "    elif x < y:\n",
    "        if y > z:\n",
    "            return str(y) + \" is greater than \" + str(z)\n",
    "        else:\n",
    "            return str(y)+  \" is smaller than \" +str(z)\n",
    "    else:\n",
    "        return str(x) + \" and \" + str(y) + \" are equal\"\n",
    "x = 10\n",
    "y = 10\n",
    "z = 30\n",
    "print(example(x,y,z))"
   ]
  },
  {
   "cell_type": "markdown",
   "id": "02553858",
   "metadata": {},
   "source": [
    "#### 4. Write a Python program to determine the largest of three numbers using if-else."
   ]
  },
  {
   "cell_type": "code",
   "execution_count": 26,
   "id": "4568babb",
   "metadata": {},
   "outputs": [
    {
     "name": "stdout",
     "output_type": "stream",
     "text": [
      "10 is the largest\n"
     ]
    }
   ],
   "source": [
    "def max_of_3_nums(x,y,z):\n",
    "    \n",
    "    if (x>= y) and (x >= z):\n",
    "        largest = x\n",
    "    elif (y >= x) and (y >= z):\n",
    "        largest = y\n",
    "    else:\n",
    "        largest = z\n",
    "    return str(largest) + \" is the largest\"\n",
    "\n",
    "print(max_of_3_nums(10,-10,0)) "
   ]
  },
  {
   "cell_type": "markdown",
   "id": "0d394108",
   "metadata": {},
   "source": [
    "#### 5. Write a Python program that calculates the absolute value of a number using if-else."
   ]
  },
  {
   "cell_type": "code",
   "execution_count": 27,
   "id": "c480c9b5",
   "metadata": {},
   "outputs": [
    {
     "data": {
      "text/plain": [
       "10"
      ]
     },
     "execution_count": 27,
     "metadata": {},
     "output_type": "execute_result"
    }
   ],
   "source": [
    "def abs_value(x):\n",
    "    \n",
    "    if x >= 0:\n",
    "        return x\n",
    "    else:\n",
    "        return -1*x\n",
    "abs_value(-10)"
   ]
  },
  {
   "cell_type": "markdown",
   "id": "65720736",
   "metadata": {},
   "source": [
    "#### 6. Create a Python program that checks if a given character is a vowel or consonant using if-else."
   ]
  },
  {
   "cell_type": "code",
   "execution_count": 28,
   "id": "cc67ec31",
   "metadata": {},
   "outputs": [
    {
     "data": {
      "text/plain": [
       "'F is a consonant'"
      ]
     },
     "execution_count": 28,
     "metadata": {},
     "output_type": "execute_result"
    }
   ],
   "source": [
    "def is_vowel_or_consonant(char):\n",
    "    \n",
    "    if str(char) in \"aeiouAEIOU\":\n",
    "        return char + \" is a vowel\"\n",
    "    else:\n",
    "        return char + \" is a consonant\"\n",
    "char = \"F\"\n",
    "is_vowel_or_consonant(char)"
   ]
  },
  {
   "cell_type": "markdown",
   "id": "5af63eef",
   "metadata": {},
   "source": [
    "#### 7. Write a Python program to determine if a user is eligible to vote based on their age using if-else."
   ]
  },
  {
   "cell_type": "code",
   "execution_count": 29,
   "id": "929911b7",
   "metadata": {},
   "outputs": [
    {
     "data": {
      "text/plain": [
       "'Eligible'"
      ]
     },
     "execution_count": 29,
     "metadata": {},
     "output_type": "execute_result"
    }
   ],
   "source": [
    "def check_voting_age(x):\n",
    "    \n",
    "    if x<=0:\n",
    "        return \"Invalid input\"\n",
    "    elif x<18:\n",
    "        return \"Not eligible\"\n",
    "    else:\n",
    "        return \"Eligible\"\n",
    "check_voting_age(18)"
   ]
  },
  {
   "cell_type": "markdown",
   "id": "99f2cb3c",
   "metadata": {},
   "source": [
    "#### 8. Create a Python program that calculates the discount amount based on the purchase amount using if-else."
   ]
  },
  {
   "cell_type": "code",
   "execution_count": 30,
   "id": "f71b9f84",
   "metadata": {},
   "outputs": [
    {
     "name": "stdout",
     "output_type": "stream",
     "text": [
      "Enter the purchase amount: 1000\n",
      "Discount:  50.0\n",
      "Net Pay:  950.0\n"
     ]
    }
   ],
   "source": [
    "def discounted_price(amount): \n",
    "    if amount > 0:\n",
    "        if amount <= 5000:\n",
    "            discount = amount * 0.05\n",
    "        elif amount <= 15000:\n",
    "            discount = amount * 0.12\n",
    "        elif amount <= 25000:\n",
    "            discount = 0.2 * amount\n",
    "        else:\n",
    "            discount = 0.3 * amount\n",
    "\n",
    "        print(\"Discount: \", round(discount,2))\n",
    "        print(\"Net Pay: \", round((amount - discount),2))\n",
    "    else:\n",
    "        print(\"Invalid Amount\")\n",
    "        \n",
    "amount = int(input(\"Enter the purchase amount: \"))\n",
    "discounted_price(amount)\n"
   ]
  },
  {
   "cell_type": "markdown",
   "id": "2aad0d63",
   "metadata": {},
   "source": [
    "#### 9. Write a Python program to check if a number is within a specified range using if-else."
   ]
  },
  {
   "cell_type": "code",
   "execution_count": 31,
   "id": "9eeeaed9",
   "metadata": {},
   "outputs": [
    {
     "data": {
      "text/plain": [
       "False"
      ]
     },
     "execution_count": 31,
     "metadata": {},
     "output_type": "execute_result"
    }
   ],
   "source": [
    "def is_num_in_range(a,b,num):\n",
    "    \n",
    "    if num in range(a,b):\n",
    "        return True\n",
    "    else:\n",
    "        return False\n",
    "is_num_in_range(10,20,25)"
   ]
  },
  {
   "cell_type": "markdown",
   "id": "b84e8249",
   "metadata": {},
   "source": [
    "#### 10. Create a Python program that determines the grade of a student based on their score using if-else."
   ]
  },
  {
   "cell_type": "code",
   "execution_count": 32,
   "id": "58bce50e",
   "metadata": {},
   "outputs": [
    {
     "name": "stdout",
     "output_type": "stream",
     "text": [
      "Enter marks of the first subject: 90\n",
      "Enter marks of the second subject: 91\n",
      "Enter marks of the third subject: 92\n",
      "Enter marks of the fourth subject: 88\n",
      "Enter marks of the fifth subject: 98\n",
      "\n",
      "Average is:  91\n",
      "Grade: A\n"
     ]
    }
   ],
   "source": [
    "def student_grade():\n",
    "    \n",
    "    sub1=int(input(\"Enter marks of the first subject: \"))\n",
    "    sub2=int(input(\"Enter marks of the second subject: \"))\n",
    "    sub3=int(input(\"Enter marks of the third subject: \"))\n",
    "    sub4=int(input(\"Enter marks of the fourth subject: \"))\n",
    "    sub5=int(input(\"Enter marks of the fifth subject: \"))\n",
    "    avg = int((sub1+sub2+sub3+sub5+sub4)/5)\n",
    "    \n",
    "    print(\"\\nAverage is: \", avg)\n",
    "    if(avg>=90):\n",
    "        return \"Grade: A\"\n",
    "    elif avg>=80 and avg<90:\n",
    "        return \"Grade: B\"\n",
    "    elif avg>=70 and avg<80:\n",
    "        return \"Grade: C\"\n",
    "    elif avg>=60 and avg<70 :\n",
    "        return \"Grade: D\"\n",
    "    else:\n",
    "        return \"Grade: F\"\n",
    "print(student_grade())"
   ]
  },
  {
   "cell_type": "markdown",
   "id": "bbf730d1",
   "metadata": {},
   "source": [
    "#### 11. Write a Python program to check if a string is empty or not using if-else."
   ]
  },
  {
   "cell_type": "code",
   "execution_count": 33,
   "id": "43bf5363",
   "metadata": {},
   "outputs": [
    {
     "data": {
      "text/plain": [
       "'String is empty'"
      ]
     },
     "execution_count": 33,
     "metadata": {},
     "output_type": "execute_result"
    }
   ],
   "source": [
    "def string_is_empty(str):\n",
    "    \n",
    "    if len(str) == 0:\n",
    "        return \"String is empty\"\n",
    "    else:\n",
    "        return \"String is not empty\"\n",
    "string_is_empty(\"\")"
   ]
  },
  {
   "cell_type": "markdown",
   "id": "a01192ef",
   "metadata": {},
   "source": [
    "#### 12. Create a Python program that identifies the type of a triangle (e.g., equilateral, isosceles, or scalene) based on input values using if-else."
   ]
  },
  {
   "cell_type": "code",
   "execution_count": 34,
   "id": "0741f3ba",
   "metadata": {},
   "outputs": [
    {
     "name": "stdout",
     "output_type": "stream",
     "text": [
      "Input lengths of the triangle sides:\n",
      "x: 6\n",
      "y: 6\n",
      "z: 6\n",
      "\n",
      "Equilateral triangle\n"
     ]
    }
   ],
   "source": [
    "def is_triangle_type():\n",
    "    print(\"Input lengths of the triangle sides:\")\n",
    "    x = int(input(\"x: \"))\n",
    "    y = int(input(\"y: \"))\n",
    "    z = int(input(\"z: \"))\n",
    "\n",
    "    if x == y == z:\n",
    "        return \"\\nEquilateral triangle\"\n",
    "    elif x == y or y == z or z == x:\n",
    "        return \"\\nIsosceles triangle\"\n",
    "    else:\n",
    "        return \"\\nScalene triangle\"\n",
    "print(is_triangle_type())"
   ]
  },
  {
   "cell_type": "markdown",
   "id": "b52b71bc",
   "metadata": {},
   "source": [
    "#### 13. Write a Python program to determine the day of the week based on a user-provided number using if-else."
   ]
  },
  {
   "cell_type": "code",
   "execution_count": 35,
   "id": "79983631",
   "metadata": {},
   "outputs": [
    {
     "name": "stdout",
     "output_type": "stream",
     "text": [
      "Enter a number between 1 and 7: 5\n",
      "The day of the week is: Friday\n"
     ]
    }
   ],
   "source": [
    "def get_day_of_week(day_number):\n",
    "    days = [\"Monday\", \"Tuesday\", \"Wednesday\", \"Thursday\", \"Friday\", \"Saturday\", \"Sunday\"]\n",
    "    if day_number < 1 or day_number > 7:\n",
    "        return \"Invalid input. Please enter a number between 1 and 7.\"\n",
    "    return days[day_number - 1]\n",
    "\n",
    "day_number = int(input(\"Enter a number between 1 and 7: \"))\n",
    "day_of_week = get_day_of_week(day_number)\n",
    "print(\"The day of the week is:\", day_of_week)"
   ]
  },
  {
   "cell_type": "markdown",
   "id": "e6d2932c",
   "metadata": {},
   "source": [
    "#### 14. Create a Python program that checks if a given year is a leap year using both if-else and a function."
   ]
  },
  {
   "cell_type": "code",
   "execution_count": 36,
   "id": "cd04cc2d",
   "metadata": {},
   "outputs": [
    {
     "data": {
      "text/plain": [
       "'2000 is a leap year'"
      ]
     },
     "execution_count": 36,
     "metadata": {},
     "output_type": "execute_result"
    }
   ],
   "source": [
    "def is_leap_year(year):\n",
    "\n",
    "    # A leap year is exactly divisible by 4 except for century years (years ending with 00).\n",
    "    # The century year is a leap year only if it is perfectly divisible by 400.\n",
    "    if (year % 400 == 0) and (year % 100 == 0):\n",
    "        return str(year) + \" is a leap year\"\n",
    "    elif (year % 4 == 0) and (year % 100 != 0):\n",
    "        return str(year) + \" is a leap year\"\n",
    "    else:\n",
    "        return str(year) + \" is not a leap year\"\n",
    "is_leap_year(2000)"
   ]
  },
  {
   "cell_type": "markdown",
   "id": "8cc0b88f",
   "metadata": {},
   "source": [
    "#### 15. How do you use the \"assert\" statement in Python to add debugging checks within if-else blocks?"
   ]
  },
  {
   "cell_type": "markdown",
   "id": "7e741437",
   "metadata": {},
   "source": [
    "##### Answer:\n",
    "The assert statement in Python is used to validate whether or not a condition is true. It is often used as a debugging tool to add checks within if-else blocks. Here's how we can use it:\n",
    "\n",
    "##### if condition:\n",
    "    # Code block to execute if the condition is true\n",
    "    ...\n",
    "##### else:\n",
    "    # Code block to execute if the condition is false\n",
    "    ...\n",
    "    \n",
    "When the condition is evaluated to be true, the program continues executing as if nothing out of the ordinary happened. However, if the condition evaluates to false, the program terminates with an AssertionError2.\n",
    "\n",
    "The assert statement can be used to check types, values of arguments, and the output of functions1. It takes an expression and an optional message. If the condition is not satisfied, the program halts and gives an AssertionError along with the error message1.   \n"
   ]
  },
  {
   "cell_type": "code",
   "execution_count": 37,
   "id": "ad003da5",
   "metadata": {},
   "outputs": [
    {
     "name": "stdout",
     "output_type": "stream",
     "text": [
      "5.0\n"
     ]
    }
   ],
   "source": [
    "def divide(a, b):\n",
    "    assert b != 0, \"Cannot divide by zero!\"\n",
    "    return a / b\n",
    "\n",
    "result = divide(10, 2)\n",
    "print(result)  # Output: 5.0\n",
    "\n",
    "# result = divide(10, 0)  # Raises an AssertionError with the error message"
   ]
  },
  {
   "cell_type": "markdown",
   "id": "926aafb1",
   "metadata": {},
   "source": [
    "#### 16. Create a Python program that determines the eligibility of a person for a senior citizen discount based on age using if-else."
   ]
  },
  {
   "cell_type": "code",
   "execution_count": 38,
   "id": "079b1b11",
   "metadata": {},
   "outputs": [
    {
     "name": "stdout",
     "output_type": "stream",
     "text": [
      "How old are you?: 18\n",
      "You do not qualify for a senior citizen discount.\n"
     ]
    }
   ],
   "source": [
    "def is_eligible():\n",
    "    age = eval(input(\"How old are you?: \"))\n",
    "    if age >= 60:\n",
    "        print(\"You qualify for a senior citizen discount!\")\n",
    "    else:\n",
    "        print(\"You do not qualify for a senior citizen discount.\")\n",
    "is_eligible()"
   ]
  },
  {
   "cell_type": "markdown",
   "id": "80540698",
   "metadata": {},
   "source": [
    "#### 17. Write a Python program to categorize a given character as uppercase, lowercase, or neither using if-else."
   ]
  },
  {
   "cell_type": "code",
   "execution_count": 39,
   "id": "3f19eed8",
   "metadata": {},
   "outputs": [
    {
     "name": "stdout",
     "output_type": "stream",
     "text": [
      "Enter a character: A\n",
      "Entered character is Uppercase\n"
     ]
    }
   ],
   "source": [
    "def char_type(char):\n",
    "    \n",
    "    if char.isupper():\n",
    "        return \"Entered character is Uppercase\"\n",
    "    elif char.islower():\n",
    "        return \"Entered character is Lower\"\n",
    "    else:\n",
    "        return \"Entered character is Special Character\"\n",
    "char = input(\"Enter a character: \")\n",
    "print(char_type(char))"
   ]
  },
  {
   "cell_type": "markdown",
   "id": "e36c8dfa",
   "metadata": {},
   "source": [
    "#### 18. Write a Python program to determine the roots of a quadratic equation using if-else."
   ]
  },
  {
   "cell_type": "code",
   "execution_count": 40,
   "id": "ab5c75c0",
   "metadata": {},
   "outputs": [
    {
     "name": "stdout",
     "output_type": "stream",
     "text": [
      "Enter the coefficient of x^2: 1\n",
      "Enter the coefficient of x: 2\n",
      "Enter the constant term: 1\n",
      "The roots of the quadratic equation 1.0x^2 + 2.0x + 1.0 are -1.0 and -1.0.\n"
     ]
    }
   ],
   "source": [
    "import math\n",
    "def quadratic_equation_roots(a,b,c):\n",
    "\n",
    "    # calculate the discriminant\n",
    "    d = (b**2) - (4*a*c)\n",
    "\n",
    "    # find the two roots\n",
    "    root1 = (-b - math.sqrt(d)) / (2*a)\n",
    "    root2 = (-b + math.sqrt(d)) / (2*a)\n",
    "\n",
    "    print(f\"The roots of the quadratic equation {a}x^2 + {b}x + {c} are {root1} and {root2}.\")\n",
    "    \n",
    "a = float(input(\"Enter the coefficient of x^2: \"))\n",
    "b = float(input(\"Enter the coefficient of x: \"))\n",
    "c = float(input(\"Enter the constant term: \"))\n",
    "\n",
    "quadratic_equation_roots(a,b,c)"
   ]
  },
  {
   "cell_type": "markdown",
   "id": "370fa499",
   "metadata": {},
   "source": [
    "#### 19. Create a Python program that checks if a given year is a century year or not using if-else."
   ]
  },
  {
   "cell_type": "code",
   "execution_count": 41,
   "id": "eb51ac75",
   "metadata": {},
   "outputs": [
    {
     "data": {
      "text/plain": [
       "False"
      ]
     },
     "execution_count": 41,
     "metadata": {},
     "output_type": "execute_result"
    }
   ],
   "source": [
    "def is_century_year(year):\n",
    "    \n",
    "    if year % 100 == 0:\n",
    "        return True\n",
    "    else:\n",
    "        return False\n",
    "is_century_year(2002)"
   ]
  },
  {
   "cell_type": "markdown",
   "id": "e17b56e2",
   "metadata": {},
   "source": [
    "#### 20. Write a Python program to determine if a given number is a perfect square using if-else."
   ]
  },
  {
   "cell_type": "code",
   "execution_count": 42,
   "id": "46c4951e",
   "metadata": {},
   "outputs": [
    {
     "name": "stdout",
     "output_type": "stream",
     "text": [
      "Enter a number: 6\n",
      "6 is not a perfect square.\n"
     ]
    }
   ],
   "source": [
    "def is_perfect_square(n):\n",
    "    if n < 0:\n",
    "        return False\n",
    "    elif n == 0:\n",
    "        return True\n",
    "    else:\n",
    "        i = 1\n",
    "        while i * i <= n:\n",
    "            if i * i == n:\n",
    "                return True\n",
    "            else:\n",
    "                i += 1\n",
    "        return False\n",
    "\n",
    "number = int(input(\"Enter a number: \"))\n",
    "if is_perfect_square(number):\n",
    "    print(number, \"is a perfect square.\")\n",
    "else:\n",
    "    print(number, \"is not a perfect square.\")"
   ]
  },
  {
   "cell_type": "markdown",
   "id": "3ff765cd",
   "metadata": {},
   "source": [
    "#### 21. Explain the purpose of the \"continue\" and \"break\" statements within if-else loops."
   ]
  },
  {
   "cell_type": "markdown",
   "id": "a73c5ce2",
   "metadata": {},
   "source": [
    "##### Answer:\n",
    "In Python, the break and continue statements are used to control the flow of loops.\n",
    "\n",
    "##### break:\n",
    "The break statement is used to terminate a loop immediately when it is encountered. It is usually used with decision-making statements such as if, else, and elif. When the condition specified in the decision-making statement is met, the loop is terminated. The syntax of the break statement is:\n",
    "while True:\n",
    "    if condition:\n",
    "        break\n",
    "##### continue:\n",
    "The continue statement, on the other hand, is used to skip the current iteration of a loop and move on to the next iteration. It is also usually used with decision-making statements such as if, else, and elif. When the condition specified in the decision-making statement is met, the current iteration of the loop is skipped. The syntax of the continue statement is:\n",
    "while True:\n",
    "    if condition:\n",
    "        continue\n"
   ]
  },
  {
   "cell_type": "code",
   "execution_count": 43,
   "id": "e1e63bf1",
   "metadata": {},
   "outputs": [
    {
     "name": "stdout",
     "output_type": "stream",
     "text": [
      "1 2 3 4 6 7 "
     ]
    }
   ],
   "source": [
    "def example1():\n",
    "    for i in range(1, 11):\n",
    "        if i == 5:\n",
    "            continue\n",
    "        elif i == 8:\n",
    "            break\n",
    "        print(i, end = \" \")\n",
    "example1()"
   ]
  },
  {
   "cell_type": "markdown",
   "id": "3d73492e",
   "metadata": {},
   "source": [
    "#### 22. Create a Python program that calculates the BMI (Body Mass Index) of a person based on their weight and height using if-else."
   ]
  },
  {
   "cell_type": "code",
   "execution_count": 44,
   "id": "32365841",
   "metadata": {},
   "outputs": [
    {
     "name": "stdout",
     "output_type": "stream",
     "text": [
      "Enter your weight in kg: 90\n",
      "Enter your height in meters: 1.8\n",
      "Your BMI is 27.78. You are overweight.\n"
     ]
    }
   ],
   "source": [
    "def bmi(weight, height):\n",
    "    bmi = weight / (height ** 2)\n",
    "\n",
    "    if bmi < 18.5:\n",
    "        return \"Your BMI is \" + str(round(bmi, 2)) + \". You are underweight.\"\n",
    "    elif bmi < 25:\n",
    "        return \"Your BMI is \" + str(round(bmi, 2)) + \". You are normal.\"\n",
    "    elif bmi < 30:\n",
    "        return \"Your BMI is \" + str(round(bmi, 2))+ \". You are overweight.\"\n",
    "    else:\n",
    "        \n",
    "        return \"Your BMI is \" + str(round(bmi, 2))+ \"You are obese.\"\n",
    "    \n",
    "weight = float(input(\"Enter your weight in kg: \"))\n",
    "height = float(input(\"Enter your height in meters: \"))\n",
    "print(bmi(weight, height))"
   ]
  },
  {
   "cell_type": "markdown",
   "id": "e43ee91b",
   "metadata": {},
   "source": [
    "#### 23. How can you use the \"filter()\" function with if-else statements to filter elements from a list?"
   ]
  },
  {
   "cell_type": "markdown",
   "id": "e9b2e539",
   "metadata": {},
   "source": [
    "##### Answer:\n",
    "\n",
    "The filter() function in Python is used to filter out elements from a list based on a condition. The condition is specified in the form of a function that returns a boolean value. The filter() function then applies this function to each element of the list and returns a new list containing only those elements for which the function returns True.\n",
    "\n",
    "To use an if-else statement with the filter() function, we can define a lambda function that contains an if-else statement. The if-else statement should return True if the element should be included in the filtered list, and False otherwise."
   ]
  },
  {
   "cell_type": "code",
   "execution_count": 45,
   "id": "458cd464",
   "metadata": {},
   "outputs": [
    {
     "name": "stdout",
     "output_type": "stream",
     "text": [
      "[2, 4]\n"
     ]
    }
   ],
   "source": [
    "def example_filter():\n",
    "    my_list = [1, 2, 3, 4, 5]\n",
    "    filtered_list = filter(lambda x: True if x % 2 == 0 else False, my_list)\n",
    "    print(list(filtered_list)) # Output: [2, 4]\n",
    "example_filter()"
   ]
  },
  {
   "cell_type": "markdown",
   "id": "ae49b863",
   "metadata": {},
   "source": [
    "#### 24. Write a Python program to determine if a given number is prime or not using if-else."
   ]
  },
  {
   "cell_type": "code",
   "execution_count": 46,
   "id": "b7b8e32f",
   "metadata": {},
   "outputs": [
    {
     "name": "stdout",
     "output_type": "stream",
     "text": [
      "Enter a year: 2004\n",
      "2004 is not a prime number.\n"
     ]
    }
   ],
   "source": [
    "def is_prime(n):\n",
    "    if n <= 1:\n",
    "        return False\n",
    "    elif n <= 3:\n",
    "        return True\n",
    "    elif n % 2 == 0 or n % 3 == 0:\n",
    "        return False\n",
    "    i = 5\n",
    "    while i * i <= n:\n",
    "        if n % i == 0 or n % (i + 2) == 0:\n",
    "            return False\n",
    "        i += 6\n",
    "    return True\n",
    "\n",
    "year = int(input(\"Enter a year: \"))\n",
    "if is_prime(year):\n",
    "    print(year, \" is a prime number.\")\n",
    "else:\n",
    "    print(year, \"is not a prime number.\")"
   ]
  },
  {
   "cell_type": "markdown",
   "id": "476d183f",
   "metadata": {},
   "source": [
    "### Map Function: "
   ]
  },
  {
   "cell_type": "markdown",
   "id": "7cbbb28f",
   "metadata": {},
   "source": [
    "#### 1. Explain the purpose of the `map()` function in Python and provide an example of how it can be used to apply a function to each element of an iterable."
   ]
  },
  {
   "cell_type": "markdown",
   "id": "09dc8f58",
   "metadata": {},
   "source": [
    "##### Answer:\n",
    "\n",
    "map() is a built-in function in Python that is used to apply a function to each element of an iterable and returns a new iterable with the results. The general syntax for map() is:\n",
    "\n",
    "##### Syntax:\n",
    "map(function, iterable, ...)\n",
    "\n",
    "Here, function is the function to be applied to each element of the iterable. The iterable can be a list, tuple, set, or any other iterable object. The ... represents additional iterables that can be passed to the function."
   ]
  },
  {
   "cell_type": "code",
   "execution_count": 47,
   "id": "e05765f6",
   "metadata": {},
   "outputs": [
    {
     "name": "stdout",
     "output_type": "stream",
     "text": [
      "[1, 8, 27, 64, 125]\n"
     ]
    }
   ],
   "source": [
    "\"\"\"In this example, we define a function square() that takes a number as input and returns its square. We then create a \n",
    "   list of numbers and apply the square() function to each element of the list using the map() function. Finally, we \n",
    "   convert the result into a list using the list() function.\"\"\"\n",
    "\n",
    "def cube(x):\n",
    "    return x ** 3\n",
    "\n",
    "numbers = [1, 2, 3, 4, 5]\n",
    "cubes = list(map(cube, numbers))\n",
    "print(cubes) "
   ]
  },
  {
   "cell_type": "markdown",
   "id": "0a990b90",
   "metadata": {},
   "source": [
    "#### 2. Write a Python program that uses the `map()` function to square each element of a list of numbers."
   ]
  },
  {
   "cell_type": "code",
   "execution_count": 48,
   "id": "eb267c7d",
   "metadata": {},
   "outputs": [
    {
     "name": "stdout",
     "output_type": "stream",
     "text": [
      "[1, 4, 9, 16, 25]\n"
     ]
    }
   ],
   "source": [
    "def square(x):\n",
    "    return x ** 2\n",
    "\n",
    "numbers = [1, 2, 3, 4, 5]\n",
    "squares = list(map(square, numbers))\n",
    "print(squares) "
   ]
  },
  {
   "cell_type": "markdown",
   "id": "409e9945",
   "metadata": {},
   "source": [
    "#### 3. How does the `map()` function differ from a list comprehension in Python, and when would you choose one over the other?"
   ]
  },
  {
   "cell_type": "markdown",
   "id": "e6f9c53c",
   "metadata": {},
   "source": [
    "##### Anwer:\n",
    "\n",
    "##### map() function\n",
    "\n",
    "The map() function and list comprehensions are both powerful tools in Python for transforming data. They have similar purposes but differ in syntax and use cases.\n",
    "\n",
    "The map() function is used to apply a given function to each item of an iterable (e.g., a list, tuple) and returns a map object, which is an iterator of the results. It takes two parameters: the function to be applied and the iterable. Here’s an example:"
   ]
  },
  {
   "cell_type": "code",
   "execution_count": 49,
   "id": "59c2b856",
   "metadata": {},
   "outputs": [
    {
     "name": "stdout",
     "output_type": "stream",
     "text": [
      "[2, 4, 6, 8, 10]\n"
     ]
    }
   ],
   "source": [
    "def double(n):\n",
    "    return n * 2\n",
    "\n",
    "numbers = [1, 2, 3, 4, 5]\n",
    "result = map(double, numbers)\n",
    "print(list(result))  # Output: [2, 4, 6, 8, 10]"
   ]
  },
  {
   "cell_type": "markdown",
   "id": "980ea41b",
   "metadata": {},
   "source": [
    "##### List Comprehension: \n",
    "List Comprehensions provide a concise way to create lists based on existing lists or other iterables. They follow a mathematical set-builder notation and can include optional filtering conditions. \n",
    "Here’s an equivalent example using a list comprehension:\n",
    "\n"
   ]
  },
  {
   "cell_type": "code",
   "execution_count": 50,
   "id": "270cdad6",
   "metadata": {},
   "outputs": [
    {
     "name": "stdout",
     "output_type": "stream",
     "text": [
      "[2, 4, 6, 8, 10]\n"
     ]
    }
   ],
   "source": [
    "numbers = [1, 2, 3, 4, 5]\n",
    "result = [double(n) for n in numbers]\n",
    "print(result)  # Output: [2, 4, 6, 8, 10]"
   ]
  },
  {
   "cell_type": "markdown",
   "id": "c4692eda",
   "metadata": {},
   "source": [
    "###### When choosing between map() and list comprehensions, consider the following factors:\n",
    "\n",
    "###### Readability: \n",
    "List comprehensions are often more concise and easier to understand than map(), especially for simple transformations.\n",
    "###### Filtering: \n",
    "List comprehensions allow you to include filtering conditions (if statements) to selectively include or exclude items from the resulting list. This is not possible with map().\n",
    "##### Function availability:\n",
    "If you need to apply an existing function to each item in an iterable, map() can be more convenient as it doesn’t require defining a separate function or using lambda expressions.\n",
    "##### Performance: \n",
    "In terms of performance, list comprehensions are generally faster than map() when evaluating complex expressions or when a list of results is required. However, if you’re calling an already defined function multiple times, map() can be faster."
   ]
  },
  {
   "cell_type": "markdown",
   "id": "b6a31698",
   "metadata": {},
   "source": [
    "#### 4. Create a Python program that uses the `map()` function to convert a list of names to uppercase."
   ]
  },
  {
   "cell_type": "code",
   "execution_count": 51,
   "id": "e8df2336",
   "metadata": {},
   "outputs": [
    {
     "data": {
      "text/plain": [
       "['JOHN', 'JOE', 'JACOB', 'JOSE']"
      ]
     },
     "execution_count": 51,
     "metadata": {},
     "output_type": "execute_result"
    }
   ],
   "source": [
    "def to_uppercase(names):\n",
    "\n",
    "    # Use the map() function with the str.upper() method to convert each name to uppercase\n",
    "    upper_names = list(map(str.upper, names))\n",
    "\n",
    "    # Print the uppercase names\n",
    "    return upper_names\n",
    "# Define a list of names\n",
    "names = [\"john\", \"joe\", \"jacob\", \"jose\"]\n",
    "to_uppercase(names)"
   ]
  },
  {
   "cell_type": "markdown",
   "id": "cc94f4bb",
   "metadata": {},
   "source": [
    "#### 5. Write a Python program that uses the `map()` function to calculate the length of each word in a list of strings."
   ]
  },
  {
   "cell_type": "code",
   "execution_count": 52,
   "id": "f4bf5a71",
   "metadata": {},
   "outputs": [
    {
     "data": {
      "text/plain": [
       "[4, 6, 3, 5]"
      ]
     },
     "execution_count": 52,
     "metadata": {},
     "output_type": "execute_result"
    }
   ],
   "source": [
    "def len_string(lst):\n",
    "    \n",
    "    return list(map(len, lst))\n",
    "lst = [\"Word\", \"Python\", \"Ace\", \"Coder\"]\n",
    "len_string(lst)"
   ]
  },
  {
   "cell_type": "markdown",
   "id": "2e5d49c0",
   "metadata": {},
   "source": [
    "#### 6. How can you use the `map()` function to apply a custom function to elements of multiple lists simultaneously in Python?"
   ]
  },
  {
   "cell_type": "markdown",
   "id": "c10972e5",
   "metadata": {},
   "source": [
    "To apply a custom function to elements of multiple lists simultaneously in Python, we can use the map() function along with the zip() function.\n",
    "\n",
    "###### zip() function\n",
    "The zip() function takes multiple iterables as arguments and returns an iterator of tuples, where each tuple contains the corresponding elements from all the iterables.\n",
    "\n",
    "Here’s an example that demonstrates how to use the map() function with zip() to apply a custom function to elements of multiple lists simultaneously:"
   ]
  },
  {
   "cell_type": "code",
   "execution_count": 53,
   "id": "566876fa",
   "metadata": {},
   "outputs": [
    {
     "name": "stdout",
     "output_type": "stream",
     "text": [
      "[6, 15, 24]\n"
     ]
    }
   ],
   "source": [
    "def custom_function(x, y, z):\n",
    "    \n",
    "    return x + y + z\n",
    "\n",
    "list1 = [1, 2, 3]\n",
    "list2 = [4, 5, 6]\n",
    "list3 = [7, 8, 9]\n",
    "\n",
    "result = list(map(custom_function, *zip(list1, list2, list3)))\n",
    "print(result)"
   ]
  },
  {
   "cell_type": "markdown",
   "id": "87ad67e6",
   "metadata": {},
   "source": [
    "#### 7. Create a Python program that uses `map()` to convert a list of temperatures from Celsius to Fahrenheit."
   ]
  },
  {
   "cell_type": "code",
   "execution_count": 54,
   "id": "9738a80c",
   "metadata": {},
   "outputs": [
    {
     "data": {
      "text/plain": [
       "[32.0, 59.0, 50.0]"
      ]
     },
     "execution_count": 54,
     "metadata": {},
     "output_type": "execute_result"
    }
   ],
   "source": [
    "def celsius_to_fahrenheit(celsius):\n",
    "    \n",
    "    return ((9/5)*celsius + 32)\n",
    "celsius = [0,15,10]\n",
    "\n",
    "list(map(celsius_to_fahrenheit, celsius))"
   ]
  },
  {
   "cell_type": "markdown",
   "id": "f9d79c16",
   "metadata": {},
   "source": [
    "#### 8 Write a Python program that uses the `map()` function to round each element of a list of floating-point numbers to the nearest integer."
   ]
  },
  {
   "cell_type": "code",
   "execution_count": 55,
   "id": "e509152f",
   "metadata": {},
   "outputs": [
    {
     "data": {
      "text/plain": [
       "[1, 2, 7]"
      ]
     },
     "execution_count": 55,
     "metadata": {},
     "output_type": "execute_result"
    }
   ],
   "source": [
    "def round_to_int(num):\n",
    "    \n",
    "    return round(num)\n",
    "nums = [1.2, 2.3, 6.95]\n",
    "list(map(round_to_int, nums))"
   ]
  },
  {
   "cell_type": "markdown",
   "id": "1abedb16",
   "metadata": {},
   "source": [
    "### Reduce() Function"
   ]
  },
  {
   "cell_type": "markdown",
   "id": "a07cb40c",
   "metadata": {},
   "source": [
    "#### 1. What is the `reduce()` function in Python, and what module should you import to use it? Provide an example of its basic usage."
   ]
  },
  {
   "cell_type": "markdown",
   "id": "c2322803",
   "metadata": {},
   "source": [
    "The reduce() function in Python is a function that applies a specific function passed in its argument to all of the list elements mentioned in the sequence passed along. This function is defined in the `functools` module."
   ]
  },
  {
   "cell_type": "code",
   "execution_count": 56,
   "id": "fb2c28b3",
   "metadata": {},
   "outputs": [
    {
     "name": "stdout",
     "output_type": "stream",
     "text": [
      "120\n"
     ]
    }
   ],
   "source": [
    "from functools import reduce\n",
    "\n",
    "# Define a list\n",
    "numbers = [1, 2, 3, 4, 5]\n",
    "\n",
    "# Define a function to apply\n",
    "def multiply(x, y):\n",
    "    return x * y\n",
    "\n",
    "# Use reduce to apply the function to the list\n",
    "product = reduce(multiply, numbers)\n",
    "\n",
    "print(product)  # Output: 120"
   ]
  },
  {
   "cell_type": "markdown",
   "id": "685a2b94",
   "metadata": {},
   "source": [
    "#### 2. Write a Python program that uses the `reduce()` function to find the product of all elements in a list."
   ]
  },
  {
   "cell_type": "code",
   "execution_count": 57,
   "id": "8a3fc688",
   "metadata": {},
   "outputs": [
    {
     "name": "stdout",
     "output_type": "stream",
     "text": [
      "120\n"
     ]
    }
   ],
   "source": [
    "from functools import reduce\n",
    "\n",
    "# Define a list\n",
    "numbers = [1, 2, 3, 4, 5]\n",
    "\n",
    "# Define a function to apply\n",
    "def multiply(x, y):\n",
    "    return x * y\n",
    "\n",
    "# Use reduce to apply the function to the list\n",
    "product = reduce(multiply, numbers)\n",
    "\n",
    "print(product)  # Output: 120"
   ]
  },
  {
   "cell_type": "markdown",
   "id": "8b553cc9",
   "metadata": {},
   "source": [
    "#### 3. Create a Python program that uses `reduce()` to find the maximum element in a list of numbers."
   ]
  },
  {
   "cell_type": "code",
   "execution_count": 58,
   "id": "515f10ff",
   "metadata": {},
   "outputs": [
    {
     "name": "stdout",
     "output_type": "stream",
     "text": [
      "The maximum number in the list is: 10\n"
     ]
    }
   ],
   "source": [
    "from functools import reduce\n",
    "\n",
    "def find_max(numbers):\n",
    "    return reduce(lambda x, y: x if x > y else y, numbers)\n",
    "\n",
    "numbers = [1,2,9,8,6,10]\n",
    "max_number = find_max(numbers)\n",
    "\n",
    "print(\"The maximum number in the list is:\",max_number)"
   ]
  },
  {
   "cell_type": "markdown",
   "id": "f12036ec",
   "metadata": {},
   "source": [
    "#### 4. How can you use the `reduce()` function to concatenate a list of strings into a single string?"
   ]
  },
  {
   "cell_type": "code",
   "execution_count": 59,
   "id": "c293e9a7",
   "metadata": {},
   "outputs": [
    {
     "name": "stdout",
     "output_type": "stream",
     "text": [
      "ABC\n"
     ]
    }
   ],
   "source": [
    "from functools import reduce\n",
    "def concatenate(str):\n",
    "    return reduce(lambda x,y: x+y, str)\n",
    "list_of_strings= [\"A\", \"B\", \"C\"]\n",
    "string = concatenate(list_of_strings)\n",
    "print(string)"
   ]
  },
  {
   "cell_type": "markdown",
   "id": "ec3647e1",
   "metadata": {},
   "source": [
    "#### 5. Write a Python program that calculates the factorial of a number using the `reduce()` function."
   ]
  },
  {
   "cell_type": "code",
   "execution_count": 60,
   "id": "c357bc80",
   "metadata": {},
   "outputs": [
    {
     "data": {
      "text/plain": [
       "120"
      ]
     },
     "execution_count": 60,
     "metadata": {},
     "output_type": "execute_result"
    }
   ],
   "source": [
    "from functools import reduce\n",
    "def factorial(num):\n",
    "    return reduce(lambda x,y:x * y, range(1,num+1))\n",
    "factorial(5)"
   ]
  },
  {
   "cell_type": "markdown",
   "id": "4442e8a4",
   "metadata": {},
   "source": [
    "#### 6. Create a Python program that uses `reduce()` to find the GCD (Greatest Common Divisor) of a list of numbers."
   ]
  },
  {
   "cell_type": "code",
   "execution_count": 61,
   "id": "20ecd1a7",
   "metadata": {},
   "outputs": [
    {
     "data": {
      "text/plain": [
       "7"
      ]
     },
     "execution_count": 61,
     "metadata": {},
     "output_type": "execute_result"
    }
   ],
   "source": [
    "from functools import reduce\n",
    "def gcd(numbers):\n",
    "    gcd = lambda a, b: a if b == 0 else gcd(b, a % b)\n",
    "    return reduce(gcd, numbers)\n",
    "gcd([7,14,21,49])"
   ]
  },
  {
   "cell_type": "markdown",
   "id": "d0ac562e",
   "metadata": {},
   "source": [
    "#### 7. Write a Python program that uses the `reduce()` function to find the sum of the digits of a given number."
   ]
  },
  {
   "cell_type": "code",
   "execution_count": 62,
   "id": "6a4ecd7e",
   "metadata": {},
   "outputs": [
    {
     "name": "stdout",
     "output_type": "stream",
     "text": [
      "6\n"
     ]
    }
   ],
   "source": [
    "from functools import reduce\n",
    "\n",
    "def sum_of_digits(number):\n",
    "    # Convert the number to a list of digits\n",
    "    digits = [int(digit) for digit in str(number)]\n",
    "    \n",
    "    # Use reduce to sum the digits\n",
    "    sum_digits = reduce(lambda x, y: x + y, digits)\n",
    "    \n",
    "    return sum_digits\n",
    "\n",
    "print(sum_of_digits(123))       "
   ]
  },
  {
   "cell_type": "markdown",
   "id": "bf36f4fa",
   "metadata": {},
   "source": [
    "### Filter() Function"
   ]
  },
  {
   "cell_type": "markdown",
   "id": "8584818a",
   "metadata": {},
   "source": [
    "#### 1. Explain the purpose of the `filter()` function in Python and provide an example of how it can be used to filter elements from an iterable."
   ]
  },
  {
   "cell_type": "markdown",
   "id": "3d504e5c",
   "metadata": {},
   "source": [
    "The filter() function in Python is a built-in function that constructs an iterator from elements of an iterable for which a function returns true. In other words, it filters the given iterable with the help of a function that tests each element in the iterable to be true or not."
   ]
  },
  {
   "cell_type": "code",
   "execution_count": 63,
   "id": "69807d24",
   "metadata": {},
   "outputs": [
    {
     "name": "stdout",
     "output_type": "stream",
     "text": [
      "[2, 4, 6]\n"
     ]
    }
   ],
   "source": [
    "def is_even(num):\n",
    "    return num % 2 == 0\n",
    "\n",
    "# Create a list of numbers\n",
    "numbers = [1, 2, 3, 4, 5, 6]\n",
    "\n",
    "# Use the filter() function to filter out the even numbers\n",
    "even_numbers = filter(is_even, numbers)\n",
    "\n",
    "# Convert the result to a list and print it\n",
    "print(list(even_numbers))"
   ]
  },
  {
   "cell_type": "markdown",
   "id": "bdd7911b",
   "metadata": {},
   "source": [
    "#### 2. Write a Python program that uses the `filter()` function to select even numbers from a list of integers."
   ]
  },
  {
   "cell_type": "code",
   "execution_count": 64,
   "id": "d0dcc7ac",
   "metadata": {},
   "outputs": [
    {
     "name": "stdout",
     "output_type": "stream",
     "text": [
      "[2, 4, 6]\n"
     ]
    }
   ],
   "source": [
    "# Define a function to check if a number is even\n",
    "def is_even(num):\n",
    "    return num % 2 == 0\n",
    "\n",
    "# Create a list of numbers\n",
    "numbers = [1, 2, 3, 4, 5, 6]\n",
    "\n",
    "# Use the filter() function to filter out the even numbers\n",
    "even_numbers = filter(is_even, numbers)\n",
    "\n",
    "# Convert the result to a list and print it\n",
    "print(list(even_numbers))"
   ]
  },
  {
   "cell_type": "markdown",
   "id": "5de5bd6c",
   "metadata": {},
   "source": [
    "#### 3. Create a Python program that uses the `filter()` function to select names that start with a specific letter from a list of strings."
   ]
  },
  {
   "cell_type": "code",
   "execution_count": 65,
   "id": "dc82a352",
   "metadata": {},
   "outputs": [
    {
     "name": "stdout",
     "output_type": "stream",
     "text": [
      "['Jerry', 'John']\n"
     ]
    }
   ],
   "source": [
    "# Function to filter names\n",
    "def starts_with(letter):\n",
    "    return lambda name: name.startswith(letter)\n",
    "\n",
    "# List of names\n",
    "names = [\"Albert\", \"Jerry\", \"Charlie\", \"John\"]\n",
    "\n",
    "# Letter to filter by\n",
    "letter = \"J\"\n",
    "\n",
    "# Use filter() function\n",
    "filtered_names = filter(starts_with(letter), names)\n",
    "\n",
    "# Print filtered names\n",
    "print(list(filtered_names))"
   ]
  },
  {
   "cell_type": "markdown",
   "id": "69419828",
   "metadata": {},
   "source": [
    "#### 4. Write a Python program that uses the `filter()` function to select prime numbers from a list of integers."
   ]
  },
  {
   "cell_type": "code",
   "execution_count": 66,
   "id": "83b73fef",
   "metadata": {},
   "outputs": [
    {
     "name": "stdout",
     "output_type": "stream",
     "text": [
      "[2, 3, 5]\n"
     ]
    }
   ],
   "source": [
    "def is_prime(num):\n",
    "    \n",
    "    if num == 0 or num ==1:\n",
    "        return False\n",
    "    else:\n",
    "        for i in range(2,num):\n",
    "            if num % i ==0:\n",
    "                return False\n",
    "    return True\n",
    "prime_numbers = filter(is_prime, [1,2,3,4,5,6])\n",
    "print(list(prime_numbers))"
   ]
  },
  {
   "cell_type": "markdown",
   "id": "7d7341c4",
   "metadata": {},
   "source": [
    "#### 5. How can you use the `filter()` function to remove None values from a list in Python?"
   ]
  },
  {
   "cell_type": "code",
   "execution_count": 67,
   "id": "6124b0e5",
   "metadata": {},
   "outputs": [
    {
     "name": "stdout",
     "output_type": "stream",
     "text": [
      "[1, 2, 3, 4, 'abc', 123]\n"
     ]
    }
   ],
   "source": [
    "def is_not_None(element):\n",
    "    return element != None\n",
    "filtered_non_None = filter(is_not_None, [1,2,3,4, None,\"abc\", 123, None])\n",
    "print(list(filtered_non_None))"
   ]
  },
  {
   "cell_type": "markdown",
   "id": "93e36fdb",
   "metadata": {},
   "source": [
    "#### 6. Create a Python program that uses `filter()` to select words longer than a certain length from a list of strings."
   ]
  },
  {
   "cell_type": "code",
   "execution_count": 68,
   "id": "c44ae16c",
   "metadata": {},
   "outputs": [
    {
     "name": "stdout",
     "output_type": "stream",
     "text": [
      "['Jerry', 'David']\n"
     ]
    }
   ],
   "source": [
    "def strings_longer_than_num(num):\n",
    "    return lambda x: len(x)>=num\n",
    "\n",
    "# Let Minimum word length = 4\n",
    "num = 4\n",
    "\n",
    "filtered_strings = filter(strings_longer_than_num(num), [\"Abd\", \"Tom\", \"Jerry\", \"David\"])\n",
    "print(list(filtered_strings))"
   ]
  },
  {
   "cell_type": "markdown",
   "id": "fcd102d1",
   "metadata": {},
   "source": [
    "#### 7. Write a Python program that uses the `filter()` function to select elements greater than a specified threshold from a list of values."
   ]
  },
  {
   "cell_type": "code",
   "execution_count": 69,
   "id": "c425a702",
   "metadata": {},
   "outputs": [
    {
     "name": "stdout",
     "output_type": "stream",
     "text": [
      "[6, 10]\n"
     ]
    }
   ],
   "source": [
    "def values_greater_than_threshold(threshold):\n",
    "    return lambda x: x>=threshold\n",
    "threshold = 5\n",
    "filtered_values = filter(values_greater_than_threshold(threshold), [1,6,2,10])\n",
    "print(list(filtered_values))"
   ]
  },
  {
   "cell_type": "markdown",
   "id": "42989d39",
   "metadata": {},
   "source": [
    "### Recursion"
   ]
  },
  {
   "cell_type": "markdown",
   "id": "c19351f7",
   "metadata": {},
   "source": [
    "#### 1. Explain the concept of recursion in Python. How does it differ from iteration?"
   ]
  },
  {
   "cell_type": "markdown",
   "id": "8b375125",
   "metadata": {},
   "source": [
    "In Python, recursion is a process in which a function calls itself as a subroutine. This allows the function to be repeated several times, as it can call itself during its execution.\n",
    "\n",
    "On the other hand, iteration is a process in which a set of instructions or structures are repeatedly executed until some condition is met. This is typically accomplished with loops, such as `for` and `while` loops."
   ]
  },
  {
   "cell_type": "markdown",
   "id": "70b2f036",
   "metadata": {},
   "source": [
    "#### 2. Write a Python program to calculate the factorial of a number using recursion."
   ]
  },
  {
   "cell_type": "code",
   "execution_count": 70,
   "id": "dfcbb3df",
   "metadata": {},
   "outputs": [
    {
     "name": "stdout",
     "output_type": "stream",
     "text": [
      "120\n"
     ]
    }
   ],
   "source": [
    "def factorial(n):\n",
    "    if n == 0:\n",
    "        return 1\n",
    "    else:\n",
    "        return n * factorial(n-1)\n",
    "\n",
    "# Test the function\n",
    "print(factorial(5))"
   ]
  },
  {
   "cell_type": "markdown",
   "id": "1421d6ff",
   "metadata": {},
   "source": [
    "#### 3. Create a recursive Python function to find the nth Fibonacci number."
   ]
  },
  {
   "cell_type": "code",
   "execution_count": 71,
   "id": "067097e9",
   "metadata": {},
   "outputs": [
    {
     "data": {
      "text/plain": [
       "2"
      ]
     },
     "execution_count": 71,
     "metadata": {},
     "output_type": "execute_result"
    }
   ],
   "source": [
    "def fibonacci(n):\n",
    "    if n <= 0:\n",
    "        return \"Input should be a positive integer.\"\n",
    "    elif n == 1:\n",
    "        return 0\n",
    "    elif n == 2:\n",
    "        return 1\n",
    "    else:\n",
    "        return fibonacci(n-1) + fibonacci(n-2)\n",
    "fibonacci(4)"
   ]
  },
  {
   "cell_type": "markdown",
   "id": "c6dcb86e",
   "metadata": {},
   "source": [
    "#### 4. Write a recursive Python function to calculate the sum of all elements in a list."
   ]
  },
  {
   "cell_type": "code",
   "execution_count": 72,
   "id": "a3e9adc8",
   "metadata": {},
   "outputs": [
    {
     "name": "stdout",
     "output_type": "stream",
     "text": [
      "15\n"
     ]
    }
   ],
   "source": [
    "def sum_list(lst):\n",
    "    if len(lst) == 0:\n",
    "        return 0\n",
    "    else:\n",
    "        return lst[0] + sum_list(lst[1:])\n",
    "numbers = [1, 2, 3, 4, 5]\n",
    "print(sum_list(numbers))"
   ]
  },
  {
   "cell_type": "markdown",
   "id": "b791c472",
   "metadata": {},
   "source": [
    "#### 5. How can you prevent a recursive function from running indefinitely, causing a stack overflow error?"
   ]
  },
  {
   "cell_type": "markdown",
   "id": "c3b2fd95",
   "metadata": {},
   "source": [
    "To prevent a recursive function from running indefinitely and causing a stack overflow error, you can use the following strategies:\n",
    "\n",
    "***1. Base Case***: Ensure that your recursive function has a base case — an input for which the function produces a result without making a further recursive call. This is the condition that stops the recursion.\n",
    "\n",
    "***2.Progression towards the Base Case***: Make sure that each recursive call brings you closer to the base case. The arguments of each recursive call should progress towards the base case.\n",
    "\n",
    "***3. Proper Return***: Ensure that the recursive calls are used in the return statement of your function, so the function works its way back up once it hits the base case.\n",
    "\n",
    "***4. Memoization***: This is a technique where you store the results of expensive function calls and reuse them when the same inputs occur again. This can be particularly useful for recursive functions with overlapping subproblems."
   ]
  },
  {
   "cell_type": "markdown",
   "id": "f7a1801c",
   "metadata": {},
   "source": [
    "#### 6. Create a recursive Python function to find the greatest common divisor (GCD) of two numbers using the Euclidean algorithm."
   ]
  },
  {
   "cell_type": "code",
   "execution_count": 73,
   "id": "048c4b8e",
   "metadata": {},
   "outputs": [
    {
     "data": {
      "text/plain": [
       "2"
      ]
     },
     "execution_count": 73,
     "metadata": {},
     "output_type": "execute_result"
    }
   ],
   "source": [
    "def gcd(a, b):\n",
    "    if b == 0:\n",
    "        return a\n",
    "    else:\n",
    "        return gcd(b, a % b)\n",
    "gcd(2,64)"
   ]
  },
  {
   "cell_type": "markdown",
   "id": "81c2447e",
   "metadata": {},
   "source": [
    "#### 7. Write a recursive Python function to reverse a string."
   ]
  },
  {
   "cell_type": "code",
   "execution_count": 74,
   "id": "c35e65d1",
   "metadata": {},
   "outputs": [
    {
     "data": {
      "text/plain": [
       "'DCBA'"
      ]
     },
     "execution_count": 74,
     "metadata": {},
     "output_type": "execute_result"
    }
   ],
   "source": [
    "def reverse_string(s):\n",
    "    if len(s) == 0:\n",
    "        return s\n",
    "    else:\n",
    "        return reverse_string(s[1:]) + s[0]\n",
    "reverse_string(\"ABCD\")"
   ]
  },
  {
   "cell_type": "markdown",
   "id": "5cec4ea9",
   "metadata": {},
   "source": [
    "#### 8. Create a recursive Python function to calculate the power of a number (x^n)."
   ]
  },
  {
   "cell_type": "code",
   "execution_count": 75,
   "id": "6afec9bc",
   "metadata": {},
   "outputs": [
    {
     "data": {
      "text/plain": [
       "16"
      ]
     },
     "execution_count": 75,
     "metadata": {},
     "output_type": "execute_result"
    }
   ],
   "source": [
    "def power(x, n):\n",
    "    # Base case: x^0 = 1\n",
    "    if n == 0:\n",
    "        return 1\n",
    "    # Recursive case: x^n = x * x^(n-1)\n",
    "    else:\n",
    "        return x * power(x, n-1)\n",
    "power(2,4)"
   ]
  },
  {
   "cell_type": "markdown",
   "id": "f34c3bcd",
   "metadata": {},
   "source": [
    "#### 9. Write a recursive Python function to find all permutations of a given string."
   ]
  },
  {
   "cell_type": "code",
   "execution_count": 76,
   "id": "95750e24",
   "metadata": {},
   "outputs": [
    {
     "name": "stdout",
     "output_type": "stream",
     "text": [
      "ABC\n",
      "ACB\n",
      "BAC\n",
      "BCA\n",
      "CBA\n",
      "CAB\n"
     ]
    }
   ],
   "source": [
    "def permute(data, i, length): \n",
    "    if i==length: \n",
    "        print(''.join(data))\n",
    "    else: \n",
    "        for j in range(i,length): \n",
    "            data[i], data[j] = data[j], data[i] \n",
    "            permute(data, i+1, length) \n",
    "            data[i], data[j] = data[j], data[i]  \n",
    "\n",
    "string = \"ABC\"\n",
    "n = len(string) \n",
    "data = list(string) \n",
    "permute(data, 0, n)"
   ]
  },
  {
   "cell_type": "markdown",
   "id": "4ae49bad",
   "metadata": {},
   "source": [
    "#### 10. Write a recursive Python function to check if a string is a palindrome."
   ]
  },
  {
   "cell_type": "code",
   "execution_count": 77,
   "id": "c82e9b99",
   "metadata": {},
   "outputs": [
    {
     "name": "stdout",
     "output_type": "stream",
     "text": [
      "True\n",
      "False\n"
     ]
    }
   ],
   "source": [
    "def is_palindrome(s):\n",
    "    # Base case: if the string is empty or has one character, it is a palindrome\n",
    "    if len(s) <= 1:\n",
    "        return True\n",
    "    # Recursive case: check if the first and last characters are the same and if the substring in between is a palindrome\n",
    "    else:\n",
    "        return s[0] == s[-1] and is_palindrome(s[1:-1])\n",
    "print(is_palindrome('ABA'))  # Output: True\n",
    "print(is_palindrome('ABC'))  # Output: False"
   ]
  },
  {
   "cell_type": "markdown",
   "id": "a13acfb3",
   "metadata": {},
   "source": [
    "#### 11. Create a recursive Python function to generate all possible combinations of a list of elements."
   ]
  },
  {
   "cell_type": "code",
   "execution_count": 78,
   "id": "96c38141",
   "metadata": {},
   "outputs": [
    {
     "name": "stdout",
     "output_type": "stream",
     "text": [
      "[[], [3], [2], [2, 3], [1], [1, 3], [1, 2], [1, 2, 3]]\n"
     ]
    }
   ],
   "source": [
    "def generate_combinations(lst):\n",
    "    # Base case: empty list\n",
    "    if len(lst) == 0:\n",
    "        return [[]]\n",
    "\n",
    "    # Recursive case: non-empty list\n",
    "    else:\n",
    "        # Separate the first element from the rest of the list\n",
    "        first = lst[0]\n",
    "        rest = lst[1:]\n",
    "\n",
    "        # Generate all combinations of the rest of the list\n",
    "        rest_combinations = generate_combinations(rest)\n",
    "\n",
    "        # Add the first element to each combination of the rest of the list\n",
    "        with_first = [[first] + combination for combination in rest_combinations]\n",
    "\n",
    "        # Return all combinations\n",
    "        return rest_combinations + with_first\n",
    "\n",
    "# Test the function\n",
    "print(generate_combinations([1, 2, 3]))"
   ]
  },
  {
   "cell_type": "markdown",
   "id": "d5ab302e",
   "metadata": {},
   "source": [
    "### Basics of Functions"
   ]
  },
  {
   "cell_type": "markdown",
   "id": "53d9dc4b",
   "metadata": {},
   "source": [
    "#### 1. What is a function in Python, and why is it used?\n"
   ]
  },
  {
   "cell_type": "markdown",
   "id": "3f636737",
   "metadata": {},
   "source": [
    "In Python, a function is a block of reusable code that performs a specific task. Functions provide better modularity for your application and allow for high reusability of code.\n",
    "\n",
    "Functions are used for several reasons:\n",
    "\n",
    "**1. `Code reusability`**: Once a function is defined, it can be used over and over and over again. This saves you from writing the same code multiple times.\n",
    "\n",
    "**2. `Code organization`**: Functions allow you to segment your code into manageable blocks, each performing a specific task.\n",
    "\n",
    "**3. `Code maintainability`**: It’s easier to update the functionality of one function used in multiple places than to update code scattered all over your program."
   ]
  },
  {
   "cell_type": "markdown",
   "id": "c7d70c6d",
   "metadata": {},
   "source": [
    "#### 2. How do you define a function in Python? Provide an example."
   ]
  },
  {
   "cell_type": "markdown",
   "id": "f1a28951",
   "metadata": {},
   "source": [
    "In Python, a function is defined using the def keyword.\n",
    "\n",
    "Here’s an example of a simple function that adds two numbers:"
   ]
  },
  {
   "cell_type": "code",
   "execution_count": 79,
   "id": "c0c43860",
   "metadata": {},
   "outputs": [
    {
     "data": {
      "text/plain": [
       "3"
      ]
     },
     "execution_count": 79,
     "metadata": {},
     "output_type": "execute_result"
    }
   ],
   "source": [
    "def add_numbers(num1, num2):\n",
    "    return num1 + num2\n",
    "add_numbers(1,2)"
   ]
  },
  {
   "cell_type": "markdown",
   "id": "b457c132",
   "metadata": {},
   "source": [
    "#### 3. Explain the difference between a function definition and a function call."
   ]
  },
  {
   "cell_type": "markdown",
   "id": "8411d1da",
   "metadata": {},
   "source": [
    "In programming, a function definition and a function call are two fundamental concepts that work hand in hand.\n",
    "\n",
    "**`Function Definition`**: This is where you specify what a function does. It includes the name of the function, parameters it might accept, and the sequence of statements that are executed when the function is called. Here’s an example in Python:"
   ]
  },
  {
   "cell_type": "code",
   "execution_count": 80,
   "id": "13baba7e",
   "metadata": {},
   "outputs": [],
   "source": [
    "def greet(name):\n",
    "    return \"Hello, \" + name"
   ]
  },
  {
   "cell_type": "markdown",
   "id": "f148a131",
   "metadata": {},
   "source": [
    "**`Function Call`**: This is how you execute or invoke the function that you’ve defined. You call a function by using its name followed by parentheses () enclosing any arguments that the function requires. Here’s how you would call the greet function:"
   ]
  },
  {
   "cell_type": "code",
   "execution_count": 81,
   "id": "dab3218e",
   "metadata": {},
   "outputs": [
    {
     "name": "stdout",
     "output_type": "stream",
     "text": [
      "Hello, Alice\n"
     ]
    }
   ],
   "source": [
    "message = greet(\"Alice\")\n",
    "print(message)  # Outputs: Hello, Alice"
   ]
  },
  {
   "cell_type": "markdown",
   "id": "8be860d3",
   "metadata": {},
   "source": [
    "#### 4. Write a Python program that defines a function to calculate the sum of two numbers and then calls the function."
   ]
  },
  {
   "cell_type": "code",
   "execution_count": 82,
   "id": "5771e79e",
   "metadata": {},
   "outputs": [
    {
     "data": {
      "text/plain": [
       "12"
      ]
     },
     "execution_count": 82,
     "metadata": {},
     "output_type": "execute_result"
    }
   ],
   "source": [
    "# Function Definition\n",
    "def sum_total(num1, num2):\n",
    "    sum_total = num1 + num2\n",
    "    return sum_total\n",
    "\n",
    "# Function Call\n",
    "sum_total(5,7)"
   ]
  },
  {
   "cell_type": "markdown",
   "id": "4f1fbec9",
   "metadata": {},
   "source": [
    "#### 5. What is a function signature, and what information does it typically include?"
   ]
  },
  {
   "cell_type": "markdown",
   "id": "d2233b88",
   "metadata": {},
   "source": [
    "A function signature, also known as a method signature in object-oriented programming, is a part of the function definition that specifies the function’s name, its parameters, and their types. It typically includes the following information:\n",
    "\n",
    "**`Function Name`**: The unique identifier used to call the function.\n",
    "\n",
    "**`Parameter List`**: The list of input values that the function will use to perform its task. Each parameter in the list includes its type and name.\n",
    "\n",
    "**`Return Type`**: The type of value that the function will return after it has completed its task.\n",
    "\n",
    "Here’s an example of a function signature in Python:"
   ]
  },
  {
   "cell_type": "markdown",
   "id": "cf8f8447",
   "metadata": {},
   "source": [
    "In the above example, add_numbers is the function name, (num1: int, num2: int) is the parameter list with two parameters\n",
    "   of type int, and int after the -> is the return type indicating that this function will return an integer."
   ]
  },
  {
   "cell_type": "markdown",
   "id": "55d49cf3",
   "metadata": {},
   "source": [
    "#### 6. Create a Python function that takes two arguments and returns their product."
   ]
  },
  {
   "cell_type": "code",
   "execution_count": 84,
   "id": "7b44fc24",
   "metadata": {},
   "outputs": [
    {
     "data": {
      "text/plain": [
       "16"
      ]
     },
     "execution_count": 84,
     "metadata": {},
     "output_type": "execute_result"
    }
   ],
   "source": [
    "def product(num1, num2):\n",
    "    return num1*num2\n",
    "product(4,4)"
   ]
  },
  {
   "cell_type": "markdown",
   "id": "56126dd9",
   "metadata": {},
   "source": [
    "### Function Parameters and Arguments"
   ]
  },
  {
   "cell_type": "markdown",
   "id": "773ffa27",
   "metadata": {},
   "source": [
    "#### 1. Explain the concepts of formal parameters and actual arguments in Python functions."
   ]
  },
  {
   "cell_type": "markdown",
   "id": "843e5fba",
   "metadata": {},
   "source": [
    "In Python, when defining a function, the variables that are mentioned in the function definition are known as `formal parameters`. These are placeholders for the values that the function will operate on.\n",
    "\n",
    "Here’s an example:"
   ]
  },
  {
   "cell_type": "code",
   "execution_count": 85,
   "id": "0dc0d575",
   "metadata": {},
   "outputs": [],
   "source": [
    "def greet(name):  # 'name' is a formal parameter\n",
    "    print(f\"Hello, {name}!\")"
   ]
  },
  {
   "cell_type": "markdown",
   "id": "fa8913ef",
   "metadata": {},
   "source": [
    "On the other hand, `actual arguments` (or simply arguments) are the specific values or variables that are passed to the function when it is called. These values are substituted into the formal parameters. \n",
    "\n",
    "Here’s an example:"
   ]
  },
  {
   "cell_type": "code",
   "execution_count": 86,
   "id": "0a648cfc",
   "metadata": {},
   "outputs": [
    {
     "name": "stdout",
     "output_type": "stream",
     "text": [
      "Hello, Alice!\n"
     ]
    }
   ],
   "source": [
    "\n",
    "greet(\"Alice\")  # 'Alice' is an actual argument"
   ]
  },
  {
   "cell_type": "markdown",
   "id": "d8fc72a0",
   "metadata": {},
   "source": [
    "#### 2. Write a Python program that defines a function with default argument values"
   ]
  },
  {
   "cell_type": "code",
   "execution_count": 87,
   "id": "e4e3a3a6",
   "metadata": {},
   "outputs": [
    {
     "name": "stdout",
     "output_type": "stream",
     "text": [
      "Hello World\n",
      "Hello Roberta\n"
     ]
    }
   ],
   "source": [
    "def greet(name=\"World\"):\n",
    "    return \"Hello \" + name\n",
    "print(greet()) \n",
    "print(greet(name = \"Roberta\"))"
   ]
  },
  {
   "cell_type": "markdown",
   "id": "27cc4c5f",
   "metadata": {},
   "source": [
    "#### 3. How do you use keyword arguments in Python function calls? Provide an example."
   ]
  },
  {
   "cell_type": "markdown",
   "id": "a7aff6c7",
   "metadata": {},
   "source": [
    "In Python, `keyword arguments` are used in function calls, where the caller identifies the arguments by the parameter name. This allows you to skip arguments or place them out of order because the Python interpreter can use the provided keywords to match the values with parameters."
   ]
  },
  {
   "cell_type": "code",
   "execution_count": 88,
   "id": "5ed5f421",
   "metadata": {},
   "outputs": [
    {
     "name": "stdout",
     "output_type": "stream",
     "text": [
      "Good morning, Alice!\n",
      "Good evening, Bob!\n"
     ]
    }
   ],
   "source": [
    "def greet(name, greeting=\"Hello\"):\n",
    "    print(f\"{greeting}, {name}!\")\n",
    "\n",
    "# Using keyword arguments\n",
    "greet(name=\"Alice\", greeting=\"Good morning\")\n",
    "greet(greeting=\"Good evening\", name=\"Bob\")"
   ]
  },
  {
   "cell_type": "markdown",
   "id": "e0a62ba5",
   "metadata": {},
   "source": [
    "#### 4. Create a Python function that accepts a variable number of arguments and calculates their sum."
   ]
  },
  {
   "cell_type": "code",
   "execution_count": 89,
   "id": "5627683d",
   "metadata": {},
   "outputs": [
    {
     "name": "stdout",
     "output_type": "stream",
     "text": [
      "10\n",
      "6\n"
     ]
    }
   ],
   "source": [
    "def calculate_sum(*args):\n",
    "    return sum(args)\n",
    "print(calculate_sum(1,2,3,4))\n",
    "print(calculate_sum(1,2,3))"
   ]
  },
  {
   "cell_type": "markdown",
   "id": "4e75a43c",
   "metadata": {},
   "source": [
    "#### 5. What is the purpose of the `*args` and `**kwargs` syntax in function parameter lists?"
   ]
  },
  {
   "cell_type": "markdown",
   "id": "d193f3ed",
   "metadata": {},
   "source": [
    "In Python, `*args` and `**kwargs` are special syntaxes in function parameter lists for passing a variable number of arguments to a function.\n",
    "\n",
    "`*args` is used to send a non-keyworded variable length argument list to the function. Here’s an example:"
   ]
  },
  {
   "cell_type": "code",
   "execution_count": 90,
   "id": "d03e534e",
   "metadata": {},
   "outputs": [
    {
     "name": "stdout",
     "output_type": "stream",
     "text": [
      "1\n",
      "2\n",
      "3\n"
     ]
    }
   ],
   "source": [
    "def test_var_args(*args):\n",
    "    for arg in args:\n",
    "        print(arg)\n",
    "\n",
    "test_var_args(1,2,3)"
   ]
  },
  {
   "cell_type": "markdown",
   "id": "3bb555cb",
   "metadata": {},
   "source": [
    "`**kwargs` allows you to pass keyworded variable length of arguments to a function. We should use `**kwargs` if you want to handle named arguments in a function. Here’s an example:"
   ]
  },
  {
   "cell_type": "code",
   "execution_count": 91,
   "id": "466e4862",
   "metadata": {},
   "outputs": [
    {
     "name": "stdout",
     "output_type": "stream",
     "text": [
      "name = Tom\n",
      "surname = Jerry\n",
      "height = 10\n"
     ]
    }
   ],
   "source": [
    "# In this case, kwargs is a dictionary with the keyword arguments.\n",
    "def my_function(**kwargs):\n",
    "    for key, value in kwargs.items():\n",
    "        print(f\"{key} = {value}\")\n",
    "my_function(name = \"Tom\", surname = \"Jerry\", height = 10)"
   ]
  },
  {
   "cell_type": "markdown",
   "id": "2bb4d86c",
   "metadata": {},
   "source": [
    "**Note** : The names args and kwargs are just conventions, we could also use `*vars` and `**kvars`, for example. The important part is the `*` and `**` operators."
   ]
  },
  {
   "cell_type": "markdown",
   "id": "1496ca0f",
   "metadata": {},
   "source": [
    "### Return Values and Scoping:\n"
   ]
  },
  {
   "cell_type": "markdown",
   "id": "e1d1a273",
   "metadata": {},
   "source": [
    "#### 1. Describe the role of the `return` statement in Python functions and provide examples."
   ]
  },
  {
   "cell_type": "markdown",
   "id": "12a42aae",
   "metadata": {},
   "source": [
    "In Python, the return statement is used to end the execution of a function and return a value to the caller. If the return statement is without any expression, then the special value None is returned. If the return statement is not used in a function, then also the function will return None.\n",
    "\n",
    "**Examples:**"
   ]
  },
  {
   "cell_type": "code",
   "execution_count": 92,
   "id": "aba1d760",
   "metadata": {},
   "outputs": [
    {
     "name": "stdout",
     "output_type": "stream",
     "text": [
      "Hello, World!\n"
     ]
    }
   ],
   "source": [
    "# 1. Function without return statement:\n",
    "# In this example, the function greet() does not have a return statement, so it returns None after printing “Hello, World!”.\n",
    "\n",
    "def greet():\n",
    "    print(\"Hello, World!\")\n",
    "\n",
    "greet()  # prints \"Hello, World!\" and returns None"
   ]
  },
  {
   "cell_type": "code",
   "execution_count": 93,
   "id": "9b69d060",
   "metadata": {},
   "outputs": [
    {
     "name": "stdout",
     "output_type": "stream",
     "text": [
      "8\n"
     ]
    }
   ],
   "source": [
    "# 2. Function with return statement:\n",
    "\n",
    "def add(a, b):\n",
    "    return a + b\n",
    "\n",
    "result = add(5, 3)  # returns 8\n",
    "print(result)  # prints 8"
   ]
  },
  {
   "cell_type": "code",
   "execution_count": 94,
   "id": "c7050c9f",
   "metadata": {},
   "outputs": [
    {
     "name": "stdout",
     "output_type": "stream",
     "text": [
      "False\n",
      "True\n"
     ]
    }
   ],
   "source": [
    "# 3. Early exit with return statement:\n",
    "\n",
    "def is_even(num):\n",
    "    if num % 2 == 0:\n",
    "        return True\n",
    "    return False\n",
    "\n",
    "print(is_even(3))  # prints False\n",
    "print(is_even(4))  # prints True"
   ]
  },
  {
   "cell_type": "markdown",
   "id": "55955eb4",
   "metadata": {},
   "source": [
    "#### 2. Explain the concept of variable scope in Python, including local and global variables."
   ]
  },
  {
   "cell_type": "markdown",
   "id": "a34407f3",
   "metadata": {},
   "source": [
    "In Python, a variable’s scope refers to the places where you can see or access a variable. There are two types of variable scope: `local` and `global.`\n",
    "\n",
    "**Local Variables**: A variable declared inside a function is known as a local variable. This variable is present in the local space, not in the global space. \n",
    "\n",
    "Here is an example:"
   ]
  },
  {
   "cell_type": "code",
   "execution_count": 95,
   "id": "2f76a010",
   "metadata": {},
   "outputs": [
    {
     "name": "stdout",
     "output_type": "stream",
     "text": [
      "7\n"
     ]
    }
   ],
   "source": [
    "# In the code below, x is a local variable. It’s only accessible within the function func().\n",
    "def func():\n",
    "    x = 7\n",
    "    print(x)\n",
    "\n",
    "func()"
   ]
  },
  {
   "cell_type": "markdown",
   "id": "71de6572",
   "metadata": {},
   "source": [
    "**Global Variables:** A variable declared outside all function definitions is a global variable, and it is accessible throughout the program.\n",
    "\n",
    "Here is an example:"
   ]
  },
  {
   "cell_type": "code",
   "execution_count": 96,
   "id": "afce121b",
   "metadata": {},
   "outputs": [
    {
     "name": "stdout",
     "output_type": "stream",
     "text": [
      "10\n"
     ]
    }
   ],
   "source": [
    "# In this code, x is a global variable. It’s accessible within the function func(), and also anywhere else in the program.\n",
    "\n",
    "x = 10\n",
    "\n",
    "def func():\n",
    "    print(x)\n",
    "\n",
    "func()"
   ]
  },
  {
   "cell_type": "markdown",
   "id": "2b3cf9eb",
   "metadata": {},
   "source": [
    "**Note:** If a local variable shares the same name as a global variable, the program will use the local version. This concept is known as `variable shadowing`. If we want to access the global variable instead of the local one, we can use the `global keyword` inside your function."
   ]
  },
  {
   "cell_type": "markdown",
   "id": "7ca1f476",
   "metadata": {},
   "source": [
    "#### 3. Write a Python program that demonstrates the use of global variables within functions."
   ]
  },
  {
   "cell_type": "code",
   "execution_count": 97,
   "id": "e341d1b8",
   "metadata": {},
   "outputs": [
    {
     "name": "stdout",
     "output_type": "stream",
     "text": [
      "Value of global variable inside function: 15\n",
      "Value of global variable outside function: 15\n"
     ]
    }
   ],
   "source": [
    "global_var = 10\n",
    "\n",
    "def my_function():\n",
    "    global global_var\n",
    "    global_var += 5\n",
    "    print(\"Value of global variable inside function:\", global_var)\n",
    "\n",
    "my_function()\n",
    "print(\"Value of global variable outside function:\", global_var)"
   ]
  },
  {
   "cell_type": "markdown",
   "id": "4a9a611f",
   "metadata": {},
   "source": [
    "#### 4. Create a Python function that calculates the factorial of a number and returns it."
   ]
  },
  {
   "cell_type": "code",
   "execution_count": 98,
   "id": "fbaf3963",
   "metadata": {},
   "outputs": [
    {
     "data": {
      "text/plain": [
       "120"
      ]
     },
     "execution_count": 98,
     "metadata": {},
     "output_type": "execute_result"
    }
   ],
   "source": [
    "def factorial(num):\n",
    "    \n",
    "    if num == 0 or num ==1:\n",
    "        return int(1)\n",
    "    else:\n",
    "        return num*factorial(num-1)\n",
    "factorial(5)"
   ]
  },
  {
   "cell_type": "markdown",
   "id": "50a120f4",
   "metadata": {},
   "source": [
    "#### 5. How can you access variables defined outside a function from within the function?"
   ]
  },
  {
   "cell_type": "markdown",
   "id": "77f1d72c",
   "metadata": {},
   "source": [
    "To access a variable defined outside a function from within the function, you can use one of the following methods:\n",
    "\n",
    "1. Declare a class-level variable.\n",
    "\n",
    "2. Pass the variable to another method.\n",
    "\n",
    "3. Use a global variable.\n",
    "\n",
    "By default, when we are inside a function, we do not have access to the outer variables. If we want our function to have access to an outer variable, we have to declare it as global, inside the function. \n",
    "\n",
    "Example:"
   ]
  },
  {
   "cell_type": "code",
   "execution_count": 99,
   "id": "64965d5c",
   "metadata": {},
   "outputs": [
    {
     "name": "stdout",
     "output_type": "stream",
     "text": [
      "10\n"
     ]
    }
   ],
   "source": [
    "x = 10\n",
    "\n",
    "def my_function():\n",
    "    global x\n",
    "    print(x)\n",
    "# This will output 10 because we declared x as global inside the function 1.\n",
    "my_function()"
   ]
  },
  {
   "cell_type": "markdown",
   "id": "511f4cf9",
   "metadata": {},
   "source": [
    "### Lambda Functions and Higher-Order Functions:"
   ]
  },
  {
   "cell_type": "markdown",
   "id": "2b19c7ac",
   "metadata": {},
   "source": [
    "#### 1. What are lambda functions in Python, and when are they typically used?"
   ]
  },
  {
   "cell_type": "markdown",
   "id": "edded796",
   "metadata": {},
   "source": [
    "A `lambda` function is a small, anonymous function in Python that can take any number of arguments but can only have one expression. The syntax for defining a lambda function is as follows:\n",
    "\n",
    "`lambda arguments: expression`\n",
    "\n",
    "Here, `arguments` represent the input parameters of the function, and `expression` represents the output of the function.\n",
    "\n",
    "Their uses are:\n",
    "\n",
    "1. Lambda functions are typically used when we need to pass a small function as an argument to another function. \n",
    "\n",
    "2. They are also useful when we need to define a function quickly without giving it a name.\n",
    "\n",
    "3. Lambda functions can also be used with other built-in functions like map(), filter(), and reduce(). \n",
    "\n",
    "4. They are particularly useful when working with functional programming concepts like higher-order functions and closures."
   ]
  },
  {
   "cell_type": "markdown",
   "id": "10ac09f6",
   "metadata": {},
   "source": [
    "#### 2. Write a Python program that uses lambda functions to sort a list of tuples based on the second element."
   ]
  },
  {
   "cell_type": "code",
   "execution_count": 100,
   "id": "7e881516",
   "metadata": {},
   "outputs": [
    {
     "name": "stdout",
     "output_type": "stream",
     "text": [
      "[('cherry', 1), ('banana', 2), ('apple', 3), ('date', 4)]\n"
     ]
    }
   ],
   "source": [
    "my_list = [('apple', 3), ('banana', 2), ('cherry', 1), ('date', 4)]\n",
    "sorted_list = sorted(my_list, key=lambda x: x[1])\n",
    "print(sorted_list)"
   ]
  },
  {
   "cell_type": "markdown",
   "id": "b3e885d4",
   "metadata": {},
   "source": [
    "#### 3. Explain the concept of higher-order functions in Python, and provide an example."
   ]
  },
  {
   "cell_type": "code",
   "execution_count": 101,
   "id": "42bc2028",
   "metadata": {},
   "outputs": [
    {
     "name": "stdout",
     "output_type": "stream",
     "text": [
      "20\n"
     ]
    }
   ],
   "source": [
    "\n",
    "def apply_twice(func, arg):\n",
    "    return func(func(arg))\n",
    "\n",
    "def add_five(x):\n",
    "    return x + 5\n",
    "\n",
    "print(apply_twice(add_five, 10))"
   ]
  },
  {
   "cell_type": "markdown",
   "id": "7614b3f3",
   "metadata": {},
   "source": [
    "#### 4. Create a Python function that takes a list of numbers and a function as arguments, applying the function to each element in the list."
   ]
  },
  {
   "cell_type": "code",
   "execution_count": 102,
   "id": "d9bf3f39",
   "metadata": {},
   "outputs": [
    {
     "name": "stdout",
     "output_type": "stream",
     "text": [
      "[1, 4, 9]\n"
     ]
    }
   ],
   "source": [
    "def apply_func_to_list(func, num_list):\n",
    "    return [func(num) for num in num_list]\n",
    "\n",
    "def square(x):\n",
    "    return x ** 2\n",
    "\n",
    "squares = apply_func_to_list(square, [1,2,3])\n",
    "print(squares)"
   ]
  },
  {
   "cell_type": "markdown",
   "id": "44132f4d",
   "metadata": {},
   "source": [
    "### Built-in Functions:"
   ]
  },
  {
   "cell_type": "markdown",
   "id": "5f2d1e4f",
   "metadata": {},
   "source": [
    "#### 1. Describe the role of built-in functions like `len()`, `max()`, and `min()` in Python."
   ]
  },
  {
   "cell_type": "markdown",
   "id": "19a9d2c0",
   "metadata": {},
   "source": [
    "len(), max(), and min() are built-in functions in Python that are used to perform operations on data structures like lists, tuples, and strings.\n",
    "\n",
    "`len()` returns the length of the object passed to it. For example, len([1, 2, 3]) returns 3.\n",
    "\n",
    "`max()` returns the largest item in an iterable or the largest of two or more arguments. For example, max(1, 2, 3) returns 3.\n",
    "\n",
    "`min()` returns the smallest item in an iterable or the smallest of two or more arguments. For example, min(1, 2, 3) returns 1."
   ]
  },
  {
   "cell_type": "markdown",
   "id": "f15758d8",
   "metadata": {},
   "source": [
    "#### 2. Write a Python program that uses the `map()` function to apply a function to each element of a list."
   ]
  },
  {
   "cell_type": "code",
   "execution_count": 103,
   "id": "1a350991",
   "metadata": {},
   "outputs": [
    {
     "name": "stdout",
     "output_type": "stream",
     "text": [
      "Original list: [1, 2, 3, 4, 5]\n",
      "Squared list: [1, 4, 9, 16, 25]\n"
     ]
    }
   ],
   "source": [
    "# Define a function that will be applied to each element of the list\n",
    "def square(x):\n",
    "    return x ** 2\n",
    "\n",
    "# Define a list of numbers\n",
    "numbers = [1, 2, 3, 4, 5]\n",
    "\n",
    "# Use the map() function to apply the square() function to each element of the list\n",
    "squared_numbers = list(map(square, numbers))\n",
    "\n",
    "# Print the original list and the squared list\n",
    "print(\"Original list:\", numbers)\n",
    "print(\"Squared list:\", squared_numbers)"
   ]
  },
  {
   "cell_type": "markdown",
   "id": "d6cb640e",
   "metadata": {},
   "source": [
    "#### 3. How does the `filter()` function work in Python, and when would you use it?"
   ]
  },
  {
   "cell_type": "markdown",
   "id": "fdf9c5a8",
   "metadata": {},
   "source": [
    "filter() is a built-in Python function that filters elements from an iterable based on a given condition. \n",
    "\n",
    "The function takes two arguments: a function that tests if each element of the iterable is true or not, and the iterable itself.\n",
    "\n",
    "The function returns an iterator that contains only the elements for which the condition is true.\n",
    "\n",
    "`filter(function, iterable)`\n",
    "\n",
    "Here, `function` is the function that tests if each element of the iterable is true or not, and `iterable` is the sequence that needs to be filtered."
   ]
  },
  {
   "cell_type": "code",
   "execution_count": 104,
   "id": "5fdc4788",
   "metadata": {},
   "outputs": [
    {
     "name": "stdout",
     "output_type": "stream",
     "text": [
      "[2, 4]\n"
     ]
    }
   ],
   "source": [
    "numbers = [1, 2, 3, 4, 5]\n",
    "filtered_numbers = list(filter(lambda x: x % 2 == 0, numbers))\n",
    "print(filtered_numbers)"
   ]
  },
  {
   "cell_type": "markdown",
   "id": "de73d12d",
   "metadata": {},
   "source": [
    "#### 4. Create a Python program that uses the `reduce()` function to find the product of all elements in a list."
   ]
  },
  {
   "cell_type": "code",
   "execution_count": 105,
   "id": "b4e8c60c",
   "metadata": {},
   "outputs": [
    {
     "data": {
      "text/plain": [
       "120"
      ]
     },
     "execution_count": 105,
     "metadata": {},
     "output_type": "execute_result"
    }
   ],
   "source": [
    "def product(lst):\n",
    "    return reduce(lambda x,y:x*y, lst)\n",
    "product([1,2,3,4,5])"
   ]
  },
  {
   "cell_type": "markdown",
   "id": "3c7ff522",
   "metadata": {},
   "source": [
    "### Function Documentation and Best Practices:"
   ]
  },
  {
   "cell_type": "markdown",
   "id": "453e0b3f",
   "metadata": {},
   "source": [
    "#### 1. Explain the purpose of docstrings in Python functions and how to write them."
   ]
  },
  {
   "cell_type": "markdown",
   "id": "52732fd1",
   "metadata": {},
   "source": [
    "`Docstrings` are strings used to document Python modules, functions, classes, and methods. \n",
    "\n",
    "They provide a convenient way of associating documentation with code segments and are used to convey the purpose and functionality of the code.\n",
    "\n",
    "A docstring should be declared using triple quotes (either single or double) just below the class, method, or function declaration. \n",
    "\n",
    "Example:\n",
    "\n",
    "def my_function(arg1):\n",
    "\n",
    "    \"\"\"\n",
    "    \n",
    "    This function takes an argument arg1 and returns arg1.\n",
    "    \n",
    "    \"\"\"\n",
    "    return arg1\n",
    "To access a docstring, we can use the __doc__ method of the object or use the help() function "
   ]
  },
  {
   "cell_type": "markdown",
   "id": "6121c95a",
   "metadata": {},
   "source": [
    "#### 2. Describe some best practices for naming functions and variables in Python, including naming conventions and guidelines."
   ]
  },
  {
   "cell_type": "markdown",
   "id": "d581c58e",
   "metadata": {},
   "source": [
    "Following are best practices for naming functions and variables:\n",
    "\n",
    "1. Choose meaningful and descriptive names that provide some context.\n",
    "\n",
    "\n",
    "2. Avoid generic, ambiguous, or confusing names that may clash with keywords or function names.\n",
    "\n",
    "\n",
    "3. Use lowercase letters and separate words with underscores for readability.\n",
    "\n",
    "\n",
    "4. Use CamelCase for class names and uppercase letters for module constants.\n",
    "\n",
    "\n",
    "5. Don’t make names too long or too short, and use consistent formatting throughout your code. \n",
    "\n",
    "\n",
    "6. Avoid using single-character variable names except for counters or iterators.\n",
    "\n",
    "\n",
    "7. Use singular nouns for variables that hold a single value and plural nouns for variables that hold multiple values."
   ]
  }
 ],
 "metadata": {
  "kernelspec": {
   "display_name": "Python 3",
   "language": "python",
   "name": "python3"
  },
  "language_info": {
   "codemirror_mode": {
    "name": "ipython",
    "version": 3
   },
   "file_extension": ".py",
   "mimetype": "text/x-python",
   "name": "python",
   "nbconvert_exporter": "python",
   "pygments_lexer": "ipython3",
   "version": "3.8.8"
  }
 },
 "nbformat": 4,
 "nbformat_minor": 5
}
