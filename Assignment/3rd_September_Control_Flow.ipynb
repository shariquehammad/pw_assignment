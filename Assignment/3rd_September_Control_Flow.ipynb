{
 "cells": [
  {
   "cell_type": "markdown",
   "id": "47f258ce",
   "metadata": {},
   "source": [
    "## Control Flow Assignment"
   ]
  },
  {
   "cell_type": "markdown",
   "id": "2c8b4617",
   "metadata": {},
   "source": [
    "### Basic If-Else Statements:"
   ]
  },
  {
   "cell_type": "markdown",
   "id": "e675ba2b",
   "metadata": {},
   "source": [
    "#### 1. Write a Python program to check if a given number is positive or negative."
   ]
  },
  {
   "cell_type": "code",
   "execution_count": 1,
   "id": "989f08e7",
   "metadata": {},
   "outputs": [
    {
     "data": {
      "text/plain": [
       "'Negative'"
      ]
     },
     "execution_count": 1,
     "metadata": {},
     "output_type": "execute_result"
    }
   ],
   "source": [
    "def check_pos_neg(x):\n",
    "    \n",
    "    if x >= 0:\n",
    "        return \"Positive\"\n",
    "    else:\n",
    "        return \"Negative\"\n",
    "    \n",
    "check_pos_neg(-12)"
   ]
  },
  {
   "cell_type": "markdown",
   "id": "e7382404",
   "metadata": {},
   "source": [
    "#### 2. Create a program that determines if a person is eligible to vote based on their age."
   ]
  },
  {
   "cell_type": "code",
   "execution_count": 2,
   "id": "cfd44600",
   "metadata": {},
   "outputs": [
    {
     "data": {
      "text/plain": [
       "'Eligible'"
      ]
     },
     "execution_count": 2,
     "metadata": {},
     "output_type": "execute_result"
    }
   ],
   "source": [
    "def check_voting_age(x):\n",
    "    \n",
    "    if x<=0:\n",
    "        return \"Invalid input\"\n",
    "    elif x<18:\n",
    "        return \"Not eligible\"\n",
    "    else:\n",
    "        return \"Eligible\"\n",
    "check_voting_age(18)"
   ]
  },
  {
   "cell_type": "markdown",
   "id": "23a9f956",
   "metadata": {},
   "source": [
    "#### 3. Develop a program to find the maximum of two numbers using if-else statements."
   ]
  },
  {
   "cell_type": "code",
   "execution_count": 3,
   "id": "e9374fec",
   "metadata": {},
   "outputs": [
    {
     "data": {
      "text/plain": [
       "'1000 is maximum'"
      ]
     },
     "execution_count": 3,
     "metadata": {},
     "output_type": "execute_result"
    }
   ],
   "source": [
    "def find_max(x,y):\n",
    "    \n",
    "    if x == y:\n",
    "        return \"Both numbers are equal\"\n",
    "    elif x<y:\n",
    "        return str(y)+ \" is maximum\"\n",
    "    else:\n",
    "        return str(x) + \" is maximum\"\n",
    "find_max(1000, -100)"
   ]
  },
  {
   "cell_type": "markdown",
   "id": "b37f34f5",
   "metadata": {},
   "source": [
    "#### 4. Write a Python script to classify a given year as a leap year or not."
   ]
  },
  {
   "cell_type": "code",
   "execution_count": 4,
   "id": "a0d2421d",
   "metadata": {},
   "outputs": [
    {
     "data": {
      "text/plain": [
       "'2000 is a leap year'"
      ]
     },
     "execution_count": 4,
     "metadata": {},
     "output_type": "execute_result"
    }
   ],
   "source": [
    "def is_leap_year(year):\n",
    "\n",
    "    if (year % 400 == 0) and (year % 100 == 0):\n",
    "        return str(year) + \" is a leap year\"\n",
    "    elif (year % 4 == 0) and (year % 100 != 0):\n",
    "        return str(year) + \" is a leap year\"\n",
    "    else:\n",
    "        return str(year) + \" is not a leap year\"\n",
    "is_leap_year(2000)"
   ]
  },
  {
   "cell_type": "markdown",
   "id": "649c24f4",
   "metadata": {},
   "source": [
    "#### 5. Create a program that checks whether a character is a vowel or a consonant."
   ]
  },
  {
   "cell_type": "code",
   "execution_count": 5,
   "id": "c49b5df3",
   "metadata": {},
   "outputs": [
    {
     "data": {
      "text/plain": [
       "'F is a consonant'"
      ]
     },
     "execution_count": 5,
     "metadata": {},
     "output_type": "execute_result"
    }
   ],
   "source": [
    "def is_vowel_or_consonant(char):\n",
    "    \n",
    "    if str(char) in \"aeiouAEIOU\":\n",
    "        return char + \" is a vowel\"\n",
    "    else:\n",
    "        return char + \" is a consonant\"\n",
    "char = \"F\"\n",
    "is_vowel_or_consonant(char)"
   ]
  },
  {
   "cell_type": "markdown",
   "id": "d638e4b7",
   "metadata": {},
   "source": [
    "#### 6. Implement a program to determine whether a given number is even or odd."
   ]
  },
  {
   "cell_type": "code",
   "execution_count": 6,
   "id": "71c63a36",
   "metadata": {},
   "outputs": [
    {
     "data": {
      "text/plain": [
       "'1 is odd'"
      ]
     },
     "execution_count": 6,
     "metadata": {},
     "output_type": "execute_result"
    }
   ],
   "source": [
    "def is_even_or_odd(x):\n",
    "    \n",
    "    if x % 2 == 0:\n",
    "        return str(x) + \" is even\"\n",
    "    else:\n",
    "        return str(x) + \" is odd\"\n",
    "is_even_or_odd(1)"
   ]
  },
  {
   "cell_type": "markdown",
   "id": "7bc58794",
   "metadata": {},
   "source": [
    "#### 7. Write a Python function to calculate the absolute value of a number without using the `abs()` function."
   ]
  },
  {
   "cell_type": "code",
   "execution_count": 7,
   "id": "b6c115fc",
   "metadata": {},
   "outputs": [
    {
     "data": {
      "text/plain": [
       "10"
      ]
     },
     "execution_count": 7,
     "metadata": {},
     "output_type": "execute_result"
    }
   ],
   "source": [
    "def abs_value(x):\n",
    "    \n",
    "    if x >= 0:\n",
    "        return x\n",
    "    else:\n",
    "        return -1*x\n",
    "abs_value(-10)"
   ]
  },
  {
   "cell_type": "markdown",
   "id": "f057af15",
   "metadata": {},
   "source": [
    "#### 8. Develop a program that determines the largest of three given numbers using if-else statements."
   ]
  },
  {
   "cell_type": "code",
   "execution_count": 8,
   "id": "5657180a",
   "metadata": {},
   "outputs": [
    {
     "name": "stdout",
     "output_type": "stream",
     "text": [
      "10 is the largest\n"
     ]
    }
   ],
   "source": [
    "def max_of_3_nums(x,y,z):\n",
    "    \n",
    "    if (x>= y) and (x >= z):\n",
    "        largest = x\n",
    "    elif (y >= x) and (y >= z):\n",
    "        largest = y\n",
    "    else:\n",
    "        largest = z\n",
    "    return str(largest) + \" is the largest\"\n",
    "\n",
    "print(max_of_3_nums(10,-10,0)) "
   ]
  },
  {
   "cell_type": "markdown",
   "id": "19aaf1de",
   "metadata": {},
   "source": [
    "#### 9. Create a program that checks if a given string is a palindrome."
   ]
  },
  {
   "cell_type": "code",
   "execution_count": 9,
   "id": "c293f54c",
   "metadata": {},
   "outputs": [
    {
     "name": "stdout",
     "output_type": "stream",
     "text": [
      "xyz is not palindrome\n",
      "aba is palindrome\n"
     ]
    }
   ],
   "source": [
    "def is_palindrome(str):\n",
    "    \n",
    "    if str[::-1] == str:\n",
    "        return str + \" is palindrome\"\n",
    "    else:\n",
    "        return str + \" is not palindrome\"\n",
    "    \n",
    "print(is_palindrome(\"xyz\"))\n",
    "print(is_palindrome(\"aba\"))"
   ]
  },
  {
   "cell_type": "markdown",
   "id": "81dcfd46",
   "metadata": {},
   "source": [
    "#### 10. Write a Python program to calculate the grade based on a student's score."
   ]
  },
  {
   "cell_type": "code",
   "execution_count": 10,
   "id": "97dcec15",
   "metadata": {},
   "outputs": [
    {
     "name": "stdout",
     "output_type": "stream",
     "text": [
      "Enter marks of the first subject: 90\n",
      "Enter marks of the second subject: 91\n",
      "Enter marks of the third subject: 92\n",
      "Enter marks of the fourth subject: 93\n",
      "Enter marks of the fifth subject: 94\n",
      "\n",
      "Average is:  92\n",
      "Grade: A\n"
     ]
    }
   ],
   "source": [
    "def student_grade():\n",
    "    \n",
    "    sub1=int(input(\"Enter marks of the first subject: \"))\n",
    "    sub2=int(input(\"Enter marks of the second subject: \"))\n",
    "    sub3=int(input(\"Enter marks of the third subject: \"))\n",
    "    sub4=int(input(\"Enter marks of the fourth subject: \"))\n",
    "    sub5=int(input(\"Enter marks of the fifth subject: \"))\n",
    "    avg = int((sub1+sub2+sub3+sub5+sub4)/5)\n",
    "    \n",
    "    print(\"\\nAverage is: \", avg)\n",
    "    if(avg>=90):\n",
    "        return \"Grade: A\"\n",
    "    elif avg>=80 and avg<90:\n",
    "        return \"Grade: B\"\n",
    "    elif avg>=70 and avg<80:\n",
    "        return \"Grade: C\"\n",
    "    elif avg>=60 and avg<70 :\n",
    "        return \"Grade: D\"\n",
    "    else:\n",
    "        return \"Grade: F\"\n",
    "print(student_grade())"
   ]
  },
  {
   "cell_type": "markdown",
   "id": "90f46283",
   "metadata": {},
   "source": [
    "### Nested If-Else Statements:"
   ]
  },
  {
   "cell_type": "markdown",
   "id": "35542bb3",
   "metadata": {},
   "source": [
    "#### 11. Write a program to find the largest among three numbers using nested if-else statements."
   ]
  },
  {
   "cell_type": "code",
   "execution_count": 11,
   "id": "86f0b73d",
   "metadata": {},
   "outputs": [
    {
     "name": "stdout",
     "output_type": "stream",
     "text": [
      "Enter 1st number: 1\n",
      "\n",
      "Enter 2nd number: 2\n",
      "\n",
      "Enter 3rd number: 89\n",
      "89 is the largest number\n"
     ]
    }
   ],
   "source": [
    "def largest_of_3_nested_if_else():\n",
    "    \n",
    "    x = int(input(\"Enter 1st number: \"))\n",
    "    y = int(input(\"\\nEnter 2nd number: \"))\n",
    "    z = int(input(\"\\nEnter 3rd number: \"))\n",
    "\n",
    "    if x >= y:\n",
    "        if x >= z:\n",
    "            return str(x) + \" is the largest number\"\n",
    "        else:\n",
    "            return str(z) +  \" is the largest number\"\n",
    "    else:\n",
    "        if y >= z:\n",
    "            return  str(y) + \" is the largest number\"\n",
    "        else:\n",
    "            return  str(z) + \" is the largest number\"\n",
    "print(largest_of_3_nested_if_else())  "
   ]
  },
  {
   "cell_type": "markdown",
   "id": "79c04ef7",
   "metadata": {},
   "source": [
    "#### 12. Implement a program to determine if a triangle is equilateral, isosceles, or scalene."
   ]
  },
  {
   "cell_type": "code",
   "execution_count": 12,
   "id": "7d0425a7",
   "metadata": {},
   "outputs": [
    {
     "name": "stdout",
     "output_type": "stream",
     "text": [
      "Input lengths of the triangle sides:\n",
      "x: 6\n",
      "y: 6\n",
      "z: 6\n",
      "\n",
      "Equilateral triangle\n"
     ]
    }
   ],
   "source": [
    "def is_triangle_type():\n",
    "    print(\"Input lengths of the triangle sides:\")\n",
    "    x = int(input(\"x: \"))\n",
    "    y = int(input(\"y: \"))\n",
    "    z = int(input(\"z: \"))\n",
    "\n",
    "    if x == y == z:\n",
    "        return \"\\nEquilateral triangle\"\n",
    "    elif x == y or y == z or z == x:\n",
    "        return \"\\nIsosceles triangle\"\n",
    "    else:\n",
    "        return \"\\nScalene triangle\"\n",
    "print(is_triangle_type())"
   ]
  },
  {
   "cell_type": "markdown",
   "id": "45a63606",
   "metadata": {},
   "source": [
    "#### 13. Develop a program that checks if a year is a leap year and also if it is a century year."
   ]
  },
  {
   "cell_type": "code",
   "execution_count": 13,
   "id": "11b590b0",
   "metadata": {},
   "outputs": [
    {
     "name": "stdout",
     "output_type": "stream",
     "text": [
      "Enter a year: 1600\n",
      "1600 is a century leap year\n"
     ]
    }
   ],
   "source": [
    "def check_if_leap_and_century_year():\n",
    "\n",
    "    year = int(input(\"Enter a year: \"))\n",
    "\n",
    "    if (year % 400 == 0) and (year % 100 == 0):\n",
    "        return str(year) + \" is a century leap year\"\n",
    "    elif (year % 4 == 0) and (year % 100 != 0):\n",
    "        return str(year) + \" is a leap year\"\n",
    "\n",
    "    else:\n",
    "        return str(year) +  \" is not a leap year\"\n",
    "print(check_if_leap_and_century_year())"
   ]
  },
  {
   "cell_type": "markdown",
   "id": "4cce0e6d",
   "metadata": {},
   "source": [
    "#### 14. Write a Python script to determine if a number is positive, negative, or zero."
   ]
  },
  {
   "cell_type": "code",
   "execution_count": 14,
   "id": "58310d6f",
   "metadata": {},
   "outputs": [
    {
     "name": "stdout",
     "output_type": "stream",
     "text": [
      "Enter a number: 0\n",
      "Enterd number is zero\n"
     ]
    }
   ],
   "source": [
    "def pos_negative_zero(x):\n",
    "    \n",
    "    if x>0:\n",
    "        return \"Entered number is positive\"\n",
    "    elif x < 0:\n",
    "        return \"Entered number is negative\"\n",
    "    else:\n",
    "        return \"Enterd number is zero\"\n",
    "   \n",
    "x = int(input(\"Enter a number: \")) \n",
    "print(pos_negative_zero(x))"
   ]
  },
  {
   "cell_type": "markdown",
   "id": "d333b975",
   "metadata": {},
   "source": [
    "#### 15. Create a program to check if a person is a teenager (between 13 and 19 years old)."
   ]
  },
  {
   "cell_type": "code",
   "execution_count": 15,
   "id": "d6a4c1cb",
   "metadata": {},
   "outputs": [
    {
     "name": "stdout",
     "output_type": "stream",
     "text": [
      "Enter an age: 16\n",
      "Teenager\n"
     ]
    }
   ],
   "source": [
    "def check_if_teenager(age):\n",
    "    \n",
    "    if age >=13 and age <=19:\n",
    "        return \"Teenager\"\n",
    "    else:\n",
    "        return \"Not teenager\"\n",
    "age = int(input(\"Enter an age: \"))\n",
    "print(check_if_teenager(age))"
   ]
  },
  {
   "cell_type": "markdown",
   "id": "94981440",
   "metadata": {},
   "source": [
    "#### 16. Develop a program that determines the type of angle based on its measure (acute, obtuse, or right)."
   ]
  },
  {
   "cell_type": "code",
   "execution_count": 16,
   "id": "038a7cac",
   "metadata": {},
   "outputs": [
    {
     "name": "stdout",
     "output_type": "stream",
     "text": [
      "Enter the angle measure: 45\n",
      "Acute\n"
     ]
    }
   ],
   "source": [
    "def determine_angle_type(angle):\n",
    "    if angle < 90:\n",
    "        return \"Acute\"\n",
    "    elif angle == 90:\n",
    "        return \"Right\"\n",
    "    else:\n",
    "        return \"Obtuse\"\n",
    "\n",
    "angle = float(input(\"Enter the angle measure: \"))\n",
    "print(determine_angle_type(angle))"
   ]
  },
  {
   "cell_type": "markdown",
   "id": "052caa4e",
   "metadata": {},
   "source": [
    "#### 17. Write a Python program to calculate the roots of a quadratic equation."
   ]
  },
  {
   "cell_type": "code",
   "execution_count": 17,
   "id": "1b00dc4c",
   "metadata": {},
   "outputs": [
    {
     "name": "stdout",
     "output_type": "stream",
     "text": [
      "Enter the coefficient of x^2: 1\n",
      "Enter the coefficient of x: 2\n",
      "Enter the constant term: 1\n",
      "The roots of the quadratic equation 1.0x^2 + 2.0x + 1.0 are -1.0 and -1.0.\n"
     ]
    }
   ],
   "source": [
    "import math\n",
    "def quadratic_equation_roots(a,b,c):\n",
    "\n",
    "    d = (b**2) - (4*a*c)\n",
    "\n",
    "    root1 = (-b - math.sqrt(d)) / (2*a)\n",
    "    root2 = (-b + math.sqrt(d)) / (2*a)\n",
    "\n",
    "    print(f\"The roots of the quadratic equation {a}x^2 + {b}x + {c} are {root1} and {root2}.\")\n",
    "    \n",
    "a = float(input(\"Enter the coefficient of x^2: \"))\n",
    "b = float(input(\"Enter the coefficient of x: \"))\n",
    "c = float(input(\"Enter the constant term: \"))\n",
    "\n",
    "quadratic_equation_roots(a,b,c)"
   ]
  },
  {
   "cell_type": "markdown",
   "id": "5d8578b9",
   "metadata": {},
   "source": [
    "#### 18. Implement a program to determine the day of the week based on a user-provided number (1 for Monday, 2 for Tuesday, etc.)."
   ]
  },
  {
   "cell_type": "code",
   "execution_count": 18,
   "id": "b71feeb6",
   "metadata": {},
   "outputs": [
    {
     "name": "stdout",
     "output_type": "stream",
     "text": [
      "Enter a number between 1 and 7: 5\n",
      "The day of the week is: Friday\n"
     ]
    }
   ],
   "source": [
    "def get_day_of_week(day_number):\n",
    "    days = [\"Monday\", \"Tuesday\", \"Wednesday\", \"Thursday\", \"Friday\", \"Saturday\", \"Sunday\"]\n",
    "    if day_number < 1 or day_number > 7:\n",
    "        return \"Invalid input. Please enter a number between 1 and 7.\"\n",
    "    return days[day_number - 1]\n",
    "\n",
    "day_number = int(input(\"Enter a number between 1 and 7: \"))\n",
    "day_of_week = get_day_of_week(day_number)\n",
    "print(\"The day of the week is:\", day_of_week)"
   ]
  },
  {
   "cell_type": "markdown",
   "id": "933c97dd",
   "metadata": {},
   "source": [
    "#### 19. Create a program that determines if a year is a leap year and also if it is evenly divisible by 400."
   ]
  },
  {
   "cell_type": "code",
   "execution_count": 19,
   "id": "8e2f45fd",
   "metadata": {},
   "outputs": [
    {
     "name": "stdout",
     "output_type": "stream",
     "text": [
      "Enter year: 500\n",
      "500 is not a leap year or is not evenly divisible by 400.\n"
     ]
    }
   ],
   "source": [
    "def is_leap_year_divisible_by_400(year):\n",
    "   \n",
    "    if year % 400 == 0 and year % 4 == 0:\n",
    "        return str(year) + \" is a leap year and is evenly divisible by 400.\"\n",
    "    else:\n",
    "        return str(year)+ \" is not a leap year or is not evenly divisible by 400.\"\n",
    "year = int(input(\"Enter year: \"))\n",
    "print(is_leap_year_divisible_by_400(year))"
   ]
  },
  {
   "cell_type": "markdown",
   "id": "9dcf1409",
   "metadata": {},
   "source": [
    "#### 20. Develop a program that checks if a given number is prime or not using nested if-else statements."
   ]
  },
  {
   "cell_type": "code",
   "execution_count": 20,
   "id": "a7e5a128",
   "metadata": {},
   "outputs": [
    {
     "name": "stdout",
     "output_type": "stream",
     "text": [
      "Enter a number: 4\n",
      "4 is not a prime number\n"
     ]
    }
   ],
   "source": [
    "def check_prime(number):\n",
    "    \n",
    "    if number > 1:\n",
    "        if number == 2:\n",
    "            print(number, \"is a prime number\")\n",
    "        else:\n",
    "            for i in range(2, number):\n",
    "                if (number % i) == 0:\n",
    "                    print(number, \"is not a prime number\")\n",
    "                    break\n",
    "            else:\n",
    "                print(number, \"is a prime number\")\n",
    "    else:\n",
    "        print(number, \"is not a prime number\")\n",
    "\n",
    "num = int(input(\"Enter a number: \"))\n",
    "check_prime(num)"
   ]
  },
  {
   "cell_type": "markdown",
   "id": "c1855289",
   "metadata": {},
   "source": [
    "### Elif Statements:"
   ]
  },
  {
   "cell_type": "markdown",
   "id": "27086b35",
   "metadata": {},
   "source": [
    "#### 21. Write a Python program to assign grades based on different ranges of scores using elif statements."
   ]
  },
  {
   "cell_type": "code",
   "execution_count": 21,
   "id": "c4dedf6c",
   "metadata": {},
   "outputs": [
    {
     "name": "stdout",
     "output_type": "stream",
     "text": [
      "Enter marks of the first subject: 89\n",
      "Enter marks of the second subject: 90\n",
      "Enter marks of the third subject: 78\n",
      "Enter marks of the fourth subject: 89\n",
      "Enter marks of the fifth subject: 67\n",
      "\n",
      "Average is:  87\n",
      "Grade: B\n"
     ]
    }
   ],
   "source": [
    "def student_grade():\n",
    "    \n",
    "    sub1=int(input(\"Enter marks of the first subject: \"))\n",
    "    sub2=int(input(\"Enter marks of the second subject: \"))\n",
    "    sub3=int(input(\"Enter marks of the third subject: \"))\n",
    "    sub4=int(input(\"Enter marks of the fourth subject: \"))\n",
    "    sub5=int(input(\"Enter marks of the fifth subject: \"))\n",
    "    avg = int((sub1+sub2+sub3+sub4+sub4)/5)\n",
    "    \n",
    "    print(\"\\nAverage is: \", avg)\n",
    "    if(avg>=90):\n",
    "        return \"Grade: A\"\n",
    "    elif avg>=80 and avg<90:\n",
    "        return \"Grade: B\"\n",
    "    elif avg>=70 and avg<80:\n",
    "        return \"Grade: C\"\n",
    "    elif avg>=60 and avg<70 :\n",
    "        return \"Grade: D\"\n",
    "    else:\n",
    "        return \"Grade: F\"\n",
    "print(student_grade())"
   ]
  },
  {
   "cell_type": "markdown",
   "id": "07642862",
   "metadata": {},
   "source": [
    "#### 22. Implement a program to determine the type of a triangle based on its angles."
   ]
  },
  {
   "cell_type": "code",
   "execution_count": 22,
   "id": "ab2796bf",
   "metadata": {},
   "outputs": [
    {
     "name": "stdout",
     "output_type": "stream",
     "text": [
      "Enter the first angle: 60\n",
      "Enter the second angle: 60\n",
      "Enter the third angle: 60\n",
      "The triangle is Equilateral\n"
     ]
    }
   ],
   "source": [
    "def triangle_type(a, b, c):\n",
    "   \n",
    "    if a == b == c:\n",
    "        return \"Equilateral\"\n",
    "    elif a == b or b == c or c == a:\n",
    "        return \"Isosceles\"\n",
    "    else:\n",
    "        return \"Scalene\"\n",
    "\n",
    "\n",
    "a = float(input(\"Enter the first angle: \"))\n",
    "b = float(input(\"Enter the second angle: \"))\n",
    "c = float(input(\"Enter the third angle: \"))\n",
    "\n",
    "triangle = triangle_type(a, b, c)\n",
    "print(\"The triangle is\" , triangle)"
   ]
  },
  {
   "cell_type": "markdown",
   "id": "83dbce52",
   "metadata": {},
   "source": [
    "#### 23. Develop a program to categorize a given person's BMI into underweight, normal, overweight, or obese using elif statements."
   ]
  },
  {
   "cell_type": "code",
   "execution_count": 23,
   "id": "12cc70f4",
   "metadata": {},
   "outputs": [
    {
     "name": "stdout",
     "output_type": "stream",
     "text": [
      "Enter your weight in kg: 70\n",
      "Enter your height in meters: 1.8\n",
      "Your BMI is 21.6. You are normal.\n"
     ]
    }
   ],
   "source": [
    "def bmi(weight, height):\n",
    "    bmi = weight / (height ** 2)\n",
    "\n",
    "    if bmi < 18.5:\n",
    "        return \"Your BMI is \" + str(round(bmi, 2)) + \". You are underweight.\"\n",
    "    elif bmi < 25:\n",
    "        return \"Your BMI is \" + str(round(bmi, 2)) + \". You are normal.\"\n",
    "    elif bmi < 30:\n",
    "        return \"Your BMI is \" + str(round(bmi, 2))+ \". You are overweight.\"\n",
    "    else:\n",
    "        \n",
    "        return \"Your BMI is \" + str(round(bmi, 2))+ \"You are obese.\"\n",
    "    \n",
    "weight = float(input(\"Enter your weight in kg: \"))\n",
    "height = float(input(\"Enter your height in meters: \"))\n",
    "print(bmi(weight, height))"
   ]
  },
  {
   "cell_type": "markdown",
   "id": "46228833",
   "metadata": {},
   "source": [
    "#### 24. Create a program that determines whether a given number is positive, negative, or zero using elif statements."
   ]
  },
  {
   "cell_type": "code",
   "execution_count": 24,
   "id": "8f8a30c7",
   "metadata": {},
   "outputs": [
    {
     "name": "stdout",
     "output_type": "stream",
     "text": [
      "Enter a number: 78\n",
      "Entered number is positive\n"
     ]
    }
   ],
   "source": [
    "def pos_negative_zero(x):\n",
    "    \n",
    "    if x>0:\n",
    "        return \"Entered number is positive\"\n",
    "    elif x < 0:\n",
    "        return \"Entered number is negative\"\n",
    "    else:\n",
    "        return \"Enterd number is zero\"\n",
    "   \n",
    "x = int(input(\"Enter a number: \")) \n",
    "print(pos_negative_zero(x))"
   ]
  },
  {
   "cell_type": "markdown",
   "id": "81af0f67",
   "metadata": {},
   "source": [
    "#### 25. Write a Python script to determine the type of a character (uppercase, lowercase, or special) using elif statements."
   ]
  },
  {
   "cell_type": "code",
   "execution_count": 25,
   "id": "6b6e581c",
   "metadata": {},
   "outputs": [
    {
     "name": "stdout",
     "output_type": "stream",
     "text": [
      "Enter a character: W\n",
      "Entered character is Uppercase\n"
     ]
    }
   ],
   "source": [
    "def char_type(char):\n",
    "    \n",
    "    if char.isupper():\n",
    "        return \"Entered character is Uppercase\"\n",
    "    elif char.islower():\n",
    "        return \"Entered character is Lower\"\n",
    "    else:\n",
    "        return \"Entered character is Special Character\"\n",
    "char = input(\"Enter a character: \")\n",
    "print(char_type(char))"
   ]
  },
  {
   "cell_type": "markdown",
   "id": "a9a9c69e",
   "metadata": {},
   "source": [
    "#### 26. Implement a program to calculate the discounted price based on different purchase amounts using elif statements."
   ]
  },
  {
   "cell_type": "code",
   "execution_count": 26,
   "id": "75cd095b",
   "metadata": {},
   "outputs": [
    {
     "name": "stdout",
     "output_type": "stream",
     "text": [
      "Enter the purchase amount: 15000\n",
      "Discount:  1800.0\n",
      "Net Pay:  13200.0\n"
     ]
    }
   ],
   "source": [
    "def discounted_price(amount): \n",
    "    if amount > 0:\n",
    "        if amount <= 5000:\n",
    "            discount = amount * 0.05\n",
    "        elif amount <= 15000:\n",
    "            discount = amount * 0.12\n",
    "        elif amount <= 25000:\n",
    "            discount = 0.2 * amount\n",
    "        else:\n",
    "            discount = 0.3 * amount\n",
    "\n",
    "        print(\"Discount: \", round(discount,2))\n",
    "        print(\"Net Pay: \", round((amount - discount),2))\n",
    "    else:\n",
    "        print(\"Invalid Amount\")\n",
    "        \n",
    "amount = int(input(\"Enter the purchase amount: \"))\n",
    "discounted_price(amount)\n"
   ]
  },
  {
   "cell_type": "markdown",
   "id": "3115af9d",
   "metadata": {},
   "source": [
    "#### 27. Develop a program to calculate the electricity bill based on different consumption slabs using elif statements."
   ]
  },
  {
   "cell_type": "code",
   "execution_count": 27,
   "id": "7de43913",
   "metadata": {},
   "outputs": [
    {
     "name": "stdout",
     "output_type": "stream",
     "text": [
      "Please enter the number of units you consumed: 200\n",
      "Total bill: 2900\n"
     ]
    }
   ],
   "source": [
    "def electricity_bill(units): \n",
    "\n",
    "\n",
    "    if units < 50:\n",
    "        amount = 50 + units * 10\n",
    "   \n",
    "    elif units <= 100:\n",
    "        amount =  200 + 500 + ((units - 50) * 12)\n",
    "   \n",
    "    elif units <= 200:\n",
    "        amount = 300 + 500 + 600 + ((units - 100) * 15)\n",
    "    \n",
    "    else:\n",
    "        amount = 500 + 500 + 600 + 1500 + ((units - 200) * 20)\n",
    "        \n",
    "    return \"Total bill: \" + str(amount)\n",
    "    \n",
    "\n",
    "units = int(input(\"Please enter the number of units you consumed: \"))\n",
    "print(electricity_bill(units))"
   ]
  },
  {
   "cell_type": "markdown",
   "id": "93c4db1f",
   "metadata": {},
   "source": [
    "#### 28. Create a program to determine the type of quadrilateral based on its angles and sides using elif statements."
   ]
  },
  {
   "cell_type": "code",
   "execution_count": 28,
   "id": "5e2ffc88",
   "metadata": {},
   "outputs": [
    {
     "name": "stdout",
     "output_type": "stream",
     "text": [
      "Enter the first angle: 90\n",
      "Enter the second angle: 90\n",
      "Enter the third angle: 90\n",
      "Enter the fourth angle: 90\n",
      "The quadrilateral is a square.\n"
     ]
    }
   ],
   "source": [
    "def quadrilateral_type(a,b,c,d): \n",
    "\n",
    "    if a == b == c == d == 90:\n",
    "        return \"The quadrilateral is a square.\"\n",
    "    elif a == b == c == d:\n",
    "        return \"The quadrilateral is a rhombus.\"\n",
    "    elif a == c and b == d or a == b and c == d or a == d and b == c:\n",
    "        return \"The quadrilateral is a rectangle.\"\n",
    "    elif a + b + c + d == 360:\n",
    "        return \"The quadrilateral is a general quadrilateral.\"\n",
    "    else:\n",
    "        return \"The input angles do not form a valid quadrilateral.\"\n",
    "    \n",
    "a = int(input(\"Enter the first angle: \"))\n",
    "b = int(input(\"Enter the second angle: \"))\n",
    "c = int(input(\"Enter the third angle: \"))\n",
    "d = int(input(\"Enter the fourth angle: \"))\n",
    "\n",
    "print(quadrilateral_type(a,b,c,d))"
   ]
  },
  {
   "cell_type": "markdown",
   "id": "8ca9cfe7",
   "metadata": {},
   "source": [
    "#### 29. Write a Python script to determine the season based on a user-provided month using elif statements."
   ]
  },
  {
   "cell_type": "code",
   "execution_count": 29,
   "id": "103fa33b",
   "metadata": {},
   "outputs": [
    {
     "name": "stdout",
     "output_type": "stream",
     "text": [
      "Enter a month: May\n",
      "The season is Spring\n"
     ]
    }
   ],
   "source": [
    "def determine_season(month):\n",
    "    if month in ['December', 'January', 'February']:\n",
    "        return 'Winter'\n",
    "    elif month in ['March', 'April', 'May']:\n",
    "        return 'Spring'\n",
    "    elif month in ['June', 'July', 'August']:\n",
    "        return 'Summer'\n",
    "    elif month in ['September', 'October', 'November']:\n",
    "        return 'Autumn'\n",
    "    else:\n",
    "        return 'Invalid month'\n",
    "\n",
    "\n",
    "month = input(\"Enter a month: \")\n",
    "print(\"The season is\", determine_season(month))"
   ]
  },
  {
   "cell_type": "markdown",
   "id": "06478193",
   "metadata": {},
   "source": [
    "#### 30. Implement a program to determine the type of a year (leap or common) and month (30 or 31 days) using elif statements."
   ]
  },
  {
   "cell_type": "code",
   "execution_count": 30,
   "id": "ccb882a7",
   "metadata": {},
   "outputs": [
    {
     "name": "stdout",
     "output_type": "stream",
     "text": [
      "Enter a year: 1800\n",
      "Enter a month (1-12): 2\n",
      "The year is a leap year: False. And the month has: 28 days.\n"
     ]
    }
   ],
   "source": [
    "def year_month_info(year, month):\n",
    "    # Check if the year is a leap year\n",
    "    if year % 4 == 0:\n",
    "        if year % 100 == 0:\n",
    "            if year % 400 == 0:\n",
    "                leap_year = True\n",
    "            else:\n",
    "                leap_year = False\n",
    "        else:\n",
    "            leap_year = True\n",
    "    else:\n",
    "        leap_year = False\n",
    "\n",
    "    # Determine the number of days in the month\n",
    "    if month in [4, 6, 9, 11]:\n",
    "        days = 30\n",
    "    elif month == 2:\n",
    "        if leap_year:\n",
    "            days = 29\n",
    "        else:\n",
    "            days = 28\n",
    "    else:\n",
    "        days = 31\n",
    "\n",
    "    return \"The year is a leap year: \" + str(leap_year) + \". And the month has: \" + str(days) +  \" days.\"\n",
    "\n",
    "year = int(input(\"Enter a year: \"))\n",
    "month = int(input(\"Enter a month (1-12): \"))\n",
    "\n",
    "print(year_month_info(year, month))"
   ]
  },
  {
   "cell_type": "markdown",
   "id": "c7d888e9",
   "metadata": {},
   "source": [
    "### Basic Level:"
   ]
  },
  {
   "cell_type": "markdown",
   "id": "f19d1684",
   "metadata": {},
   "source": [
    "#### 1. Write a Python program that checks if a given number is positive, negative, or zero."
   ]
  },
  {
   "cell_type": "code",
   "execution_count": 31,
   "id": "11c7aa92",
   "metadata": {},
   "outputs": [
    {
     "name": "stdout",
     "output_type": "stream",
     "text": [
      "Enter a number: 34\n",
      "Entered number is positive\n"
     ]
    }
   ],
   "source": [
    "def pos_negative_zero(x):\n",
    "    \n",
    "    if x>0:\n",
    "        return \"Entered number is positive\"\n",
    "    elif x < 0:\n",
    "        return \"Entered number is negative\"\n",
    "    else:\n",
    "        return \"Enterd number is zero\"\n",
    "   \n",
    "x = int(input(\"Enter a number: \")) \n",
    "print(pos_negative_zero(x))"
   ]
  },
  {
   "cell_type": "markdown",
   "id": "88a77d61",
   "metadata": {},
   "source": [
    "#### 2. Create a program to determine if a person is eligible to vote based on their age."
   ]
  },
  {
   "cell_type": "code",
   "execution_count": 32,
   "id": "8ec3a9c7",
   "metadata": {},
   "outputs": [
    {
     "data": {
      "text/plain": [
       "'Eligible'"
      ]
     },
     "execution_count": 32,
     "metadata": {},
     "output_type": "execute_result"
    }
   ],
   "source": [
    "def check_voting_age(x):\n",
    "    \n",
    "    if x<=0:\n",
    "        return \"Invalid input\"\n",
    "    elif x<18:\n",
    "        return \"Not eligible\"\n",
    "    else:\n",
    "        return \"Eligible\"\n",
    "check_voting_age(18)"
   ]
  },
  {
   "cell_type": "markdown",
   "id": "61aa7ba6",
   "metadata": {},
   "source": [
    "#### 3. Develop a program to find the maximum of two numbers using if-else statements."
   ]
  },
  {
   "cell_type": "code",
   "execution_count": 33,
   "id": "696a0d5e",
   "metadata": {},
   "outputs": [
    {
     "data": {
      "text/plain": [
       "'1000 is maximum'"
      ]
     },
     "execution_count": 33,
     "metadata": {},
     "output_type": "execute_result"
    }
   ],
   "source": [
    "def find_max(x,y):\n",
    "    \n",
    "    if x == y:\n",
    "        return \"Both numbers are equal\"\n",
    "    elif x<y:\n",
    "        return str(y)+ \" is maximum\"\n",
    "    else:\n",
    "        return str(x) + \" is maximum\"\n",
    "find_max(1000, -100)"
   ]
  },
  {
   "cell_type": "markdown",
   "id": "e18a33da",
   "metadata": {},
   "source": [
    "#### 4. Develop a program that calculates the grade of a student based on their exam score."
   ]
  },
  {
   "cell_type": "code",
   "execution_count": 34,
   "id": "bdd0d7fb",
   "metadata": {},
   "outputs": [
    {
     "name": "stdout",
     "output_type": "stream",
     "text": [
      "Enter marks of the first subject: 89\n",
      "Enter marks of the second subject: 89\n",
      "Enter marks of the third subject: 89\n",
      "Enter marks of the fourth subject: 89\n",
      "Enter marks of the fifth subject: 90\n",
      "\n",
      "Average is:  89\n",
      "Grade: B\n"
     ]
    }
   ],
   "source": [
    "def student_grade():\n",
    "    \n",
    "    sub1=int(input(\"Enter marks of the first subject: \"))\n",
    "    sub2=int(input(\"Enter marks of the second subject: \"))\n",
    "    sub3=int(input(\"Enter marks of the third subject: \"))\n",
    "    sub4=int(input(\"Enter marks of the fourth subject: \"))\n",
    "    sub5=int(input(\"Enter marks of the fifth subject: \"))\n",
    "    avg = int((sub1+sub2+sub3+sub4+sub5)/5)\n",
    "    \n",
    "    print(\"\\nAverage is: \", avg)\n",
    "    if(avg>=90):\n",
    "        return \"Grade: A\"\n",
    "    elif avg>=80 and avg<90:\n",
    "        return \"Grade: B\"\n",
    "    elif avg>=70 and avg<80:\n",
    "        return \"Grade: C\"\n",
    "    elif avg>=60 and avg<70 :\n",
    "        return \"Grade: D\"\n",
    "    else:\n",
    "        return \"Grade: F\"\n",
    "print(student_grade())"
   ]
  },
  {
   "cell_type": "markdown",
   "id": "99802670",
   "metadata": {},
   "source": [
    "#### 5. Create a program that checks if a year is a leap year or not."
   ]
  },
  {
   "cell_type": "code",
   "execution_count": 35,
   "id": "d064a5a2",
   "metadata": {},
   "outputs": [
    {
     "data": {
      "text/plain": [
       "'2000 is a leap year'"
      ]
     },
     "execution_count": 35,
     "metadata": {},
     "output_type": "execute_result"
    }
   ],
   "source": [
    "def is_leap_year(year):\n",
    "\n",
    "    if (year % 400 == 0) and (year % 100 == 0):\n",
    "        return str(year) + \" is a leap year\"\n",
    "    elif (year % 4 == 0) and (year % 100 != 0):\n",
    "        return str(year) + \" is a leap year\"\n",
    "    else:\n",
    "        return str(year) + \" is not a leap year\"\n",
    "is_leap_year(2000)"
   ]
  },
  {
   "cell_type": "markdown",
   "id": "d8ad57ef",
   "metadata": {},
   "source": [
    "#### 6. Write a program to classify a triangle based on its sides' lengths."
   ]
  },
  {
   "cell_type": "code",
   "execution_count": 36,
   "id": "30623308",
   "metadata": {},
   "outputs": [
    {
     "name": "stdout",
     "output_type": "stream",
     "text": [
      "Input lengths of the triangle sides:\n",
      "x: 7\n",
      "y: 7\n",
      "z: 7\n",
      "\n",
      "Equilateral triangle\n"
     ]
    }
   ],
   "source": [
    "def is_triangle_type():\n",
    "    print(\"Input lengths of the triangle sides:\")\n",
    "    x = int(input(\"x: \"))\n",
    "    y = int(input(\"y: \"))\n",
    "    z = int(input(\"z: \"))\n",
    "\n",
    "    if x == y == z:\n",
    "        return \"\\nEquilateral triangle\"\n",
    "    elif x == y or y == z or z == x:\n",
    "        return \"\\nIsosceles triangle\"\n",
    "    else:\n",
    "        return \"\\nScalene triangle\"\n",
    "print(is_triangle_type())"
   ]
  },
  {
   "cell_type": "markdown",
   "id": "3a340e8b",
   "metadata": {},
   "source": [
    "#### 7. Build a program that determines the largest of three given numbers."
   ]
  },
  {
   "cell_type": "code",
   "execution_count": 37,
   "id": "8844f575",
   "metadata": {},
   "outputs": [
    {
     "name": "stdout",
     "output_type": "stream",
     "text": [
      "10 is the largest\n"
     ]
    }
   ],
   "source": [
    "def max_of_3_nums(x,y,z):\n",
    "    \n",
    "    if (x>= y) and (x >= z):\n",
    "        largest = x\n",
    "    elif (y >= x) and (y >= z):\n",
    "        largest = y\n",
    "    else:\n",
    "        largest = z\n",
    "    return str(largest) + \" is the largest\"\n",
    "\n",
    "print(max_of_3_nums(10,-10,0)) "
   ]
  },
  {
   "cell_type": "markdown",
   "id": "8865017d",
   "metadata": {},
   "source": [
    "#### 8. Develop a program that checks whether a character is a vowel or a consonant."
   ]
  },
  {
   "cell_type": "code",
   "execution_count": 38,
   "id": "46eb4196",
   "metadata": {},
   "outputs": [
    {
     "data": {
      "text/plain": [
       "'F is a consonant'"
      ]
     },
     "execution_count": 38,
     "metadata": {},
     "output_type": "execute_result"
    }
   ],
   "source": [
    "def is_vowel_or_consonant(char):\n",
    "    \n",
    "    if str(char) in \"aeiouAEIOU\":\n",
    "        return char + \" is a vowel\"\n",
    "    else:\n",
    "        return char + \" is a consonant\"\n",
    "char = \"F\"\n",
    "is_vowel_or_consonant(char)"
   ]
  },
  {
   "cell_type": "markdown",
   "id": "e1d1c3e6",
   "metadata": {},
   "source": [
    "#### 9. Create a program to calculate the total cost of a shopping cart based on discounts."
   ]
  },
  {
   "cell_type": "code",
   "execution_count": 39,
   "id": "40ca1801",
   "metadata": {},
   "outputs": [
    {
     "name": "stdout",
     "output_type": "stream",
     "text": [
      "Enter the purchase amount: 20000\n",
      "Discount:  4000.0\n",
      "Net Pay:  16000.0\n"
     ]
    }
   ],
   "source": [
    "def discounted_price(amount): \n",
    "    if amount > 0:\n",
    "        if amount <= 5000:\n",
    "            discount = amount * 0.05\n",
    "        elif amount <= 15000:\n",
    "            discount = amount * 0.12\n",
    "        elif amount <= 25000:\n",
    "            discount = 0.2 * amount\n",
    "        else:\n",
    "            discount = 0.3 * amount\n",
    "\n",
    "        print(\"Discount: \", round(discount,2))\n",
    "        print(\"Net Pay: \", round((amount - discount),2))\n",
    "    else:\n",
    "        print(\"Invalid Amount\")\n",
    "        \n",
    "amount = int(input(\"Enter the purchase amount: \"))\n",
    "discounted_price(amount)\n"
   ]
  },
  {
   "cell_type": "markdown",
   "id": "a3cf72c3",
   "metadata": {},
   "source": [
    "#### 10. Write a program that checks if a given number is even or odd."
   ]
  },
  {
   "cell_type": "code",
   "execution_count": 40,
   "id": "3d736f73",
   "metadata": {},
   "outputs": [
    {
     "data": {
      "text/plain": [
       "'1 is odd'"
      ]
     },
     "execution_count": 40,
     "metadata": {},
     "output_type": "execute_result"
    }
   ],
   "source": [
    "def is_even_or_odd(x):\n",
    "    \n",
    "    if x % 2 == 0:\n",
    "        return str(x) + \" is even\"\n",
    "    else:\n",
    "        return str(x) + \" is odd\"\n",
    "is_even_or_odd(1)"
   ]
  },
  {
   "cell_type": "markdown",
   "id": "a9d8a177",
   "metadata": {},
   "source": [
    "#### Intermediate Level:"
   ]
  },
  {
   "cell_type": "markdown",
   "id": "08a390f6",
   "metadata": {},
   "source": [
    "#### 11. Write a program that calculates the roots of a quadratic equation ."
   ]
  },
  {
   "cell_type": "code",
   "execution_count": 41,
   "id": "17718984",
   "metadata": {},
   "outputs": [
    {
     "name": "stdout",
     "output_type": "stream",
     "text": [
      "Enter the coefficient of x^2: 1\n",
      "Enter the coefficient of x: 2\n",
      "Enter the constant term: 1\n",
      "The roots of the quadratic equation 1.0x^2 + 2.0x + 1.0 are -1.0 and -1.0.\n"
     ]
    }
   ],
   "source": [
    "import math\n",
    "def quadratic_equation_roots(a,b,c):\n",
    "\n",
    "    # calculate the discriminant\n",
    "    d = (b**2) - (4*a*c)\n",
    "\n",
    "    # find the two roots\n",
    "    root1 = (-b - math.sqrt(d)) / (2*a)\n",
    "    root2 = (-b + math.sqrt(d)) / (2*a)\n",
    "\n",
    "    print(f\"The roots of the quadratic equation {a}x^2 + {b}x + {c} are {root1} and {root2}.\")\n",
    "    \n",
    "a = float(input(\"Enter the coefficient of x^2: \"))\n",
    "b = float(input(\"Enter the coefficient of x: \"))\n",
    "c = float(input(\"Enter the constant term: \"))\n",
    "\n",
    "quadratic_equation_roots(a,b,c)"
   ]
  },
  {
   "cell_type": "markdown",
   "id": "6cfdc7f7",
   "metadata": {},
   "source": [
    "#### 12. Create a program that determines the day of the week based on the day number (1-7)."
   ]
  },
  {
   "cell_type": "code",
   "execution_count": 42,
   "id": "65eb491f",
   "metadata": {},
   "outputs": [
    {
     "name": "stdout",
     "output_type": "stream",
     "text": [
      "Enter a number between 1 and 7: 4\n",
      "The day of the week is: Thursday\n"
     ]
    }
   ],
   "source": [
    "def get_day_of_week(day_number):\n",
    "    days = [\"Monday\", \"Tuesday\", \"Wednesday\", \"Thursday\", \"Friday\", \"Saturday\", \"Sunday\"]\n",
    "    if day_number < 1 or day_number > 7:\n",
    "        return \"Invalid input. Please enter a number between 1 and 7.\"\n",
    "    return days[day_number - 1]\n",
    "\n",
    "day_number = int(input(\"Enter a number between 1 and 7: \"))\n",
    "day_of_week = get_day_of_week(day_number)\n",
    "print(\"The day of the week is:\", day_of_week)"
   ]
  },
  {
   "cell_type": "markdown",
   "id": "47fe8d1f",
   "metadata": {},
   "source": [
    "#### 13. Develop a program that calculates the factorial of a given number using recursion."
   ]
  },
  {
   "cell_type": "code",
   "execution_count": 43,
   "id": "dc895f10",
   "metadata": {},
   "outputs": [
    {
     "data": {
      "text/plain": [
       "120"
      ]
     },
     "execution_count": 43,
     "metadata": {},
     "output_type": "execute_result"
    }
   ],
   "source": [
    "def factorial(n):\n",
    "    \n",
    "    if n == 0 or n ==1:\n",
    "        return 1\n",
    "    else:\n",
    "        return n*factorial(n-1)\n",
    "factorial(5)"
   ]
  },
  {
   "cell_type": "markdown",
   "id": "5494cb9d",
   "metadata": {},
   "source": [
    "#### 14. Write a program to find the largest among three numbers without using the `max()` function."
   ]
  },
  {
   "cell_type": "code",
   "execution_count": 44,
   "id": "d18a4e60",
   "metadata": {},
   "outputs": [
    {
     "name": "stdout",
     "output_type": "stream",
     "text": [
      "10 is the largest\n"
     ]
    }
   ],
   "source": [
    "def max_of_3_nums(x,y,z):\n",
    "    \n",
    "    if (x>= y) and (x >= z):\n",
    "        largest = x\n",
    "    elif (y >= x) and (y >= z):\n",
    "        largest = y\n",
    "    else:\n",
    "        largest = z\n",
    "    return str(largest) + \" is the largest\"\n",
    "\n",
    "print(max_of_3_nums(10,-10,0)) "
   ]
  },
  {
   "cell_type": "markdown",
   "id": "59999e2d",
   "metadata": {},
   "source": [
    "#### 15. Create a program that simulates a basic ATM transaction menu."
   ]
  },
  {
   "cell_type": "code",
   "execution_count": 45,
   "id": "c72b12f2",
   "metadata": {},
   "outputs": [
    {
     "name": "stdout",
     "output_type": "stream",
     "text": [
      "\n",
      "1 - Check Balance\n",
      "2 - Deposit Money\n",
      "3 - Withdraw Money\n",
      "4 - Exit\n",
      "\n",
      "Enter your choice: 1\n",
      "Your current balance is:  0\n",
      "\n",
      "1 - Check Balance\n",
      "2 - Deposit Money\n",
      "3 - Withdraw Money\n",
      "4 - Exit\n",
      "\n",
      "Enter your choice: 2\n",
      "Enter amount to deposit: 1000\n",
      "Your current balance after deposit is:  1000.0\n",
      "\n",
      "1 - Check Balance\n",
      "2 - Deposit Money\n",
      "3 - Withdraw Money\n",
      "4 - Exit\n",
      "\n",
      "Enter your choice: 3\n",
      "Enter amount to withdraw: 1000\n",
      "Your current balance after withdrawal is:  0.0\n",
      "\n",
      "1 - Check Balance\n",
      "2 - Deposit Money\n",
      "3 - Withdraw Money\n",
      "4 - Exit\n",
      "\n",
      "Enter your choice: 4\n"
     ]
    }
   ],
   "source": [
    "balance = 0 # Global variable\n",
    "\n",
    "def check_balance():\n",
    "    return balance\n",
    "\n",
    "def deposit(amount):\n",
    "    global balance\n",
    "    balance += amount\n",
    "    return balance\n",
    "\n",
    "def withdraw(amount):\n",
    "    global balance\n",
    "    if amount > balance:\n",
    "        return 'Insufficient balance'\n",
    "    else:\n",
    "        balance -= amount\n",
    "        return balance\n",
    "\n",
    "while True:\n",
    "    print(\"\\n1 - Check Balance\")\n",
    "    print(\"2 - Deposit Money\")\n",
    "    print(\"3 - Withdraw Money\")\n",
    "    print(\"4 - Exit\\n\")\n",
    "\n",
    "    choice = int(input(\"Enter your choice: \"))\n",
    "\n",
    "    if choice == 1:\n",
    "        print(\"Your current balance is: \", check_balance())\n",
    "    elif choice == 2:\n",
    "        amount = float(input(\"Enter amount to deposit: \"))\n",
    "        print(\"Your current balance after deposit is: \", deposit(amount))\n",
    "    elif choice == 3:\n",
    "        amount = float(input(\"Enter amount to withdraw: \"))\n",
    "        print(\"Your current balance after withdrawal is: \", withdraw(amount))\n",
    "    elif choice == 4:\n",
    "        break"
   ]
  },
  {
   "cell_type": "markdown",
   "id": "618542d7",
   "metadata": {},
   "source": [
    "#### 16. Build a program that checks if a given string is a palindrome or not."
   ]
  },
  {
   "cell_type": "code",
   "execution_count": 46,
   "id": "25584aee",
   "metadata": {},
   "outputs": [
    {
     "name": "stdout",
     "output_type": "stream",
     "text": [
      "xyz is not palindrome\n",
      "aba is palindrome\n"
     ]
    }
   ],
   "source": [
    "def is_palindrome(str):\n",
    "    \n",
    "    if str[::-1] == str:\n",
    "        return str + \" is palindrome\"\n",
    "    else:\n",
    "        return str + \" is not palindrome\"\n",
    "    \n",
    "print(is_palindrome(\"xyz\"))\n",
    "print(is_palindrome(\"aba\"))"
   ]
  },
  {
   "cell_type": "markdown",
   "id": "00aeeed0",
   "metadata": {},
   "source": [
    "#### 17. Write a program that calculates the average of a list of numbers, excluding the smallest and largest values."
   ]
  },
  {
   "cell_type": "code",
   "execution_count": 47,
   "id": "32ca3408",
   "metadata": {},
   "outputs": [
    {
     "name": "stdout",
     "output_type": "stream",
     "text": [
      "The average is: 3.5\n"
     ]
    }
   ],
   "source": [
    "def calculate_average(numbers):\n",
    "    if len(numbers) <= 2:\n",
    "        return \"The list must have more than two elements.\"\n",
    "    else:\n",
    "        numbers.remove(max(numbers))\n",
    "        numbers.remove(min(numbers))\n",
    "        return \"The average is: \" + str(sum(numbers) / len(numbers))\n",
    "\n",
    "numbers = [1, 2, 3, 4, 5, 6]\n",
    "print(calculate_average(numbers))\n"
   ]
  },
  {
   "cell_type": "markdown",
   "id": "4f648344",
   "metadata": {},
   "source": [
    "#### 18. Develop a program that converts a given temperature from Celsius to Fahrenheit."
   ]
  },
  {
   "cell_type": "code",
   "execution_count": 48,
   "id": "636520da",
   "metadata": {},
   "outputs": [
    {
     "name": "stdout",
     "output_type": "stream",
     "text": [
      "Enter temperture in celsius0\n",
      "Temperature in Fahrenheit: 32.0\n"
     ]
    }
   ],
   "source": [
    "def celsius_to_fahrenheit(celsius):\n",
    "    \n",
    "    return \"Temperature in Fahrenheit: \" + str((9/5)*celsius + 32)\n",
    "celsius = int(input(\"Enter temperture in celsius\"))\n",
    "print(celsius_to_fahrenheit(celsius))"
   ]
  },
  {
   "cell_type": "markdown",
   "id": "8987bad7",
   "metadata": {},
   "source": [
    "#### 19. Create a program that simulates a basic calculator for addition, subtraction, multiplication, and division."
   ]
  },
  {
   "cell_type": "code",
   "execution_count": 49,
   "id": "50395653",
   "metadata": {},
   "outputs": [
    {
     "name": "stdout",
     "output_type": "stream",
     "text": [
      "Enter first number: 5\n",
      "Enter operator (+, -, *, /): -\n",
      "Enter second number: 3\n",
      "The result is:  2.0\n"
     ]
    }
   ],
   "source": [
    "def calculator():\n",
    "    \n",
    "    num1 = float(input(\"Enter first number: \"))\n",
    "    operator = input(\"Enter operator (+, -, *, /): \")\n",
    "    num2 = float(input(\"Enter second number: \"))\n",
    "\n",
    "    if operator == \"+\":\n",
    "        result = num1 + num2\n",
    "        print(\"The result is: \", result)\n",
    "    elif operator == \"-\":\n",
    "        result = num1 - num2\n",
    "        print(\"The result is: \", result)\n",
    "    elif operator == \"*\":\n",
    "        result = num1 * num2\n",
    "        print(\"The result is: \", result)\n",
    "    elif operator == \"/\":\n",
    "        if num2 != 0:\n",
    "            result = num1 / num2\n",
    "            print(\"The result is: \", result)\n",
    "        else:\n",
    "            print(\"Error! Division by zero is not allowed.\")\n",
    "    else:\n",
    "        print(\"Invalid operator. Please enter +, -, * or /.\")\n",
    "\n",
    "calculator()"
   ]
  },
  {
   "cell_type": "markdown",
   "id": "2120504c",
   "metadata": {},
   "source": [
    "#### 20. Write a program that determines the roots of a cubic equation using the Cardano formula."
   ]
  },
  {
   "cell_type": "code",
   "execution_count": 50,
   "id": "925fc6e1",
   "metadata": {},
   "outputs": [
    {
     "name": "stdout",
     "output_type": "stream",
     "text": [
      "((1-0j), (3+3.700743415417188e-17j), (2-7.401486830834377e-17j))\n"
     ]
    }
   ],
   "source": [
    "import cmath\n",
    "\n",
    "def find_roots(a, b, c, d):\n",
    "    # Coefficients must be non-zero\n",
    "    if a == 0:\n",
    "        print(\"Invalid input. 'a' must be non-zero.\")\n",
    "        return\n",
    "\n",
    "    # Convert coefficients to complex numbers\n",
    "    a, b, c, d = map(complex, (a, b, c, d))\n",
    "\n",
    "    # Normalize coefficients\n",
    "    b /= a\n",
    "    c /= a\n",
    "    d /= a\n",
    "\n",
    "    # Define discriminants\n",
    "    delta0 = b**2 - 3*c\n",
    "    delta1 = 2*b**3 - 9*b*c + 27*d\n",
    "\n",
    "    # Calculate discriminant and cube roots\n",
    "    C = ((delta1 + cmath.sqrt(delta1**2 - 4*delta0**3)) / 2)**(1/3)\n",
    "\n",
    "    # Calculate roots\n",
    "    u1 = 1\n",
    "    u2 = (-1 + cmath.sqrt(3)*1j) / 2\n",
    "    u3 = (-1 - cmath.sqrt(3)*1j) / 2\n",
    "\n",
    "    root1 = -(b + u1*C + delta0 / (u1*C)) / 3\n",
    "    root2 = -(b + u2*C + delta0 / (u2*C)) / 3\n",
    "    root3 = -(b + u3*C + delta0 / (u3*C)) / 3\n",
    "\n",
    "    return root1, root2, root3\n",
    "\n",
    "# Test the function with coefficients of a cubic equation\n",
    "print(find_roots(1, -6, 11, -6)) # x^3 - 6*x^2 + 11*x - 6"
   ]
  },
  {
   "cell_type": "markdown",
   "id": "4f35ee8d",
   "metadata": {},
   "source": [
    "## Advanced Level:"
   ]
  },
  {
   "cell_type": "markdown",
   "id": "47e2eb5d",
   "metadata": {},
   "source": [
    "#### 21. Create a program that calculates the income tax based on the user's income and tax brackets."
   ]
  },
  {
   "cell_type": "code",
   "execution_count": 51,
   "id": "b9c7c3e0",
   "metadata": {},
   "outputs": [
    {
     "name": "stdout",
     "output_type": "stream",
     "text": [
      "Enter your annual income: 100000\n",
      "Your income tax is:  0\n"
     ]
    }
   ],
   "source": [
    "def calculate(amount, percent):\n",
    "    return (amount * percent) / 100\n",
    "  \n",
    "def calculate_income_tax(total_income):\n",
    "  \n",
    "    if total_income <= 250000:\n",
    "        return 0\n",
    "    elif total_income <= 500000:\n",
    "        return calculate(total_income - 250000, 5)\n",
    "                         \n",
    "    elif total_income <= 750000:\n",
    "        return calculate(total_income - 500000, 10) \n",
    "                         \n",
    "    elif total_income <= 1000000:\n",
    "        return calculate(total_income -  750000, 15) \n",
    "                        \n",
    "    elif total_income <= 1250000:\n",
    "        return calculate(total_income - 1000000, 20)\n",
    "                          \n",
    "    elif total_income <= 1500000:\n",
    "        return calculate(total_income - 1250000, 25)\n",
    "                         \n",
    "    else:\n",
    "        return calculate(total_income - 1500000, 30) \n",
    "                         \n",
    "total_income = int(input(\"Enter your annual income: \"))\n",
    "print(\"Your income tax is: \", calculate_income_tax(total_income))"
   ]
  },
  {
   "cell_type": "markdown",
   "id": "c60b87d3",
   "metadata": {},
   "source": [
    "#### 22. Write a program that simulates a rock-paper-scissors game against the computer."
   ]
  },
  {
   "cell_type": "code",
   "execution_count": 52,
   "id": "0490bb1b",
   "metadata": {},
   "outputs": [
    {
     "name": "stdout",
     "output_type": "stream",
     "text": [
      "Rock, Paper, Scissors?: Rock\n",
      "You win! Rock smashes Scissors\n",
      "Do you want to exit(y/n): y\n"
     ]
    }
   ],
   "source": [
    "import random \n",
    " \n",
    "def rock_paper_scissors():\n",
    "    #Create a list of play options \n",
    "    play = [\"Rock\", \"Paper\", \"Scissors\"]\n",
    "\n",
    "    #Assign a random play to the system \n",
    "    computer = play[random.randint(0,2)] \n",
    " \n",
    "    #Set the player to False \n",
    "    player = False\n",
    "\n",
    "    while player == False: \n",
    "    \n",
    "        player = input(\"Rock, Paper, Scissors?: \") \n",
    "        if player == computer: \n",
    "            print(\"Tie!\") \n",
    "        elif player == \"Rock\": \n",
    "            if computer == \"Paper\": \n",
    "                print(\"You lose!\", computer, \"covers\", player) \n",
    "            else: \n",
    "                print(\"You win!\", player, \"smashes\", computer) \n",
    "        elif player == \"Paper\": \n",
    "            if computer == \"Scissors\": \n",
    "                print(\"You lose!\", computer, \"cuts\", player) \n",
    "            else: \n",
    "                print(\"You win!\", player, \"covers\", computer) \n",
    "        elif player == \"Scissors\": \n",
    "            if computer == \"Rock\": \n",
    "                print(\"You lose...\", computer, \"smashes\", player) \n",
    "            else: \n",
    "                print(\"You win!\", player, \"cuts\", computer) \n",
    "        else: \n",
    "            print(\"That's not a valid play. Check the spelling!\") \n",
    "        is_exit = input(\"Do you want to exit(y/n): \")\n",
    "        if is_exit== 'y':\n",
    "            player = True\n",
    "        else:\n",
    "            player = False           \n",
    "            computer = play[random.randint(0,2)]  \n",
    "rock_paper_scissors()"
   ]
  },
  {
   "cell_type": "markdown",
   "id": "6decdc77",
   "metadata": {},
   "source": [
    "#### 23. Develop a program that generates a random password based on user preferences (length, complexity)."
   ]
  },
  {
   "cell_type": "code",
   "execution_count": 53,
   "id": "f321aabd",
   "metadata": {},
   "outputs": [
    {
     "name": "stdout",
     "output_type": "stream",
     "text": [
      "Enter the length of the password: 8\n",
      "Enter the complexity level (1-4): 4\n",
      "Generated password: gzs-Fi+\"\n"
     ]
    }
   ],
   "source": [
    "\n",
    "import string\n",
    "import random\n",
    "\n",
    "def generate_password(length, complexity):\n",
    "    if complexity == 1:\n",
    "        chars = string.ascii_lowercase\n",
    "    elif complexity == 2:\n",
    "        chars = string.ascii_letters\n",
    "    elif complexity == 3:\n",
    "        chars = string.ascii_letters + string.digits\n",
    "    elif complexity == 4:\n",
    "        chars = string.ascii_letters + string.digits + string.punctuation\n",
    "    else:\n",
    "        return \"Invalid complexity level. Please choose between 1 and 4.\"\n",
    "\n",
    "    password = ''.join(random.choice(chars) for _ in range(length))\n",
    "    return \"Generated password: \" + password\n",
    "\n",
    "length = int(input(\"Enter the length of the password: \"))\n",
    "complexity = int(input(\"Enter the complexity level (1-4): \"))\n",
    "print(generate_password(length, complexity))"
   ]
  },
  {
   "cell_type": "markdown",
   "id": "38c7fce9",
   "metadata": {},
   "source": [
    "#### 24. Create a program that implements a simple text-based adventure game with branching scenarios."
   ]
  },
  {
   "cell_type": "code",
   "execution_count": 54,
   "id": "061cbba5",
   "metadata": {},
   "outputs": [
    {
     "name": "stdout",
     "output_type": "stream",
     "text": [
      "Welcome to the Adventure Game!\n",
      "You are standing at the entrance of a dark cave. Do you want to go in? (yes/no)\n",
      "> yes\n",
      "You are now inside the cave. You see a treasure chest and a dark tunnel. What do you do? (open chest/go tunnel)\n",
      "> open chest\n",
      "You found a treasure! Congratulations, you won!\n"
     ]
    }
   ],
   "source": [
    "\n",
    "\n",
    "def start_game():\n",
    "    print(\"Welcome to the Adventure Game!\")\n",
    "    print(\"You are standing at the entrance of a dark cave. Do you want to go in? (yes/no)\")\n",
    "\n",
    "    choice = input(\"> \")\n",
    "    if choice.lower() == \"yes\":\n",
    "        enter_cave()\n",
    "    elif choice.lower() == \"no\":\n",
    "        print(\"You decide to stay outside. Game Over.\")\n",
    "    else:\n",
    "        print(\"Invalid choice. Please type yes or no.\")\n",
    "        start_game()\n",
    "\n",
    "def enter_cave():\n",
    "    print(\"You are now inside the cave. You see a treasure chest and a dark tunnel. What do you do? (open chest/go tunnel)\")\n",
    "\n",
    "    choice = input(\"> \")\n",
    "    if choice.lower() == \"open chest\":\n",
    "        print(\"You found a treasure! Congratulations, you won!\")\n",
    "    elif choice.lower() == \"go tunnel\":\n",
    "        print(\"The tunnel leads to a dead end. Game Over.\")\n",
    "    else:\n",
    "        print(\"Invalid choice. Please type 'open chest' or 'go tunnel'.\")\n",
    "        enter_cave()\n",
    "\n",
    "start_game()"
   ]
  },
  {
   "cell_type": "markdown",
   "id": "be2b3f5f",
   "metadata": {},
   "source": [
    "#### 25. Build a program that solves a linear equation for x, considering different cases."
   ]
  },
  {
   "cell_type": "code",
   "execution_count": 55,
   "id": "c306f631",
   "metadata": {},
   "outputs": [
    {
     "name": "stdout",
     "output_type": "stream",
     "text": [
      "-2.0\n",
      "No solution\n",
      "Infinite solutions\n"
     ]
    }
   ],
   "source": [
    "\n",
    "def solve_linear_equation(a, b):\n",
    "    if a == 0 and b == 0:\n",
    "        return \"Infinite solutions\"\n",
    "    elif a == 0:\n",
    "        return \"No solution\"\n",
    "    else:\n",
    "        return -b/a\n",
    "\n",
    "print(solve_linear_equation(5, 10))  # Output: -2.0\n",
    "print(solve_linear_equation(0, 10))  # Output: No solution\n",
    "print(solve_linear_equation(0, 0))   # Output: Infinite solutions"
   ]
  },
  {
   "cell_type": "markdown",
   "id": "9e01a3ab",
   "metadata": {},
   "source": [
    "#### 26. Write a program that simulates a basic quiz game with multiple-choice questions and scoring."
   ]
  },
  {
   "cell_type": "code",
   "execution_count": 56,
   "id": "9c1418a7",
   "metadata": {},
   "outputs": [
    {
     "name": "stdout",
     "output_type": "stream",
     "text": [
      "What color are apples?\n",
      "(a) Red/Green\n",
      "(b) Purple\n",
      "(c) Orange\n",
      "a\n",
      "What color are bananas?\n",
      "(a) Teal\n",
      "(b) Magenta\n",
      "(c) Yellow\n",
      "c\n",
      "What color are strawberries?\n",
      "(a) Yellow\n",
      "(b) Red\n",
      "(c) Blue\n",
      "b\n",
      "You got 3/3 correct\n"
     ]
    }
   ],
   "source": [
    "\n",
    "def run_quiz(questions):\n",
    "    score = 0\n",
    "    for question in questions:\n",
    "        answer = input(question[\"prompt\"] + \"\\n\")\n",
    "        if answer == question[\"answer\"]:\n",
    "            score += 1\n",
    "    return \"You got \" + str(score) + \"/\" + str(len(questions)) + \" correct\"\n",
    "\n",
    "questions = [\n",
    "    {\n",
    "        \"prompt\": \"What color are apples?\\n(a) Red/Green\\n(b) Purple\\n(c) Orange\",\n",
    "        \"answer\": \"a\"\n",
    "    },\n",
    "    {\n",
    "        \"prompt\": \"What color are bananas?\\n(a) Teal\\n(b) Magenta\\n(c) Yellow\",\n",
    "        \"answer\": \"c\"\n",
    "    },\n",
    "    {\n",
    "        \"prompt\": \"What color are strawberries?\\n(a) Yellow\\n(b) Red\\n(c) Blue\",\n",
    "        \"answer\": \"b\"\n",
    "    },\n",
    "]\n",
    "\n",
    "print(run_quiz(questions))"
   ]
  },
  {
   "cell_type": "markdown",
   "id": "5d21b46a",
   "metadata": {},
   "source": [
    "#### 27. Develop a program that determines whether a given year is a prime number or not."
   ]
  },
  {
   "cell_type": "code",
   "execution_count": 57,
   "id": "347b58ad",
   "metadata": {},
   "outputs": [
    {
     "name": "stdout",
     "output_type": "stream",
     "text": [
      "Enter a year: 1200\n",
      "1200 is not a prime number.\n"
     ]
    }
   ],
   "source": [
    "def is_prime(n):\n",
    "    if n <= 1:\n",
    "        return False\n",
    "    elif n <= 3:\n",
    "        return True\n",
    "    elif n % 2 == 0 or n % 3 == 0:\n",
    "        return False\n",
    "    i = 5\n",
    "    while i * i <= n:\n",
    "        if n % i == 0 or n % (i + 2) == 0:\n",
    "            return False\n",
    "        i += 6\n",
    "    return True\n",
    "\n",
    "year = int(input(\"Enter a year: \"))\n",
    "if is_prime(year):\n",
    "    print(year, \" is a prime number.\")\n",
    "else:\n",
    "    print(year, \"is not a prime number.\")"
   ]
  },
  {
   "cell_type": "markdown",
   "id": "b5d4f54f",
   "metadata": {},
   "source": [
    "#### 28. Create a program that sorts three numbers in ascending order using conditional statements."
   ]
  },
  {
   "cell_type": "code",
   "execution_count": 58,
   "id": "e813b25e",
   "metadata": {},
   "outputs": [
    {
     "name": "stdout",
     "output_type": "stream",
     "text": [
      "(1, 2, 3)\n"
     ]
    }
   ],
   "source": [
    "def sort_numbers(a, b, c):\n",
    "    if a > b:\n",
    "        if a > c:\n",
    "            if b > c:\n",
    "                return c, b, a\n",
    "            else:\n",
    "                return b, c, a\n",
    "        else:\n",
    "            return b, a, c\n",
    "    else:\n",
    "        if b > c:\n",
    "            if a > c:\n",
    "                return c, a, b\n",
    "            else:\n",
    "                return a, c, b\n",
    "        else:\n",
    "            return a, b, c\n",
    "\n",
    "# Test the function\n",
    "print(sort_numbers(3, 1, 2))"
   ]
  },
  {
   "cell_type": "markdown",
   "id": "07bb2e65",
   "metadata": {},
   "source": [
    "#### 29. Build a program that determines the roots of a quartic equation using numerical methods."
   ]
  },
  {
   "cell_type": "code",
   "execution_count": 59,
   "id": "0e014ca3",
   "metadata": {},
   "outputs": [
    {
     "name": "stdout",
     "output_type": "stream",
     "text": [
      "The roots of the quartic equation are:  [4. 3. 2. 1.]\n"
     ]
    }
   ],
   "source": [
    "import numpy as np\n",
    "\n",
    "def find_roots(a, b, c, d, e):\n",
    "    # Coefficients of the quartic equation ax^4 + bx^3 + cx^2 + dx + e = 0\n",
    "    coefficients = [a, b, c, d, e]\n",
    "    \n",
    "    # Find the roots of the equation\n",
    "    roots = np.roots(coefficients)\n",
    "    \n",
    "    return roots\n",
    "\n",
    "a = 1\n",
    "b = -10\n",
    "c = 35\n",
    "d = -50\n",
    "e = 24\n",
    "\n",
    "roots = find_roots(a, b, c, d, e)\n",
    "print(\"The roots of the quartic equation are: \" , roots)"
   ]
  },
  {
   "cell_type": "markdown",
   "id": "da9092cb",
   "metadata": {},
   "source": [
    "#### 30. Write a program that calculates the BMI (Body Mass Index) and provides health recommendations based on the user's input."
   ]
  },
  {
   "cell_type": "code",
   "execution_count": 60,
   "id": "3a65047f",
   "metadata": {},
   "outputs": [
    {
     "name": "stdout",
     "output_type": "stream",
     "text": [
      "Enter your weight in kilograms: 80\n",
      "Enter your height in meters: 1.9\n",
      "Your BMI is: 22.1606648199446\n",
      "You have a normal weight. Keep maintaining your current lifestyle.\n"
     ]
    }
   ],
   "source": [
    "\n",
    "def calculate_bmi():\n",
    "    weight = float(input(\"Enter your weight in kilograms: \"))\n",
    "    height = float(input(\"Enter your height in meters: \"))\n",
    "    \n",
    "    bmi = weight / (height ** 2)\n",
    "    \n",
    "    print(f\"Your BMI is: {bmi}\")\n",
    "    \n",
    "    if bmi < 18.5:\n",
    "        print(\"You are underweight. It's recommended to gain some weight for better health.\")\n",
    "    elif 18.5 <= bmi < 24.9:\n",
    "        print(\"You have a normal weight. Keep maintaining your current lifestyle.\")\n",
    "    elif 25 <= bmi < 29.9:\n",
    "        print(\"You are overweight. It's recommended to lose some weight for better health.\")\n",
    "    else:\n",
    "        print(\"You are obese. It's recommended to lose weight as it can lead to serious health issues.\")\n",
    "\n",
    "calculate_bmi()"
   ]
  },
  {
   "cell_type": "markdown",
   "id": "51bb7b81",
   "metadata": {},
   "source": [
    "### Challenge Level:"
   ]
  },
  {
   "cell_type": "markdown",
   "id": "82526dd4",
   "metadata": {},
   "source": [
    "#### 31. Create a program that validates a password based on complexity rules (length, characters, etc.)."
   ]
  },
  {
   "cell_type": "code",
   "execution_count": 61,
   "id": "2944ecdc",
   "metadata": {},
   "outputs": [
    {
     "name": "stdout",
     "output_type": "stream",
     "text": [
      "Enter a password for validation: @Abc123$*#\n",
      "Password is valid\n"
     ]
    }
   ],
   "source": [
    "import re\n",
    "\n",
    "def validate_password(password):\n",
    "    if len(password) < 8:\n",
    "        return \"Password should be at least 8 characters long\"\n",
    "    elif not re.search(\"[a-z]\", password):\n",
    "        return \"Password should contain at least one lowercase letter\"\n",
    "    elif not re.search(\"[A-Z]\", password):\n",
    "        return \"Password should contain at least one uppercase letter\"\n",
    "    elif not re.search(\"[0-9]\", password):\n",
    "        return \"Password should contain at least one number\"\n",
    "    elif not re.search(\"[!@#$%]\", password):\n",
    "        return \"Password should contain at least one special character (!, @, #, $, %)\"\n",
    "    else:\n",
    "        return \"Password is valid\"\n",
    "\n",
    "password = input(\"Enter a password for validation: \")\n",
    "print(validate_password(password)) "
   ]
  },
  {
   "cell_type": "markdown",
   "id": "541e4571",
   "metadata": {},
   "source": [
    "#### 32. Develop a program that performs matrix addition and subtraction based on user input."
   ]
  },
  {
   "cell_type": "code",
   "execution_count": 62,
   "id": "b4aeeb19",
   "metadata": {},
   "outputs": [
    {
     "name": "stdout",
     "output_type": "stream",
     "text": [
      "Enter the number of rows: 3\n",
      "Enter the number of columns: 3\n",
      "Enter the elements of the first matrix:\n",
      "1\n",
      "2\n",
      "3\n",
      "4\n",
      "5\n",
      "6\n",
      "7\n",
      "8\n",
      "9\n",
      "Enter the elements of the second matrix:\n",
      "1\n",
      "2\n",
      "3\n",
      "4\n",
      "5\n",
      "6\n",
      "7\n",
      "8\n",
      "9\n",
      "The addition of two matrices is: \n",
      "[2, 4, 6]\n",
      "[8, 10, 12]\n",
      "[14, 16, 18]\n",
      "The subtraction of two matrices is: \n",
      "[0, 0, 0]\n",
      "[0, 0, 0]\n",
      "[0, 0, 0]\n"
     ]
    }
   ],
   "source": [
    "def matrix_add_subtract():\n",
    "    # Get matrix dimensions\n",
    "    rows = int(input(\"Enter the number of rows: \"))\n",
    "    cols = int(input(\"Enter the number of columns: \"))\n",
    "\n",
    "    print(\"Enter the elements of the first matrix:\")\n",
    "    matrix1 = [[int(input()) for _ in range(cols)] for _ in range(rows)]\n",
    "\n",
    "    print(\"Enter the elements of the second matrix:\")\n",
    "    matrix2 = [[int(input()) for _ in range(cols)] for _ in range(rows)]\n",
    "\n",
    "    # Initialize result matrices\n",
    "    result_add = [[0 for _ in range(cols)] for _ in range(rows)]\n",
    "    result_subtract = [[0 for _ in range(cols)] for _ in range(rows)]\n",
    "\n",
    "    # Perform addition and subtraction\n",
    "    for i in range(rows):\n",
    "        for j in range(cols):\n",
    "            result_add[i][j] = matrix1[i][j] + matrix2[i][j]\n",
    "            result_subtract[i][j] = matrix1[i][j] - matrix2[i][j]\n",
    "\n",
    "    print(\"The addition of two matrices is: \")\n",
    "    for r in result_add:\n",
    "        print(r)\n",
    "\n",
    "    print(\"The subtraction of two matrices is: \")\n",
    "    for r in result_subtract:\n",
    "        print(r)\n",
    "\n",
    "# Call the function\n",
    "matrix_add_subtract()"
   ]
  },
  {
   "cell_type": "markdown",
   "id": "dd6665d6",
   "metadata": {},
   "source": [
    "#### 33. Write a program that calculates the greatest common divisor (GCD) of two numbers using the Euclidean algorithm."
   ]
  },
  {
   "cell_type": "code",
   "execution_count": 63,
   "id": "99e65cc3",
   "metadata": {},
   "outputs": [
    {
     "name": "stdout",
     "output_type": "stream",
     "text": [
      "6\n"
     ]
    }
   ],
   "source": [
    "\n",
    "def gcd(a, b):\n",
    "    while b != 0:\n",
    "        a, b = b, a % b\n",
    "    return a\n",
    "\n",
    "# Test the function\n",
    "print(gcd(48, 18))"
   ]
  },
  {
   "cell_type": "markdown",
   "id": "9d7c0357",
   "metadata": {},
   "source": [
    "#### 34. Build a program that performs matrix multiplication using nested loops and conditional statements."
   ]
  },
  {
   "cell_type": "code",
   "execution_count": 64,
   "id": "2860027d",
   "metadata": {},
   "outputs": [
    {
     "name": "stdout",
     "output_type": "stream",
     "text": [
      "[[58, 64], [139, 154]]\n"
     ]
    }
   ],
   "source": [
    "def matrix_multiply(matrix1, matrix2):\n",
    "    if len(matrix1[0]) != len(matrix2):\n",
    "        return \"Matrix multiplication is not possible. The number of columns in the first matrix must be equal to the number of rows in the second matrix.\"\n",
    "\n",
    "    result = [[0 for _ in range(len(matrix2[0]))] for _ in range(len(matrix1))]\n",
    "\n",
    "    for i in range(len(matrix1)):\n",
    "        for j in range(len(matrix2[0])):\n",
    "            for k in range(len(matrix2)):\n",
    "                result[i][j] += matrix1[i][k] * matrix2[k][j]\n",
    "\n",
    "    return result\n",
    "\n",
    "matrix1 = [[1, 2, 3], [4, 5, 6]]\n",
    "matrix2 = [[7, 8], [9, 10], [11, 12]]\n",
    "\n",
    "print(matrix_multiply(matrix1, matrix2))"
   ]
  },
  {
   "cell_type": "markdown",
   "id": "defeaa0d",
   "metadata": {},
   "source": [
    "#### 35. Create a program that simulates a basic text-based tic-tac-toe game against the computer."
   ]
  },
  {
   "cell_type": "code",
   "execution_count": 65,
   "id": "700b8dfc",
   "metadata": {},
   "outputs": [
    {
     "name": "stdout",
     "output_type": "stream",
     "text": [
      "  |   |  \n",
      "--------\n",
      "  |   |  \n",
      "--------\n",
      "  |   |  \n",
      "Your move? 0 0\n",
      "X |   |  \n",
      "--------\n",
      "  |   |  \n",
      "--------\n",
      "  |   |  \n",
      "Computer's move: 1 1\n",
      "X |   |  \n",
      "--------\n",
      "  | O |  \n",
      "--------\n",
      "  |   |  \n",
      "Your move? 0 1\n",
      "X | X |  \n",
      "--------\n",
      "  | O |  \n",
      "--------\n",
      "  |   |  \n",
      "Computer's move: 2 1\n",
      "X | X |  \n",
      "--------\n",
      "  | O |  \n",
      "--------\n",
      "  | O |  \n",
      "Your move? 0 2\n",
      "X | X | X\n",
      "--------\n",
      "  | O |  \n",
      "--------\n",
      "  | O |  \n",
      "You win!\n"
     ]
    }
   ],
   "source": [
    "\n",
    "import random\n",
    "\n",
    "def print_board(board):\n",
    "    for i in range(3):\n",
    "        print(' | '.join(board[i]))\n",
    "        if i < 2:\n",
    "            print('--------')\n",
    "\n",
    "def check_win(board, sign):\n",
    "    win_conditions = [(0, 1, 2), (3, 4, 5), (6, 7, 8), (0, 3, 6), (1, 4, 7), (2, 5, 8), (0, 4, 8), (2, 4, 6)]\n",
    "    for condition in win_conditions:\n",
    "        if board[condition[0]//3][condition[0]%3] == board[condition[1]//3][condition[1]%3] == board[condition[2]//3][condition[2]%3] == sign:\n",
    "            return True\n",
    "    return False\n",
    "\n",
    "def tic_tac_toe():\n",
    "    board = [[' ']*3 for _ in range(3)]\n",
    "    player = 'X'\n",
    "    while True:\n",
    "        print_board(board)\n",
    "        if player == 'X':\n",
    "            move = input(\"Your move? \")\n",
    "            x, y = map(int, move.split())\n",
    "            board[x][y] = 'X'\n",
    "        else:\n",
    "            x, y = random.choice([(i,j) for i in range(3) for j in range(3) if board[i][j] == ' '])\n",
    "            print(f\"Computer's move: {x} {y}\")\n",
    "            board[x][y] = 'O'\n",
    "        if check_win(board, player):\n",
    "            print_board(board)\n",
    "            if player == 'X':\n",
    "                print(\"You win!\")\n",
    "            else:\n",
    "                print(\"Computer wins!\")\n",
    "            break\n",
    "        player = 'O' if player == 'X' else 'X'\n",
    "\n",
    "tic_tac_toe()"
   ]
  },
  {
   "cell_type": "markdown",
   "id": "96a97a3d",
   "metadata": {},
   "source": [
    "#### 36. Write a program that generates Fibonacci numbers up to a specified term using iterative methods."
   ]
  },
  {
   "cell_type": "code",
   "execution_count": 66,
   "id": "88c04104",
   "metadata": {},
   "outputs": [
    {
     "name": "stdout",
     "output_type": "stream",
     "text": [
      "Enter number of terms: 10\n",
      "0 1 1 2 3 5 8 13 21 34 "
     ]
    }
   ],
   "source": [
    "\n",
    "def fibonacci(n):\n",
    "    a, b = 0, 1\n",
    "    for _ in range(n):\n",
    "        print(a, end = \" \")\n",
    "        a, b = b, a + b\n",
    "\n",
    "# Test the function\n",
    "fib = int(input(\"Enter number of terms: \"))\n",
    "fibonacci(fib)"
   ]
  },
  {
   "cell_type": "markdown",
   "id": "d37c90a2",
   "metadata": {},
   "source": [
    "#### 37. Develop a program that calculates the nth term of the Fibonacci sequence using memoization."
   ]
  },
  {
   "cell_type": "code",
   "execution_count": 67,
   "id": "e60f6919",
   "metadata": {},
   "outputs": [
    {
     "name": "stdout",
     "output_type": "stream",
     "text": [
      "Enter the value of n: 10\n",
      "The10th term of the Fibonacci sequence is: 55\n"
     ]
    }
   ],
   "source": [
    "def fibonacci(n, memo={}):\n",
    "    if n in memo:\n",
    "        return memo[n]\n",
    "    if n <= 2:\n",
    "        return 1\n",
    "    memo[n] = fibonacci(n - 1, memo) + fibonacci(n - 2, memo)\n",
    "    return memo[n]\n",
    "\n",
    "n = int(input(\"Enter the value of n: \"))\n",
    "print(f\"The{n}th term of the Fibonacci sequence is: {fibonacci(n)}\")"
   ]
  },
  {
   "cell_type": "markdown",
   "id": "968e18e6",
   "metadata": {},
   "source": [
    "#### 38. Create a program that generates a calendar for a given month and year using conditional statements."
   ]
  },
  {
   "cell_type": "code",
   "execution_count": 68,
   "id": "1137b1a2",
   "metadata": {},
   "outputs": [
    {
     "name": "stdout",
     "output_type": "stream",
     "text": [
      "Enter the year: 2010\n",
      "Enter the month (1-12): 2\n",
      "Sun Mon Tue Wed Thu Fri Sat\n",
      "  1   2   3   4   5   6   7 \n",
      "  8   9  10  11  12  13  14 \n",
      " 15  16  17  18  19  20  21 \n",
      " 22  23  24  25  26  27  28 \n"
     ]
    }
   ],
   "source": [
    "def generate_calendar(year, month):\n",
    "    # Check if the year is a leap year\n",
    "    if year % 4 == 0:\n",
    "        leap_year = True\n",
    "    else:\n",
    "        leap_year = False\n",
    "\n",
    "    # Check if the month has 30 or 31 days\n",
    "    if month in [1, 3, 5, 7, 8, 10, 12]:\n",
    "        days = 31\n",
    "    elif month == 2:\n",
    "        if leap_year:\n",
    "            days = 29\n",
    "        else:\n",
    "            days = 28\n",
    "    else:\n",
    "        days = 30\n",
    "\n",
    "    # Print the calendar\n",
    "    print(\"Sun Mon Tue Wed Thu Fri Sat\")\n",
    "    for i in range(1, days + 1):\n",
    "        print(f\"{i:3}\", end=\" \")\n",
    "        if i % 7 == 0:\n",
    "            print()\n",
    "\n",
    "year = int(input(\"Enter the year: \"))\n",
    "month = int(input(\"Enter the month (1-12): \"))\n",
    "generate_calendar(year, month)"
   ]
  },
  {
   "cell_type": "markdown",
   "id": "f41db90a",
   "metadata": {},
   "source": [
    "#### 39. Build a program that simulates a basic text-based blackjack game against the computer."
   ]
  },
  {
   "cell_type": "code",
   "execution_count": 69,
   "id": "c00e6f8f",
   "metadata": {},
   "outputs": [
    {
     "name": "stdout",
     "output_type": "stream",
     "text": [
      "Your cards:  [11, 10] , current score:  0\n",
      "Computer's cards:  [3, 7]\n",
      "Your final hand:  [11, 10] , final score:  0\n",
      "Computer's final hand:  [3, 7, 5, 3] , final score:  18\n"
     ]
    }
   ],
   "source": [
    "\"\"\"This program will continue to deal cards to the player as long as they choose to draw. The dealer (computer) will stop\n",
    "   drawing cards once their score reaches or exceeds 17. The game ends when either player gets a Blackjack (21) or goes \n",
    "   bust (>21). \"\"\"\n",
    "\n",
    "import random\n",
    "\n",
    "def deal_card():\n",
    "  cards = [11, 2, 3, 4, 5, 6, 7, 8, 9, 10, 10, 10, 10]\n",
    "  return random.choice(cards)\n",
    "\n",
    "def calculate_score(hand):\n",
    "  if sum(hand) == 21 and len(hand) == 2:\n",
    "    return 0\n",
    "  if 11 in hand and sum(hand) > 21:\n",
    "    hand.remove(11)\n",
    "    hand.append(1)\n",
    "  return sum(hand)\n",
    "\n",
    "def blackjack():\n",
    "  user_cards = []\n",
    "  computer_cards = []\n",
    "  \n",
    "  for _ in range(2):\n",
    "    user_cards.append(deal_card())\n",
    "    computer_cards.append(deal_card())\n",
    "\n",
    "  game_over = False\n",
    "\n",
    "  while not game_over:\n",
    "    user_score = calculate_score(user_cards)\n",
    "    computer_score = calculate_score(computer_cards)\n",
    "    \n",
    "    print(\"Your cards: \", user_cards, \", current score: \", user_score)\n",
    "    print(\"Computer's cards: \", computer_cards)\n",
    "\n",
    "    if user_score == 0 or computer_score == 0 or user_score > 21:\n",
    "      game_over = True\n",
    "    else:\n",
    "      should_continue = input(\"Type 'y' to get another card, 'n' to pass: \")\n",
    "      if should_continue == 'y':\n",
    "        user_cards.append(deal_card())\n",
    "      else:\n",
    "        game_over = True\n",
    "\n",
    "  while computer_score != 0 and computer_score < 17:\n",
    "    computer_cards.append(deal_card())\n",
    "    computer_score = calculate_score(computer_cards)\n",
    "\n",
    "  print(\"Your final hand: \", user_cards, \", final score: \", user_score)\n",
    "  print(\"Computer's final hand: \", computer_cards, \", final score: \", computer_score)\n",
    "\n",
    "blackjack()\n"
   ]
  },
  {
   "cell_type": "markdown",
   "id": "3e77d360",
   "metadata": {},
   "source": [
    "#### 40. Write a program that generates the prime factors of a given number using trial division."
   ]
  },
  {
   "cell_type": "code",
   "execution_count": 70,
   "id": "236528fc",
   "metadata": {},
   "outputs": [
    {
     "name": "stdout",
     "output_type": "stream",
     "text": [
      "Enter a number: 90\n",
      "Prime factors of number: {2, 3, 5}\n"
     ]
    }
   ],
   "source": [
    "def prime_factors(n):\n",
    "    i = 2\n",
    "    factors = []\n",
    "    while i * i <= n:\n",
    "        if n % i:\n",
    "            i += 1\n",
    "        else:\n",
    "            n //= i\n",
    "            factors.append(i)\n",
    "    if n > 1:\n",
    "        factors.append(n)\n",
    "    return factors\n",
    "\n",
    "\n",
    "num = int(input(\"Enter a number: \"))\n",
    "print(f\"Prime factors of number: {set(prime_factors(num))}\")"
   ]
  }
 ],
 "metadata": {
  "kernelspec": {
   "display_name": "Python 3",
   "language": "python",
   "name": "python3"
  },
  "language_info": {
   "codemirror_mode": {
    "name": "ipython",
    "version": 3
   },
   "file_extension": ".py",
   "mimetype": "text/x-python",
   "name": "python",
   "nbconvert_exporter": "python",
   "pygments_lexer": "ipython3",
   "version": "3.8.8"
  }
 },
 "nbformat": 4,
 "nbformat_minor": 5
}
