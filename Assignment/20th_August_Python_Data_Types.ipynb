{
 "cells": [
  {
   "cell_type": "markdown",
   "id": "d9f14fc0",
   "metadata": {},
   "source": [
    "# Python Data Types Assignment"
   ]
  },
  {
   "cell_type": "markdown",
   "id": "7964a8b1",
   "metadata": {},
   "source": [
    "## TOPIC: String Based Assignment Problem"
   ]
  },
  {
   "cell_type": "markdown",
   "id": "f5a1e6d7",
   "metadata": {},
   "source": [
    "#### 1. Write a program to reverse a string."
   ]
  },
  {
   "cell_type": "code",
   "execution_count": 3,
   "id": "8177501f",
   "metadata": {},
   "outputs": [
    {
     "data": {
      "text/plain": [
       "'nohtyp'"
      ]
     },
     "execution_count": 3,
     "metadata": {},
     "output_type": "execute_result"
    }
   ],
   "source": [
    "def reverse_string (str): \n",
    "    return str[::-1]\n",
    "\n",
    "reverse_string(\"python\")  "
   ]
  },
  {
   "cell_type": "markdown",
   "id": "96d964aa",
   "metadata": {},
   "source": [
    "#### 2. Check if a string is a palindrome."
   ]
  },
  {
   "cell_type": "code",
   "execution_count": 4,
   "id": "b6dfdc1f",
   "metadata": {},
   "outputs": [
    {
     "name": "stdout",
     "output_type": "stream",
     "text": [
      "Given String is not palindrome\n",
      "Given string is palindrome\n"
     ]
    }
   ],
   "source": [
    "def check_palindrome (str):\n",
    "    if str == str[::-1]:\n",
    "         print(\"Given string is palindrome\")\n",
    "    else:\n",
    "        print(\"Given String is not palindrome\")\n",
    "        \n",
    "check_palindrome(\"asds\") \n",
    "check_palindrome(\"asdfdsa\")"
   ]
  },
  {
   "cell_type": "markdown",
   "id": "49e60a3d",
   "metadata": {},
   "source": [
    "#### 3. Convert a string to uppercase."
   ]
  },
  {
   "cell_type": "code",
   "execution_count": 5,
   "id": "0cc66211",
   "metadata": {},
   "outputs": [
    {
     "data": {
      "text/plain": [
       "'PYTHON'"
      ]
     },
     "execution_count": 5,
     "metadata": {},
     "output_type": "execute_result"
    }
   ],
   "source": [
    "def to_uppercase(str):\n",
    "    # Converts the input string to uppercase\n",
    "    return str.upper()\n",
    "\n",
    "to_uppercase(\"Python\")"
   ]
  },
  {
   "cell_type": "markdown",
   "id": "2bfdc10a",
   "metadata": {},
   "source": [
    "#### 4. Convert a string to lowercase."
   ]
  },
  {
   "cell_type": "code",
   "execution_count": 6,
   "id": "d80b334f",
   "metadata": {},
   "outputs": [
    {
     "data": {
      "text/plain": [
       "'python'"
      ]
     },
     "execution_count": 6,
     "metadata": {},
     "output_type": "execute_result"
    }
   ],
   "source": [
    "def to_lowercase(str):\n",
    "    # Converts the input string to lowercase\n",
    "    return str.lower()\n",
    "\n",
    "to_lowercase(\"PYTHON\")"
   ]
  },
  {
   "cell_type": "markdown",
   "id": "cf3c0086",
   "metadata": {},
   "source": [
    "#### 5. Count the number of vowels in a string."
   ]
  },
  {
   "cell_type": "code",
   "execution_count": 7,
   "id": "d8e833ff",
   "metadata": {},
   "outputs": [
    {
     "name": "stdout",
     "output_type": "stream",
     "text": [
      "Number of vowels: 1\n",
      "Number of vowels: 2\n"
     ]
    }
   ],
   "source": [
    "\n",
    "def num_vowels(str):\n",
    "    # Counts the number of vowels in the input string\n",
    "    count = 0\n",
    "    for i in str:\n",
    "        if i in \"aeiou\":\n",
    "            count += 1\n",
    "    print(\"Number of vowels:\", count)\n",
    "num_vowels(\"qwerty\")\n",
    "num_vowels(\"Jupyter\")"
   ]
  },
  {
   "cell_type": "markdown",
   "id": "68aae64d",
   "metadata": {},
   "source": [
    "#### 6. Count the number of consonants in a string."
   ]
  },
  {
   "cell_type": "code",
   "execution_count": 8,
   "id": "3815fe16",
   "metadata": {},
   "outputs": [
    {
     "name": "stdout",
     "output_type": "stream",
     "text": [
      "Number of consonants: 5\n",
      "Number of consonants: 4\n"
     ]
    }
   ],
   "source": [
    "\n",
    "def num_consonants(str):\n",
    "    # Counts the number of consonants in the input string\n",
    "    count = 0\n",
    "    for i in str:\n",
    "        if i not in \"aeiou\":\n",
    "            count += 1\n",
    "    print(\"Number of consonants:\", count)\n",
    "num_consonants(\"qwerty\")\n",
    "num_consonants(\"notebook\")"
   ]
  },
  {
   "cell_type": "markdown",
   "id": "4d03110d",
   "metadata": {},
   "source": [
    "#### 7. Remove all whitespaces from a string."
   ]
  },
  {
   "cell_type": "code",
   "execution_count": 9,
   "id": "d37c67f6",
   "metadata": {},
   "outputs": [
    {
     "data": {
      "text/plain": [
       "'PythonMLDL'"
      ]
     },
     "execution_count": 9,
     "metadata": {},
     "output_type": "execute_result"
    }
   ],
   "source": [
    "\n",
    "def remove_whitespaces (str):\n",
    "    # Removes all whitespaces from the input string\n",
    "    return str.replace(\" \", \"\")\n",
    "remove_whitespaces(\"Python ML DL\")"
   ]
  },
  {
   "cell_type": "markdown",
   "id": "4e8393f0",
   "metadata": {},
   "source": [
    "#### 8. Find the length of a string without using the `len()` function."
   ]
  },
  {
   "cell_type": "code",
   "execution_count": 10,
   "id": "39945561",
   "metadata": {},
   "outputs": [
    {
     "name": "stdout",
     "output_type": "stream",
     "text": [
      "Length of input string:  5\n"
     ]
    }
   ],
   "source": [
    "\n",
    "def len_string(str):\n",
    "    # Counts the number of characters in the input string\n",
    "    count = 0\n",
    "    for i in str:\n",
    "        count += 1\n",
    "    print(\"Length of input string: \", count)\n",
    "len_string(\"MLOPS\")"
   ]
  },
  {
   "cell_type": "markdown",
   "id": "9ce4b3df",
   "metadata": {},
   "source": [
    "#### 9. Check if a string contains a specific word."
   ]
  },
  {
   "cell_type": "code",
   "execution_count": 11,
   "id": "62c33aa1",
   "metadata": {},
   "outputs": [
    {
     "name": "stdout",
     "output_type": "stream",
     "text": [
      "This is Star wars contains wars\n",
      "Python is snake does not contain cobra\n"
     ]
    }
   ],
   "source": [
    "def contains_word (str, word):\n",
    "    if word in str:\n",
    "        print(str, \"contains\", word)\n",
    "    else:\n",
    "        print(str,\"does not contain\", word)\n",
    "contains_word(\"This is Star wars\", \"wars\")\n",
    "contains_word(\"Python is snake\", \"cobra\")"
   ]
  },
  {
   "cell_type": "markdown",
   "id": "704ed4d9",
   "metadata": {},
   "source": [
    "#### 10. Replace a word in a string with another word."
   ]
  },
  {
   "cell_type": "code",
   "execution_count": 12,
   "id": "3cb872f8",
   "metadata": {},
   "outputs": [
    {
     "name": "stdout",
     "output_type": "stream",
     "text": [
      "Python is a language is changed to: C++ is a language\n",
      "The given word to be replaced is not present the given string\n"
     ]
    }
   ],
   "source": [
    "def replace_word(str, word1, word2):\n",
    "    if word1 in str:\n",
    "        print(str, \"is changed to:\", str.replace(word1, word2))\n",
    "    else:\n",
    "        print(\"The given word to be replaced is not present the given string\")\n",
    "\n",
    "replace_word(\"Python is a language\", \"Python\", \"C++\")\n",
    "replace_word(\"Python is a language\", \"java\", \"conda\")"
   ]
  },
  {
   "cell_type": "markdown",
   "id": "b721e2a3",
   "metadata": {},
   "source": [
    "#### 11. Count the occurrences of a word in a string."
   ]
  },
  {
   "cell_type": "code",
   "execution_count": 13,
   "id": "6cfb1db3",
   "metadata": {},
   "outputs": [
    {
     "name": "stdout",
     "output_type": "stream",
     "text": [
      "Number of occurences:  2\n",
      "The string does not contain the given word\n"
     ]
    }
   ],
   "source": [
    "def count_occurences(str, word):\n",
    "    if word in str:\n",
    "        print(\"Number of occurences: \", str.count(word))\n",
    "    else: \n",
    "        print(\"The string does not contain the given word\")\n",
    "count_occurences(\"This a bag and that is a bat\", \"is\")\n",
    "count_occurences(\"This is a python\", \"Python\")"
   ]
  },
  {
   "cell_type": "markdown",
   "id": "059e53a2",
   "metadata": {},
   "source": [
    "#### 12. Find the first occurrence of a word in a string."
   ]
  },
  {
   "cell_type": "code",
   "execution_count": 14,
   "id": "8f11a4ff",
   "metadata": {},
   "outputs": [
    {
     "name": "stdout",
     "output_type": "stream",
     "text": [
      "Index of first occurence:  5\n",
      "The string does not contain the given word\n"
     ]
    }
   ],
   "source": [
    "def index_of_first_occurence(str, word):\n",
    "    if word in str:\n",
    "        print(\"Index of first occurence: \", str.index(word))\n",
    "    else:\n",
    "        print(\"The string does not contain the given word\")\n",
    "index_of_first_occurence(\"That is a bag and this is a bat\", \"is\")\n",
    "index_of_first_occurence(\"This is a python\", \"Python\")"
   ]
  },
  {
   "cell_type": "markdown",
   "id": "7c0a82ce",
   "metadata": {},
   "source": [
    "#### 13. Find the last occurrence of a word in a string."
   ]
  },
  {
   "cell_type": "code",
   "execution_count": 15,
   "id": "2b8d168e",
   "metadata": {},
   "outputs": [
    {
     "name": "stdout",
     "output_type": "stream",
     "text": [
      "Index of last occurence:  23\n",
      "The string does not contain the given word\n"
     ]
    }
   ],
   "source": [
    "def index_of_last_occurence(str, word):\n",
    "    if word in str:\n",
    "        print(\"Index of last occurence: \", str.rfind(word))\n",
    "    else:\n",
    "        print(\"The string does not contain the given word\")\n",
    "        \n",
    "index_of_last_occurence(\"That is a bag and this is a bat\", \"is\")\n",
    "index_of_last_occurence(\"This is a python\", \"Python\")        "
   ]
  },
  {
   "cell_type": "markdown",
   "id": "4bb5d83d",
   "metadata": {},
   "source": [
    "#### 14. Split a string into a list of words."
   ]
  },
  {
   "cell_type": "code",
   "execution_count": 16,
   "id": "cff6beef",
   "metadata": {},
   "outputs": [
    {
     "data": {
      "text/plain": [
       "['That', 'is', 'a', 'bag', 'and', 'this', 'is', 'a', 'bat']"
      ]
     },
     "execution_count": 16,
     "metadata": {},
     "output_type": "execute_result"
    }
   ],
   "source": [
    "def split_string(str):\n",
    "    return str.split(\" \")\n",
    "split_string(\"That is a bag and this is a bat\")"
   ]
  },
  {
   "cell_type": "markdown",
   "id": "81bd47e6",
   "metadata": {},
   "source": [
    "#### 15. Join a list of words into a string."
   ]
  },
  {
   "cell_type": "code",
   "execution_count": 17,
   "id": "b75b9a93",
   "metadata": {},
   "outputs": [
    {
     "data": {
      "text/plain": [
       "'That is a bag and this is a bat'"
      ]
     },
     "execution_count": 17,
     "metadata": {},
     "output_type": "execute_result"
    }
   ],
   "source": [
    "def join_words(list):\n",
    "    return \" \".join(list)\n",
    "join_words(['That', 'is', 'a', 'bag', 'and', 'this', 'is', 'a', 'bat'])"
   ]
  },
  {
   "cell_type": "markdown",
   "id": "660f1f57",
   "metadata": {},
   "source": [
    "#### 16. Convert a string where words are separated by spaces to one where words are separated by underscores."
   ]
  },
  {
   "cell_type": "code",
   "execution_count": 18,
   "id": "2e8000d3",
   "metadata": {},
   "outputs": [
    {
     "data": {
      "text/plain": [
       "'That_is_a_bag_and_this_is_a_bat'"
      ]
     },
     "execution_count": 18,
     "metadata": {},
     "output_type": "execute_result"
    }
   ],
   "source": [
    "def convert_string(str):\n",
    "    list_ = str.split(\" \")\n",
    "    return \"_\".join(list_)\n",
    "convert_string(\"That is a bag and this is a bat\")"
   ]
  },
  {
   "cell_type": "markdown",
   "id": "c73300c5",
   "metadata": {},
   "source": [
    "#### 17. Check if a string starts with a specific word or phrase."
   ]
  },
  {
   "cell_type": "code",
   "execution_count": 19,
   "id": "bc211727",
   "metadata": {},
   "outputs": [
    {
     "name": "stdout",
     "output_type": "stream",
     "text": [
      "True\n",
      "False\n"
     ]
    }
   ],
   "source": [
    "def check_starts_with(str, word):\n",
    "    if str.startswith(word):\n",
    "        return True\n",
    "    else:\n",
    "        return False\n",
    "    \n",
    "print(check_starts_with(\"This is a program\", \"This\"))\n",
    "print(check_starts_with(\"That is a bag and this is a bat\", \"bat\"))"
   ]
  },
  {
   "cell_type": "markdown",
   "id": "76547760",
   "metadata": {},
   "source": [
    "#### 18. Check if a string ends with a specific word or phrase."
   ]
  },
  {
   "cell_type": "code",
   "execution_count": 20,
   "id": "7b897024",
   "metadata": {},
   "outputs": [
    {
     "name": "stdout",
     "output_type": "stream",
     "text": [
      "False\n",
      "True\n"
     ]
    }
   ],
   "source": [
    "def check_ends_with(str, word):\n",
    "    if str.endswith(word):\n",
    "        print(True)\n",
    "    else:\n",
    "        print(False)\n",
    "check_ends_with(\"This is a program\", \"This\")\n",
    "check_ends_with(\"That is a bag and this is a bat\", \"bat\")"
   ]
  },
  {
   "cell_type": "markdown",
   "id": "4dfb01a5",
   "metadata": {},
   "source": [
    "#### 19. Convert a string to title case (e.g., \"hello world\" to \"Hello World\")."
   ]
  },
  {
   "cell_type": "code",
   "execution_count": 21,
   "id": "e5ba6ff4",
   "metadata": {},
   "outputs": [
    {
     "data": {
      "text/plain": [
       "'Hello World'"
      ]
     },
     "execution_count": 21,
     "metadata": {},
     "output_type": "execute_result"
    }
   ],
   "source": [
    "def convert_to_title(str):\n",
    "    return str.title()\n",
    "convert_to_title(\"hello world\")"
   ]
  },
  {
   "cell_type": "markdown",
   "id": "9b926da3",
   "metadata": {},
   "source": [
    "#### 20. Find the longest word in a string."
   ]
  },
  {
   "cell_type": "code",
   "execution_count": 22,
   "id": "d7ff7ba3",
   "metadata": {},
   "outputs": [
    {
     "name": "stdout",
     "output_type": "stream",
     "text": [
      "Longest word in the given string:  program\n",
      "Longest word in the given string:  Python\n"
     ]
    }
   ],
   "source": [
    "def find_longest_word(str):\n",
    "    list_ = str.split(\" \")\n",
    "    longest = list_[0]\n",
    "    for item in list_:\n",
    "        if len(item)> len(list_[0]):\n",
    "            longest = item\n",
    "    print(\"Longest word in the given string: \", longest)\n",
    "\n",
    "\n",
    "find_longest_word(\"This is a program\")  \n",
    "find_longest_word(\"Hello there, I am Python\")"
   ]
  },
  {
   "cell_type": "markdown",
   "id": "56a1f7eb",
   "metadata": {},
   "source": [
    "#### 21. Find the shortest word in a string."
   ]
  },
  {
   "cell_type": "code",
   "execution_count": 23,
   "id": "60a00bf7",
   "metadata": {},
   "outputs": [
    {
     "name": "stdout",
     "output_type": "stream",
     "text": [
      "Shortest word in the given string:  a\n",
      "Shortest word in the given string:  this\n"
     ]
    }
   ],
   "source": [
    "def find_shortest_word(str):\n",
    "    list_ = str.split(\" \")\n",
    "    shortest = list_[0]\n",
    "    for item in list_:\n",
    "        if len(item) < len(list_[0]):\n",
    "            shortest = item\n",
    "    print(\"Shortest word in the given string: \", shortest)\n",
    "find_shortest_word(\"This is a program\")\n",
    "find_shortest_word(\"Study this language Python\")"
   ]
  },
  {
   "cell_type": "markdown",
   "id": "57dfbfc2",
   "metadata": {},
   "source": [
    "#### 22. Reverse the order of words in a string."
   ]
  },
  {
   "cell_type": "code",
   "execution_count": 24,
   "id": "14a1dabd",
   "metadata": {},
   "outputs": [
    {
     "data": {
      "text/plain": [
       "'Python language this Study'"
      ]
     },
     "execution_count": 24,
     "metadata": {},
     "output_type": "execute_result"
    }
   ],
   "source": [
    "def reverse_order(str):\n",
    "    list_ = str.split(\" \")\n",
    "    list_.reverse()\n",
    "    return \" \".join(list_)\n",
    "reverse_order(\"Study this language Python\")"
   ]
  },
  {
   "cell_type": "markdown",
   "id": "2005299a",
   "metadata": {},
   "source": [
    "#### 23. Check if a string is alphanumeric."
   ]
  },
  {
   "cell_type": "code",
   "execution_count": 25,
   "id": "c004d8de",
   "metadata": {},
   "outputs": [
    {
     "name": "stdout",
     "output_type": "stream",
     "text": [
      "No, the given string is not alphanumeric\n",
      "Yes, the given string is alphanumeric\n",
      "No, the given string is not alphanumeric\n"
     ]
    }
   ],
   "source": [
    "def check_alphanum(str):\n",
    "    \n",
    "    if str.isalnum():\n",
    "        print(\"Yes, the given string is alphanumeric\")\n",
    "    else:\n",
    "        print(\"No, the given string is not alphanumeric\")\n",
    "check_alphanum(\"!Python\") # ! is not an alphanumeric character\n",
    "check_alphanum(\"11100\")\n",
    "check_alphanum(\"Hi 45\") # Whitespace is not an alphanumeric character"
   ]
  },
  {
   "cell_type": "markdown",
   "id": "21452900",
   "metadata": {},
   "source": [
    "#### 24. Extract all digits from a string."
   ]
  },
  {
   "cell_type": "code",
   "execution_count": 26,
   "id": "c6527c83",
   "metadata": {},
   "outputs": [
    {
     "data": {
      "text/plain": [
       "[1, 2, 3]"
      ]
     },
     "execution_count": 26,
     "metadata": {},
     "output_type": "execute_result"
    }
   ],
   "source": [
    "def extract_digits(str):\n",
    "    list_ = []\n",
    "    for char in str:\n",
    "        if char.isdigit():\n",
    "            list_.append(int(char))\n",
    "    return list_\n",
    "extract_digits(\"Hi this is 123 Hello\")"
   ]
  },
  {
   "cell_type": "markdown",
   "id": "9fa124b9",
   "metadata": {},
   "source": [
    "#### 25. Extract all alphabets from a string."
   ]
  },
  {
   "cell_type": "code",
   "execution_count": 27,
   "id": "abed3d05",
   "metadata": {},
   "outputs": [
    {
     "data": {
      "text/plain": [
       "['H', 'i', 'p', 'e', 'r', 's', 'o', 'n']"
      ]
     },
     "execution_count": 27,
     "metadata": {},
     "output_type": "execute_result"
    }
   ],
   "source": [
    "def extract_alpha(str):\n",
    "    list_ = []\n",
    "    for char in str:\n",
    "        if char.isalpha():\n",
    "            list_.append(char)\n",
    "    return list_\n",
    "extract_alpha(\"Hi 123# person\")"
   ]
  },
  {
   "cell_type": "markdown",
   "id": "f1531104",
   "metadata": {},
   "source": [
    "#### 26. Count the number of uppercase letters in a string."
   ]
  },
  {
   "cell_type": "code",
   "execution_count": 28,
   "id": "728d8683",
   "metadata": {},
   "outputs": [
    {
     "name": "stdout",
     "output_type": "stream",
     "text": [
      "Number of uppercase letters:  2\n",
      "Number of uppercase letters:  3\n"
     ]
    }
   ],
   "source": [
    "def count_upper(str):\n",
    "    count = 0\n",
    "    for char in str:\n",
    "        if char.isupper():\n",
    "            count += 1\n",
    "    print(\"Number of uppercase letters: \", count)\n",
    "count_upper(\"Hi Man\")\n",
    "count_upper(\"Hi Python Code\")"
   ]
  },
  {
   "cell_type": "markdown",
   "id": "46fbb86f",
   "metadata": {},
   "source": [
    "#### 27. Count the number of lowercase letters in a string."
   ]
  },
  {
   "cell_type": "code",
   "execution_count": 29,
   "id": "8e41c5ab",
   "metadata": {},
   "outputs": [
    {
     "name": "stdout",
     "output_type": "stream",
     "text": [
      "Number of lowercase letters:  6\n"
     ]
    }
   ],
   "source": [
    "def count_lower(str):\n",
    "    count = 0\n",
    "    for char in str:\n",
    "        if char.islower():\n",
    "            count +=1\n",
    "    print(\"Number of lowercase letters: \", count)\n",
    "count_lower(\"Hi Python\")"
   ]
  },
  {
   "cell_type": "markdown",
   "id": "766597ca",
   "metadata": {},
   "source": [
    "#### 28. Swap the case of each character in a string."
   ]
  },
  {
   "cell_type": "code",
   "execution_count": 30,
   "id": "843c9ab9",
   "metadata": {},
   "outputs": [
    {
     "data": {
      "text/plain": [
       "'hI tHERE!'"
      ]
     },
     "execution_count": 30,
     "metadata": {},
     "output_type": "execute_result"
    }
   ],
   "source": [
    "def swap_char_case(str):\n",
    "    string_ = \"\"\n",
    "    for char in str:\n",
    "        if char.isupper():\n",
    "            string_ += char.lower()\n",
    "        elif char.islower():\n",
    "            string_ += char.upper()\n",
    "        else:\n",
    "            string_ += char\n",
    "    return string_\n",
    "swap_char_case(\"Hi There!\")"
   ]
  },
  {
   "cell_type": "markdown",
   "id": "b18c1541",
   "metadata": {},
   "source": [
    "#### 29. Remove a specific word from a string."
   ]
  },
  {
   "cell_type": "code",
   "execution_count": 31,
   "id": "32e7acdb",
   "metadata": {},
   "outputs": [
    {
     "name": "stdout",
     "output_type": "stream",
     "text": [
      "Modified String: Th  Python\n"
     ]
    }
   ],
   "source": [
    "def remove_word(str, word):\n",
    "    str_ = \"\"\n",
    "    if word in str:\n",
    "        str_ += str.replace(word, \"\")\n",
    "    else:\n",
    "        print(\"The word to be removed is not present in the given string\")\n",
    "    print(\"Modified String:\",str_)\n",
    "remove_word(\"This is Python\", \"is\")"
   ]
  },
  {
   "cell_type": "markdown",
   "id": "dc05b0db",
   "metadata": {},
   "source": [
    "#### 30. Check if a string is a valid email address."
   ]
  },
  {
   "cell_type": "code",
   "execution_count": 32,
   "id": "6e55fccc",
   "metadata": {},
   "outputs": [
    {
     "name": "stdout",
     "output_type": "stream",
     "text": [
      "True\n",
      "False\n"
     ]
    }
   ],
   "source": [
    "def check_email(str):\n",
    "    if \"@\" not in str:\n",
    "        return False\n",
    "    elif str[-4:] not in \".com.org.net.edu.gov\":\n",
    "        return False\n",
    "    else:\n",
    "        return True\n",
    "\n",
    "print(check_email(\"qwerty@gmail.com\"))\n",
    "print(check_email(\"abdcs@outlook!com\"))\n",
    "        "
   ]
  },
  {
   "cell_type": "markdown",
   "id": "4aa2009a",
   "metadata": {},
   "source": [
    "#### 31. Extract the username from an email address string."
   ]
  },
  {
   "cell_type": "code",
   "execution_count": 33,
   "id": "f68d28b0",
   "metadata": {},
   "outputs": [
    {
     "name": "stdout",
     "output_type": "stream",
     "text": [
      "abcd\n",
      "Invalid Email address\n",
      "\n"
     ]
    }
   ],
   "source": [
    "def extract_username(str):\n",
    "    str_ = \"\"\n",
    "    if check_email(str):\n",
    "        \n",
    "        i = 0\n",
    "        while str[i] != '@':\n",
    "            str_ += str[i]\n",
    "            i +=1\n",
    "    else:\n",
    "        print(\"Invalid Email address\")\n",
    "    return str_\n",
    "print(extract_username(\"abcd@outlook.com\"))\n",
    "print(extract_username(\"qwerty#123!gmail.com\"))"
   ]
  },
  {
   "cell_type": "markdown",
   "id": "465a5e08",
   "metadata": {},
   "source": [
    "#### 32. Extract the domain name from an email address string."
   ]
  },
  {
   "cell_type": "code",
   "execution_count": 34,
   "id": "624b04f4",
   "metadata": {},
   "outputs": [
    {
     "name": "stdout",
     "output_type": "stream",
     "text": [
      "hotmail.com\n",
      "outlook.com\n",
      "Invalid Email Address\n"
     ]
    }
   ],
   "source": [
    "def extract_domain_name(str):\n",
    "    if check_email(str):\n",
    "        str_ = \"\"\n",
    "        str_=str.split(\"@\")[1]\n",
    "      \n",
    "        return str_\n",
    "    else:\n",
    "        return \"Invalid Email Address\"\n",
    "print(extract_domain_name(\"abcd@hotmail.com\"))\n",
    "print(extract_domain_name(\"abcd@outlook.com\"))\n",
    "print(extract_domain_name(\"qwerty#123!gmail.com\"))"
   ]
  },
  {
   "cell_type": "markdown",
   "id": "769630b6",
   "metadata": {},
   "source": [
    "#### 33. Replace multiple spaces in a string with a single space."
   ]
  },
  {
   "cell_type": "code",
   "execution_count": 35,
   "id": "36020c10",
   "metadata": {},
   "outputs": [
    {
     "name": "stdout",
     "output_type": "stream",
     "text": [
      "I am Python\n",
      "This is my code\n"
     ]
    }
   ],
   "source": [
    "def replace_whitespaces(str):\n",
    "    return ' '.join(str.split())\n",
    "print(replace_whitespaces(\" I    am      Python\"))\n",
    "print(replace_whitespaces(\" This   is     my      code    \"))"
   ]
  },
  {
   "cell_type": "markdown",
   "id": "ed670686",
   "metadata": {},
   "source": [
    "#### 34. Check if a string is a valid URL."
   ]
  },
  {
   "cell_type": "code",
   "execution_count": 36,
   "id": "767aaf9d",
   "metadata": {},
   "outputs": [
    {
     "name": "stdout",
     "output_type": "stream",
     "text": [
      "True\n",
      "False\n",
      "True\n"
     ]
    }
   ],
   "source": [
    "def check_url(str):\n",
    "    \n",
    "    if str[-4:] not in \".com.gov.edu.org.net\":\n",
    "        return False\n",
    "    elif str[:12] != 'https://www.' and str[:11] != 'http://www.':\n",
    "        return False\n",
    "    else:\n",
    "        return True\n",
    "\n",
    "print(check_url(\"https://www.google.com\"))       \n",
    "print(check_url(\"https://ww.google.abc\"))\n",
    "print(check_url(\"http://www.abc.org\")) "
   ]
  },
  {
   "cell_type": "markdown",
   "id": "05ee04d8",
   "metadata": {},
   "source": [
    "#### 35. Extract the protocol (http or https) from a URL string."
   ]
  },
  {
   "cell_type": "code",
   "execution_count": 37,
   "id": "8af7bc95",
   "metadata": {},
   "outputs": [
    {
     "name": "stdout",
     "output_type": "stream",
     "text": [
      "https\n",
      "http\n"
     ]
    }
   ],
   "source": [
    "def extract_protocol(str):\n",
    "    str_ = \"\"\n",
    "    i = 0\n",
    "    while str[i] != ':':\n",
    "        str_ += str[i]\n",
    "        i += 1\n",
    "    return str_\n",
    "print(extract_protocol(\"https://www.google.com\"))\n",
    "print(extract_protocol(\"http://www.abc.org\"))"
   ]
  },
  {
   "cell_type": "markdown",
   "id": "e3910c80",
   "metadata": {},
   "source": [
    "#### 36. Find the frequency of each character in a string."
   ]
  },
  {
   "cell_type": "code",
   "execution_count": 38,
   "id": "95c62966",
   "metadata": {},
   "outputs": [
    {
     "data": {
      "text/plain": [
       "{'H': 2, 'i': 1, 'T': 1, 'h': 1, 'e': 3, 'r': 1, 'l': 2, 'o': 1}"
      ]
     },
     "execution_count": 38,
     "metadata": {},
     "output_type": "execute_result"
    }
   ],
   "source": [
    "def char_frequency(str):\n",
    "    frequency = {}\n",
    "    str = str.replace(\" \", \"\")\n",
    "    for char in str:\n",
    "            frequency[char] = 0\n",
    "    for char in str:\n",
    "        frequency[char] +=1\n",
    "    return frequency\n",
    "\n",
    "char_frequency(\"Hi There Hello\")\n",
    "    "
   ]
  },
  {
   "cell_type": "markdown",
   "id": "9192bfd7",
   "metadata": {},
   "source": [
    "#### 37. Remove all punctuation from a string."
   ]
  },
  {
   "cell_type": "code",
   "execution_count": 39,
   "id": "6e1adc3f",
   "metadata": {},
   "outputs": [
    {
     "name": "stdout",
     "output_type": "stream",
     "text": [
      "Hi man\n",
      "This is Python\n"
     ]
    }
   ],
   "source": [
    "import string\n",
    "def remove_punctuations(str):\n",
    "    punctuations = string.punctuation\n",
    "    str_ = \"\"\n",
    "   \n",
    "    for char in str:\n",
    "        if char not in punctuations:\n",
    "            str_ += char\n",
    "    str_ = \" \".join(str_.split())\n",
    "    return str_\n",
    "print(remove_punctuations(\"Hi, man #@\"))\n",
    "print(remove_punctuations((\"This is @#$ Python ,\")))"
   ]
  },
  {
   "cell_type": "markdown",
   "id": "02eb5e7a",
   "metadata": {},
   "source": [
    "#### 38. Check if a string contains only digits."
   ]
  },
  {
   "cell_type": "code",
   "execution_count": 40,
   "id": "17ec5676",
   "metadata": {},
   "outputs": [
    {
     "name": "stdout",
     "output_type": "stream",
     "text": [
      "True\n",
      "False\n",
      "False\n"
     ]
    }
   ],
   "source": [
    "def check_only_digits(str):\n",
    "    return str.isdigit()\n",
    "print(check_only_digits(\"112\"))\n",
    "print(check_only_digits(\"abcd112\"))\n",
    "print(check_only_digits(\"Python\"))"
   ]
  },
  {
   "cell_type": "markdown",
   "id": "71d6ffbc",
   "metadata": {},
   "source": [
    "#### 39. Check if a string contains only alphabets."
   ]
  },
  {
   "cell_type": "code",
   "execution_count": 41,
   "id": "8bded9f9",
   "metadata": {},
   "outputs": [
    {
     "name": "stdout",
     "output_type": "stream",
     "text": [
      "False\n",
      "True\n",
      "False\n"
     ]
    }
   ],
   "source": [
    "def check_only_alpha(str):\n",
    "    return str.isalpha()\n",
    "print(check_only_alpha(\"123\"))\n",
    "print(check_only_alpha(\"abcd\"))\n",
    "print(check_only_alpha(\"abcd123\"))"
   ]
  },
  {
   "cell_type": "markdown",
   "id": "63d44a60",
   "metadata": {},
   "source": [
    "#### 40. Convert a string to a list of characters."
   ]
  },
  {
   "cell_type": "code",
   "execution_count": 42,
   "id": "83d3be7d",
   "metadata": {},
   "outputs": [
    {
     "data": {
      "text/plain": [
       "['H', 'i', 'M', 'a', 'n']"
      ]
     },
     "execution_count": 42,
     "metadata": {},
     "output_type": "execute_result"
    }
   ],
   "source": [
    "def convert_to_chars(str):\n",
    "    str_ = str.replace(\" \", \"\")\n",
    "    return list(str_)\n",
    "convert_to_chars(\"Hi Man\")"
   ]
  },
  {
   "cell_type": "markdown",
   "id": "3e41569f",
   "metadata": {},
   "source": [
    "#### 41. Check if two strings are anagrams."
   ]
  },
  {
   "cell_type": "code",
   "execution_count": 43,
   "id": "d1015479",
   "metadata": {},
   "outputs": [
    {
     "name": "stdout",
     "output_type": "stream",
     "text": [
      "True\n",
      "False\n",
      "True\n"
     ]
    }
   ],
   "source": [
    "def check_anagrams(str1, str2):\n",
    "    return sorted(str1) == sorted(str2)\n",
    "print(check_anagrams(\"listen\", \"silent\"))\n",
    "print(check_anagrams(\"dad\", \"bad\"))\n",
    "print(check_anagrams(\"night\", \"thing\"))"
   ]
  },
  {
   "cell_type": "markdown",
   "id": "891587f5",
   "metadata": {},
   "source": [
    "#### 42. Encode a string using a Caesar cipher."
   ]
  },
  {
   "cell_type": "code",
   "execution_count": 44,
   "id": "dab4339c",
   "metadata": {},
   "outputs": [
    {
     "name": "stdout",
     "output_type": "stream",
     "text": [
      "ravjqp\n",
      "RAVJQP\n",
      "Empty String\n"
     ]
    }
   ],
   "source": [
    "def Caesar_cipher_encode(str,n):\n",
    "    if str == \"\":\n",
    "        return \"Empty String\"\n",
    "    if str.isupper():\n",
    "        # using list comprehension\n",
    "        return \"\".join([chr((ord(char) + n-65)%26+65) for char in str ])\n",
    "    if str.islower():\n",
    "        # using list comprehension\n",
    "        return \"\".join([chr((ord(char) + n-97)%26+97) for char in str ])\n",
    "        \n",
    "print(Caesar_cipher_encode(\"python\",2))\n",
    "print(Caesar_cipher_encode(\"PYTHON\", 2))\n",
    "print(Caesar_cipher_encode(\"\",1))"
   ]
  },
  {
   "cell_type": "markdown",
   "id": "83563a27",
   "metadata": {},
   "source": [
    "#### 43. Decode a Caesar cipher encoded string."
   ]
  },
  {
   "cell_type": "code",
   "execution_count": 45,
   "id": "3f118913",
   "metadata": {},
   "outputs": [
    {
     "name": "stdout",
     "output_type": "stream",
     "text": [
      "python\n",
      "PYTHON\n",
      "Empty String\n"
     ]
    }
   ],
   "source": [
    "def Caesar_cipher_decode(str,n):\n",
    "    if str == \"\":\n",
    "        return \"Empty String\"\n",
    "    if str.isupper():\n",
    "        return \"\".join([chr((ord(char)-n-65)%26+65) for char in str])\n",
    "    if str.islower():\n",
    "        return \"\".join([chr((ord(char)-n-97)%26+97) for char in str])\n",
    "print(Caesar_cipher_decode(\"ravjqp\",2))\n",
    "print(Caesar_cipher_decode(\"RAVJQP\",2))\n",
    "print(Caesar_cipher_decode(\"\",2))"
   ]
  },
  {
   "cell_type": "markdown",
   "id": "ddc6f92d",
   "metadata": {},
   "source": [
    "#### 44. Find the most frequent word in a string."
   ]
  },
  {
   "cell_type": "code",
   "execution_count": 46,
   "id": "218b52ab",
   "metadata": {},
   "outputs": [
    {
     "data": {
      "text/plain": [
       "'is'"
      ]
     },
     "execution_count": 46,
     "metadata": {},
     "output_type": "execute_result"
    }
   ],
   "source": [
    "def most_frequent_word(str):\n",
    "    list_ = str.split(\" \")\n",
    "    frequency_dict = {}\n",
    "    for item in list_:\n",
    "        frequency_dict[item] = 0\n",
    "    for item in list_:\n",
    "        frequency_dict[item] +=1\n",
    "    list_keys = list(frequency_dict.keys())\n",
    "    list_values = list(frequency_dict.values())\n",
    "    return list_keys[list_values.index(max(list_values))]\n",
    "most_frequent_word(\"This is is is Python Python\")"
   ]
  },
  {
   "cell_type": "markdown",
   "id": "000a4bd1",
   "metadata": {},
   "source": [
    "##### 45. Find all unique words in a string."
   ]
  },
  {
   "cell_type": "code",
   "execution_count": 47,
   "id": "6245322b",
   "metadata": {},
   "outputs": [
    {
     "data": {
      "text/plain": [
       "['Python', 'This', 'is']"
      ]
     },
     "execution_count": 47,
     "metadata": {},
     "output_type": "execute_result"
    }
   ],
   "source": [
    "def all_unique_words(str):\n",
    "    list_ = str.split(\" \")\n",
    "    list_ = set(list_)\n",
    "    list_ = list(list_)\n",
    "    return list_\n",
    "\n",
    "all_unique_words(\"This is is is Python Python\")"
   ]
  },
  {
   "cell_type": "markdown",
   "id": "9f537a9b",
   "metadata": {},
   "source": [
    "#### 46. Count the number of syllables in a string."
   ]
  },
  {
   "cell_type": "code",
   "execution_count": 48,
   "id": "b22302e7",
   "metadata": {},
   "outputs": [
    {
     "data": {
      "text/plain": [
       "4"
      ]
     },
     "execution_count": 48,
     "metadata": {},
     "output_type": "execute_result"
    }
   ],
   "source": [
    "def count_syllables_word(word):\n",
    "    syllable_count = 0\n",
    "    vowels = 'aeiouy'\n",
    "    if word[0] in vowels:\n",
    "        syllable_count += 1\n",
    "    for index in range(1, len(word)):\n",
    "        if word[index] in vowels and word[index - 1] not in vowels:\n",
    "            syllable_count += 1\n",
    "    if word.endswith('e'):\n",
    "        syllable_count -= 1\n",
    "    if word.endswith('le') and len(word) > 2 and word[-3] not in vowels:\n",
    "        syllable_count += 1\n",
    "    if syllable_count == 0:\n",
    "        syllable_count += 1\n",
    "    return syllable_count\n",
    "def count_syllables_string(str):\n",
    "    list_ = str.split(\" \")\n",
    "    count_syllable = 0\n",
    "    for word in list_:\n",
    "        count_syllable += count_syllables_word(word)\n",
    "    return count_syllable\n",
    "        \n",
    "count_syllables_string(\"The Darte is big\")"
   ]
  },
  {
   "cell_type": "markdown",
   "id": "c6a68246",
   "metadata": {},
   "source": [
    "#### 47. Check if a string contains any special characters."
   ]
  },
  {
   "cell_type": "code",
   "execution_count": 49,
   "id": "171100b2",
   "metadata": {},
   "outputs": [
    {
     "name": "stdout",
     "output_type": "stream",
     "text": [
      "True\n",
      "False\n"
     ]
    }
   ],
   "source": [
    "def check_special_characters(str):\n",
    "    for char in str:\n",
    "        if not (char.isalpha() or char.isdigit() or char == \" \"):\n",
    "            return True\n",
    "    return False\n",
    "print(check_special_characters(\"@#\"))\n",
    "print(check_special_characters(\"asd128\"))"
   ]
  },
  {
   "cell_type": "markdown",
   "id": "6c373965",
   "metadata": {},
   "source": [
    "#### 48. Remove the nth word from a string."
   ]
  },
  {
   "cell_type": "code",
   "execution_count": 50,
   "id": "5b53e5b7",
   "metadata": {},
   "outputs": [
    {
     "data": {
      "text/plain": [
       "'This is'"
      ]
     },
     "execution_count": 50,
     "metadata": {},
     "output_type": "execute_result"
    }
   ],
   "source": [
    "def remove_nth_word(str,n):\n",
    "    list_ = str.split(\" \")\n",
    "    list_.pop(n)\n",
    "    return \" \".join(list_)\n",
    "remove_nth_word(\"This is Python\", 2)"
   ]
  },
  {
   "cell_type": "markdown",
   "id": "3bc1b9a9",
   "metadata": {},
   "source": [
    "#### 49. Insert a word at the nth position in a string."
   ]
  },
  {
   "cell_type": "code",
   "execution_count": 51,
   "id": "491ca2e9",
   "metadata": {},
   "outputs": [
    {
     "data": {
      "text/plain": [
       "'I am Coder'"
      ]
     },
     "execution_count": 51,
     "metadata": {},
     "output_type": "execute_result"
    }
   ],
   "source": [
    "def insert_at_nth_index(str, n, word):\n",
    "    \n",
    "    list_ = list(str)\n",
    "    list_.insert(n, (\" \"+word+\" \"))\n",
    "    \n",
    "    return \"\".join(list_).strip()\n",
    "\n",
    "insert_at_nth_index(\"This is\", 8,\"Python\")\n",
    "\n",
    "insert_at_nth_index(\"Coder\", 0, \"I am\")"
   ]
  },
  {
   "cell_type": "markdown",
   "id": "0b0927e5",
   "metadata": {},
   "source": [
    "#### 50. Convert a CSV string to a list of lists."
   ]
  },
  {
   "cell_type": "code",
   "execution_count": 52,
   "id": "5bf3e0fb",
   "metadata": {},
   "outputs": [
    {
     "name": "stdout",
     "output_type": "stream",
     "text": [
      "[['1', '2', '3'], ['4', '5', '6'], ['7', '8', '9']]\n"
     ]
    }
   ],
   "source": [
    "def csv_string_to_list_of_lists(csv_string):\n",
    "    \n",
    "    # Split the CSV string into rows\n",
    "    rows = csv_string.split('\\n')\n",
    "\n",
    "    # Create an empty list to store the result\n",
    "    result = []\n",
    "\n",
    "    # Iterate over each row\n",
    "    for row in rows:\n",
    "        result.append(row.split(','))\n",
    "\n",
    "    return result\n",
    "\n",
    "csv_string = '1,2,3\\n4,5,6\\n7,8,9'\n",
    "result = csv_string_to_list_of_lists(csv_string)\n",
    "print(result)"
   ]
  },
  {
   "cell_type": "markdown",
   "id": "07f14e8b",
   "metadata": {},
   "source": [
    "## TOPIC: List Based Practice Problem "
   ]
  },
  {
   "cell_type": "markdown",
   "id": "500cb638",
   "metadata": {},
   "source": [
    "#### 1. Create a list with integers from 1 to 10."
   ]
  },
  {
   "cell_type": "code",
   "execution_count": 53,
   "id": "7565ecaf",
   "metadata": {},
   "outputs": [
    {
     "data": {
      "text/plain": [
       "[1, 2, 3, 4, 5, 6, 7, 8, 9, 10]"
      ]
     },
     "execution_count": 53,
     "metadata": {},
     "output_type": "execute_result"
    }
   ],
   "source": [
    "def list_int():\n",
    "    list_ = []\n",
    "    for i in range(1,11):\n",
    "        list_.append(i)\n",
    "    return list_\n",
    "        \n",
    "list_int()"
   ]
  },
  {
   "cell_type": "markdown",
   "id": "1f0cac65",
   "metadata": {},
   "source": [
    "#### 2. Find the length of a list without using the `len()` function."
   ]
  },
  {
   "cell_type": "code",
   "execution_count": 54,
   "id": "94ff7323",
   "metadata": {},
   "outputs": [
    {
     "name": "stdout",
     "output_type": "stream",
     "text": [
      "4\n"
     ]
    }
   ],
   "source": [
    "def str_len(lst):\n",
    "    count = 0\n",
    "    for item in lst:\n",
    "        count+=1\n",
    "    return count\n",
    "\n",
    "print(str_len([\"Hi\", \"123\", \"@\", [1,2,3]]))"
   ]
  },
  {
   "cell_type": "markdown",
   "id": "e37becbb",
   "metadata": {},
   "source": [
    "#### 3. Append an element to the end of a list."
   ]
  },
  {
   "cell_type": "code",
   "execution_count": 55,
   "id": "5b561184",
   "metadata": {},
   "outputs": [
    {
     "name": "stdout",
     "output_type": "stream",
     "text": [
      "[1, 2, 3, 'Hi']\n"
     ]
    }
   ],
   "source": [
    "def list_append(lst, element):\n",
    "    lst.append(element)\n",
    "    return lst\n",
    "print(list_append([1,2,3], \"Hi\"))"
   ]
  },
  {
   "cell_type": "markdown",
   "id": "6cb5da06",
   "metadata": {},
   "source": [
    "#### 4. Insert an element at a specific index in a list."
   ]
  },
  {
   "cell_type": "code",
   "execution_count": 56,
   "id": "fc15930b",
   "metadata": {},
   "outputs": [
    {
     "data": {
      "text/plain": [
       "[1, 'Hi', 2, 'Python']"
      ]
     },
     "execution_count": 56,
     "metadata": {},
     "output_type": "execute_result"
    }
   ],
   "source": [
    "def list_insert(lst, index, element):\n",
    "    lst.insert(index, element)\n",
    "    return lst\n",
    "list_insert([1,2, \"Python\"], 1, \"Hi\")  "
   ]
  },
  {
   "cell_type": "markdown",
   "id": "5bae5e6b",
   "metadata": {},
   "source": [
    "#### 5. Remove an element from a list by its value."
   ]
  },
  {
   "cell_type": "code",
   "execution_count": 57,
   "id": "0e68a49a",
   "metadata": {},
   "outputs": [
    {
     "data": {
      "text/plain": [
       "[2, 100]"
      ]
     },
     "execution_count": 57,
     "metadata": {},
     "output_type": "execute_result"
    }
   ],
   "source": [
    "def list_remove_value(lst, element):\n",
    "    lst.remove(element)\n",
    "    return lst\n",
    "list_remove_value([1,2,100], 1)"
   ]
  },
  {
   "cell_type": "markdown",
   "id": "3671481a",
   "metadata": {},
   "source": [
    "#### 6. Remove an element from a list by its index."
   ]
  },
  {
   "cell_type": "code",
   "execution_count": 58,
   "id": "39c3d670",
   "metadata": {},
   "outputs": [
    {
     "data": {
      "text/plain": [
       "[1, 2, 4]"
      ]
     },
     "execution_count": 58,
     "metadata": {},
     "output_type": "execute_result"
    }
   ],
   "source": [
    "def list_remove_index(lst, index):\n",
    "    lst.pop(index)\n",
    "    return lst\n",
    "list_remove_index([1,2,4, 234], 3)"
   ]
  },
  {
   "cell_type": "markdown",
   "id": "38f05df2",
   "metadata": {},
   "source": [
    "#### 7. Check if an element exists in a list."
   ]
  },
  {
   "cell_type": "code",
   "execution_count": 59,
   "id": "52e1d298",
   "metadata": {},
   "outputs": [
    {
     "name": "stdout",
     "output_type": "stream",
     "text": [
      "True\n",
      "False\n"
     ]
    }
   ],
   "source": [
    "def check_element_exists(lst, element):\n",
    "    if element in lst:\n",
    "        return True\n",
    "    return False\n",
    "print(check_element_exists([1,2,\"Hello\"], 2))\n",
    "print(check_element_exists([\"Hi\", \"There\", \"122\"], \"Hello\"))"
   ]
  },
  {
   "cell_type": "markdown",
   "id": "5fa40d73",
   "metadata": {},
   "source": [
    "#### 8. Find the index of the first occurrence of an element in a list."
   ]
  },
  {
   "cell_type": "code",
   "execution_count": 60,
   "id": "420738ab",
   "metadata": {},
   "outputs": [
    {
     "name": "stdout",
     "output_type": "stream",
     "text": [
      "0\n"
     ]
    }
   ],
   "source": [
    "def index_of_first_occurence(lst, element):\n",
    "    return lst.index(element)\n",
    "print(index_of_first_occurence([1,2,1,1,'Hi'], 1))"
   ]
  },
  {
   "cell_type": "markdown",
   "id": "429121d3",
   "metadata": {},
   "source": [
    "#### 9. Count the occurrences of an element in a list."
   ]
  },
  {
   "cell_type": "code",
   "execution_count": 61,
   "id": "a1639163",
   "metadata": {},
   "outputs": [
    {
     "name": "stdout",
     "output_type": "stream",
     "text": [
      "3\n"
     ]
    }
   ],
   "source": [
    "def count_number_of_occurences(lst, element):\n",
    "    return lst.count(element)\n",
    "    \n",
    "print(count_number_of_occurences([1,2,3,1,1], 1))"
   ]
  },
  {
   "cell_type": "markdown",
   "id": "b41c6eb4",
   "metadata": {},
   "source": [
    "#### 10. Reverse the order of elements in a list."
   ]
  },
  {
   "cell_type": "code",
   "execution_count": 62,
   "id": "e6e2427c",
   "metadata": {},
   "outputs": [
    {
     "data": {
      "text/plain": [
       "['Python', 3, 2, 1]"
      ]
     },
     "execution_count": 62,
     "metadata": {},
     "output_type": "execute_result"
    }
   ],
   "source": [
    "def list_reverse(lst):\n",
    "    lst.reverse()\n",
    "    return lst\n",
    "list_reverse([1,2,3,\"Python\"])"
   ]
  },
  {
   "cell_type": "markdown",
   "id": "e9016dad",
   "metadata": {},
   "source": [
    "#### 11. Sort a list in ascending order."
   ]
  },
  {
   "cell_type": "code",
   "execution_count": 63,
   "id": "cc2259ee",
   "metadata": {},
   "outputs": [
    {
     "data": {
      "text/plain": [
       "[0, 34, 56, 1000]"
      ]
     },
     "execution_count": 63,
     "metadata": {},
     "output_type": "execute_result"
    }
   ],
   "source": [
    "def sort_list_ascending(lst):\n",
    "    lst.sort()\n",
    "    return lst\n",
    "sort_list_ascending([56,1000,34,0])"
   ]
  },
  {
   "cell_type": "markdown",
   "id": "d026fb17",
   "metadata": {},
   "source": [
    "#### 12. Sort a list in descending order."
   ]
  },
  {
   "cell_type": "code",
   "execution_count": 64,
   "id": "0de71a0d",
   "metadata": {},
   "outputs": [
    {
     "data": {
      "text/plain": [
       "[1000, 40, 5, 1]"
      ]
     },
     "execution_count": 64,
     "metadata": {},
     "output_type": "execute_result"
    }
   ],
   "source": [
    "def sort_list_descending(lst):\n",
    "    lst.sort(reverse = True)\n",
    "    return lst\n",
    "sort_list_descending([1,40,5, 1000])"
   ]
  },
  {
   "cell_type": "markdown",
   "id": "66679460",
   "metadata": {},
   "source": [
    "#### 13. Create a list of even numbers from 1 to 20."
   ]
  },
  {
   "cell_type": "code",
   "execution_count": 65,
   "id": "a7db952c",
   "metadata": {},
   "outputs": [
    {
     "data": {
      "text/plain": [
       "[2, 4, 6, 8, 10, 12, 14, 16, 18, 20]"
      ]
     },
     "execution_count": 65,
     "metadata": {},
     "output_type": "execute_result"
    }
   ],
   "source": [
    "def create_list_of_even_numbers():\n",
    "    return [i for i in range(2,21,2)]\n",
    "create_list_of_even_numbers()"
   ]
  },
  {
   "cell_type": "markdown",
   "id": "35a79b39",
   "metadata": {},
   "source": [
    "#### 14. Create a list of odd numbers from 1 to 20."
   ]
  },
  {
   "cell_type": "code",
   "execution_count": 66,
   "id": "fa7f7347",
   "metadata": {},
   "outputs": [
    {
     "data": {
      "text/plain": [
       "[1, 3, 5, 7, 9, 11, 13, 15, 17, 19]"
      ]
     },
     "execution_count": 66,
     "metadata": {},
     "output_type": "execute_result"
    }
   ],
   "source": [
    "def create_list_of_odd_numbers():\n",
    "    return [i for i in range(1,20,2)]\n",
    "create_list_of_odd_numbers()"
   ]
  },
  {
   "cell_type": "markdown",
   "id": "b3c23669",
   "metadata": {},
   "source": [
    "#### 15. Find the sum of all elements in a list."
   ]
  },
  {
   "cell_type": "code",
   "execution_count": 67,
   "id": "c4e9a2d4",
   "metadata": {},
   "outputs": [
    {
     "data": {
      "text/plain": [
       "10"
      ]
     },
     "execution_count": 67,
     "metadata": {},
     "output_type": "execute_result"
    }
   ],
   "source": [
    "def list_sum(lst):\n",
    "    sum = 0\n",
    "    for item in lst:\n",
    "        sum += item\n",
    "    return sum\n",
    "list_sum([1,2,3,4])      "
   ]
  },
  {
   "cell_type": "markdown",
   "id": "7137261e",
   "metadata": {},
   "source": [
    "#### 16. Find the maximum value in a list."
   ]
  },
  {
   "cell_type": "code",
   "execution_count": 68,
   "id": "e3d7db38",
   "metadata": {},
   "outputs": [
    {
     "data": {
      "text/plain": [
       "1000"
      ]
     },
     "execution_count": 68,
     "metadata": {},
     "output_type": "execute_result"
    }
   ],
   "source": [
    "def list_max_value(lst):\n",
    "    return max(lst)\n",
    "list_max_value([34, 1000, 2])"
   ]
  },
  {
   "cell_type": "markdown",
   "id": "ace377b8",
   "metadata": {},
   "source": [
    "#### 17. Find the minimum value in a list."
   ]
  },
  {
   "cell_type": "code",
   "execution_count": 69,
   "id": "2457df34",
   "metadata": {},
   "outputs": [
    {
     "data": {
      "text/plain": [
       "-5"
      ]
     },
     "execution_count": 69,
     "metadata": {},
     "output_type": "execute_result"
    }
   ],
   "source": [
    "def list_min_value(lst):\n",
    "    return min(lst)\n",
    "list_min_value([0, 1000, 5, -5])"
   ]
  },
  {
   "cell_type": "markdown",
   "id": "5c58a192",
   "metadata": {},
   "source": [
    "#### 18. Create a list of squares of numbers from 1 to 10."
   ]
  },
  {
   "cell_type": "code",
   "execution_count": 70,
   "id": "8228baac",
   "metadata": {},
   "outputs": [
    {
     "data": {
      "text/plain": [
       "[1, 4, 9, 16, 25, 36, 49, 64, 81, 100]"
      ]
     },
     "execution_count": 70,
     "metadata": {},
     "output_type": "execute_result"
    }
   ],
   "source": [
    "def list_squares():\n",
    "    return [i*i for i in range(1,11)]\n",
    "list_squares()"
   ]
  },
  {
   "cell_type": "markdown",
   "id": "cfae8478",
   "metadata": {},
   "source": [
    "#### 19. Create a list of random numbers."
   ]
  },
  {
   "cell_type": "code",
   "execution_count": 71,
   "id": "4eab7d36",
   "metadata": {},
   "outputs": [
    {
     "data": {
      "text/plain": [
       "[6, 9, 10, 3, 8, 8, 5, 2, 10, 3]"
      ]
     },
     "execution_count": 71,
     "metadata": {},
     "output_type": "execute_result"
    }
   ],
   "source": [
    "import random\n",
    "def list_random():\n",
    "     return [random.randint(1,10) for i in range(10)]\n",
    "list_random()"
   ]
  },
  {
   "cell_type": "markdown",
   "id": "18e52d4f",
   "metadata": {},
   "source": [
    "#### 20. Remove duplicates from a list."
   ]
  },
  {
   "cell_type": "code",
   "execution_count": 72,
   "id": "251e437e",
   "metadata": {},
   "outputs": [
    {
     "data": {
      "text/plain": [
       "[1, 10, 4, 5]"
      ]
     },
     "execution_count": 72,
     "metadata": {},
     "output_type": "execute_result"
    }
   ],
   "source": [
    "def remove_duplicates(lst):\n",
    "    return list(set(lst))\n",
    "remove_duplicates([1,1,1,4,5,5,5,10])"
   ]
  },
  {
   "cell_type": "markdown",
   "id": "d6fee166",
   "metadata": {},
   "source": [
    "#### 21. Find the common elements between two lists."
   ]
  },
  {
   "cell_type": "code",
   "execution_count": 73,
   "id": "6e4fb614",
   "metadata": {},
   "outputs": [
    {
     "data": {
      "text/plain": [
       "[1, 3, 'Hello']"
      ]
     },
     "execution_count": 73,
     "metadata": {},
     "output_type": "execute_result"
    }
   ],
   "source": [
    "def lists_find_common_elements(lst1, lst2):\n",
    "\n",
    "    return list(set(lst1).intersection(set(lst2)))\n",
    "\n",
    "lists_find_common_elements([1,2,3,1, \"Hello\"], [1,3,4,5, \"Hello\"])"
   ]
  },
  {
   "cell_type": "markdown",
   "id": "34c7954c",
   "metadata": {},
   "source": [
    "#### 22. Find the difference between two lists."
   ]
  },
  {
   "cell_type": "code",
   "execution_count": 74,
   "id": "1263eb92",
   "metadata": {},
   "outputs": [
    {
     "name": "stdout",
     "output_type": "stream",
     "text": [
      "[]\n",
      "['Hi', 'Hello']\n"
     ]
    }
   ],
   "source": [
    "def lists_difference(lst1, lst2):\n",
    "    return list(set(lst1).difference(set(lst2)))\n",
    "print(lists_difference([1,2,3], [1,2,3]))\n",
    "print(lists_difference([\"Hi\", \"Hello\", \"Python\"], [\"Python\"]))"
   ]
  },
  {
   "cell_type": "markdown",
   "id": "630b5b15",
   "metadata": {},
   "source": [
    "#### 23. Merge two lists."
   ]
  },
  {
   "cell_type": "code",
   "execution_count": 75,
   "id": "10b50feb",
   "metadata": {},
   "outputs": [
    {
     "data": {
      "text/plain": [
       "[1, 2, 3, 1, 4]"
      ]
     },
     "execution_count": 75,
     "metadata": {},
     "output_type": "execute_result"
    }
   ],
   "source": [
    "def lists_merge(lst1, lst2):\n",
    "    return (lst1+lst2)\n",
    "lists_merge([1,2,3], [1,4])"
   ]
  },
  {
   "cell_type": "markdown",
   "id": "25b6f443",
   "metadata": {},
   "source": [
    "#### 24. Multiply all elements in a list by 2."
   ]
  },
  {
   "cell_type": "code",
   "execution_count": 76,
   "id": "fa0fd057",
   "metadata": {},
   "outputs": [
    {
     "data": {
      "text/plain": [
       "[2, 8, 2000, 0]"
      ]
     },
     "execution_count": 76,
     "metadata": {},
     "output_type": "execute_result"
    }
   ],
   "source": [
    "def list_multiply_elements_by_two(lst):\n",
    "    return [i*2 for i in lst]\n",
    "list_multiply_elements_by_two([1,4,1000,0])"
   ]
  },
  {
   "cell_type": "markdown",
   "id": "aaa4ac3b",
   "metadata": {},
   "source": [
    "#### 25. Filter out all even numbers from a list."
   ]
  },
  {
   "cell_type": "code",
   "execution_count": 77,
   "id": "5dcf2a86",
   "metadata": {},
   "outputs": [
    {
     "data": {
      "text/plain": [
       "[4, 6]"
      ]
     },
     "execution_count": 77,
     "metadata": {},
     "output_type": "execute_result"
    }
   ],
   "source": [
    "def list_find_even_numbers(lst):\n",
    "    return [i for i in lst if i%2 == 0]\n",
    "list_find_even_numbers([1,4,6, 23])"
   ]
  },
  {
   "cell_type": "markdown",
   "id": "48132f93",
   "metadata": {},
   "source": [
    "#### 26. Convert a list of strings to a list of integers."
   ]
  },
  {
   "cell_type": "code",
   "execution_count": 78,
   "id": "8118cab8",
   "metadata": {},
   "outputs": [
    {
     "data": {
      "text/plain": [
       "[0, 5, 6, -3]"
      ]
     },
     "execution_count": 78,
     "metadata": {},
     "output_type": "execute_result"
    }
   ],
   "source": [
    "def list_convert_strings_to_integers(lst):\n",
    "    return [int(i) for i in lst]\n",
    "list_convert_strings_to_integers(['0', '5', '6', '-3'])"
   ]
  },
  {
   "cell_type": "markdown",
   "id": "b616d5dc",
   "metadata": {},
   "source": [
    "#### 27. Convert a list of integers to a list of strings."
   ]
  },
  {
   "cell_type": "code",
   "execution_count": 79,
   "id": "7267b9d6",
   "metadata": {},
   "outputs": [
    {
     "data": {
      "text/plain": [
       "['1', '2', '4', '100']"
      ]
     },
     "execution_count": 79,
     "metadata": {},
     "output_type": "execute_result"
    }
   ],
   "source": [
    "def list_convert_integers_to_strings(lst):\n",
    "    return [str(i) for i in lst]\n",
    "list_convert_integers_to_strings([1,2,4,100])"
   ]
  },
  {
   "cell_type": "markdown",
   "id": "6465e1a8",
   "metadata": {},
   "source": [
    "#### 28. Flatten a nested list."
   ]
  },
  {
   "cell_type": "code",
   "execution_count": 80,
   "id": "276d4eb5",
   "metadata": {},
   "outputs": [
    {
     "data": {
      "text/plain": [
       "[1, 2, 3, 'Hi']"
      ]
     },
     "execution_count": 80,
     "metadata": {},
     "output_type": "execute_result"
    }
   ],
   "source": [
    "def flatten_nested_list(lst):\n",
    "    return [num for sub_list in lst for num in sub_list]\n",
    "flatten_nested_list([[1,2,3], [\"Hi\"]])\n"
   ]
  },
  {
   "cell_type": "markdown",
   "id": "7600f7a0",
   "metadata": {},
   "source": [
    "#### 29. Create a list of the first 10 Fibonacci numbers."
   ]
  },
  {
   "cell_type": "code",
   "execution_count": 81,
   "id": "b341f78c",
   "metadata": {},
   "outputs": [
    {
     "data": {
      "text/plain": [
       "[0, 1, 1, 2, 3, 5, 8, 13, 21, 34]"
      ]
     },
     "execution_count": 81,
     "metadata": {},
     "output_type": "execute_result"
    }
   ],
   "source": [
    "def print_Fibonacci(n):\n",
    "    if n ==0 or n==1:\n",
    "        return [n]\n",
    "    else:\n",
    "        lst = [0,1]\n",
    "        for i in range(2,n):\n",
    "            fib = lst[i-1] + lst[i-2]\n",
    "            lst.append(fib)        \n",
    "    return lst  \n",
    "    \n",
    "print_Fibonacci(10)"
   ]
  },
  {
   "cell_type": "markdown",
   "id": "5aa0d328",
   "metadata": {},
   "source": [
    "#### 30. Check if a list is sorted."
   ]
  },
  {
   "cell_type": "code",
   "execution_count": 82,
   "id": "cfa810a8",
   "metadata": {},
   "outputs": [
    {
     "name": "stdout",
     "output_type": "stream",
     "text": [
      "False\n",
      "True\n"
     ]
    }
   ],
   "source": [
    "def list_check_sorted(lst):\n",
    "    return lst == sorted(lst)\n",
    "print(list_check_sorted([3,2,1]))\n",
    "print(list_check_sorted([0,1,200, 300]))"
   ]
  },
  {
   "cell_type": "markdown",
   "id": "2bb34a67",
   "metadata": {},
   "source": [
    "#### 31. Rotate a list to the left by `n` positions."
   ]
  },
  {
   "cell_type": "code",
   "execution_count": 83,
   "id": "39add19b",
   "metadata": {},
   "outputs": [
    {
     "data": {
      "text/plain": [
       "[3, 5, 6, 1, 2]"
      ]
     },
     "execution_count": 83,
     "metadata": {},
     "output_type": "execute_result"
    }
   ],
   "source": [
    "def list_rotate_left(lst, n):\n",
    "    \n",
    "    for i in range(n):\n",
    "        first = lst[0]\n",
    "        for j in range(len(lst)-1):\n",
    "            lst[j] = lst[j+1]\n",
    "        lst[len(lst)-1] = first\n",
    "    return lst\n",
    "list_rotate_left([1,2,3,5,6], 2)\n",
    "        "
   ]
  },
  {
   "cell_type": "markdown",
   "id": "6844c1ea",
   "metadata": {},
   "source": [
    "#### 32. Rotate a list to the right by `n` positions."
   ]
  },
  {
   "cell_type": "code",
   "execution_count": 84,
   "id": "bc1219ee",
   "metadata": {},
   "outputs": [
    {
     "data": {
      "text/plain": [
       "[2, 3, 'Hi', 1]"
      ]
     },
     "execution_count": 84,
     "metadata": {},
     "output_type": "execute_result"
    }
   ],
   "source": [
    "def list_rotate_right(lst,n):\n",
    "    for i in range(n):\n",
    "        last = lst[len(lst)-1]\n",
    "        for j in reversed(range(1,len(lst))):\n",
    "            lst[j] = lst[j-1]\n",
    "        lst[0] = last\n",
    "    return lst\n",
    "list_rotate_right([1,2,3,\"Hi\"],3)"
   ]
  },
  {
   "cell_type": "markdown",
   "id": "8f7c3579",
   "metadata": {},
   "source": [
    "#### 33. Create a list of prime numbers up to 50."
   ]
  },
  {
   "cell_type": "code",
   "execution_count": 85,
   "id": "d1c0af33",
   "metadata": {},
   "outputs": [
    {
     "data": {
      "text/plain": [
       "[2, 3, 5, 7, 11, 13, 17, 19, 23, 29, 31, 37, 41, 43, 47]"
      ]
     },
     "execution_count": 85,
     "metadata": {},
     "output_type": "execute_result"
    }
   ],
   "source": [
    "def list_prime_numbers(n):\n",
    "    \n",
    "    list_ = []\n",
    "    for i in range(2,n):\n",
    "        is_Prime = True\n",
    "        for j in range(2,i):\n",
    "            if i%j == 0:\n",
    "                is_Prime = False\n",
    "                break\n",
    "        if is_Prime == True:\n",
    "            list_.append(i)\n",
    "            \n",
    "    return list_\n",
    "list_prime_numbers(50)"
   ]
  },
  {
   "cell_type": "markdown",
   "id": "bbd596e7",
   "metadata": {},
   "source": [
    "#### 34. Split a list into chunks of size `n`."
   ]
  },
  {
   "cell_type": "code",
   "execution_count": 86,
   "id": "951a76f0",
   "metadata": {},
   "outputs": [
    {
     "name": "stdout",
     "output_type": "stream",
     "text": [
      "[1, 2]\n",
      "[3, 4]\n",
      "[5, 6]\n"
     ]
    }
   ],
   "source": [
    "def list_split_n_chunks(lst, n):\n",
    "    \n",
    "    for i in range(0,len(lst),n):\n",
    "        print(lst[i:i+n])\n",
    "                     \n",
    "list_split_n_chunks([1,2,3,4,5,6],2)  "
   ]
  },
  {
   "cell_type": "markdown",
   "id": "b62ea93d",
   "metadata": {},
   "source": [
    "#### 35. Find the second largest number in a list."
   ]
  },
  {
   "cell_type": "code",
   "execution_count": 87,
   "id": "a441521f",
   "metadata": {},
   "outputs": [
    {
     "data": {
      "text/plain": [
       "34"
      ]
     },
     "execution_count": 87,
     "metadata": {},
     "output_type": "execute_result"
    }
   ],
   "source": [
    "def find_second_largest_in_list(lst):\n",
    "    maximum = max(lst[0], lst[1])\n",
    "    secondMax = min(lst[0], lst[1])\n",
    "    \n",
    "    for i in range(2, len(lst)):\n",
    "        if lst[i] > maximum:\n",
    "            secondMax = maximum\n",
    "            maximum = lst[i]\n",
    "        elif lst[i] > secondMax and lst[i] != maximum:\n",
    "            secondmax = lst[i]\n",
    "        elif maximum == secondMax and lst[i]!= secondMax:\n",
    "            secondMax = lst[i]\n",
    "    return secondMax\n",
    "\n",
    "find_second_largest_in_list([-12, 0, 34, 78.5, 0.5])"
   ]
  },
  {
   "cell_type": "markdown",
   "id": "208e2bee",
   "metadata": {},
   "source": [
    "#### 36. Replace every element in a list with its square."
   ]
  },
  {
   "cell_type": "code",
   "execution_count": 88,
   "id": "3e5bc784",
   "metadata": {},
   "outputs": [
    {
     "data": {
      "text/plain": [
       "[1, 16, 16]"
      ]
     },
     "execution_count": 88,
     "metadata": {},
     "output_type": "execute_result"
    }
   ],
   "source": [
    "def replace_with_squares(lst):\n",
    "    \n",
    "    return [i**2 for i in lst]\n",
    "replace_with_squares([-1,4,-4])"
   ]
  },
  {
   "cell_type": "markdown",
   "id": "30f2c293",
   "metadata": {},
   "source": [
    "#### 37. Convert a list to a dictionary where list elements become keys and their indices become values."
   ]
  },
  {
   "cell_type": "code",
   "execution_count": 89,
   "id": "de22a9fa",
   "metadata": {},
   "outputs": [
    {
     "data": {
      "text/plain": [
       "{0: 1, 1: 2, 2: 3}"
      ]
     },
     "execution_count": 89,
     "metadata": {},
     "output_type": "execute_result"
    }
   ],
   "source": [
    "def list_to_dict(lst):\n",
    "    \n",
    "    dict = {}\n",
    "    for i in range(len(lst)):\n",
    "        dict[i] = lst[i]\n",
    "    return dict\n",
    "\n",
    "list_to_dict([1,2,3])    "
   ]
  },
  {
   "cell_type": "markdown",
   "id": "77b37bb6",
   "metadata": {},
   "source": [
    "#### 38. Shuffle the elements of a list randomly."
   ]
  },
  {
   "cell_type": "code",
   "execution_count": 90,
   "id": "06e45ffa",
   "metadata": {},
   "outputs": [
    {
     "data": {
      "text/plain": [
       "[1, 'Hello', 2, 'Hi']"
      ]
     },
     "execution_count": 90,
     "metadata": {},
     "output_type": "execute_result"
    }
   ],
   "source": [
    "import random\n",
    "def shuffle_list(lst):\n",
    "    random.shuffle(lst)\n",
    "    return lst\n",
    "\n",
    "shuffle_list([1,2,\"Hi\", \"Hello\"])"
   ]
  },
  {
   "cell_type": "markdown",
   "id": "07203065",
   "metadata": {},
   "source": [
    "#### 39. Create a list of the first 10 factorial numbers."
   ]
  },
  {
   "cell_type": "code",
   "execution_count": 91,
   "id": "716d0148",
   "metadata": {},
   "outputs": [
    {
     "data": {
      "text/plain": [
       "[1, 2, 6, 24, 120, 720, 5040, 40320, 362880, 3628800]"
      ]
     },
     "execution_count": 91,
     "metadata": {},
     "output_type": "execute_result"
    }
   ],
   "source": [
    "def fact(n):\n",
    "    \n",
    "    if n == 0 or n ==1:\n",
    "        return 1\n",
    "    else:\n",
    "        return n*fact(n-1)\n",
    "    \n",
    "def list_factorial(n):\n",
    "    \n",
    "    return [fact(i) for i in range(1,11,1)]\n",
    "    \n",
    "list_factorial(10)    "
   ]
  },
  {
   "cell_type": "markdown",
   "id": "1800ec9b",
   "metadata": {},
   "source": [
    "#### 40. Check if two lists have at least one element in common."
   ]
  },
  {
   "cell_type": "code",
   "execution_count": 92,
   "id": "e19b9d72",
   "metadata": {},
   "outputs": [
    {
     "data": {
      "text/plain": [
       "True"
      ]
     },
     "execution_count": 92,
     "metadata": {},
     "output_type": "execute_result"
    }
   ],
   "source": [
    "def check_if_common_in_lists(lst1, lst2):\n",
    "    \n",
    "    if len(set(lst1).intersection(set(lst2))) == 0:\n",
    "        return False\n",
    "    else:\n",
    "        return True\n",
    "check_if_common_in_lists([\"Hi\",2,3], [4,5,\"Hi\"])"
   ]
  },
  {
   "cell_type": "markdown",
   "id": "90ef82e6",
   "metadata": {},
   "source": [
    "#### 41. Remove all elements from a list."
   ]
  },
  {
   "cell_type": "code",
   "execution_count": 93,
   "id": "ecf2c4bb",
   "metadata": {},
   "outputs": [],
   "source": [
    "def remove_all_elements_from_list(lst):\n",
    "    return lst.clear()\n",
    "remove_all_elements_from_list([1, \"Hi\", True, [1,2], 6.5, -4])"
   ]
  },
  {
   "cell_type": "markdown",
   "id": "bdc98026",
   "metadata": {},
   "source": [
    "#### 42. Replace negative numbers in a list with 0."
   ]
  },
  {
   "cell_type": "code",
   "execution_count": 94,
   "id": "5f063cb3",
   "metadata": {},
   "outputs": [
    {
     "data": {
      "text/plain": [
       "[1, 0, 4, 0, 34]"
      ]
     },
     "execution_count": 94,
     "metadata": {},
     "output_type": "execute_result"
    }
   ],
   "source": [
    "def replace_negative_with_zero(lst):\n",
    "    for i in range(len(lst)-1):\n",
    "        if lst[i]<0:\n",
    "            lst[i] = 0\n",
    "    return lst\n",
    "replace_negative_with_zero([1,-3,4, -0.6, 34])"
   ]
  },
  {
   "cell_type": "markdown",
   "id": "1bdfe4b1",
   "metadata": {},
   "source": [
    "#### 43. Convert a string into a list of words."
   ]
  },
  {
   "cell_type": "code",
   "execution_count": 95,
   "id": "f20ff5f4",
   "metadata": {},
   "outputs": [
    {
     "data": {
      "text/plain": [
       "['Hi', 'there', 'hello']"
      ]
     },
     "execution_count": 95,
     "metadata": {},
     "output_type": "execute_result"
    }
   ],
   "source": [
    "def string_to_list_of_words(str):\n",
    "    \n",
    "    return str.split(\" \")\n",
    "string_to_list_of_words(\"Hi there hello\")"
   ]
  },
  {
   "cell_type": "markdown",
   "id": "9a223941",
   "metadata": {},
   "source": [
    "#### 44. Convert a list of words into a string."
   ]
  },
  {
   "cell_type": "code",
   "execution_count": 96,
   "id": "f9da4558",
   "metadata": {},
   "outputs": [
    {
     "data": {
      "text/plain": [
       "'Hi there hello'"
      ]
     },
     "execution_count": 96,
     "metadata": {},
     "output_type": "execute_result"
    }
   ],
   "source": [
    "def list_of_words_to_string(lst):\n",
    "    \n",
    "    return \" \".join(lst)\n",
    "list_of_words_to_string(['Hi', 'there', 'hello'])"
   ]
  },
  {
   "cell_type": "markdown",
   "id": "63714a19",
   "metadata": {},
   "source": [
    "#### 45. Create a list of the first `n` powers of 2."
   ]
  },
  {
   "cell_type": "code",
   "execution_count": 97,
   "id": "ff5624d8",
   "metadata": {},
   "outputs": [
    {
     "data": {
      "text/plain": [
       "[1, 2, 4, 8, 16, 32, 64, 128, 256, 512]"
      ]
     },
     "execution_count": 97,
     "metadata": {},
     "output_type": "execute_result"
    }
   ],
   "source": [
    "def list_of_first_n_powers_of_2(n):\n",
    "    \n",
    "    return [2**i for i in range(n)]\n",
    "list_of_first_n_powers_of_2(10)"
   ]
  },
  {
   "cell_type": "markdown",
   "id": "d8671b52",
   "metadata": {},
   "source": [
    "#### 46. Find the longest string in a list of strings."
   ]
  },
  {
   "cell_type": "code",
   "execution_count": 98,
   "id": "3f9408f8",
   "metadata": {},
   "outputs": [
    {
     "data": {
      "text/plain": [
       "'Manuscript'"
      ]
     },
     "execution_count": 98,
     "metadata": {},
     "output_type": "execute_result"
    }
   ],
   "source": [
    "def find_longest_string(lst):\n",
    "   \n",
    "    longest_string = \"\"\n",
    "    for item in lst:\n",
    "        if len(item) > len(longest_string):\n",
    "            longest_string= item\n",
    "    return longest_string\n",
    "find_longest_string([\"Hi\", \"There\", \"Manuscript\"])\n",
    "            "
   ]
  },
  {
   "cell_type": "markdown",
   "id": "ca3191d7",
   "metadata": {},
   "source": [
    "#### 47. Find the shortest string in a list of strings."
   ]
  },
  {
   "cell_type": "code",
   "execution_count": 99,
   "id": "5569a4ac",
   "metadata": {},
   "outputs": [
    {
     "data": {
      "text/plain": [
       "'I'"
      ]
     },
     "execution_count": 99,
     "metadata": {},
     "output_type": "execute_result"
    }
   ],
   "source": [
    "def find_shortest_string(lst):\n",
    "\n",
    "    shortest_string = lst[0]\n",
    "    for item in lst:\n",
    "        if len(item)<len(shortest_string):\n",
    "            shortest_string = item\n",
    "    return shortest_string\n",
    "find_shortest_string(['I', 'am', 'coder','He', 'is', 'Python'])"
   ]
  },
  {
   "cell_type": "markdown",
   "id": "db7bfa1a",
   "metadata": {},
   "source": [
    "#### 48. Create a list of the first `n` triangular numbers."
   ]
  },
  {
   "cell_type": "code",
   "execution_count": 100,
   "id": "e29173f1",
   "metadata": {},
   "outputs": [
    {
     "data": {
      "text/plain": [
       "[0, 1, 3, 6, 10, 15, 21, 28, 36]"
      ]
     },
     "execution_count": 100,
     "metadata": {},
     "output_type": "execute_result"
    }
   ],
   "source": [
    "def list_triangular_numbers(n):\n",
    "    \n",
    "    list_ = []\n",
    "    for i in range(1,n):\n",
    "        triangular_number = 0\n",
    "        for j in range(i):\n",
    "            triangular_number += j\n",
    "        list_.append(triangular_number)\n",
    "    return list_\n",
    "\n",
    "list_triangular_numbers(10)\n",
    "        "
   ]
  },
  {
   "cell_type": "markdown",
   "id": "c399536c",
   "metadata": {},
   "source": [
    "#### 49. Check if a list contains another list as a subsequence."
   ]
  },
  {
   "cell_type": "code",
   "execution_count": 101,
   "id": "8183b97e",
   "metadata": {},
   "outputs": [
    {
     "data": {
      "text/plain": [
       "False"
      ]
     },
     "execution_count": 101,
     "metadata": {},
     "output_type": "execute_result"
    }
   ],
   "source": [
    "def check_if_subsequence(lst1, lst2):\n",
    "    if len(set(lst2).difference(set(lst1))) == 0:\n",
    "        return True\n",
    "    else:\n",
    "        return False\n",
    "check_if_subsequence([1,2,3,4], [1,2,3,4,5])"
   ]
  },
  {
   "cell_type": "markdown",
   "id": "61427dbf",
   "metadata": {},
   "source": [
    "#### 50. Swap two elements in a list by their indices."
   ]
  },
  {
   "cell_type": "code",
   "execution_count": 102,
   "id": "80a17788",
   "metadata": {},
   "outputs": [
    {
     "data": {
      "text/plain": [
       "[2, 1, 3]"
      ]
     },
     "execution_count": 102,
     "metadata": {},
     "output_type": "execute_result"
    }
   ],
   "source": [
    "def swap_elements_in_list_by_indices(lst,a,b):\n",
    "    a_index = lst.index(a)\n",
    "    b_index = lst.index(b)\n",
    "    lst[a_index], lst[b_index] = lst[b_index], lst[a_index]\n",
    "    return lst\n",
    "swap_elements_in_list_by_indices([1,2,3], 2,1)"
   ]
  },
  {
   "cell_type": "markdown",
   "id": "4c66cab4",
   "metadata": {},
   "source": [
    "## TOPIC: Tuple Based Practice Problems"
   ]
  },
  {
   "cell_type": "markdown",
   "id": "e97cd486",
   "metadata": {},
   "source": [
    "#### 1. Create a tuple with integers from 1 to 5."
   ]
  },
  {
   "cell_type": "code",
   "execution_count": 103,
   "id": "cffa89e3",
   "metadata": {},
   "outputs": [
    {
     "data": {
      "text/plain": [
       "(1, 2, 3, 4, 5)"
      ]
     },
     "execution_count": 103,
     "metadata": {},
     "output_type": "execute_result"
    }
   ],
   "source": [
    "def create_tuple():\n",
    "    return tuple(i for i in range(1,6))\n",
    "create_tuple()"
   ]
  },
  {
   "cell_type": "markdown",
   "id": "fd2c4723",
   "metadata": {},
   "source": [
    "#### 2. Access the third element of a tuple."
   ]
  },
  {
   "cell_type": "code",
   "execution_count": 104,
   "id": "131f791f",
   "metadata": {},
   "outputs": [
    {
     "data": {
      "text/plain": [
       "3"
      ]
     },
     "execution_count": 104,
     "metadata": {},
     "output_type": "execute_result"
    }
   ],
   "source": [
    "def access_3rd_element_tuple(my_tuple):\n",
    "    return my_tuple[2]\n",
    "access_3rd_element_tuple((1, 2, 3, 4, 5))"
   ]
  },
  {
   "cell_type": "markdown",
   "id": "7ba16c8b",
   "metadata": {},
   "source": [
    "#### 3. Find the length of a tuple without using the `len()` function."
   ]
  },
  {
   "cell_type": "code",
   "execution_count": 105,
   "id": "1d158dcb",
   "metadata": {},
   "outputs": [
    {
     "data": {
      "text/plain": [
       "4"
      ]
     },
     "execution_count": 105,
     "metadata": {},
     "output_type": "execute_result"
    }
   ],
   "source": [
    "def length_of_tuple(my_tuple):\n",
    "    len_tuple = 0\n",
    "    for _ in my_tuple:\n",
    "        len_tuple +=1\n",
    "    return len_tuple\n",
    "length_of_tuple((1,2,3,\"hi\"))"
   ]
  },
  {
   "cell_type": "markdown",
   "id": "d6ddc5ac",
   "metadata": {},
   "source": [
    "#### 4. Count the occurrences of an element in a tuple."
   ]
  },
  {
   "cell_type": "code",
   "execution_count": 106,
   "id": "80289d62",
   "metadata": {},
   "outputs": [
    {
     "data": {
      "text/plain": [
       "2"
      ]
     },
     "execution_count": 106,
     "metadata": {},
     "output_type": "execute_result"
    }
   ],
   "source": [
    "def num_of_occurences_in_tuple(my_tuple, element):\n",
    "    count = 0\n",
    "    for item in my_tuple:\n",
    "        if item == element:\n",
    "            count +=1\n",
    "    return count\n",
    "num_of_occurences_in_tuple((1,2,\"Hi\", \"Hi\", 2,2),\"Hi\")           "
   ]
  },
  {
   "cell_type": "markdown",
   "id": "3bd81cda",
   "metadata": {},
   "source": [
    "#### 5. Find the index of the first occurrence of an element in a tuple."
   ]
  },
  {
   "cell_type": "code",
   "execution_count": 107,
   "id": "41e7cc83",
   "metadata": {},
   "outputs": [
    {
     "data": {
      "text/plain": [
       "1"
      ]
     },
     "execution_count": 107,
     "metadata": {},
     "output_type": "execute_result"
    }
   ],
   "source": [
    "def index_of_first_occurence_tuple(my_tuple, element):\n",
    "    return my_tuple.index(element)\n",
    "index_of_first_occurence_tuple((1,2,\"Hi\", \"Hi\", 2,2),2)"
   ]
  },
  {
   "cell_type": "markdown",
   "id": "eaab0fa0",
   "metadata": {},
   "source": [
    "#### 6. Check if an element exists in a tuple."
   ]
  },
  {
   "cell_type": "code",
   "execution_count": 108,
   "id": "c2bd27a7",
   "metadata": {},
   "outputs": [
    {
     "data": {
      "text/plain": [
       "True"
      ]
     },
     "execution_count": 108,
     "metadata": {},
     "output_type": "execute_result"
    }
   ],
   "source": [
    "def check_if_element_exists_in_tuple(my_tuple, element):\n",
    "    return element in my_tuple\n",
    "check_if_element_exists_in_tuple((1,2,\"Hi\", \"Hi\", 2,2),\"Hi\")"
   ]
  },
  {
   "cell_type": "markdown",
   "id": "58300e66",
   "metadata": {},
   "source": [
    "#### 7. Convert a tuple to a list."
   ]
  },
  {
   "cell_type": "code",
   "execution_count": 109,
   "id": "c3cf82c8",
   "metadata": {},
   "outputs": [
    {
     "data": {
      "text/plain": [
       "[1, 2, 'Hi', 'Hi', 2, 2]"
      ]
     },
     "execution_count": 109,
     "metadata": {},
     "output_type": "execute_result"
    }
   ],
   "source": [
    "def convert_tuple_to_list(my_tuple):\n",
    "    return list(my_tuple)\n",
    "convert_tuple_to_list((1,2,\"Hi\", \"Hi\", 2,2))"
   ]
  },
  {
   "cell_type": "markdown",
   "id": "a0d59bdc",
   "metadata": {},
   "source": [
    "#### 8. Convert a list to a tuple."
   ]
  },
  {
   "cell_type": "code",
   "execution_count": 110,
   "id": "54f224d4",
   "metadata": {},
   "outputs": [
    {
     "data": {
      "text/plain": [
       "(1, 2, 'Hi', False)"
      ]
     },
     "execution_count": 110,
     "metadata": {},
     "output_type": "execute_result"
    }
   ],
   "source": [
    "def convert_list_to_tuple(lst):\n",
    "    return tuple(lst)\n",
    "convert_list_to_tuple([1,2,\"Hi\", False])"
   ]
  },
  {
   "cell_type": "markdown",
   "id": "b0cfe0b9",
   "metadata": {},
   "source": [
    "#### 9. Unpack the elements of a tuple into variables."
   ]
  },
  {
   "cell_type": "code",
   "execution_count": 111,
   "id": "300365f2",
   "metadata": {},
   "outputs": [
    {
     "data": {
      "text/plain": [
       "'a=1, b=2, c=3, d=4, e=5'"
      ]
     },
     "execution_count": 111,
     "metadata": {},
     "output_type": "execute_result"
    }
   ],
   "source": [
    "def unpack_elements_of_tuple():\n",
    "    \n",
    "    my_tuple = tuple(range(1,6))   \n",
    "    a, b, c, d, e = my_tuple\n",
    "    return \"a=\" + str(a) + \", b=\" + str(b) + \", c=\" + str(c) + \", d=\" +str(d) + \", e=\"+ str(e)\n",
    "\n",
    "unpack_elements_of_tuple()      "
   ]
  },
  {
   "cell_type": "markdown",
   "id": "e4304433",
   "metadata": {},
   "source": [
    "#### 10. Create a tuple of even numbers from 1 to 10."
   ]
  },
  {
   "cell_type": "code",
   "execution_count": 112,
   "id": "ca11728a",
   "metadata": {},
   "outputs": [
    {
     "data": {
      "text/plain": [
       "(2, 4, 6, 8, 10)"
      ]
     },
     "execution_count": 112,
     "metadata": {},
     "output_type": "execute_result"
    }
   ],
   "source": [
    "def tuple_of_even_nums():\n",
    "    return tuple(i for i in range(1,11) if i % 2 == 0)\n",
    "tuple_of_even_nums()"
   ]
  },
  {
   "cell_type": "markdown",
   "id": "44ba6d06",
   "metadata": {},
   "source": [
    "#### 11. Create a tuple of odd numbers from 1 to 10."
   ]
  },
  {
   "cell_type": "code",
   "execution_count": 113,
   "id": "1312fd3b",
   "metadata": {},
   "outputs": [
    {
     "data": {
      "text/plain": [
       "(1, 3, 5, 7, 9)"
      ]
     },
     "execution_count": 113,
     "metadata": {},
     "output_type": "execute_result"
    }
   ],
   "source": [
    "def tuple_of_odd_nums():\n",
    "    return tuple(i for i in range(1,11) if i%2 != 0)\n",
    "tuple_of_odd_nums()"
   ]
  },
  {
   "cell_type": "markdown",
   "id": "3e36887a",
   "metadata": {},
   "source": [
    "#### 12. Concatenate two tuples."
   ]
  },
  {
   "cell_type": "code",
   "execution_count": 114,
   "id": "976309e8",
   "metadata": {},
   "outputs": [
    {
     "data": {
      "text/plain": [
       "(1, 2, 3, 4, 5, 6)"
      ]
     },
     "execution_count": 114,
     "metadata": {},
     "output_type": "execute_result"
    }
   ],
   "source": [
    "def concatenate_tuples(tuple1, tuple2):\n",
    "    return tuple1 + tuple2\n",
    "concatenate_tuples((1,2,3), (4,5,6))"
   ]
  },
  {
   "cell_type": "markdown",
   "id": "bf4e5a6b",
   "metadata": {},
   "source": [
    "#### 13. Repeat a tuple three times."
   ]
  },
  {
   "cell_type": "code",
   "execution_count": 115,
   "id": "8890c3de",
   "metadata": {},
   "outputs": [
    {
     "data": {
      "text/plain": [
       "(1, 2, 3, 1, 2, 3, 1, 2, 3)"
      ]
     },
     "execution_count": 115,
     "metadata": {},
     "output_type": "execute_result"
    }
   ],
   "source": [
    "def repeat_tuple(my_tuple):\n",
    "    return my_tuple*3\n",
    "repeat_tuple((1,2,3))"
   ]
  },
  {
   "cell_type": "markdown",
   "id": "d8adfa58",
   "metadata": {},
   "source": [
    "#### 14. Check if a tuple is empty."
   ]
  },
  {
   "cell_type": "code",
   "execution_count": 116,
   "id": "32806d03",
   "metadata": {},
   "outputs": [
    {
     "name": "stdout",
     "output_type": "stream",
     "text": [
      "False\n",
      "True\n"
     ]
    }
   ],
   "source": [
    "def check_if_tuple_is_empty(my_tuple):\n",
    "    return len(my_tuple) == 0\n",
    "print(check_if_tuple_is_empty((1,2,\"Hi\")))\n",
    "print(check_if_tuple_is_empty(()))"
   ]
  },
  {
   "cell_type": "markdown",
   "id": "b3bc894a",
   "metadata": {},
   "source": [
    "#### 15. Create a nested tuple."
   ]
  },
  {
   "cell_type": "code",
   "execution_count": 117,
   "id": "deb99737",
   "metadata": {},
   "outputs": [
    {
     "data": {
      "text/plain": [
       "(1, 2, (2, 3, (1, 2)))"
      ]
     },
     "execution_count": 117,
     "metadata": {},
     "output_type": "execute_result"
    }
   ],
   "source": [
    "def create_nested_tuple():\n",
    "    return tuple((1,2,(2,3, (1,2))))\n",
    "create_nested_tuple()                 "
   ]
  },
  {
   "cell_type": "markdown",
   "id": "59c903a3",
   "metadata": {},
   "source": [
    "#### 16. Access the first element of a nested tuple."
   ]
  },
  {
   "cell_type": "code",
   "execution_count": 118,
   "id": "1fb5ce68",
   "metadata": {},
   "outputs": [
    {
     "data": {
      "text/plain": [
       "1"
      ]
     },
     "execution_count": 118,
     "metadata": {},
     "output_type": "execute_result"
    }
   ],
   "source": [
    "def access_nested_tuple(my_tuple):\n",
    "    \n",
    "    return my_tuple[0]\n",
    "access_nested_tuple((1,2,(2,3, (1,2))))"
   ]
  },
  {
   "cell_type": "markdown",
   "id": "45cf91f9",
   "metadata": {},
   "source": [
    "#### 17. Create a tuple with a single element."
   ]
  },
  {
   "cell_type": "code",
   "execution_count": 119,
   "id": "c363a8ba",
   "metadata": {},
   "outputs": [
    {
     "data": {
      "text/plain": [
       "1"
      ]
     },
     "execution_count": 119,
     "metadata": {},
     "output_type": "execute_result"
    }
   ],
   "source": [
    "def create_tuple():\n",
    "    my_tuple = (1)\n",
    "    return my_tuple\n",
    "create_tuple()"
   ]
  },
  {
   "cell_type": "markdown",
   "id": "f814bc05",
   "metadata": {},
   "source": [
    "#### 18. Compare two tuples."
   ]
  },
  {
   "cell_type": "code",
   "execution_count": 120,
   "id": "4ee3cc72",
   "metadata": {},
   "outputs": [
    {
     "name": "stdout",
     "output_type": "stream",
     "text": [
      "True\n",
      "False\n"
     ]
    }
   ],
   "source": [
    "def compare_tuple(tuple1, tuple2):\n",
    "    \n",
    "    return tuple1 == tuple2\n",
    "print(compare_tuple((1,2,3), (1,2,3)))\n",
    "print(compare_tuple((1,3,4), (5,6,7)))"
   ]
  },
  {
   "cell_type": "markdown",
   "id": "f6501824",
   "metadata": {},
   "source": [
    "#### 19. Delete a tuple."
   ]
  },
  {
   "cell_type": "code",
   "execution_count": 121,
   "id": "6a80906b",
   "metadata": {},
   "outputs": [],
   "source": [
    "my_tuple = (1,2,3)\n",
    "del my_tuple\n"
   ]
  },
  {
   "cell_type": "markdown",
   "id": "aeae0114",
   "metadata": {},
   "source": [
    "#### 20. Slice a tuple."
   ]
  },
  {
   "cell_type": "code",
   "execution_count": 122,
   "id": "d126de68",
   "metadata": {},
   "outputs": [
    {
     "data": {
      "text/plain": [
       "(2, 3)"
      ]
     },
     "execution_count": 122,
     "metadata": {},
     "output_type": "execute_result"
    }
   ],
   "source": [
    "def slice_tuple(my_tuple):\n",
    "    return my_tuple[1:3]\n",
    "my_tuple = (1,2,3,4)\n",
    "slice_tuple(my_tuple)"
   ]
  },
  {
   "cell_type": "markdown",
   "id": "bab1cf9a",
   "metadata": {},
   "source": [
    "#### 21. Find the maximum value in a tuple."
   ]
  },
  {
   "cell_type": "code",
   "execution_count": 123,
   "id": "0af9a4c6",
   "metadata": {},
   "outputs": [
    {
     "data": {
      "text/plain": [
       "356"
      ]
     },
     "execution_count": 123,
     "metadata": {},
     "output_type": "execute_result"
    }
   ],
   "source": [
    "def max_in_tuple(my_tuple):\n",
    "    return max(my_tuple)\n",
    "max_in_tuple((1,2,356, -10, 0.5))"
   ]
  },
  {
   "cell_type": "markdown",
   "id": "30cf4af0",
   "metadata": {},
   "source": [
    "#### 22. Find the minimum value in a tuple."
   ]
  },
  {
   "cell_type": "code",
   "execution_count": 124,
   "id": "b5325358",
   "metadata": {},
   "outputs": [
    {
     "data": {
      "text/plain": [
       "-34"
      ]
     },
     "execution_count": 124,
     "metadata": {},
     "output_type": "execute_result"
    }
   ],
   "source": [
    "def min_in_tuple(my_tuple):\n",
    "    return min(my_tuple)\n",
    "min_in_tuple((1,2,-34, 0, 0.4))"
   ]
  },
  {
   "cell_type": "markdown",
   "id": "0e7e49d8",
   "metadata": {},
   "source": [
    "#### 23. Convert a string to a tuple of characters."
   ]
  },
  {
   "cell_type": "code",
   "execution_count": 125,
   "id": "fe55f7f6",
   "metadata": {},
   "outputs": [
    {
     "data": {
      "text/plain": [
       "('H', 'e', 'l', 'l', 'o')"
      ]
     },
     "execution_count": 125,
     "metadata": {},
     "output_type": "execute_result"
    }
   ],
   "source": [
    "def convert_string_to_tuple(str):\n",
    "    return tuple(str)\n",
    "convert_string_to_tuple(\"Hello\")"
   ]
  },
  {
   "cell_type": "markdown",
   "id": "42d85d55",
   "metadata": {},
   "source": [
    "#### 24. Convert a tuple of characters to a string."
   ]
  },
  {
   "cell_type": "code",
   "execution_count": 126,
   "id": "cff10ba3",
   "metadata": {},
   "outputs": [
    {
     "data": {
      "text/plain": [
       "'abc'"
      ]
     },
     "execution_count": 126,
     "metadata": {},
     "output_type": "execute_result"
    }
   ],
   "source": [
    "def convert_tuple_to_string(my_tuple):\n",
    "    return \"\".join(my_tuple)\n",
    "convert_tuple_to_string(('a', 'b', 'c'))"
   ]
  },
  {
   "cell_type": "markdown",
   "id": "c41f34ef",
   "metadata": {},
   "source": [
    "#### 25. Create a tuple from multiple data types."
   ]
  },
  {
   "cell_type": "code",
   "execution_count": 127,
   "id": "6bb930e5",
   "metadata": {},
   "outputs": [
    {
     "data": {
      "text/plain": [
       "('a', 2, True, 0.4, [1, 2, 3], (5, 6, 7), {7, 8, 9})"
      ]
     },
     "execution_count": 127,
     "metadata": {},
     "output_type": "execute_result"
    }
   ],
   "source": [
    "def create_tuple_multiple_data_types():\n",
    "    \n",
    "    my_tuple = ('a',2, True, 0.4, [1,2,3], (5,6,7), {7,8,9})\n",
    "    return my_tuple\n",
    "create_tuple_multiple_data_types()"
   ]
  },
  {
   "cell_type": "markdown",
   "id": "25130f83",
   "metadata": {},
   "source": [
    "#### 26. Check if two tuples are identical."
   ]
  },
  {
   "cell_type": "code",
   "execution_count": 128,
   "id": "e42b0152",
   "metadata": {},
   "outputs": [
    {
     "data": {
      "text/plain": [
       "True"
      ]
     },
     "execution_count": 128,
     "metadata": {},
     "output_type": "execute_result"
    }
   ],
   "source": [
    "def check_if_tuples_identical(tuple1, tuple2):\n",
    "    return tuple1 == tuple2\n",
    "check_if_tuples_identical((1,2,5), (1,2,5))"
   ]
  },
  {
   "cell_type": "markdown",
   "id": "3debeb42",
   "metadata": {},
   "source": [
    "#### 27. Sort the elements of a tuple."
   ]
  },
  {
   "cell_type": "code",
   "execution_count": 129,
   "id": "e5e13e52",
   "metadata": {},
   "outputs": [
    {
     "data": {
      "text/plain": [
       "[-45, 0.1, 1, 6]"
      ]
     },
     "execution_count": 129,
     "metadata": {},
     "output_type": "execute_result"
    }
   ],
   "source": [
    "def sort_tuple(my_tuple):\n",
    "    return sorted(my_tuple)\n",
    "sort_tuple((1,6,-45, 0.1))"
   ]
  },
  {
   "cell_type": "markdown",
   "id": "6dce9514",
   "metadata": {},
   "source": [
    "#### 28. Convert a tuple of integers to a tuple of strings."
   ]
  },
  {
   "cell_type": "code",
   "execution_count": 130,
   "id": "85bd1402",
   "metadata": {},
   "outputs": [
    {
     "data": {
      "text/plain": [
       "('1', '2', '3')"
      ]
     },
     "execution_count": 130,
     "metadata": {},
     "output_type": "execute_result"
    }
   ],
   "source": [
    "def convert_tuple_integers_to_strings(my_tuple):\n",
    "    return tuple(str(i) for i in my_tuple)\n",
    "convert_tuple_integers_to_strings((1,2,3))"
   ]
  },
  {
   "cell_type": "markdown",
   "id": "60356389",
   "metadata": {},
   "source": [
    "#### 29. Convert a tuple of strings to a tuple of integers."
   ]
  },
  {
   "cell_type": "code",
   "execution_count": 131,
   "id": "9a3160da",
   "metadata": {},
   "outputs": [
    {
     "data": {
      "text/plain": [
       "(1, 2, 3)"
      ]
     },
     "execution_count": 131,
     "metadata": {},
     "output_type": "execute_result"
    }
   ],
   "source": [
    "def convert_tuple_strings_to_integers(my_tuple):\n",
    "    return tuple(int(i) for i in my_tuple)\n",
    "convert_tuple_strings_to_integers(('1', '2', '3'))"
   ]
  },
  {
   "cell_type": "markdown",
   "id": "5746b98a",
   "metadata": {},
   "source": [
    "#### 30. Merge two tuples."
   ]
  },
  {
   "cell_type": "code",
   "execution_count": 132,
   "id": "833ab637",
   "metadata": {},
   "outputs": [
    {
     "data": {
      "text/plain": [
       "(1, 2, 3, 4, 5, 6)"
      ]
     },
     "execution_count": 132,
     "metadata": {},
     "output_type": "execute_result"
    }
   ],
   "source": [
    "def merge_tuples(tuple1, tuple2):\n",
    "    return (tuple1 + tuple2)\n",
    "merge_tuples((1,2,3), (4,5,6))"
   ]
  },
  {
   "cell_type": "markdown",
   "id": "8e53e65f",
   "metadata": {},
   "source": [
    "#### 31. Flatten a nested tuple."
   ]
  },
  {
   "cell_type": "code",
   "execution_count": 133,
   "id": "bcda387e",
   "metadata": {},
   "outputs": [
    {
     "name": "stdout",
     "output_type": "stream",
     "text": [
      "(1, 2, 3, 4, 5, 6, 7, 8)\n"
     ]
    }
   ],
   "source": [
    "def flatten_tuple(nested_tuple):\n",
    "    flat_list = []\n",
    "    for item in nested_tuple:\n",
    "        if isinstance(item, tuple):\n",
    "            flat_list.extend(flatten_tuple(item))\n",
    "        else:\n",
    "            flat_list.append(item)\n",
    "    return tuple(flat_list)\n",
    "\n",
    "\n",
    "nested_tuple = (((1, 2), (3, 4)), ((5, 6), (7, 8)))\n",
    "flattened_tuple = flatten_tuple(nested_tuple)\n",
    "print(flattened_tuple)"
   ]
  },
  {
   "cell_type": "markdown",
   "id": "73a1d791",
   "metadata": {},
   "source": [
    "#### 32. Create a tuple of the first 5 prime numbers."
   ]
  },
  {
   "cell_type": "code",
   "execution_count": 134,
   "id": "67c10c4d",
   "metadata": {},
   "outputs": [
    {
     "data": {
      "text/plain": [
       "(2, 3, 5, 7, 11)"
      ]
     },
     "execution_count": 134,
     "metadata": {},
     "output_type": "execute_result"
    }
   ],
   "source": [
    "def is_prime(n):\n",
    "    if n<2:\n",
    "        return False\n",
    "    for i in range(2,n-1):\n",
    "        if n%i == 0:\n",
    "            return False\n",
    "    return True\n",
    "def tuple_of_primes():\n",
    "    return tuple(i for i in range(2,12) if is_prime(i))\n",
    "\n",
    "tuple_of_primes()"
   ]
  },
  {
   "cell_type": "markdown",
   "id": "c47e755f",
   "metadata": {},
   "source": [
    "#### 33. Check if a tuple is a palindrome."
   ]
  },
  {
   "cell_type": "code",
   "execution_count": 135,
   "id": "ed642b26",
   "metadata": {},
   "outputs": [
    {
     "name": "stdout",
     "output_type": "stream",
     "text": [
      "False\n",
      "True\n"
     ]
    }
   ],
   "source": [
    "def is_tuple_palindrome(my_tuple):\n",
    "    return my_tuple == my_tuple[::-1]\n",
    "print(is_tuple_palindrome((1,2,3)))\n",
    "print(is_tuple_palindrome((1,3,1)))"
   ]
  },
  {
   "cell_type": "markdown",
   "id": "d08abcbe",
   "metadata": {},
   "source": [
    "#### 34. Create a tuple of squares of numbers from 1 to 5."
   ]
  },
  {
   "cell_type": "code",
   "execution_count": 136,
   "id": "eb43d9c4",
   "metadata": {},
   "outputs": [
    {
     "data": {
      "text/plain": [
       "(1, 4, 9, 16, 25)"
      ]
     },
     "execution_count": 136,
     "metadata": {},
     "output_type": "execute_result"
    }
   ],
   "source": [
    "def create_tuple_of_squares():\n",
    "    return tuple(i**2 for i in range(1,6))\n",
    "create_tuple_of_squares()"
   ]
  },
  {
   "cell_type": "markdown",
   "id": "d9038dd8",
   "metadata": {},
   "source": [
    "#### 35. Filter out all even numbers from a tuple."
   ]
  },
  {
   "cell_type": "code",
   "execution_count": 137,
   "id": "03b2218d",
   "metadata": {},
   "outputs": [
    {
     "data": {
      "text/plain": [
       "(2, 56, -2)"
      ]
     },
     "execution_count": 137,
     "metadata": {},
     "output_type": "execute_result"
    }
   ],
   "source": [
    "def tuple_filter_even_numbers(my_tuple):\n",
    "    return tuple(i for i in my_tuple if i%2 ==0)\n",
    "tuple_filter_even_numbers((1,2,3,56,-2))"
   ]
  },
  {
   "cell_type": "markdown",
   "id": "73343b5f",
   "metadata": {},
   "source": [
    "#### 36. Multiply all elements in a tuple by 2."
   ]
  },
  {
   "cell_type": "code",
   "execution_count": 138,
   "id": "75eb3826",
   "metadata": {},
   "outputs": [
    {
     "data": {
      "text/plain": [
       "(2, 4, 1.0, 24)"
      ]
     },
     "execution_count": 138,
     "metadata": {},
     "output_type": "execute_result"
    }
   ],
   "source": [
    "def multiple_tuple_elements_by_two(my_tuple):\n",
    "    return tuple(i*2 for i in my_tuple)\n",
    "multiple_tuple_elements_by_two((1,2,0.5, 12))"
   ]
  },
  {
   "cell_type": "markdown",
   "id": "1d25b7d7",
   "metadata": {},
   "source": [
    "#### 37. Create a tuple of random numbers."
   ]
  },
  {
   "cell_type": "code",
   "execution_count": 139,
   "id": "9f049da5",
   "metadata": {},
   "outputs": [
    {
     "data": {
      "text/plain": [
       "(762, 682, 862, 917, 52, 301, 827, 535, 606, 256)"
      ]
     },
     "execution_count": 139,
     "metadata": {},
     "output_type": "execute_result"
    }
   ],
   "source": [
    "import random\n",
    "def create_random_numbers_tuple():\n",
    "    return tuple(random.randrange(1,1000) for _ in range(10))\n",
    "create_random_numbers_tuple()"
   ]
  },
  {
   "cell_type": "markdown",
   "id": "507b27e2",
   "metadata": {},
   "source": [
    "#### 38. Check if a tuple is sorted."
   ]
  },
  {
   "cell_type": "code",
   "execution_count": 140,
   "id": "7894c982",
   "metadata": {},
   "outputs": [
    {
     "name": "stdout",
     "output_type": "stream",
     "text": [
      "True\n",
      "False\n"
     ]
    }
   ],
   "source": [
    "def is_tuple_sorted(my_tuple):\n",
    "    return sorted(list(my_tuple)) == list(my_tuple)\n",
    "print(is_tuple_sorted((1,2,3)))\n",
    "print(is_tuple_sorted((3,2,1)))"
   ]
  },
  {
   "cell_type": "markdown",
   "id": "13161dc4",
   "metadata": {},
   "source": [
    "#### 39. Rotate a tuple to the left by `n` positions."
   ]
  },
  {
   "cell_type": "code",
   "execution_count": 141,
   "id": "619defb0",
   "metadata": {},
   "outputs": [
    {
     "name": "stdout",
     "output_type": "stream",
     "text": [
      "Left shift by 1 position:  (2, 3, 4, 1)\n",
      "Left shift by 2 positions:  (3, 4, 1, 2)\n",
      "Left shift by 3 positions:  (4, 1, 2, 3)\n"
     ]
    }
   ],
   "source": [
    "def left_shift_tuple(my_tuple,n):\n",
    "    \n",
    "    length = len(my_tuple)\n",
    "    if length != 0:\n",
    "        n = n % length\n",
    "    else:\n",
    "        return tuple()\n",
    "    return my_tuple[n:] + my_tuple[0:n]\n",
    "my_tuple = (1,2,3,4)\n",
    "print(\"Left shift by 1 position: \" ,left_shift_tuple(my_tuple,1))\n",
    "print(\"Left shift by 2 positions: \",left_shift_tuple(my_tuple,2))\n",
    "print(\"Left shift by 3 positions: \",left_shift_tuple(my_tuple,3))  "
   ]
  },
  {
   "cell_type": "markdown",
   "id": "437e028e",
   "metadata": {},
   "source": [
    "#### 40. Rotate a tuple to the right by `n` positions."
   ]
  },
  {
   "cell_type": "code",
   "execution_count": 142,
   "id": "c71f6c27",
   "metadata": {},
   "outputs": [
    {
     "name": "stdout",
     "output_type": "stream",
     "text": [
      "Right shift by 1 position:  (4, 1, 2, 3)\n",
      "Right shift by 2 positions:  (3, 4, 1, 2)\n",
      "Right shift by 3 positions:  (2, 3, 4, 1)\n"
     ]
    }
   ],
   "source": [
    "def right_shift_tuple(my_tuple,n):\n",
    "\n",
    "    length = len(my_tuple)\n",
    "    if length !=0:\n",
    "        n = n% length\n",
    "    else:\n",
    "        return tuple()\n",
    "    return my_tuple[-n:] + my_tuple[:-n]\n",
    "my_tuple = (1,2,3,4)\n",
    "print(\"Right shift by 1 position: \" ,right_shift_tuple(my_tuple,1))\n",
    "print(\"Right shift by 2 positions: \",right_shift_tuple(my_tuple,2))\n",
    "print(\"Right shift by 3 positions: \",right_shift_tuple(my_tuple,3))  "
   ]
  },
  {
   "cell_type": "markdown",
   "id": "3591e4d0",
   "metadata": {},
   "source": [
    "#### 41. Create a tuple of the first 5 Fibonacci numbers."
   ]
  },
  {
   "cell_type": "code",
   "execution_count": 143,
   "id": "8383e6ec",
   "metadata": {},
   "outputs": [
    {
     "data": {
      "text/plain": [
       "(1, 1, 2, 3, 5)"
      ]
     },
     "execution_count": 143,
     "metadata": {},
     "output_type": "execute_result"
    }
   ],
   "source": [
    "def fib(n):\n",
    "    \n",
    "    if n==0 or n == 1:\n",
    "        return 1\n",
    "    else:\n",
    "        return fib(n-1) + fib(n-2)\n",
    "def create_tuple_fib():\n",
    "    return tuple(fib(i) for i in range(5))\n",
    "create_tuple_fib()"
   ]
  },
  {
   "cell_type": "markdown",
   "id": "08967869",
   "metadata": {},
   "source": [
    "#### 42. Create a tuple from user input."
   ]
  },
  {
   "cell_type": "code",
   "execution_count": 144,
   "id": "ac90e70c",
   "metadata": {},
   "outputs": [
    {
     "data": {
      "text/plain": [
       "('3', '4', '')"
      ]
     },
     "execution_count": 144,
     "metadata": {},
     "output_type": "execute_result"
    }
   ],
   "source": [
    "def create_tuple_from_user_input():\n",
    "    \n",
    "    list_ = []\n",
    "    for i in range(3):\n",
    "        list_.append(input((\"Enter element: \")))\n",
    "    return tuple(list_)\n",
    "create_tuple_from_user_input()                  "
   ]
  },
  {
   "cell_type": "markdown",
   "id": "21ba4049",
   "metadata": {},
   "source": [
    "#### 43. Swap two elements in a tuple."
   ]
  },
  {
   "cell_type": "code",
   "execution_count": 145,
   "id": "9df65a99",
   "metadata": {},
   "outputs": [
    {
     "data": {
      "text/plain": [
       "(1, 3, 2, 4)"
      ]
     },
     "execution_count": 145,
     "metadata": {},
     "output_type": "execute_result"
    }
   ],
   "source": [
    "def swap_elements_in_tuple(my_tuple, index1, index2):\n",
    "    \n",
    "    list_ = list(my_tuple)\n",
    "    list_[index1], list_[index2] = list_[index2], list_[index1]\n",
    "    return tuple(list_)\n",
    "swap_elements_in_tuple((1,2,3,4),1,2)"
   ]
  },
  {
   "cell_type": "markdown",
   "id": "5e9aa37a",
   "metadata": {},
   "source": [
    "#### 44. Reverse the elements of a tuple."
   ]
  },
  {
   "cell_type": "code",
   "execution_count": 146,
   "id": "f490edbc",
   "metadata": {},
   "outputs": [
    {
     "data": {
      "text/plain": [
       "(6, 5, 1)"
      ]
     },
     "execution_count": 146,
     "metadata": {},
     "output_type": "execute_result"
    }
   ],
   "source": [
    "def reverse_tuple(my_tuple):\n",
    "    return tuple(list(my_tuple)[::-1])\n",
    "reverse_tuple((1,5,6))"
   ]
  },
  {
   "cell_type": "markdown",
   "id": "f7a70ab5",
   "metadata": {},
   "source": [
    "#### 45. Create a tuple of the first `n` powers of 2."
   ]
  },
  {
   "cell_type": "code",
   "execution_count": 147,
   "id": "570e2f64",
   "metadata": {},
   "outputs": [
    {
     "data": {
      "text/plain": [
       "(1, 2, 4, 8, 16)"
      ]
     },
     "execution_count": 147,
     "metadata": {},
     "output_type": "execute_result"
    }
   ],
   "source": [
    "def create_tuple_of_powers_of_2(n):\n",
    "    return tuple(2**i for i in range(n))\n",
    "create_tuple_of_powers_of_2(5)"
   ]
  },
  {
   "cell_type": "markdown",
   "id": "cd68f63b",
   "metadata": {},
   "source": [
    "#### 46. Find the longest string in a tuple of strings."
   ]
  },
  {
   "cell_type": "code",
   "execution_count": 148,
   "id": "0805776d",
   "metadata": {},
   "outputs": [
    {
     "data": {
      "text/plain": [
       "'Python'"
      ]
     },
     "execution_count": 148,
     "metadata": {},
     "output_type": "execute_result"
    }
   ],
   "source": [
    "def find_longest_string_in_tuple(my_tuple):\n",
    "    \n",
    "    longest_string = my_tuple[0]\n",
    "    for i in my_tuple:\n",
    "        if len(i)>len(longest_string):\n",
    "            longest_string = i\n",
    "    return longest_string\n",
    "find_longest_string_in_tuple((\"He\" ,\"Knows\", \"Python\"))"
   ]
  },
  {
   "cell_type": "markdown",
   "id": "18379bd8",
   "metadata": {},
   "source": [
    "#### 47. Find the shortest string in a tuple of strings."
   ]
  },
  {
   "cell_type": "code",
   "execution_count": 149,
   "id": "cf4bb59d",
   "metadata": {},
   "outputs": [
    {
     "data": {
      "text/plain": [
       "'He'"
      ]
     },
     "execution_count": 149,
     "metadata": {},
     "output_type": "execute_result"
    }
   ],
   "source": [
    "def find_shortest_string_in_tuple(my_tuple):\n",
    "    \n",
    "    shortest_string = my_tuple[0]\n",
    "    for i in my_tuple:\n",
    "        if len(i)<len(shortest_string):\n",
    "            shortest_string = i\n",
    "    return shortest_string\n",
    "find_shortest_string_in_tuple((\"He\" ,\"Knows\", \"Python\"))"
   ]
  },
  {
   "cell_type": "markdown",
   "id": "29c6044b",
   "metadata": {},
   "source": [
    "#### 48. Create a tuple of the first `n` triangular numbers."
   ]
  },
  {
   "cell_type": "code",
   "execution_count": 150,
   "id": "54cedcd9",
   "metadata": {},
   "outputs": [
    {
     "data": {
      "text/plain": [
       "(1, 3, 6, 10, 15)"
      ]
     },
     "execution_count": 150,
     "metadata": {},
     "output_type": "execute_result"
    }
   ],
   "source": [
    "def create_tuple_of_triangular_numbers(n):\n",
    "    return tuple(int(i*(i+1)/2) for i in range(1,n+1))\n",
    "create_tuple_of_triangular_numbers(5)"
   ]
  },
  {
   "cell_type": "markdown",
   "id": "6a9bad39",
   "metadata": {},
   "source": [
    "#### 49. Check if a tuple contains another tuple as a subsequence."
   ]
  },
  {
   "cell_type": "code",
   "execution_count": 151,
   "id": "b225ee0b",
   "metadata": {},
   "outputs": [
    {
     "name": "stdout",
     "output_type": "stream",
     "text": [
      "True\n",
      "False\n"
     ]
    }
   ],
   "source": [
    "def is_subsequence(sub, main):\n",
    "    sub_len = len(sub)\n",
    "    main_len = len(main)\n",
    "    i = j = 0\n",
    "    while i<sub_len and j<main_len:\n",
    "        if sub[i] == main[j]:\n",
    "            i +=1\n",
    "        j +=1\n",
    "    return i == sub_len\n",
    "sub = (1,2)\n",
    "main = (1,2,3)\n",
    "\n",
    "print(is_subsequence(sub, main))\n",
    "print(is_subsequence((1,2,3), (4,5,6)))"
   ]
  },
  {
   "cell_type": "markdown",
   "id": "b719e5e4",
   "metadata": {},
   "source": [
    "#### 50. Create a tuple of alternating 1s and 0s of length `n`."
   ]
  },
  {
   "cell_type": "code",
   "execution_count": 152,
   "id": "6b94d688",
   "metadata": {},
   "outputs": [
    {
     "data": {
      "text/plain": [
       "[0, 1, 0, 1, 0, 1]"
      ]
     },
     "execution_count": 152,
     "metadata": {},
     "output_type": "execute_result"
    }
   ],
   "source": [
    "def create_tuple_of_1s_and_02(n):\n",
    "    list_ = []\n",
    "    for i in range(n):\n",
    "        if i%2 !=0:\n",
    "            list_.append(1)\n",
    "        else:\n",
    "            list_.append(0)\n",
    "    return list_        \n",
    "create_tuple_of_1s_and_02(6)"
   ]
  },
  {
   "cell_type": "markdown",
   "id": "2912357f",
   "metadata": {},
   "source": [
    "## TOPIC: Set Based Practice Problems"
   ]
  },
  {
   "cell_type": "markdown",
   "id": "3d4ca05f",
   "metadata": {},
   "source": [
    "#### 1. Create a set with integers from 1 to 5."
   ]
  },
  {
   "cell_type": "code",
   "execution_count": 153,
   "id": "7b8e29a6",
   "metadata": {},
   "outputs": [
    {
     "data": {
      "text/plain": [
       "{1, 2, 3, 4, 5}"
      ]
     },
     "execution_count": 153,
     "metadata": {},
     "output_type": "execute_result"
    }
   ],
   "source": [
    "def create_set():\n",
    "    return {i for i in range(1,6)}\n",
    "create_set()"
   ]
  },
  {
   "cell_type": "markdown",
   "id": "1bce3bd3",
   "metadata": {},
   "source": [
    "#### 2. Add an element to a set."
   ]
  },
  {
   "cell_type": "code",
   "execution_count": 154,
   "id": "7975327d",
   "metadata": {},
   "outputs": [
    {
     "data": {
      "text/plain": [
       "{1, 2, 3, 4, 5, 6}"
      ]
     },
     "execution_count": 154,
     "metadata": {},
     "output_type": "execute_result"
    }
   ],
   "source": [
    "def add_to_set(my_set,element):\n",
    "    my_set.add(element)\n",
    "    return my_set\n",
    "my_set = {1, 2, 3, 4, 5}\n",
    "add_to_set(my_set, 6)"
   ]
  },
  {
   "cell_type": "markdown",
   "id": "dfa443cc",
   "metadata": {},
   "source": [
    "#### 3. Remove an element from a set."
   ]
  },
  {
   "cell_type": "code",
   "execution_count": 155,
   "id": "5a5da709",
   "metadata": {},
   "outputs": [
    {
     "data": {
      "text/plain": [
       "{1, 3}"
      ]
     },
     "execution_count": 155,
     "metadata": {},
     "output_type": "execute_result"
    }
   ],
   "source": [
    "def remove_from_set(my_set, element):\n",
    "    \n",
    "    my_set.remove(element)\n",
    "    return my_set\n",
    "remove_from_set({1,2,3}, 2)"
   ]
  },
  {
   "cell_type": "markdown",
   "id": "7b334150",
   "metadata": {},
   "source": [
    "#### 4. Check if an element exists in a set."
   ]
  },
  {
   "cell_type": "code",
   "execution_count": 156,
   "id": "9e4c530a",
   "metadata": {},
   "outputs": [
    {
     "name": "stdout",
     "output_type": "stream",
     "text": [
      "True\n",
      "False\n"
     ]
    }
   ],
   "source": [
    "def check_if_element_exists_in_set(my_set, element):\n",
    "    return element in my_set\n",
    "print(check_if_element_exists_in_set({1,2,3}, 3))\n",
    "print(check_if_element_exists_in_set({1,2,3}, 4))"
   ]
  },
  {
   "cell_type": "markdown",
   "id": "2921d550",
   "metadata": {},
   "source": [
    "#### 5. Find the length of a set without using the `len()` function."
   ]
  },
  {
   "cell_type": "code",
   "execution_count": 157,
   "id": "cfc0ebbd",
   "metadata": {},
   "outputs": [
    {
     "data": {
      "text/plain": [
       "4"
      ]
     },
     "execution_count": 157,
     "metadata": {},
     "output_type": "execute_result"
    }
   ],
   "source": [
    "def length_set(my_set):\n",
    "    count = 0\n",
    "    for item in my_set:\n",
    "        count +=1\n",
    "    return count\n",
    "length_set({1,2,3,4})     "
   ]
  },
  {
   "cell_type": "markdown",
   "id": "fcb7623f",
   "metadata": {},
   "source": [
    "#### 6. Clear all elements from a set."
   ]
  },
  {
   "cell_type": "code",
   "execution_count": 158,
   "id": "2f6a20bd",
   "metadata": {},
   "outputs": [
    {
     "data": {
      "text/plain": [
       "set()"
      ]
     },
     "execution_count": 158,
     "metadata": {},
     "output_type": "execute_result"
    }
   ],
   "source": [
    "def clear_set(my_set):\n",
    "    my_set.clear()\n",
    "    return my_set\n",
    "clear_set({1,2,3})"
   ]
  },
  {
   "cell_type": "markdown",
   "id": "3123ff0b",
   "metadata": {},
   "source": [
    "#### 7. Create a set of even numbers from 1 to 10."
   ]
  },
  {
   "cell_type": "code",
   "execution_count": 159,
   "id": "403074e7",
   "metadata": {},
   "outputs": [
    {
     "data": {
      "text/plain": [
       "{2, 4, 6, 8, 10}"
      ]
     },
     "execution_count": 159,
     "metadata": {},
     "output_type": "execute_result"
    }
   ],
   "source": [
    "def create_set_of_even_numbers():\n",
    "    return {i for i in range(1,11) if i%2 == 0}\n",
    "\n",
    "create_set_of_even_numbers()  "
   ]
  },
  {
   "cell_type": "markdown",
   "id": "dbf03eab",
   "metadata": {},
   "source": [
    "#### 8. Create a set of odd numbers from 1 to 10."
   ]
  },
  {
   "cell_type": "code",
   "execution_count": 160,
   "id": "13e1a553",
   "metadata": {},
   "outputs": [
    {
     "data": {
      "text/plain": [
       "{1, 3, 5, 7, 9}"
      ]
     },
     "execution_count": 160,
     "metadata": {},
     "output_type": "execute_result"
    }
   ],
   "source": [
    "def create_set_of_odd_numbers():\n",
    "    return {i for i in range(1,11) if i%2 != 0}\n",
    "\n",
    "create_set_of_odd_numbers()      "
   ]
  },
  {
   "cell_type": "markdown",
   "id": "0968ba7b",
   "metadata": {},
   "source": [
    "#### 9. Find the union of two sets."
   ]
  },
  {
   "cell_type": "code",
   "execution_count": 161,
   "id": "68f8e39e",
   "metadata": {},
   "outputs": [
    {
     "data": {
      "text/plain": [
       "{1, 2, 3, 4, 5}"
      ]
     },
     "execution_count": 161,
     "metadata": {},
     "output_type": "execute_result"
    }
   ],
   "source": [
    "def union_of_sets(set1, set2):\n",
    "    \n",
    "    return set1.union(set2)\n",
    "\n",
    "union_of_sets({1,2,3,4}, {4,5})"
   ]
  },
  {
   "cell_type": "markdown",
   "id": "e47d3c92",
   "metadata": {},
   "source": [
    "#### 10. Find the intersection of two sets."
   ]
  },
  {
   "cell_type": "code",
   "execution_count": 162,
   "id": "1b676657",
   "metadata": {},
   "outputs": [
    {
     "data": {
      "text/plain": [
       "{1, 2}"
      ]
     },
     "execution_count": 162,
     "metadata": {},
     "output_type": "execute_result"
    }
   ],
   "source": [
    "def intersection_of_sets(set1, set2):\n",
    "    return set.intersection(set2)\n",
    "intersection_of_sets({1,2,3}, {1,2})"
   ]
  },
  {
   "cell_type": "markdown",
   "id": "75c10fa4",
   "metadata": {},
   "source": [
    "#### 11. Find the difference between two sets."
   ]
  },
  {
   "cell_type": "code",
   "execution_count": 163,
   "id": "f39d8143",
   "metadata": {},
   "outputs": [
    {
     "data": {
      "text/plain": [
       "{3, 4}"
      ]
     },
     "execution_count": 163,
     "metadata": {},
     "output_type": "execute_result"
    }
   ],
   "source": [
    "def difference_between_sets(set1,set2):\n",
    "    return set1.difference(set2)\n",
    "difference_between_sets({1,2,3,4}, {1,2})"
   ]
  },
  {
   "cell_type": "markdown",
   "id": "f74743d8",
   "metadata": {},
   "source": [
    "#### 12. Check if a set is a subset of another set."
   ]
  },
  {
   "cell_type": "code",
   "execution_count": 164,
   "id": "f7aee3f2",
   "metadata": {},
   "outputs": [
    {
     "name": "stdout",
     "output_type": "stream",
     "text": [
      "True\n",
      "False\n"
     ]
    }
   ],
   "source": [
    "def is_subset_of_set(set1, set2):\n",
    "    return set1.issubset(set2)\n",
    "print(is_subset_of_set({1,2,3}, {1,2,3,4}))\n",
    "print(is_subset_of_set({1,2,3}, {1,2,4}))"
   ]
  },
  {
   "cell_type": "markdown",
   "id": "2a86b94a",
   "metadata": {},
   "source": [
    "#### 13. Check if a set is a superset of another set."
   ]
  },
  {
   "cell_type": "code",
   "execution_count": 165,
   "id": "b3e14ea1",
   "metadata": {},
   "outputs": [
    {
     "name": "stdout",
     "output_type": "stream",
     "text": [
      "True\n",
      "False\n"
     ]
    }
   ],
   "source": [
    "def is_superset_of_set(set1,set2):\n",
    "    \n",
    "    return set1.issuperset(set2)\n",
    "print(is_superset_of_set({1,2,3,4}, {1,2}))\n",
    "print(is_superset_of_set({1,2,3,4}, {1,5}))"
   ]
  },
  {
   "cell_type": "markdown",
   "id": "6881bb91",
   "metadata": {},
   "source": [
    "#### 14. Create a set from a list."
   ]
  },
  {
   "cell_type": "code",
   "execution_count": 166,
   "id": "418eeb66",
   "metadata": {},
   "outputs": [
    {
     "data": {
      "text/plain": [
       "{1, 2, 3, 4, 'Hi'}"
      ]
     },
     "execution_count": 166,
     "metadata": {},
     "output_type": "execute_result"
    }
   ],
   "source": [
    "def set_from_list(lst):\n",
    "    return set(lst)\n",
    "set_from_list([1,2,3,4,1, \"Hi\"])"
   ]
  },
  {
   "cell_type": "markdown",
   "id": "a53eec76",
   "metadata": {},
   "source": [
    "#### 15. Convert a set to a list."
   ]
  },
  {
   "cell_type": "code",
   "execution_count": 167,
   "id": "98889a4d",
   "metadata": {},
   "outputs": [
    {
     "data": {
      "text/plain": [
       "[1, 2, 3, 'Hello']"
      ]
     },
     "execution_count": 167,
     "metadata": {},
     "output_type": "execute_result"
    }
   ],
   "source": [
    "def set_to_list(my_set):\n",
    "    return list(my_set)\n",
    "set_to_list({1,2,3,\"Hello\"})"
   ]
  },
  {
   "cell_type": "markdown",
   "id": "071b7423",
   "metadata": {},
   "source": [
    "#### 16. Remove a random element from a set."
   ]
  },
  {
   "cell_type": "code",
   "execution_count": 168,
   "id": "aa8194ee",
   "metadata": {},
   "outputs": [
    {
     "data": {
      "text/plain": [
       "{2, 3}"
      ]
     },
     "execution_count": 168,
     "metadata": {},
     "output_type": "execute_result"
    }
   ],
   "source": [
    "import random\n",
    "def remove_random_element_from_set(my_set):\n",
    "    element = random.choice(list(my_set))\n",
    "    my_set.remove(element)\n",
    "    return my_set\n",
    "remove_random_element_from_set({1,2,3})"
   ]
  },
  {
   "cell_type": "markdown",
   "id": "cf7258ac",
   "metadata": {},
   "source": [
    "#### 17. Pop an element from a set."
   ]
  },
  {
   "cell_type": "code",
   "execution_count": 169,
   "id": "be6a5bf0",
   "metadata": {},
   "outputs": [
    {
     "data": {
      "text/plain": [
       "{2, 3, 4}"
      ]
     },
     "execution_count": 169,
     "metadata": {},
     "output_type": "execute_result"
    }
   ],
   "source": [
    "def pop_element_from_set(my_set):\n",
    "    my_set.pop()\n",
    "    return my_set\n",
    "pop_element_from_set({1,2,3,4})"
   ]
  },
  {
   "cell_type": "markdown",
   "id": "e9b209a5",
   "metadata": {},
   "source": [
    "#### 18. Check if two sets have no elements in common."
   ]
  },
  {
   "cell_type": "code",
   "execution_count": 170,
   "id": "18c16d4b",
   "metadata": {},
   "outputs": [
    {
     "name": "stdout",
     "output_type": "stream",
     "text": [
      "True\n",
      "False\n"
     ]
    }
   ],
   "source": [
    "def check_of_no_common_elements_in_sets(set1, set2):\n",
    "    \n",
    "    return len(set1.intersection(set2)) == 0\n",
    "print(check_of_no_common_elements_in_sets({1,2,3}, {4,5}))\n",
    "print(check_of_no_common_elements_in_sets({1,2,3}, {4,5,1}))"
   ]
  },
  {
   "cell_type": "markdown",
   "id": "878bf8f1",
   "metadata": {},
   "source": [
    "#### 19. Find the symmetric difference between two sets."
   ]
  },
  {
   "cell_type": "code",
   "execution_count": 171,
   "id": "d0c9ea38",
   "metadata": {},
   "outputs": [
    {
     "data": {
      "text/plain": [
       "{2, 3}"
      ]
     },
     "execution_count": 171,
     "metadata": {},
     "output_type": "execute_result"
    }
   ],
   "source": [
    "def symmetric_diff_between_sets(set1, set2):\n",
    "    return set1.symmetric_difference(set2)\n",
    "symmetric_diff_between_sets({1,2,3}, {1})"
   ]
  },
  {
   "cell_type": "markdown",
   "id": "06b68415",
   "metadata": {},
   "source": [
    "#### 20. Update a set with elements from another set."
   ]
  },
  {
   "cell_type": "code",
   "execution_count": 172,
   "id": "a814ebba",
   "metadata": {},
   "outputs": [
    {
     "data": {
      "text/plain": [
       "{1, 2, 3, 4, 5}"
      ]
     },
     "execution_count": 172,
     "metadata": {},
     "output_type": "execute_result"
    }
   ],
   "source": [
    "def update_set(set1, set2):\n",
    "    set1.update(set2)\n",
    "    return set1\n",
    "update_set({1,2,3}, {1,2,4,5})"
   ]
  },
  {
   "cell_type": "markdown",
   "id": "7ad2665e",
   "metadata": {},
   "source": [
    "#### 21. Create a set of the first 5 prime numbers."
   ]
  },
  {
   "cell_type": "code",
   "execution_count": 173,
   "id": "b836ed18",
   "metadata": {},
   "outputs": [
    {
     "data": {
      "text/plain": [
       "{2, 3, 4, 5, 6}"
      ]
     },
     "execution_count": 173,
     "metadata": {},
     "output_type": "execute_result"
    }
   ],
   "source": [
    "def isPrime(n):\n",
    "    \n",
    "    if n < 2:\n",
    "        return False\n",
    "    else:\n",
    "        for i in range(2,n):\n",
    "            if i%n == 0:\n",
    "                return False\n",
    "    return True\n",
    "def set_of_primes(n):\n",
    "    \n",
    "    return {i for i in range(2,7) if isPrime(i)}\n",
    "set_of_primes(10)"
   ]
  },
  {
   "cell_type": "markdown",
   "id": "e177f72a",
   "metadata": {},
   "source": [
    "#### 22. Check if two sets are identical."
   ]
  },
  {
   "cell_type": "code",
   "execution_count": 174,
   "id": "87467dda",
   "metadata": {},
   "outputs": [
    {
     "name": "stdout",
     "output_type": "stream",
     "text": [
      "True\n",
      "False\n"
     ]
    }
   ],
   "source": [
    "def sets_identical(set1, set2):\n",
    "    \n",
    "    return set1 == set2\n",
    "print(sets_identical({1,2,3}, {1,1,2,3}))\n",
    "print(sets_identical({1,2,3}, {1,1,2,3,4}))"
   ]
  },
  {
   "cell_type": "markdown",
   "id": "282b8e82",
   "metadata": {},
   "source": [
    "#### 23. Create a frozen set."
   ]
  },
  {
   "cell_type": "code",
   "execution_count": 175,
   "id": "bb423733",
   "metadata": {},
   "outputs": [
    {
     "data": {
      "text/plain": [
       "frozenset({1, 2, 3})"
      ]
     },
     "execution_count": 175,
     "metadata": {},
     "output_type": "execute_result"
    }
   ],
   "source": [
    "def frozen_set(my_set):\n",
    "\n",
    "    \n",
    "    return frozenset(my_set)\n",
    "\n",
    "frozen_set({1,2,3})"
   ]
  },
  {
   "cell_type": "markdown",
   "id": "e12d06f0",
   "metadata": {},
   "source": [
    "#### 24. Check if a set is disjoint with another set."
   ]
  },
  {
   "cell_type": "code",
   "execution_count": 176,
   "id": "37563e0d",
   "metadata": {},
   "outputs": [
    {
     "name": "stdout",
     "output_type": "stream",
     "text": [
      "True\n",
      "False\n"
     ]
    }
   ],
   "source": [
    "def are_sets_disjoint(set1, set2):\n",
    "    \n",
    "    return len(set1.intersection(set2)) == 0\n",
    "\n",
    "print(are_sets_disjoint({1,2,3}, {4}))\n",
    "print(are_sets_disjoint({1,2,3}, {1,2,4}))"
   ]
  },
  {
   "cell_type": "markdown",
   "id": "162762df",
   "metadata": {},
   "source": [
    "#### 25. Create a set of squares of numbers from 1 to 5."
   ]
  },
  {
   "cell_type": "code",
   "execution_count": 177,
   "id": "156cfa44",
   "metadata": {},
   "outputs": [
    {
     "data": {
      "text/plain": [
       "{1, 4, 9, 16, 25}"
      ]
     },
     "execution_count": 177,
     "metadata": {},
     "output_type": "execute_result"
    }
   ],
   "source": [
    "def set_of_squares():\n",
    "    \n",
    "    return {i**2 for i in range(1,6)}\n",
    "    \n",
    "set_of_squares()"
   ]
  },
  {
   "cell_type": "markdown",
   "id": "079708c7",
   "metadata": {},
   "source": [
    "#### 26. Filter out all even numbers from a set."
   ]
  },
  {
   "cell_type": "code",
   "execution_count": 178,
   "id": "65949b28",
   "metadata": {},
   "outputs": [
    {
     "data": {
      "text/plain": [
       "{4, 10}"
      ]
     },
     "execution_count": 178,
     "metadata": {},
     "output_type": "execute_result"
    }
   ],
   "source": [
    "def filter_even_numbers_from_set(my_set):\n",
    "    \n",
    "    return {i for i in my_set if i%2 ==0}\n",
    "filter_even_numbers_from_set({1,4,5,10})"
   ]
  },
  {
   "cell_type": "markdown",
   "id": "90ab8852",
   "metadata": {},
   "source": [
    "#### 27. Multiply all elements in a set by 2."
   ]
  },
  {
   "cell_type": "code",
   "execution_count": 179,
   "id": "aebb27ca",
   "metadata": {},
   "outputs": [
    {
     "data": {
      "text/plain": [
       "{2, 4, 10}"
      ]
     },
     "execution_count": 179,
     "metadata": {},
     "output_type": "execute_result"
    }
   ],
   "source": [
    "def multiply_set_elements_by_two(my_set):\n",
    "    \n",
    "    return {i*2 for i in my_set}\n",
    "multiply_set_elements_by_two({1,2,5})"
   ]
  },
  {
   "cell_type": "markdown",
   "id": "04917cf1",
   "metadata": {},
   "source": [
    "#### 28. Create a set of random numbers."
   ]
  },
  {
   "cell_type": "code",
   "execution_count": 180,
   "id": "1a2319b5",
   "metadata": {},
   "outputs": [
    {
     "data": {
      "text/plain": [
       "{17, 159, 171, 271, 300, 337, 342, 597, 614, 776}"
      ]
     },
     "execution_count": 180,
     "metadata": {},
     "output_type": "execute_result"
    }
   ],
   "source": [
    "def set_of_random_nums():\n",
    "    \n",
    "    return {random.randrange(1,1000) for _ in range(10)}\n",
    "set_of_random_nums()"
   ]
  },
  {
   "cell_type": "markdown",
   "id": "852fefd6",
   "metadata": {},
   "source": [
    "#### 29. Check if a set is empty."
   ]
  },
  {
   "cell_type": "code",
   "execution_count": 181,
   "id": "a9a73ef1",
   "metadata": {},
   "outputs": [
    {
     "name": "stdout",
     "output_type": "stream",
     "text": [
      "True\n",
      "False\n"
     ]
    }
   ],
   "source": [
    "def is_set_empty(my_set):\n",
    "    \n",
    "    return len(my_set)==0\n",
    "print(is_set_empty({}))\n",
    "print(is_set_empty({1}))"
   ]
  },
  {
   "cell_type": "markdown",
   "id": "aeaa368d",
   "metadata": {},
   "source": [
    "#### 30. Create a nested set (hint: use frozenset)."
   ]
  },
  {
   "cell_type": "code",
   "execution_count": 182,
   "id": "f65291b3",
   "metadata": {},
   "outputs": [
    {
     "data": {
      "text/plain": [
       "{frozenset({4, 5}), frozenset({2, 3}), frozenset({1, 2})}"
      ]
     },
     "execution_count": 182,
     "metadata": {},
     "output_type": "execute_result"
    }
   ],
   "source": [
    "def create_nested_set():\n",
    "    \n",
    "    return set([frozenset([1, 2]), frozenset([2, 3]), frozenset([4, 5])])\n",
    "\n",
    "create_nested_set()"
   ]
  },
  {
   "cell_type": "markdown",
   "id": "be5dced5",
   "metadata": {},
   "source": [
    "#### 31. Remove an element from a set using the discard method."
   ]
  },
  {
   "cell_type": "code",
   "execution_count": 183,
   "id": "305687e9",
   "metadata": {},
   "outputs": [
    {
     "data": {
      "text/plain": [
       "{1, 2}"
      ]
     },
     "execution_count": 183,
     "metadata": {},
     "output_type": "execute_result"
    }
   ],
   "source": [
    "def remove_element_from_set(my_set, element):\n",
    "    \n",
    "    my_set.discard(element)\n",
    "    return my_set\n",
    "remove_element_from_set({1,2,3},3)"
   ]
  },
  {
   "cell_type": "markdown",
   "id": "2c7753d6",
   "metadata": {},
   "source": [
    "#### 32. Compare two sets."
   ]
  },
  {
   "cell_type": "code",
   "execution_count": 184,
   "id": "bf658679",
   "metadata": {},
   "outputs": [
    {
     "name": "stdout",
     "output_type": "stream",
     "text": [
      "False\n",
      "False\n",
      "True\n"
     ]
    }
   ],
   "source": [
    "def compare_two_sets(set1, set2):\n",
    "    \n",
    "    print(set1 == set2)\n",
    "    print(set1.issubset(set2))\n",
    "    print(set1.issuperset(set2))\n",
    "    \n",
    "\n",
    "    \n",
    "compare_two_sets({1,2,3,4}, {1,2})"
   ]
  },
  {
   "cell_type": "markdown",
   "id": "67a16992",
   "metadata": {},
   "source": [
    "#### 33. Create a set from a string."
   ]
  },
  {
   "cell_type": "code",
   "execution_count": 185,
   "id": "b63664b9",
   "metadata": {},
   "outputs": [
    {
     "data": {
      "text/plain": [
       "{'H', 'e', 'l', 'o'}"
      ]
     },
     "execution_count": 185,
     "metadata": {},
     "output_type": "execute_result"
    }
   ],
   "source": [
    "def create_set_from_string(str):\n",
    "    return set(str)\n",
    "create_set_from_string(\"Hello\")"
   ]
  },
  {
   "cell_type": "markdown",
   "id": "39a68b5c",
   "metadata": {},
   "source": [
    "#### 34. Convert a set of strings to a set of integers."
   ]
  },
  {
   "cell_type": "code",
   "execution_count": 186,
   "id": "931e84d2",
   "metadata": {},
   "outputs": [
    {
     "data": {
      "text/plain": [
       "{1, 2, 4}"
      ]
     },
     "execution_count": 186,
     "metadata": {},
     "output_type": "execute_result"
    }
   ],
   "source": [
    "def set_convert_strings_to_int(my_set):\n",
    "    \n",
    "    return {int(i) for i in my_set}\n",
    "set_convert_strings_to_int({'1', '2', '4'})"
   ]
  },
  {
   "cell_type": "markdown",
   "id": "5e849fe1",
   "metadata": {},
   "source": [
    "#### 35. Convert a set of integers to a set of strings."
   ]
  },
  {
   "cell_type": "code",
   "execution_count": 187,
   "id": "cb153a1a",
   "metadata": {},
   "outputs": [
    {
     "data": {
      "text/plain": [
       "{'1', '2', '4'}"
      ]
     },
     "execution_count": 187,
     "metadata": {},
     "output_type": "execute_result"
    }
   ],
   "source": [
    "def set_convert_int_to_string(my_set):\n",
    "    \n",
    "    return {str(i) for i in my_set}\n",
    "set_convert_int_to_string({1, 2, 4})"
   ]
  },
  {
   "cell_type": "markdown",
   "id": "7645d8ee",
   "metadata": {},
   "source": [
    "#### 36. Create a set from a tuple."
   ]
  },
  {
   "cell_type": "code",
   "execution_count": 188,
   "id": "5472e5e3",
   "metadata": {},
   "outputs": [
    {
     "data": {
      "text/plain": [
       "{1, 2, 3}"
      ]
     },
     "execution_count": 188,
     "metadata": {},
     "output_type": "execute_result"
    }
   ],
   "source": [
    "def create_set_from_tuple(my_tuple):\n",
    "    \n",
    "    return set(my_tuple)\n",
    "\n",
    "create_set_from_tuple((1,2,3))"
   ]
  },
  {
   "cell_type": "markdown",
   "id": "e7d19058",
   "metadata": {},
   "source": [
    "#### 37. Convert a set to a tuple."
   ]
  },
  {
   "cell_type": "code",
   "execution_count": 189,
   "id": "09ac20d9",
   "metadata": {},
   "outputs": [
    {
     "data": {
      "text/plain": [
       "(1, 2, 3)"
      ]
     },
     "execution_count": 189,
     "metadata": {},
     "output_type": "execute_result"
    }
   ],
   "source": [
    "def convert_set_to_tuple(my_set):\n",
    "    \n",
    "    return tuple(my_set)\n",
    "convert_set_to_tuple({1,2,3})"
   ]
  },
  {
   "cell_type": "markdown",
   "id": "fec4cec3",
   "metadata": {},
   "source": [
    "#### 38. Find the maximum value in a set."
   ]
  },
  {
   "cell_type": "code",
   "execution_count": 190,
   "id": "7548ec9f",
   "metadata": {},
   "outputs": [
    {
     "data": {
      "text/plain": [
       "60"
      ]
     },
     "execution_count": 190,
     "metadata": {},
     "output_type": "execute_result"
    }
   ],
   "source": [
    "def max_in_set(my_set):\n",
    "    \n",
    "    return max(my_set)\n",
    "max_in_set({1,2,-4,0.4,60})"
   ]
  },
  {
   "cell_type": "markdown",
   "id": "9a111fda",
   "metadata": {},
   "source": [
    "#### 39. Find the minimum value in a set."
   ]
  },
  {
   "cell_type": "code",
   "execution_count": 191,
   "id": "e5cb8478",
   "metadata": {},
   "outputs": [
    {
     "data": {
      "text/plain": [
       "-56"
      ]
     },
     "execution_count": 191,
     "metadata": {},
     "output_type": "execute_result"
    }
   ],
   "source": [
    "def min_in_set(my_set):\n",
    "    \n",
    "    return min(my_set)\n",
    "min_in_set({-2, 0, 40,-56})"
   ]
  },
  {
   "cell_type": "markdown",
   "id": "ff4ceaba",
   "metadata": {},
   "source": [
    "#### 40. Create a set from user input."
   ]
  },
  {
   "cell_type": "code",
   "execution_count": 192,
   "id": "252d1a3e",
   "metadata": {},
   "outputs": [
    {
     "data": {
      "text/plain": [
       "{'2', '4', '5'}"
      ]
     },
     "execution_count": 192,
     "metadata": {},
     "output_type": "execute_result"
    }
   ],
   "source": [
    "def create_set_from_user_input():\n",
    "    \n",
    "    my_set = set()\n",
    "    \n",
    "    for i in range(3):\n",
    "        my_set.add(input(\"Enter element: \"))\n",
    "    return my_set\n",
    "create_set_from_user_input()\n",
    "        "
   ]
  },
  {
   "cell_type": "markdown",
   "id": "17fe3e89",
   "metadata": {},
   "source": [
    "#### 41. Check if the intersection of two sets is empty."
   ]
  },
  {
   "cell_type": "code",
   "execution_count": 193,
   "id": "021f6eba",
   "metadata": {},
   "outputs": [
    {
     "name": "stdout",
     "output_type": "stream",
     "text": [
      "True\n",
      "False\n"
     ]
    }
   ],
   "source": [
    "def check_if_intersection_empty(set1, set2):\n",
    "    \n",
    "    return len(set1.intersection(set2)) == 0\n",
    "print(check_if_intersection_empty({1,2,3}, {4}))\n",
    "print(check_if_intersection_empty({1,2,3}, {2,4}))"
   ]
  },
  {
   "cell_type": "markdown",
   "id": "476d9a92",
   "metadata": {},
   "source": [
    "#### 42. Create a set of the first 5 Fibonacci numbers."
   ]
  },
  {
   "cell_type": "code",
   "execution_count": 194,
   "id": "0131aee2",
   "metadata": {},
   "outputs": [
    {
     "data": {
      "text/plain": [
       "{1, 2, 3, 5, 8}"
      ]
     },
     "execution_count": 194,
     "metadata": {},
     "output_type": "execute_result"
    }
   ],
   "source": [
    "def fib(n):\n",
    "    \n",
    "    if n<2:\n",
    "        return 1\n",
    "    else:\n",
    "        return fib(n-1) + fib(n-2)\n",
    "def create_set_of_fib():\n",
    "    \n",
    "    return {fib(i) for i in range(6)}\n",
    "\n",
    "    \n",
    "create_set_of_fib()"
   ]
  },
  {
   "cell_type": "markdown",
   "id": "7119630f",
   "metadata": {},
   "source": [
    "#### 43. Remove duplicates from a list using sets."
   ]
  },
  {
   "cell_type": "code",
   "execution_count": 195,
   "id": "e9dd36b8",
   "metadata": {},
   "outputs": [
    {
     "data": {
      "text/plain": [
       "['Hi', 1, 2, 3]"
      ]
     },
     "execution_count": 195,
     "metadata": {},
     "output_type": "execute_result"
    }
   ],
   "source": [
    "def remove_duplicates_using_sets(lst):\n",
    "    \n",
    "    return list(set(lst))\n",
    "remove_duplicates_using_sets([1,1,2,3,\"Hi\", \"Hi\"])"
   ]
  },
  {
   "cell_type": "markdown",
   "id": "669127e0",
   "metadata": {},
   "source": [
    "#### 44. Check if two sets have the same elements, regardless of their count."
   ]
  },
  {
   "cell_type": "code",
   "execution_count": 196,
   "id": "f925316d",
   "metadata": {},
   "outputs": [
    {
     "name": "stdout",
     "output_type": "stream",
     "text": [
      "True\n",
      "False\n"
     ]
    }
   ],
   "source": [
    "def check_if_same_elements_in_sets(set1, set2):\n",
    "    \n",
    "    return set1 == set2\n",
    "print(check_if_same_elements_in_sets({1,1,2,3,4}, {1,2,3,4}))\n",
    "print(check_if_same_elements_in_sets({1,1,2,3,4}, {1,2,3,4,5}))"
   ]
  },
  {
   "cell_type": "markdown",
   "id": "af10ab3e",
   "metadata": {},
   "source": [
    "#### 45. Create a set of the first `n` powers of 2."
   ]
  },
  {
   "cell_type": "code",
   "execution_count": 197,
   "id": "934e7352",
   "metadata": {},
   "outputs": [
    {
     "data": {
      "text/plain": [
       "{1, 2, 4, 8, 16}"
      ]
     },
     "execution_count": 197,
     "metadata": {},
     "output_type": "execute_result"
    }
   ],
   "source": [
    "def set_of_powers_of_2(n):\n",
    "    \n",
    "    return {2**i for i in range(n)}\n",
    "set_of_powers_of_2(5)"
   ]
  },
  {
   "cell_type": "markdown",
   "id": "fb875dc6",
   "metadata": {},
   "source": [
    "#### 46. Find the common elements between a set and a list."
   ]
  },
  {
   "cell_type": "code",
   "execution_count": 198,
   "id": "39eab474",
   "metadata": {},
   "outputs": [
    {
     "data": {
      "text/plain": [
       "[1, 2]"
      ]
     },
     "execution_count": 198,
     "metadata": {},
     "output_type": "execute_result"
    }
   ],
   "source": [
    "def common_between_set_and_list(my_set, lst):\n",
    "    return list(my_set.intersection(set(lst)))\n",
    "\n",
    "common_between_set_and_list({1,2,3}, [1,2])"
   ]
  },
  {
   "cell_type": "markdown",
   "id": "a07d2bcf",
   "metadata": {},
   "source": [
    "#### 47. Create a set of the first `n` triangular numbers."
   ]
  },
  {
   "cell_type": "code",
   "execution_count": 199,
   "id": "b1b8ac35",
   "metadata": {},
   "outputs": [
    {
     "data": {
      "text/plain": [
       "{1, 3, 6, 10, 15, 21, 28, 36}"
      ]
     },
     "execution_count": 199,
     "metadata": {},
     "output_type": "execute_result"
    }
   ],
   "source": [
    "def create_set_of_triangular_nums(n):\n",
    "    \n",
    "    return {int(i*(i-1)/2) for i in range (2,n)}\n",
    "create_set_of_triangular_nums(10)"
   ]
  },
  {
   "cell_type": "markdown",
   "id": "facbd2a2",
   "metadata": {},
   "source": [
    "#### 48. Check if a set contains another set as a subset."
   ]
  },
  {
   "cell_type": "code",
   "execution_count": 200,
   "id": "b7090dd8",
   "metadata": {},
   "outputs": [
    {
     "name": "stdout",
     "output_type": "stream",
     "text": [
      "True\n",
      "False\n"
     ]
    }
   ],
   "source": [
    "def check_if_subset(main, sub):\n",
    "    \n",
    "    length_main = len(main)\n",
    "    length_sub = len(sub)\n",
    "    i = j = 0\n",
    "    main = list(main)\n",
    "    sub = list(sub)\n",
    "    while i<length_sub and j<length_main:\n",
    "        if main[j] == sub[i]:\n",
    "            i +=1\n",
    "        j +=1\n",
    "    return i == length_sub\n",
    "\n",
    "print(check_if_subset({1,2,3}, {1,2}))\n",
    "print(check_if_subset({1,2,3}, {1,4}))"
   ]
  },
  {
   "cell_type": "markdown",
   "id": "d320264d",
   "metadata": {},
   "source": [
    "#### 49. Create a set of alternating 1s and 0s of length `n`."
   ]
  },
  {
   "cell_type": "code",
   "execution_count": 201,
   "id": "1cba90be",
   "metadata": {},
   "outputs": [
    {
     "data": {
      "text/plain": [
       "{0, 1}"
      ]
     },
     "execution_count": 201,
     "metadata": {},
     "output_type": "execute_result"
    }
   ],
   "source": [
    "def create_set_of_0s_and_1s(n):\n",
    "    my_set = set()\n",
    "    for i in range(n):\n",
    "        if i%n != 0:\n",
    "            my_set.add(1)\n",
    "        else:\n",
    "            my_set.add(0)\n",
    "    return my_set\n",
    "            \n",
    "create_set_of_0s_and_1s(5)"
   ]
  },
  {
   "cell_type": "markdown",
   "id": "7ceed427",
   "metadata": {},
   "source": [
    "#### 50. Merge multiple sets into one."
   ]
  },
  {
   "cell_type": "code",
   "execution_count": 202,
   "id": "b6265618",
   "metadata": {},
   "outputs": [
    {
     "data": {
      "text/plain": [
       "{1, 2, 3, 4, 5}"
      ]
     },
     "execution_count": 202,
     "metadata": {},
     "output_type": "execute_result"
    }
   ],
   "source": [
    "def merge_sets(set1,set2,set3):\n",
    "    \n",
    "    return (set1.union(set2)).union(set3)\n",
    "merge_sets({1,2}, {3,4}, {5,1})"
   ]
  }
 ],
 "metadata": {
  "kernelspec": {
   "display_name": "Python 3",
   "language": "python",
   "name": "python3"
  },
  "language_info": {
   "codemirror_mode": {
    "name": "ipython",
    "version": 3
   },
   "file_extension": ".py",
   "mimetype": "text/x-python",
   "name": "python",
   "nbconvert_exporter": "python",
   "pygments_lexer": "ipython3",
   "version": "3.10.9"
  }
 },
 "nbformat": 4,
 "nbformat_minor": 5
}
