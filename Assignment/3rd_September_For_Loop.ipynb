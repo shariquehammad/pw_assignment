{
 "cells": [
  {
   "cell_type": "markdown",
   "id": "7bc9be99",
   "metadata": {},
   "source": [
    "## For Loop Assignment"
   ]
  },
  {
   "cell_type": "markdown",
   "id": "1f2a1c0f",
   "metadata": {},
   "source": [
    "### Basic Level"
   ]
  },
  {
   "cell_type": "markdown",
   "id": "29f3398e",
   "metadata": {},
   "source": [
    "#### 1. Write a Python program to print the numbers from 1 to 10 using a `for` loop."
   ]
  },
  {
   "cell_type": "code",
   "execution_count": 1,
   "id": "1baa07b2",
   "metadata": {},
   "outputs": [
    {
     "name": "stdout",
     "output_type": "stream",
     "text": [
      "1 2 3 4 5 6 7 8 9 10 "
     ]
    }
   ],
   "source": [
    "def print_nums():\n",
    "    for i in range(1,11):\n",
    "        print(i, end = \" \")\n",
    "print_nums()"
   ]
  },
  {
   "cell_type": "markdown",
   "id": "df73a5d9",
   "metadata": {},
   "source": [
    "#### 2. Create a program that calculates the sum of all numbers in a list using a `for` loop."
   ]
  },
  {
   "cell_type": "code",
   "execution_count": 3,
   "id": "7c0d101d",
   "metadata": {},
   "outputs": [
    {
     "data": {
      "text/plain": [
       "56"
      ]
     },
     "execution_count": 3,
     "metadata": {},
     "output_type": "execute_result"
    }
   ],
   "source": [
    "def list_sum(lst):\n",
    "    sum = 0\n",
    "    for item in lst:\n",
    "        sum+=item\n",
    "    return sum\n",
    "list_sum([1,2, -2, 44, 3, -1, 9])"
   ]
  },
  {
   "cell_type": "markdown",
   "id": "962badce",
   "metadata": {},
   "source": [
    "#### 3. Write a program to print the characters of a string in reverse order using a `for` loop."
   ]
  },
  {
   "cell_type": "code",
   "execution_count": 4,
   "id": "118c9c03",
   "metadata": {},
   "outputs": [
    {
     "name": "stdout",
     "output_type": "stream",
     "text": [
      "hgfedcba"
     ]
    }
   ],
   "source": [
    "def string_reverse(str):\n",
    "    \n",
    "    for char in reversed(str):\n",
    "        print(char, end = \"\")\n",
    "string_reverse(\"abcdefgh\")"
   ]
  },
  {
   "cell_type": "markdown",
   "id": "ea630aa6",
   "metadata": {},
   "source": [
    "#### 4. Develop a program that finds the factorial of a given number using a `for` loop."
   ]
  },
  {
   "cell_type": "code",
   "execution_count": 5,
   "id": "11318076",
   "metadata": {},
   "outputs": [
    {
     "data": {
      "text/plain": [
       "40320"
      ]
     },
     "execution_count": 5,
     "metadata": {},
     "output_type": "execute_result"
    }
   ],
   "source": [
    "def fact(n):\n",
    "    fact = 1\n",
    "    if n <1:\n",
    "        return 1\n",
    "    else:\n",
    "        for i in range(1,n+1):\n",
    "            fact*=i\n",
    "    return fact\n",
    "fact(8)"
   ]
  },
  {
   "cell_type": "markdown",
   "id": "3a08bbe4",
   "metadata": {},
   "source": [
    "#### 5. Create a program to print the multiplication table of a given number using a `for` loop."
   ]
  },
  {
   "cell_type": "code",
   "execution_count": 6,
   "id": "f2ab2919",
   "metadata": {},
   "outputs": [
    {
     "name": "stdout",
     "output_type": "stream",
     "text": [
      "42 X 1 = 42\n",
      "42 X 2 = 84\n",
      "42 X 3 = 126\n",
      "42 X 4 = 168\n",
      "42 X 5 = 210\n",
      "42 X 6 = 252\n",
      "42 X 7 = 294\n",
      "42 X 8 = 336\n",
      "42 X 9 = 378\n",
      "42 X 10 = 420\n"
     ]
    }
   ],
   "source": [
    "def multiplication_table(n):\n",
    "    \n",
    "    for i in range(1,11):\n",
    "        print(n, 'X', i, \"=\", n*i)\n",
    "multiplication_table(42)"
   ]
  },
  {
   "cell_type": "markdown",
   "id": "f1bde0a1",
   "metadata": {},
   "source": [
    "#### 6. Write a program that counts the number of even and odd numbers in a list using a `for` loop."
   ]
  },
  {
   "cell_type": "code",
   "execution_count": 7,
   "id": "f557cb87",
   "metadata": {},
   "outputs": [
    {
     "name": "stdout",
     "output_type": "stream",
     "text": [
      "Number of even numbers:  3\n",
      "Number of odd numbers:  2\n"
     ]
    }
   ],
   "source": [
    "def count_even_odd(lst):\n",
    "    \n",
    "    count_even = 0\n",
    "    count_odd = 0\n",
    "    for i in lst:\n",
    "        if i%2 ==0:\n",
    "            count_even +=1\n",
    "        else:\n",
    "            count_odd +=1\n",
    "    print(\"Number of even numbers: \", count_even)\n",
    "    print(\"Number of odd numbers: \", count_odd)\n",
    "count_even_odd([1,2,3,4,10])"
   ]
  },
  {
   "cell_type": "markdown",
   "id": "40a8fba7",
   "metadata": {},
   "source": [
    "#### 7. Develop a program that prints the squares of numbers from 1 to 5 using a `for` loop."
   ]
  },
  {
   "cell_type": "code",
   "execution_count": 8,
   "id": "f4dd66a2",
   "metadata": {},
   "outputs": [
    {
     "name": "stdout",
     "output_type": "stream",
     "text": [
      "1\n",
      "4\n",
      "9\n",
      "16\n",
      "25\n"
     ]
    }
   ],
   "source": [
    "def print_squares():\n",
    "    \n",
    "    for i in range(1,6):\n",
    "        print(i**2)\n",
    "print_squares()"
   ]
  },
  {
   "cell_type": "markdown",
   "id": "3d6f1d88",
   "metadata": {},
   "source": [
    "#### 8. Create a program to find the length of a string without using the `len()` function."
   ]
  },
  {
   "cell_type": "code",
   "execution_count": 9,
   "id": "26b3d8c6",
   "metadata": {},
   "outputs": [
    {
     "data": {
      "text/plain": [
       "6"
      ]
     },
     "execution_count": 9,
     "metadata": {},
     "output_type": "execute_result"
    }
   ],
   "source": [
    "def len_string(str):\n",
    "    \n",
    "    string_length = 0\n",
    "    for i in str:\n",
    "        string_length +=1\n",
    "    return string_length\n",
    "len_string(\"abc987\")"
   ]
  },
  {
   "cell_type": "markdown",
   "id": "8a3da7c4",
   "metadata": {},
   "source": [
    "#### 9. Write a program that calculates the average of a list of numbers using a `for` loop."
   ]
  },
  {
   "cell_type": "code",
   "execution_count": 10,
   "id": "d43c31c3",
   "metadata": {},
   "outputs": [
    {
     "data": {
      "text/plain": [
       "4.0"
      ]
     },
     "execution_count": 10,
     "metadata": {},
     "output_type": "execute_result"
    }
   ],
   "source": [
    "def average_of_list(lst):\n",
    "    \n",
    "    sum_ = 0\n",
    "    for i in lst:\n",
    "        sum_ += i\n",
    "    return sum_/len(lst)\n",
    "average_of_list([1,2,3,9,5])"
   ]
  },
  {
   "cell_type": "markdown",
   "id": "1412a77c",
   "metadata": {},
   "source": [
    "#### 10. Develop a program that prints the first `n` Fibonacci numbers using a `for` loop."
   ]
  },
  {
   "cell_type": "code",
   "execution_count": 12,
   "id": "97eb02c5",
   "metadata": {},
   "outputs": [
    {
     "name": "stdout",
     "output_type": "stream",
     "text": [
      "Fibonacci sequence: 0 1 1 2 3 "
     ]
    }
   ],
   "source": [
    "def fib(nterms):\n",
    "\n",
    "    n1, n2 = 0, 1\n",
    "    count = 0\n",
    "\n",
    "    if nterms <= 0:\n",
    "        print(\"Please enter a positive integer\")\n",
    "    \n",
    "    elif nterms == 1:\n",
    "        print(\"Fibonacci sequence upto\",nterms,\":\")\n",
    "        print(n1)\n",
    "    \n",
    "    else:\n",
    "        print(\"Fibonacci sequence:\", end = \" \")\n",
    "        for count in range(nterms):\n",
    "            print(n1, end = \" \")\n",
    "            nth = n1 + n2\n",
    "            n1 = n2\n",
    "            n2 = nth\n",
    "            count += 1\n",
    "\n",
    "fib(5)  "
   ]
  },
  {
   "cell_type": "markdown",
   "id": "425e1d97",
   "metadata": {},
   "source": [
    "## Intermediate Level:"
   ]
  },
  {
   "cell_type": "markdown",
   "id": "b778bc6b",
   "metadata": {},
   "source": [
    "#### 11. Write a program to check if a given list contains any duplicates using a `for` loop."
   ]
  },
  {
   "cell_type": "code",
   "execution_count": 13,
   "id": "9291401b",
   "metadata": {},
   "outputs": [
    {
     "name": "stdout",
     "output_type": "stream",
     "text": [
      "False\n",
      "True\n"
     ]
    }
   ],
   "source": [
    "def check_duplicates(lst):\n",
    "    \n",
    "    for i in range(len(lst)):\n",
    "        for j in range(i+1,len(lst)):\n",
    "            if lst[i] == lst[j]:\n",
    "                return True\n",
    "    return False\n",
    "print(check_duplicates([1,2,3]))\n",
    "print(check_duplicates([1,1,22,3]))"
   ]
  },
  {
   "cell_type": "markdown",
   "id": "6a5030f2",
   "metadata": {},
   "source": [
    "#### 12. Create a program that prints the prime numbers in a given range using a `for` loop."
   ]
  },
  {
   "cell_type": "code",
   "execution_count": 15,
   "id": "2c2db81e",
   "metadata": {},
   "outputs": [
    {
     "name": "stdout",
     "output_type": "stream",
     "text": [
      "11 13 17 19 23 29 31 37 41 43 47 "
     ]
    }
   ],
   "source": [
    "def print_primes(start, end):\n",
    "    for num in range(start, end + 1):\n",
    "        if num > 1:\n",
    "            for i in range(2, num):\n",
    "                if (num % i) == 0:\n",
    "                    break\n",
    "            else:\n",
    "                print(num, end = \" \")\n",
    "                \n",
    "print_primes(10, 50)"
   ]
  },
  {
   "cell_type": "markdown",
   "id": "11ed7a3e",
   "metadata": {},
   "source": [
    "#### 13. Develop a program that counts the number of vowels in a string using a `for` loop."
   ]
  },
  {
   "cell_type": "code",
   "execution_count": 16,
   "id": "8a77eb04",
   "metadata": {},
   "outputs": [
    {
     "data": {
      "text/plain": [
       "2"
      ]
     },
     "execution_count": 16,
     "metadata": {},
     "output_type": "execute_result"
    }
   ],
   "source": [
    "def count_vowels(str):\n",
    "    num_vowels = 0\n",
    "    for char in str:\n",
    "        if char in \"aeiou\":\n",
    "            num_vowels +=1\n",
    "    return num_vowels\n",
    "count_vowels(\"abcde\")      "
   ]
  },
  {
   "cell_type": "markdown",
   "id": "79f1a8a1",
   "metadata": {},
   "source": [
    "#### 14. Write a program to find the maximum element in a 2D list using a nested `for` loop."
   ]
  },
  {
   "cell_type": "code",
   "execution_count": 17,
   "id": "b123d48b",
   "metadata": {},
   "outputs": [
    {
     "data": {
      "text/plain": [
       "100"
      ]
     },
     "execution_count": 17,
     "metadata": {},
     "output_type": "execute_result"
    }
   ],
   "source": [
    "def max_2D_list(lst):\n",
    "    max_ = 0\n",
    "    for i in lst:\n",
    "        for j in i:\n",
    "            if j>max_:\n",
    "                max_ = j\n",
    "    return max_\n",
    "max_2D_list([[1,2,3], [-4, 100, 9], [2,3,90]])"
   ]
  },
  {
   "cell_type": "markdown",
   "id": "7cf1f873",
   "metadata": {},
   "source": [
    "#### 15. Create a program that removes all occurrences of a specific element from a list using a `for` loop."
   ]
  },
  {
   "cell_type": "code",
   "execution_count": 18,
   "id": "075abf07",
   "metadata": {},
   "outputs": [
    {
     "data": {
      "text/plain": [
       "[2, 3, 2]"
      ]
     },
     "execution_count": 18,
     "metadata": {},
     "output_type": "execute_result"
    }
   ],
   "source": [
    "def remove_element(lst, element):\n",
    "    \n",
    "    for i in lst:\n",
    "        if i==element:\n",
    "            lst.remove(element)\n",
    "    return lst\n",
    "remove_element([1,2,3,1,2], 1)"
   ]
  },
  {
   "cell_type": "markdown",
   "id": "4707392a",
   "metadata": {},
   "source": [
    "#### 16. Develop a program that generates a multiplication table for numbers from 1 to 5 using a nested `for` loop."
   ]
  },
  {
   "cell_type": "code",
   "execution_count": 19,
   "id": "2bcb4193",
   "metadata": {},
   "outputs": [
    {
     "name": "stdout",
     "output_type": "stream",
     "text": [
      "Table of:  1\n",
      "1  X  1  =  1\n",
      "1  X  2  =  2\n",
      "1  X  3  =  3\n",
      "1  X  4  =  4\n",
      "1  X  5  =  5\n",
      "1  X  6  =  6\n",
      "1  X  7  =  7\n",
      "1  X  8  =  8\n",
      "1  X  9  =  9\n",
      "1  X  10  =  10\n",
      "\n",
      "\n",
      "Table of:  2\n",
      "2  X  1  =  2\n",
      "2  X  2  =  4\n",
      "2  X  3  =  6\n",
      "2  X  4  =  8\n",
      "2  X  5  =  10\n",
      "2  X  6  =  12\n",
      "2  X  7  =  14\n",
      "2  X  8  =  16\n",
      "2  X  9  =  18\n",
      "2  X  10  =  20\n",
      "\n",
      "\n",
      "Table of:  3\n",
      "3  X  1  =  3\n",
      "3  X  2  =  6\n",
      "3  X  3  =  9\n",
      "3  X  4  =  12\n",
      "3  X  5  =  15\n",
      "3  X  6  =  18\n",
      "3  X  7  =  21\n",
      "3  X  8  =  24\n",
      "3  X  9  =  27\n",
      "3  X  10  =  30\n",
      "\n",
      "\n",
      "Table of:  4\n",
      "4  X  1  =  4\n",
      "4  X  2  =  8\n",
      "4  X  3  =  12\n",
      "4  X  4  =  16\n",
      "4  X  5  =  20\n",
      "4  X  6  =  24\n",
      "4  X  7  =  28\n",
      "4  X  8  =  32\n",
      "4  X  9  =  36\n",
      "4  X  10  =  40\n",
      "\n",
      "\n",
      "Table of:  5\n",
      "5  X  1  =  5\n",
      "5  X  2  =  10\n",
      "5  X  3  =  15\n",
      "5  X  4  =  20\n",
      "5  X  5  =  25\n",
      "5  X  6  =  30\n",
      "5  X  7  =  35\n",
      "5  X  8  =  40\n",
      "5  X  9  =  45\n",
      "5  X  10  =  50\n",
      "\n",
      "\n"
     ]
    }
   ],
   "source": [
    "def multiplication_table_nested_for_loop():\n",
    "    \n",
    "    for i in range(1,6):\n",
    "        print(\"Table of: \", i)\n",
    "        for j in range(1,11):\n",
    "            \n",
    "            print(i, \" X \", j, \" = \", i*j)\n",
    "        print(\"\\n\")\n",
    "multiplication_table_nested_for_loop()"
   ]
  },
  {
   "cell_type": "markdown",
   "id": "03b589f1",
   "metadata": {},
   "source": [
    "#### 17. Write a program that converts a list of Fahrenheit temperatures to Celsius using a `for` loop."
   ]
  },
  {
   "cell_type": "code",
   "execution_count": 20,
   "id": "ed2509c0",
   "metadata": {},
   "outputs": [
    {
     "data": {
      "text/plain": [
       "[0.0, -15.0, 10.0, 20.0]"
      ]
     },
     "execution_count": 20,
     "metadata": {},
     "output_type": "execute_result"
    }
   ],
   "source": [
    "def fahrenheit_to_celsius(lst):\n",
    "    \n",
    "    for i in range(len(lst)):\n",
    "        lst[i] = (lst[i]-32)*5/9\n",
    "    return lst\n",
    "        \n",
    "fahrenheit_to_celsius([32,5, 50,68])"
   ]
  },
  {
   "cell_type": "markdown",
   "id": "246f5c1a",
   "metadata": {},
   "source": [
    "#### 18. Create a program to print the common elements from two lists using a `for` loop."
   ]
  },
  {
   "cell_type": "code",
   "execution_count": 21,
   "id": "2246d9ae",
   "metadata": {},
   "outputs": [
    {
     "name": "stdout",
     "output_type": "stream",
     "text": [
      "1 2 7 "
     ]
    }
   ],
   "source": [
    "def print_common_between_lists(list1, list2):\n",
    "    \n",
    "    for i in list1:\n",
    "        for j in list2:\n",
    "            if i ==j:\n",
    "                print(i, end = \" \")\n",
    "print_common_between_lists([1,2,3,7], [1,2,7])"
   ]
  },
  {
   "cell_type": "markdown",
   "id": "91645b85",
   "metadata": {},
   "source": [
    "#### 19. Develop a program that prints the pattern of right-angled triangles using a `for` loop. Use ‘*’ to draw the pattern"
   ]
  },
  {
   "cell_type": "code",
   "execution_count": 22,
   "id": "fb39ad83",
   "metadata": {},
   "outputs": [
    {
     "name": "stdout",
     "output_type": "stream",
     "text": [
      "\n",
      "\n",
      "* \n",
      "\n",
      "* * \n",
      "\n",
      "* * * \n",
      "\n",
      "* * * * \n",
      "\n",
      "* * * * * \n",
      "\n"
     ]
    }
   ],
   "source": [
    "def right_angled_triangle_pattern(n):\n",
    "    \n",
    "    for i in range(n):\n",
    "        for j in range(i):\n",
    "            print(\"*\", end = \" \")\n",
    "        print(\"\\n\")\n",
    "right_angled_triangle_pattern(6)     "
   ]
  },
  {
   "cell_type": "markdown",
   "id": "48be1fe0",
   "metadata": {},
   "source": [
    "#### 20. Write a program to find the greatest common divisor (GCD) of two numbers using a `for` loop."
   ]
  },
  {
   "cell_type": "code",
   "execution_count": 23,
   "id": "5b8343d6",
   "metadata": {},
   "outputs": [
    {
     "data": {
      "text/plain": [
       "10"
      ]
     },
     "execution_count": 23,
     "metadata": {},
     "output_type": "execute_result"
    }
   ],
   "source": [
    "def gcd(a,b):\n",
    "    for i in range(1, min(a,b) + 1):\n",
    "        if (a % i == 0) and (b % i == 0):\n",
    "            gcd = i\n",
    "    return gcd\n",
    "gcd(10,20)"
   ]
  },
  {
   "cell_type": "markdown",
   "id": "a470dac8",
   "metadata": {},
   "source": [
    "#### Advanced Level:"
   ]
  },
  {
   "cell_type": "markdown",
   "id": "5b59e09a",
   "metadata": {},
   "source": [
    "#### 21. Create a program that calculates the sum of the digits of numbers in a list using a list comprehension."
   ]
  },
  {
   "cell_type": "code",
   "execution_count": 24,
   "id": "e562d411",
   "metadata": {},
   "outputs": [
    {
     "data": {
      "text/plain": [
       "[3, 2, 3]"
      ]
     },
     "execution_count": 24,
     "metadata": {},
     "output_type": "execute_result"
    }
   ],
   "source": [
    "def get_sum_of_digits(numbers):\n",
    "    return [sum(int(digit) for digit in str(number)) for number in numbers]\n",
    "    \n",
    "get_sum_of_digits([12,2,3])"
   ]
  },
  {
   "cell_type": "markdown",
   "id": "7909786c",
   "metadata": {},
   "source": [
    "#### 22. Write a program to find the prime factors of a given number using a `for` loop and list comprehension."
   ]
  },
  {
   "cell_type": "code",
   "execution_count": 27,
   "id": "1dae022f",
   "metadata": {},
   "outputs": [
    {
     "data": {
      "text/plain": [
       "[5, 7]"
      ]
     },
     "execution_count": 27,
     "metadata": {},
     "output_type": "execute_result"
    }
   ],
   "source": [
    "import math\n",
    "\n",
    "def prime_factors(n):\n",
    "    list_primes =[]\n",
    "    while n % 2 == 0:\n",
    "        list_primes.append(2)\n",
    "        n = int(n / 2)\n",
    "    for i in range(3, int(math.isqrt(n)) + 1, 2):\n",
    "        while n % i == 0:\n",
    "            list_primes.append(i)\n",
    "            n = n / i\n",
    "    if n > 2:\n",
    "        list_primes.append(int(n))\n",
    "    return list(set(list_primes))\n",
    "    \n",
    "prime_factors(35)"
   ]
  },
  {
   "cell_type": "markdown",
   "id": "00cdef85",
   "metadata": {},
   "source": [
    "#### 23. Develop a program that extracts unique elements from a list and stores them in a new list using a list comprehension."
   ]
  },
  {
   "cell_type": "code",
   "execution_count": 28,
   "id": "d5d16f69",
   "metadata": {},
   "outputs": [
    {
     "data": {
      "text/plain": [
       "[1, 2, 3, 9]"
      ]
     },
     "execution_count": 28,
     "metadata": {},
     "output_type": "execute_result"
    }
   ],
   "source": [
    "def extract_uniques_list(lst):\n",
    "    return [x for i,x in enumerate(lst) if x not in lst[i+1:]]\n",
    "\n",
    "extract_uniques_list([1,2,3,1,2,3,9])"
   ]
  },
  {
   "cell_type": "markdown",
   "id": "cff72f64",
   "metadata": {},
   "source": [
    "#### 24. Create a program that generates a list of all palindromic numbers up to a specified limit using a list comprehension."
   ]
  },
  {
   "cell_type": "code",
   "execution_count": 29,
   "id": "a3ac6f2d",
   "metadata": {},
   "outputs": [
    {
     "data": {
      "text/plain": [
       "[0, 1, 2, 3, 4, 5, 6, 7, 8, 9, 11, 22, 33, 44, 55, 66, 77, 88, 99]"
      ]
     },
     "execution_count": 29,
     "metadata": {},
     "output_type": "execute_result"
    }
   ],
   "source": [
    "def generate_palindromes(n):\n",
    "    \n",
    "    return [i for i in range(n) if str(i)[::-1] == str(i)]\n",
    "generate_palindromes(100)"
   ]
  },
  {
   "cell_type": "markdown",
   "id": "6ef19082",
   "metadata": {},
   "source": [
    "#### 25. Write a program to flatten a nested list using list comprehension."
   ]
  },
  {
   "cell_type": "code",
   "execution_count": 30,
   "id": "b64f7c88",
   "metadata": {},
   "outputs": [
    {
     "data": {
      "text/plain": [
       "[1, 2, 3, 4]"
      ]
     },
     "execution_count": 30,
     "metadata": {},
     "output_type": "execute_result"
    }
   ],
   "source": [
    "def flatten_nested_list(lst):\n",
    "    \n",
    "    return [j for i in lst for j in i]\n",
    "flatten_nested_list([[1,2], [3,4]])"
   ]
  },
  {
   "cell_type": "markdown",
   "id": "eda8fd8a",
   "metadata": {},
   "source": [
    "#### 26. Develop a program that computes the sum of even and odd numbers in a list separately using list comprehension."
   ]
  },
  {
   "cell_type": "code",
   "execution_count": 31,
   "id": "dc9c2e16",
   "metadata": {},
   "outputs": [
    {
     "name": "stdout",
     "output_type": "stream",
     "text": [
      "Sum of even numbers:  8\n",
      "Sum of odd numbers:  9\n"
     ]
    }
   ],
   "source": [
    "def sum_evens_odds_separate(lst):\n",
    "    \n",
    "    return [sum(i for i in lst if i%2 == 0), sum(j for j in lst if j%2 !=0)]\n",
    "print(\"Sum of even numbers: \",sum_evens_odds_separate([1,3,5,2,6])[0])\n",
    "print(\"Sum of odd numbers: \", sum_evens_odds_separate([1,3,5,2,6])[1])"
   ]
  },
  {
   "cell_type": "markdown",
   "id": "68b225b8",
   "metadata": {},
   "source": [
    "#### 27. Create a program that generates a list of squares of odd numbers between 1 and 10 using list comprehension."
   ]
  },
  {
   "cell_type": "code",
   "execution_count": 32,
   "id": "0293f40d",
   "metadata": {},
   "outputs": [
    {
     "data": {
      "text/plain": [
       "[1, 9, 25, 49, 81]"
      ]
     },
     "execution_count": 32,
     "metadata": {},
     "output_type": "execute_result"
    }
   ],
   "source": [
    "def generate_squares_of_odds():\n",
    "    \n",
    "    return [i**2 for i in range(1,11) if i%2 !=0]\n",
    "generate_squares_of_odds()"
   ]
  },
  {
   "cell_type": "markdown",
   "id": "a0f2332d",
   "metadata": {},
   "source": [
    "#### 28. Write a program that combines two lists into a dictionary using list comprehension."
   ]
  },
  {
   "cell_type": "code",
   "execution_count": 33,
   "id": "12bedf85",
   "metadata": {},
   "outputs": [
    {
     "data": {
      "text/plain": [
       "{'A': 1, 'B': 2, 'C': 3}"
      ]
     },
     "execution_count": 33,
     "metadata": {},
     "output_type": "execute_result"
    }
   ],
   "source": [
    "def lists_to_dict(list_keys, list_values):\n",
    "    \n",
    "    return {list_keys[i]:list_values[i] for i in range(len(list_keys))}\n",
    "lists_to_dict([\"A\", \"B\", \"C\"], [1,2,3])"
   ]
  },
  {
   "cell_type": "markdown",
   "id": "94bfa5af",
   "metadata": {},
   "source": [
    "#### 29. Develop a program that extracts the vowels from a string and stores them in a list using list comprehension."
   ]
  },
  {
   "cell_type": "code",
   "execution_count": 34,
   "id": "feda2dda",
   "metadata": {},
   "outputs": [
    {
     "data": {
      "text/plain": [
       "['i', 'o']"
      ]
     },
     "execution_count": 34,
     "metadata": {},
     "output_type": "execute_result"
    }
   ],
   "source": [
    "def extract_vowels(str):\n",
    "    \n",
    "    return [i for i in str if i in \"aeiou\"]\n",
    "extract_vowels(\"Hi, Python\")"
   ]
  },
  {
   "cell_type": "markdown",
   "id": "a96b1c43",
   "metadata": {},
   "source": [
    "#### 30. Create a program that removes all non-numeric characters from a list of strings using list comprehension."
   ]
  },
  {
   "cell_type": "code",
   "execution_count": 35,
   "id": "e1c47cd2",
   "metadata": {},
   "outputs": [
    {
     "data": {
      "text/plain": [
       "[1, 2, 3]"
      ]
     },
     "execution_count": 35,
     "metadata": {},
     "output_type": "execute_result"
    }
   ],
   "source": [
    "def remove_non_numeric_chars(lst):\n",
    "    \n",
    "    return [i for i in lst if isinstance(i, int)]\n",
    "remove_non_numeric_chars([1,2,\"Hi\", 3, 'A'])"
   ]
  },
  {
   "cell_type": "markdown",
   "id": "46393c3c",
   "metadata": {},
   "source": [
    "## Challenge Level:"
   ]
  },
  {
   "cell_type": "markdown",
   "id": "a9b48e79",
   "metadata": {},
   "source": [
    "#### 31. Write a program to generate a list of prime numbers using the Sieve of Eratosthenes algorithm and list comprehension."
   ]
  },
  {
   "cell_type": "code",
   "execution_count": 36,
   "id": "ef3ff2fc",
   "metadata": {},
   "outputs": [
    {
     "name": "stdout",
     "output_type": "stream",
     "text": [
      "List of primes:  2 3 5 7 11 13 17 19 "
     ]
    }
   ],
   "source": [
    "def SieveOfEratosthenes(n):\n",
    "    prime = [True for i in range(n+1)]\n",
    "    p = 2\n",
    "    while (p * p <= n):\n",
    "        if (prime[p] == True):\n",
    "            for i in range(p * p, n+1, p):\n",
    "                prime[i] = False\n",
    "        p += 1\n",
    "    print(\"List of primes: \", end = \" \")\n",
    "    for p in range(2, n+1):\n",
    "        if prime[p]:\n",
    "            print(p,end = \" \")\n",
    "SieveOfEratosthenes(20)    "
   ]
  },
  {
   "cell_type": "markdown",
   "id": "0717a24b",
   "metadata": {},
   "source": [
    "#### 32. Create a program that generates a list of all Pythagorean triplets up to a specified limit using list comprehension."
   ]
  },
  {
   "cell_type": "code",
   "execution_count": 37,
   "id": "026d4816",
   "metadata": {
    "scrolled": true
   },
   "outputs": [
    {
     "data": {
      "text/plain": [
       "[(3, 4, 5), (5, 12, 13), (6, 8, 10), (8, 15, 17), (9, 12, 15), (12, 16, 20)]"
      ]
     },
     "execution_count": 37,
     "metadata": {},
     "output_type": "execute_result"
    }
   ],
   "source": [
    "def generate_Pythgorean_triplets(limit):\n",
    "    \n",
    "    return [(a,b,c) for a in range (1, limit+1) for b in range(a, limit+1) \n",
    "            for c in range(b, limit+1) if a**2 + b**2 == c**2]\n",
    "generate_Pythgorean_triplets(20)"
   ]
  },
  {
   "cell_type": "markdown",
   "id": "c1525faf",
   "metadata": {},
   "source": [
    "#### 33. Develop a program that generates a list of all possible combinations of two lists using list comprehension."
   ]
  },
  {
   "cell_type": "code",
   "execution_count": 38,
   "id": "3d71fe75",
   "metadata": {},
   "outputs": [
    {
     "data": {
      "text/plain": [
       "[(1, 4), (1, 5), (1, 6), (2, 4), (2, 5), (2, 6), (3, 4), (3, 5), (3, 6)]"
      ]
     },
     "execution_count": 38,
     "metadata": {},
     "output_type": "execute_result"
    }
   ],
   "source": [
    "def generate_combinations_of_two_lists(list1, list2):\n",
    "    \n",
    "    return [(x,y) for x in list1 for y in list2]\n",
    "generate_combinations_of_two_lists([1,2,3], [4,5,6])"
   ]
  },
  {
   "cell_type": "markdown",
   "id": "844976c9",
   "metadata": {},
   "source": [
    "#### 34. Write a program that calculates the mean, median, and mode of a list of numbers using list comprehension."
   ]
  },
  {
   "cell_type": "code",
   "execution_count": 39,
   "id": "5e6e2dc6",
   "metadata": {},
   "outputs": [
    {
     "data": {
      "text/plain": [
       "[1.6, 2, 2]"
      ]
     },
     "execution_count": 39,
     "metadata": {},
     "output_type": "execute_result"
    }
   ],
   "source": [
    "from statistics import mode\n",
    "def mean_median_mode(lst):\n",
    "    \n",
    "    return [(sum(lst)/len(lst)), ((sorted(lst))[len(lst)//2]), mode(lst)]\n",
    "mean_median_mode([1,1,2,2,2])"
   ]
  },
  {
   "cell_type": "markdown",
   "id": "d290bc1f",
   "metadata": {},
   "source": [
    "#### 35. Create a program that generates Pascal's triangle up to a specified number of rows using list comprehension."
   ]
  },
  {
   "cell_type": "code",
   "execution_count": 41,
   "id": "7970b8b0",
   "metadata": {},
   "outputs": [
    {
     "name": "stdout",
     "output_type": "stream",
     "text": [
      "1\n",
      "1 1\n",
      "1 2 1\n",
      "1 3 3 1\n"
     ]
    }
   ],
   "source": [
    "\n",
    "def pascals_triangle(n):\n",
    "    triangle = [[1] * (i + 1) for i in range(n)]\n",
    "    for i in range(1,n):\n",
    "        for j in range(1, i):\n",
    "            triangle[i][j] = triangle[i - 1][j - 1] + triangle[i - 1][j]\n",
    "    for row in triangle:\n",
    "        print(\" \".join(str(num) for num in row))\n",
    "   \n",
    "\n",
    "n = int(input(\"Enter the number of rows: \"))\n",
    "pascals_triangle(n)\n"
   ]
  },
  {
   "cell_type": "markdown",
   "id": "83aee4a5",
   "metadata": {},
   "source": [
    "#### 36. Develop a program that calculates the sum of the digits of a factorial of numbers from 1 to 5 using list comprehension."
   ]
  },
  {
   "cell_type": "code",
   "execution_count": 42,
   "id": "1b30f4ad",
   "metadata": {},
   "outputs": [
    {
     "data": {
      "text/plain": [
       "[1, 2, 6, 6, 3]"
      ]
     },
     "execution_count": 42,
     "metadata": {},
     "output_type": "execute_result"
    }
   ],
   "source": [
    "import math\n",
    "def sum_of_digits_of_factorial():\n",
    "    \n",
    "    return [sum(int(digit) for digit in str(math.factorial(n))) for n in range(1, 6)]\n",
    "sum_of_digits_of_factorial()"
   ]
  },
  {
   "cell_type": "markdown",
   "id": "5dd74605",
   "metadata": {},
   "source": [
    "#### 37. Write a program that finds the longest word in a sentence using list comprehension."
   ]
  },
  {
   "cell_type": "code",
   "execution_count": 43,
   "id": "2b1ae99b",
   "metadata": {},
   "outputs": [
    {
     "data": {
      "text/plain": [
       "['There']"
      ]
     },
     "execution_count": 43,
     "metadata": {},
     "output_type": "execute_result"
    }
   ],
   "source": [
    "def find_longest_word(str):\n",
    "\n",
    "    return [max(str.split(\" \"), key = len)]\n",
    "find_longest_word(\"Hi There Data\")"
   ]
  },
  {
   "cell_type": "markdown",
   "id": "505948d8",
   "metadata": {},
   "source": [
    "#### 38. Create a program that filters a list of strings to include only those with more than three vowels using list comprehension."
   ]
  },
  {
   "cell_type": "code",
   "execution_count": 44,
   "id": "1195d1eb",
   "metadata": {},
   "outputs": [
    {
     "data": {
      "text/plain": [
       "['aaaab']"
      ]
     },
     "execution_count": 44,
     "metadata": {},
     "output_type": "execute_result"
    }
   ],
   "source": [
    "def count_vowels(str):\n",
    "    return sum(1 for char in str if char in 'aeiouAEIOU')\n",
    "def filter(lst):\n",
    "    return [str for str in lst if count_vowels(str) > 3]\n",
    "    \n",
    "filter([\"aab\", \"aaab\", \"aaaab\", \"bbba\"])"
   ]
  },
  {
   "cell_type": "markdown",
   "id": "036bf45e",
   "metadata": {},
   "source": [
    "#### 39. Develop a program that calculates the sum of the digits of numbers from 1 to 1000 using list comprehension."
   ]
  },
  {
   "cell_type": "code",
   "execution_count": 45,
   "id": "84906d44",
   "metadata": {},
   "outputs": [
    {
     "data": {
      "text/plain": [
       "[1,\n",
       " 2,\n",
       " 3,\n",
       " 4,\n",
       " 5,\n",
       " 6,\n",
       " 7,\n",
       " 8,\n",
       " 9,\n",
       " 1,\n",
       " 2,\n",
       " 3,\n",
       " 4,\n",
       " 5,\n",
       " 6,\n",
       " 7,\n",
       " 8,\n",
       " 9,\n",
       " 10,\n",
       " 2,\n",
       " 3,\n",
       " 4,\n",
       " 5,\n",
       " 6,\n",
       " 7,\n",
       " 8,\n",
       " 9,\n",
       " 10,\n",
       " 11,\n",
       " 3,\n",
       " 4,\n",
       " 5,\n",
       " 6,\n",
       " 7,\n",
       " 8,\n",
       " 9,\n",
       " 10,\n",
       " 11,\n",
       " 12,\n",
       " 4,\n",
       " 5,\n",
       " 6,\n",
       " 7,\n",
       " 8,\n",
       " 9,\n",
       " 10,\n",
       " 11,\n",
       " 12,\n",
       " 13,\n",
       " 5,\n",
       " 6,\n",
       " 7,\n",
       " 8,\n",
       " 9,\n",
       " 10,\n",
       " 11,\n",
       " 12,\n",
       " 13,\n",
       " 14,\n",
       " 6,\n",
       " 7,\n",
       " 8,\n",
       " 9,\n",
       " 10,\n",
       " 11,\n",
       " 12,\n",
       " 13,\n",
       " 14,\n",
       " 15,\n",
       " 7,\n",
       " 8,\n",
       " 9,\n",
       " 10,\n",
       " 11,\n",
       " 12,\n",
       " 13,\n",
       " 14,\n",
       " 15,\n",
       " 16,\n",
       " 8,\n",
       " 9,\n",
       " 10,\n",
       " 11,\n",
       " 12,\n",
       " 13,\n",
       " 14,\n",
       " 15,\n",
       " 16,\n",
       " 17,\n",
       " 9,\n",
       " 10,\n",
       " 11,\n",
       " 12,\n",
       " 13,\n",
       " 14,\n",
       " 15,\n",
       " 16,\n",
       " 17,\n",
       " 18,\n",
       " 1,\n",
       " 2,\n",
       " 3,\n",
       " 4,\n",
       " 5,\n",
       " 6,\n",
       " 7,\n",
       " 8,\n",
       " 9,\n",
       " 10,\n",
       " 2,\n",
       " 3,\n",
       " 4,\n",
       " 5,\n",
       " 6,\n",
       " 7,\n",
       " 8,\n",
       " 9,\n",
       " 10,\n",
       " 11,\n",
       " 3,\n",
       " 4,\n",
       " 5,\n",
       " 6,\n",
       " 7,\n",
       " 8,\n",
       " 9,\n",
       " 10,\n",
       " 11,\n",
       " 12,\n",
       " 4,\n",
       " 5,\n",
       " 6,\n",
       " 7,\n",
       " 8,\n",
       " 9,\n",
       " 10,\n",
       " 11,\n",
       " 12,\n",
       " 13,\n",
       " 5,\n",
       " 6,\n",
       " 7,\n",
       " 8,\n",
       " 9,\n",
       " 10,\n",
       " 11,\n",
       " 12,\n",
       " 13,\n",
       " 14,\n",
       " 6,\n",
       " 7,\n",
       " 8,\n",
       " 9,\n",
       " 10,\n",
       " 11,\n",
       " 12,\n",
       " 13,\n",
       " 14,\n",
       " 15,\n",
       " 7,\n",
       " 8,\n",
       " 9,\n",
       " 10,\n",
       " 11,\n",
       " 12,\n",
       " 13,\n",
       " 14,\n",
       " 15,\n",
       " 16,\n",
       " 8,\n",
       " 9,\n",
       " 10,\n",
       " 11,\n",
       " 12,\n",
       " 13,\n",
       " 14,\n",
       " 15,\n",
       " 16,\n",
       " 17,\n",
       " 9,\n",
       " 10,\n",
       " 11,\n",
       " 12,\n",
       " 13,\n",
       " 14,\n",
       " 15,\n",
       " 16,\n",
       " 17,\n",
       " 18,\n",
       " 10,\n",
       " 11,\n",
       " 12,\n",
       " 13,\n",
       " 14,\n",
       " 15,\n",
       " 16,\n",
       " 17,\n",
       " 18,\n",
       " 19,\n",
       " 2,\n",
       " 3,\n",
       " 4,\n",
       " 5,\n",
       " 6,\n",
       " 7,\n",
       " 8,\n",
       " 9,\n",
       " 10,\n",
       " 11,\n",
       " 3,\n",
       " 4,\n",
       " 5,\n",
       " 6,\n",
       " 7,\n",
       " 8,\n",
       " 9,\n",
       " 10,\n",
       " 11,\n",
       " 12,\n",
       " 4,\n",
       " 5,\n",
       " 6,\n",
       " 7,\n",
       " 8,\n",
       " 9,\n",
       " 10,\n",
       " 11,\n",
       " 12,\n",
       " 13,\n",
       " 5,\n",
       " 6,\n",
       " 7,\n",
       " 8,\n",
       " 9,\n",
       " 10,\n",
       " 11,\n",
       " 12,\n",
       " 13,\n",
       " 14,\n",
       " 6,\n",
       " 7,\n",
       " 8,\n",
       " 9,\n",
       " 10,\n",
       " 11,\n",
       " 12,\n",
       " 13,\n",
       " 14,\n",
       " 15,\n",
       " 7,\n",
       " 8,\n",
       " 9,\n",
       " 10,\n",
       " 11,\n",
       " 12,\n",
       " 13,\n",
       " 14,\n",
       " 15,\n",
       " 16,\n",
       " 8,\n",
       " 9,\n",
       " 10,\n",
       " 11,\n",
       " 12,\n",
       " 13,\n",
       " 14,\n",
       " 15,\n",
       " 16,\n",
       " 17,\n",
       " 9,\n",
       " 10,\n",
       " 11,\n",
       " 12,\n",
       " 13,\n",
       " 14,\n",
       " 15,\n",
       " 16,\n",
       " 17,\n",
       " 18,\n",
       " 10,\n",
       " 11,\n",
       " 12,\n",
       " 13,\n",
       " 14,\n",
       " 15,\n",
       " 16,\n",
       " 17,\n",
       " 18,\n",
       " 19,\n",
       " 11,\n",
       " 12,\n",
       " 13,\n",
       " 14,\n",
       " 15,\n",
       " 16,\n",
       " 17,\n",
       " 18,\n",
       " 19,\n",
       " 20,\n",
       " 3,\n",
       " 4,\n",
       " 5,\n",
       " 6,\n",
       " 7,\n",
       " 8,\n",
       " 9,\n",
       " 10,\n",
       " 11,\n",
       " 12,\n",
       " 4,\n",
       " 5,\n",
       " 6,\n",
       " 7,\n",
       " 8,\n",
       " 9,\n",
       " 10,\n",
       " 11,\n",
       " 12,\n",
       " 13,\n",
       " 5,\n",
       " 6,\n",
       " 7,\n",
       " 8,\n",
       " 9,\n",
       " 10,\n",
       " 11,\n",
       " 12,\n",
       " 13,\n",
       " 14,\n",
       " 6,\n",
       " 7,\n",
       " 8,\n",
       " 9,\n",
       " 10,\n",
       " 11,\n",
       " 12,\n",
       " 13,\n",
       " 14,\n",
       " 15,\n",
       " 7,\n",
       " 8,\n",
       " 9,\n",
       " 10,\n",
       " 11,\n",
       " 12,\n",
       " 13,\n",
       " 14,\n",
       " 15,\n",
       " 16,\n",
       " 8,\n",
       " 9,\n",
       " 10,\n",
       " 11,\n",
       " 12,\n",
       " 13,\n",
       " 14,\n",
       " 15,\n",
       " 16,\n",
       " 17,\n",
       " 9,\n",
       " 10,\n",
       " 11,\n",
       " 12,\n",
       " 13,\n",
       " 14,\n",
       " 15,\n",
       " 16,\n",
       " 17,\n",
       " 18,\n",
       " 10,\n",
       " 11,\n",
       " 12,\n",
       " 13,\n",
       " 14,\n",
       " 15,\n",
       " 16,\n",
       " 17,\n",
       " 18,\n",
       " 19,\n",
       " 11,\n",
       " 12,\n",
       " 13,\n",
       " 14,\n",
       " 15,\n",
       " 16,\n",
       " 17,\n",
       " 18,\n",
       " 19,\n",
       " 20,\n",
       " 12,\n",
       " 13,\n",
       " 14,\n",
       " 15,\n",
       " 16,\n",
       " 17,\n",
       " 18,\n",
       " 19,\n",
       " 20,\n",
       " 21,\n",
       " 4,\n",
       " 5,\n",
       " 6,\n",
       " 7,\n",
       " 8,\n",
       " 9,\n",
       " 10,\n",
       " 11,\n",
       " 12,\n",
       " 13,\n",
       " 5,\n",
       " 6,\n",
       " 7,\n",
       " 8,\n",
       " 9,\n",
       " 10,\n",
       " 11,\n",
       " 12,\n",
       " 13,\n",
       " 14,\n",
       " 6,\n",
       " 7,\n",
       " 8,\n",
       " 9,\n",
       " 10,\n",
       " 11,\n",
       " 12,\n",
       " 13,\n",
       " 14,\n",
       " 15,\n",
       " 7,\n",
       " 8,\n",
       " 9,\n",
       " 10,\n",
       " 11,\n",
       " 12,\n",
       " 13,\n",
       " 14,\n",
       " 15,\n",
       " 16,\n",
       " 8,\n",
       " 9,\n",
       " 10,\n",
       " 11,\n",
       " 12,\n",
       " 13,\n",
       " 14,\n",
       " 15,\n",
       " 16,\n",
       " 17,\n",
       " 9,\n",
       " 10,\n",
       " 11,\n",
       " 12,\n",
       " 13,\n",
       " 14,\n",
       " 15,\n",
       " 16,\n",
       " 17,\n",
       " 18,\n",
       " 10,\n",
       " 11,\n",
       " 12,\n",
       " 13,\n",
       " 14,\n",
       " 15,\n",
       " 16,\n",
       " 17,\n",
       " 18,\n",
       " 19,\n",
       " 11,\n",
       " 12,\n",
       " 13,\n",
       " 14,\n",
       " 15,\n",
       " 16,\n",
       " 17,\n",
       " 18,\n",
       " 19,\n",
       " 20,\n",
       " 12,\n",
       " 13,\n",
       " 14,\n",
       " 15,\n",
       " 16,\n",
       " 17,\n",
       " 18,\n",
       " 19,\n",
       " 20,\n",
       " 21,\n",
       " 13,\n",
       " 14,\n",
       " 15,\n",
       " 16,\n",
       " 17,\n",
       " 18,\n",
       " 19,\n",
       " 20,\n",
       " 21,\n",
       " 22,\n",
       " 5,\n",
       " 6,\n",
       " 7,\n",
       " 8,\n",
       " 9,\n",
       " 10,\n",
       " 11,\n",
       " 12,\n",
       " 13,\n",
       " 14,\n",
       " 6,\n",
       " 7,\n",
       " 8,\n",
       " 9,\n",
       " 10,\n",
       " 11,\n",
       " 12,\n",
       " 13,\n",
       " 14,\n",
       " 15,\n",
       " 7,\n",
       " 8,\n",
       " 9,\n",
       " 10,\n",
       " 11,\n",
       " 12,\n",
       " 13,\n",
       " 14,\n",
       " 15,\n",
       " 16,\n",
       " 8,\n",
       " 9,\n",
       " 10,\n",
       " 11,\n",
       " 12,\n",
       " 13,\n",
       " 14,\n",
       " 15,\n",
       " 16,\n",
       " 17,\n",
       " 9,\n",
       " 10,\n",
       " 11,\n",
       " 12,\n",
       " 13,\n",
       " 14,\n",
       " 15,\n",
       " 16,\n",
       " 17,\n",
       " 18,\n",
       " 10,\n",
       " 11,\n",
       " 12,\n",
       " 13,\n",
       " 14,\n",
       " 15,\n",
       " 16,\n",
       " 17,\n",
       " 18,\n",
       " 19,\n",
       " 11,\n",
       " 12,\n",
       " 13,\n",
       " 14,\n",
       " 15,\n",
       " 16,\n",
       " 17,\n",
       " 18,\n",
       " 19,\n",
       " 20,\n",
       " 12,\n",
       " 13,\n",
       " 14,\n",
       " 15,\n",
       " 16,\n",
       " 17,\n",
       " 18,\n",
       " 19,\n",
       " 20,\n",
       " 21,\n",
       " 13,\n",
       " 14,\n",
       " 15,\n",
       " 16,\n",
       " 17,\n",
       " 18,\n",
       " 19,\n",
       " 20,\n",
       " 21,\n",
       " 22,\n",
       " 14,\n",
       " 15,\n",
       " 16,\n",
       " 17,\n",
       " 18,\n",
       " 19,\n",
       " 20,\n",
       " 21,\n",
       " 22,\n",
       " 23,\n",
       " 6,\n",
       " 7,\n",
       " 8,\n",
       " 9,\n",
       " 10,\n",
       " 11,\n",
       " 12,\n",
       " 13,\n",
       " 14,\n",
       " 15,\n",
       " 7,\n",
       " 8,\n",
       " 9,\n",
       " 10,\n",
       " 11,\n",
       " 12,\n",
       " 13,\n",
       " 14,\n",
       " 15,\n",
       " 16,\n",
       " 8,\n",
       " 9,\n",
       " 10,\n",
       " 11,\n",
       " 12,\n",
       " 13,\n",
       " 14,\n",
       " 15,\n",
       " 16,\n",
       " 17,\n",
       " 9,\n",
       " 10,\n",
       " 11,\n",
       " 12,\n",
       " 13,\n",
       " 14,\n",
       " 15,\n",
       " 16,\n",
       " 17,\n",
       " 18,\n",
       " 10,\n",
       " 11,\n",
       " 12,\n",
       " 13,\n",
       " 14,\n",
       " 15,\n",
       " 16,\n",
       " 17,\n",
       " 18,\n",
       " 19,\n",
       " 11,\n",
       " 12,\n",
       " 13,\n",
       " 14,\n",
       " 15,\n",
       " 16,\n",
       " 17,\n",
       " 18,\n",
       " 19,\n",
       " 20,\n",
       " 12,\n",
       " 13,\n",
       " 14,\n",
       " 15,\n",
       " 16,\n",
       " 17,\n",
       " 18,\n",
       " 19,\n",
       " 20,\n",
       " 21,\n",
       " 13,\n",
       " 14,\n",
       " 15,\n",
       " 16,\n",
       " 17,\n",
       " 18,\n",
       " 19,\n",
       " 20,\n",
       " 21,\n",
       " 22,\n",
       " 14,\n",
       " 15,\n",
       " 16,\n",
       " 17,\n",
       " 18,\n",
       " 19,\n",
       " 20,\n",
       " 21,\n",
       " 22,\n",
       " 23,\n",
       " 15,\n",
       " 16,\n",
       " 17,\n",
       " 18,\n",
       " 19,\n",
       " 20,\n",
       " 21,\n",
       " 22,\n",
       " 23,\n",
       " 24,\n",
       " 7,\n",
       " 8,\n",
       " 9,\n",
       " 10,\n",
       " 11,\n",
       " 12,\n",
       " 13,\n",
       " 14,\n",
       " 15,\n",
       " 16,\n",
       " 8,\n",
       " 9,\n",
       " 10,\n",
       " 11,\n",
       " 12,\n",
       " 13,\n",
       " 14,\n",
       " 15,\n",
       " 16,\n",
       " 17,\n",
       " 9,\n",
       " 10,\n",
       " 11,\n",
       " 12,\n",
       " 13,\n",
       " 14,\n",
       " 15,\n",
       " 16,\n",
       " 17,\n",
       " 18,\n",
       " 10,\n",
       " 11,\n",
       " 12,\n",
       " 13,\n",
       " 14,\n",
       " 15,\n",
       " 16,\n",
       " 17,\n",
       " 18,\n",
       " 19,\n",
       " 11,\n",
       " 12,\n",
       " 13,\n",
       " 14,\n",
       " 15,\n",
       " 16,\n",
       " 17,\n",
       " 18,\n",
       " 19,\n",
       " 20,\n",
       " 12,\n",
       " 13,\n",
       " 14,\n",
       " 15,\n",
       " 16,\n",
       " 17,\n",
       " 18,\n",
       " 19,\n",
       " 20,\n",
       " 21,\n",
       " 13,\n",
       " 14,\n",
       " 15,\n",
       " 16,\n",
       " 17,\n",
       " 18,\n",
       " 19,\n",
       " 20,\n",
       " 21,\n",
       " 22,\n",
       " 14,\n",
       " 15,\n",
       " 16,\n",
       " 17,\n",
       " 18,\n",
       " 19,\n",
       " 20,\n",
       " 21,\n",
       " 22,\n",
       " 23,\n",
       " 15,\n",
       " 16,\n",
       " 17,\n",
       " 18,\n",
       " 19,\n",
       " 20,\n",
       " 21,\n",
       " 22,\n",
       " 23,\n",
       " 24,\n",
       " 16,\n",
       " 17,\n",
       " 18,\n",
       " 19,\n",
       " 20,\n",
       " 21,\n",
       " 22,\n",
       " 23,\n",
       " 24,\n",
       " 25,\n",
       " 8,\n",
       " 9,\n",
       " 10,\n",
       " 11,\n",
       " 12,\n",
       " 13,\n",
       " 14,\n",
       " 15,\n",
       " 16,\n",
       " 17,\n",
       " 9,\n",
       " 10,\n",
       " 11,\n",
       " 12,\n",
       " 13,\n",
       " 14,\n",
       " 15,\n",
       " 16,\n",
       " 17,\n",
       " 18,\n",
       " 10,\n",
       " 11,\n",
       " 12,\n",
       " 13,\n",
       " 14,\n",
       " 15,\n",
       " 16,\n",
       " 17,\n",
       " 18,\n",
       " 19,\n",
       " 11,\n",
       " 12,\n",
       " 13,\n",
       " 14,\n",
       " 15,\n",
       " 16,\n",
       " 17,\n",
       " 18,\n",
       " 19,\n",
       " 20,\n",
       " 12,\n",
       " 13,\n",
       " 14,\n",
       " 15,\n",
       " 16,\n",
       " 17,\n",
       " 18,\n",
       " 19,\n",
       " 20,\n",
       " 21,\n",
       " 13,\n",
       " 14,\n",
       " 15,\n",
       " 16,\n",
       " 17,\n",
       " 18,\n",
       " 19,\n",
       " 20,\n",
       " 21,\n",
       " 22,\n",
       " 14,\n",
       " 15,\n",
       " 16,\n",
       " 17,\n",
       " 18,\n",
       " 19,\n",
       " 20,\n",
       " 21,\n",
       " 22,\n",
       " 23,\n",
       " 15,\n",
       " 16,\n",
       " 17,\n",
       " 18,\n",
       " 19,\n",
       " 20,\n",
       " 21,\n",
       " 22,\n",
       " 23,\n",
       " 24,\n",
       " 16,\n",
       " 17,\n",
       " 18,\n",
       " 19,\n",
       " 20,\n",
       " 21,\n",
       " 22,\n",
       " 23,\n",
       " 24,\n",
       " 25,\n",
       " 17,\n",
       " 18,\n",
       " 19,\n",
       " 20,\n",
       " 21,\n",
       " 22,\n",
       " 23,\n",
       " 24,\n",
       " 25,\n",
       " 26,\n",
       " 9,\n",
       " 10,\n",
       " 11,\n",
       " 12,\n",
       " 13,\n",
       " 14,\n",
       " 15,\n",
       " 16,\n",
       " 17,\n",
       " 18,\n",
       " 10,\n",
       " 11,\n",
       " 12,\n",
       " 13,\n",
       " 14,\n",
       " 15,\n",
       " 16,\n",
       " 17,\n",
       " 18,\n",
       " 19,\n",
       " 11,\n",
       " 12,\n",
       " 13,\n",
       " 14,\n",
       " 15,\n",
       " 16,\n",
       " 17,\n",
       " 18,\n",
       " 19,\n",
       " 20,\n",
       " 12,\n",
       " 13,\n",
       " 14,\n",
       " 15,\n",
       " 16,\n",
       " 17,\n",
       " 18,\n",
       " 19,\n",
       " 20,\n",
       " 21,\n",
       " 13,\n",
       " 14,\n",
       " 15,\n",
       " 16,\n",
       " 17,\n",
       " 18,\n",
       " 19,\n",
       " 20,\n",
       " 21,\n",
       " 22,\n",
       " 14,\n",
       " 15,\n",
       " 16,\n",
       " 17,\n",
       " 18,\n",
       " 19,\n",
       " 20,\n",
       " 21,\n",
       " 22,\n",
       " 23,\n",
       " 15,\n",
       " 16,\n",
       " 17,\n",
       " 18,\n",
       " 19,\n",
       " 20,\n",
       " 21,\n",
       " 22,\n",
       " 23,\n",
       " 24,\n",
       " 16,\n",
       " 17,\n",
       " 18,\n",
       " 19,\n",
       " 20,\n",
       " 21,\n",
       " 22,\n",
       " 23,\n",
       " 24,\n",
       " 25,\n",
       " 17,\n",
       " 18,\n",
       " 19,\n",
       " 20,\n",
       " 21,\n",
       " 22,\n",
       " 23,\n",
       " 24,\n",
       " 25,\n",
       " 26,\n",
       " 18,\n",
       " 19,\n",
       " 20,\n",
       " 21,\n",
       " 22,\n",
       " 23,\n",
       " 24,\n",
       " 25,\n",
       " 26,\n",
       " 27,\n",
       " 1]"
      ]
     },
     "execution_count": 45,
     "metadata": {},
     "output_type": "execute_result"
    }
   ],
   "source": [
    "def sum_of_digits():\n",
    "    \n",
    "    return [sum(int(digit) for digit in str(num)) for num in range(1, 1001)]\n",
    "sum_of_digits()"
   ]
  },
  {
   "cell_type": "markdown",
   "id": "9f530ec3",
   "metadata": {},
   "source": [
    "#### 40. Write a program that generates a list of prime palindromic numbers using list comprehension."
   ]
  },
  {
   "cell_type": "code",
   "execution_count": 46,
   "id": "16a2d348",
   "metadata": {},
   "outputs": [
    {
     "data": {
      "text/plain": [
       "[0, 1, 2, 3, 4, 5, 6, 7, 8, 9, 11, 22, 33, 44, 55, 66, 77, 88, 99]"
      ]
     },
     "execution_count": 46,
     "metadata": {},
     "output_type": "execute_result"
    }
   ],
   "source": [
    "def generate_palindromes(n):\n",
    "    \n",
    "    return [i for i in range(n) if str(i)[::-1]== str(i)]\n",
    "generate_palindromes(100)"
   ]
  },
  {
   "cell_type": "code",
   "execution_count": null,
   "id": "1d22b79d",
   "metadata": {},
   "outputs": [],
   "source": []
  }
 ],
 "metadata": {
  "kernelspec": {
   "display_name": "Python 3",
   "language": "python",
   "name": "python3"
  },
  "language_info": {
   "codemirror_mode": {
    "name": "ipython",
    "version": 3
   },
   "file_extension": ".py",
   "mimetype": "text/x-python",
   "name": "python",
   "nbconvert_exporter": "python",
   "pygments_lexer": "ipython3",
   "version": "3.10.9"
  }
 },
 "nbformat": 4,
 "nbformat_minor": 5
}
