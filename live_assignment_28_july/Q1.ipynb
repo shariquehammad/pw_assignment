{
 "cells": [
  {
   "cell_type": "markdown",
   "metadata": {},
   "source": [
    "### Q1.3 \n",
    "-- name = ['Mohan', 'dash', 'karam', 'chandra', 'gandhi', 'bapu']\n",
    "* do the following operations in the list;"
   ]
  },
  {
   "cell_type": "markdown",
   "metadata": {},
   "source": [
    "#### a) add the element \"freedom fighter\" in the list at the 0th index."
   ]
  },
  {
   "cell_type": "code",
   "execution_count": 1,
   "metadata": {},
   "outputs": [
    {
     "data": {
      "text/plain": [
       "['Mohan', 'dash', 'karam', 'chandra', 'gandhi', 'bapu']"
      ]
     },
     "execution_count": 1,
     "metadata": {},
     "output_type": "execute_result"
    }
   ],
   "source": [
    "name = ['Mohan', 'dash', 'karam', 'chandra', 'gandhi', 'bapu']\n",
    "name"
   ]
  },
  {
   "cell_type": "code",
   "execution_count": 2,
   "metadata": {},
   "outputs": [
    {
     "data": {
      "text/plain": [
       "['freedom fighter', 'Mohan', 'dash', 'karam', 'chandra', 'gandhi', 'bapu']"
      ]
     },
     "execution_count": 2,
     "metadata": {},
     "output_type": "execute_result"
    }
   ],
   "source": [
    "name.insert(0, 'freedom fighter')\n",
    "name"
   ]
  },
  {
   "cell_type": "markdown",
   "metadata": {},
   "source": [
    "#### b) find the output of the following and explain how?"
   ]
  },
  {
   "cell_type": "code",
   "execution_count": 13,
   "metadata": {},
   "outputs": [
    {
     "name": "stdout",
     "output_type": "stream",
     "text": [
      "['freedomFighter', 'Bapuji', 'M0han', 'dashkaram', 'chandra', 'gandhi']\n"
     ]
    },
    {
     "data": {
      "text/plain": [
       "6"
      ]
     },
     "execution_count": 13,
     "metadata": {},
     "output_type": "execute_result"
    }
   ],
   "source": [
    "name = ['freedomFighter', 'Bapuji', 'M0han', 'dash' 'karam', 'chandra', 'gandhi']\n",
    "print(name)\n",
    "len(name)"
   ]
  },
  {
   "cell_type": "code",
   "execution_count": 14,
   "metadata": {},
   "outputs": [
    {
     "data": {
      "text/plain": [
       "2"
      ]
     },
     "execution_count": 14,
     "metadata": {},
     "output_type": "execute_result"
    }
   ],
   "source": [
    "length1 = len((name[-len(name)+1:-1:2]))\n",
    "length1\n",
    "#-> -len(name)+1 = 5--->> name[-5:-1:2]--> slice the list from \n",
    "# -5 element to last element with step size 2\n"
   ]
  },
  {
   "cell_type": "code",
   "execution_count": 16,
   "metadata": {},
   "outputs": [
    {
     "data": {
      "text/plain": [
       "4"
      ]
     },
     "execution_count": 16,
     "metadata": {},
     "output_type": "execute_result"
    }
   ],
   "source": [
    "length2 = len((name[-len(name)+1:-1]))\n",
    "length2\n",
    "#-> -len(name)+1 = 5--->> name[-5:-1:2]--> slice the list from \n",
    "# -5 element to last element"
   ]
  },
  {
   "cell_type": "code",
   "execution_count": 18,
   "metadata": {},
   "outputs": [
    {
     "name": "stdout",
     "output_type": "stream",
     "text": [
      "6\n"
     ]
    }
   ],
   "source": [
    "name = ['freedomFighter', 'Bapuji', 'M0han', 'dash' 'karam', 'chandra', 'gandhi']\n",
    "length1 = len((name[-len(name)+1:-1:2]))\n",
    "length2 = len((name[-len(name)+1:-1]))\n",
    "print(length1+ length2)"
   ]
  },
  {
   "cell_type": "markdown",
   "metadata": {},
   "source": [
    "#### c) add two more names [\"Netaji\", \"Bose\"] at the end"
   ]
  },
  {
   "cell_type": "code",
   "execution_count": 19,
   "metadata": {},
   "outputs": [
    {
     "name": "stdout",
     "output_type": "stream",
     "text": [
      "list: ['freedomFighter', 'Bapuji', 'M0han', 'dashkaram', 'chandra', 'gandhi']\n",
      "updated list: ['freedomFighter', 'Bapuji', 'M0han', 'dashkaram', 'chandra', 'gandhi', 'Netaji', 'Bose']\n"
     ]
    }
   ],
   "source": [
    "name = ['freedomFighter', 'Bapuji', 'M0han', 'dash' 'karam', 'chandra', 'gandhi']\n",
    "print(\"list:\", name)\n",
    "name = name + ['Netaji'] + ['Bose']\n",
    "print('updated list:', name)"
   ]
  },
  {
   "cell_type": "markdown",
   "metadata": {},
   "source": [
    "#### d) what will be the value of temp:\n",
    "* name = ['Bapuji', 'dash', 'karam', 'chandra', 'gandi', 'Mohan']\n",
    "* temp = name[-1]\n",
    "* name[-1] = name[0]\n",
    "* name[0] = temp\n",
    "* print(name)"
   ]
  },
  {
   "cell_type": "code",
   "execution_count": 20,
   "metadata": {},
   "outputs": [
    {
     "name": "stdout",
     "output_type": "stream",
     "text": [
      "['Mohan', 'dash', 'karam', 'chandra', 'gandi', 'Bapuji']\n"
     ]
    }
   ],
   "source": [
    "name = ['Bapuji', 'dash', 'karam', 'chandra', 'gandi', 'Mohan']\n",
    "temp = name[-1]\n",
    "name[-1] = name[0]\n",
    "name[0] = temp\n",
    "print(name)"
   ]
  },
  {
   "cell_type": "code",
   "execution_count": 21,
   "metadata": {},
   "outputs": [
    {
     "data": {
      "text/plain": [
       "'Mohan'"
      ]
     },
     "execution_count": 21,
     "metadata": {},
     "output_type": "execute_result"
    }
   ],
   "source": [
    "temp"
   ]
  },
  {
   "cell_type": "markdown",
   "metadata": {},
   "source": [
    "### Q 1.4.Find the output of the following.\n",
    "* animal = ['Human','cat', 'mat','cat','rat', 'Human', 'Lion']\n",
    "* print(animal.count('Human'))\n",
    "* print(animal.index('rat'))\n",
    "* print(len(animal))"
   ]
  },
  {
   "cell_type": "code",
   "execution_count": 22,
   "metadata": {},
   "outputs": [
    {
     "name": "stdout",
     "output_type": "stream",
     "text": [
      "2\n",
      "4\n",
      "7\n"
     ]
    }
   ],
   "source": [
    "animal = ['Human','cat', 'mat','cat','rat', 'Human', 'Lion']\n",
    "print(animal.count('Human'))\n",
    "print(animal.index('rat'))\n",
    "print(len(animal))"
   ]
  },
  {
   "cell_type": "markdown",
   "metadata": {},
   "source": [
    "### Q1.5 \n",
    "* tuple1 = (10, 20, \"Apple\", 3.4, 'd', [\"master\", \"jj\"], (\"sita\", \"geeta\", 22), [{\"roll_no\":1}], {\"name\":\"Navneet\"})\n",
    "\n",
    "* a) print(len(tuple1))\n",
    "* b) print(tuple1[-1][-1]['name'])\n",
    "* c) To fetch the value of roll_no from this tuple:\n",
    "* d) print(tuple1[-3][1])\n",
    "* e) To fetch the element \"22\" from this tuple:"
   ]
  },
  {
   "cell_type": "code",
   "execution_count": 23,
   "metadata": {},
   "outputs": [
    {
     "data": {
      "text/plain": [
       "(10,\n",
       " 20,\n",
       " 'Apple',\n",
       " 3.4,\n",
       " 'd',\n",
       " ['master', 'jj'],\n",
       " ('sita', 'geeta', 22),\n",
       " [{'roll_no': 1}],\n",
       " {'name': 'Navneet'})"
      ]
     },
     "execution_count": 23,
     "metadata": {},
     "output_type": "execute_result"
    }
   ],
   "source": [
    "tuple1 = (10, 20, \"Apple\", 3.4, 'd', [\"master\", \"jj\"], (\"sita\", \"geeta\", 22), [{\"roll_no\":1}], {\"name\":\"Navneet\"})\n",
    "tuple1"
   ]
  },
  {
   "cell_type": "code",
   "execution_count": 30,
   "metadata": {},
   "outputs": [
    {
     "name": "stdout",
     "output_type": "stream",
     "text": [
      "a) len of tuple 1:  9\n",
      "b) : Navneet\n",
      "c) roll No:  1\n",
      "d) :  geeta\n",
      "e) fetch element 22:  22\n"
     ]
    }
   ],
   "source": [
    "print(\"a) len of tuple 1: \", len(tuple1))\n",
    "print(\"b) :\", tuple1[-1][\"name\"])\n",
    "print(\"c) roll No: \", tuple1[-2][0][\"roll_no\"])\n",
    "print(\"d) : \", tuple1[-3][1])\n",
    "print(\"e) fetch element 22: \", tuple1[-3][-1])"
   ]
  },
  {
   "cell_type": "markdown",
   "metadata": {},
   "source": [
    "### Q1.6. Write a program to display the appropriate message as per the color of signal (RED-Stop/Yellow-Stay/Green-Go) at the road crossing."
   ]
  },
  {
   "cell_type": "code",
   "execution_count": 44,
   "metadata": {},
   "outputs": [
    {
     "name": "stdout",
     "output_type": "stream",
     "text": [
      "Stop\n"
     ]
    }
   ],
   "source": [
    "def traffic(light: str):\n",
    "    light = light.upper()\n",
    "    if light=='RED':\n",
    "        print('Stop')\n",
    "    elif light=='YELLOW':\n",
    "        print('Stay')\n",
    "    elif light=='GREEN':\n",
    "        print('Go')\n",
    "    else:\n",
    "        print('Wrong color')\n",
    "        \n",
    "light = str(input())\n",
    "\n",
    "traffic(light)      \n"
   ]
  },
  {
   "cell_type": "markdown",
   "metadata": {},
   "source": [
    "### Q1.7 Write a program to create a simple calculator performing only four basic operations(+,-,/*)"
   ]
  },
  {
   "cell_type": "code",
   "execution_count": 46,
   "metadata": {},
   "outputs": [
    {
     "name": "stdout",
     "output_type": "stream",
     "text": [
      "a:  134.0\n",
      "b:  4.0\n",
      "result:  33.5\n"
     ]
    }
   ],
   "source": [
    "def calculator(a, b, sign):\n",
    "    if sign == '+':\n",
    "        return a+b\n",
    "    \n",
    "    elif sign == '-':\n",
    "        return a-b\n",
    "    elif sign == '/':\n",
    "        return a/b\n",
    "    \n",
    "    elif sign == a*b:\n",
    "        return a*b\n",
    "    \n",
    "    else:\n",
    "        return \"Operation not supported\"\n",
    "    \n",
    "    \n",
    "a = float(input(\"Enter First number: \"))\n",
    "b = float(input(\"Enter Second number: \"))\n",
    "sign = str(input(\"Enter the sign +, -, *, /\"))\n",
    "\n",
    "result = calculator(a,b,sign)\n",
    "print(\"a: \", a)\n",
    "print(\"b: \", b)\n",
    "print(\"result: \", result)\n"
   ]
  },
  {
   "cell_type": "markdown",
   "metadata": {},
   "source": [
    "### Q1.8 Write a program to find the larger of the three pre-specified numbers using ternary operators."
   ]
  },
  {
   "cell_type": "code",
   "execution_count": 47,
   "metadata": {},
   "outputs": [
    {
     "data": {
      "text/plain": [
       "15"
      ]
     },
     "execution_count": 47,
     "metadata": {},
     "output_type": "execute_result"
    }
   ],
   "source": [
    "def find_largest(a,b,c):\n",
    "    largest = a if (a>b and a>c) else (b if b>c else c)\n",
    "    return largest\n",
    "\n",
    "a = 10\n",
    "b = 15\n",
    "c = 7\n",
    "largest = find_largest(a,b,c)\n",
    "largest"
   ]
  },
  {
   "cell_type": "markdown",
   "metadata": {},
   "source": [
    "### 1.9. Write a program to find the factors of a whole number using a while loop."
   ]
  },
  {
   "cell_type": "code",
   "execution_count": 49,
   "metadata": {},
   "outputs": [
    {
     "name": "stdout",
     "output_type": "stream",
     "text": [
      "The factors of 28 are: [1, 2, 4, 7, 14, 28]\n"
     ]
    }
   ],
   "source": [
    "def find_factors(n):\n",
    "    i = 1\n",
    "    factors = []\n",
    "    while i <= n:\n",
    "        if n % i == 0:\n",
    "            factors.append(i)\n",
    "        i += 1\n",
    "    return factors\n",
    "\n",
    "number = 28\n",
    "factors = find_factors(number)\n",
    "print(f\"The factors of {number} are: {factors}\")\n"
   ]
  },
  {
   "cell_type": "markdown",
   "metadata": {},
   "source": [
    "### Q1.10. Write a program to find the sum of all the positive numbers entered by the user. As soon as the user enters a negative number, stop taking in any further input from the user and display the sum."
   ]
  },
  {
   "cell_type": "code",
   "execution_count": 51,
   "metadata": {},
   "outputs": [
    {
     "name": "stdout",
     "output_type": "stream",
     "text": [
      "The sum of all positive numbers entered is: 65.0\n"
     ]
    }
   ],
   "source": [
    "def sum_positive_num():\n",
    "    total_sum = 0\n",
    "\n",
    "    while True:\n",
    "        try:\n",
    "            number = float(input(\"Enter a num (-ive number to stop): \"))\n",
    "            if number < 0:\n",
    "                break\n",
    "            total_sum += number\n",
    "        except ValueError:\n",
    "            print(\"Please enter a valid number.\")\n",
    "\n",
    "    return total_sum\n",
    "\n",
    "\n",
    "result = sum_positive_num()\n",
    "print(f\"The sum of all positive numbers entered is: {result}\")"
   ]
  },
  {
   "cell_type": "markdown",
   "metadata": {},
   "source": [
    "### Q1.11. Write a program to find prime numbers between 2 to 100 using nested for loops."
   ]
  },
  {
   "cell_type": "code",
   "execution_count": 53,
   "metadata": {},
   "outputs": [
    {
     "name": "stdout",
     "output_type": "stream",
     "text": [
      "Prime numbers between 2 and 100 are: [2, 3, 5, 7, 11, 13, 17, 19, 23, 29, 31, 37, 41, 43, 47, 53, 59, 61, 67, 71, 73, 79, 83, 89, 97]\n"
     ]
    }
   ],
   "source": [
    "def find_prime_numbers(start, end):\n",
    "    primes = []\n",
    "    \n",
    "    for num in range(start, end + 1):\n",
    "        if num > 1:  # Check if the number is greater than 1\n",
    "            is_prime = True\n",
    "            for i in range(2, int(num ** 0.5) + 1):  # Check for factors\n",
    "                if num % i == 0:\n",
    "                    is_prime = False\n",
    "                    break\n",
    "            if is_prime:\n",
    "                primes.append(num)\n",
    "    \n",
    "    return primes\n",
    "\n",
    "\n",
    "s = 2\n",
    "e = 100\n",
    "\n",
    "prime_num = find_prime_numbers(s, e)\n",
    "print(f\"Prime numbers between {s} and {e} are: {prime_num}\")"
   ]
  },
  {
   "cell_type": "markdown",
   "metadata": {},
   "source": [
    "### Q 1.12 Write the programs for the following:"
   ]
  },
  {
   "cell_type": "code",
   "execution_count": 1,
   "metadata": {},
   "outputs": [
    {
     "name": "stdout",
     "output_type": "stream",
     "text": [
      "Total Marks: 330.0\n",
      "Percentage: 66.0%\n",
      "Grade: C\n"
     ]
    }
   ],
   "source": [
    "# Function to calculate grade based on percentage\n",
    "def calculate_grade(percentage):\n",
    "    if percentage > 85:\n",
    "        return 'A'\n",
    "    elif 75 <= percentage <= 85:\n",
    "        return 'B'\n",
    "    elif 50 <= percentage < 75:\n",
    "        return 'C'\n",
    "    elif 30 <= percentage < 50:\n",
    "        return 'D'\n",
    "    else:\n",
    "        return 'Reappear'\n",
    "\n",
    "# Accept marks for five subjects\n",
    "marks = []\n",
    "total_marks = 0\n",
    "for i in range(5):\n",
    "    mark = float(input(f\"Enter marks for subject {i+1}: \"))\n",
    "\n",
    "    total_marks += mark\n",
    "\n",
    "percentage = total_marks / 5\n",
    "\n",
    "# Determine grade\n",
    "grade = calculate_grade(percentage)\n",
    "\n",
    "# Display results\n",
    "print(f\"Total Marks: {total_marks}\")\n",
    "print(f\"Percentage: {percentage}%\")\n",
    "print(f\"Grade: {grade}\")"
   ]
  },
  {
   "cell_type": "markdown",
   "metadata": {},
   "source": [
    "### Q1.13 Write a program for VIBGYOR spectrum based on their wavelength using Wavelength range."
   ]
  },
  {
   "cell_type": "code",
   "execution_count": 2,
   "metadata": {},
   "outputs": [
    {
     "name": "stdout",
     "output_type": "stream",
     "text": [
      "Wavelength out of visible spectrum range.\n"
     ]
    }
   ],
   "source": [
    "# Take wavelength as input from user\n",
    "wavelength = float(input(\"Enter the wavelength in nanometers: \"))\n",
    "\n",
    "# Determine the color based on wavelength using if else statements\n",
    "if 400 <= wavelength <= 440:\n",
    "    print(\"The color is Violet.\")\n",
    "elif 440 < wavelength <= 460:\n",
    "    print(\"The color is Indigo.\")\n",
    "elif 460 < wavelength <= 500:\n",
    "    print(\"The color is Blue.\")\n",
    "elif 500 < wavelength <= 570:\n",
    "    print(\"The color is Green.\")\n",
    "elif 570 < wavelength <= 590:\n",
    "    print(\"The color is Yellow.\")\n",
    "elif 590 < wavelength <= 620:\n",
    "    print(\"The color is Orange.\")\n",
    "elif 620 < wavelength <= 720:\n",
    "    print(\"The color is Red.\")\n",
    "else:\n",
    "    print(\"Wavelength out of visible spectrum range.\")"
   ]
  },
  {
   "cell_type": "code",
   "execution_count": null,
   "metadata": {},
   "outputs": [],
   "source": []
  }
 ],
 "metadata": {
  "kernelspec": {
   "display_name": "Python 3",
   "language": "python",
   "name": "python3"
  },
  "language_info": {
   "codemirror_mode": {
    "name": "ipython",
    "version": 3
   },
   "file_extension": ".py",
   "mimetype": "text/x-python",
   "name": "python",
   "nbconvert_exporter": "python",
   "pygments_lexer": "ipython3",
   "version": "3.10.9"
  }
 },
 "nbformat": 4,
 "nbformat_minor": 2
}
