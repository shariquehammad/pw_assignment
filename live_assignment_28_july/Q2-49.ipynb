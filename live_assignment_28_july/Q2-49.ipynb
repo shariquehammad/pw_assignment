{
 "cells": [
  {
   "cell_type": "markdown",
   "id": "72a09ce3",
   "metadata": {},
   "source": [
    "### Q2 Design and implement a Python program for managing student information using object-oriented principles. Create a class called 'Student with encapsulated attributes for name, age, and roll number.Implement getter and setter methods for these attributes. Additionally, provide methods to display student information and update student details.\n",
    "\n",
    "* Tasks\n",
    "    * • Define the 'Student' class with encapsulated attributes.\n",
    "    * • Implement getter and setter methods for the attributes.\n",
    "    * • Write methods to display student information and update details.\n",
    "    * • Create instances of the 'Student class and test the implemented functionality."
   ]
  },
  {
   "cell_type": "code",
   "execution_count": 1,
   "id": "d028fbfe",
   "metadata": {},
   "outputs": [],
   "source": [
    "class Student:\n",
    "    \n",
    "    def __init__(self, name: str, age: int, roll_no):\n",
    "        self.__name = name\n",
    "        self.__age = age\n",
    "        self.__roll_no =roll_no\n",
    "        \n",
    "    def get_name(self):\n",
    "        return self.__name \n",
    "    \n",
    "    def set_name(self, name):\n",
    "        self__name = name\n",
    "    \n",
    "    def get_age(self):\n",
    "        return self.__age \n",
    "    \n",
    "    def set_age(self, age):\n",
    "        self.__age = age\n",
    "    \n",
    "    def get_roll_no(self):\n",
    "        return self.__roll_no\n",
    "    \n",
    "    def set_roll_no(self, roll_no):\n",
    "        self.__roll_no = roll_no\n",
    "        \n",
    "    def display_student_info(self):\n",
    "        print(f\"Name: {self.__name}\")\n",
    "        print(f\"Age: {self.__age}\")\n",
    "        print(f\"Roll No: {self.__roll_no}\")\n",
    "        \n",
    "    def update_student_details(self, name=None, age=None, roll_no=None):\n",
    "        if name is not None:\n",
    "            self.__name = name\n",
    "        if age is not None:\n",
    "            self.__age = age\n",
    "        if roll_no is not None:\n",
    "            self.__roll_number = roll_no"
   ]
  },
  {
   "cell_type": "code",
   "execution_count": 2,
   "id": "e38e2c32",
   "metadata": {},
   "outputs": [],
   "source": [
    "stu1 = Student(\"Areej\", 19, \"19BCS009\")\n",
    "stu2 = Student(\"Ahmad\", 20, \"20BEC010\")"
   ]
  },
  {
   "cell_type": "code",
   "execution_count": 3,
   "id": "65e8527a",
   "metadata": {},
   "outputs": [
    {
     "name": "stdout",
     "output_type": "stream",
     "text": [
      "Initial Student Information:\n",
      "Name: Areej\n",
      "Age: 19\n",
      "Roll No: 19BCS009\n",
      "----------------------------------------------\n",
      "Name: Ahmad\n",
      "Age: 20\n",
      "Roll No: 20BEC010\n"
     ]
    }
   ],
   "source": [
    "print(\"Initial Student Information:\")\n",
    "stu1.display_student_info()\n",
    "print(\"----------------------------------------------\")\n",
    "stu2.display_student_info()"
   ]
  },
  {
   "cell_type": "code",
   "execution_count": 4,
   "id": "dc927810",
   "metadata": {},
   "outputs": [],
   "source": [
    "stu1.set_name(\"kenobi\")\n",
    "stu1.set_age(34)\n",
    "stu1.set_roll_no(\"222BCE\")"
   ]
  },
  {
   "cell_type": "code",
   "execution_count": 5,
   "id": "f13f882b",
   "metadata": {},
   "outputs": [],
   "source": [
    "stu2.update_student_details(name=\"Anakin\", age=23)"
   ]
  },
  {
   "cell_type": "code",
   "execution_count": 6,
   "id": "eff84f08",
   "metadata": {},
   "outputs": [
    {
     "name": "stdout",
     "output_type": "stream",
     "text": [
      "\n",
      "Updated Student Information:\n",
      "Name: Areej\n",
      "Age: 34\n",
      "Roll No: 222BCE\n",
      "----------------------------------------------\n",
      "Name: Anakin\n",
      "Age: 23\n",
      "Roll No: 20BEC010\n"
     ]
    }
   ],
   "source": [
    "print(\"\\nUpdated Student Information:\")\n",
    "stu1.display_student_info()\n",
    "print(\"----------------------------------------------\")\n",
    "stu2.display_student_info()"
   ]
  },
  {
   "cell_type": "markdown",
   "id": "e543b04d",
   "metadata": {},
   "source": [
    "### Q3.Develop a Python program for managing library resources efficiently. Design a class named 'Library Book with attributes like book name, author, and availability status. Implement methods for borrowing and returning books while ensuring proper encapsulation of attributes.\n",
    "* Tasks:\n",
    "    * • 1. Create the LibraryBook class with encapsulated attributes.\n",
    "    * • 2. Implement methods for borrowing and returning books.\n",
    "    * • 3. Ensure proper encapsulation to protect book details.\n",
    "    * • 4. Test the borrowing and returning functionality with sample data."
   ]
  },
  {
   "cell_type": "code",
   "execution_count": 7,
   "id": "9c9ffac1",
   "metadata": {},
   "outputs": [],
   "source": [
    "class Library:\n",
    "    def __init__(self, book_name: str, author: str, status: bool = True):\n",
    "        self.__bookname = book_name\n",
    "        self.__author = author\n",
    "        self.__availability  = status\n",
    "        \n",
    "    def get_book_name(self):\n",
    "        return self.__bookname\n",
    "    \n",
    "    def get_book_author(self):\n",
    "        return self.__author\n",
    "    \n",
    "    def is_available(self):\n",
    "        return self.__availability\n",
    "    \n",
    "    def borrow_book(self):\n",
    "        if self.__availability:\n",
    "            self.__availability = False\n",
    "            print(f\"You have successfully borrowed '{self.__bookname}' by {self.__author}.\")\n",
    "            \n",
    "        else:\n",
    "            print(f\"Sorry, '{self.__bookname}' by {self.__author} is currently unavailable.\")\n",
    "            \n",
    "    def return_book(self):\n",
    "        if not self.__availability:\n",
    "            self.__availability = True\n",
    "            print(f\"You have successfully returned '{self.__bookname}' by {self.__author}.\")\n",
    "        else:\n",
    "            print(f\"'{self.__bookname}' by {self.__author} was not borrowed.\")\n",
    "            \n",
    "    def display_book_info(self):\n",
    "        availability_status = \"Available\" if self.__availability else \"Not Avilable\"\n",
    "        print(f\"Book name: {self.__bookname}\")\n",
    "        print(f'Author: {self.__author}')\n",
    "        print(f\"Availability: {availability_status}\")      "
   ]
  },
  {
   "cell_type": "code",
   "execution_count": 8,
   "id": "94371252",
   "metadata": {},
   "outputs": [],
   "source": [
    "book1 = Library(\"LOTR: ROFTK\", \"J.R.R Tolkien\")\n",
    "book2 = Library(\"Harry Potter: Order of Phoniex\", \"J.K Rowling\")"
   ]
  },
  {
   "cell_type": "code",
   "execution_count": 9,
   "id": "2cc7e400",
   "metadata": {},
   "outputs": [
    {
     "name": "stdout",
     "output_type": "stream",
     "text": [
      "Initial Book Information:\n",
      "----------------***********--------------------\n",
      "Book name: LOTR: ROFTK\n",
      "Author: J.R.R Tolkien\n",
      "Availability: Available\n",
      "-------------------------------------------\n",
      "Book name: Harry Potter: Order of Phoniex\n",
      "Author: J.K Rowling\n",
      "Availability: Available\n"
     ]
    }
   ],
   "source": [
    "print(\"Initial Book Information:\")\n",
    "print(\"----------------***********--------------------\")\n",
    "\n",
    "book1.display_book_info()\n",
    "print(\"-------------------------------------------\")\n",
    "book2.display_book_info()"
   ]
  },
  {
   "cell_type": "code",
   "execution_count": 10,
   "id": "11d54424",
   "metadata": {},
   "outputs": [
    {
     "name": "stdout",
     "output_type": "stream",
     "text": [
      "\n",
      "Borrowing Books:\n",
      "----------------***********--------------------\n",
      "You have successfully borrowed 'LOTR: ROFTK' by J.R.R Tolkien.\n",
      "----------------------------------------\n",
      "You have successfully borrowed 'Harry Potter: Order of Phoniex' by J.K Rowling.\n"
     ]
    }
   ],
   "source": [
    "print(\"\\nBorrowing Books:\")\n",
    "print(\"----------------***********--------------------\")\n",
    "\n",
    "book1.borrow_book()\n",
    "print(\"----------------------------------------\")\n",
    "book2.borrow_book()"
   ]
  },
  {
   "cell_type": "code",
   "execution_count": 11,
   "id": "55ae362b",
   "metadata": {},
   "outputs": [
    {
     "name": "stdout",
     "output_type": "stream",
     "text": [
      "Sorry, 'LOTR: ROFTK' by J.R.R Tolkien is currently unavailable.\n"
     ]
    }
   ],
   "source": [
    "book1.borrow_book()"
   ]
  },
  {
   "cell_type": "code",
   "execution_count": 12,
   "id": "7ee203c2",
   "metadata": {},
   "outputs": [
    {
     "name": "stdout",
     "output_type": "stream",
     "text": [
      "\n",
      "Updated Book Information:\n",
      "----------------***********--------------------\n",
      "Book name: LOTR: ROFTK\n",
      "Author: J.R.R Tolkien\n",
      "Availability: Not Avilable\n",
      "-------------------------------------------\n",
      "Book name: Harry Potter: Order of Phoniex\n",
      "Author: J.K Rowling\n",
      "Availability: Not Avilable\n"
     ]
    }
   ],
   "source": [
    "print(\"\\nUpdated Book Information:\")\n",
    "print(\"----------------***********--------------------\")\n",
    "book1.display_book_info()\n",
    "print(\"-------------------------------------------\")\n",
    "book2.display_book_info()"
   ]
  },
  {
   "cell_type": "code",
   "execution_count": 13,
   "id": "665d4d9d",
   "metadata": {},
   "outputs": [
    {
     "name": "stdout",
     "output_type": "stream",
     "text": [
      "\n",
      "Returning Books:\n",
      "----------------***********--------------------\n",
      "You have successfully returned 'LOTR: ROFTK' by J.R.R Tolkien.\n",
      "You have successfully returned 'Harry Potter: Order of Phoniex' by J.K Rowling.\n"
     ]
    }
   ],
   "source": [
    "print(\"\\nReturning Books:\")\n",
    "print(\"----------------***********--------------------\")\n",
    "book1.return_book()\n",
    "book2.return_book()"
   ]
  },
  {
   "cell_type": "code",
   "execution_count": 14,
   "id": "fd11b657",
   "metadata": {},
   "outputs": [
    {
     "name": "stdout",
     "output_type": "stream",
     "text": [
      "'LOTR: ROFTK' by J.R.R Tolkien was not borrowed.\n"
     ]
    }
   ],
   "source": [
    "book1.return_book()"
   ]
  },
  {
   "cell_type": "code",
   "execution_count": 15,
   "id": "69e3ec38",
   "metadata": {},
   "outputs": [
    {
     "name": "stdout",
     "output_type": "stream",
     "text": [
      "\n",
      "Final Book Information:\n",
      "----------------***********--------------------\n",
      "Book name: LOTR: ROFTK\n",
      "Author: J.R.R Tolkien\n",
      "Availability: Available\n",
      "-------------------------------------------\n",
      "Book name: Harry Potter: Order of Phoniex\n",
      "Author: J.K Rowling\n",
      "Availability: Available\n"
     ]
    }
   ],
   "source": [
    "print(\"\\nFinal Book Information:\")\n",
    "print(\"----------------***********--------------------\")\n",
    "\n",
    "book1.display_book_info()\n",
    "print(\"-------------------------------------------\")\n",
    "book2.display_book_info()"
   ]
  },
  {
   "cell_type": "markdown",
   "id": "de7ddacf",
   "metadata": {},
   "source": [
    "### Q4.Create a simple banking system using object-oriented concepts in Python. Design classes representing different types of bank accounts such as savings and checking. Implement methods for deposit, withdraw, and balance inquiry. Utilize inheritance to manage different account types efficiently.\n",
    "\n",
    "* Tasks:\n",
    "    * • 1. Define base class(es) for bank accounts with common attributes and methods.\n",
    "    * • 2. Implement subclasses for specific account types (e.g., SavingsAccount,   CheckingAccount).\n",
    "    * • 3. Provide methods for deposit, withdraw, and balance inquiry in each subclass.\n",
    "    * • 4. Test the banking system by creating instances of different account types and performing transactions."
   ]
  },
  {
   "cell_type": "code",
   "execution_count": 16,
   "id": "f9ac74fc",
   "metadata": {},
   "outputs": [],
   "source": [
    "class BankAccount:\n",
    "    def __init__(self, account_number: str, account_holder: str, balance: float = 0.0):\n",
    "        self.__account_number = account_number\n",
    "        self.__account_holder = account_holder\n",
    "        self.__balance = balance\n",
    "\n",
    "    def deposit(self, amount: float):\n",
    "        if amount > 0:\n",
    "            self.__balance += amount\n",
    "            print(f\"Deposited Rs.{amount:.2f}. New balance: Rs.{self.__balance:.2f}.\")\n",
    "        else:\n",
    "            print(\"Deposit amount must be positive.\")\n",
    "\n",
    "    def withdraw(self, amount: float):\n",
    "        if 0 < amount <= self.__balance:\n",
    "            self.__balance -= amount\n",
    "            print(f\"Withdrew Rs.{amount:.2f}. New balance: Rs.{self.__balance:.2f}.\")\n",
    "        else:\n",
    "            print(\"Insufficient balance or invalid amount.\")\n",
    "\n",
    "    def inquire_balance(self):\n",
    "        return self.__balance\n",
    "\n",
    "    def display_account_info(self):\n",
    "        print(f\"Account Number: {self.__account_number}\")\n",
    "        print(f\"Account Holder: {self.__account_holder}\")\n",
    "        print(f\"Balance: Rs.{self.__balance:.2f}\")"
   ]
  },
  {
   "cell_type": "code",
   "execution_count": 17,
   "id": "4a35d79a",
   "metadata": {},
   "outputs": [],
   "source": [
    "class SavingsAccount(BankAccount):\n",
    "    def __init__(self, account_number: str, account_holder: str, balance: float = 0.0, interest_rate: float = 0.01):\n",
    "        super().__init__(account_number, account_holder, balance)\n",
    "        self.__interest_rate = interest_rate\n",
    "\n",
    "    def apply_interest(self):\n",
    "        interest = self.inquire_balance() * self.__interest_rate\n",
    "        self.deposit(interest)\n",
    "        print(f\"Interest of Rs.{interest:.2f} applied. New balance: Rs.{self.inquire_balance():.2f}.\")\n",
    "\n",
    "class CheckingAccount(BankAccount):\n",
    "    def __init__(self, account_number: str, account_holder: str, balance: float = 0.0, overdraft_limit: float = 0.0):\n",
    "        super().__init__(account_number, account_holder, balance)\n",
    "        self.__overdraft_limit = overdraft_limit\n",
    "\n",
    "    def withdraw(self, amount: float):\n",
    "        if amount > 0 and self.inquire_balance() + self.__overdraft_limit >= amount:\n",
    "            self._BankAccount__balance -= amount \n",
    "            print(f\"Withdrew Rs.{amount:.2f}. New balance: Rs.{self.inquire_balance():.2f}.\")\n",
    "        else:\n",
    "            print(\"Insufficient balance and overdraft limit or invalid amount.\")"
   ]
  },
  {
   "cell_type": "code",
   "execution_count": 18,
   "id": "69e40ebb",
   "metadata": {},
   "outputs": [
    {
     "name": "stdout",
     "output_type": "stream",
     "text": [
      "Savings Account Information:\n",
      "Account Number: 10293GHY\n",
      "Account Holder: Ahmad\n",
      "Balance: Rs.1000.00\n",
      "Deposited Rs.200.00. New balance: Rs.1200.00.\n",
      "Withdrew Rs.150.00. New balance: Rs.1050.00.\n",
      "Deposited Rs.52.50. New balance: Rs.1102.50.\n",
      "Interest of Rs.52.50 applied. New balance: Rs.1102.50.\n",
      "Final balance: Rs.1102.50\n",
      "\n"
     ]
    }
   ],
   "source": [
    "savings_account = SavingsAccount(\"10293GHY\", \"Ahmad\", 1000.0, 0.05)\n",
    "print(\"Savings Account Information:\")\n",
    "savings_account.display_account_info()\n",
    "savings_account.deposit(200)\n",
    "savings_account.withdraw(150)\n",
    "savings_account.apply_interest()\n",
    "print(f\"Final balance: Rs.{savings_account.inquire_balance():.2f}\\n\")"
   ]
  },
  {
   "cell_type": "code",
   "execution_count": 19,
   "id": "2117cfd3",
   "metadata": {},
   "outputs": [
    {
     "name": "stdout",
     "output_type": "stream",
     "text": [
      "Checking Account Information:\n",
      "Account Number: 639382392HHK\n",
      "Account Holder: Kenobi\n",
      "Balance: Rs.500.00\n",
      "Deposited Rs.300.00. New balance: Rs.800.00.\n",
      "Withdrew Rs.700.00. New balance: Rs.100.00.\n",
      "Withdrew Rs.100.00. New balance: Rs.0.00.\n",
      "Final balance: Rs.0.00\n",
      "\n"
     ]
    }
   ],
   "source": [
    "checking_account = CheckingAccount(\"639382392HHK\", \"Kenobi\", 500.0, 200.0)\n",
    "print(\"Checking Account Information:\")\n",
    "checking_account.display_account_info()\n",
    "checking_account.deposit(300)\n",
    "checking_account.withdraw(700)  \n",
    "checking_account.withdraw(100) \n",
    "print(f\"Final balance: Rs.{checking_account.inquire_balance():.2f}\\n\")"
   ]
  },
  {
   "cell_type": "markdown",
   "id": "79e674bd",
   "metadata": {},
   "source": [
    "### Q5. Write a Python program that models different animals and their sounds. Design a base class called `Animal' with a method 'make_sound()`. Create subclasses like 'Dog and Cat that override the `make_sound() method to produce appropriate sounds.\n",
    "* Tasks:\n",
    "    *  1. Define the \"Animal' class with a method 'make_sound().\n",
    "    *  2. Create subclasses 'Dog' and 'Cat' that override the 'make_sound() method.\n",
    "    *  3. Implement the sound generation logic for each subclass.\n",
    "    *  4. Test the program by creating instances of \"Dog' and 'Cat and calling the       'make_sound() method."
   ]
  },
  {
   "cell_type": "code",
   "execution_count": 20,
   "id": "2e1243e0",
   "metadata": {},
   "outputs": [],
   "source": [
    "class Animal:\n",
    "    def make_sound(self):\n",
    "        pass\n",
    "    \n",
    "class Dog(Animal):\n",
    "    def make_sound(self):\n",
    "        print('WOOF! WOOF!')\n",
    "        \n",
    "class Cat(Animal):\n",
    "    def make_sound(self):\n",
    "        print(\"Meow!\")\n"
   ]
  },
  {
   "cell_type": "code",
   "execution_count": 21,
   "id": "2647bb04",
   "metadata": {},
   "outputs": [
    {
     "name": "stdout",
     "output_type": "stream",
     "text": [
      "WOOF! WOOF!\n"
     ]
    }
   ],
   "source": [
    "dog = Dog()\n",
    "dog.make_sound()"
   ]
  },
  {
   "cell_type": "code",
   "execution_count": 22,
   "id": "5ec5da22",
   "metadata": {},
   "outputs": [
    {
     "name": "stdout",
     "output_type": "stream",
     "text": [
      "Meow!\n"
     ]
    }
   ],
   "source": [
    "cat = Cat()\n",
    "cat.make_sound()"
   ]
  },
  {
   "cell_type": "markdown",
   "id": "a80403b8",
   "metadata": {},
   "source": [
    "### Q6. Write a code for Restaurant Management System Using OOPS:\n",
    "\n",
    "* • Create a Menultem class that has attributes such as name, description, price, and category.\n",
    "* • Implement methods to add a new menu item, update menu item information, and remove a menu item from the menu.\n",
    "* • Use encapsulation to hide the menu item's unique identification number.\n",
    "* • Inherit from the Menultem class to create a Fooditem class and a Beverageltem class, each with their own specific attributes and methods."
   ]
  },
  {
   "cell_type": "code",
   "execution_count": 23,
   "id": "d5ed83a7",
   "metadata": {},
   "outputs": [],
   "source": [
    "class MenuItem:\n",
    "    _id_counter = 1  # Class attribute for unique ID generation\n",
    "\n",
    "    def __init__(self, name, description, price, category):\n",
    "        self.__id = MenuItem._id_counter  # Encapsulated unique ID\n",
    "        MenuItem._id_counter += 1\n",
    "        self.name = name\n",
    "        self.description = description\n",
    "        self.price = price\n",
    "        self.category = category\n",
    "\n",
    "    def get_id(self):\n",
    "        return self.__id\n",
    "\n",
    "    def update_info(self, name=None, description=None, price=None, category=None):\n",
    "        if name:\n",
    "            self.name = name\n",
    "        if description:\n",
    "            self.description = description\n",
    "        if price:\n",
    "            self.price = price\n",
    "        if category:\n",
    "            self.category = category\n",
    "\n",
    "    def __str__(self):\n",
    "        return f\"ID: {self.__id}, Name: {self.name}, Description: {self.description}, Price: ${self.price:.2f}, Category: {self.category}\"\n",
    "\n",
    "\n",
    "class FoodItem(MenuItem):\n",
    "    def __init__(self, name, description, price, category, is_vegan=False):\n",
    "        super().__init__(name, description, price, category)\n",
    "        self.is_vegan = is_vegan\n",
    "\n",
    "    def update_info(self, name=None, description=None, price=None, category=None, is_vegan=None):\n",
    "        super().update_info(name, description, price, category)\n",
    "        if is_vegan is not None:\n",
    "            self.is_vegan = is_vegan\n",
    "\n",
    "    def __str__(self):\n",
    "        vegan_status = \"Vegan\" if self.is_vegan else \"Non-Vegan\"\n",
    "        return super().__str__() + f\", {vegan_status}\"\n",
    "\n",
    "\n",
    "class BeverageItem(MenuItem):\n",
    "    def __init__(self, name, description, price, category, is_alcoholic=False):\n",
    "        super().__init__(name, description, price, category)\n",
    "        self.is_alcoholic = is_alcoholic\n",
    "\n",
    "    def update_info(self, name=None, description=None, price=None, category=None, is_alcoholic=None):\n",
    "        super().update_info(name, description, price, category)\n",
    "        if is_alcoholic is not None:\n",
    "            self.is_alcoholic = is_alcoholic\n",
    "\n",
    "    def __str__(self):\n",
    "        alcohol_status = \"Alcoholic\" if self.is_alcoholic else \"Non-Alcoholic\"\n",
    "        return super().__str__() + f\", {alcohol_status}\"\n",
    "\n",
    "\n",
    "class Menu:\n",
    "    def __init__(self):\n",
    "        self.items = []\n",
    "\n",
    "    def add_item(self, item):\n",
    "        self.items.append(item)\n",
    "        print(f\"Item '{item.name}' added to the menu.\")\n",
    "\n",
    "    def remove_item(self, item_id):\n",
    "        for item in self.items:\n",
    "            if item.get_id() == item_id:\n",
    "                self.items.remove(item)\n",
    "                print(f\"Item '{item.name}' removed from the menu.\")\n",
    "                return\n",
    "        print(f\"No item found with ID: {item_id}\")\n",
    "\n",
    "    def update_item(self, item_id, **kwargs):\n",
    "        for item in self.items:\n",
    "            if item.get_id() == item_id:\n",
    "                item.update_info(**kwargs)\n",
    "                print(f\"Item '{item.name}' updated.\")\n",
    "                return\n",
    "        print(f\"No item found with ID: {item_id}\")\n",
    "\n",
    "    def display_menu(self):\n",
    "        for item in self.items:\n",
    "            print(item)"
   ]
  },
  {
   "cell_type": "code",
   "execution_count": 24,
   "id": "9dc04e83",
   "metadata": {},
   "outputs": [],
   "source": [
    "menu = Menu()\n",
    "\n",
    "item1 = FoodItem(name=\"Pasta\", description=\"pasta from sicily\",\n",
    "                 price= 145, category=\"Main Course,\", is_vegan=False)\n",
    "\n",
    "item2 = BeverageItem(name=\"Coca Cola\", description=\"Chilled soft drink\",\n",
    "                     price=1.99, category=\"Drinks\", is_alcoholic=False)"
   ]
  },
  {
   "cell_type": "code",
   "execution_count": 25,
   "id": "425a050b",
   "metadata": {},
   "outputs": [
    {
     "name": "stdout",
     "output_type": "stream",
     "text": [
      "Item 'Pasta' added to the menu.\n",
      "Item 'Coca Cola' added to the menu.\n"
     ]
    }
   ],
   "source": [
    "menu.add_item(item1)\n",
    "menu.add_item(item2)"
   ]
  },
  {
   "cell_type": "code",
   "execution_count": 26,
   "id": "fc9772f0",
   "metadata": {},
   "outputs": [
    {
     "name": "stdout",
     "output_type": "stream",
     "text": [
      "\n",
      "Menu:\n",
      "ID: 1, Name: Pasta, Description: pasta from sicily, Price: $145.00, Category: Main Course,, Non-Vegan\n",
      "ID: 2, Name: Coca Cola, Description: Chilled soft drink, Price: $1.99, Category: Drinks, Non-Alcoholic\n"
     ]
    }
   ],
   "source": [
    "print(\"\\nMenu:\")\n",
    "menu.display_menu()"
   ]
  },
  {
   "cell_type": "code",
   "execution_count": 27,
   "id": "b10dab19",
   "metadata": {},
   "outputs": [
    {
     "name": "stdout",
     "output_type": "stream",
     "text": [
      "Item 'Pasta' updated.\n"
     ]
    }
   ],
   "source": [
    "menu.update_item(item1.get_id(), price=13.99, is_vegan=True)"
   ]
  },
  {
   "cell_type": "code",
   "execution_count": 28,
   "id": "756e58db",
   "metadata": {},
   "outputs": [
    {
     "name": "stdout",
     "output_type": "stream",
     "text": [
      "Item 'Coca Cola' removed from the menu.\n"
     ]
    }
   ],
   "source": [
    "menu.remove_item(item2.get_id())"
   ]
  },
  {
   "cell_type": "code",
   "execution_count": 29,
   "id": "37e21309",
   "metadata": {},
   "outputs": [
    {
     "name": "stdout",
     "output_type": "stream",
     "text": [
      "\n",
      "Updated Menu:\n",
      "ID: 1, Name: Pasta, Description: pasta from sicily, Price: $13.99, Category: Main Course,, Vegan\n"
     ]
    }
   ],
   "source": [
    "print(\"\\nUpdated Menu:\")\n",
    "menu.display_menu()"
   ]
  },
  {
   "cell_type": "markdown",
   "id": "7b41bc20",
   "metadata": {},
   "source": [
    "### Q7.Write a code for Hotel Management System using OOPS:\n",
    "* Ceate a Room class that has attributes such as room number, room type, rate, and availability (private).\n",
    "* Implement methods to book a room, check in a guest, and check out a guest.\n",
    "* Use encapsulation to hide the room's unique identification number.\n",
    "* Inherit from the Room class to create a SuiteRoom class and a Standard Room class, each with their own specific attributes and methods."
   ]
  },
  {
   "cell_type": "code",
   "execution_count": 8,
   "id": "11fa8e46",
   "metadata": {},
   "outputs": [],
   "source": [
    "#Q7 \n",
    "\n",
    "class Room:\n",
    "    def __init__(self, room_number, room_type, rate):\n",
    "        self.__room_number = room_number  # Encapsulated attribute\n",
    "        self.room_type = room_type\n",
    "        self.rate = rate\n",
    "        self.__is_available = True\n",
    "\n",
    "    def book_room(self):\n",
    "        if self.__is_available:\n",
    "            self.__is_available = False\n",
    "            print(f\"Room {self.__room_number} booked successfully.\")\n",
    "        else:\n",
    "            print(f\"Room {self.__room_number} is already booked.\")\n",
    "            \n",
    "    def check_in(self):\n",
    "        if not self.__is_available:\n",
    "            print(f\"Guest checked into room {self.__room_number}.\")\n",
    "        else:\n",
    "            print(f\"Room {self.__room_number} is not booked yet.\")\n",
    "    def check_out(self):\n",
    "        if not self.__is_available:\n",
    "            self.__is_available = True\n",
    "            print(f\"Guest checked out of room {self.__room_number}. Room is now available.\")\n",
    "        else:\n",
    "            print(f\"Room {self.__room_number} is already available.\")\n",
    "    def get_room_number(self):\n",
    "        return self.__room_number\n",
    "\n",
    "    def is_available(self):\n",
    "        return self.__is_available\n",
    "    \n",
    "    \n",
    "\n",
    "\n",
    "class SuiteRoom(Room):\n",
    "    def __init__(self, room_number, rate, suite_features):\n",
    "        super().__init__(room_number, \"Suite\", rate)\n",
    "        self.suite_features = suite_features\n",
    "\n",
    "    def show_suite_details(self):\n",
    "        print(f\"Suite Room {self.get_room_number()}:\")\n",
    "        print(f\"Rate: ${self.rate}/night\")\n",
    "        print(\"Features: \" + \", \".join(self.suite_features))\n",
    "        print(f\"Available: {'Yes' if self.is_available() else 'No'}\")\n",
    "\n",
    "\n",
    "        \n",
    "        \n",
    "class StandardRoom(Room):\n",
    "    def __init__(self, room_number, rate, has_ocean_view):\n",
    "        super().__init__(room_number, \"Standard\", rate)\n",
    "        self.has_ocean_view = has_ocean_view\n",
    "\n",
    "    def show_standard_details(self):\n",
    "        print(f\"Standard Room {self.get_room_number()}:\")\n",
    "        print(f\"Rate: ${self.rate}/night\")\n",
    "        print(f\"Ocean View: {'Yes' if self.has_ocean_view else 'No'}\")\n",
    "        print(f\"Available: {'Yes' if self.is_available() else 'No'}\")\n"
   ]
  },
  {
   "cell_type": "code",
   "execution_count": 9,
   "id": "6e655c15",
   "metadata": {},
   "outputs": [
    {
     "name": "stdout",
     "output_type": "stream",
     "text": [
      "Suite Room 101:\n",
      "Rate: $250/night\n",
      "Features: King Bed, Jacuzzi, Balcony\n",
      "Available: Yes\n",
      "Standard Room 102:\n",
      "Rate: $100/night\n",
      "Ocean View: Yes\n",
      "Available: Yes\n",
      "Room 101 booked successfully.\n",
      "Guest checked into room 101.\n",
      "Guest checked out of room 101. Room is now available.\n",
      "Room 102 booked successfully.\n",
      "Guest checked into room 102.\n",
      "Guest checked out of room 102. Room is now available.\n"
     ]
    }
   ],
   "source": [
    "if __name__ == \"__main__\":\n",
    "    suite = SuiteRoom(101, 250, [\"King Bed\", \"Jacuzzi\", \"Balcony\"])\n",
    "    standard = StandardRoom(102, 100, True)\n",
    "\n",
    "    suite.show_suite_details()\n",
    "    standard.show_standard_details()\n",
    "\n",
    "    suite.book_room()\n",
    "    suite.check_in()\n",
    "    suite.check_out()\n",
    "    \n",
    "    standard.book_room()\n",
    "    standard.check_in()\n",
    "    standard.check_out()"
   ]
  },
  {
   "cell_type": "markdown",
   "id": "673fee4f",
   "metadata": {},
   "source": [
    "### Q8. Write a code for Fitness Club Management System using OOPS:\n",
    "* Create a Member class that has attributes such as name, age, membership type, and membership status (private).\n",
    "* Implement methods to register a new member, renew a membership, and cancel a membership.\n",
    "* Use encapsulation to hide the member's unique identification number.\n",
    "* Inherit from the Member class to create a FamilyMember class and an Individual Member class, each with their own specific attributes and methods."
   ]
  },
  {
   "cell_type": "code",
   "execution_count": 10,
   "id": "c4869e0c",
   "metadata": {},
   "outputs": [],
   "source": [
    "#Q8\n",
    "\n",
    "class Member:\n",
    "    def __init__(self, member_id, name, age, membership_type):\n",
    "        self.__member_id = member_id  # Encapsulated attribute\n",
    "        self.name = name\n",
    "        self.age = age\n",
    "        self.membership_type = membership_type\n",
    "        self.__membership_status = 'Active'  # Private attribute to track membership status\n",
    "\n",
    "    def register_member(self):\n",
    "        print(f\"Member {self.name} registered successfully with {self.membership_type} membership.\")\n",
    "\n",
    "    def renew_membership(self):\n",
    "        if self.__membership_status == 'Active':\n",
    "            print(f\"Membership for {self.name} is already active.\")\n",
    "        else:\n",
    "            self.__membership_status = 'Active'\n",
    "            print(f\"Membership for {self.name} has been renewed.\")\n",
    "\n",
    "    def cancel_membership(self):\n",
    "        if self.__membership_status == 'Inactive':\n",
    "            print(f\"Membership for {self.name} is already cancelled.\")\n",
    "        else:\n",
    "            self.__membership_status = 'Inactive'\n",
    "            print(f\"Membership for {self.name} has been cancelled.\")\n",
    "\n",
    "    def get_member_id(self):\n",
    "        return self.__member_id\n",
    "\n",
    "    def get_membership_status(self):\n",
    "        return self.__membership_status\n",
    "\n",
    "\n",
    "class IndividualMember(Member):\n",
    "    def __init__(self, member_id, name, age, membership_type, personal_trainer):\n",
    "        super().__init__(member_id, name, age, membership_type)\n",
    "        self.personal_trainer = personal_trainer\n",
    "\n",
    "    def show_member_details(self):\n",
    "        print(f\"Individual Member {self.name}:\")\n",
    "        print(f\"Age: {self.age}\")\n",
    "        print(f\"Membership Type: {self.membership_type}\")\n",
    "        print(f\"Personal Trainer: {'Yes' if self.personal_trainer else 'No'}\")\n",
    "        print(f\"Membership Status: {self.get_membership_status()}\")\n",
    "\n",
    "\n",
    "class FamilyMember(Member):\n",
    "    def __init__(self, member_id, name, age, membership_type, family_size):\n",
    "        super().__init__(member_id, name, age, membership_type)\n",
    "        self.family_size = family_size\n",
    "\n",
    "    def show_member_details(self):\n",
    "        print(f\"Family Member {self.name}:\")\n",
    "        print(f\"Age: {self.age}\")\n",
    "        print(f\"Membership Type: {self.membership_type}\")\n",
    "        print(f\"Family Size: {self.family_size}\")\n",
    "        print(f\"Membership Status: {self.get_membership_status()}\")\n",
    "\n",
    "\n"
   ]
  },
  {
   "cell_type": "code",
   "execution_count": 11,
   "id": "cd11059c",
   "metadata": {},
   "outputs": [
    {
     "name": "stdout",
     "output_type": "stream",
     "text": [
      "Member Alice registered successfully with Gold membership.\n",
      "Member Bob registered successfully with Platinum membership.\n",
      "Individual Member Alice:\n",
      "Age: 30\n",
      "Membership Type: Gold\n",
      "Personal Trainer: Yes\n",
      "Membership Status: Active\n",
      "Family Member Bob:\n",
      "Age: 45\n",
      "Membership Type: Platinum\n",
      "Family Size: 4\n",
      "Membership Status: Active\n",
      "Membership for Alice has been cancelled.\n",
      "Membership for Bob is already active.\n",
      "Individual Member Alice:\n",
      "Age: 30\n",
      "Membership Type: Gold\n",
      "Personal Trainer: Yes\n",
      "Membership Status: Inactive\n",
      "Family Member Bob:\n",
      "Age: 45\n",
      "Membership Type: Platinum\n",
      "Family Size: 4\n",
      "Membership Status: Active\n"
     ]
    }
   ],
   "source": [
    "#Example\n",
    "\n",
    "if __name__ == \"__main__\":\n",
    "    individual_member = IndividualMember(1, \"Alice\", 30, \"Gold\", True)\n",
    "    family_member = FamilyMember(2, \"Bob\", 45, \"Platinum\", 4)\n",
    "\n",
    "    individual_member.register_member()\n",
    "    family_member.register_member()\n",
    "\n",
    "    individual_member.show_member_details()\n",
    "    family_member.show_member_details()\n",
    "\n",
    "    individual_member.cancel_membership()\n",
    "    family_member.renew_membership()\n",
    "\n",
    "    individual_member.show_member_details()\n",
    "    family_member.show_member_details()"
   ]
  },
  {
   "cell_type": "markdown",
   "id": "d74f6323",
   "metadata": {},
   "source": [
    "9. Write a code for Event Management System using OOPS:\n",
    "* Create an Event class that has attributes such as name, date, time, location, and list of attendees (private).\n",
    "* Implement methods to create a new event, add or remove attendees, and get the total number of attendees.\n",
    "* Use encapsulation to hide the event's unique identification number.\n",
    "* Inherit from the Event class to create a PrivateEvent class and a PublicEvent class, each with their own specific attributes and methods."
   ]
  },
  {
   "cell_type": "markdown",
   "id": "1d5d0c08",
   "metadata": {},
   "source": [
    "### Q9 Write a code for Event Management System using OOPS:\n",
    "    Create an Event class that has attributes such as name, date, time, location, and list of attendees (private). Implement methods to create a new event, add or remove attendees, and get the total number of attendees.\n",
    "\n",
    "    Use encapsulation to hide the event's unique identification number.\n",
    "\n",
    "    Inherit from the Event class to create a PrivateEvent class and a PublicEvent class, each with their own specific attributes and methods.\n"
   ]
  },
  {
   "cell_type": "code",
   "execution_count": 12,
   "id": "f1cded7c",
   "metadata": {},
   "outputs": [],
   "source": [
    "class Event:\n",
    "    def __init__(self, event_id, name, date, time, location):\n",
    "        self.__event_id = event_id  # Encapsulated attribute\n",
    "        self.name = name\n",
    "        self.date = date\n",
    "        self.time = time\n",
    "        self.location = location\n",
    "        self.__attendees = []  # Private list to track attendees\n",
    "\n",
    "    def create_event(self):\n",
    "        print(f\"Event '{self.name}' created for {self.date} at {self.time} in {self.location}.\")\n",
    "\n",
    "    def add_attendee(self, attendee_name):\n",
    "        if attendee_name not in self.__attendees:\n",
    "            self.__attendees.append(attendee_name)\n",
    "            print(f\"Attendee {attendee_name} added to event '{self.name}'.\")\n",
    "        else:\n",
    "            print(f\"Attendee {attendee_name} is already registered for event '{self.name}'.\")\n",
    "\n",
    "    def remove_attendee(self, attendee_name):\n",
    "        if attendee_name in self.__attendees:\n",
    "            self.__attendees.remove(attendee_name)\n",
    "            print(f\"Attendee {attendee_name} removed from event '{self.name}'.\")\n",
    "        else:\n",
    "            print(f\"Attendee {attendee_name} is not found in event '{self.name}'.\")\n",
    "\n",
    "    def get_total_attendees(self):\n",
    "        return len(self.__attendees)\n",
    "\n",
    "    def get_event_id(self):\n",
    "        return self.__event_id\n",
    "\n",
    "    def list_attendees(self):\n",
    "        print(f\"Attendees for event '{self.name}': {', '.join(self.__attendees)}\" if self.__attendees else \"No attendees yet.\")\n",
    "\n",
    "\n",
    "class PrivateEvent(Event):\n",
    "    def __init__(self, event_id, name, date, time, location, invite_code):\n",
    "        super().__init__(event_id, name, date, time, location)\n",
    "        self.invite_code = invite_code\n",
    "\n",
    "    def verify_invite(self, code):\n",
    "        if code == self.invite_code:\n",
    "            print(\"Invite code is valid.\")\n",
    "            return True\n",
    "        else:\n",
    "            print(\"Invalid invite code.\")\n",
    "            return False\n",
    "\n",
    "    def show_event_details(self):\n",
    "        print(f\"Private Event '{self.name}':\")\n",
    "        print(f\"Date: {self.date}\")\n",
    "        print(f\"Time: {self.time}\")\n",
    "        print(f\"Location: {self.location}\")\n",
    "        print(f\"Total Attendees: {self.get_total_attendees()}\")\n",
    "\n",
    "\n",
    "class PublicEvent(Event):\n",
    "    def __init__(self, event_id, name, date, time, location, capacity):\n",
    "        super().__init__(event_id, name, date, time, location)\n",
    "        self.capacity = capacity\n",
    "\n",
    "    def add_attendee(self, attendee_name):\n",
    "        if self.get_total_attendees() < self.capacity:\n",
    "            super().add_attendee(attendee_name)\n",
    "        else:\n",
    "            print(f\"Cannot add {attendee_name}. Event '{self.name}' has reached its capacity of {self.capacity}.\")\n",
    "\n",
    "    def show_event_details(self):\n",
    "        print(f\"Public Event '{self.name}':\")\n",
    "        print(f\"Date: {self.date}\")\n",
    "        print(f\"Time: {self.time}\")\n",
    "        print(f\"Location: {self.location}\")\n",
    "        print(f\"Capacity: {self.capacity}\")\n",
    "        print(f\"Total Attendees: {self.get_total_attendees()}\")\n",
    "\n"
   ]
  },
  {
   "cell_type": "code",
   "execution_count": 14,
   "id": "78b501fe",
   "metadata": {},
   "outputs": [
    {
     "name": "stdout",
     "output_type": "stream",
     "text": [
      "Event 'Private Gala' created for 2024-09-30 at 19:00 in Ballroom A.\n",
      "Event 'Community Fair' created for 2024-10-05 at 10:00 in Central Park.\n",
      "Invite code is valid.\n",
      "Attendee Alice added to event 'Private Gala'.\n",
      "Private Event 'Private Gala':\n",
      "Date: 2024-09-30\n",
      "Time: 19:00\n",
      "Location: Ballroom A\n",
      "Total Attendees: 1\n",
      "Attendee Bob added to event 'Community Fair'.\n",
      "Attendee Charlie added to event 'Community Fair'.\n",
      "Public Event 'Community Fair':\n",
      "Date: 2024-10-05\n",
      "Time: 10:00\n",
      "Location: Central Park\n",
      "Capacity: 100\n",
      "Total Attendees: 2\n",
      "Attendee Bob removed from event 'Community Fair'.\n",
      "Public Event 'Community Fair':\n",
      "Date: 2024-10-05\n",
      "Time: 10:00\n",
      "Location: Central Park\n",
      "Capacity: 100\n",
      "Total Attendees: 1\n"
     ]
    }
   ],
   "source": [
    "#Example\n",
    "\n",
    "if __name__ == \"__main__\":\n",
    "    private_event = PrivateEvent(1, \"Private Gala\", \"2024-09-30\", \"19:00\", \"Ballroom A\", \"SECRET123\")\n",
    "    public_event = PublicEvent(2, \"Community Fair\", \"2024-10-05\", \"10:00\", \"Central Park\", 100)\n",
    "\n",
    "    private_event.create_event()\n",
    "    public_event.create_event()\n",
    "\n",
    "    private_event.verify_invite(\"SECRET123\")\n",
    "    private_event.add_attendee(\"Alice\")\n",
    "    private_event.show_event_details()\n",
    "\n",
    "    public_event.add_attendee(\"Bob\")\n",
    "    public_event.add_attendee(\"Charlie\")\n",
    "    public_event.show_event_details()\n",
    "\n",
    "    public_event.remove_attendee(\"Bob\")\n",
    "    public_event.show_event_details()"
   ]
  },
  {
   "cell_type": "markdown",
   "id": "ff0fc666",
   "metadata": {},
   "source": [
    "### Q10.Write a code for Airline Reservation System using OOPS:\n",
    "* Create a Flight class that has attributes such as flight number, departure and arrival airports, departure and arrival times, and available seats (private).\n",
    "* Implement methods to book a seat, cancel a reservation, and get the remaining available seats.\n",
    "* Use encapsulation to hide the flight's unique identification number.\n",
    "* Inherit from the Flight class to create a DomesticFlight class and an InternationalFlight class, each with their own specific attributes and methods."
   ]
  },
  {
   "cell_type": "code",
   "execution_count": 15,
   "id": "8734e391",
   "metadata": {},
   "outputs": [],
   "source": [
    "class Flight:\n",
    "    def __init__(self, flight_id, flight_number, departure_airport, arrival_airport, departure_time, arrival_time, total_seats):\n",
    "        self.__flight_id = flight_id  # Encapsulated attribute\n",
    "        self.flight_number = flight_number\n",
    "        self.departure_airport = departure_airport\n",
    "        self.arrival_airport = arrival_airport\n",
    "        self.departure_time = departure_time\n",
    "        self.arrival_time = arrival_time\n",
    "        self.__available_seats = total_seats  # Private attribute to track available seats\n",
    "\n",
    "    def book_seat(self):\n",
    "        if self.__available_seats > 0:\n",
    "            self.__available_seats -= 1\n",
    "            print(f\"Seat booked successfully on flight {self.flight_number}.\")\n",
    "        else:\n",
    "            print(f\"No available seats on flight {self.flight_number}.\")\n",
    "\n",
    "    def cancel_reservation(self):\n",
    "        self.__available_seats += 1\n",
    "        print(f\"Reservation cancelled on flight {self.flight_number}. Seat is now available.\")\n",
    "\n",
    "    def get_remaining_seats(self):\n",
    "        return self.__available_seats\n",
    "\n",
    "    def get_flight_id(self):\n",
    "        return self.__flight_id\n",
    "\n",
    "    def show_flight_details(self):\n",
    "        print(f\"Flight Number: {self.flight_number}\")\n",
    "        print(f\"Departure: {self.departure_airport} at {self.departure_time}\")\n",
    "        print(f\"Arrival: {self.arrival_airport} at {self.arrival_time}\")\n",
    "        print(f\"Available Seats: {self.__available_seats}\")\n",
    "\n",
    "\n",
    "class DomesticFlight(Flight):\n",
    "    def __init__(self, flight_id, flight_number, departure_airport, arrival_airport, departure_time, arrival_time, total_seats, airline_name):\n",
    "        super().__init__(flight_id, flight_number, departure_airport, arrival_airport, departure_time, arrival_time, total_seats)\n",
    "        self.airline_name = airline_name\n",
    "\n",
    "    def show_domestic_flight_details(self):\n",
    "        print(f\"Domestic Flight by {self.airline_name}:\")\n",
    "        self.show_flight_details()\n",
    "\n",
    "\n",
    "class InternationalFlight(Flight):\n",
    "    def __init__(self, flight_id, flight_number, departure_airport, arrival_airport, departure_time, arrival_time, total_seats, passport_required):\n",
    "        super().__init__(flight_id, flight_number, departure_airport, arrival_airport, departure_time, arrival_time, total_seats)\n",
    "        self.passport_required = passport_required\n",
    "\n",
    "    def show_international_flight_details(self):\n",
    "        print(f\"International Flight:\")\n",
    "        self.show_flight_details()\n",
    "        print(f\"Passport Required: {'Yes' if self.passport_required else 'No'}\")\n",
    "\n"
   ]
  },
  {
   "cell_type": "code",
   "execution_count": 16,
   "id": "0b31a209",
   "metadata": {},
   "outputs": [
    {
     "name": "stdout",
     "output_type": "stream",
     "text": [
      "Domestic Flight by American Airlines:\n",
      "Flight Number: DF123\n",
      "Departure: JFK at 2024-09-30 08:00\n",
      "Arrival: LAX at 2024-09-30 11:00\n",
      "Available Seats: 150\n",
      "International Flight:\n",
      "Flight Number: IF456\n",
      "Departure: LAX at 2024-10-01 16:00\n",
      "Arrival: LHR at 2024-10-02 08:00\n",
      "Available Seats: 200\n",
      "Passport Required: Yes\n",
      "Seat booked successfully on flight DF123.\n",
      "Reservation cancelled on flight DF123. Seat is now available.\n",
      "Domestic Flight by American Airlines:\n",
      "Flight Number: DF123\n",
      "Departure: JFK at 2024-09-30 08:00\n",
      "Arrival: LAX at 2024-09-30 11:00\n",
      "Available Seats: 150\n",
      "Seat booked successfully on flight IF456.\n",
      "Reservation cancelled on flight IF456. Seat is now available.\n",
      "International Flight:\n",
      "Flight Number: IF456\n",
      "Departure: LAX at 2024-10-01 16:00\n",
      "Arrival: LHR at 2024-10-02 08:00\n",
      "Available Seats: 200\n",
      "Passport Required: Yes\n"
     ]
    }
   ],
   "source": [
    "# Example\n",
    "if __name__ == \"__main__\":\n",
    "    domestic_flight = DomesticFlight(1, \"DF123\", \"JFK\", \"LAX\", \"2024-09-30 08:00\", \"2024-09-30 11:00\", 150, \"American Airlines\")\n",
    "    international_flight = InternationalFlight(2, \"IF456\", \"LAX\", \"LHR\", \"2024-10-01 16:00\", \"2024-10-02 08:00\", 200, True)\n",
    "\n",
    "    domestic_flight.show_domestic_flight_details()\n",
    "    international_flight.show_international_flight_details()\n",
    "\n",
    "    domestic_flight.book_seat()\n",
    "    domestic_flight.cancel_reservation()\n",
    "    domestic_flight.show_domestic_flight_details()\n",
    "\n",
    "    international_flight.book_seat()\n",
    "    international_flight.cancel_reservation()\n",
    "    international_flight.show_international_flight_details()"
   ]
  },
  {
   "cell_type": "markdown",
   "id": "49f9e5dc",
   "metadata": {},
   "source": [
    "### Q16 Write a Python program to create a text file named \"employees.txt\" and write the details of employees, including their name, age, and salary, into the file."
   ]
  },
  {
   "cell_type": "code",
   "execution_count": 17,
   "id": "37ae1e80",
   "metadata": {},
   "outputs": [
    {
     "name": "stdout",
     "output_type": "stream",
     "text": [
      "Employee details have been written to employees.txt.\n"
     ]
    }
   ],
   "source": [
    "def write_employee_details(filename, employees):\n",
    "    try:\n",
    "        with open(filename, 'w') as file:\n",
    "            # Writing the header\n",
    "            file.write(\"Name\\tAge\\tSalary\\n\")\n",
    "            file.write(\"-\" * 25 + \"\\n\")\n",
    "            # Writing each employee's details\n",
    "            for employee in employees:\n",
    "                name, age, salary = employee\n",
    "                file.write(f\"{name}\\t{age}\\t{salary}\\n\")\n",
    "        print(f\"Employee details have been written to {filename}.\")\n",
    "    except Exception as e:\n",
    "        print(f\"An error occurred while writing to the file: {e}\")\n",
    "\n",
    "\n",
    "employees = [\n",
    "    (\"Ravi\", 30, 50000),\n",
    "    (\"Shalini\", 25, 45000),\n",
    "    (\"Chirag\", 28, 52000),\n",
    "    (\"David\", 35, 70000)\n",
    "]\n",
    "\n",
    "filename = \"employees.txt\"\n",
    "write_employee_details(filename, employees)\n"
   ]
  },
  {
   "cell_type": "markdown",
   "id": "83ae9076",
   "metadata": {},
   "source": [
    "### Q17) Develop a Python script that opens an existing text file named \"inventory.txt\" in read mode and displays the contents of the file line by line."
   ]
  },
  {
   "cell_type": "code",
   "execution_count": 18,
   "id": "da7c5b04",
   "metadata": {},
   "outputs": [
    {
     "name": "stdout",
     "output_type": "stream",
     "text": [
      "Hello World"
     ]
    }
   ],
   "source": [
    "def display_file_contents(filename):\n",
    "    try:\n",
    "        with open(filename, 'r') as file:\n",
    "            # Reading and displaying each line of the file\n",
    "            for line in file:\n",
    "                print(line, end='')\n",
    "    except FileNotFoundError:\n",
    "        print(f\"The file '{filename}' does not exist.\")\n",
    "    except Exception as e:\n",
    "        print(f\"An error occurred while reading the file: {e}\")\n",
    "        \n",
    "\n",
    "filename = 'inventory.txt'\n",
    "\n",
    "display_file_contents(filename)"
   ]
  },
  {
   "cell_type": "markdown",
   "id": "eef0f228",
   "metadata": {},
   "source": [
    "### Q18 Create a Python script that reads a text file named \"expenses.txt\" and calculates the total amount spent on various expenses listed in the file."
   ]
  },
  {
   "cell_type": "code",
   "execution_count": 20,
   "id": "8dbddee8",
   "metadata": {},
   "outputs": [
    {
     "name": "stdout",
     "output_type": "stream",
     "text": [
      "Total expenses: Rs.1541.50\n"
     ]
    }
   ],
   "source": [
    "def calculate_total_expenses(filename):\n",
    "    total = 0.0  # Initialize total expenses to zero\n",
    "\n",
    "    try:\n",
    "        with open(filename, 'r') as file:\n",
    "            for line in file:\n",
    "                try:\n",
    "                    # Split the line into expense name and amount\n",
    "                    name, amount = line.split(':')\n",
    "                    # Convert amount to float and add to total\n",
    "                    total += float(amount.strip())\n",
    "                except ValueError:\n",
    "                    print(f\"Skipping invalid line: {line.strip()}\")\n",
    "        \n",
    "        print(f\"Total expenses: Rs.{total:.2f}\")\n",
    "\n",
    "    except FileNotFoundError:\n",
    "        print(f\"The file '{filename}' does not exist.\")\n",
    "    except Exception as e:\n",
    "        print(f\"An error occurred while reading the file: {e}\")\n",
    "        \n",
    "\n",
    "filename = 'expenses.txt'\n",
    "calculate_total_expenses(filename)"
   ]
  },
  {
   "cell_type": "markdown",
   "id": "2d381c48",
   "metadata": {},
   "source": [
    "### Q19 Create a Python program that reads a text file named \"paragraph.txt\" and counts the occurrences of each word in the paragraph, displaying the results in alphabetical order."
   ]
  },
  {
   "cell_type": "code",
   "execution_count": 21,
   "id": "d7e27f7e",
   "metadata": {},
   "outputs": [
    {
     "name": "stdout",
     "output_type": "stream",
     "text": [
      "19: 1\n",
      "a: 1\n",
      "and: 1\n",
      "assignment: 2\n",
      "content: 1\n",
      "file: 1\n",
      "filling: 1\n",
      "for: 2\n",
      "goes: 1\n",
      "here: 2\n",
      "hi: 1\n",
      "hope: 1\n",
      "i: 1\n",
      "is: 1\n",
      "let: 1\n",
      "m: 1\n",
      "of: 1\n",
      "paragraph: 2\n",
      "pw: 1\n",
      "question: 1\n",
      "random: 1\n",
      "s: 2\n",
      "sharique: 1\n",
      "the: 4\n",
      "this: 2\n",
      "txt: 1\n",
      "up: 1\n",
      "well: 1\n"
     ]
    }
   ],
   "source": [
    "from collections import Counter\n",
    "import re\n",
    "\n",
    "def count_word_occurrences(filename):\n",
    "    try:\n",
    "        \n",
    "        with open(filename, 'r') as file:\n",
    "            text = file.read()\n",
    "        \n",
    "        \n",
    "        words = re.findall(r'\\b\\w+\\b', text.lower())\n",
    "        \n",
    "       \n",
    "        word_counts = Counter(words)\n",
    "        \n",
    "        \n",
    "        for word in sorted(word_counts):\n",
    "            print(f\"{word}: {word_counts[word]}\")\n",
    "\n",
    "    except FileNotFoundError:\n",
    "        print(f\"The file '{filename}' does not exist.\")\n",
    "    except Exception as e:\n",
    "        print(f\"An error occurred while reading the file: {e}\")\n",
    "\n",
    "\n",
    "filename = 'paragraph.txt'\n",
    "\n",
    "count_word_occurrences(filename)"
   ]
  },
  {
   "cell_type": "markdown",
   "id": "65fa5bde",
   "metadata": {},
   "source": [
    "### Q21) What do you mean by skewness.Explain its types. Use graph to show."
   ]
  },
  {
   "cell_type": "markdown",
   "id": "5874774a",
   "metadata": {},
   "source": [
    "Skewness is a statistical measure that describes the asymmetry of a probability distribution or dataset around its mean. It indicates whether the distribution is skewed to the left (negatively skewed) or to the right (positively skewed).\n",
    "\n",
    "Types of Skewness\n",
    "\n",
    "Positive Skewness (Right Skewness):\n",
    "When a distribution has a longer or fatter tail on the right side, the right tail is more spread out than the left. In this type of skewness, Mean>Median>Mode. Most data points are concentrated on the left side with the tail extending to the right.\n",
    "\n",
    "Negative Skewness (Left Skewness):\n",
    "When a distribution has a longer or fatter tail on the left side, the left tail is more spread out than the right. In this type of skewness, Mean < Median < Mode. Most data points are concentrated on the right side with the tail extending to the left.\n",
    "\n",
    "No Skewness (Symmetrical Distribution):\n",
    "When the distribution is symmetrical, the left and right tails are of equal length and the distribution looks the same on both sides. In this case, Mean = Median = Mode.\n"
   ]
  },
  {
   "cell_type": "code",
   "execution_count": 1,
   "id": "974ad2c2",
   "metadata": {},
   "outputs": [
    {
     "data": {
      "image/png": "[encoded data removed]",
      "text/plain": [
       "<Figure size 1200x800 with 3 Axes>"
      ]
     },
     "metadata": {},
     "output_type": "display_data"
    }
   ],
   "source": [
    "import numpy as np\n",
    "import matplotlib.pyplot as plt\n",
    "import seaborn as sns\n",
    "\n",
    "# Set up the figure\n",
    "plt.figure(figsize=(12, 8))\n",
    "\n",
    "# Positive Skewness (Right Skewed)\n",
    "plt.subplot(3, 1, 1)\n",
    "data_pos_skew = np.random.exponential(scale=2, size=1000)  # Right-skewed distribution\n",
    "sns.histplot(data_pos_skew, kde=True)\n",
    "plt.title('Positive Skewness (Right Skewed)')\n",
    "plt.xlabel('Value')\n",
    "plt.ylabel('Frequency')\n",
    "\n",
    "# Negative Skewness (Left Skewed)\n",
    "plt.subplot(3, 1, 2)\n",
    "data_neg_skew = -np.random.exponential(scale=2, size=1000)  # Left-skewed distribution\n",
    "sns.histplot(data_neg_skew, kde=True)\n",
    "plt.title('Negative Skewness (Left Skewed)')\n",
    "plt.xlabel('Value')\n",
    "plt.ylabel('Frequency')\n",
    "\n",
    "# No Skewness (Symmetrical Distribution)\n",
    "plt.subplot(3, 1, 3)\n",
    "data_sym = np.random.normal(loc=0, scale=1, size=1000)  # Symmetrical distribution (Normal)\n",
    "sns.histplot(data_sym, kde=True)\n",
    "plt.title('No Skewness (Symmetrical Distribution)')\n",
    "plt.xlabel('Value')\n",
    "plt.ylabel('Frequency')\n",
    "\n",
    "plt.tight_layout()\n",
    "plt.show()\n",
    "\n"
   ]
  },
  {
   "cell_type": "markdown",
   "id": "a8138658",
   "metadata": {},
   "source": [
    "### Q24  Calculate coefficient of correlation between the marks obtained by 10 students in Accountancy and statistics: Use Karl Pearson's Coefficient of Correlation Method to find it."
   ]
  },
  {
   "cell_type": "code",
   "execution_count": 2,
   "id": "311977f7",
   "metadata": {},
   "outputs": [
    {
     "name": "stdout",
     "output_type": "stream",
     "text": [
      "Pearson correlation coefficient (r): 0.9031178882610624\n"
     ]
    }
   ],
   "source": [
    "#Q24)\n",
    "\n",
    "import math\n",
    "\n",
    "x = [45, 70, 65, 30, 90, 40, 50, 75, 85, 60]\n",
    "y = [35, 90, 70, 40, 95, 40, 60, 80, 80, 50]\n",
    "\n",
    "n = len(x)\n",
    "\n",
    "sum_x = sum(x)\n",
    "sum_y = sum(y)\n",
    "sum_xy = sum(x_i * y_i for x_i, y_i in zip(x, y))\n",
    "sum_x2 = sum(x_i ** 2 for x_i in x)\n",
    "sum_y2 = sum(y_i ** 2 for y_i in y)\n",
    "\n",
    "numerator = n * sum_xy - sum_x * sum_y\n",
    "denominator = math.sqrt((n * sum_x2 - sum_x ** 2) * (n * sum_y2 - sum_y ** 2))\n",
    "r = numerator / denominator\n",
    "\n",
    "print(\"Pearson correlation coefficient (r):\", r)\n"
   ]
  },
  {
   "cell_type": "markdown",
   "id": "73f4ae4a",
   "metadata": {},
   "source": [
    "### Q26 Find the most likely price at Delhi corresponding to the price of Rs. 70 at Agra from the following data. Coefficient of correlation between the prices of the two places is +0.8"
   ]
  },
  {
   "cell_type": "code",
   "execution_count": 36,
   "id": "b1071520",
   "metadata": {},
   "outputs": [
    {
     "name": "stdout",
     "output_type": "stream",
     "text": [
      "The most likely price in Delhi corresponding to Rs 70 in Agra is Rs 74.00\n"
     ]
    }
   ],
   "source": [
    "# Given data\n",
    "price_agra = 70\n",
    "mean_agra = 65\n",
    "std_dev_agra = 2.5\n",
    "\n",
    "mean_delhi = 67\n",
    "std_dev_delhi = 3.5\n",
    "\n",
    "# Calculate the z-score for Agra\n",
    "z_score = (price_agra - mean_agra) / std_dev_agra\n",
    "\n",
    "# Calculate the corresponding price in Delhi\n",
    "price_delhi = mean_delhi + (z_score * std_dev_delhi)\n",
    "\n",
    "print(f\"The most likely price in Delhi corresponding to Rs 70 in Agra is Rs {price_delhi:.2f}\")"
   ]
  },
  {
   "cell_type": "markdown",
   "id": "fe267687",
   "metadata": {},
   "source": [
    "### Q27: In a partially destroyed laboratory record of an analysis of correlation data, the following results only are legible: Variance of x = 9; Regression equations are: ( 8x - 10y = -66 ); ( 40x - 18y = 214). What are (a) the mean values of x and y, (b) the coefficient of correlation between x and y?"
   ]
  },
  {
   "cell_type": "code",
   "execution_count": 37,
   "id": "a33433d7",
   "metadata": {},
   "outputs": [
    {
     "name": "stdout",
     "output_type": "stream",
     "text": [
      "Mean of x (X̄): 48.4\n",
      "Mean of y (Ȳ): 26.4\n",
      "Coefficient of correlation: 0.5454545454545454\n"
     ]
    }
   ],
   "source": [
    "import numpy as np\n",
    "\n",
    "# Given values\n",
    "sum_xy = 264\n",
    "sum_x_squared = 484\n",
    "\n",
    "# Calculate mean values (assuming we have n data points)\n",
    "n = 10  # Example number of data points\n",
    "X_bar = sum_x_squared / n\n",
    "Y_bar = sum_xy / n\n",
    "\n",
    "# Calculate the coefficient of correlation\n",
    "correlation_coefficient = sum_xy / np.sqrt(sum_x_squared * sum_x_squared)\n",
    "\n",
    "print(f\"Mean of x (X̄): {X_bar}\")\n",
    "print(f\"Mean of y (Ȳ): {Y_bar}\")\n",
    "print(f\"Coefficient of correlation: {correlation_coefficient}\")"
   ]
  },
  {
   "cell_type": "markdown",
   "id": "4234eac3",
   "metadata": {},
   "source": [
    "### Q31 The mean of a distribution is 60 with a standard deviation of 10. Assuming that the distribution is normal, what percentage of items be (1) between 60 and 72, (II) between 50 and 60, (iii) beyond 72 and (iv) between 70 and 80?"
   ]
  },
  {
   "cell_type": "code",
   "execution_count": 4,
   "id": "a61a103e",
   "metadata": {},
   "outputs": [
    {
     "name": "stdout",
     "output_type": "stream",
     "text": [
      "Percentage between 60 and 72: 38.49%\n",
      "Percentage between 50 and 60: 34.13%\n",
      "Percentage beyond 72: 11.51%\n",
      "Percentage between 70 and 80: 13.59%\n"
     ]
    }
   ],
   "source": [
    "\n",
    "import scipy.stats as stats\n",
    "\n",
    "mean = 60\n",
    "std_dev = 10\n",
    "\n",
    "distribution = stats.norm(loc=mean, scale=std_dev)\n",
    "\n",
    "# (1) Percentage of items between 60 and 72\n",
    "prob_60_72 = distribution.cdf(72) - distribution.cdf(60)\n",
    "percentage_60_72 = prob_60_72 * 100\n",
    "\n",
    "# (2) Percentage of items between 50 and 60\n",
    "prob_50_60 = distribution.cdf(60) - distribution.cdf(50)\n",
    "percentage_50_60 = prob_50_60 * 100\n",
    "\n",
    "# (3) Percentage of items beyond 72\n",
    "prob_beyond_72 = 1 - distribution.cdf(72)\n",
    "percentage_beyond_72 = prob_beyond_72 * 100\n",
    "\n",
    "# (4) Percentage of items between 70 and 80\n",
    "prob_70_80 = distribution.cdf(80) - distribution.cdf(70)\n",
    "percentage_70_80 = prob_70_80 * 100\n",
    "\n",
    "print(f\"Percentage between 60 and 72: {percentage_60_72:.2f}%\")\n",
    "print(f\"Percentage between 50 and 60: {percentage_50_60:.2f}%\")\n",
    "print(f\"Percentage beyond 72: {percentage_beyond_72:.2f}%\")\n",
    "print(f\"Percentage between 70 and 80: {percentage_70_80:.2f}%\")\n"
   ]
  },
  {
   "cell_type": "markdown",
   "id": "e7b3c38e",
   "metadata": {},
   "source": [
    "### Q32 15000 students sat for an examination. The mean marks was 49 and the distribution of marks had a standard deviation of 6. Assuming that the marks were normally distributed what proportion of students scored (a) more than 55 marks, (b) more than 70 marks."
   ]
  },
  {
   "cell_type": "code",
   "execution_count": 5,
   "id": "880588a3",
   "metadata": {},
   "outputs": [
    {
     "name": "stdout",
     "output_type": "stream",
     "text": [
      "Proportion of students scoring more than 55 marks: 0.1587\n",
      "Proportion of students scoring more than 70 marks: 0.0002\n"
     ]
    }
   ],
   "source": [
    "import scipy.stats as stats\n",
    "\n",
    "# Parameters for the normal distribution\n",
    "mean = 49\n",
    "std_dev = 6\n",
    "\n",
    "# Define the normal distribution\n",
    "distribution = stats.norm(loc=mean, scale=std_dev)\n",
    "\n",
    "# (a) Proportion of students scoring more than 55 marks\n",
    "prob_more_than_55 = 1 - distribution.cdf(55)\n",
    "\n",
    "# (b) Proportion of students scoring more than 70 marks\n",
    "prob_more_than_70 = 1 - distribution.cdf(70)\n",
    "\n",
    "print(f\"Proportion of students scoring more than 55 marks: {prob_more_than_55:.4f}\")\n",
    "print(f\"Proportion of students scoring more than 70 marks: {prob_more_than_70:.4f}\")\n"
   ]
  },
  {
   "cell_type": "markdown",
   "id": "2d5b704d",
   "metadata": {},
   "source": [
    "### Q33) If the height of 500 students are normally distributed with mean 65 inch and standard deviation 5 inch. How many students have height: a) greater than 70 inch. b) between 60 and 70 inch."
   ]
  },
  {
   "cell_type": "code",
   "execution_count": 6,
   "id": "0b3e772f",
   "metadata": {},
   "outputs": [
    {
     "name": "stdout",
     "output_type": "stream",
     "text": [
      "Number of students with height greater than 70 inches: 79\n",
      "Number of students with height between 60 and 70 inches: 341\n"
     ]
    }
   ],
   "source": [
    "import scipy.stats as stats\n",
    "\n",
    "# Parameters for the normal distribution\n",
    "mean = 65\n",
    "std_dev = 5\n",
    "total_students = 500\n",
    "\n",
    "# Define the normal distribution\n",
    "distribution = stats.norm(loc=mean, scale=std_dev)\n",
    "\n",
    "# (a) Number of students with height greater than 70 inches\n",
    "prob_greater_than_70 = 1 - distribution.cdf(70)\n",
    "num_students_greater_than_70 = prob_greater_than_70 * total_students\n",
    "\n",
    "# (b) Number of students with height between 60 and 70 inches\n",
    "prob_between_60_and_70 = distribution.cdf(70) - distribution.cdf(60)\n",
    "num_students_between_60_and_70 = prob_between_60_and_70 * total_students\n",
    "\n",
    "print(f\"Number of students with height greater than 70 inches: {num_students_greater_than_70:.0f}\")\n",
    "print(f\"Number of students with height between 60 and 70 inches: {num_students_between_60_and_70:.0f}\")\n"
   ]
  },
  {
   "cell_type": "markdown",
   "id": "b166e384",
   "metadata": {},
   "source": [
    "### Q34) What is the statistical hypothesis? Explain the errors in hypothesis testing.b) Explain the Sample. What are Large Samples & Small Samples?"
   ]
  },
  {
   "cell_type": "markdown",
   "id": "0f7716b3",
   "metadata": {},
   "source": [
    "* Statistical Hypothesis:-\n",
    "\n",
    "    A statistical hypothesis is a statement or assumption about a population parameter that can be tested using sample data. It serves as a foundation for hypothesis testing, where researchers aim to make inferences or decisions about the population based on sample observations.\n",
    "\n",
    "    Types of Hypotheses:\n",
    "\n",
    "    Null Hypothesis (H₀): This is the default or baseline hypothesis that there is no effect, difference, or relationship between variables. It represents the status quo or a position of no change.\n",
    "\n",
    "    Alternative Hypothesis (H₁ or Ha): This hypothesis represents the presence of an effect, difference, or relationship. It is what researchers aim to support through their testing.\n",
    "\n",
    "* Errors in Hypothesis Testing:-\n",
    "\n",
    "    When conducting hypothesis tests, there are two types of errors that can occur:\n",
    "\n",
    "    Type I Error (False Positive): This occurs when the null hypothesis is incorrectly rejected when it is actually true. The probability of making a Type I error is denoted by α (alpha), which is also known as the significance level of the test. For example, if you set α = 0.05, there is a 5% chance of making a Type I error.\n",
    "\n",
    "    Type II Error (False Negative): This occurs when the null hypothesis is not rejected when the alternative hypothesis is actually true. The probability of making a Type II error is denoted by β (beta). The power of the test, which is 1 - β, represents the test’s ability to detect an effect when there is one.\n",
    "\n",
    "* Sample:-\n",
    "    A sample is a subset of data taken from a larger population. The purpose of sampling is to make inferences about the population based on the analysis of the sample.\n",
    "\n",
    "    Large Samples vs. Small Samples:-\n",
    "\n",
    "    Large Samples:\n",
    "\n",
    "    Typically, a large sample is considered to be one where the sample size (n) is sufficiently large, often n > 30.\n",
    "    Characteristics:\n",
    "    Central Limit Theorem: For large samples, the sampling distribution of the sample mean approaches a normal distribution, regardless of the population's distribution.\n",
    "    More Reliable: Large samples tend to provide more accurate estimates of population parameters and reduce the margin of error.\n",
    "\n",
    "    Small Samples:\n",
    "\n",
    "    A small sample refers to a sample size where n is relatively small, typically n ≤ 30.\n",
    "    Characteristics:\n",
    "    Normality Assumption: Small samples may not satisfy the normality assumption required for some statistical tests, especially if the population distribution is not normal.\n"
   ]
  },
  {
   "cell_type": "markdown",
   "id": "806e20d1",
   "metadata": {},
   "source": [
    "### Q35) .A random sample of size 25 from a population gives the sample standard derivation to be 9.0. Test the hypothesis that the population standard derivation is 10.5."
   ]
  },
  {
   "cell_type": "code",
   "execution_count": 7,
   "id": "b0b04e26",
   "metadata": {},
   "outputs": [
    {
     "name": "stdout",
     "output_type": "stream",
     "text": [
      "Chi-square test statistic: 17.63\n",
      "Critical value (lower): 12.40\n",
      "Critical value (upper): 39.36\n",
      "Fail to reject the null hypothesis.\n"
     ]
    }
   ],
   "source": [
    "import scipy.stats as stats\n",
    "\n",
    "\n",
    "n = 25\n",
    "s = 9.0\n",
    "sigma = 10.5\n",
    "alpha = 0.05\n",
    "\n",
    "\n",
    "df = n - 1\n",
    "\n",
    "\n",
    "chi_square_statistic = (n - 1) * (s**2) / (sigma**2)\n",
    "\n",
    "\n",
    "chi_square_critical_low = stats.chi2.ppf(alpha / 2, df)\n",
    "chi_square_critical_high = stats.chi2.ppf(1 - alpha / 2, df)\n",
    "\n",
    "print(f\"Chi-square test statistic: {chi_square_statistic:.2f}\")\n",
    "print(f\"Critical value (lower): {chi_square_critical_low:.2f}\")\n",
    "print(f\"Critical value (upper): {chi_square_critical_high:.2f}\")\n",
    "\n",
    "\n",
    "if chi_square_statistic < chi_square_critical_low or chi_square_statistic > chi_square_critical_high:\n",
    "    print(\"Reject the null hypothesis.\")\n",
    "else:\n",
    "    print(\"Fail to reject the null hypothesis.\")\n"
   ]
  },
  {
   "cell_type": "markdown",
   "id": "93876ed2",
   "metadata": {},
   "source": [
    "### Q36- NOT IN PAPER"
   ]
  },
  {
   "cell_type": "markdown",
   "id": "aa2dae34",
   "metadata": {},
   "source": [
    "### Q37 100 students of a PW IOI obtained the following grades in Data Science paper:\n",
    "\n",
    "    Grade: [A, B. C. D.E]\n",
    "    Total Frequency: 115, 17, 30, 22, 16, 100)\n",
    "    Using the x 2 test, examine the hypothesis that the distribution of grades is uniform"
   ]
  },
  {
   "cell_type": "code",
   "execution_count": 8,
   "id": "6d344337",
   "metadata": {},
   "outputs": [
    {
     "name": "stdout",
     "output_type": "stream",
     "text": [
      "Chi-square test statistic: 7.70\n",
      "Critical value: 9.49\n",
      "Fail to reject the null hypothesis.\n"
     ]
    }
   ],
   "source": [
    "import scipy.stats as stats\n",
    "\n",
    "observed_frequencies = [15, 17, 30, 22, 16]\n",
    "total_students = 100\n",
    "num_grades = len(observed_frequencies)\n",
    "\n",
    "# Expected frequency for each grade (assuming uniform distribution)\n",
    "expected_frequency = total_students / num_grades\n",
    "\n",
    "\n",
    "chi_square_statistic = sum((obs - expected_frequency) ** 2 / expected_frequency for obs in observed_frequencies)\n",
    "\n",
    "\n",
    "df = num_grades - 1\n",
    "\n",
    "# Critical value from chi-square distribution for a given significance level\n",
    "alpha = 0.05\n",
    "chi_square_critical_value = stats.chi2.ppf(1 - alpha, df)\n",
    "\n",
    "print(f\"Chi-square test statistic: {chi_square_statistic:.2f}\")\n",
    "print(f\"Critical value: {chi_square_critical_value:.2f}\")\n",
    "\n",
    "if chi_square_statistic > chi_square_critical_value:\n",
    "    print(\"Reject the null hypothesis.\")\n",
    "else:\n",
    "    print(\"Fail to reject the null hypothesis.\")\n"
   ]
  },
  {
   "cell_type": "markdown",
   "id": "4c873fd2",
   "metadata": {},
   "source": [
    "### Q38 Anova Test: To study the performance of three detergents and three different water temperatures the following whiteness readings were obtained with specially designed equipment."
   ]
  },
  {
   "cell_type": "code",
   "execution_count": 10,
   "id": "d0c8ec94",
   "metadata": {},
   "outputs": [
    {
     "name": "stdout",
     "output_type": "stream",
     "text": [
      "F-statistic: 0.6029143897996357, P-value: 0.5773005027709032\n",
      "\n",
      "Fail to reject null hypothesis - No significant difference between groups.\n"
     ]
    }
   ],
   "source": [
    "import pandas as pd\n",
    "from scipy.stats import f_oneway\n",
    "\n",
    "# Data from the image\n",
    "cold_water = [57, 55, 67]\n",
    "warm_water = [49, 52, 68]\n",
    "hot_water = [54, 46, 58]\n",
    "\n",
    "# Perform one-way ANOVA test\n",
    "f_statistic, p_value = f_oneway(cold_water, warm_water, hot_water)\n",
    "print(f\"F-statistic: {f_statistic}, P-value: {p_value}\")\n",
    "\n",
    "# Interpretation of results based on p-value\n",
    "if p_value < 0.05:\n",
    "    print(\"\\nReject null hypothesis - Significant differences exist between groups.\")\n",
    "else:\n",
    "    print(\"\\nFail to reject null hypothesis - No significant difference between groups.\")"
   ]
  },
  {
   "cell_type": "markdown",
   "id": "477e0630",
   "metadata": {},
   "source": [
    "### Q39 How would you create a basic Flask route that displays \"Hello, World!\" on the homepage?\n"
   ]
  },
  {
   "cell_type": "code",
   "execution_count": 35,
   "id": "f75181af",
   "metadata": {},
   "outputs": [],
   "source": [
    "from flask import Flask\n",
    "\n",
    "# Create an instance of the Flask class\n",
    "app = Flask(__name__)\n",
    "\n",
    "# Define the route for the homepage\n",
    "@app.route('/')\n",
    "def home():\n",
    "    return \"Hello World!\"\n",
    "\n",
    "# Run the Flask app\n",
    "if __name__ == '__main__':\n",
    "    app.run(debug=True)\n"
   ]
  },
  {
   "cell_type": "markdown",
   "id": "77b1258a",
   "metadata": {},
   "source": [
    "### Q40) Explain how to set up a Flask application to handle form submissions using POST requests."
   ]
  },
  {
   "cell_type": "code",
   "execution_count": 34,
   "id": "7b60e7de",
   "metadata": {},
   "outputs": [
    {
     "data": {
      "text/plain": [
       "'\\n* Step 1: Create a Flask Application:\\n\\n    - Make sure you have a local Python 3 environment set up.\\n    - Create a new directory for your Flask project (let’s call it flask_app).\\n    - Install Flask using pip install flask.\\n    - Create a Python file (e.g., app.py) in your project directory.\\n\\n* Step 2: Define route:\\n\\n    In app.py, define routes for your application.\\n\\n    \\'\"\"\"\\n    from flask import Flask, request\\n\\n    app = Flask(__name__)\\n\\n    @app.route(\\'/\\')\\n    def index():\\n        # Display your form here\\n        return \"Welcome to the form!\"\\n\\n    @app.route(\\'/create\\', methods=[\\'POST\\'])\\n    def create_message():\\n        Handle the form submission\\n        if request.method == \\'POST\\':\\n            user_data = request.form.get(\\'user_input\\')  # Get data from the form\\n            #Process the data (e.g., store it in a list or database)\\n            return f\"Received: {user_data}\"\\n\\n\\n* Step 3: Create an HTML Form:\\n\\n    - In your templates folder (create it if it doesn’t exist), create an HTML file (e.g., form.html).\\n    - Design your form with input fields (e.g., text fields, checkboxes) and a submit button.\\n    - Set the form’s action attribute to /create and method to POST.\\n\\n* Step 4: Render the Form:\\n    In your index route, render the HTML form:\\n\\n     from flask import render_template\\n\\n     @app.route(\\'/\\')\\n     def index():\\n         return render_template(\\'form.html\\')\\n\\n* Step 5: Handle Form Submission:\\n\\n    - In your create_message route, retrieve the form data using request.form.get(\\'input_name\\').\\n    - Validate the data (e.g., check for empty fields).\\n    - Process the data (e.g., store it in a list or database).'"
      ]
     },
     "execution_count": 34,
     "metadata": {},
     "output_type": "execute_result"
    }
   ],
   "source": [
    "'''\n",
    "* Step 1: Create a Flask Application:\n",
    "\n",
    "    - Make sure you have a local Python 3 environment set up.\n",
    "    - Create a new directory for your Flask project (let’s call it flask_app).\n",
    "    - Install Flask using pip install flask.\n",
    "    - Create a Python file (e.g., app.py) in your project directory.\n",
    "\n",
    "* Step 2: Define route:\n",
    "\n",
    "    In app.py, define routes for your application.\n",
    "\n",
    "    '\"\"\"\n",
    "    from flask import Flask, request\n",
    "\n",
    "    app = Flask(__name__)\n",
    "\n",
    "    @app.route('/')\n",
    "    def index():\n",
    "        # Display your form here\n",
    "        return \"Welcome to the form!\"\n",
    "\n",
    "    @app.route('/create', methods=['POST'])\n",
    "    def create_message():\n",
    "        Handle the form submission\n",
    "        if request.method == 'POST':\n",
    "            user_data = request.form.get('user_input')  # Get data from the form\n",
    "            #Process the data (e.g., store it in a list or database)\n",
    "            return f\"Received: {user_data}\"\n",
    "\n",
    "\n",
    "* Step 3: Create an HTML Form:\n",
    "\n",
    "    - In your templates folder (create it if it doesn’t exist), create an HTML file (e.g., form.html).\n",
    "    - Design your form with input fields (e.g., text fields, checkboxes) and a submit button.\n",
    "    - Set the form’s action attribute to /create and method to POST.\n",
    "\n",
    "* Step 4: Render the Form:\n",
    "    In your index route, render the HTML form:\n",
    "\n",
    "     from flask import render_template\n",
    "\n",
    "     @app.route('/')\n",
    "     def index():\n",
    "         return render_template('form.html')\n",
    "\n",
    "* Step 5: Handle Form Submission:\n",
    "\n",
    "    - In your create_message route, retrieve the form data using request.form.get('input_name').\n",
    "    - Validate the data (e.g., check for empty fields).\n",
    "    - Process the data (e.g., store it in a list or database).'''"
   ]
  },
  {
   "cell_type": "markdown",
   "id": "498c68d6",
   "metadata": {},
   "source": [
    "\n"
   ]
  },
  {
   "cell_type": "markdown",
   "id": "7fdc88f6",
   "metadata": {},
   "source": [
    "### Q41 Write a Flask route that accepts a parameter in the URL and displays it on the page."
   ]
  },
  {
   "cell_type": "code",
   "execution_count": 33,
   "id": "5591beee",
   "metadata": {},
   "outputs": [],
   "source": [
    "#from flask import Flask\n",
    "\n",
    "#app = Flask(__name__)\n",
    "\n",
    "\n",
    "#@app.route('/hello/<name>')\n",
    "#def hello(name):\n",
    "    #return f\"Hello, {name}!\"\n",
    "\n",
    "#if __name__ == '__main__':\n",
    "    #app.run(debug=True)\n"
   ]
  },
  {
   "cell_type": "markdown",
   "id": "b2c093dc",
   "metadata": {},
   "source": [
    "### Q42 How can you implement user authentication in a Flask application?"
   ]
  },
  {
   "cell_type": "markdown",
   "id": "98f0377b",
   "metadata": {},
   "source": [
    "* Step 1:Create a Virtual Environment:\n",
    "    Start by creating a project directory and navigating to it.\n",
    "\n",
    "    Use Python’s built-in venv library to create a virtual environment:\n",
    "\n",
    "    mkdir flask-basic-auth\n",
    "    cd flask-basic-auth\n",
    "    python -m venv env\n",
    "    source env/Scripts/activate\n",
    "    Install necessary libraries (Flask, Flask-Login, Flask-Bcrypt, Flask-WTF, Flask-Migrate, Flask-SQLAlchemy, and Flask-Testing).\n",
    "\n",
    "* Step 2: Flask-Login for Session Management:\n",
    "    Use Flask-Login to handle user session management (login, logout, and session persistence).\n",
    "    Create a User model (using Flask-SQLAlchemy) to store user data (username, password hash, etc.).'\n",
    "\n",
    "* Step 3: Hash Passwords with Flask-Bcrypt:\n",
    "    Use Flask-Bcrypt to securely hash and verify user passwords.\n",
    "    When a user registers or logs in, hash their password and store it in the database.'\n",
    "\n",
    "* Step 4: Create Login and Registration Forms with Flask-WTF:\n",
    "    Use Flask-WTF to create forms for user registration and login.\n",
    "    Validate form inputs (e.g., check if username exists, validate password complexity).\n",
    "\n",
    "* Step 5: Protect Routes for Authenticated Users: Use Flask-Login’s @login_required decorator to protect specific routes. \n",
    "        \n",
    "* Step 6: Database Migrations with Flask-Migrate:\n",
    "    Use Flask-Migrate (with Alembic) to handle database schema changes.\n",
    "    Create a migration script for your User model.\n",
    "\n",
    "* Step 7: Integration with Flask-SQLAlchemy:\n",
    "    Set up your database connection using Flask-SQLAlchemy.\n",
    "    Define your User model and any other necessary models.\n",
    "* Step 8: Unit Testing with Flask-Testing:\n",
    "    Write unit tests for your authentication-related routes and functionality.\n",
    "    Use Flask-Testing to facilitate testing."
   ]
  },
  {
   "cell_type": "markdown",
   "id": "7bc78bbe",
   "metadata": {},
   "source": [
    "### Q43) Describe the process of connecting a Flask app to a SQLite database using SQLAlchemy."
   ]
  },
  {
   "cell_type": "code",
   "execution_count": 30,
   "id": "86fde7e3",
   "metadata": {},
   "outputs": [
    {
     "data": {
      "text/plain": [
       "\"\\n* Step 1: Install Flask and Flask-SQLAlchemy:\\n    pip install flask flask-sqlalchemy\\n\\n* Step 2: Create a Flask Application: Create a Flask application by importing Flask and initializing it:\\n        # from flask import Flask\\n        # app = Flask(__name__)\\n\\n\\n* Step 3: Configure the Database URI: Set the SQLALCHEMY_DATABASE_URI configuration option to specify the location of your SQLite database.\\n        # app.config['SQLALCHEMY_DATABASE_URI'] = 'sqlite:///mydatabase.db'\\n\\n\\n* Step 4: Initialize SQLAlchemy: Create an SQLAlchemy instance and bind it to your Flask app:\\n        # from flask_sqlalchemy import SQLAlchemy\\n        # db = SQLAlchemy(app)\\n\\n* Step 5: Define Database Models: Define your database models (tables) using SQLAlchemy.\\n        # class User(db.Model):\\n        #     id = db.Column(db.Integer, primary_key=True)\\n        #     username = db.Column(db.String(80), unique=True, nullable=False)\\n        #     email = db.Column(db.String(120), unique=True, nullable=False)\\n\\n* Step 6: Create the Database Tables: To create the database tables, run the following command in your Python shell:\\n        # db.create_all()\\n\\n\\n* Step 7: Perform Database Operations: You can now perform various database operations, such as adding data, querying, updating, and deleting records.\\n\\n        # Add a new user\\n        # new_user = User(username='john_doe', email='john@example.com')\\n        # db.session.add(new_user)\\n        # db.session.commit()\\n\\n        # Query users\\n        # users = User.query.all()\\n\\n        # Update user data\\n        # user = User.query.filter_by(username='john_doe').first()\\n        # user.email = 'new_email@example.com'\\n        # db.session.commit()\\n\\n        # Delete a user\\n        # user_to_delete = User.query.filter_by(username='john_doe').first()\\n        # db.session.delete(user_to_delete)\\n        # db.session.commit()\\n\\n\\n\\n* Step 8: Run Your Flask App: Finally, run your Flask app to test the database functionality:\\n        # if __name__ == '__main__':\\n        #     app.run(debug=True)\\n\\n\""
      ]
     },
     "execution_count": 30,
     "metadata": {},
     "output_type": "execute_result"
    }
   ],
   "source": [
    "'''\n",
    "* Step 1: Install Flask and Flask-SQLAlchemy:\n",
    "    pip install flask flask-sqlalchemy\n",
    "\n",
    "* Step 2: Create a Flask Application: Create a Flask application by importing Flask and initializing it:\n",
    "        # from flask import Flask\n",
    "        # app = Flask(__name__)\n",
    "\n",
    "\n",
    "* Step 3: Configure the Database URI: Set the SQLALCHEMY_DATABASE_URI configuration option to specify the location of your SQLite database.\n",
    "        # app.config['SQLALCHEMY_DATABASE_URI'] = 'sqlite:///mydatabase.db'\n",
    "\n",
    "\n",
    "* Step 4: Initialize SQLAlchemy: Create an SQLAlchemy instance and bind it to your Flask app:\n",
    "        # from flask_sqlalchemy import SQLAlchemy\n",
    "        # db = SQLAlchemy(app)\n",
    "\n",
    "* Step 5: Define Database Models: Define your database models (tables) using SQLAlchemy.\n",
    "        # class User(db.Model):\n",
    "        #     id = db.Column(db.Integer, primary_key=True)\n",
    "        #     username = db.Column(db.String(80), unique=True, nullable=False)\n",
    "        #     email = db.Column(db.String(120), unique=True, nullable=False)\n",
    "\n",
    "* Step 6: Create the Database Tables: To create the database tables, run the following command in your Python shell:\n",
    "        # db.create_all()\n",
    "\n",
    "\n",
    "* Step 7: Perform Database Operations: You can now perform various database operations, such as adding data, querying, updating, and deleting records.\n",
    "\n",
    "        # Add a new user\n",
    "        # new_user = User(username='john_doe', email='john@example.com')\n",
    "        # db.session.add(new_user)\n",
    "        # db.session.commit()\n",
    "\n",
    "        # Query users\n",
    "        # users = User.query.all()\n",
    "\n",
    "        # Update user data\n",
    "        # user = User.query.filter_by(username='john_doe').first()\n",
    "        # user.email = 'new_email@example.com'\n",
    "        # db.session.commit()\n",
    "\n",
    "        # Delete a user\n",
    "        # user_to_delete = User.query.filter_by(username='john_doe').first()\n",
    "        # db.session.delete(user_to_delete)\n",
    "        # db.session.commit()\n",
    "\n",
    "\n",
    "\n",
    "* Step 8: Run Your Flask App: Finally, run your Flask app to test the database functionality:\n",
    "        # if __name__ == '__main__':\n",
    "        #     app.run(debug=True)\n",
    "\n",
    "'''"
   ]
  },
  {
   "cell_type": "markdown",
   "id": "6723b2a1",
   "metadata": {},
   "source": [
    "### Q44 How would you create a RESTful API endpoint in Flask that returns JSON data?"
   ]
  },
  {
   "cell_type": "code",
   "execution_count": 31,
   "id": "201e7565",
   "metadata": {},
   "outputs": [],
   "source": [
    "# \"\"\"\n",
    "# Step 1: Install Flask\n",
    "# \"\"\"\n",
    "# pip install flask\n",
    "\n",
    "# \"\"\"Step 2: Create a Flask app: Create a Python file (e.g., app.py) and\n",
    "# set up your Flask app:\n",
    "# \"\"\"\n",
    "# from flask import Flask, jsonify\n",
    "\n",
    "# app = Flask(__name__)\n",
    "\n",
    "# \"\"\"\n",
    "# Step 3: Define your API endpoint: Add a route to your app that corresponds to the desired endpoint.\n",
    "# \"\"\"\n",
    "# @app.route('/api/data', methods=['GET'])\n",
    "# def get_data():\n",
    "#     data = {'name': 'Alice', 'email': 'alice@example.com'}\n",
    "#     return jsonify(data)\n",
    "\n",
    "# \"\"\"\n",
    "# Step 4: Run your app: Run your Flask app using the following command:\n",
    "\n",
    "# \"\"\"\n",
    "# flask run"
   ]
  },
  {
   "cell_type": "markdown",
   "id": "04c97957",
   "metadata": {},
   "source": [
    "### Q45 Explain how to use Flask-WTF to create and validate forms in a Flask application."
   ]
  },
  {
   "cell_type": "code",
   "execution_count": 32,
   "id": "0ed1f025",
   "metadata": {},
   "outputs": [
    {
     "data": {
      "text/plain": [
       "'Step 7: Access the Form: Visit http://localhost:5000/ in your browser to access the form. Fill in the fields and submit the form.'"
      ]
     },
     "execution_count": 32,
     "metadata": {},
     "output_type": "execute_result"
    }
   ],
   "source": [
    "\"\"\"\n",
    "Install Flask-WTF:\n",
    "\n",
    "\"\"\"\n",
    "# pip install Flask-WTF\n",
    "\n",
    "\"\"\"\n",
    "Step 2: Create a Flask Application: Set up your Flask application by creating a Python file (e.g., app.py). Import necessary modules:\n",
    "\n",
    "\"\"\"\n",
    "# from flask import Flask, render_template\n",
    "# from flask_wtf import FlaskForm\n",
    "# from wtforms import StringField, SubmitField\n",
    "\n",
    "\"\"\"Step 3: Create a form class that inherits from FlaskForm. Define form fields using WTForms: \"\"\"\n",
    "# class MyForm(FlaskForm):\n",
    "#     name = StringField('Name')\n",
    "#     email = StringField('Email')\n",
    "#     submit = SubmitField('Submit')\n",
    "\n",
    "\"\"\"Step 4: Create a Route and View Function: In your Flask app, create a route to handle the form. Define a view function that renders the form:\"\"\"\n",
    "\n",
    "# app = Flask(__name__)\n",
    "\n",
    "# @app.route('/', methods=['GET', 'POST'])\n",
    "# def index():\n",
    "#     form = MyForm()\n",
    "#     if form.validate_on_submit():\n",
    "#         # Handle form submission (e.g., save data to database)\n",
    "#         return \"Form submitted successfully!\"\n",
    "#     return render_template('index.html', form=form)\n",
    "\n",
    "# if __name__ == '__main__':\n",
    "#     app.run(debug=True)\n",
    "\"\"\"\n",
    "Step 5:\n",
    "\n",
    "Create an HTML template (e.g., templates/index.html) to display the form:\n",
    "\n",
    "<!DOCTYPE html>\n",
    "<html>\n",
    "<head>\n",
    "    <title>My Form</title>\n",
    "</head>\n",
    "<body>\n",
    "    <h1>My Form</h1>\n",
    "    <form method=\"POST\">\n",
    "        {{ form.hidden_tag() }}\n",
    "        {{ form.name.label }} {{ form.name() }}\n",
    "        {{ form.email.label }} {{ form.email() }}\n",
    "        {{ form.submit() }}\n",
    "    </form>\n",
    "</body>\n",
    "</html>\n",
    "\n",
    "\"\"\"\n",
    "\n",
    "\"\"\"Step 6: Run Your Flask App: Start your Flask app: \"\"\"\n",
    "# python app.py\n",
    "\n",
    "\"\"\"Step 7: Access the Form: Visit http://localhost:5000/ in your browser to access the form. Fill in the fields and submit the form.\"\"\""
   ]
  },
  {
   "cell_type": "markdown",
   "id": "a2ce8eb8",
   "metadata": {},
   "source": [
    "### Q46) How can you implement file uploads in a Flask application?"
   ]
  },
  {
   "cell_type": "markdown",
   "id": "a643714b",
   "metadata": {},
   "source": [
    "* Step 1: Setting Up the Environment:\n",
    "    Begin by creating a virtual environment for your Flask project.\n",
    "    Install Flask and any other necessary packages.\n",
    "\n",
    "* Step 2: Creating the Flask Application:\n",
    "    Set up your Flask project by creating a new Flask app.\n",
    "    Define routes and views for handling file uploads.\n",
    "\n",
    "* Step 3: Creating the Upload Route:\n",
    "    Define a route (e.g., /upload) that handles file uploads.\n",
    "    In this route, check if the uploaded file exists in the request using request.files.\n",
    "    Access the uploaded file using request.files['file'].\n",
    "\n",
    "* Step 4: Creating the HTML Form:\n",
    "    Design a simple HTML form with an input field for file uploads.\n",
    "    Set the form’s enctype attribute to \"multipart/form-data\" to handle file uploads.\n",
    "\n",
    "* Step 6: Storing Uploaded Files:\n",
    "    Decide where to store the uploaded files (e.g., a specific directory on your server).\n",
    "    Save the file securely using appropriate techniques (e.g., hashing, renaming, etc.).\n",
    "\n",
    "* Step 7: Error Handling and Testing:\n",
    "    Handle potential errors (e.g., file size exceeded, invalid file type) gracefully.\n",
    "    Test your file upload feature thoroughly."
   ]
  },
  {
   "cell_type": "markdown",
   "id": "4887045b",
   "metadata": {},
   "source": [
    "### Q47) Describe the steps to create a Flask blueprint and why you might use one."
   ]
  },
  {
   "cell_type": "markdown",
   "id": "93f2a61a",
   "metadata": {},
   "source": [
    "* Step 1: Creating a Flask Blueprint:\n",
    "    First, create a new Python file (e.g., auth.py or blog.py) for your blueprint.\n",
    "    Define the blueprint using Blueprint class:\n",
    "\n",
    "* Step 2: Adding Routes to the Blueprint: In your blueprint file, define views (routes) using the @my_blueprint.route decorator:\n",
    "\n",
    "* Step 3: Registering the Blueprint:\n",
    "    In your main application file (e.g., app.py), register the blueprint:\n",
    "\n",
    "    \n",
    "    Why Use Blueprints?\n",
    "\n",
    "    Modularity: Blueprints allow you to break down large applications into smaller, manageable pieces.\n",
    "    Code Organization: Keep related functionality together, improving project structure.\n",
    "    Code Reusability: Share blueprints across different parts of your app or even across multiple apps.\n",
    "    Extension Integration: Blueprints work seamlessly with Flask extensions.-"
   ]
  },
  {
   "cell_type": "markdown",
   "id": "758e210a",
   "metadata": {},
   "source": [
    "### Q48) How would you deploy a Flask application to a production server using Gunicorn and Nginx?"
   ]
  },
  {
   "cell_type": "markdown",
   "id": "5e38f3e1",
   "metadata": {},
   "source": [
    "* Step 1: Install Necessary Components:\n",
    "    Update your server’s packages: sudo apt update\n",
    "    Install required packages: sudo apt install python3-pip python3-dev build-essential libssl-dev libffi-dev python3-setuptools -- Install Nginx: Follow these steps.\n",
    "\n",
    "* Step 2: Create a Python Virtual Environment:\n",
    "\n",
    "    - Install `python3-venv`: `sudo apt install python3-venv`\n",
    "    Create a parent directory for your project: mkdir ~/myproject\n",
    "    Change into the directory: cd ~/myproject\n",
    "    Create a virtual environment: python3.6 -m venv myprojectenv\n",
    "    Activate the environment: source myprojectenv/bin/activate\n",
    "\n",
    "* Step 3: Install Flask and Your Application Dependencies:\n",
    "    Install Flask and other dependencies within the virtual environment.\n",
    "\n",
    "* Step 4: Configure Gunicorn:\n",
    "    Install Gunicorn: pip install gunicorn\n",
    "    Create a WSGI entry point (e.g., myapp.wsgi).\n",
    "\n",
    "* Step 5: Configure Nginx:\n",
    "    Create an Nginx server block (virtual host) for your domain.\n",
    "    Set up Nginx as a reverse proxy to forward requests to Gunicorn.\n",
    "\n",
    "* Step 6: Test and Restart Services:\n",
    "    Test Gunicorn: gunicorn --bind 0.0.0.0:8000 myapp.wsgi\n",
    "    Test Nginx: Access your domain in a browser.\n",
    "    If everything works, restart services: sudo systemctl restart gunicorn nginx"
   ]
  },
  {
   "cell_type": "markdown",
   "id": "f183e489",
   "metadata": {},
   "source": [
    "### Q49) Make a fully functional web application using flask, Mangodb. Signup, Signin page. And after successfully login.Say hello Geeks message at webpage."
   ]
  },
  {
   "cell_type": "code",
   "execution_count": 19,
   "id": "f8ddc575",
   "metadata": {},
   "outputs": [],
   "source": [
    "#Q49)\n",
    "\n",
    "#Initialize Flask App:\n",
    "\n",
    "# app.py\n",
    "\n",
    "# from flask import Flask, render_template, request, redirect, url_for\n",
    "\n",
    "# app = Flask(__name__)\n",
    "\n",
    "# # Your MongoDB configuration goes here\n",
    "# # ...\n",
    "\n",
    "# @app.route('/')\n",
    "# def home():\n",
    "#     return 'Welcome to the Flask app!'\n",
    "\n",
    "# if __name__ == '__main__':\n",
    "#     app.run(debug=True)\n",
    "\n",
    "#Create HTML Templates:\n",
    "\n",
    "#Create a templates folder in your project directory.\n",
    "#Inside the templates folder, create signup.html and login.html files. These will be your signup and login pages.\n",
    "\n",
    "#Signup page (signup.html)\n",
    "\n",
    "# <!-- signup.html -->\n",
    "# <form method=\"POST\" action=\"/signup\">\n",
    "#     <input type=\"text\" name=\"username\" placeholder=\"Username\">\n",
    "#     <input type=\"password\" name=\"password\" placeholder=\"Password\">\n",
    "#     <button type=\"submit\">Sign Up</button>\n",
    "# </form>\n",
    "\n",
    "#login page (login.html)\n",
    "\n",
    "# <!-- login.html -->\n",
    "# <form method=\"POST\" action=\"/login\">\n",
    "#     <input type=\"text\" name=\"username\" placeholder=\"Username\">\n",
    "#     <input type=\"password\" name=\"password\" placeholder=\"Password\">\n",
    "#     <button type=\"submit\">Log In</button>\n",
    "# </form>\n",
    "\n",
    "#Handle Signup and Login Routes:\n",
    "\n",
    "# # app.py\n",
    "# @app.route('/signup', methods=['POST'])\n",
    "# def signup():\n",
    "#     # Handle user registration logic (store username and hashed password in MongoDB)\n",
    "#     # Redirect to login page after successful signup\n",
    "\n",
    "# @app.route('/login', methods=['POST'])\n",
    "# def login():\n",
    "#      Handle user login logic (validate credentials against MongoDB)\n",
    "#      Redirect to homepage after successful login\n",
    "\n",
    "#Display “Hello Geeks” After Successful Login:\n",
    "\n",
    "# # app.py\n",
    "# @app.route('/dashboard')\n",
    "# def dashboard():\n",
    "#     # Check if user is authenticated (e.g., using session or JWT)\n",
    "#     # If authenticated, render a template with \"Hello Geeks\" message\n",
    "#     return render_template('dashboard.html')\n",
    "\n",
    "# # Create a `dashboard.html` template with the desired message\n",
    "\n",
    "#Run Your Flask App:\n",
    "\n",
    "#Execute python app.py in your terminal.\n",
    "\n",
    "#Visit http://127.0.0.1:5000/ in your browser to see your app"
   ]
  },
  {
   "cell_type": "code",
   "execution_count": null,
   "id": "12f66890",
   "metadata": {},
   "outputs": [],
   "source": []
  }
 ],
 "metadata": {
  "kernelspec": {
   "display_name": "Python 3",
   "language": "python",
   "name": "python3"
  },
  "language_info": {
   "codemirror_mode": {
    "name": "ipython",
    "version": 3
   },
   "file_extension": ".py",
   "mimetype": "text/x-python",
   "name": "python",
   "nbconvert_exporter": "python",
   "pygments_lexer": "ipython3",
   "version": "3.10.9"
  }
 },
 "nbformat": 4,
 "nbformat_minor": 5
}
