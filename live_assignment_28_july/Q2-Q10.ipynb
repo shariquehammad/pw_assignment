{
 "cells": [
  {
   "cell_type": "markdown",
   "metadata": {},
   "source": [
    "### Q2 Design and implement a Python program for managing student information using object-oriented principles. Create a class called 'Student with encapsulated attributes for name, age, and roll number.Implement getter and setter methods for these attributes. Additionally, provide methods to display student information and update student details.\n",
    "\n",
    "* Tasks\n",
    "    * • Define the 'Student' class with encapsulated attributes.\n",
    "    * • Implement getter and setter methods for the attributes.\n",
    "    * • Write methods to display student information and update details.\n",
    "    * • Create instances of the 'Student class and test the implemented functionality."
   ]
  },
  {
   "cell_type": "code",
   "execution_count": 1,
   "metadata": {},
   "outputs": [],
   "source": [
    "class Student:\n",
    "    \n",
    "    def __init__(self, name: str, age: int, roll_no):\n",
    "        self.__name = name\n",
    "        self.__age = age\n",
    "        self.__roll_no =roll_no\n",
    "        \n",
    "    def get_name(self):\n",
    "        return self.__name \n",
    "    \n",
    "    def set_name(self, name):\n",
    "        self__name = name\n",
    "    \n",
    "    def get_age(self):\n",
    "        return self.__age \n",
    "    \n",
    "    def set_age(self, age):\n",
    "        self.__age = age\n",
    "    \n",
    "    def get_roll_no(self):\n",
    "        return self.__roll_no\n",
    "    \n",
    "    def set_roll_no(self, roll_no):\n",
    "        self.__roll_no = roll_no\n",
    "        \n",
    "    def display_student_info(self):\n",
    "        print(f\"Name: {self.__name}\")\n",
    "        print(f\"Age: {self.__age}\")\n",
    "        print(f\"Roll No: {self.__roll_no}\")\n",
    "        \n",
    "    def update_student_details(self, name=None, age=None, roll_no=None):\n",
    "        if name is not None:\n",
    "            self.__name = name\n",
    "        if age is not None:\n",
    "            self.__age = age\n",
    "        if roll_no is not None:\n",
    "            self.__roll_number = roll_no\n",
    "        "
   ]
  },
  {
   "cell_type": "code",
   "execution_count": 2,
   "metadata": {},
   "outputs": [],
   "source": [
    "stu1 = Student(\"Areej\", 19, \"19BCS009\")\n",
    "stu2 = Student(\"Ahmad\", 20, \"20BEC010\")"
   ]
  },
  {
   "cell_type": "code",
   "execution_count": 3,
   "metadata": {},
   "outputs": [
    {
     "name": "stdout",
     "output_type": "stream",
     "text": [
      "Initial Student Information:\n",
      "Name: Areej\n",
      "Age: 19\n",
      "Roll No: 19BCS009\n",
      "----------------------------------------------\n",
      "Name: Ahmad\n",
      "Age: 20\n",
      "Roll No: 20BEC010\n"
     ]
    }
   ],
   "source": [
    "print(\"Initial Student Information:\")\n",
    "stu1.display_student_info()\n",
    "print(\"----------------------------------------------\")\n",
    "stu2.display_student_info()"
   ]
  },
  {
   "cell_type": "code",
   "execution_count": 4,
   "metadata": {},
   "outputs": [],
   "source": [
    "stu1.set_name(\"kenobi\")\n",
    "stu1.set_age(34)\n",
    "stu1.set_roll_no(\"222BCE\")"
   ]
  },
  {
   "cell_type": "code",
   "execution_count": 5,
   "metadata": {},
   "outputs": [],
   "source": [
    "stu2.update_student_details(name=\"Anakin\", age=23)"
   ]
  },
  {
   "cell_type": "code",
   "execution_count": 6,
   "metadata": {},
   "outputs": [
    {
     "name": "stdout",
     "output_type": "stream",
     "text": [
      "\n",
      "Updated Student Information:\n",
      "Name: Areej\n",
      "Age: 34\n",
      "Roll No: 222BCE\n",
      "----------------------------------------------\n",
      "Name: Anakin\n",
      "Age: 23\n",
      "Roll No: 20BEC010\n"
     ]
    }
   ],
   "source": [
    "print(\"\\nUpdated Student Information:\")\n",
    "stu1.display_student_info()\n",
    "print(\"----------------------------------------------\")\n",
    "stu2.display_student_info()"
   ]
  },
  {
   "cell_type": "markdown",
   "metadata": {},
   "source": [
    "### Q3.Develop a Python program for managing library resources efficiently. Design a class named 'Library Book with attributes like book name, author, and availability status. Implement methods for borrowing and returning books while ensuring proper encapsulation of attributes.\n",
    "* Tasks:\n",
    "    * • 1. Create the LibraryBook class with encapsulated attributes.\n",
    "    * • 2. Implement methods for borrowing and returning books.\n",
    "    * • 3. Ensure proper encapsulation to protect book details.\n",
    "    * • 4. Test the borrowing and returning functionality with sample data."
   ]
  },
  {
   "cell_type": "code",
   "execution_count": 7,
   "metadata": {},
   "outputs": [],
   "source": [
    "class Library:\n",
    "    def __init__(self, book_name: str, author: str, status: bool = True):\n",
    "        self.__bookname = book_name\n",
    "        self.__author = author\n",
    "        self.__availability  = status\n",
    "        \n",
    "    def get_book_name(self):\n",
    "        return self.__bookname\n",
    "    \n",
    "    def get_book_author(self):\n",
    "        return self.__author\n",
    "    \n",
    "    def is_available(self):\n",
    "        return self.__availability\n",
    "    \n",
    "    def borrow_book(self):\n",
    "        if self.__availability:\n",
    "            self.__availability = False\n",
    "            print(f\"You have successfully borrowed '{self.__bookname}' by {self.__author}.\")\n",
    "            \n",
    "        else:\n",
    "            print(f\"Sorry, '{self.__bookname}' by {self.__author} is currently unavailable.\")\n",
    "            \n",
    "    def return_book(self):\n",
    "        if not self.__availability:\n",
    "            self.__availability = True\n",
    "            print(f\"You have successfully returned '{self.__bookname}' by {self.__author}.\")\n",
    "        else:\n",
    "            print(f\"'{self.__bookname}' by {self.__author} was not borrowed.\")\n",
    "            \n",
    "    def display_book_info(self):\n",
    "        availability_status = \"Available\" if self.__availability else \"Not Avilable\"\n",
    "        print(f\"Book name: {self.__bookname}\")\n",
    "        print(f'Author: {self.__author}')\n",
    "        print(f\"Availability: {availability_status}\")                 "
   ]
  },
  {
   "cell_type": "code",
   "execution_count": 8,
   "metadata": {},
   "outputs": [],
   "source": [
    "book1 = Library(\"LOTR: ROFTK\", \"J.R.R Tolkien\")\n",
    "book2 = Library(\"Harry Potter: Order of Phoniex\", \"J.K Rowling\")"
   ]
  },
  {
   "cell_type": "code",
   "execution_count": 9,
   "metadata": {},
   "outputs": [
    {
     "name": "stdout",
     "output_type": "stream",
     "text": [
      "Initial Book Information:\n",
      "----------------***********--------------------\n",
      "Book name: LOTR: ROFTK\n",
      "Author: J.R.R Tolkien\n",
      "Availability: Available\n",
      "-------------------------------------------\n",
      "Book name: Harry Potter: Order of Phoniex\n",
      "Author: J.K Rowling\n",
      "Availability: Available\n"
     ]
    }
   ],
   "source": [
    "print(\"Initial Book Information:\")\n",
    "print(\"----------------***********--------------------\")\n",
    "\n",
    "book1.display_book_info()\n",
    "print(\"-------------------------------------------\")\n",
    "book2.display_book_info()"
   ]
  },
  {
   "cell_type": "code",
   "execution_count": 10,
   "metadata": {},
   "outputs": [
    {
     "name": "stdout",
     "output_type": "stream",
     "text": [
      "\n",
      "Borrowing Books:\n",
      "----------------***********--------------------\n",
      "You have successfully borrowed 'LOTR: ROFTK' by J.R.R Tolkien.\n",
      "----------------------------------------\n",
      "You have successfully borrowed 'Harry Potter: Order of Phoniex' by J.K Rowling.\n"
     ]
    }
   ],
   "source": [
    "print(\"\\nBorrowing Books:\")\n",
    "print(\"----------------***********--------------------\")\n",
    "\n",
    "book1.borrow_book()\n",
    "print(\"----------------------------------------\")\n",
    "book2.borrow_book()"
   ]
  },
  {
   "cell_type": "code",
   "execution_count": 11,
   "metadata": {},
   "outputs": [
    {
     "name": "stdout",
     "output_type": "stream",
     "text": [
      "Sorry, 'LOTR: ROFTK' by J.R.R Tolkien is currently unavailable.\n"
     ]
    }
   ],
   "source": [
    "book1.borrow_book()"
   ]
  },
  {
   "cell_type": "code",
   "execution_count": 12,
   "metadata": {},
   "outputs": [
    {
     "name": "stdout",
     "output_type": "stream",
     "text": [
      "\n",
      "Updated Book Information:\n",
      "----------------***********--------------------\n",
      "Book name: LOTR: ROFTK\n",
      "Author: J.R.R Tolkien\n",
      "Availability: Not Avilable\n",
      "-------------------------------------------\n",
      "Book name: Harry Potter: Order of Phoniex\n",
      "Author: J.K Rowling\n",
      "Availability: Not Avilable\n"
     ]
    }
   ],
   "source": [
    "print(\"\\nUpdated Book Information:\")\n",
    "print(\"----------------***********--------------------\")\n",
    "book1.display_book_info()\n",
    "print(\"-------------------------------------------\")\n",
    "book2.display_book_info()"
   ]
  },
  {
   "cell_type": "code",
   "execution_count": 13,
   "metadata": {},
   "outputs": [
    {
     "name": "stdout",
     "output_type": "stream",
     "text": [
      "\n",
      "Returning Books:\n",
      "----------------***********--------------------\n",
      "You have successfully returned 'LOTR: ROFTK' by J.R.R Tolkien.\n",
      "You have successfully returned 'Harry Potter: Order of Phoniex' by J.K Rowling.\n"
     ]
    }
   ],
   "source": [
    "print(\"\\nReturning Books:\")\n",
    "print(\"----------------***********--------------------\")\n",
    "book1.return_book()\n",
    "book2.return_book()"
   ]
  },
  {
   "cell_type": "code",
   "execution_count": 14,
   "metadata": {},
   "outputs": [
    {
     "name": "stdout",
     "output_type": "stream",
     "text": [
      "'LOTR: ROFTK' by J.R.R Tolkien was not borrowed.\n"
     ]
    }
   ],
   "source": [
    "book1.return_book()"
   ]
  },
  {
   "cell_type": "code",
   "execution_count": 15,
   "metadata": {},
   "outputs": [
    {
     "name": "stdout",
     "output_type": "stream",
     "text": [
      "\n",
      "Final Book Information:\n",
      "----------------***********--------------------\n",
      "Book name: LOTR: ROFTK\n",
      "Author: J.R.R Tolkien\n",
      "Availability: Available\n",
      "-------------------------------------------\n",
      "Book name: Harry Potter: Order of Phoniex\n",
      "Author: J.K Rowling\n",
      "Availability: Available\n"
     ]
    }
   ],
   "source": [
    "print(\"\\nFinal Book Information:\")\n",
    "print(\"----------------***********--------------------\")\n",
    "\n",
    "book1.display_book_info()\n",
    "print(\"-------------------------------------------\")\n",
    "book2.display_book_info()"
   ]
  },
  {
   "cell_type": "markdown",
   "metadata": {},
   "source": [
    "### Q4.Create a simple banking system using object-oriented concepts in Python. Design classes representing different types of bank accounts such as savings and checking. Implement methods for deposit, withdraw, and balance inquiry. Utilize inheritance to manage different account types efficiently.\n",
    "\n",
    "* Tasks:\n",
    "    * • 1. Define base class(es) for bank accounts with common attributes and methods.\n",
    "    * • 2. Implement subclasses for specific account types (e.g., SavingsAccount,   CheckingAccount).\n",
    "    * • 3. Provide methods for deposit, withdraw, and balance inquiry in each subclass.\n",
    "    * • 4. Test the banking system by creating instances of different account types and performing transactions."
   ]
  },
  {
   "cell_type": "code",
   "execution_count": 16,
   "metadata": {},
   "outputs": [],
   "source": [
    "class BankAccount:\n",
    "    def __init__(self, account_number: str, account_holder: str, balance: float = 0.0):\n",
    "        self.__account_number = account_number\n",
    "        self.__account_holder = account_holder\n",
    "        self.__balance = balance\n",
    "\n",
    "    def deposit(self, amount: float):\n",
    "        if amount > 0:\n",
    "            self.__balance += amount\n",
    "            print(f\"Deposited Rs.{amount:.2f}. New balance: Rs.{self.__balance:.2f}.\")\n",
    "        else:\n",
    "            print(\"Deposit amount must be positive.\")\n",
    "\n",
    "    def withdraw(self, amount: float):\n",
    "        if 0 < amount <= self.__balance:\n",
    "            self.__balance -= amount\n",
    "            print(f\"Withdrew Rs.{amount:.2f}. New balance: Rs.{self.__balance:.2f}.\")\n",
    "        else:\n",
    "            print(\"Insufficient balance or invalid amount.\")\n",
    "\n",
    "    def inquire_balance(self):\n",
    "        return self.__balance\n",
    "\n",
    "    def display_account_info(self):\n",
    "        print(f\"Account Number: {self.__account_number}\")\n",
    "        print(f\"Account Holder: {self.__account_holder}\")\n",
    "        print(f\"Balance: Rs.{self.__balance:.2f}\")"
   ]
  },
  {
   "cell_type": "code",
   "execution_count": 17,
   "metadata": {},
   "outputs": [],
   "source": [
    "class SavingsAccount(BankAccount):\n",
    "    def __init__(self, account_number: str, account_holder: str, balance: float = 0.0, interest_rate: float = 0.01):\n",
    "        super().__init__(account_number, account_holder, balance)\n",
    "        self.__interest_rate = interest_rate\n",
    "\n",
    "    def apply_interest(self):\n",
    "        interest = self.inquire_balance() * self.__interest_rate\n",
    "        self.deposit(interest)\n",
    "        print(f\"Interest of Rs.{interest:.2f} applied. New balance: Rs.{self.inquire_balance():.2f}.\")\n",
    "\n",
    "class CheckingAccount(BankAccount):\n",
    "    def __init__(self, account_number: str, account_holder: str, balance: float = 0.0, overdraft_limit: float = 0.0):\n",
    "        super().__init__(account_number, account_holder, balance)\n",
    "        self.__overdraft_limit = overdraft_limit\n",
    "\n",
    "    def withdraw(self, amount: float):\n",
    "        if amount > 0 and self.inquire_balance() + self.__overdraft_limit >= amount:\n",
    "            self._BankAccount__balance -= amount \n",
    "            print(f\"Withdrew Rs.{amount:.2f}. New balance: Rs.{self.inquire_balance():.2f}.\")\n",
    "        else:\n",
    "            print(\"Insufficient balance and overdraft limit or invalid amount.\")"
   ]
  },
  {
   "cell_type": "code",
   "execution_count": 18,
   "metadata": {},
   "outputs": [
    {
     "name": "stdout",
     "output_type": "stream",
     "text": [
      "Savings Account Information:\n",
      "Account Number: 10293GHY\n",
      "Account Holder: Ahmad\n",
      "Balance: Rs.1000.00\n",
      "Deposited Rs.200.00. New balance: Rs.1200.00.\n",
      "Withdrew Rs.150.00. New balance: Rs.1050.00.\n",
      "Deposited Rs.52.50. New balance: Rs.1102.50.\n",
      "Interest of Rs.52.50 applied. New balance: Rs.1102.50.\n",
      "Final balance: Rs.1102.50\n",
      "\n"
     ]
    }
   ],
   "source": [
    "\n",
    "savings_account = SavingsAccount(\"10293GHY\", \"Ahmad\", 1000.0, 0.05)\n",
    "print(\"Savings Account Information:\")\n",
    "savings_account.display_account_info()\n",
    "savings_account.deposit(200)\n",
    "savings_account.withdraw(150)\n",
    "savings_account.apply_interest()\n",
    "print(f\"Final balance: Rs.{savings_account.inquire_balance():.2f}\\n\")\n",
    "\n"
   ]
  },
  {
   "cell_type": "code",
   "execution_count": 19,
   "metadata": {},
   "outputs": [
    {
     "name": "stdout",
     "output_type": "stream",
     "text": [
      "Checking Account Information:\n",
      "Account Number: 639382392HHK\n",
      "Account Holder: Kenobi\n",
      "Balance: Rs.500.00\n",
      "Deposited Rs.300.00. New balance: Rs.800.00.\n",
      "Withdrew Rs.700.00. New balance: Rs.100.00.\n",
      "Withdrew Rs.100.00. New balance: Rs.0.00.\n",
      "Final balance: Rs.0.00\n",
      "\n"
     ]
    }
   ],
   "source": [
    "\n",
    "checking_account = CheckingAccount(\"639382392HHK\", \"Kenobi\", 500.0, 200.0)\n",
    "print(\"Checking Account Information:\")\n",
    "checking_account.display_account_info()\n",
    "checking_account.deposit(300)\n",
    "checking_account.withdraw(700)  \n",
    "checking_account.withdraw(100) \n",
    "print(f\"Final balance: Rs.{checking_account.inquire_balance():.2f}\\n\")"
   ]
  },
  {
   "cell_type": "markdown",
   "metadata": {},
   "source": [
    "### Q5. Write a Python program that models different animals and their sounds. Design a base class called `Animal' with a method 'make_sound()`. Create subclasses like 'Dog and Cat that override the `make_sound() method to produce appropriate sounds.\n",
    "* Tasks:\n",
    "    *  1. Define the \"Animal' class with a method 'make_sound().\n",
    "    *  2. Create subclasses 'Dog' and 'Cat' that override the 'make_sound() method.\n",
    "    *  3. Implement the sound generation logic for each subclass.\n",
    "    *  4. Test the program by creating instances of \"Dog' and 'Cat and calling the       'make_sound() method."
   ]
  },
  {
   "cell_type": "code",
   "execution_count": 20,
   "metadata": {},
   "outputs": [],
   "source": [
    "class Animal:\n",
    "    def make_sound(self):\n",
    "        pass\n",
    "    \n",
    "class Dog(Animal):\n",
    "    def make_sound(self):\n",
    "        print('WOOF! WOOF!')\n",
    "        \n",
    "class Cat(Animal):\n",
    "    def make_sound(self):\n",
    "        print(\"Meow!\")\n"
   ]
  },
  {
   "cell_type": "code",
   "execution_count": 21,
   "metadata": {},
   "outputs": [
    {
     "name": "stdout",
     "output_type": "stream",
     "text": [
      "WOOF! WOOF!\n"
     ]
    }
   ],
   "source": [
    "dog = Dog()\n",
    "dog.make_sound()"
   ]
  },
  {
   "cell_type": "code",
   "execution_count": 22,
   "metadata": {},
   "outputs": [
    {
     "name": "stdout",
     "output_type": "stream",
     "text": [
      "Meow!\n"
     ]
    }
   ],
   "source": [
    "cat = Cat()\n",
    "cat.make_sound()"
   ]
  },
  {
   "cell_type": "markdown",
   "metadata": {},
   "source": [
    "### Q6. Write a code for Restaurant Management System Using OOPS:\n",
    "\n",
    "* • Create a Menultem class that has attributes such as name, description, price, and category.\n",
    "* • Implement methods to add a new menu item, update menu item information, and remove a menu item from the menu.\n",
    "* • Use encapsulation to hide the menu item's unique identification number.\n",
    "* • Inherit from the Menultem class to create a Fooditem class and a Beverageltem class, each with their own specific attributes and methods.\n"
   ]
  },
  {
   "cell_type": "code",
   "execution_count": 23,
   "metadata": {},
   "outputs": [],
   "source": [
    "class MenuItem:\n",
    "    _id_counter = 1  # Class attribute for unique ID generation\n",
    "\n",
    "    def __init__(self, name, description, price, category):\n",
    "        self.__id = MenuItem._id_counter  # Encapsulated unique ID\n",
    "        MenuItem._id_counter += 1\n",
    "        self.name = name\n",
    "        self.description = description\n",
    "        self.price = price\n",
    "        self.category = category\n",
    "\n",
    "    def get_id(self):\n",
    "        return self.__id\n",
    "\n",
    "    def update_info(self, name=None, description=None, price=None, category=None):\n",
    "        if name:\n",
    "            self.name = name\n",
    "        if description:\n",
    "            self.description = description\n",
    "        if price:\n",
    "            self.price = price\n",
    "        if category:\n",
    "            self.category = category\n",
    "\n",
    "    def __str__(self):\n",
    "        return f\"ID: {self.__id}, Name: {self.name}, Description: {self.description}, Price: ${self.price:.2f}, Category: {self.category}\"\n",
    "\n",
    "\n",
    "class FoodItem(MenuItem):\n",
    "    def __init__(self, name, description, price, category, is_vegan=False):\n",
    "        super().__init__(name, description, price, category)\n",
    "        self.is_vegan = is_vegan\n",
    "\n",
    "    def update_info(self, name=None, description=None, price=None, category=None, is_vegan=None):\n",
    "        super().update_info(name, description, price, category)\n",
    "        if is_vegan is not None:\n",
    "            self.is_vegan = is_vegan\n",
    "\n",
    "    def __str__(self):\n",
    "        vegan_status = \"Vegan\" if self.is_vegan else \"Non-Vegan\"\n",
    "        return super().__str__() + f\", {vegan_status}\"\n",
    "\n",
    "\n",
    "class BeverageItem(MenuItem):\n",
    "    def __init__(self, name, description, price, category, is_alcoholic=False):\n",
    "        super().__init__(name, description, price, category)\n",
    "        self.is_alcoholic = is_alcoholic\n",
    "\n",
    "    def update_info(self, name=None, description=None, price=None, category=None, is_alcoholic=None):\n",
    "        super().update_info(name, description, price, category)\n",
    "        if is_alcoholic is not None:\n",
    "            self.is_alcoholic = is_alcoholic\n",
    "\n",
    "    def __str__(self):\n",
    "        alcohol_status = \"Alcoholic\" if self.is_alcoholic else \"Non-Alcoholic\"\n",
    "        return super().__str__() + f\", {alcohol_status}\"\n",
    "\n",
    "\n",
    "class Menu:\n",
    "    def __init__(self):\n",
    "        self.items = []\n",
    "\n",
    "    def add_item(self, item):\n",
    "        self.items.append(item)\n",
    "        print(f\"Item '{item.name}' added to the menu.\")\n",
    "\n",
    "    def remove_item(self, item_id):\n",
    "        for item in self.items:\n",
    "            if item.get_id() == item_id:\n",
    "                self.items.remove(item)\n",
    "                print(f\"Item '{item.name}' removed from the menu.\")\n",
    "                return\n",
    "        print(f\"No item found with ID: {item_id}\")\n",
    "\n",
    "    def update_item(self, item_id, **kwargs):\n",
    "        for item in self.items:\n",
    "            if item.get_id() == item_id:\n",
    "                item.update_info(**kwargs)\n",
    "                print(f\"Item '{item.name}' updated.\")\n",
    "                return\n",
    "        print(f\"No item found with ID: {item_id}\")\n",
    "\n",
    "    def display_menu(self):\n",
    "        for item in self.items:\n",
    "            print(item)"
   ]
  },
  {
   "cell_type": "code",
   "execution_count": 24,
   "metadata": {},
   "outputs": [],
   "source": [
    "menu = Menu()\n",
    "\n",
    "item1 = FoodItem(name=\"Pasta\", description=\"pasta from sicily\",\n",
    "                 price= 145, category=\"Main Course,\", is_vegan=False)\n",
    "\n",
    "item2 = BeverageItem(name=\"Coca Cola\", description=\"Chilled soft drink\",\n",
    "                     price=1.99, category=\"Drinks\", is_alcoholic=False)"
   ]
  },
  {
   "cell_type": "code",
   "execution_count": 25,
   "metadata": {},
   "outputs": [
    {
     "name": "stdout",
     "output_type": "stream",
     "text": [
      "Item 'Pasta' added to the menu.\n",
      "Item 'Coca Cola' added to the menu.\n"
     ]
    }
   ],
   "source": [
    "menu.add_item(item1)\n",
    "menu.add_item(item2)"
   ]
  },
  {
   "cell_type": "code",
   "execution_count": 26,
   "metadata": {},
   "outputs": [
    {
     "name": "stdout",
     "output_type": "stream",
     "text": [
      "\n",
      "Menu:\n",
      "ID: 1, Name: Pasta, Description: pasta from sicily, Price: $145.00, Category: Main Course,, Non-Vegan\n",
      "ID: 2, Name: Coca Cola, Description: Chilled soft drink, Price: $1.99, Category: Drinks, Non-Alcoholic\n"
     ]
    }
   ],
   "source": [
    "print(\"\\nMenu:\")\n",
    "menu.display_menu()\n"
   ]
  },
  {
   "cell_type": "code",
   "execution_count": 27,
   "metadata": {},
   "outputs": [
    {
     "name": "stdout",
     "output_type": "stream",
     "text": [
      "Item 'Pasta' updated.\n"
     ]
    }
   ],
   "source": [
    "menu.update_item(item1.get_id(), price=13.99, is_vegan=True)"
   ]
  },
  {
   "cell_type": "code",
   "execution_count": 28,
   "metadata": {},
   "outputs": [
    {
     "name": "stdout",
     "output_type": "stream",
     "text": [
      "Item 'Coca Cola' removed from the menu.\n"
     ]
    }
   ],
   "source": [
    "menu.remove_item(item2.get_id())"
   ]
  },
  {
   "cell_type": "code",
   "execution_count": 30,
   "metadata": {},
   "outputs": [
    {
     "name": "stdout",
     "output_type": "stream",
     "text": [
      "\n",
      "Updated Menu:\n",
      "ID: 1, Name: Pasta, Description: pasta from sicily, Price: $13.99, Category: Main Course,, Vegan\n"
     ]
    }
   ],
   "source": [
    "print(\"\\nUpdated Menu:\")\n",
    "menu.display_menu()"
   ]
  },
  {
   "cell_type": "markdown",
   "metadata": {},
   "source": [
    "### Q7 "
   ]
  },
  {
   "cell_type": "code",
   "execution_count": null,
   "metadata": {},
   "outputs": [],
   "source": []
  }
 ],
 "metadata": {
  "kernelspec": {
   "display_name": "Python 3",
   "language": "python",
   "name": "python3"
  },
  "language_info": {
   "codemirror_mode": {
    "name": "ipython",
    "version": 3
   },
   "file_extension": ".py",
   "mimetype": "text/x-python",
   "name": "python",
   "nbconvert_exporter": "python",
   "pygments_lexer": "ipython3",
   "version": "3.10.9"
  }
 },
 "nbformat": 4,
 "nbformat_minor": 2
}
