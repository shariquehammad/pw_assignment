{
 "cells": [
  {
   "cell_type": "markdown",
   "metadata": {},
   "source": [
    "### 1. Given an array, check if it contains any duplicates or not.\n",
    " `arr = [1, 2, 4, 2, 5, 9]`\n",
    " `Output = True` \n",
    "\n",
    "* Time Complexity: O(n^2) --> two nested loops are used\n",
    "* Space Complexity: O(1)  --> No extra data structure is used"
   ]
  },
  {
   "cell_type": "code",
   "execution_count": 1,
   "metadata": {},
   "outputs": [
    {
     "name": "stdout",
     "output_type": "stream",
     "text": [
      "True\n"
     ]
    }
   ],
   "source": [
    "def duplicate_check(arr):\n",
    "    n = len(arr)\n",
    "    for i in range(n):\n",
    "        for j in range(i+1, n):\n",
    "            if arr[i] == arr[j]:\n",
    "                return True\n",
    "            \n",
    "    return False\n",
    "\n",
    "arr = [1, 2, 4, 2, 5, 9]\n",
    "print(duplicate_check(arr))"
   ]
  },
  {
   "cell_type": "markdown",
   "metadata": {},
   "source": [
    "### 2. Given an array and an integer k, rotate the array to the right by k steps.\n",
    "\n",
    "`arr = [1, 2, 3, 4, 5, 6, 7] k = 3`\n",
    "`Output = [5, 6, 7, 1, 2, 3, 4]`\n",
    "\n",
    "* Time Complexity : O(n)\n",
    "* Space Complexity : O(1)"
   ]
  },
  {
   "cell_type": "code",
   "execution_count": 3,
   "metadata": {},
   "outputs": [
    {
     "name": "stdout",
     "output_type": "stream",
     "text": [
      "[5, 6, 7, 1, 2, 3, 4]\n"
     ]
    }
   ],
   "source": [
    "def rotation_of_array(arr, k):\n",
    "    k = k%len(arr)\n",
    "    arr = arr[-k: ] + arr[: -k]\n",
    "    return arr\n",
    "\n",
    "arr = [1, 2, 3, 4, 5, 6, 7]\n",
    "k = 3\n",
    "print(rotation_of_array(arr, k))"
   ]
  },
  {
   "cell_type": "markdown",
   "metadata": {},
   "source": [
    "### 3. Reverse the given array in-place, means without using any extra data structure.\n",
    "`arr = [2, 4, 5, 7, 9, 12]`\n",
    "`Output = [12, 9, 7, 5, 4, 2]`\n",
    "\n",
    "* Time Complexity : O(n) --> only a single iteration through array\n",
    "* Space Complexity : O(1) --> no extra data structure is used"
   ]
  },
  {
   "cell_type": "code",
   "execution_count": 9,
   "metadata": {},
   "outputs": [
    {
     "name": "stdout",
     "output_type": "stream",
     "text": [
      "[12, 9, 7, 5, 4, 2]\n"
     ]
    }
   ],
   "source": [
    "def reverse_array(arr):\n",
    "    n = len(arr)\n",
    "    start = 0\n",
    "    end = n-1\n",
    "    while start < end:\n",
    "        arr[start], arr[end] = arr[end], arr[start]\n",
    "        start += 1\n",
    "        end -= 1\n",
    "        \n",
    "    return arr\n",
    "arr = [2, 4, 5, 7, 9, 12]\n",
    "print(reverse_array(arr))\n",
    "       \n",
    "    "
   ]
  },
  {
   "cell_type": "markdown",
   "metadata": {},
   "source": [
    "### 4. Given an array of integers, find the maximum element in an array\n",
    "`arr = [10, 5, 20, 8, 15]`\n",
    "`Output = 20`\n",
    "\n",
    "* Time Complexity : O(n)\n",
    "* Space Complexity : O(1)"
   ]
  },
  {
   "cell_type": "code",
   "execution_count": 11,
   "metadata": {},
   "outputs": [
    {
     "name": "stdout",
     "output_type": "stream",
     "text": [
      "20\n"
     ]
    }
   ],
   "source": [
    "def max_element(arr):\n",
    "    temp = 0 # temp will save the max element\n",
    "    for i in arr:\n",
    "        if i > temp:\n",
    "            temp = i\n",
    "    return temp\n",
    "\n",
    "arr = [10, 5, 20, 8, 15]\n",
    "print(max_element(arr))"
   ]
  },
  {
   "cell_type": "markdown",
   "metadata": {},
   "source": [
    "### 5. Given a sorted array, remove the duplicate element without using any extra data structure.\n",
    "\n",
    "`arr = [1, 1, 2, 2, 2, 3, 3, 4, 4, 4, 5, 5]`\n",
    "`Output: [1, 2, 3, 4, 5]`\n",
    "\n",
    "* Time Complexity : O(n)\n",
    "* Space Complexity : O(1)\n",
    "\n",
    "* Explaination - It goes through the sorted array, using a special index to remember the unique index. Whenever it stumbles upon a fresh unique element, it shifts it to the next available spot And after complition delets the rest of duplicates elements"
   ]
  },
  {
   "cell_type": "code",
   "execution_count": 1,
   "metadata": {},
   "outputs": [
    {
     "name": "stdout",
     "output_type": "stream",
     "text": [
      "[1, 2, 3, 4, 5]\n"
     ]
    }
   ],
   "source": [
    "def remove_duplicate_element(arr):\n",
    "    if not arr:\n",
    "        return 0  # Empty array, no duplicates\n",
    "\n",
    "    unique_index = 0  # Index to track the unique elements\n",
    "\n",
    "    for i in range(1, len(arr)):\n",
    "        if arr[i] != arr[unique_index]:\n",
    "            unique_index += 1\n",
    "            arr[unique_index] = arr[i]\n",
    "\n",
    "    del arr[unique_index+1:]\n",
    "    \n",
    "    \n",
    "arr = [1, 1, 2, 2, 2, 3, 3, 4, 4, 4, 5, 5]\n",
    "remove_duplicate_element(arr)\n",
    "print(arr)"
   ]
  },
  {
   "cell_type": "code",
   "execution_count": null,
   "metadata": {},
   "outputs": [],
   "source": []
  }
 ],
 "metadata": {
  "kernelspec": {
   "display_name": "Python 3",
   "language": "python",
   "name": "python3"
  },
  "language_info": {
   "codemirror_mode": {
    "name": "ipython",
    "version": 3
   },
   "file_extension": ".py",
   "mimetype": "text/x-python",
   "name": "python",
   "nbconvert_exporter": "python",
   "pygments_lexer": "ipython3",
   "version": "3.10.9"
  }
 },
 "nbformat": 4,
 "nbformat_minor": 2
}
